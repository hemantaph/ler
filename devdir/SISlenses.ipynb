{
 "cells": [
  {
   "cell_type": "code",
   "execution_count": 1,
   "metadata": {},
   "outputs": [
    {
     "name": "stdout",
     "output_type": "stream",
     "text": [
      "Setting multiprocessing start method to 'fork'\n"
     ]
    }
   ],
   "source": [
    "from ler.rates import LeR\n",
    "from ler.utils import get_param_from_json\n",
    "import numpy as np\n",
    "import matplotlib.pyplot as plt\n",
    "\n",
    "# other necessary imports\n",
    "from astropy.cosmology import LambdaCDM"
   ]
  },
  {
   "cell_type": "code",
   "execution_count": 4,
   "metadata": {},
   "outputs": [],
   "source": [
    "# for checking all available model functions\n",
    "ler = LeR(verbose=False);"
   ]
  },
  {
   "cell_type": "code",
   "execution_count": 9,
   "metadata": {},
   "outputs": [
    {
     "name": "stdout",
     "output_type": "stream",
     "text": [
      "Available optical functions: \n",
      "dict_keys(['optical_depth_SIS_haris', 'optical_depth_SIS_hemanta', 'optical_depth_SIE_hemanta'])\n",
      "Available velocity dispersion functions: \n",
      "dict_keys(['velocity_dispersion_haris', 'velocity_dispersion_gengamma', 'velocity_dispersion_bernardi', 'velocity_dispersion_ewoud'])\n"
     ]
    }
   ],
   "source": [
    "# for checking all available model functions\n",
    "print(f'Available optical functions: \\n{ler.available_optical_depth_list_and_its_params.keys()}')\n",
    "print(f'Available velocity dispersion functions: \\n{ler.available_velocity_dispersion_list_and_its_params.keys()}')"
   ]
  },
  {
   "cell_type": "code",
   "execution_count": 36,
   "metadata": {},
   "outputs": [],
   "source": [
    "# For SIS\n",
    "def sample_axis_ratio(sigma):\n",
    "    return np.zeros_like(sigma)\n",
    "\n",
    "def sample_axis_rotation_angle(size):\n",
    "    return np.zeros(size)\n",
    "\n",
    "def sample_shear(size):\n",
    "    return np.zeros((2,size))\n",
    "\n",
    "def sample_density_profile_slope(size):\n",
    "    return np.ones(size)*(2.0)"
   ]
  },
  {
   "cell_type": "code",
   "execution_count": 37,
   "metadata": {},
   "outputs": [],
   "source": [
    "# Complete setup for LeR\n",
    "\n",
    "ler = LeR(\n",
    "    # LeR setup arguments\n",
    "    npool=8, # number of processors to use\n",
    "    z_min=0.0, # minimum redshift\n",
    "    z_max=10.0, # maximum redshift\n",
    "    event_type='BBH', # event type\n",
    "    size=100000, # number of events to simulate\n",
    "    batch_size=50000, # batch size\n",
    "    cosmology=LambdaCDM(H0=70, Om0=0.3, Ode0=0.7), # cosmology\n",
    "    snr_finder=None, # snr calculator from 'gwsnr' package will be used\n",
    "    pdet_finder=None,  # will not be consider unless specified\n",
    "    list_of_detectors=None, # list of detectors that will be considered when calculating snr or pdet for lensed events. if None, all the detectors from 'gwsnr' will be considered\n",
    "    json_file_names=dict(\n",
    "        ler_params=\"ler_params.json\", # to store initialization parameters and important results\n",
    "        unlensed_param=\"unlensed_param.json\", # to store all unlensed events\n",
    "        unlensed_param_detectable=\"unlensed_param_detectable.json\", # to store only detectable unlensed events\n",
    "        lensed_param=\"lensed_param.json\", # to store all lensed events \n",
    "        lensed_param_detectable=\"lensed_param_detectable.json\"), # to store only detectable lensed events\n",
    "    interpolator_directory='./interpolator_pickle', # directory to store the interpolator pickle files. 'ler' uses interpolation to get values of various functions to speed up the calculations (relying on numba njit).\n",
    "    create_new_interpolator = False, # if True, will create new interpolator files\n",
    "    ler_directory='./ler_data', # directory to store all the outputs\n",
    "    verbose=False, # if True, will print all information at initialization\n",
    "\n",
    "    # CBCSourceParameterDistribution class arguments\n",
    "    source_priors= {\n",
    "        'merger_rate_density': 'merger_rate_density_bbh_popI_II_oguri2018', 'source_frame_masses': 'binary_masses_BBH_popI_II_powerlaw_gaussian', 'zs': 'sample_source_redshift', 'geocent_time': 'sampler_uniform', 'ra': 'sampler_uniform', 'dec': 'sampler_cosine', 'phase': 'sampler_uniform', 'psi': 'sampler_uniform', 'theta_jn': 'sampler_sine'\n",
    "        },\n",
    "    source_priors_params= {\n",
    "        'merger_rate_density': {\n",
    "            'R0': 2.39e-08, 'b2': 1.6, 'b3': 2.0, 'b4': 30\n",
    "            }, \n",
    "        'source_frame_masses': {\n",
    "            'mminbh': 4.98, 'mmaxbh': 112.5, 'alpha': 3.78, 'mu_g': 32.27, 'sigma_g': 3.88, 'lambda_peak': 0.03, 'delta_m': 4.8, 'beta': 0.81\n",
    "            }, \n",
    "        'zs': None, \n",
    "        'geocent_time': {\n",
    "            'min_': 1238166018, 'max_': 1269702018\n",
    "            }, \n",
    "        'ra': {\n",
    "            'min_': 0.0, 'max_': 6.283185307179586\n",
    "            }, \n",
    "        'dec': None, \n",
    "        'phase': {\n",
    "            'min_': 0.0, 'max_': 6.283185307179586\n",
    "            }, \n",
    "        'psi': {\n",
    "            'min_': 0.0, 'max_': 3.141592653589793\n",
    "            }, \n",
    "        'theta_jn': None\n",
    "        },\n",
    "    spin_zero= True, # if True, spins will be set to zero\n",
    "    spin_precession= False, # if True, spins will be precessing\n",
    "\n",
    "    # LensGalaxyParameterDistribution class arguments\n",
    "    lens_type = 'epl_shear_galaxy',\n",
    "    lens_functions =  {\n",
    "        'strong_lensing_condition': 'rjs_with_cross_section_SIS',\n",
    "        'optical_depth': 'optical_depth_SIS_haris',  # SIS model is used for optical depth calculation\n",
    "        'param_sampler_type': 'sample_all_routine'\n",
    "        },\n",
    "    lens_priors =  {\n",
    "        'source_redshift_sl': 'strongly_lensed_source_redshifts', \n",
    "        'lens_redshift': 'lens_redshift_SDSS_catalogue', \n",
    "        'velocity_dispersion': 'velocity_dispersion_gengamma', # Haris et al. 2018\n",
    "        'axis_ratio': sample_axis_ratio,  # for SIS \n",
    "        'axis_rotation_angle': sample_axis_rotation_angle,  # for SIS  \n",
    "        'external_shear': sample_shear,  # for SIS\n",
    "        'density_profile_slope': sample_density_profile_slope,  # for SIS\n",
    "        'source_parameters': 'sample_gw_parameters'\n",
    "        },\n",
    "    lens_priors_params =  {\n",
    "        'source_redshift_sl': None, \n",
    "        'lens_redshift': None, \n",
    "        'velocity_dispersion': {\n",
    "            'vd_min':10., 'vd_max':350.\n",
    "            }, \n",
    "        'axis_ratio': None, \n",
    "        'axis_rotation_angle': None, \n",
    "        'external_shear': None, \n",
    "        'density_profile_slope': None,\n",
    "        },\n",
    "\n",
    "    # ImageProperties class arguments\n",
    "    n_min_images = 2,\n",
    "    n_max_images = 4,\n",
    "    geocent_time_min = 1238166018,\n",
    "    geocent_time_max = 1269702018,\n",
    "    # lens_model_list = ['EPL_NUMBA', 'SHEAR'],  \n",
    "\n",
    "    # gwsnr package arguments\n",
    "    mtot_min = 2.0,\n",
    "    mtot_max = 184.98599853446768,\n",
    "    ratio_min = 0.1,\n",
    "    ratio_max = 1.0,\n",
    "    # mtot_resolution = 500,\n",
    "    # ratio_resolution = 50,\n",
    "    sampling_frequency = 2048.0,\n",
    "    waveform_approximant = 'IMRPhenomXPHM',\n",
    "    minimum_frequency = 20.0,\n",
    "    snr_type = 'inner_product',\n",
    "    psds = {'L1':'aLIGO_O4_high_asd.txt','H1':'aLIGO_O4_high_asd.txt', 'V1':'AdV_asd.txt'},\n",
    "    ifos = ['L1', 'H1', 'V1'],\n",
    "    interpolator_dir = './interpolator_pickle',\n",
    "    # gwsnr_verbose = True,\n",
    "    # multiprocessing_verbose = True,\n",
    "    mtot_cut = True,\n",
    ")"
   ]
  },
  {
   "cell_type": "code",
   "execution_count": 34,
   "metadata": {},
   "outputs": [
    {
     "name": "stderr",
     "output_type": "stream",
     "text": [
      "  0%|                                                                     | 0/23135 [00:00<?, ?it/s]"
     ]
    },
    {
     "name": "stdout",
     "output_type": "stream",
     "text": [
      "collected number of detectable events =  573\n"
     ]
    },
    {
     "name": "stderr",
     "output_type": "stream",
     "text": [
      "100%|████████████████████████████████████████████████████████| 23135/23135 [00:26<00:00, 881.61it/s]\n",
      "  0%|                                                                     | 0/23118 [00:00<?, ?it/s]"
     ]
    },
    {
     "name": "stdout",
     "output_type": "stream",
     "text": [
      "given detectability_condition == 'step_function'\n",
      "collected number of detectable events =  693\n",
      "total number of events =  150000\n",
      "total rate (yr^-1): 478.2757823151215\n"
     ]
    },
    {
     "name": "stderr",
     "output_type": "stream",
     "text": [
      "100%|████████████████████████████████████████████████████████| 23118/23118 [00:26<00:00, 887.77it/s]\n",
      "  0%|                                                                     | 0/23092 [00:00<?, ?it/s]"
     ]
    },
    {
     "name": "stdout",
     "output_type": "stream",
     "text": [
      "given detectability_condition == 'step_function'\n",
      "collected number of detectable events =  811\n",
      "total number of events =  175000\n",
      "total rate (yr^-1): 479.7546808380501\n"
     ]
    },
    {
     "name": "stderr",
     "output_type": "stream",
     "text": [
      "100%|████████████████████████████████████████████████████████| 23092/23092 [00:26<00:00, 883.75it/s]\n",
      "  0%|                                                                     | 0/23197 [00:00<?, ?it/s]"
     ]
    },
    {
     "name": "stdout",
     "output_type": "stream",
     "text": [
      "given detectability_condition == 'step_function'\n",
      "collected number of detectable events =  923\n",
      "total number of events =  200000\n",
      "total rate (yr^-1): 477.75816783209643\n"
     ]
    },
    {
     "name": "stderr",
     "output_type": "stream",
     "text": [
      "100%|████████████████████████████████████████████████████████| 23197/23197 [00:26<00:00, 884.85it/s]\n"
     ]
    },
    {
     "name": "stdout",
     "output_type": "stream",
     "text": [
      "given detectability_condition == 'step_function'\n",
      "collected number of detectable events =  1037\n",
      "total number of events =  225000\n",
      "total rate (yr^-1): 477.1255279083992\n",
      "stored detectable unlensed params in ./ler_data/n_unlensed_param_detectable_O4_Jose.json\n",
      "stored meta data in ./ler_data/meta_unlensed_O4_Jose.json\n"
     ]
    }
   ],
   "source": [
    "ler.selecting_n_unlensed_detectable_events(\n",
    "    size=1000,\n",
    "    batch_size=25000,\n",
    "    snr_threshold=10.0,\n",
    "    resume=True,\n",
    "    output_jsonfile='n_unlensed_param_detectable_O4_Jose.json',\n",
    "    meta_data_file='meta_unlensed_O4_Jose.json',\n",
    "    detectability_condition='step_function',\n",
    "    trim_to_size=False,\n",
    ");"
   ]
  },
  {
   "cell_type": "code",
   "execution_count": 39,
   "metadata": {},
   "outputs": [
    {
     "name": "stdout",
     "output_type": "stream",
     "text": [
      "collected number of detectable events =  582\n"
     ]
    },
    {
     "name": "stderr",
     "output_type": "stream",
     "text": [
      "100%|████████████████████████████████████████████████████████| 25000/25000 [00:41<00:00, 606.54it/s]\n",
      "100%|████████████████████████████████████████████████████████| 21899/21899 [00:21<00:00, 999.13it/s]\n",
      "100%|███████████████████████████████████████████████████████| 21879/21879 [00:20<00:00, 1042.72it/s]\n",
      "100%|███████████████████████████████████████████████████████| 21436/21436 [00:19<00:00, 1091.50it/s]\n",
      "100%|██████████████████████████████████████████████████████████████| 57/57 [00:00<00:00, 248.46it/s]\n"
     ]
    },
    {
     "name": "stdout",
     "output_type": "stream",
     "text": [
      "given detectability_condition == step_function\n",
      "collected number of detectable events =  637\n",
      "total number of events =  350000\n",
      "total rate (yr^-1): 0.1839623544246117\n"
     ]
    },
    {
     "name": "stderr",
     "output_type": "stream",
     "text": [
      "100%|████████████████████████████████████████████████████████| 25000/25000 [00:41<00:00, 599.59it/s]\n",
      "100%|███████████████████████████████████████████████████████| 21927/21927 [00:20<00:00, 1090.83it/s]\n",
      "100%|███████████████████████████████████████████████████████| 21909/21909 [00:20<00:00, 1082.35it/s]\n",
      "100%|███████████████████████████████████████████████████████| 21466/21466 [00:19<00:00, 1082.64it/s]\n",
      "100%|██████████████████████████████████████████████████████████████| 59/59 [00:00<00:00, 256.41it/s]\n"
     ]
    },
    {
     "name": "stdout",
     "output_type": "stream",
     "text": [
      "given detectability_condition == step_function\n",
      "collected number of detectable events =  693\n",
      "total number of events =  375000\n",
      "total rate (yr^-1): 0.18679254449268265\n"
     ]
    },
    {
     "name": "stderr",
     "output_type": "stream",
     "text": [
      "100%|████████████████████████████████████████████████████████| 25000/25000 [00:41<00:00, 598.78it/s]\n",
      "100%|███████████████████████████████████████████████████████| 21781/21781 [00:20<00:00, 1080.46it/s]\n",
      "100%|███████████████████████████████████████████████████████| 21750/21750 [00:20<00:00, 1075.50it/s]\n",
      "100%|███████████████████████████████████████████████████████| 21306/21306 [00:19<00:00, 1085.79it/s]\n",
      "100%|██████████████████████████████████████████████████████████████| 53/53 [00:00<00:00, 224.26it/s]\n"
     ]
    },
    {
     "name": "stdout",
     "output_type": "stream",
     "text": [
      "given detectability_condition == step_function\n",
      "collected number of detectable events =  736\n",
      "total number of events =  400000\n",
      "total rate (yr^-1): 0.1859839187589481\n"
     ]
    },
    {
     "name": "stderr",
     "output_type": "stream",
     "text": [
      "100%|████████████████████████████████████████████████████████| 25000/25000 [00:41<00:00, 608.75it/s]\n",
      "100%|███████████████████████████████████████████████████████| 21963/21963 [00:20<00:00, 1088.35it/s]\n",
      "100%|███████████████████████████████████████████████████████| 21948/21948 [00:20<00:00, 1069.11it/s]\n",
      "100%|███████████████████████████████████████████████████████| 21526/21526 [00:20<00:00, 1048.91it/s]\n",
      "100%|██████████████████████████████████████████████████████████████| 53/53 [00:00<00:00, 219.48it/s]\n"
     ]
    },
    {
     "name": "stdout",
     "output_type": "stream",
     "text": [
      "given detectability_condition == step_function\n",
      "collected number of detectable events =  770\n",
      "total number of events =  425000\n",
      "total rate (yr^-1): 0.1831299455810614\n"
     ]
    },
    {
     "name": "stderr",
     "output_type": "stream",
     "text": [
      " 76%|██████████████████████████████████████████▊             | 19114/25000 [00:31<00:09, 613.93it/s]\n"
     ]
    },
    {
     "ename": "KeyboardInterrupt",
     "evalue": "",
     "output_type": "error",
     "traceback": [
      "\u001b[0;31m---------------------------------------------------------------------------\u001b[0m",
      "\u001b[0;31mIndexError\u001b[0m                                Traceback (most recent call last)",
      "File \u001b[0;32m~/anaconda3/envs/ler/lib/python3.10/multiprocessing/pool.py:856\u001b[0m, in \u001b[0;36mIMapIterator.next\u001b[0;34m(self, timeout)\u001b[0m\n\u001b[1;32m    855\u001b[0m \u001b[38;5;28;01mtry\u001b[39;00m:\n\u001b[0;32m--> 856\u001b[0m     item \u001b[38;5;241m=\u001b[39m \u001b[38;5;28;43mself\u001b[39;49m\u001b[38;5;241;43m.\u001b[39;49m\u001b[43m_items\u001b[49m\u001b[38;5;241;43m.\u001b[39;49m\u001b[43mpopleft\u001b[49m\u001b[43m(\u001b[49m\u001b[43m)\u001b[49m\n\u001b[1;32m    857\u001b[0m \u001b[38;5;28;01mexcept\u001b[39;00m \u001b[38;5;167;01mIndexError\u001b[39;00m:\n",
      "\u001b[0;31mIndexError\u001b[0m: pop from an empty deque",
      "\nDuring handling of the above exception, another exception occurred:\n",
      "\u001b[0;31mKeyboardInterrupt\u001b[0m                         Traceback (most recent call last)",
      "Cell \u001b[0;32mIn[39], line 1\u001b[0m\n\u001b[0;32m----> 1\u001b[0m \u001b[43mler\u001b[49m\u001b[38;5;241;43m.\u001b[39;49m\u001b[43mselecting_n_lensed_detectable_events\u001b[49m\u001b[43m(\u001b[49m\n\u001b[1;32m      2\u001b[0m \u001b[43m    \u001b[49m\u001b[43msize\u001b[49m\u001b[38;5;241;43m=\u001b[39;49m\u001b[38;5;241;43m1000\u001b[39;49m\u001b[43m,\u001b[49m\n\u001b[1;32m      3\u001b[0m \u001b[43m    \u001b[49m\u001b[43mbatch_size\u001b[49m\u001b[38;5;241;43m=\u001b[39;49m\u001b[38;5;241;43m25000\u001b[39;49m\u001b[43m,\u001b[49m\n\u001b[1;32m      4\u001b[0m \u001b[43m    \u001b[49m\u001b[43msnr_threshold\u001b[49m\u001b[38;5;241;43m=\u001b[39;49m\u001b[43m[\u001b[49m\u001b[38;5;241;43m8.0\u001b[39;49m\u001b[43m,\u001b[49m\u001b[43m \u001b[49m\u001b[38;5;241;43m8.0\u001b[39;49m\u001b[43m]\u001b[49m\u001b[43m,\u001b[49m\n\u001b[1;32m      5\u001b[0m \u001b[43m    \u001b[49m\u001b[43mnum_img\u001b[49m\u001b[38;5;241;43m=\u001b[39;49m\u001b[43m[\u001b[49m\u001b[38;5;241;43m1\u001b[39;49m\u001b[43m,\u001b[49m\u001b[43m \u001b[49m\u001b[38;5;241;43m1\u001b[39;49m\u001b[43m]\u001b[49m\u001b[43m,\u001b[49m\n\u001b[1;32m      6\u001b[0m \u001b[43m    \u001b[49m\u001b[43mresume\u001b[49m\u001b[38;5;241;43m=\u001b[39;49m\u001b[38;5;28;43;01mTrue\u001b[39;49;00m\u001b[43m,\u001b[49m\n\u001b[1;32m      7\u001b[0m \u001b[43m    \u001b[49m\u001b[43mdetectability_condition\u001b[49m\u001b[38;5;241;43m=\u001b[39;49m\u001b[38;5;124;43m'\u001b[39;49m\u001b[38;5;124;43mstep_function\u001b[39;49m\u001b[38;5;124;43m'\u001b[39;49m\u001b[43m,\u001b[49m\n\u001b[1;32m      8\u001b[0m \u001b[43m    \u001b[49m\u001b[43moutput_jsonfile\u001b[49m\u001b[38;5;241;43m=\u001b[39;49m\u001b[38;5;124;43m'\u001b[39;49m\u001b[38;5;124;43mn_lensed_param_detectable_O4_Jose.json\u001b[39;49m\u001b[38;5;124;43m'\u001b[39;49m\u001b[43m,\u001b[49m\n\u001b[1;32m      9\u001b[0m \u001b[43m    \u001b[49m\u001b[43mmeta_data_file\u001b[49m\u001b[38;5;241;43m=\u001b[39;49m\u001b[38;5;124;43m'\u001b[39;49m\u001b[38;5;124;43mmeta_lensed_O4_Jose.json\u001b[39;49m\u001b[38;5;124;43m'\u001b[39;49m\u001b[43m,\u001b[49m\n\u001b[1;32m     10\u001b[0m \u001b[43m    \u001b[49m\u001b[43mtrim_to_size\u001b[49m\u001b[38;5;241;43m=\u001b[39;49m\u001b[38;5;28;43;01mFalse\u001b[39;49;00m\u001b[43m,\u001b[49m\n\u001b[1;32m     11\u001b[0m \u001b[43m    \u001b[49m\u001b[43mnan_to_num\u001b[49m\u001b[38;5;241;43m=\u001b[39;49m\u001b[38;5;28;43;01mFalse\u001b[39;49;00m\u001b[43m,\u001b[49m\n\u001b[1;32m     12\u001b[0m \u001b[43m)\u001b[49m\n",
      "File \u001b[0;32m~/phd/mypackages/ler/ler/rates/ler.py:2046\u001b[0m, in \u001b[0;36mLeR.selecting_n_lensed_detectable_events\u001b[0;34m(self, size, batch_size, snr_threshold, pdet_threshold, num_img, combine_image_snr, snr_cut_for_combine_image_snr, resume, detectability_condition, output_jsonfile, meta_data_file, trim_to_size, nan_to_num, snr_recalculation, snr_threshold_recalculation)\u001b[0m\n\u001b[1;32m   2044\u001b[0m \u001b[38;5;28;01mwith\u001b[39;00m contextlib\u001b[38;5;241m.\u001b[39mredirect_stdout(\u001b[38;5;28;01mNone\u001b[39;00m):\n\u001b[1;32m   2045\u001b[0m     \u001b[38;5;28mself\u001b[39m\u001b[38;5;241m.\u001b[39mdict_buffer \u001b[38;5;241m=\u001b[39m \u001b[38;5;28;01mNone\u001b[39;00m  \u001b[38;5;66;03m# this is used to store the sampled lensed_param in batches when running the sampling_routine\u001b[39;00m\n\u001b[0;32m-> 2046\u001b[0m     lensed_param \u001b[38;5;241m=\u001b[39m \u001b[38;5;28;43mself\u001b[39;49m\u001b[38;5;241;43m.\u001b[39;49m\u001b[43mlensed_sampling_routine\u001b[49m\u001b[43m(\u001b[49m\n\u001b[1;32m   2047\u001b[0m \u001b[43m        \u001b[49m\u001b[43msize\u001b[49m\u001b[38;5;241;43m=\u001b[39;49m\u001b[38;5;28;43mself\u001b[39;49m\u001b[38;5;241;43m.\u001b[39;49m\u001b[43mbatch_size\u001b[49m\u001b[43m,\u001b[49m\u001b[43m \u001b[49m\u001b[43moutput_jsonfile\u001b[49m\u001b[38;5;241;43m=\u001b[39;49m\u001b[43mbuffer_file\u001b[49m\u001b[43m,\u001b[49m\u001b[43m \u001b[49m\u001b[43mresume\u001b[49m\u001b[38;5;241;43m=\u001b[39;49m\u001b[38;5;28;43;01mFalse\u001b[39;49;00m\n\u001b[1;32m   2048\u001b[0m \u001b[43m    \u001b[49m\u001b[43m)\u001b[49m  \u001b[38;5;66;03m# Dimensions are (size, n_max_images)\u001b[39;00m\n\u001b[1;32m   2050\u001b[0m total_events_in_this_iteration \u001b[38;5;241m=\u001b[39m \u001b[38;5;28mlen\u001b[39m(lensed_param[\u001b[38;5;124m\"\u001b[39m\u001b[38;5;124mzs\u001b[39m\u001b[38;5;124m\"\u001b[39m])\n\u001b[1;32m   2052\u001b[0m \u001b[38;5;66;03m# Below code ensures that the snr is recalculated for the detectable events with inner product\u001b[39;00m\n\u001b[1;32m   2053\u001b[0m \u001b[38;5;66;03m# The code is use when the snr is calculated with 'ann' method of `gwsnr`\u001b[39;00m\n",
      "File \u001b[0;32m~/phd/mypackages/ler/ler/rates/ler.py:1398\u001b[0m, in \u001b[0;36mLeR.lensed_sampling_routine\u001b[0;34m(self, size, output_jsonfile, save_batch, resume)\u001b[0m\n\u001b[1;32m   1396\u001b[0m lensed_param_ \u001b[38;5;241m=\u001b[39m \u001b[38;5;28mself\u001b[39m\u001b[38;5;241m.\u001b[39msample_lens_parameters(size\u001b[38;5;241m=\u001b[39msize)\n\u001b[1;32m   1397\u001b[0m \u001b[38;5;66;03m# now get (strongly lensed) image paramters along with lens parameters\u001b[39;00m\n\u001b[0;32m-> 1398\u001b[0m lensed_param_ \u001b[38;5;241m=\u001b[39m \u001b[38;5;28;43mself\u001b[39;49m\u001b[38;5;241;43m.\u001b[39;49m\u001b[43mimage_properties\u001b[49m\u001b[43m(\u001b[49m\u001b[43mlensed_param_\u001b[49m\u001b[43m)\u001b[49m\n\u001b[1;32m   1400\u001b[0m \u001b[38;5;28;01mif\u001b[39;00m \u001b[38;5;28mlen\u001b[39m(lensed_param) \u001b[38;5;241m==\u001b[39m \u001b[38;5;241m0\u001b[39m:  \u001b[38;5;66;03m# if empty\u001b[39;00m\n\u001b[1;32m   1401\u001b[0m         lensed_param \u001b[38;5;241m=\u001b[39m lensed_param_\n",
      "File \u001b[0;32m~/phd/mypackages/ler/ler/image_properties/image_properties.py:253\u001b[0m, in \u001b[0;36mImageProperties.image_properties\u001b[0;34m(self, lens_parameters)\u001b[0m\n\u001b[1;32m    249\u001b[0m     \u001b[38;5;28;01mraise\u001b[39;00m \u001b[38;5;167;01mValueError\u001b[39;00m(\u001b[38;5;124m\"\u001b[39m\u001b[38;5;124mn_min_images should be greater than 1\u001b[39m\u001b[38;5;124m\"\u001b[39m)\n\u001b[1;32m    250\u001b[0m \u001b[38;5;28;01mwith\u001b[39;00m Pool(processes\u001b[38;5;241m=\u001b[39mnpool) \u001b[38;5;28;01mas\u001b[39;00m pool:\n\u001b[1;32m    251\u001b[0m     \u001b[38;5;66;03m# call the same function with different data in parallel\u001b[39;00m\n\u001b[1;32m    252\u001b[0m     \u001b[38;5;66;03m# imap->retain order in the list, while map->doesn't\u001b[39;00m\n\u001b[0;32m--> 253\u001b[0m     \u001b[38;5;28;01mfor\u001b[39;00m result \u001b[38;5;129;01min\u001b[39;00m tqdm(\n\u001b[1;32m    254\u001b[0m         pool\u001b[38;5;241m.\u001b[39mimap_unordered(solve_lens_equation_, input_arguments),\n\u001b[1;32m    255\u001b[0m         total\u001b[38;5;241m=\u001b[39m\u001b[38;5;28mlen\u001b[39m(input_arguments),\n\u001b[1;32m    256\u001b[0m         ncols\u001b[38;5;241m=\u001b[39m\u001b[38;5;241m100\u001b[39m,\n\u001b[1;32m    257\u001b[0m         disable\u001b[38;5;241m=\u001b[39m\u001b[38;5;28;01mFalse\u001b[39;00m,\n\u001b[1;32m    258\u001b[0m     ):\n\u001b[1;32m    259\u001b[0m         \u001b[38;5;66;03m# print(result)\u001b[39;00m\n\u001b[1;32m    260\u001b[0m         (\n\u001b[1;32m    261\u001b[0m             x_source_i,\n\u001b[1;32m    262\u001b[0m             y_source_i,\n\u001b[0;32m   (...)\u001b[0m\n\u001b[1;32m    270\u001b[0m             iter_i,\n\u001b[1;32m    271\u001b[0m         ) \u001b[38;5;241m=\u001b[39m result\n\u001b[1;32m    273\u001b[0m         n_image_i \u001b[38;5;241m=\u001b[39m \u001b[38;5;28mmin\u001b[39m(n_image_i, n_max_images)\n",
      "File \u001b[0;32m~/anaconda3/envs/ler/lib/python3.10/site-packages/tqdm/std.py:1181\u001b[0m, in \u001b[0;36mtqdm.__iter__\u001b[0;34m(self)\u001b[0m\n\u001b[1;32m   1178\u001b[0m time \u001b[38;5;241m=\u001b[39m \u001b[38;5;28mself\u001b[39m\u001b[38;5;241m.\u001b[39m_time\n\u001b[1;32m   1180\u001b[0m \u001b[38;5;28;01mtry\u001b[39;00m:\n\u001b[0;32m-> 1181\u001b[0m     \u001b[38;5;28;01mfor\u001b[39;00m obj \u001b[38;5;129;01min\u001b[39;00m iterable:\n\u001b[1;32m   1182\u001b[0m         \u001b[38;5;28;01myield\u001b[39;00m obj\n\u001b[1;32m   1183\u001b[0m         \u001b[38;5;66;03m# Update and possibly print the progressbar.\u001b[39;00m\n\u001b[1;32m   1184\u001b[0m         \u001b[38;5;66;03m# Note: does not call self.update(1) for speed optimisation.\u001b[39;00m\n",
      "File \u001b[0;32m~/anaconda3/envs/ler/lib/python3.10/multiprocessing/pool.py:861\u001b[0m, in \u001b[0;36mIMapIterator.next\u001b[0;34m(self, timeout)\u001b[0m\n\u001b[1;32m    859\u001b[0m     \u001b[38;5;28mself\u001b[39m\u001b[38;5;241m.\u001b[39m_pool \u001b[38;5;241m=\u001b[39m \u001b[38;5;28;01mNone\u001b[39;00m\n\u001b[1;32m    860\u001b[0m     \u001b[38;5;28;01mraise\u001b[39;00m \u001b[38;5;167;01mStopIteration\u001b[39;00m \u001b[38;5;28;01mfrom\u001b[39;00m \u001b[38;5;28;01mNone\u001b[39;00m\n\u001b[0;32m--> 861\u001b[0m \u001b[38;5;28;43mself\u001b[39;49m\u001b[38;5;241;43m.\u001b[39;49m\u001b[43m_cond\u001b[49m\u001b[38;5;241;43m.\u001b[39;49m\u001b[43mwait\u001b[49m\u001b[43m(\u001b[49m\u001b[43mtimeout\u001b[49m\u001b[43m)\u001b[49m\n\u001b[1;32m    862\u001b[0m \u001b[38;5;28;01mtry\u001b[39;00m:\n\u001b[1;32m    863\u001b[0m     item \u001b[38;5;241m=\u001b[39m \u001b[38;5;28mself\u001b[39m\u001b[38;5;241m.\u001b[39m_items\u001b[38;5;241m.\u001b[39mpopleft()\n",
      "File \u001b[0;32m~/anaconda3/envs/ler/lib/python3.10/threading.py:320\u001b[0m, in \u001b[0;36mCondition.wait\u001b[0;34m(self, timeout)\u001b[0m\n\u001b[1;32m    318\u001b[0m \u001b[38;5;28;01mtry\u001b[39;00m:    \u001b[38;5;66;03m# restore state no matter what (e.g., KeyboardInterrupt)\u001b[39;00m\n\u001b[1;32m    319\u001b[0m     \u001b[38;5;28;01mif\u001b[39;00m timeout \u001b[38;5;129;01mis\u001b[39;00m \u001b[38;5;28;01mNone\u001b[39;00m:\n\u001b[0;32m--> 320\u001b[0m         \u001b[43mwaiter\u001b[49m\u001b[38;5;241;43m.\u001b[39;49m\u001b[43macquire\u001b[49m\u001b[43m(\u001b[49m\u001b[43m)\u001b[49m\n\u001b[1;32m    321\u001b[0m         gotit \u001b[38;5;241m=\u001b[39m \u001b[38;5;28;01mTrue\u001b[39;00m\n\u001b[1;32m    322\u001b[0m     \u001b[38;5;28;01melse\u001b[39;00m:\n",
      "\u001b[0;31mKeyboardInterrupt\u001b[0m: "
     ]
    }
   ],
   "source": [
    "ler.selecting_n_lensed_detectable_events(\n",
    "    size=1000,\n",
    "    batch_size=25000,\n",
    "    snr_threshold=[8.0, 8.0],\n",
    "    num_img=[1, 1],\n",
    "    resume=True,\n",
    "    detectability_condition='step_function',\n",
    "    output_jsonfile='n_lensed_param_detectable_O4_Jose.json',\n",
    "    meta_data_file='meta_lensed_O4_Jose.json',\n",
    "    trim_to_size=False,\n",
    "    nan_to_num=False,\n",
    ");"
   ]
  },
  {
   "cell_type": "code",
   "execution_count": null,
   "metadata": {},
   "outputs": [],
   "source": []
  },
  {
   "cell_type": "code",
   "execution_count": null,
   "metadata": {},
   "outputs": [],
   "source": []
  },
  {
   "cell_type": "code",
   "execution_count": null,
   "metadata": {},
   "outputs": [],
   "source": []
  },
  {
   "cell_type": "code",
   "execution_count": null,
   "metadata": {},
   "outputs": [],
   "source": []
  },
  {
   "cell_type": "code",
   "execution_count": null,
   "metadata": {},
   "outputs": [],
   "source": []
  }
 ],
 "metadata": {
  "kernelspec": {
   "display_name": "ler",
   "language": "python",
   "name": "python3"
  },
  "language_info": {
   "codemirror_mode": {
    "name": "ipython",
    "version": 3
   },
   "file_extension": ".py",
   "mimetype": "text/x-python",
   "name": "python",
   "nbconvert_exporter": "python",
   "pygments_lexer": "ipython3",
   "version": "3.10.14"
  }
 },
 "nbformat": 4,
 "nbformat_minor": 2
}
