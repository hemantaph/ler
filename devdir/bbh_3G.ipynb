{
 "cells": [
  {
   "cell_type": "markdown",
   "metadata": {},
   "source": [
    "| Observing run | BBH-unlensed (Super, Sub+Super)  | BNS-unlensed (Super, Sub+Super) | Ratio BBH/BNS |\n",
    "| ---           | ---       | ---       | ---             |\n",
    "| O4 (H1, L1, V1) | 438.1, 1015.1 | \n",
    "| 3G (A+, ET, CE) | 100600.3, 101895.3 |\n",
    "\n",
    "| Observing run | BBH-lensed (Super, Sub+Super)  | BNS-lensed (Super, Sub+Super) | Ratio BBH/BNS |\n",
    "| ---           | ---       | ---       | ---             |\n",
    "| O4 (H1, L1, V1) | 1.0, 2.1 |\n",
    "| 3G (A+, ET, CE) | "
   ]
  },
  {
   "cell_type": "code",
   "execution_count": 1,
   "metadata": {},
   "outputs": [],
   "source": [
    "from ler.rates import LeR\n",
    "from ler.utils import get_param_from_json\n",
    "import numpy as np\n",
    "import matplotlib.pyplot as plt\n",
    "\n",
    "# other necessary imports\n",
    "from astropy.cosmology import LambdaCDM"
   ]
  },
  {
   "cell_type": "code",
   "execution_count": 3,
   "metadata": {},
   "outputs": [
    {
     "name": "stderr",
     "output_type": "stream",
     "text": [
      "interpolation for each mass_ratios: 100%|███████████████████████████| 50/50 [03:35<00:00,  4.32s/it]\n"
     ]
    }
   ],
   "source": [
    "# Complete setup for LeR\n",
    "\n",
    "ler = LeR(\n",
    "    # LeR setup arguments\n",
    "    npool=8, # number of processors to use\n",
    "    z_min=0.0, # minimum redshift\n",
    "    z_max=10.0, # maximum redshift\n",
    "    event_type='BBH', # event type\n",
    "    size=100000, # number of events to simulate\n",
    "    batch_size=50000, # batch size\n",
    "    cosmology=LambdaCDM(H0=70, Om0=0.3, Ode0=0.7), # cosmology\n",
    "    snr_finder=None, # snr calculator from 'gwsnr' package will be used\n",
    "    pdet_finder=None,  # will not be consider unless specified\n",
    "    list_of_detectors=None, # list of detectors that will be considered when calculating snr or pdet for lensed events. if None, all the detectors from 'gwsnr' will be considered\n",
    "    json_file_names=dict(\n",
    "        ler_params=\"ler_params.json\", # to store initialization parameters and important results\n",
    "        unlensed_param=\"unlensed_param.json\", # to store all unlensed events\n",
    "        unlensed_param_detectable=\"unlensed_param_detectable.json\", # to store only detectable unlensed events\n",
    "        lensed_param=\"lensed_param.json\", # to store all lensed events \n",
    "        lensed_param_detectable=\"lensed_param_detectable.json\"), # to store only detectable lensed events\n",
    "    interpolator_directory='./interpolator_pickle', # directory to store the interpolator pickle files. 'ler' uses interpolation to get values of various functions to speed up the calculations (relying on numba njit).\n",
    "    ler_directory='./ler_data', # directory to store all the outputs\n",
    "    verbose=False, # if True, will print all information at initialization\n",
    "\n",
    "    # CBCSourceParameterDistribution class arguments\n",
    "    source_priors= {\n",
    "        'merger_rate_density': 'merger_rate_density_bbh_popI_II_oguri2018', 'source_frame_masses': 'binary_masses_BBH_popI_II_powerlaw_gaussian', 'zs': 'sample_source_redshift', 'geocent_time': 'sampler_uniform', 'ra': 'sampler_uniform', 'dec': 'sampler_cosine', 'phase': 'sampler_uniform', 'psi': 'sampler_uniform', 'theta_jn': 'sampler_sine'\n",
    "        },\n",
    "    source_priors_params= {\n",
    "        'merger_rate_density': {\n",
    "            'R0': 2.39e-08, 'b2': 1.6, 'b3': 2.0, 'b4': 30\n",
    "            }, \n",
    "        'source_frame_masses': {\n",
    "            'mminbh': 4.98, 'mmaxbh': 112.5, 'alpha': 3.78, 'mu_g': 32.27, 'sigma_g': 3.88, 'lambda_peak': 0.03, 'delta_m': 4.8, 'beta': 0.81\n",
    "            }, \n",
    "        'zs': None, \n",
    "        'geocent_time': {\n",
    "            'min_': 1238166018, 'max_': 1269702018\n",
    "            }, \n",
    "        'ra': {\n",
    "            'min_': 0.0, 'max_': 6.283185307179586\n",
    "            }, \n",
    "        'dec': None, \n",
    "        'phase': {\n",
    "            'min_': 0.0, 'max_': 6.283185307179586\n",
    "            }, \n",
    "        'psi': {\n",
    "            'min_': 0.0, 'max_': 3.141592653589793\n",
    "            }, \n",
    "        'theta_jn': None\n",
    "        },\n",
    "    spin_zero= True, # if True, spins will be set to zero\n",
    "    spin_precession= False, # if True, spins will be precessing\n",
    "\n",
    "    # LensGalaxyParameterDistribution class arguments\n",
    "    lens_type = 'epl_shear_galaxy',\n",
    "    lens_functions =  {\n",
    "        'strong_lensing_condition': 'rjs_with_cross_section_SIE',\n",
    "        'optical_depth': 'optical_depth_SIE_hemanta',\n",
    "        'param_sampler_type': 'sample_all_routine'\n",
    "        },\n",
    "    lens_priors =  {\n",
    "        'source_redshift_sl': 'strongly_lensed_source_redshifts', \n",
    "        'lens_redshift': 'lens_redshift_SDSS_catalogue', \n",
    "        'velocity_dispersion': 'velocity_dispersion_ewoud', \n",
    "        'axis_ratio': 'axis_ratio_rayleigh', \n",
    "        'axis_rotation_angle': 'axis_rotation_angle_uniform', \n",
    "        'external_shear': 'shear_norm', \n",
    "        'density_profile_slope': 'density_profile_slope_normal', 'source_parameters': 'sample_gw_parameters'\n",
    "        },\n",
    "    lens_priors_params =  {\n",
    "        'source_redshift_sl': None, \n",
    "        'lens_redshift': None, \n",
    "        'velocity_dispersion': {\n",
    "            'vd_min':10., 'vd_max':350.\n",
    "            }, \n",
    "        'axis_ratio': {\n",
    "            'q_min': 0.2, 'q_max': 1.0\n",
    "            }, \n",
    "        'axis_rotation_angle': {\n",
    "            'phi_min': 0.0, 'phi_max': 6.283185307179586\n",
    "            }, \n",
    "        'external_shear': {\n",
    "            'scale': 0.05\n",
    "            }, \n",
    "        'density_profile_slope': {\n",
    "            'mean': 2.0, 'std': 0.2\n",
    "            }, \n",
    "        'source_parameters': None\n",
    "        },\n",
    "\n",
    "    # ImageProperties class arguments\n",
    "    n_min_images = 2,\n",
    "    n_max_images = 4,\n",
    "    geocent_time_min = 1238166018,\n",
    "    geocent_time_max = 1269702018,\n",
    "    lens_model_list = ['EPL_NUMBA', 'SHEAR'],\n",
    "\n",
    "    # gwsnr package arguments\n",
    "    mtot_min = 2.0,\n",
    "    mtot_max = 500.0,\n",
    "    ratio_min = 0.1,\n",
    "    ratio_max = 1.0,\n",
    "    mtot_resolution = 500,\n",
    "    ratio_resolution = 50,\n",
    "    sampling_frequency = 2048.0,\n",
    "    waveform_approximant = 'IMRPhenomD',\n",
    "    minimum_frequency = 10.0,\n",
    "    snr_type = 'interpolation',\n",
    "    # psds = {'L1':'aLIGO_O4_high_asd.txt','H1':'aLIGO_O4_high_asd.txt', 'V1':'AdV_asd.txt', 'K1':'KAGRA_design_asd.txt'},\n",
    "    ifos = ['ET', 'CE', 'A1'],\n",
    "    interpolator_dir = './interpolator_pickle',\n",
    "    gwsnr_verbose = True,\n",
    "    multiprocessing_verbose = True,\n",
    "    mtot_cut = True,\n",
    "\n",
    "    # common arguments, to generate interpolator\n",
    "    # create_new_interpolator = dict(\n",
    "    #     redshift_distribution=dict(create_new=False, resolution=1000),\n",
    "    #     z_to_luminosity_distance=dict(create_new=False, resolution=1000),\n",
    "    #     velocity_dispersion=dict(create_new=False, resolution=1000),\n",
    "    #     axis_ratio=dict(create_new=False, resolution=1000),\n",
    "    #     optical_depth=dict(create_new=False, resolution=200),\n",
    "    #     z_to_Dc=dict(create_new=False, resolution=1000),\n",
    "    #     Dc_to_z=dict(create_new=False, resolution=1000),\n",
    "    #     angular_diameter_distance=dict(create_new=False, resolution=1000),\n",
    "    #     differential_comoving_volume=dict(create_new=False, resolution=1000),\n",
    "    #     Dl_to_z=dict(create_new=False, resolution=1000),\n",
    "    # )\n",
    "    create_new_interpolator = False\n",
    ")"
   ]
  },
  {
   "cell_type": "markdown",
   "metadata": {},
   "source": [
    "| Observing run | BBH-unlensed (Super, Sub+Super)  | BNS-unlensed (Super, Sub+Super) | Ratio BBH/BNS |\n",
    "| ---           | ---       | ---       | ---             |\n",
    "| O4 (H1, L1, V1) | 438.1, 1015.1 | 0.0, 0.0 | inf |\n",
    "| 3G (A+, ET, CE) | 0.0, 0.0 | 0.0, 0.0 | nan |\n"
   ]
  },
  {
   "cell_type": "markdown",
   "metadata": {},
   "source": [
    "## Unlensed "
   ]
  },
  {
   "cell_type": "code",
   "execution_count": 18,
   "metadata": {},
   "outputs": [
    {
     "name": "stdout",
     "output_type": "stream",
     "text": [
      "removing ./ler_data/n_unlensed_param_detectable_3G_super_sub.json and ./ler_data/meta_unlensed_3G_super_sub.json if they exist\n",
      "collected number of detectable events =  0\n",
      "given detectability_condition == 'step_function'\n",
      "collected number of detectable events =  98464\n",
      "total number of events =  100000\n",
      "total rate (yr^-1): 101932.78491315177\n",
      "given detectability_condition == 'step_function'\n",
      "collected number of detectable events =  196901\n",
      "total number of events =  200000\n",
      "total rate (yr^-1): 101918.8093221101\n",
      "given detectability_condition == 'step_function'\n",
      "collected number of detectable events =  295272\n",
      "total number of events =  300000\n",
      "total rate (yr^-1): 101891.37575450978\n",
      "given detectability_condition == 'step_function'\n",
      "collected number of detectable events =  393679\n",
      "total number of events =  400000\n",
      "total rate (yr^-1): 101886.97603140406\n",
      "given detectability_condition == 'step_function'\n",
      "collected number of detectable events =  492179\n",
      "total number of events =  500000\n",
      "total rate (yr^-1): 101903.59145630916\n",
      "stored detectable unlensed params in ./ler_data/n_unlensed_param_detectable_3G_super_sub.json\n",
      "stored meta data in ./ler_data/meta_unlensed_3G_super_sub.json\n"
     ]
    }
   ],
   "source": [
    "ler.selecting_n_unlensed_detectable_events(\n",
    "    size=400000,\n",
    "    batch_size=100000,\n",
    "    snr_threshold=6.0,\n",
    "    resume=False,\n",
    "    output_jsonfile='n_unlensed_param_detectable_3G_super_sub.json',\n",
    "    meta_data_file='meta_unlensed_3G_super_sub.json',\n",
    "    detectability_condition='step_function',\n",
    "    trim_to_size=False,\n",
    ");"
   ]
  },
  {
   "cell_type": "code",
   "execution_count": 19,
   "metadata": {},
   "outputs": [
    {
     "data": {
      "image/png": "[encoded data removed]",
      "text/plain": [
       "<Figure size 600x400 with 1 Axes>"
      ]
     },
     "metadata": {},
     "output_type": "display_data"
    }
   ],
   "source": [
    "# getting data from json\n",
    "meta_data= get_param_from_json(\"./ler_data/meta_unlensed_3G_super_sub.json\")\n",
    "\n",
    "# plot the rate vs sampling size\n",
    "plt.figure(figsize=(6,4))\n",
    "plt.plot(meta_data['events_total'], meta_data['total_rate'], 'o-')\n",
    "plt.xlabel('Sampling size')\n",
    "plt.ylabel('Rate (per year)')\n",
    "plt.title('Rate vs Sampling size')\n",
    "plt.grid(alpha=0.4)\n",
    "plt.show()"
   ]
  },
  {
   "cell_type": "markdown",
   "metadata": {},
   "source": [
    "### Sub+Super"
   ]
  },
  {
   "cell_type": "code",
   "execution_count": 20,
   "metadata": {},
   "outputs": [
    {
     "name": "stdout",
     "output_type": "stream",
     "text": [
      "Unlensed GW Rate (per year), SNR>6 = 101895.28374385662\n"
     ]
    }
   ],
   "source": [
    "# select only events after sampling size of \n",
    "idx = np.where(meta_data['events_total'] > 3.0e5)[0]\n",
    "# take average \n",
    "gw_rate_unlensed1 = np.mean(meta_data['total_rate'][idx])\n",
    "print('Unlensed GW Rate (per year), SNR>6 =', gw_rate_unlensed1)"
   ]
  },
  {
   "cell_type": "markdown",
   "metadata": {},
   "source": [
    "### Super"
   ]
  },
  {
   "cell_type": "code",
   "execution_count": 21,
   "metadata": {},
   "outputs": [],
   "source": [
    "unlensed_param = get_param_from_json(\"./ler_data/n_unlensed_param_detectable_3G_super_sub.json\")"
   ]
  },
  {
   "cell_type": "code",
   "execution_count": 22,
   "metadata": {},
   "outputs": [
    {
     "name": "stdout",
     "output_type": "stream",
     "text": [
      "Unlensed GW Rate (per year), SNR>8 = 100600.31788830849\n"
     ]
    }
   ],
   "source": [
    "snr = unlensed_param['snr_net']\n",
    "idx = snr>8.0\n",
    "snr8_vs_snr6 = np.sum(idx)/len(snr)\n",
    "print('Unlensed GW Rate (per year), SNR>8 =', gw_rate_unlensed1*snr8_vs_snr6) "
   ]
  },
  {
   "cell_type": "markdown",
   "metadata": {},
   "source": [
    "## Lensed events"
   ]
  },
  {
   "cell_type": "code",
   "execution_count": 23,
   "metadata": {},
   "outputs": [
    {
     "name": "stdout",
     "output_type": "stream",
     "text": [
      "collected number of detectable events =  0\n"
     ]
    },
    {
     "name": "stderr",
     "output_type": "stream",
     "text": [
      "100%|█████████████████████████████████████████████████████| 200000/200000 [00:50<00:00, 3977.82it/s]\n",
      "100%|█████████████████████████████████████████████████████████████████| 7/7 [00:03<00:00,  1.95it/s]\n"
     ]
    },
    {
     "name": "stdout",
     "output_type": "stream",
     "text": [
      "given detectability_condition == step_function\n",
      "collected number of detectable events =  99307\n",
      "total number of events =  200000\n",
      "total rate (yr^-1): 112.75823271023033\n"
     ]
    },
    {
     "name": "stderr",
     "output_type": "stream",
     "text": [
      "100%|█████████████████████████████████████████████████████| 200000/200000 [00:49<00:00, 4018.56it/s]\n",
      "100%|█████████████████████████████████████████████████████████████████| 4/4 [00:03<00:00,  1.06it/s]\n"
     ]
    },
    {
     "name": "stdout",
     "output_type": "stream",
     "text": [
      "given detectability_condition == step_function\n",
      "collected number of detectable events =  198522\n",
      "total number of events =  400000\n",
      "total rate (yr^-1): 112.70600196411304\n",
      "storing detectable lensed params in ./ler_data/n_lensed_param_detectable_3G_super_sub.json\n",
      "storing meta data in ./ler_data/meta_lensed_3G_super_sub.json\n"
     ]
    }
   ],
   "source": [
    "ler.selecting_n_lensed_detectable_events(\n",
    "    size=100000,\n",
    "    batch_size=200000,\n",
    "    snr_threshold=[6.0, 6.0],\n",
    "    num_img=[1, 1],\n",
    "    resume=True,\n",
    "    detectability_condition='step_function',\n",
    "    output_jsonfile='n_lensed_param_detectable_3G_super_sub.json',\n",
    "    meta_data_file='meta_lensed_3G_super_sub.json',\n",
    "    trim_to_size=False,\n",
    "    nan_to_num=False,\n",
    ");"
   ]
  },
  {
   "cell_type": "code",
   "execution_count": 25,
   "metadata": {},
   "outputs": [
    {
     "data": {
      "image/png": "[encoded data removed]",
      "text/plain": [
       "<Figure size 600x400 with 1 Axes>"
      ]
     },
     "metadata": {},
     "output_type": "display_data"
    }
   ],
   "source": [
    "# getting data from json\n",
    "meta_data= get_param_from_json(\"./ler_data/meta_lensed_3G_super_sub.json\")\n",
    "\n",
    "# plot the rate vs sampling size\n",
    "plt.figure(figsize=(6,4))\n",
    "plt.plot(meta_data['events_total'], meta_data['total_rate'], 'o-')\n",
    "plt.xlabel('Sampling size')\n",
    "plt.ylabel('Rate (per year)')\n",
    "plt.title('Rate vs Sampling size')\n",
    "plt.grid(alpha=0.4)\n",
    "plt.show()"
   ]
  },
  {
   "cell_type": "markdown",
   "metadata": {},
   "source": [
    "### Sub+Super"
   ]
  },
  {
   "cell_type": "code",
   "execution_count": 26,
   "metadata": {},
   "outputs": [
    {
     "name": "stdout",
     "output_type": "stream",
     "text": [
      "Lensed GW Rate (per year), 2 or more images SNR>6 = 112.73211733717169\n"
     ]
    }
   ],
   "source": [
    "# select only events after sampling size of \n",
    "idx = np.where(meta_data['events_total'] > 0)[0]\n",
    "# take average \n",
    "gw_rate_lensed1 = np.mean(meta_data['total_rate'][idx])\n",
    "print('Lensed GW Rate (per year), 2 or more images SNR>6 =', gw_rate_lensed1)"
   ]
  },
  {
   "cell_type": "markdown",
   "metadata": {},
   "source": [
    "### Super"
   ]
  },
  {
   "cell_type": "code",
   "execution_count": 27,
   "metadata": {},
   "outputs": [
    {
     "name": "stdout",
     "output_type": "stream",
     "text": [
      "Lensed GW Rate (per year), 2 or more images SNR>8 = 107.56688960775674\n"
     ]
    }
   ],
   "source": [
    "snr_lensed = get_param_from_json(\"./ler_data/n_lensed_param_detectable_3G_super_sub.json\")['snr_net']\n",
    "idx = snr_lensed>8.0\n",
    "idx = np.sum(idx, axis=1)>=2\n",
    "snr8_vs_snr6 = np.sum(idx)/len(snr_lensed)\n",
    "print('Lensed GW Rate (per year), 2 or more images SNR>8 =', gw_rate_lensed1*snr8_vs_snr6)"
   ]
  },
  {
   "cell_type": "code",
   "execution_count": null,
   "metadata": {},
   "outputs": [],
   "source": []
  },
  {
   "cell_type": "code",
   "execution_count": null,
   "metadata": {},
   "outputs": [],
   "source": []
  },
  {
   "cell_type": "code",
   "execution_count": null,
   "metadata": {},
   "outputs": [],
   "source": []
  },
  {
   "cell_type": "code",
   "execution_count": null,
   "metadata": {},
   "outputs": [],
   "source": []
  }
 ],
 "metadata": {
  "kernelspec": {
   "display_name": "ler",
   "language": "python",
   "name": "python3"
  },
  "language_info": {
   "codemirror_mode": {
    "name": "ipython",
    "version": 3
   },
   "file_extension": ".py",
   "mimetype": "text/x-python",
   "name": "python",
   "nbconvert_exporter": "python",
   "pygments_lexer": "ipython3",
   "version": "3.10.14"
  }
 },
 "nbformat": 4,
 "nbformat_minor": 2
}
