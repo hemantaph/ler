{
 "cells": [
  {
   "cell_type": "code",
   "execution_count": 89,
   "metadata": {},
   "outputs": [],
   "source": [
    "from ler.utils import interpolator_pickle_path, get_param_from_json, cubic_spline_interpolator, append_json, cubic_spline_interpolator2d_array, inverse_transform_sampler, pdf_cubic_spline_interpolator2d_array, interpolator_sampler_conditioned, save_json, load_json, save_pickle, load_pickle\n",
    "from ler.lens_galaxy_population import phi\n",
    "import numpy as np\n",
    "from scipy.integrate import quad, cumulative_trapezoid\n",
    "from scipy.interpolate import interp1d, CubicSpline\n",
    "from numba import njit\n",
    "import matplotlib.pyplot as plt"
   ]
  },
  {
   "cell_type": "code",
   "execution_count": 59,
   "metadata": {},
   "outputs": [
    {
     "data": {
      "text/plain": [
       "[{'name': 'lens_mass',\n",
       "  'type': 'cubic_spline',\n",
       "  'x': array([0, 1, 2, 3]),\n",
       "  'y': [0, 1, 0, 1],\n",
       "  'z': None}]"
      ]
     },
     "execution_count": 59,
     "metadata": {},
     "output_type": "execute_result"
    }
   ],
   "source": [
    "dict_list = [{\"name\": \"lens_mass\", \"type\": \"cubic_spline\", \"x\": np.array([0, 1, 2, 3]), \"y\": [0, 1, 0, 1], \"z\": None}, ]\n",
    "\n",
    "append_json(\"test.json\", dict_list, replace=True)"
   ]
  },
  {
   "cell_type": "code",
   "execution_count": 64,
   "metadata": {},
   "outputs": [
    {
     "name": "stdout",
     "output_type": "stream",
     "text": [
      "None\n"
     ]
    }
   ],
   "source": [
    "if isinstance(load_json(\"test.json\")[0]['z'], type(None)):\n",
    "    print(\"None\")\n",
    "else:\n",
    "    print(\"Not None\")"
   ]
  },
  {
   "cell_type": "code",
   "execution_count": null,
   "metadata": {},
   "outputs": [],
   "source": []
  },
  {
   "cell_type": "code",
   "execution_count": 92,
   "metadata": {},
   "outputs": [],
   "source": [
    "class FuntionConditioning():\n",
    "\n",
    "    def __init__(self,\n",
    "        function,  # can also be an array of function values \n",
    "        x_array,\n",
    "        conditioned_y_array=None,  # if this is not none, 2D interpolation will be used\n",
    "        param_dict_given={},\n",
    "        directory='./interpolator_pickle',\n",
    "        sub_directory='default',\n",
    "        name='default',\n",
    "        create_new=False,\n",
    "        create_function=True,\n",
    "        create_function_inverse=False,\n",
    "        create_pdf=True,\n",
    "        create_rvs=True,\n",
    "    ):\n",
    "\n",
    "        # create_interpolator input list\n",
    "        input_list = [function, x_array, conditioned_y_array, create_function_inverse,create_pdf, create_rvs]\n",
    "\n",
    "        # check first whether the directory, subdirectory and pickle exist\n",
    "        path_inv_cdf, it_exist = interpolator_pickle_path(\n",
    "            param_dict_given=param_dict_given,\n",
    "            directory=directory,\n",
    "            sub_directory=sub_directory,\n",
    "            interpolator_name=name,\n",
    "        )\n",
    "\n",
    "        # if the interpolator exists, load it\n",
    "        if create_new:\n",
    "            it_exist = False\n",
    "\n",
    "        if it_exist:\n",
    "            print(f\"{name} interpolator will be loaded from {path_inv_cdf}\")\n",
    "            # load the interpolator\n",
    "            interpolator = load_pickle(path_inv_cdf)\n",
    "        else:\n",
    "            print(f\"{name} interpolator will be generated at {path_inv_cdf}\")\n",
    "            interpolator = self.create_interpolator(*input_list)\n",
    "            # save the interpolator\n",
    "            save_pickle(path_inv_cdf, interpolator)\n",
    "\n",
    "        x_array = interpolator['x_array']\n",
    "        z_array = interpolator['z_array']\n",
    "        y_array = interpolator['conditioned_y_array']\n",
    "        function_spline = interpolator['function_spline']\n",
    "        function_inverse_spline = interpolator['function_inverse_spline']\n",
    "        pdf_norm_const = interpolator['pdf_norm_const']\n",
    "        cdf_values = interpolator['cdf_values']\n",
    "\n",
    "        self.function_spline = function_spline\n",
    "\n",
    "        if y_array == None:\n",
    "            print(f\"y_array None: {y_array}\")\n",
    "            # function is 1D\n",
    "            self.function = njit(lambda x: cubic_spline_interpolator(x, function_spline, x_array)) if create_function else None\n",
    "            # function_inverse is 1D\n",
    "            self.function_inverse = njit(lambda x: cubic_spline_interpolator(x, function_inverse_spline, z_array)) if create_function_inverse else None\n",
    "            # pdf is 1D\n",
    "            self.pdf = njit(lambda x: cubic_spline_interpolator(x, function_spline, x_array)/pdf_norm_const) if create_pdf else None\n",
    "            # sampler is 1D\n",
    "            self.rvs = njit(lambda size: inverse_transform_sampler(size, cdf_values, x_array)) if create_rvs else None\n",
    "            \n",
    "        else:\n",
    "            print(f\"y_array not None: {y_array}\")\n",
    "            self.none = y_array\n",
    "            self.function = njit(lambda x, y: cubic_spline_interpolator2d_array(x, y, function_spline, x_array, y_array)) if create_function else None\n",
    "\n",
    "            self.function_inverse = njit(lambda x, y: cubic_spline_interpolator2d_array(x, y, function_inverse_spline, z_array, y_array)) if create_function_inverse else None\n",
    "\n",
    "            self.pdf = njit(lambda x, y: pdf_cubic_spline_interpolator2d_array(x, y, pdf_norm_const, function_spline, x_array, y_array)) if create_pdf else None\n",
    "\n",
    "            self.rvs = njit(lambda size, y: interpolator_sampler_conditioned(size, y, cdf_values, x_array, y_array)) if create_rvs else None\n",
    "\n",
    "        self.x_array = x_array\n",
    "        self.z_array = z_array\n",
    "        \n",
    "        self.conditioned_y_array = y_array\n",
    "        self.function_spline = function_spline\n",
    "        self.function_inverse_spline = function_inverse_spline\n",
    "        self.pdf_norm_const = pdf_norm_const\n",
    "        self.cdf_values = cdf_values\n",
    "\n",
    "\n",
    "    def create_interpolator(self, function, x_array, conditioned_y_array, create_function_inverse, create_pdf, create_rvs):\n",
    "\n",
    "        # function can be numpy array or callable\n",
    "        # x_array, z_array are 2D arrays if conditioned_y_array is not None\n",
    "        x_array, z_array, conditioned_y_array = self.create_z_array(x_array, function, conditioned_y_array)\n",
    "        del function\n",
    "\n",
    "        function_spline = self.function_spline_generator(x_array, z_array, conditioned_y_array)\n",
    "\n",
    "        function_inverse_spline = self.function_spline_generator(z_array, x_array, conditioned_y_array) if create_function_inverse else None\n",
    "\n",
    "        if create_pdf:\n",
    "            pdf_norm_const = self.pdf_norm_const_generator(x_array, function_spline, conditioned_y_array)\n",
    "\n",
    "            if create_rvs:\n",
    "                cdf_values = self.cdf_values_generator(x_array, z_array, pdf_norm_const, conditioned_y_array)\n",
    "            else:\n",
    "                cdf_values = None\n",
    "        else:\n",
    "            pdf_norm_const = None\n",
    "            cdf_values = None\n",
    "            \n",
    "        return {\n",
    "            'x_array': x_array,\n",
    "            'z_array': z_array,\n",
    "            'conditioned_y_array': conditioned_y_array,\n",
    "            'function_spline': function_spline,\n",
    "            'function_inverse_spline': function_inverse_spline,\n",
    "            'pdf_norm_const': pdf_norm_const,\n",
    "            'cdf_values': cdf_values,\n",
    "        }\n",
    "\n",
    "    def create_z_array(self, x_array, function, conditioned_y_array):\n",
    "\n",
    "        if callable(function):\n",
    "            if conditioned_y_array is None:\n",
    "                z_array = function(x_array)\n",
    "                # remove nan values\n",
    "                idx = np.argwhere(np.isnan(z_array))\n",
    "                x_list = np.delete(x_array, idx)\n",
    "                z_list = np.delete(z_array, idx)\n",
    "\n",
    "            else:\n",
    "                idx = np.argsort(conditioned_y_array)\n",
    "                conditioned_y_array = conditioned_y_array[idx]\n",
    "                # x_array is 2D here, each row corresponds to a different y value\n",
    "                x_array = x_array[idx]\n",
    "\n",
    "                z_list = []\n",
    "                x_list = []\n",
    "                for i, y in enumerate(conditioned_y_array):\n",
    "                    x_ = np.sort(x_array[i])\n",
    "                    try:\n",
    "                        z_ = function(x_, y)\n",
    "                    except:\n",
    "                        z_ = function(x_, y*np.ones_like(x_))\n",
    "\n",
    "                    idx = np.argwhere(np.isnan(z_))\n",
    "                    x_list.append(np.delete(x_, idx))\n",
    "                    z_list.append(np.delete(z_, idx))\n",
    "\n",
    "        else:\n",
    "            if conditioned_y_array is None:\n",
    "                z_array = function\n",
    "                # remove nan values\n",
    "                idx = np.argwhere(np.isnan(z_array))\n",
    "                x_list = np.delete(x_array, idx)\n",
    "                z_list = np.delete(z_array, idx)\n",
    "            else:\n",
    "                # row sort\n",
    "                idx = np.argsort(conditioned_y_array)\n",
    "                conditioned_y_array = conditioned_y_array[idx]\n",
    "                # x_array is 2D here, each row corresponds to a different y value\n",
    "                x_array = x_array[idx]\n",
    "                z_array = function[idx]\n",
    "\n",
    "                z_list = []\n",
    "                x_list = []\n",
    "                for i in range(len(conditioned_y_array)):\n",
    "                    # column sort\n",
    "                    idx = np.argsort(x_array[i])\n",
    "                    x_ = x_array[i][idx]\n",
    "                    z_ = z_array[i][idx]\n",
    "                    idx = np.argwhere(np.isnan(z_))\n",
    "                    x_list.append(np.delete(x_, idx))\n",
    "                    z_list.append(np.delete(z_, idx))\n",
    "\n",
    "\n",
    "        return np.array(x_list), np.array(z_list), conditioned_y_array\n",
    "\n",
    "    def cdf_values_generator(self, x_array, z_array, pdf_norm_const, conditioned_y_array):\n",
    "        # 1D case\n",
    "        if conditioned_y_array is None:\n",
    "            z_array[z_array<0.] = 0.\n",
    "            cdf_values = cumulative_trapezoid(z_array/pdf_norm_const, x_array, initial=0)\n",
    "        # 2D case\n",
    "        else:\n",
    "            cdf_values = []\n",
    "            for i, y in enumerate(conditioned_y_array):\n",
    "                z_array_ = z_array[i]\n",
    "                z_array_[z_array_<0.] = 0.\n",
    "                pdf_norm_ = pdf_norm_const[i]\n",
    "                cdf_values.append(cumulative_trapezoid(z_array_/pdf_norm_, x_array[i], initial=0))\n",
    "\n",
    "        return np.array(cdf_values)\n",
    "    \n",
    "    def pdf_norm_const_generator(self, x_array, function_spline, conditioned_y_array):\n",
    "        # 1D case\n",
    "        if conditioned_y_array is None:\n",
    "            pdf_unorm = lambda x: cubic_spline_interpolator(np.array([x]), function_spline, x_array)\n",
    "\n",
    "            norm = quad(pdf_unorm, min(x_array), max(x_array))[0]\n",
    "            return norm\n",
    "        # 2D case\n",
    "        else:\n",
    "            norm = []\n",
    "            for i, y in enumerate(conditioned_y_array):\n",
    "                pdf_unorm = lambda x: cubic_spline_interpolator(np.array([x]), function_spline[i], x_array[i])\n",
    "\n",
    "                norm.append(quad(pdf_unorm, min(x_array[i]), max(x_array[i]))[0])\n",
    "\n",
    "            return np.array(norm)\n",
    "    \n",
    "    def function_spline_generator(self, x_array, z_array, conditioned_y_array):\n",
    "        # 1D case\n",
    "        if conditioned_y_array is None:\n",
    "            function_spline = CubicSpline(x_array, z_array).c\n",
    "        # 2D case\n",
    "        else:\n",
    "            function_spline = []\n",
    "            for i, y in enumerate(conditioned_y_array):\n",
    "                function_spline.append(CubicSpline(x_array[i], z_array[i]).c)\n",
    "            \n",
    "        return np.array(function_spline)"
   ]
  },
  {
   "cell_type": "code",
   "execution_count": 83,
   "metadata": {},
   "outputs": [],
   "source": [
    "# x_array = np.load('x_array.npy')\n",
    "# y_array = np.load('y_array.npy')\n",
    "# z_array = np.load('z_array.npy')\n",
    "\n",
    "from astropy.cosmology import LambdaCDM\n",
    "cosmo = LambdaCDM(H0=70, Om0=0.3, Ode0=0.7)\n",
    "Dc = lambda z_: cosmo.comoving_distance(z_).value\n",
    "x_array = np.geomspace(0.001, 10.0, 1000)\n",
    "z_array = Dc(x_array)"
   ]
  },
  {
   "cell_type": "code",
   "execution_count": 93,
   "metadata": {},
   "outputs": [
    {
     "name": "stdout",
     "output_type": "stream",
     "text": [
      "default interpolator will be generated at ./interpolator_pickle/default/default_1.json\n",
      "y_array None: None\n"
     ]
    }
   ],
   "source": [
    "#1D sucess, loading and saving also works\n",
    "test = FuntionConditioning(\n",
    "    param_dict_given={'dimension': 1},\n",
    "    function=Dc,\n",
    "    x_array=x_array,\n",
    "    # conditioned_y_array=y_array,\n",
    "    create_new=True,\n",
    ")\n",
    "# test2 = FuntionConditioning(\n",
    "#     param_dict_given={'dimension': 2},\n",
    "#     function=z_array,\n",
    "#     x_array=x_array,\n",
    "#     conditioned_y_array=y_array,\n",
    "#     create_new=False,\n",
    "# )"
   ]
  },
  {
   "cell_type": "code",
   "execution_count": 78,
   "metadata": {},
   "outputs": [
    {
     "data": {
      "text/plain": [
       "True"
      ]
     },
     "execution_count": 78,
     "metadata": {},
     "output_type": "execute_result"
    }
   ],
   "source": [
    "test.none==None"
   ]
  },
  {
   "cell_type": "code",
   "execution_count": 72,
   "metadata": {},
   "outputs": [],
   "source": [
    "dict_ = load_json('./interpolator_pickle/default/default_1.json')"
   ]
  },
  {
   "cell_type": "code",
   "execution_count": 25,
   "metadata": {},
   "outputs": [
    {
     "data": {
      "text/plain": [
       "dict_keys(['x_array', 'z_array', 'conditioned_y_array', 'function_spline', 'pdf_norm_const', 'cdf_values'])"
      ]
     },
     "execution_count": 25,
     "metadata": {},
     "output_type": "execute_result"
    }
   ],
   "source": [
    "dict_.keys()"
   ]
  },
  {
   "cell_type": "code",
   "execution_count": 34,
   "metadata": {},
   "outputs": [
    {
     "data": {
      "text/plain": [
       "NoneType"
      ]
     },
     "execution_count": 34,
     "metadata": {},
     "output_type": "execute_result"
    }
   ],
   "source": [
    "type(dict_['conditioned_y_array'])"
   ]
  },
  {
   "cell_type": "code",
   "execution_count": 88,
   "metadata": {},
   "outputs": [
    {
     "data": {
      "text/plain": [
       "array([9.51914935e-10, 1.05860187e-08, 1.90405000e-08,\n",
       "       2.11637648e-08])"
      ]
     },
     "execution_count": 88,
     "metadata": {},
     "output_type": "execute_result"
    }
   ],
   "source": [
    "test.pdf(np.array([0.1,1.112, 2., 2.223]))\n",
    "# test.rvs?\n",
    "#test2.pdf(np.array([0.1,1.112, 2., 2.223]), np.array([0.1,1.112, 2., 2.223]))"
   ]
  },
  {
   "cell_type": "code",
   "execution_count": 20,
   "metadata": {},
   "outputs": [
    {
     "name": "stdout",
     "output_type": "stream",
     "text": [
      "0 0.001 0.01\n"
     ]
    }
   ],
   "source": [
    "y = test2.conditioned_y_array\n",
    "ynew = 0.01\n",
    "\n",
    "y_idx = np.searchsorted(y, ynew) - 1 if ynew > y[0] else 0\n",
    "if ynew > y[y_idx] + (y[y_idx+1] - y[y_idx]) / 2:\n",
    "    y_idx = y_idx + 1\n",
    "\n",
    "print(y_idx, y[y_idx], ynew)"
   ]
  },
  {
   "cell_type": "code",
   "execution_count": 25,
   "metadata": {},
   "outputs": [
    {
     "ename": "SyntaxError",
     "evalue": "incomplete input (3513201128.py, line 1)",
     "output_type": "error",
     "traceback": [
      "\u001b[0;36m  Cell \u001b[0;32mIn[25], line 1\u001b[0;36m\u001b[0m\n\u001b[0;31m    cubic_spline_interpolator(np.linspace(0.0, 0.01, 100), test2.function_spline[y_idx], #test2.x_array[y_idx])\u001b[0m\n\u001b[0m                                                                                                               ^\u001b[0m\n\u001b[0;31mSyntaxError\u001b[0m\u001b[0;31m:\u001b[0m incomplete input\n"
     ]
    }
   ],
   "source": [
    "cubic_spline_interpolator(np.linspace(0.0, 0.01, 100), test2.function_spline[y_idx], test2.x_array[y_idx])"
   ]
  },
  {
   "cell_type": "code",
   "execution_count": 12,
   "metadata": {},
   "outputs": [
    {
     "name": "stdout",
     "output_type": "stream",
     "text": [
      "9\n"
     ]
    },
    {
     "data": {
      "text/plain": [
       "(array([0.8287399 , 0.21013327, 0.86829262, 0.37377619,\n",
       "        0.50097759, 0.18257978, 0.07358526, 0.97963767,\n",
       "        0.19944918, 0.69241226]),\n",
       " array([67, 26, 70, 36, 42, 24, 15, 86, 26, 55]))"
      ]
     },
     "execution_count": 12,
     "metadata": {},
     "output_type": "execute_result"
    }
   ],
   "source": [
    "y1d = test2.conditioned_y_array\n",
    "conditioned_y = 1.0\n",
    "y_idx = np.searchsorted(y1d, conditioned_y) - 1 if conditioned_y > y1d[0] else 0\n",
    "print(y_idx)\n",
    "\n",
    "cdf2d = test2.cdf_values\n",
    "x2d = test2.x_array\n",
    "cdf = cdf2d[y_idx]\n",
    "x = x2d[y_idx]\n",
    "\n",
    "size = 10\n",
    "u = np.random.uniform(0, 1, size)\n",
    "idx = np.searchsorted(cdf, u)\n",
    "# x1, x0, y1, y0 = cdf[idx], cdf[idx-1], x[idx], x[idx-1]\n",
    "# samples = y0 + (y1 - y0) * (u - x0) / (x1 - x0)\n",
    "u, idx"
   ]
  },
  {
   "cell_type": "code",
   "execution_count": 30,
   "metadata": {},
   "outputs": [
    {
     "data": {
      "text/plain": [
       "(0.0, 0.001)"
      ]
     },
     "execution_count": 30,
     "metadata": {},
     "output_type": "execute_result"
    }
   ],
   "source": [
    "test2.x_array[y_idx].min(), test2.x_array[y_idx].max()"
   ]
  },
  {
   "cell_type": "code",
   "execution_count": 46,
   "metadata": {},
   "outputs": [
    {
     "data": {
      "image/png": "[encoded data removed]",
      "text/plain": [
       "<Figure size 640x480 with 1 Axes>"
      ]
     },
     "metadata": {},
     "output_type": "display_data"
    }
   ],
   "source": [
    "y_idx = 1\n",
    "# plt.plot(test2.x_array[y_idx],test2.cdf_values[y_idx])\n",
    "plt.plot(test2.x_array[y_idx],test2.z_array[y_idx])\n",
    "\n",
    "spline = CubicSpline(test2.x_array[y_idx], test2.z_array[y_idx]).c\n",
    "\n",
    "plt.plot(test2.x_array[y_idx], cubic_spline_interpolator(np.linspace(0.0, test2.conditioned_y_array[y_idx], 100), spline, test2.x_array[y_idx]), label='test')\n",
    "plt.legend()\n",
    "\n",
    "\n",
    "plt.show()"
   ]
  },
  {
   "cell_type": "code",
   "execution_count": 10,
   "metadata": {},
   "outputs": [
    {
     "data": {
      "text/plain": [
       "(1.0000000088986405, 1.0460726803139762e-08)"
      ]
     },
     "execution_count": 10,
     "metadata": {},
     "output_type": "execute_result"
    }
   ],
   "source": [
    "# integrate test2.pdf with quad\n",
    "y_idx = 0\n",
    "y = test2.conditioned_y_array[y_idx]\n",
    "integrand = lambda x: test2.pdf(np.array([x]), np.array([y]))[0]\n",
    "\n",
    "quad(integrand, 0.0, y)"
   ]
  },
  {
   "cell_type": "code",
   "execution_count": 9,
   "metadata": {},
   "outputs": [
    {
     "data": {
      "text/plain": [
       "array([1.00000000e-03, 1.09749877e-03, 1.20450354e-03,\n",
       "       1.32194115e-03, 1.45082878e-03, 1.59228279e-03,\n",
       "       1.74752840e-03, 1.91791026e-03, 2.10490414e-03,\n",
       "       2.31012970e-03, 2.53536449e-03, 2.78255940e-03,\n",
       "       3.05385551e-03, 3.35160265e-03, 3.67837977e-03,\n",
       "       4.03701726e-03, 4.43062146e-03, 4.86260158e-03,\n",
       "       5.33669923e-03, 5.85702082e-03, 6.42807312e-03,\n",
       "       7.05480231e-03, 7.74263683e-03, 8.49753436e-03,\n",
       "       9.32603347e-03, 1.02353102e-02, 1.12332403e-02,\n",
       "       1.23284674e-02, 1.35304777e-02, 1.48496826e-02,\n",
       "       1.62975083e-02, 1.78864953e-02, 1.96304065e-02,\n",
       "       2.15443469e-02, 2.36448941e-02, 2.59502421e-02,\n",
       "       2.84803587e-02, 3.12571585e-02, 3.43046929e-02,\n",
       "       3.76493581e-02, 4.13201240e-02, 4.53487851e-02,\n",
       "       4.97702356e-02, 5.46227722e-02, 5.99484250e-02,\n",
       "       6.57933225e-02, 7.22080902e-02, 7.92482898e-02,\n",
       "       8.69749003e-02, 9.54548457e-02, 1.02000000e-01,\n",
       "       1.04761575e-01, 1.14975700e-01, 1.26185688e-01,\n",
       "       1.38488637e-01, 1.51991108e-01, 1.66810054e-01,\n",
       "       1.83073828e-01, 2.00923300e-01, 2.03000000e-01,\n",
       "       2.20513074e-01, 2.42012826e-01, 2.65608778e-01,\n",
       "       2.91505306e-01, 3.04000000e-01, 3.19926714e-01,\n",
       "       3.51119173e-01, 3.85352859e-01, 4.05000000e-01,\n",
       "       4.22924287e-01, 4.64158883e-01, 5.06000000e-01,\n",
       "       5.09413801e-01, 5.59081018e-01, 6.07000000e-01,\n",
       "       6.13590727e-01, 6.73415066e-01, 7.08000000e-01,\n",
       "       7.39072203e-01, 8.09000000e-01, 8.11130831e-01,\n",
       "       8.90215085e-01, 9.10000000e-01, 9.77009957e-01,\n",
       "       1.01100000e+00, 1.07226722e+00, 1.11200000e+00,\n",
       "       1.17681195e+00, 1.21300000e+00, 1.29154967e+00,\n",
       "       1.31400000e+00, 1.41500000e+00, 1.41747416e+00,\n",
       "       1.51600000e+00, 1.55567614e+00, 1.61700000e+00,\n",
       "       1.70735265e+00, 1.71800000e+00, 1.81900000e+00,\n",
       "       1.87381742e+00, 1.92000000e+00, 2.02100000e+00,\n",
       "       2.05651231e+00, 2.12200000e+00, 2.22300000e+00,\n",
       "       2.25701972e+00, 2.32400000e+00, 2.42500000e+00,\n",
       "       2.47707636e+00, 2.52600000e+00, 2.62700000e+00,\n",
       "       2.71858824e+00, 2.72800000e+00, 2.82900000e+00,\n",
       "       2.93000000e+00, 2.98364724e+00, 3.03100000e+00,\n",
       "       3.13200000e+00, 3.23300000e+00, 3.27454916e+00,\n",
       "       3.33400000e+00, 3.43500000e+00, 3.53600000e+00,\n",
       "       3.59381366e+00, 3.63700000e+00, 3.73800000e+00,\n",
       "       3.83900000e+00, 3.94000000e+00, 3.94420606e+00,\n",
       "       4.04100000e+00, 4.14200000e+00, 4.24300000e+00,\n",
       "       4.32876128e+00, 4.34400000e+00, 4.44500000e+00,\n",
       "       4.54600000e+00, 4.64700000e+00, 4.74800000e+00,\n",
       "       4.75081016e+00, 4.84900000e+00, 4.95000000e+00,\n",
       "       5.05100000e+00, 5.15200000e+00, 5.21400829e+00,\n",
       "       5.25300000e+00, 5.35400000e+00, 5.45500000e+00,\n",
       "       5.55600000e+00, 5.65700000e+00, 5.72236766e+00,\n",
       "       5.75800000e+00, 5.85900000e+00, 5.96000000e+00,\n",
       "       6.06100000e+00, 6.16200000e+00, 6.26300000e+00,\n",
       "       6.28029144e+00, 6.36400000e+00, 6.46500000e+00,\n",
       "       6.56600000e+00, 6.66700000e+00, 6.76800000e+00,\n",
       "       6.86900000e+00, 6.89261210e+00, 6.97000000e+00,\n",
       "       7.07100000e+00, 7.17200000e+00, 7.27300000e+00,\n",
       "       7.37400000e+00, 7.47500000e+00, 7.56463328e+00,\n",
       "       7.57600000e+00, 7.67700000e+00, 7.77800000e+00,\n",
       "       7.87900000e+00, 7.98000000e+00, 8.08100000e+00,\n",
       "       8.18200000e+00, 8.28300000e+00, 8.30217568e+00,\n",
       "       8.38400000e+00, 8.48500000e+00, 8.58600000e+00,\n",
       "       8.68700000e+00, 8.78800000e+00, 8.88900000e+00,\n",
       "       8.99000000e+00, 9.09100000e+00, 9.11162756e+00,\n",
       "       9.19200000e+00, 9.29300000e+00, 9.39400000e+00,\n",
       "       9.49500000e+00, 9.59600000e+00, 9.69700000e+00,\n",
       "       9.79800000e+00, 9.89900000e+00, 1.00000000e+01])"
      ]
     },
     "execution_count": 9,
     "metadata": {},
     "output_type": "execute_result"
    }
   ],
   "source": [
    "test2.conditioned_y_array"
   ]
  },
  {
   "cell_type": "code",
   "execution_count": 12,
   "metadata": {},
   "outputs": [
    {
     "data": {
      "image/png": "[encoded data removed]",
      "text/plain": [
       "<Figure size 640x480 with 1 Axes>"
      ]
     },
     "metadata": {},
     "output_type": "display_data"
    }
   ],
   "source": [
    "x_max = 0.01\n",
    "x_values = np.linspace(0.0, x_max, 100)\n",
    "#test.function(x_values)\n",
    "plt.plot(x_values, test2.pdf(x_values, x_max*np.ones_like(x_values)), label='function')\n",
    "# plt.plot(x_values, test2.function(x_values, test2.conditioned_y_array[1]*np.ones_like(x_values)), label='function')\n",
    "plt.hist(test2.rvs(20000, x_max), bins=100, density=True, alpha=0.5, label='rvs')\n",
    "\n",
    "# x_max = test2.conditioned_y_array[2]\n",
    "# x_values = np.linspace(0.0, x_max, 100)\n",
    "# plt.plot(x_values, test2.function(x_values, x_max*np.ones_like(x_values)), label='function2')\n",
    "\n",
    "# idx = np.searchsorted(y_array, x_max)\n",
    "#plt.plot(x_array[idx], z_array[idx], 'o', label='data')\n",
    "plt.show()"
   ]
  },
  {
   "cell_type": "code",
   "execution_count": null,
   "metadata": {},
   "outputs": [],
   "source": []
  },
  {
   "cell_type": "code",
   "execution_count": 44,
   "metadata": {},
   "outputs": [
    {
     "data": {
      "image/png": "[encoded data removed]",
      "text/plain": [
       "<Figure size 640x480 with 1 Axes>"
      ]
     },
     "metadata": {},
     "output_type": "display_data"
    }
   ],
   "source": [
    "# x_values = np.linspace(0., 10., 100)\n",
    "#test.function(x_values)\n",
    "#plt.plot(x_values, test.function(x_values), label='function')\n",
    "plt.plot(z_array, test.function(z_array), label='inv function')\n",
    "#plt.plot(x_array[-1], z_array[-1], 'o', label='data')\n",
    "#plt.plot(z_array[-1], x_array[-1], 'o', label='data')\n",
    "plt.show()"
   ]
  },
  {
   "cell_type": "code",
   "execution_count": 3,
   "metadata": {},
   "outputs": [],
   "source": [
    "# numpy 2d norm, with different mu and sigma for each row"
   ]
  },
  {
   "cell_type": "code",
   "execution_count": 52,
   "metadata": {},
   "outputs": [
    {
     "name": "stdout",
     "output_type": "stream",
     "text": [
      "\n",
      "Initializing LensGalaxyParameterDistribution class...\n",
      "\n",
      "\n",
      "Initializing OpticalDepth class\n",
      "\n",
      "z_to_Dc interpolator will be loaded from ./interpolator_pickle/z_to_Dc/z_to_Dc_0.pickle\n",
      "Dc_to_z interpolator will be loaded from ./interpolator_pickle/Dc_to_z/Dc_to_z_0.pickle\n",
      "angular_diameter_distance interpolator will be loaded from ./interpolator_pickle/angular_diameter_distance/angular_diameter_distance_0.pickle\n",
      "differential_comoving_volume interpolator will be loaded from ./interpolator_pickle/differential_comoving_volume/differential_comoving_volume_1.pickle\n",
      "velocity_dispersion_ewoud interpolator will be loaded from ./interpolator_pickle/velocity_dispersion/velocity_dispersion_ewoud_0.pickle\n",
      "Using pre-gererated axis ratio rayleigh pdf coefficients...\n",
      "axis_ratio_rayleigh interpolator will be loaded from ./interpolator_pickle/axis_ratio/axis_ratio_rayleigh_0.pickle\n",
      "axis_ratio sampler: CPUDispatcher(<function OpticalDepth.axis_ratio_rayleigh.<locals>.sampler at 0x342589240>) has been set.\n",
      "Interpolated cross section function loaded from ./interpolator_pickle/cross_section_function/cross_section_function_0.pickle\n",
      "Using pre-gererated optical depth function: optical_depth_epl_shear_hemanta.\n",
      "optical_depth_epl_shear_hemanta interpolator will be loaded from ./interpolator_pickle/optical_depth/optical_depth_epl_shear_hemanta_0.pickle\n",
      "Using interpolated cross section function\n",
      "\n",
      "Initializing CBCSourceParameterDistribution...\n",
      "\n",
      "\n",
      "Initializing CBCSourceRedshiftDistribution...\n",
      "\n",
      "z_to_luminosity_distance interpolator will be loaded from ./interpolator_pickle/z_to_luminosity_distance/z_to_luminosity_distance_0.pickle\n",
      "differential_comoving_volume interpolator will be loaded from ./interpolator_pickle/differential_comoving_volume/differential_comoving_volume_0.pickle\n",
      "merger_rate_density interpolator will be loaded from ./interpolator_pickle/merger_rate_density/merger_rate_density_0.pickle\n",
      "luminosity_distance_to_z interpolator will be loaded from ./interpolator_pickle/luminosity_distance_to_z/luminosity_distance_to_z_0.pickle\n",
      "density_profile_slope_sl interpolator will be loaded from ./interpolator_pickle/density_profile_slope/density_profile_slope_sl_0.pickle\n"
     ]
    }
   ],
   "source": [
    "from ler.lens_galaxy_population import LensGalaxyParameterDistribution\n",
    "\n",
    "ler = LensGalaxyParameterDistribution()"
   ]
  },
  {
   "cell_type": "code",
   "execution_count": 66,
   "metadata": {},
   "outputs": [],
   "source": [
    "# scipy kde\n",
    "import numpy as np\n",
    "import scipy.stats as stats\n",
    "\n",
    "y_array1 = np.linspace(0.001, 10, 200)\n",
    "y_array2 = np.geomspace(0.001, 10, 200)\n",
    "# unique\n",
    "y_array = np.unique(np.concatenate([y_array1, y_array2]))\n",
    "\n",
    "x_size = 200\n",
    "x_list = []\n",
    "z_list = []\n",
    "for i, y in enumerate(y_array):\n",
    "    x_sample = ler.sample_lens_redshift(y*np.ones(x_size))\n",
    "    # find kde\n",
    "    kde = stats.gaussian_kde(x_sample)\n",
    "    x_array = np.linspace(0.0, y, x_size)\n",
    "    z_array = kde(x_array) \n",
    "    z_array /= np.max(z_array)\n",
    "    x_list.append(x_array)\n",
    "    z_list.append(z_array)\n",
    "x_array = np.array(x_list)\n",
    "z_array = np.array(z_list)\n",
    "del x_list, z_list"
   ]
  },
  {
   "cell_type": "code",
   "execution_count": 55,
   "metadata": {},
   "outputs": [],
   "source": [
    "# np save x_array, z_array, y_array\n",
    "np.save('x_array.npy', x_array)\n",
    "np.save('z_array.npy', z_array)\n",
    "np.save('y_array.npy', y_array)"
   ]
  },
  {
   "cell_type": "code",
   "execution_count": 20,
   "metadata": {},
   "outputs": [
    {
     "data": {
      "text/plain": [
       "array([1.00000000e-03, 1.01862899e-03, 1.03760502e-03, ...,\n",
       "       9.63757866e+00, 9.81711702e+00, 1.00000000e+01])"
      ]
     },
     "execution_count": 20,
     "metadata": {},
     "output_type": "execute_result"
    }
   ],
   "source": [
    "np.geomspace(0.001, 10, 500)"
   ]
  },
  {
   "cell_type": "code",
   "execution_count": 1,
   "metadata": {},
   "outputs": [
    {
     "ename": "SyntaxError",
     "evalue": "invalid syntax (4081325474.py, line 28)",
     "output_type": "error",
     "traceback": [
      "\u001b[0;36m  Cell \u001b[0;32mIn[1], line 28\u001b[0;36m\u001b[0m\n\u001b[0;31m    x =\u001b[0m\n\u001b[0m        ^\u001b[0m\n\u001b[0;31mSyntaxError\u001b[0m\u001b[0;31m:\u001b[0m invalid syntax\n"
     ]
    }
   ],
   "source": [
    "@njit\n",
    "def interpolator_sampler_conditioned(size, conditioned_y, cdf2d, x2d, y1d):\n",
    "    \"\"\"\n",
    "    Function to find sampler interpolator coefficients from the conditioned y.\n",
    "    \"\"\"\n",
    "\n",
    "    # xnew = xnew_array[i]\n",
    "    # ynew = ynew_array[i]\n",
    "\n",
    "    len_y = len(y1d)\n",
    "    # find the index nearest to the ynew in y\n",
    "    y_idx = np.searchsorted(y, ynew) - 1 if ynew > y[0] else 0\n",
    "    if ynew > y[y_idx] + (y[y_idx+1] - y[y_idx]) / 2:\n",
    "        y_idx = y_idx + 1\n",
    "\n",
    "    if (ynew>y[0]) and (ynew<y[1]):\n",
    "        # linear scaling\n",
    "        # new cdf values \n",
    "        x1, x0, y1, y0 = y1d[1], y1d[0], cdf2d[1], cdf2d[0]\n",
    "        cdf = y0 + (y1 - y0) * (conditioned_y - x0) / (x1 - x0)\n",
    "        # new x values\n",
    "        # x=x2d[0], if all rows are same \n",
    "        x1, x0, y1, y0 = y1d[1], y1d[0], x2d[1], x2d[0]\n",
    "        x = y0 + (y1 - y0) * (conditioned_y - x0) / (x1 - x0)\n",
    "\n",
    "    elif y_idx == 0:  # lower end point\n",
    "        cdf = cdf2d[0]\n",
    "        x = \n",
    "        # print(\"a\")\n",
    "    elif y_idx+1 == len_y:  # upper end point\n",
    "        result_array.append(cubic_spline_interpolator(np.array([xnew]), coefficients[-1], x[-1])[0]/norm_array[-1])\n",
    "        # print(\"b\")\n",
    "    elif y_idx+2 == len_y:  # upper end point\n",
    "        result_array.append(cubic_spline_interpolator(np.array([xnew]), coefficients[-1], x[-1])[0]/norm_array[-1])\n",
    "        # print(\"b\")\n",
    "    else:\n",
    "\n",
    "\n",
    "\n",
    "    if conditioned_y <= y1d[0]:\n",
    "        y_idx = 0\n",
    "    elif conditioned_y >= y1d[-1]:\n",
    "        y_idx = len(y1d)-1\n",
    "    else:\n",
    "        y_idx = np.searchsorted(y1d, conditioned_y)\n",
    "\n",
    "\n",
    "    x = x2d[y_idx]\n",
    "\n",
    "    u = np.random.uniform(0, 1, size)\n",
    "    idx = np.searchsorted(cdf, u)\n",
    "    x1, x0, y1, y0 = cdf[idx], cdf[idx-1], x[idx], x[idx-1]\n",
    "    samples = y0 + (y1 - y0) * (u - x0) / (x1 - x0)\n",
    "    return samples"
   ]
  },
  {
   "cell_type": "code",
   "execution_count": null,
   "metadata": {},
   "outputs": [],
   "source": []
  }
 ],
 "metadata": {
  "kernelspec": {
   "display_name": "ler",
   "language": "python",
   "name": "ler"
  },
  "language_info": {
   "codemirror_mode": {
    "name": "ipython",
    "version": 3
   },
   "file_extension": ".py",
   "mimetype": "text/x-python",
   "name": "python",
   "nbconvert_exporter": "python",
   "pygments_lexer": "ipython3",
   "version": "3.10.14"
  }
 },
 "nbformat": 4,
 "nbformat_minor": 2
}
