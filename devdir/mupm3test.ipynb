{
 "cells": [
  {
   "cell_type": "code",
   "execution_count": 1,
   "metadata": {},
   "outputs": [
    {
     "name": "stdout",
     "output_type": "stream",
     "text": [
      "Setting multiprocessing start method to 'fork'\n"
     ]
    }
   ],
   "source": [
    "from ler.rates import LeR\n",
    "from ler.utils import get_param_from_json\n",
    "import numpy as np\n",
    "import matplotlib.pyplot as plt\n",
    "\n",
    "# other necessary imports\n",
    "from astropy.cosmology import LambdaCDM\n",
    "cosmo = LambdaCDM(H0=70, Om0=0.3, Ode0=0.7)"
   ]
  },
  {
   "cell_type": "code",
   "execution_count": 2,
   "metadata": {},
   "outputs": [
    {
     "name": "stdout",
     "output_type": "stream",
     "text": [
      "\n",
      "Initializing LeR class...\n",
      "\n",
      "\n",
      "Initializing LensGalaxyParameterDistribution class...\n",
      "\n",
      "\n",
      "Initializing OpticalDepth class\n",
      "\n",
      "z_to_Dc interpolator will be loaded from ./interpolator_pickle/z_to_Dc/z_to_Dc_0.pickle\n",
      "Dc_to_z interpolator will be loaded from ./interpolator_pickle/Dc_to_z/Dc_to_z_0.pickle\n",
      "angular_diameter_distance interpolator will be loaded from ./interpolator_pickle/angular_diameter_distance/angular_diameter_distance_0.pickle\n",
      "differential_comoving_volume interpolator will be loaded from ./interpolator_pickle/differential_comoving_volume/differential_comoving_volume_1.pickle\n",
      "velocity_dispersion_ewoud interpolator will be loaded from ./interpolator_pickle/velocity_dispersion/velocity_dispersion_ewoud_0.pickle\n",
      "Using pre-gererated axis ratio rayleigh pdf coefficients...\n",
      "axis_ratio_rayleigh interpolator will be loaded from ./interpolator_pickle/axis_ratio/axis_ratio_rayleigh_0.pickle\n",
      "axis_ratio sampler: CPUDispatcher(<function OpticalDepth.axis_ratio_rayleigh.<locals>.sampler at 0x1073517e0>) has been set.\n",
      "Using pre-gererated optical depth function: optical_depth_epl_shear_hemanta.\n",
      "optical_depth_epl_shear_hemanta interpolator will be loaded from ./interpolator_pickle/optical_depth/optical_depth_epl_shear_hemanta_0.pickle\n",
      "\n",
      "Initializing CBCSourceParameterDistribution...\n",
      "\n",
      "\n",
      "Initializing CBCSourceRedshiftDistribution...\n",
      "\n",
      "z_to_luminosity_distance interpolator will be loaded from ./interpolator_pickle/z_to_luminosity_distance/z_to_luminosity_distance_0.pickle\n",
      "differential_comoving_volume interpolator will be loaded from ./interpolator_pickle/differential_comoving_volume/differential_comoving_volume_0.pickle\n",
      "merger_rate_density interpolator will be loaded from ./interpolator_pickle/merger_rate_density/merger_rate_density_1.pickle\n",
      "luminosity_distance_to_z interpolator will be loaded from ./interpolator_pickle/luminosity_distance_to_z/luminosity_distance_to_z_0.pickle\n",
      "\n",
      "Initializing GWSNR class...\n",
      "\n",
      "Interpolator will be loaded for L1 detector from ./interpolator_pickle/L1/partialSNR_dict_0.pickle\n",
      "Interpolator will be loaded for H1 detector from ./interpolator_pickle/H1/partialSNR_dict_0.pickle\n",
      "Interpolator will be loaded for V1 detector from ./interpolator_pickle/V1/partialSNR_dict_0.pickle\n",
      "\n",
      " # LeR set up params:\n",
      "npool = 4,\n",
      "z_min = 0.0,\n",
      "z_max = 10.0,\n",
      "event_type = 'BBH',\n",
      "size = 100000,\n",
      "batch_size = 50000,\n",
      "cosmology = LambdaCDM(H0=70.0 km / (Mpc s), Om0=0.3, Ode0=0.7, Tcmb0=0.0 K, Neff=3.04, m_nu=None, Ob0=None),\n",
      "snr_finder = <bound method GWSNR.snr of <gwsnr.gwsnr.GWSNR object at 0x107323670>>,\n",
      "json_file_names = {'ler_params': 'ler_params.json', 'unlensed_param': 'unlensed_param_baseline.json', 'unlensed_param_detectable': 'unlensed_param_detectable_baseline.json', 'lensed_param': 'lensed_param_baseline.json', 'lensed_param_detectable': 'lensed_param_detectable_baseline.json'},\n",
      "interpolator_directory = './interpolator_pickle',\n",
      "ler_directory = './ler_data',\n",
      "\n",
      " # LeR also takes CBCSourceParameterDistribution class params as kwargs, as follows:\n",
      "source_priors = {'merger_rate_density': 'merger_rate_density_bbh_popI_II_oguri2018', 'source_frame_masses': 'binary_masses_BBH_popI_II_powerlaw_gaussian', 'zs': 'sample_source_redshift', 'geocent_time': 'sampler_uniform', 'ra': 'sampler_uniform', 'dec': 'sampler_cosine', 'phase': 'sampler_uniform', 'psi': 'sampler_uniform', 'theta_jn': 'sampler_sine'},\n",
      "source_priors_params = {'merger_rate_density': {'R0': 2.39e-08, 'b2': 1.6, 'b3': 2.1, 'b4': 30}, 'source_frame_masses': {'mminbh': 4.98, 'mmaxbh': 112.5, 'alpha': 3.78, 'mu_g': 32.27, 'sigma_g': 3.88, 'lambda_peak': 0.03, 'delta_m': 4.8, 'beta': 0.81}, 'zs': None, 'geocent_time': {'min_': 1238166018, 'max_': 1269702018}, 'ra': {'min_': 0.0, 'max_': 6.283185307179586}, 'dec': None, 'phase': {'min_': 0.0, 'max_': 6.283185307179586}, 'psi': {'min_': 0.0, 'max_': 3.141592653589793}, 'theta_jn': None},\n",
      "spin_zero = True,\n",
      "spin_precession = False,\n",
      "create_new_interpolator = False,\n",
      "\n",
      " # LeR also takes LensGalaxyParameterDistribution class params as kwargs, as follows:\n",
      "lens_type = 'epl_shear_galaxy',\n",
      "lens_functions = {'strong_lensing_condition': 'rjs_with_cross_section_sis', 'optical_depth': 'optical_depth_epl_shear_hemanta', 'optical_depth_params': {'interpolated_cross_section': False}, 'param_sampler_type': 'sample_all_routine_sis'},\n",
      "lens_priors = {'source_redshift_sl': 'strongly_lensed_source_redshifts', 'lens_redshift': 'lens_redshift_SDSS_catalogue', 'velocity_dispersion': 'velocity_dispersion_ewoud', 'axis_ratio': 'axis_ratio_rayleigh', 'axis_rotation_angle': 'axis_rotation_angle_uniform', 'external_shear': 'shear_norm', 'density_profile_slope': 'density_profile_slope_normal', 'source_parameters': 'sample_gw_parameters'},\n",
      "lens_priors_params = {'source_redshift_sl': None, 'lens_redshift': None, 'velocity_dispersion': {'vd_min': 50.0, 'vd_max': 420.0, 'alpha': 0.94, 'beta': 1.85, 'phistar': 0.02099, 'sigmastar': 113.78}, 'axis_ratio': {'q_min': 0.2, 'q_max': 1.0}, 'axis_rotation_angle': {'phi_min': 0.0, 'phi_max': 6.283185307179586}, 'external_shear': {'scale': 0.05}, 'density_profile_slope': {'mean': 2.0, 'std': 0.2}, 'source_parameters': None},\n",
      "\n",
      " # LeR also takes ImageProperties class params as kwargs, as follows:\n",
      "n_min_images = 2,\n",
      "n_max_images = 4,\n",
      "geocent_time_min = 1238166018,\n",
      "geocent_time_max = 1269702018,\n",
      "lens_model_list = ['EPL_NUMBA', 'SHEAR'],\n",
      "\n",
      " # LeR also takes gwsnr.GWSNR params as kwargs, as follows:\n",
      "mtot_min = 2.0,\n",
      "mtot_max = 184.98599853446768,\n",
      "ratio_min = 0.1,\n",
      "ratio_max = 1.0,\n",
      "mtot_resolution = 500,\n",
      "ratio_resolution = 50,\n",
      "sampling_frequency = 2048.0,\n",
      "waveform_approximant = 'IMRPhenomD',\n",
      "minimum_frequency = 20.0,\n",
      "snr_type = 'interpolation',\n",
      "psds = [PowerSpectralDensity(psd_file='None', asd_file='/Users/phurailatpamhemantakumar/anaconda3/envs/ler/lib/python3.10/site-packages/bilby/gw/detector/noise_curves/aLIGO_O4_high_asd.txt'), PowerSpectralDensity(psd_file='None', asd_file='/Users/phurailatpamhemantakumar/anaconda3/envs/ler/lib/python3.10/site-packages/bilby/gw/detector/noise_curves/aLIGO_O4_high_asd.txt'), PowerSpectralDensity(psd_file='None', asd_file='/Users/phurailatpamhemantakumar/anaconda3/envs/ler/lib/python3.10/site-packages/bilby/gw/detector/noise_curves/AdV_asd.txt')],\n",
      "ifos = ['L1', 'H1', 'V1'],\n",
      "interpolator_dir = './interpolator_pickle',\n",
      "gwsnr_verbose = False,\n",
      "multiprocessing_verbose = True,\n",
      "mtot_cut = True,\n",
      "\n",
      " For reference, the chosen source parameters are listed below:\n",
      "merger_rate_density = 'merger_rate_density_bbh_popI_II_oguri2018'\n",
      "merger_rate_density_params =  {'R0': 2.39e-08, 'b2': 1.6, 'b3': 2.1, 'b4': 30}\n",
      "source_frame_masses = 'binary_masses_BBH_popI_II_powerlaw_gaussian'\n",
      "source_frame_masses_params =  {'mminbh': 4.98, 'mmaxbh': 112.5, 'alpha': 3.78, 'mu_g': 32.27, 'sigma_g': 3.88, 'lambda_peak': 0.03, 'delta_m': 4.8, 'beta': 0.81}\n",
      "geocent_time = 'sampler_uniform'\n",
      "geocent_time_params =  {'min_': 1238166018, 'max_': 1269702018}\n",
      "ra = 'sampler_uniform'\n",
      "ra_params =  {'min_': 0.0, 'max_': 6.283185307179586}\n",
      "dec = 'sampler_cosine'\n",
      "dec_params =  None\n",
      "phase = 'sampler_uniform'\n",
      "phase_params =  {'min_': 0.0, 'max_': 6.283185307179586}\n",
      "psi = 'sampler_uniform'\n",
      "psi_params =  {'min_': 0.0, 'max_': 3.141592653589793}\n",
      "theta_jn = 'sampler_sine'\n",
      "theta_jn_params =  None\n",
      "\n",
      " For reference, the chosen lens related parameters and functions are listed below:\n",
      "lens_redshift = 'lens_redshift_SDSS_catalogue'\n",
      "lens_redshift_params =  None\n",
      "velocity_dispersion = 'velocity_dispersion_ewoud'\n",
      "velocity_dispersion_params =  {'vd_min': 50.0, 'vd_max': 420.0, 'alpha': 0.94, 'beta': 1.85, 'phistar': 0.02099, 'sigmastar': 113.78}\n",
      "axis_ratio = 'axis_ratio_rayleigh'\n",
      "axis_ratio_params =  {'q_min': 0.2, 'q_max': 1.0}\n",
      "axis_rotation_angle = 'axis_rotation_angle_uniform'\n",
      "axis_rotation_angle_params =  {'phi_min': 0.0, 'phi_max': 6.283185307179586}\n",
      "shear = 'shear_norm'\n",
      "shear_params =  {'scale': 0.05}\n",
      "density_profile_slope = 'density_profile_slope_normal'\n",
      "density_profile_slope_params =  {'mean': 2.0, 'std': 0.2}\n",
      "Lens functions:\n",
      "strong_lensing_condition = 'rjs_with_cross_section_sis'\n",
      "optical_depth = 'optical_depth_epl_shear_hemanta'\n",
      "optical_depth_params = '{'interpolated_cross_section': False}'\n",
      "param_sampler_type = 'sample_all_routine_sis'\n"
     ]
    }
   ],
   "source": [
    "# Complete setup for LeR\n",
    "\n",
    "ler = LeR(\n",
    "    # LeR setup arguments\n",
    "    npool=8, # number of processors to use\n",
    "    z_min=0.0, # minimum redshift\n",
    "    z_max=10.0, # maximum redshift\n",
    "    event_type='BBH', # event type\n",
    "    cosmology=cosmo, # cosmology\n",
    "    snr_finder=None, # snr calculator from 'gwsnr' package will be used\n",
    "    pdet_finder=None,  # will not be consider unless specified\n",
    "    list_of_detectors=None, # list of detectors that will be considered when calculating snr or pdet for lensed events. if None, all the detectors from 'gwsnr' will be considered; [L1,H1,V1]\n",
    "    json_file_names=dict(\n",
    "        ler_params=\"ler_params.json\", # to store initialization parameters and important results\n",
    "        unlensed_param=\"unlensed_param_baseline.json\", # to store all unlensed events\n",
    "        unlensed_param_detectable=\"unlensed_param_detectable_baseline.json\", # to store only detectable unlensed events\n",
    "        lensed_param=\"lensed_param_baseline.json\", # to store all lensed events \n",
    "        lensed_param_detectable=\"lensed_param_detectable_baseline.json\"), # to store only detectable lensed events\n",
    "    interpolator_directory='./interpolator_pickle', # directory to store the interpolator pickle files. 'ler' uses interpolation to get values of various functions to speed up the calculations (relying on numba njit).\n",
    "    create_new_interpolator = False, # if True, will create new interpolator files\n",
    "    ler_directory='./ler_data', # directory to store all the outputs\n",
    "    verbose=True, # if True, will print all information at initialization\n",
    "\n",
    "    # CBCSourceParameterDistribution class arguments\n",
    "    source_priors= {\n",
    "        'merger_rate_density': 'merger_rate_density_bbh_popI_II_oguri2018', \n",
    "        'source_frame_masses': 'binary_masses_BBH_popI_II_powerlaw_gaussian', \n",
    "        'zs': 'sample_source_redshift',  # don't change this\n",
    "        'geocent_time': 'sampler_uniform', \n",
    "        'ra': 'sampler_uniform', \n",
    "        'dec': 'sampler_cosine', \n",
    "        'phase': 'sampler_uniform', \n",
    "        'psi': 'sampler_uniform', \n",
    "        'theta_jn': 'sampler_sine',\n",
    "        },\n",
    "    source_priors_params= {\n",
    "        'merger_rate_density': {\n",
    "            'R0': 2.39e-08, 'b2': 1.6, 'b3': 2.1, 'b4': 30\n",
    "            }, \n",
    "        'source_frame_masses': {\n",
    "            'mminbh': 4.98, 'mmaxbh': 112.5, 'alpha': 3.78, 'mu_g': 32.27, 'sigma_g': 3.88, 'lambda_peak': 0.03, 'delta_m': 4.8, 'beta': 0.81\n",
    "            }, \n",
    "        'zs': None, \n",
    "        'geocent_time': {\n",
    "            'min_': 1238166018, 'max_': 1269702018\n",
    "            }, \n",
    "        'ra': {\n",
    "            'min_': 0.0, 'max_': 6.283185307179586\n",
    "            }, \n",
    "        'dec': None, \n",
    "        'phase': {\n",
    "            'min_': 0.0, 'max_': 6.283185307179586\n",
    "            }, \n",
    "        'psi': {\n",
    "            'min_': 0.0, 'max_': 3.141592653589793\n",
    "            }, \n",
    "        'theta_jn': None\n",
    "        },\n",
    "    spin_zero= True, # if True, spins will be set to zero\n",
    "    spin_precession= False, # if True, spins will be precessing\n",
    "\n",
    "    # LensGalaxyParameterDistribution class arguments\n",
    "    lens_type = 'epl_shear_galaxy',\n",
    "    lens_functions =  {\n",
    "        'strong_lensing_condition': 'rjs_with_cross_section_sis',\n",
    "        'optical_depth': 'optical_depth_epl_shear_hemanta',\n",
    "        'optical_depth_params': {'interpolated_cross_section': False},\n",
    "        'param_sampler_type': 'sample_all_routine_sis',\n",
    "        },\n",
    "    lens_priors =  {\n",
    "        'source_redshift_sl': 'strongly_lensed_source_redshifts', \n",
    "        'lens_redshift': 'lens_redshift_SDSS_catalogue',\n",
    "        'velocity_dispersion': 'velocity_dispersion_ewoud', \n",
    "        'axis_ratio': 'axis_ratio_rayleigh',\n",
    "        'axis_rotation_angle': 'axis_rotation_angle_uniform', \n",
    "        'external_shear': 'shear_norm', \n",
    "        'density_profile_slope': 'density_profile_slope_normal', 'source_parameters': 'sample_gw_parameters'\n",
    "        },\n",
    "    lens_priors_params =  {\n",
    "        'source_redshift_sl': None, \n",
    "        'lens_redshift': None, \n",
    "        'velocity_dispersion': dict(vd_min=50., vd_max=420., alpha=0.94, beta=1.85, phistar=2.099e-2*(cosmo.h/0.7)**3, sigmastar=113.78), \n",
    "        'axis_ratio': {\n",
    "            'q_min': 0.2, 'q_max': 1.0\n",
    "            }, \n",
    "        'axis_rotation_angle': {\n",
    "            'phi_min': 0.0, 'phi_max': 6.283185307179586\n",
    "            }, \n",
    "        'external_shear': {\n",
    "            'scale': 0.05\n",
    "            }, \n",
    "        'density_profile_slope': {\n",
    "            'mean': 2.0, 'std': 0.2\n",
    "            }, \n",
    "        'source_parameters': None\n",
    "        },\n",
    "\n",
    "    # ImageProperties class arguments\n",
    "    n_min_images = 2,\n",
    "    n_max_images = 4,\n",
    "    geocent_time_min = 1238166018,\n",
    "    geocent_time_max = 1269702018,\n",
    "    lens_model_list = ['EPL_NUMBA', 'SHEAR'],\n",
    "\n",
    "    # gwsnr package arguments\n",
    "    mtot_min = 2.0,\n",
    "    mtot_max = 184.98599853446768,\n",
    "    ratio_min = 0.1,\n",
    "    ratio_max = 1.0,\n",
    "    sampling_frequency = 2048.0,\n",
    "    waveform_approximant = 'IMRPhenomD',\n",
    "    minimum_frequency = 20.0,\n",
    "    snr_type = 'interpolation',\n",
    "    psds = {'L1':'aLIGO_O4_high_asd.txt','H1':'aLIGO_O4_high_asd.txt', 'V1':'AdV_asd.txt', 'K1':'KAGRA_design_asd.txt'},\n",
    "    ifos = ['L1', 'H1', 'V1'],\n",
    "    interpolator_dir = './interpolator_pickle',\n",
    "    mtot_cut = True,\n",
    ")"
   ]
  },
  {
   "cell_type": "code",
   "execution_count": 3,
   "metadata": {},
   "outputs": [
    {
     "name": "stdout",
     "output_type": "stream",
     "text": [
      "lensed params will be store in ./ler_data/lensed_param_epl_baseline6.json\n",
      "chosen batch size = 50000 with total size = 100000\n",
      "There will be 2 batche(s)\n",
      "resuming from ./ler_data/lensed_param_epl_baseline6.json\n",
      "Batch no. 1\n",
      "sampling lensed params...\n",
      "sampling lens parameters with sample_all_routine_sis...\n",
      "solving lens equations...\n"
     ]
    },
    {
     "name": "stderr",
     "output_type": "stream",
     "text": [
      "100%|███████████████████████████████████████████████████████| 50000/50000 [00:10<00:00, 4711.56it/s]\n"
     ]
    },
    {
     "name": "stdout",
     "output_type": "stream",
     "text": [
      "Invalid sample found. Resampling 1 lensed events...\n",
      "sampling lens parameters with sample_all_routine_sis...\n",
      "solving lens equations...\n"
     ]
    },
    {
     "name": "stderr",
     "output_type": "stream",
     "text": [
      "100%|█████████████████████████████████████████████████████████████████| 1/1 [00:00<00:00, 13.24it/s]"
     ]
    },
    {
     "name": "stdout",
     "output_type": "stream",
     "text": [
      "calculating snrs...\n"
     ]
    },
    {
     "name": "stderr",
     "output_type": "stream",
     "text": [
      "\n"
     ]
    },
    {
     "name": "stdout",
     "output_type": "stream",
     "text": [
      "Batch no. 2\n",
      "sampling lensed params...\n",
      "sampling lens parameters with sample_all_routine_sis...\n",
      "solving lens equations...\n"
     ]
    },
    {
     "name": "stderr",
     "output_type": "stream",
     "text": [
      "100%|███████████████████████████████████████████████████████| 50000/50000 [00:10<00:00, 4724.64it/s]\n"
     ]
    },
    {
     "name": "stdout",
     "output_type": "stream",
     "text": [
      "Invalid sample found. Resampling 3 lensed events...\n",
      "sampling lens parameters with sample_all_routine_sis...\n",
      "solving lens equations...\n"
     ]
    },
    {
     "name": "stderr",
     "output_type": "stream",
     "text": [
      "100%|█████████████████████████████████████████████████████████████████| 3/3 [00:00<00:00, 37.79it/s]"
     ]
    },
    {
     "name": "stdout",
     "output_type": "stream",
     "text": [
      "calculating snrs...\n"
     ]
    },
    {
     "name": "stderr",
     "output_type": "stream",
     "text": [
      "\n"
     ]
    }
   ],
   "source": [
    "ler.batch_size = 50000\n",
    "ler.buffer_size = 500000\n",
    "lensed_param6 = ler.lensed_cbc_statistics(size=100000, resume=True, save_batch=True, output_jsonfile=\"lensed_param_epl_baseline6.json\")\n",
    "# ler.batch_size = 1000, ler.buffer_size = 500000, 4min, collected 100000 events (mp)\n",
    "# ler.batch_size = 1000, ler.buffer_size = 500000, 1min 15s, collected 1000 events (mp interpolated)\n",
    "# ler.batch_size = 1000, ler.buffer_size = 500000, 9s, collected 1000 events (interpolated)\n",
    "\n",
    "# 2. ler.batch_size = 10000, ler.buffer_size = 500000, 1min 10s, collected 10000 events (mp interpolated)\n",
    "# 3. ler.batch_size = 10000, ler.buffer_size = 500000, 3mins, collected 10000 events (interpolated)\n",
    "# 1. ler.batch_size = 10000, ler.buffer_size = 500000, 8mins, collected 10000 events (mp)\n",
    "# 1. ler.batch_size = 10000, ler.buffer_size = 500000, 32mins, collected 50000 events (mp)"
   ]
  },
  {
   "cell_type": "code",
   "execution_count": null,
   "metadata": {},
   "outputs": [],
   "source": []
  },
  {
   "cell_type": "code",
   "execution_count": 4,
   "metadata": {},
   "outputs": [
    {
     "data": {
      "text/plain": [
       "((50000,), (50000,))"
      ]
     },
     "execution_count": 4,
     "metadata": {},
     "output_type": "execute_result"
    }
   ],
   "source": [
    "# y true\n",
    "lensed_param1 = get_param_from_json('./ler_data/lensed_param_epl_baseline1.json')\n",
    "theta_E1 = lensed_param1['theta_E']\n",
    "phi_epl1 = lensed_param1['cross_section']\n",
    "phi_sis1 = np.pi * theta_E1**2\n",
    "phi_epl1.shape, phi_sis1.shape"
   ]
  },
  {
   "cell_type": "code",
   "execution_count": 5,
   "metadata": {},
   "outputs": [
    {
     "name": "stdout",
     "output_type": "stream",
     "text": [
      "Getting lensed_param from json file ./ler_data/lensed_param_epl_baseline1.json...\n",
      "given detectability_condition == step_function\n",
      "total lensed rate (yr^-1): 0.12236628895406258\n",
      "number of simulated lensed detectable events: 47\n",
      "number of simulated all lensed events: 50000\n",
      "storing detectable params in ./ler_data/lensed_param_detectable_epl_baseline.json\n"
     ]
    }
   ],
   "source": [
    "_, lensed_param_detectable = ler.lensed_rate(\n",
    "    lensed_param='lensed_param_epl_baseline1.json',\n",
    "    output_jsonfile=\"lensed_param_detectable_epl_baseline.json\")"
   ]
  },
  {
   "cell_type": "code",
   "execution_count": 6,
   "metadata": {},
   "outputs": [],
   "source": [
    "# y cross-section interpolated\n",
    "lensed_param2 = get_param_from_json('./ler_data/lensed_param_epl_baseline2.json')\n",
    "theta_E2 = lensed_param2['theta_E']\n",
    "phi_epl2 = lensed_param2['cross_section']\n",
    "phi_sis2 = np.pi * theta_E2**2"
   ]
  },
  {
   "cell_type": "code",
   "execution_count": 7,
   "metadata": {},
   "outputs": [
    {
     "name": "stdout",
     "output_type": "stream",
     "text": [
      "Getting lensed_param from json file ./ler_data/lensed_param_epl_baseline2.json...\n",
      "given detectability_condition == step_function\n",
      "total lensed rate (yr^-1): 0.10414152251409582\n",
      "number of simulated lensed detectable events: 8\n",
      "number of simulated all lensed events: 10000\n",
      "storing detectable params in ./ler_data/lensed_param_detectable_epl_baseline.json\n"
     ]
    }
   ],
   "source": [
    "_, lensed_param_detectable = ler.lensed_rate(\n",
    "    lensed_param='lensed_param_epl_baseline2.json',\n",
    "    output_jsonfile=\"lensed_param_detectable_epl_baseline.json\")"
   ]
  },
  {
   "cell_type": "code",
   "execution_count": 7,
   "metadata": {},
   "outputs": [
    {
     "data": {
      "text/plain": [
       "((10000,), (10000,))"
      ]
     },
     "execution_count": 7,
     "metadata": {},
     "output_type": "execute_result"
    }
   ],
   "source": [
    "# y cross-section rjs_with_cross_section_sie_feixu\n",
    "lensed_param3 = get_param_from_json('./ler_data/lensed_param_epl_baseline3.json')\n",
    "theta_E3 = lensed_param3['theta_E']\n",
    "phi_epl3 = lensed_param3['cross_section']\n",
    "phi_sis3 = np.pi * theta_E3**2\n",
    "phi_epl3.shape, phi_sis3.shape"
   ]
  },
  {
   "cell_type": "code",
   "execution_count": 9,
   "metadata": {},
   "outputs": [
    {
     "name": "stdout",
     "output_type": "stream",
     "text": [
      "Getting lensed_param from json file ./ler_data/lensed_param_epl_baseline3.json...\n",
      "given detectability_condition == step_function\n",
      "total lensed rate (yr^-1): 0.19526535471392967\n",
      "number of simulated lensed detectable events: 15\n",
      "number of simulated all lensed events: 10000\n",
      "storing detectable params in ./ler_data/lensed_param_detectable_epl_baseline.json\n"
     ]
    }
   ],
   "source": [
    "_, lensed_param_detectable = ler.lensed_rate(\n",
    "    lensed_param='lensed_param_epl_baseline3.json',\n",
    "    output_jsonfile=\"lensed_param_detectable_epl_baseline.json\")"
   ]
  },
  {
   "cell_type": "code",
   "execution_count": 4,
   "metadata": {},
   "outputs": [],
   "source": [
    "lensed_param4 = get_param_from_json('./ler_data/lensed_param_epl_baseline4.json')\n",
    "# theta_E4 = lensed_param4['theta_E']\n",
    "# phi_epl4 = ler.cross_section_caustic_area(\n",
    "#     lensed_param4['theta_E'], \n",
    "#     lensed_param4['e1'],\n",
    "#     lensed_param4['e2'],\n",
    "#     lensed_param4['gamma'],\n",
    "#     lensed_param4['gamma1'],\n",
    "#     lensed_param4['gamma2'],\n",
    "# )\n",
    "# phi_sis4 = np.pi * theta_E4**2\n",
    "# phi_epl4.shape, phi_sis4.shape"
   ]
  },
  {
   "cell_type": "code",
   "execution_count": 5,
   "metadata": {},
   "outputs": [
    {
     "name": "stdout",
     "output_type": "stream",
     "text": [
      "Getting lensed_param from json file ./ler_data/lensed_param_epl_baseline4.json...\n",
      "given detectability_condition == step_function\n",
      "total lensed rate (yr^-1): 0.7537242691957686\n",
      "number of simulated lensed detectable events: 579\n",
      "number of simulated all lensed events: 100000\n",
      "storing detectable params in ./ler_data/lensed_param_detectable_epl_baseline.json\n"
     ]
    }
   ],
   "source": [
    "_, lensed_param_detectable = ler.lensed_rate(\n",
    "    lensed_param='lensed_param_epl_baseline4.json',\n",
    "    output_jsonfile=\"lensed_param_detectable_epl_baseline.json\")"
   ]
  },
  {
   "cell_type": "code",
   "execution_count": 13,
   "metadata": {},
   "outputs": [
    {
     "name": "stdout",
     "output_type": "stream",
     "text": [
      "Getting lensed_param from json file ./ler_data/lensed_param_epl_baseline5.json...\n",
      "given detectability_condition == step_function\n",
      "total lensed rate (yr^-1): 0.8331321801127665\n",
      "number of simulated lensed detectable events: 320\n",
      "number of simulated all lensed events: 50000\n",
      "storing detectable params in ./ler_data/lensed_param_detectable_epl_baseline.json\n"
     ]
    }
   ],
   "source": [
    "lensed_param5 = get_param_from_json('./ler_data/lensed_param_epl_baseline5.json')\n",
    "_, lensed_param_detectable = ler.lensed_rate(\n",
    "    lensed_param='lensed_param_epl_baseline5.json',\n",
    "    output_jsonfile=\"lensed_param_detectable_epl_baseline.json\")"
   ]
  },
  {
   "cell_type": "code",
   "execution_count": 4,
   "metadata": {},
   "outputs": [
    {
     "name": "stdout",
     "output_type": "stream",
     "text": [
      "Getting lensed_param from json file ./ler_data/lensed_param_epl_baseline6.json...\n",
      "given detectability_condition == step_function\n",
      "total lensed rate (yr^-1): 0.7797596498242925\n",
      "number of simulated lensed detectable events: 599\n",
      "number of simulated all lensed events: 100000\n",
      "storing detectable params in ./ler_data/lensed_param_detectable_epl_baseline.json\n"
     ]
    }
   ],
   "source": [
    "lensed_param6 = get_param_from_json('./ler_data/lensed_param_epl_baseline6.json')\n",
    "_, lensed_param_detectable = ler.lensed_rate(\n",
    "    lensed_param='lensed_param_epl_baseline6.json',\n",
    "    output_jsonfile=\"lensed_param_detectable_epl_baseline.json\")"
   ]
  },
  {
   "cell_type": "code",
   "execution_count": 5,
   "metadata": {},
   "outputs": [
    {
     "data": {
      "text/plain": [
       "570.0602744706832"
      ]
     },
     "execution_count": 5,
     "metadata": {},
     "output_type": "execute_result"
    }
   ],
   "source": [
    "444.51/0.7797596498242925"
   ]
  },
  {
   "cell_type": "code",
   "execution_count": null,
   "metadata": {},
   "outputs": [
    {
     "data": {
      "image/png": "[encoded data removed]",
      "text/plain": [
       "<Figure size 400x400 with 1 Axes>"
      ]
     },
     "metadata": {},
     "output_type": "display_data"
    }
   ],
   "source": [
    "# plot\n",
    "plt.figure(figsize=(4,4))\n",
    "plt.hist(phi_epl1, bins=100, histtype='step', color='y', label='EPL1')\n",
    "plt.hist(phi_epl2, bins=100, histtype='step', color='b', label='EPL2 mpinterpolated')\n",
    "plt.hist(phi_epl3, bins=100, histtype='step', color='r', label='EPL3 interpolated')\n",
    "plt.hist(phi_epl4, bins=100, histtype='step', color='g', label='EPL4')\n",
    "# plot 4.1048584838253885e-12\n",
    "plt.axvline(4.1048584838253885e-12, color='k', linestyle='--', label='cut')\n",
    "plt.xlabel(r'$\\phi$')\n",
    "plt.ylabel('Number of events')\n",
    "plt.yscale('log')\n",
    "plt.xscale('log')\n",
    "# plt.xlim(1e-14, 1e-8)\n",
    "plt.legend()\n",
    "plt.show()"
   ]
  },
  {
   "cell_type": "code",
   "execution_count": 11,
   "metadata": {},
   "outputs": [
    {
     "data": {
      "image/png": "[encoded data removed]",
      "text/plain": [
       "<Figure size 400x400 with 1 Axes>"
      ]
     },
     "metadata": {},
     "output_type": "display_data"
    }
   ],
   "source": [
    "# theta_E comparison\n",
    "plt.figure(figsize=(4,4))\n",
    "plt.hist(theta_E1, bins=50, histtype='step', color='b', label='EPL', density=True)\n",
    "plt.hist(theta_E2, bins=50, histtype='step', color='r', label='EPL2', density=True)\n",
    "plt.hist(theta_E3, bins=50, histtype='step', color='g', label='EPL3', density=True)\n",
    "plt.xlabel(r'$\\theta_E$')\n",
    "plt.ylabel('Number of events')\n",
    "plt.legend()\n",
    "plt.show()"
   ]
  },
  {
   "cell_type": "code",
   "execution_count": 10,
   "metadata": {},
   "outputs": [
    {
     "data": {
      "image/png": "[encoded data removed]",
      "text/plain": [
       "<Figure size 400x400 with 1 Axes>"
      ]
     },
     "metadata": {},
     "output_type": "display_data"
    }
   ],
   "source": [
    "# magnifications comparison\n",
    "mu_min = 10.0\n",
    "# mu1 = abs(lensed_param1['magnifications'].flatten())\n",
    "# mu1 = mu1[mu1>mu_min]\n",
    "# mu2 = abs(lensed_param2['magnifications'].flatten())\n",
    "# mu2 = mu2[mu2>mu_min]\n",
    "# mu3 = abs(lensed_param3['magnifications'].flatten())\n",
    "# mu3 = mu3[mu3>mu_min]\n",
    "# mu4 = abs(lensed_param4['magnifications'].flatten())\n",
    "# mu4 = mu4[mu4>mu_min]\n",
    "# mu5 = abs(lensed_param5['magnifications'].flatten())\n",
    "# mu5 = mu5[mu5>mu_min]\n",
    "mu6 = abs(lensed_param6['magnifications'].flatten())\n",
    "mu6 = mu6[mu6>mu_min]\n",
    "\n",
    "plt.figure(figsize=(4,4))\n",
    "# plt.hist(mu1, bins=20, histtype='step', color='b', label='EPL', density=True)\n",
    "# plt.hist(mu2, bins=20, histtype='step', color='r', label='EPL2', density=True)\n",
    "# plt.hist(mu3, bins=20, histtype='step', color='g', label='EPL3', density=True)\n",
    "# plt.hist(mu4, bins=20, histtype='step', color='y', label='EPL4', density=True) # SIS\n",
    "#plt.hist(mu5, bins=30, histtype='step', color='k', label='EPL5', density=True)\n",
    "plt.hist(mu6, bins=20, histtype='step', color='b', label='EPL6', density=True) # SIS\n",
    "# plot mu**-3\n",
    "x = np.logspace(1, 3, 100)\n",
    "y = 0.1 * x**-3\n",
    "plt.plot(x, y, color='k', linestyle='--', label=r'$\\mu^{-3}$')\n",
    "plt.xlabel('Magnifications')\n",
    "plt.ylabel('Number of events')\n",
    "plt.xscale('log')\n",
    "plt.yscale('log')\n",
    "# plt.xlim(0, 20)\n",
    "plt.legend()\n",
    "plt.show()"
   ]
  },
  {
   "cell_type": "code",
   "execution_count": 34,
   "metadata": {},
   "outputs": [
    {
     "name": "stdout",
     "output_type": "stream",
     "text": [
      "Using provided {param_type} dict...\n",
      "given detectability_condition == step_function\n",
      "total lensed rate (yr^-1): 0.15621228377114374\n",
      "number of simulated lensed detectable events: 6\n",
      "number of simulated all lensed events: 5000\n",
      "storing detectable params in ./ler_data/lensed_param_detectable_epl_baseline.json\n"
     ]
    }
   ],
   "source": [
    "_, lensed_param_detectable = ler.lensed_rate(\n",
    "    lensed_param=lensed_param,\n",
    "    output_jsonfile=\"lensed_param_detectable_epl_baseline.json\", \n",
    "    nan_to_num=False)"
   ]
  },
  {
   "cell_type": "code",
   "execution_count": 36,
   "metadata": {},
   "outputs": [
    {
     "name": "stdout",
     "output_type": "stream",
     "text": [
      "Using provided {param_type} dict...\n",
      "given detectability_condition == step_function\n",
      "total lensed rate (yr^-1): 0.07810614188557187\n",
      "number of simulated lensed detectable events: 3\n",
      "number of simulated all lensed events: 5000\n",
      "storing detectable params in ./ler_data/lensed_param_detectable_epl_baseline.json\n"
     ]
    }
   ],
   "source": [
    "_, lensed_param_detectable = ler.lensed_rate(\n",
    "    lensed_param=lensed_param2,\n",
    "    output_jsonfile=\"lensed_param_detectable_epl_baseline.json\", \n",
    "    nan_to_num=False)"
   ]
  },
  {
   "cell_type": "code",
   "execution_count": 37,
   "metadata": {},
   "outputs": [
    {
     "name": "stdout",
     "output_type": "stream",
     "text": [
      "Using provided {param_type} dict...\n",
      "given detectability_condition == step_function\n",
      "total lensed rate (yr^-1): 0.9372737026268624\n",
      "number of simulated lensed detectable events: 36\n",
      "number of simulated all lensed events: 5000\n",
      "storing detectable params in ./ler_data/lensed_param_detectable_epl_baseline.json\n"
     ]
    }
   ],
   "source": [
    "_, lensed_param_detectable = ler.lensed_rate(\n",
    "    lensed_param=lensed_param3,\n",
    "    output_jsonfile=\"lensed_param_detectable_epl_baseline.json\", \n",
    "    nan_to_num=False)"
   ]
  },
  {
   "cell_type": "code",
   "execution_count": 5,
   "metadata": {},
   "outputs": [
    {
     "name": "stdout",
     "output_type": "stream",
     "text": [
      "Getting lensed_param from json file ./ler_data/lensed_param_epl_baseline4.json...\n",
      "given detectability_condition == step_function\n",
      "total lensed rate (yr^-1): 0.2343184256567156\n",
      "number of simulated lensed detectable events: 18\n",
      "number of simulated all lensed events: 10000\n",
      "storing detectable params in ./ler_data/lensed_param_detectable_epl_baseline.json\n"
     ]
    }
   ],
   "source": [
    "_, lensed_param_detectable = ler.lensed_rate(\n",
    "    lensed_param='lensed_param_epl_baseline4.json',\n",
    "    output_jsonfile=\"lensed_param_detectable_epl_baseline.json\", \n",
    "    nan_to_num=False)"
   ]
  },
  {
   "cell_type": "code",
   "execution_count": 45,
   "metadata": {},
   "outputs": [
    {
     "data": {
      "text/plain": [
       "(4.104858483825389e-09, 4.1048584838253886e-13, 2.635542657560037e-14)"
      ]
     },
     "execution_count": 45,
     "metadata": {},
     "output_type": "execute_result"
    }
   ],
   "source": [
    "phi_epl.max(), phi_epl.max()*0.0001, phi_epl.min()"
   ]
  },
  {
   "cell_type": "code",
   "execution_count": 46,
   "metadata": {},
   "outputs": [
    {
     "data": {
      "text/plain": [
       "66"
      ]
     },
     "execution_count": 46,
     "metadata": {},
     "output_type": "execute_result"
    }
   ],
   "source": [
    "np.sum(phi_epl<4.1048584838253886e-13)"
   ]
  },
  {
   "cell_type": "code",
   "execution_count": 6,
   "metadata": {},
   "outputs": [
    {
     "data": {
      "text/plain": [
       "1899.6153846153845"
      ]
     },
     "execution_count": 6,
     "metadata": {},
     "output_type": "execute_result"
    }
   ],
   "source": [
    "444.51/0.234"
   ]
  },
  {
   "cell_type": "code",
   "execution_count": 3,
   "metadata": {},
   "outputs": [],
   "source": [
    "theta_E, e1, e2, gamma, gamma1, gamma2, q = ler.create_data_set(size=100000) # theta_E, e1, e2, gamma, gamma1, gamma2, q"
   ]
  },
  {
   "cell_type": "code",
   "execution_count": 4,
   "metadata": {},
   "outputs": [
    {
     "name": "stderr",
     "output_type": "stream",
     "text": [
      "100%|████████████████████████████████████████████████████| 100000/100000 [00:08<00:00, 11662.63it/s]\n"
     ]
    }
   ],
   "source": [
    "from multiprocessing import Pool\n",
    "from tqdm import tqdm\n",
    "from ler.lens_galaxy_population import cross_section_mp\n",
    "\n",
    "size = 100000\n",
    "\n",
    "idx = np.arange(size, dtype=int)\n",
    "# cross section with multiprocessing\n",
    "params = np.array([theta_E, e1, e2, gamma, gamma1, gamma2, idx]).T\n",
    "\n",
    "cross_section = np.ones(size)\n",
    "\n",
    "## with multiprocessing\n",
    "with Pool(processes=6) as pool:            \n",
    "    for result in tqdm(\n",
    "        pool.imap_unordered(cross_section_mp, params),\n",
    "        total=size,\n",
    "        ncols=100,\n",
    "    ):\n",
    "        idx_, tau_ = result\n",
    "        cross_section[idx_] = tau_"
   ]
  },
  {
   "cell_type": "code",
   "execution_count": 9,
   "metadata": {},
   "outputs": [
    {
     "data": {
      "text/plain": [
       "(5.203793019570508e-24, 77895)"
      ]
     },
     "execution_count": 9,
     "metadata": {},
     "output_type": "execute_result"
    }
   ],
   "source": [
    "cross_section = np.array(cross_section)\n",
    "cross_section[cross_section>0].min(), np.sum(cross_section<phi_epl.min())"
   ]
  },
  {
   "cell_type": "code",
   "execution_count": 10,
   "metadata": {},
   "outputs": [
    {
     "data": {
      "text/plain": [
       "1.609424201962239e-14"
      ]
     },
     "execution_count": 10,
     "metadata": {},
     "output_type": "execute_result"
    }
   ],
   "source": [
    "phi_epl.min()"
   ]
  },
  {
   "cell_type": "code",
   "execution_count": 14,
   "metadata": {},
   "outputs": [
    {
     "data": {
      "text/plain": [
       "(1000000,)"
      ]
     },
     "execution_count": 14,
     "metadata": {},
     "output_type": "execute_result"
    }
   ],
   "source": [
    "q = points[6]\n",
    "q.shape"
   ]
  },
  {
   "cell_type": "code",
   "execution_count": 16,
   "metadata": {},
   "outputs": [
    {
     "data": {
      "text/plain": [
       "array([0.94584644, 0.91196907, 0.70163575, ..., 0.97043712,\n",
       "       0.99619066, 0.87814472])"
      ]
     },
     "execution_count": 16,
     "metadata": {},
     "output_type": "execute_result"
    }
   ],
   "source": [
    "phi_cut_SIE(q)"
   ]
  },
  {
   "cell_type": "code",
   "execution_count": 7,
   "metadata": {},
   "outputs": [
    {
     "data": {
      "image/png": "[encoded data removed]",
      "text/plain": [
       "<Figure size 400x400 with 1 Axes>"
      ]
     },
     "metadata": {},
     "output_type": "display_data"
    }
   ],
   "source": [
    "from ler.lens_galaxy_population import phi_cut_SIE\n",
    "# plot cross section and theta_E\n",
    "plt.figure(figsize=(4,4))\n",
    "#plt.plot(cross_section, theta_E*phi_cut_SIE(q), 'o', markersize=1, alpha=0.1, label='SIE')\n",
    "plt.plot(np.sqrt(cross_section/np.pi), theta_E, 'o', markersize=1, alpha=0.1)\n",
    "#plt.plot(cross_section, np.pi*theta_E**2, 'o', markersize=1, alpha=0.1, label='SIS')\n",
    "# plot phi_epl.min()\n",
    "# plt.axvline(phi_epl.min(), color='k', linestyle='--', label='cut')\n",
    "# plt.axhline(2.9243287409459857e-08, color='k', linestyle='--', label='cut')\n",
    "plt.xlabel(r'$\\phi$')\n",
    "plt.ylabel(r'$\\theta_E$')\n",
    "plt.yscale('log')\n",
    "plt.xscale('log')\n",
    "plt.xlim(1e-9, 1e-4)\n",
    "plt.ylim(1e-9, 1e-4)\n",
    "plt.legend()\n",
    "plt.show()\n"
   ]
  },
  {
   "cell_type": "code",
   "execution_count": 9,
   "metadata": {},
   "outputs": [
    {
     "data": {
      "image/png": "[encoded data removed]",
      "text/plain": [
       "<Figure size 400x400 with 1 Axes>"
      ]
     },
     "metadata": {},
     "output_type": "display_data"
    }
   ],
   "source": [
    "from ler.lens_galaxy_population import phi_cut_SIE\n",
    "# plot cross section and theta_E\n",
    "plt.figure(figsize=(4,4))\n",
    "#plt.plot(cross_section, theta_E*phi_cut_SIE(q), 'o', markersize=1, alpha=0.1, label='SIE')\n",
    "plt.plot(cross_section, np.pi*theta_E**2, 'o', markersize=1, alpha=0.1)\n",
    "#plt.plot(cross_section, np.pi*theta_E**2, 'o', markersize=1, alpha=0.1, label='SIS')\n",
    "# plot phi_epl.min()\n",
    "# plt.axvline(phi_epl.min(), color='k', linestyle='--', label='cut')\n",
    "# plt.axhline(2.9243287409459857e-08, color='k', linestyle='--', label='cut')\n",
    "plt.xlabel(r'$\\phi$')\n",
    "plt.ylabel(r'$\\theta_E$')\n",
    "plt.yscale('log')\n",
    "plt.xscale('log')\n",
    "plt.xlim(1e-18, 1e-8)\n",
    "plt.ylim(1e-18, 1e-8)\n",
    "plt.legend()\n",
    "plt.show()\n"
   ]
  },
  {
   "cell_type": "code",
   "execution_count": 19,
   "metadata": {},
   "outputs": [],
   "source": [
    "idx = cross_section>phi_epl.min()\n",
    "theta_E_above_cut = theta_E[idx]"
   ]
  },
  {
   "cell_type": "code",
   "execution_count": 62,
   "metadata": {},
   "outputs": [
    {
     "data": {
      "text/plain": [
       "(3.3737892830831026e-08, 2.461484490888584e-05, 30598)"
      ]
     },
     "execution_count": 62,
     "metadata": {},
     "output_type": "execute_result"
    }
   ],
   "source": [
    "theta_E_above_cut.min(), theta_E_above_cut.max(), np.sum(theta_E<theta_E_above_cut.min())"
   ]
  },
  {
   "cell_type": "code",
   "execution_count": 20,
   "metadata": {},
   "outputs": [
    {
     "data": {
      "text/plain": [
       "(2.9243287409459857e-08, 2.456781660724365e-05, 26781)"
      ]
     },
     "execution_count": 20,
     "metadata": {},
     "output_type": "execute_result"
    }
   ],
   "source": [
    "theta_E_above_cut.min(), theta_E_above_cut.max(), np.sum(theta_E<theta_E_above_cut.min())"
   ]
  },
  {
   "cell_type": "code",
   "execution_count": 1,
   "metadata": {},
   "outputs": [
    {
     "name": "stdout",
     "output_type": "stream",
     "text": [
      "Setting multiprocessing start method to 'fork'\n",
      "\n",
      "Initializing LeR class...\n",
      "\n",
      "\n",
      "Initializing LensGalaxyParameterDistribution class...\n",
      "\n",
      "\n",
      "Initializing OpticalDepth class\n",
      "\n",
      "z_to_Dc interpolator will be loaded from ./interpolator_pickle/z_to_Dc/z_to_Dc_0.pickle\n",
      "Dc_to_z interpolator will be loaded from ./interpolator_pickle/Dc_to_z/Dc_to_z_0.pickle\n",
      "angular_diameter_distance interpolator will be loaded from ./interpolator_pickle/angular_diameter_distance/angular_diameter_distance_0.pickle\n",
      "differential_comoving_volume interpolator will be loaded from ./interpolator_pickle/differential_comoving_volume/differential_comoving_volume_1.pickle\n",
      "velocity_dispersion_ewoud interpolator will be loaded from ./interpolator_pickle/velocity_dispersion/velocity_dispersion_ewoud_0.pickle\n",
      "Using pre-gererated axis ratio rayleigh pdf coefficients...\n",
      "axis_ratio_rayleigh interpolator will be loaded from ./interpolator_pickle/axis_ratio/axis_ratio_rayleigh_0.pickle\n",
      "axis_ratio sampler: CPUDispatcher(<function OpticalDepth.axis_ratio_rayleigh.<locals>.sampler at 0x104605900>) has been set.\n",
      "Interpolated cross section function loaded from ./interpolator_pickle/cross_section_function/cross_section_function_0.pickle\n",
      "Using pre-gererated optical depth function: optical_depth_epl_shear_hemanta.\n",
      "optical_depth_epl_shear_hemanta interpolator will be loaded from ./interpolator_pickle/optical_depth/optical_depth_epl_shear_hemanta_0.pickle\n",
      "Using interpolated cross section function\n",
      "\n",
      "Initializing CBCSourceParameterDistribution...\n",
      "\n",
      "\n",
      "Initializing CBCSourceRedshiftDistribution...\n",
      "\n",
      "z_to_luminosity_distance interpolator will be loaded from ./interpolator_pickle/z_to_luminosity_distance/z_to_luminosity_distance_0.pickle\n",
      "differential_comoving_volume interpolator will be loaded from ./interpolator_pickle/differential_comoving_volume/differential_comoving_volume_0.pickle\n",
      "merger_rate_density interpolator will be loaded from ./interpolator_pickle/merger_rate_density/merger_rate_density_0.pickle\n",
      "luminosity_distance_to_z interpolator will be loaded from ./interpolator_pickle/luminosity_distance_to_z/luminosity_distance_to_z_0.pickle\n",
      "\n",
      "Initializing GWSNR class...\n",
      "\n",
      "psds not given. Choosing bilby's default psds\n",
      "Interpolator will be loaded for L1 detector from ./interpolator_pickle/L1/partialSNR_dict_0.pickle\n",
      "Interpolator will be loaded for H1 detector from ./interpolator_pickle/H1/partialSNR_dict_0.pickle\n",
      "Interpolator will be loaded for V1 detector from ./interpolator_pickle/V1/partialSNR_dict_0.pickle\n",
      "\n",
      " # LeR set up params:\n",
      "npool = 4,\n",
      "z_min = 0.0,\n",
      "z_max = 10.0,\n",
      "event_type = 'BBH',\n",
      "size = 100000,\n",
      "batch_size = 50000,\n",
      "cosmology = LambdaCDM(H0=70.0 km / (Mpc s), Om0=0.3, Ode0=0.7, Tcmb0=0.0 K, Neff=3.04, m_nu=None, Ob0=None),\n",
      "snr_finder = <bound method GWSNR.snr of <gwsnr.gwsnr.GWSNR object at 0x10462a440>>,\n",
      "json_file_names = {'ler_params': 'ler_params.json', 'unlensed_param': 'unlensed_param.json', 'unlensed_param_detectable': 'unlensed_param_detectable.json', 'lensed_param': 'lensed_param.json', 'lensed_param_detectable': 'lensed_param_detectable.json'},\n",
      "interpolator_directory = './interpolator_pickle',\n",
      "ler_directory = './ler_data',\n",
      "\n",
      " # LeR also takes CBCSourceParameterDistribution class params as kwargs, as follows:\n",
      "source_priors = {'merger_rate_density': 'merger_rate_density_bbh_popI_II_oguri2018', 'source_frame_masses': 'binary_masses_BBH_popI_II_powerlaw_gaussian', 'zs': 'sample_source_redshift', 'geocent_time': 'sampler_uniform', 'ra': 'sampler_uniform', 'dec': 'sampler_cosine', 'phase': 'sampler_uniform', 'psi': 'sampler_uniform', 'theta_jn': 'sampler_sine'},\n",
      "source_priors_params = {'merger_rate_density': {'R0': 2.39e-08, 'b2': 1.6, 'b3': 2.0, 'b4': 30}, 'source_frame_masses': {'mminbh': 4.98, 'mmaxbh': 112.5, 'alpha': 3.78, 'mu_g': 32.27, 'sigma_g': 3.88, 'lambda_peak': 0.03, 'delta_m': 4.8, 'beta': 0.81}, 'zs': None, 'geocent_time': {'min_': 1238166018, 'max_': 1269702018}, 'ra': {'min_': 0.0, 'max_': 6.283185307179586}, 'dec': None, 'phase': {'min_': 0.0, 'max_': 6.283185307179586}, 'psi': {'min_': 0.0, 'max_': 3.141592653589793}, 'theta_jn': None},\n",
      "spin_zero = True,\n",
      "spin_precession = False,\n",
      "create_new_interpolator = False,\n",
      "\n",
      " # LeR also takes LensGalaxyParameterDistribution class params as kwargs, as follows:\n",
      "lens_type = 'epl_shear_galaxy',\n",
      "lens_functions = {'strong_lensing_condition': 'rjs_with_cross_section', 'optical_depth': 'optical_depth_epl_shear_hemanta', 'optical_depth_params': {'interpolated_cross_section': True}, 'param_sampler_type': 'sample_all_routine_epl_shear'},\n",
      "lens_priors = {'source_redshift_sl': 'strongly_lensed_source_redshifts', 'lens_redshift': 'lens_redshift_SDSS_catalogue', 'velocity_dispersion': 'velocity_dispersion_ewoud', 'axis_ratio': 'axis_ratio_rayleigh', 'axis_rotation_angle': 'axis_rotation_angle_uniform', 'external_shear': 'shear_norm', 'density_profile_slope': 'density_profile_slope_normal', 'source_parameters': 'sample_gw_parameters'},\n",
      "lens_priors_params = {'source_redshift_sl': None, 'lens_redshift': None, 'velocity_dispersion': {'vd_min': 50.0, 'vd_max': 420.0, 'alpha': 0.94, 'beta': 1.85, 'phistar': 0.02099, 'sigmastar': 113.78}, 'axis_ratio': {'q_min': 0.2, 'q_max': 1.0}, 'axis_rotation_angle': {'phi_min': 0.0, 'phi_max': 6.283185307179586}, 'external_shear': {'scale': 0.05}, 'density_profile_slope': {'mean': 2.0, 'std': 0.2}, 'source_parameters': None},\n",
      "\n",
      " # LeR also takes ImageProperties class params as kwargs, as follows:\n",
      "n_min_images = 2,\n",
      "n_max_images = 4,\n",
      "geocent_time_min = 1126259462.4,\n",
      "geocent_time_max = 1756979462.4,\n",
      "lens_model_list = ['EPL_NUMBA', 'SHEAR'],\n",
      "\n",
      " # LeR also takes gwsnr.GWSNR params as kwargs, as follows:\n",
      "mtot_min = 2.0,\n",
      "mtot_max = 184.98599853446768,\n",
      "ratio_min = 0.1,\n",
      "ratio_max = 1.0,\n",
      "mtot_resolution = 500,\n",
      "ratio_resolution = 50,\n",
      "sampling_frequency = 2048.0,\n",
      "waveform_approximant = 'IMRPhenomD',\n",
      "minimum_frequency = 20.0,\n",
      "snr_type = 'interpolation',\n",
      "psds = [PowerSpectralDensity(psd_file='None', asd_file='/Users/phurailatpamhemantakumar/anaconda3/envs/ler/lib/python3.10/site-packages/bilby/gw/detector/noise_curves/aLIGO_O4_high_asd.txt'), PowerSpectralDensity(psd_file='None', asd_file='/Users/phurailatpamhemantakumar/anaconda3/envs/ler/lib/python3.10/site-packages/bilby/gw/detector/noise_curves/aLIGO_O4_high_asd.txt'), PowerSpectralDensity(psd_file='None', asd_file='/Users/phurailatpamhemantakumar/anaconda3/envs/ler/lib/python3.10/site-packages/bilby/gw/detector/noise_curves/AdV_asd.txt')],\n",
      "ifos = None,\n",
      "interpolator_dir = './interpolator_pickle',\n",
      "gwsnr_verbose = False,\n",
      "multiprocessing_verbose = True,\n",
      "mtot_cut = True,\n",
      "\n",
      " For reference, the chosen source parameters are listed below:\n",
      "merger_rate_density = 'merger_rate_density_bbh_popI_II_oguri2018'\n",
      "merger_rate_density_params =  {'R0': 2.39e-08, 'b2': 1.6, 'b3': 2.0, 'b4': 30}\n",
      "source_frame_masses = 'binary_masses_BBH_popI_II_powerlaw_gaussian'\n",
      "source_frame_masses_params =  {'mminbh': 4.98, 'mmaxbh': 112.5, 'alpha': 3.78, 'mu_g': 32.27, 'sigma_g': 3.88, 'lambda_peak': 0.03, 'delta_m': 4.8, 'beta': 0.81}\n",
      "geocent_time = 'sampler_uniform'\n",
      "geocent_time_params =  {'min_': 1238166018, 'max_': 1269702018}\n",
      "ra = 'sampler_uniform'\n",
      "ra_params =  {'min_': 0.0, 'max_': 6.283185307179586}\n",
      "dec = 'sampler_cosine'\n",
      "dec_params =  None\n",
      "phase = 'sampler_uniform'\n",
      "phase_params =  {'min_': 0.0, 'max_': 6.283185307179586}\n",
      "psi = 'sampler_uniform'\n",
      "psi_params =  {'min_': 0.0, 'max_': 3.141592653589793}\n",
      "theta_jn = 'sampler_sine'\n",
      "theta_jn_params =  None\n",
      "\n",
      " For reference, the chosen lens related parameters and functions are listed below:\n",
      "lens_redshift = 'lens_redshift_SDSS_catalogue'\n",
      "lens_redshift_params =  None\n",
      "velocity_dispersion = 'velocity_dispersion_ewoud'\n",
      "velocity_dispersion_params =  {'vd_min': 50.0, 'vd_max': 420.0, 'alpha': 0.94, 'beta': 1.85, 'phistar': 0.02099, 'sigmastar': 113.78}\n",
      "axis_ratio = 'axis_ratio_rayleigh'\n",
      "axis_ratio_params =  {'q_min': 0.2, 'q_max': 1.0}\n",
      "axis_rotation_angle = 'axis_rotation_angle_uniform'\n",
      "axis_rotation_angle_params =  {'phi_min': 0.0, 'phi_max': 6.283185307179586}\n",
      "shear = 'shear_norm'\n",
      "shear_params =  {'scale': 0.05}\n",
      "density_profile_slope = 'density_profile_slope_normal'\n",
      "density_profile_slope_params =  {'mean': 2.0, 'std': 0.2}\n",
      "Lens functions:\n",
      "strong_lensing_condition = 'rjs_with_cross_section'\n",
      "optical_depth = 'optical_depth_epl_shear_hemanta'\n",
      "optical_depth_params = '{'interpolated_cross_section': True}'\n",
      "param_sampler_type = 'sample_all_routine_epl_shear'\n"
     ]
    }
   ],
   "source": [
    "from ler.rates import LeR\n",
    "\n",
    "ler = LeR()"
   ]
  },
  {
   "cell_type": "code",
   "execution_count": 10,
   "metadata": {},
   "outputs": [
    {
     "name": "stdout",
     "output_type": "stream",
     "text": [
      "lensed params will be store in ./ler_data/lensed_param.json\n",
      "chosen batch size = 5 with total size = 10\n",
      "There will be 2 batche(s)\n",
      "Batch no. 1\n",
      "sampling lensed params...\n",
      "sampling lens parameters with sample_all_routine_epl_shear...\n",
      "current sampled size: 1\n",
      "current sampled size: 2\n",
      "current sampled size: 4\n",
      "current sampled size: 7\n",
      "solving lens equations...\n"
     ]
    },
    {
     "name": "stderr",
     "output_type": "stream",
     "text": [
      "100%|█████████████████████████████████████████████████████████████████| 5/5 [00:00<00:00, 62.80it/s]"
     ]
    },
    {
     "name": "stdout",
     "output_type": "stream",
     "text": [
      "calculating snrs...\n",
      "Batch no. 2\n",
      "sampling lensed params...\n",
      "sampling lens parameters with sample_all_routine_epl_shear...\n",
      "current sampled size: 1\n",
      "current sampled size: 2\n",
      "current sampled size: 3\n",
      "current sampled size: 6\n",
      "solving lens equations...\n"
     ]
    },
    {
     "name": "stderr",
     "output_type": "stream",
     "text": [
      "\n",
      "100%|█████████████████████████████████████████████████████████████████| 5/5 [00:00<00:00, 63.21it/s]\n"
     ]
    },
    {
     "name": "stdout",
     "output_type": "stream",
     "text": [
      "calculating snrs...\n",
      "saving all lensed parameters in ./ler_data/lensed_param.json \n"
     ]
    },
    {
     "data": {
      "text/plain": [
       "{'zl': array([0.45637617, 1.35677133, 0.6708119 , 0.5287965 ,\n",
       "        1.47375673, 0.62288466, 0.36267508, 1.44550357,\n",
       "        0.4297968 , 1.44579413]),\n",
       " 'zs': array([2.62468234, 4.71572625, 2.02715992, 1.34018847,\n",
       "        2.19258936, 2.32183773, 3.68832105, 6.93370472,\n",
       "        3.1829604 , 2.35291507]),\n",
       " 'sigma': array([152.44952343,  73.21739325, 137.42379815, 138.2487787 ,\n",
       "        116.68466524,  97.10658073,  75.63561554,  68.23297936,\n",
       "        112.6872563 , 173.99143517]),\n",
       " 'q': array([0.38699172, 0.34170744, 0.70176561, 0.46914958,\n",
       "        0.66462503, 0.72794024, 0.38123036, 0.40619803,\n",
       "        0.57111142, 0.57172243]),\n",
       " 'phi': array([4.64921188, 0.3841448 , 1.15209799, 2.87822679,\n",
       "        0.66227281, 0.5372595 , 0.11359435, 4.61048704,\n",
       "        5.68604289, 4.47579141]),\n",
       " 'e1': array([-0.43844625,  0.35281788, -0.11731218,  0.31235494,\n",
       "         0.04911267,  0.07496943,  0.43647274, -0.41353529,\n",
       "         0.10037043, -0.2425473 ]),\n",
       " 'e2': array([ 0.05569625,  0.34094739,  0.13019373, -0.18164537,\n",
       "         0.19539402,  0.13845317,  0.10090371,  0.0854667 ,\n",
       "        -0.25386245,  0.12418228]),\n",
       " 'gamma': array([1.93539659, 1.96093592, 1.95674401, 2.44161719,\n",
       "        2.15685183, 2.03434969, 1.75356454, 2.13428776,\n",
       "        2.16368393, 2.33771571]),\n",
       " 'gamma1': array([-0.02773545, -0.05873301,  0.00599947,  0.06658854,\n",
       "         0.02385459,  0.00559017, -0.04132696, -0.04859396,\n",
       "         0.0372579 ,  0.02317071]),\n",
       " 'gamma2': array([ 6.68107859e-02, -2.15594209e-02, -3.22051409e-02,\n",
       "         8.72402443e-02, -4.21285788e-02, -1.62231948e-03,\n",
       "        -7.50834717e-05,  3.63106691e-03,  6.65139521e-02,\n",
       "         4.85044814e-02]),\n",
       " 'theta_E': array([2.30008602e-06, 3.47266140e-07, 1.41601520e-06,\n",
       "        1.36648205e-06, 3.95349294e-07, 7.83688040e-07,\n",
       "        6.36232282e-07, 3.28542250e-07, 1.32546145e-06,\n",
       "        1.04021951e-06]),\n",
       " 'cross_section': array([8.25560655e-12, 2.29683386e-13, 4.21526358e-12,\n",
       "        2.48166828e-11, 1.02282989e-12, 2.34305624e-12,\n",
       "        2.91916117e-13, 5.84273506e-13, 1.15126530e-11,\n",
       "        1.19315591e-11]),\n",
       " 'geocent_time': array([1.26773493e+09, 1.26278654e+09, 1.26307672e+09,\n",
       "        1.26844145e+09, 1.25797632e+09, 1.26668304e+09,\n",
       "        1.26308098e+09, 1.26743031e+09, 1.25851892e+09,\n",
       "        1.24891424e+09]),\n",
       " 'ra': array([3.4790089 , 0.10562482, 3.90982695, 4.81465366,\n",
       "        5.05879594, 5.80572146, 6.20531976, 1.44878379,\n",
       "        4.21586579, 2.02907096]),\n",
       " 'dec': array([ 0.428552  , -1.19440828, -0.97781976, -0.45421417,\n",
       "        -0.66534136, -0.93534546, -0.27089846,  0.95601952,\n",
       "        -0.20043897,  0.34841936]),\n",
       " 'phase': array([0.03251413, 4.23803501, 2.85783477, 2.48971189,\n",
       "        6.25827255, 5.87814757, 2.82306831, 2.99946262,\n",
       "        1.29800828, 5.92666002]),\n",
       " 'psi': array([1.12537347, 1.60539   , 2.33224926, 0.92855236,\n",
       "        2.80751796, 1.67517234, 1.89296214, 0.7925386 ,\n",
       "        2.80816533, 2.66888308]),\n",
       " 'theta_jn': array([2.01443443, 1.18042898, 0.67627086, 1.33158998,\n",
       "        1.95668056, 1.18150689, 2.36698646, 1.68130113,\n",
       "        1.97904004, 0.76612159]),\n",
       " 'luminosity_distance': array([21635.58656104, 43550.61775638, 15798.23228532,\n",
       "         9492.18268136, 17387.24171998, 18643.98098651,\n",
       "        32555.49871926, 68266.37757137, 27296.84532608,\n",
       "        18948.03416459]),\n",
       " 'mass_1_source': array([ 7.67533288,  8.16317888,  7.3384412 , 11.31745765,\n",
       "        32.35009824, 10.49034203, 33.94996004,  9.45440672,\n",
       "         7.85374028, 20.91682669]),\n",
       " 'mass_2_source': array([ 6.51057651,  7.31415817,  6.68100287,  6.89586678,\n",
       "        13.51227098, 10.14264936, 24.07685581,  8.64192717,\n",
       "         7.61779899, 18.07445732]),\n",
       " 'mass_1': array([ 27.82064353,  46.65849576,  22.21463509,  26.48498387,\n",
       "        103.28057953,  34.84721394, 159.16831236,  75.00847118,\n",
       "         32.8518846 ,  70.13234344]),\n",
       " 'mass_2': array([ 23.5987717 ,  41.80572582,  20.22446412,  16.13762792,\n",
       "         43.1391326 ,  33.69223531, 112.88002996,  68.56249837,\n",
       "         31.86495154,  60.60212032]),\n",
       " 'x0_image_positions': array([[-1.42652409,  0.1110314 ,         nan,         nan],\n",
       "        [ 1.05034455, -0.16598531,         nan,         nan],\n",
       "        [-1.31452323,  0.22709873,         nan,         nan],\n",
       "        [-1.53290079,  0.23450708,         nan,         nan],\n",
       "        [ 1.41505684, -0.15373955,         nan,         nan],\n",
       "        [ 0.69122181, -0.16857631,         nan,         nan],\n",
       "        [ 0.50730094,  0.48364474,  0.72876513, -0.24901182],\n",
       "        [ 1.06554547, -0.08741193,         nan,         nan],\n",
       "        [ 0.14520902, -0.19837402,         nan,         nan],\n",
       "        [ 2.21658005, -0.12580403,         nan,         nan]]),\n",
       " 'x1_image_positions': array([[-0.75562032,  0.28325497,         nan,         nan],\n",
       "        [-1.57826394,  0.04784589,         nan,         nan],\n",
       "        [-0.66137604,  0.27814526,         nan,         nan],\n",
       "        [-1.63936506,  0.21743188,         nan,         nan],\n",
       "        [-1.53151959,  0.17738681,         nan,         nan],\n",
       "        [-1.41846139,  0.47714581,         nan,         nan],\n",
       "        [-1.54256979,  0.82014338,  0.47951162,  0.04977646],\n",
       "        [-1.06813687,  0.41044002,         nan,         nan],\n",
       "        [-1.55148828,  0.28854973,         nan,         nan],\n",
       "        [-1.04232945,  0.0889924 ,         nan,         nan]]),\n",
       " 'magnifications': array([[ 1.86096486, -0.442195  ,         nan,         nan],\n",
       "        [ 1.48294064, -0.31309989,         nan,         nan],\n",
       "        [ 3.56402466, -0.51235242,         nan,         nan],\n",
       "        [ 1.15275966, -0.0979785 ,         nan,         nan],\n",
       "        [ 1.41885404, -0.16068518,         nan,         nan],\n",
       "        [ 2.10641679, -1.24173309,         nan,         nan],\n",
       "        [ 2.1038596 ,  6.10863898, -4.44391133, -0.70418643],\n",
       "        [ 1.84319076, -0.3325808 ,         nan,         nan],\n",
       "        [ 2.08607931, -0.20842419,         nan,         nan],\n",
       "        [ 1.21329923, -0.02088509,         nan,         nan]]),\n",
       " 'time_delays': array([[      0.        , 1551580.25290864,              nan,\n",
       "                      nan],\n",
       "        [      0.        ,  184385.11531126,              nan,\n",
       "                      nan],\n",
       "        [      0.        ,  955746.1846213 ,              nan,\n",
       "                      nan],\n",
       "        [      0.        , 2378738.46650456,              nan,\n",
       "                      nan],\n",
       "        [      0.        ,  815099.96384231,              nan,\n",
       "                      nan],\n",
       "        [      0.        ,  289671.8135306 ,              nan,\n",
       "                      nan],\n",
       "        [      0.        ,   46853.25903798,   47419.16001333,\n",
       "           66093.02176999],\n",
       "        [      0.        ,  117198.1381509 ,              nan,\n",
       "                      nan],\n",
       "        [      0.        ,  585840.2431718 ,              nan,\n",
       "                      nan],\n",
       "        [      0.        , 7674420.24087726,              nan,\n",
       "                      nan]]),\n",
       " 'image_type': array([[ 1.,  2., nan, nan],\n",
       "        [ 1.,  2., nan, nan],\n",
       "        [ 1.,  2., nan, nan],\n",
       "        [ 1.,  2., nan, nan],\n",
       "        [ 1.,  2., nan, nan],\n",
       "        [ 1.,  2., nan, nan],\n",
       "        [ 1.,  1.,  2.,  2.],\n",
       "        [ 1.,  2., nan, nan],\n",
       "        [ 1.,  2., nan, nan],\n",
       "        [ 1.,  2., nan, nan]]),\n",
       " 'n_images': array([2, 2, 2, 2, 2, 2, 4, 2, 2, 2]),\n",
       " 'x_source': array([-0.36906149,  0.55245224, -0.38200924, -0.8671052 ,\n",
       "         0.70060821,  0.22218279,  0.25029015,  0.3154684 ,\n",
       "         0.29502573,  1.51809553]),\n",
       " 'y_source': array([-0.36059614, -0.48341354, -0.36740353, -1.05290896,\n",
       "        -0.81858433, -0.51045588, -0.2266112 , -0.51379471,\n",
       "        -0.68329423, -0.88236596]),\n",
       " 'effective_luminosity_distance': array([[ 15859.86870673,  32535.82014712,             nan,\n",
       "                     nan],\n",
       "        [ 35762.87596256,  77831.04453813,             nan,\n",
       "                     nan],\n",
       "        [  8368.31741293,  22071.10613691,             nan,\n",
       "                     nan],\n",
       "        [  8840.90457779,  30324.99265835,             nan,\n",
       "                     nan],\n",
       "        [ 14596.94026251,  43375.32850061,             nan,\n",
       "                     nan],\n",
       "        [ 12845.95799758,  16731.10109582,             nan,\n",
       "                     nan],\n",
       "        [ 22444.81217805,  13172.01216645,  15443.35519098,\n",
       "          38795.42607638],\n",
       "        [ 50283.06204446, 118374.5309358 ,             nan,\n",
       "                     nan],\n",
       "        [ 18899.35797188,  59791.35460837,             nan,\n",
       "                     nan],\n",
       "        [ 17202.04972831, 131113.05502175,             nan,\n",
       "                     nan]]),\n",
       " 'effective_geocent_time': array([[1.26773493e+09, 1.26928651e+09,            nan,\n",
       "                    nan],\n",
       "        [1.26278654e+09, 1.26297092e+09,            nan,\n",
       "                    nan],\n",
       "        [1.26307672e+09, 1.26403247e+09,            nan,\n",
       "                    nan],\n",
       "        [1.26844145e+09, 1.27082018e+09,            nan,\n",
       "                    nan],\n",
       "        [1.25797632e+09, 1.25879142e+09,            nan,\n",
       "                    nan],\n",
       "        [1.26668304e+09, 1.26697271e+09,            nan,\n",
       "                    nan],\n",
       "        [1.26308098e+09, 1.26312784e+09, 1.26312840e+09,\n",
       "         1.26314708e+09],\n",
       "        [1.26743031e+09, 1.26754751e+09,            nan,\n",
       "                    nan],\n",
       "        [1.25851892e+09, 1.25910476e+09,            nan,\n",
       "                    nan],\n",
       "        [1.24891424e+09, 1.25658866e+09,            nan,\n",
       "                    nan]]),\n",
       " 'snr_net': array([[0.84117114, 0.41138359,        nan,        nan],\n",
       "        [0.65120849, 0.38085893,        nan,        nan],\n",
       "        [3.28627484, 1.3423038 ,        nan,        nan],\n",
       "        [1.3053848 , 0.36290989,        nan,        nan],\n",
       "        [1.585909  , 0.79938023,        nan,        nan],\n",
       "        [1.16750039, 1.26854631,        nan,        nan],\n",
       "        [0.        , 0.        , 0.        , 0.        ],\n",
       "        [0.40603388, 0.20796399,        nan,        nan],\n",
       "        [1.02619616, 0.33084304,        nan,        nan],\n",
       "        [1.43356874, 0.21831589,        nan,        nan]]),\n",
       " 'L1': array([[0.53430039, 0.25483662,        nan,        nan],\n",
       "        [0.39738687, 0.20483827,        nan,        nan],\n",
       "        [2.04248797, 0.88930159,        nan,        nan],\n",
       "        [0.86189863, 0.17460145,        nan,        nan],\n",
       "        [1.07426146, 0.55429049,        nan,        nan],\n",
       "        [0.71575665, 0.55217105,        nan,        nan],\n",
       "        [0.        , 0.        , 0.        , 0.        ],\n",
       "        [0.25135064, 0.02273785,        nan,        nan],\n",
       "        [0.82006368, 0.17519516,        nan,        nan],\n",
       "        [0.455819  , 0.17851658,        nan,        nan]]),\n",
       " 'H1': array([[0.42960161, 0.2042821 ,        nan,        nan],\n",
       "        [0.47580571, 0.28496151,        nan,        nan],\n",
       "        [2.01648072, 0.89997303,        nan,        nan],\n",
       "        [0.78072898, 0.13412519,        nan,        nan],\n",
       "        [0.94749942, 0.51115944,        nan,        nan],\n",
       "        [0.677254  , 0.58645505,        nan,        nan],\n",
       "        [0.        , 0.        , 0.        , 0.        ],\n",
       "        [0.24976212, 0.02715181,        nan,        nan],\n",
       "        [0.54259692, 0.13944745,        nan,        nan],\n",
       "        [0.82036785, 0.11304289,        nan,        nan]]),\n",
       " 'V1': array([[0.48737504, 0.25012713,        nan,        nan],\n",
       "        [0.1994119 , 0.1479586 ,        nan,        nan],\n",
       "        [1.60051576, 0.44829756,        nan,        nan],\n",
       "        [0.59297764, 0.28849326,        nan,        nan],\n",
       "        [0.68067209, 0.26549357,        nan,        nan],\n",
       "        [0.6261602 , 0.97999354,        nan,        nan],\n",
       "        [0.        , 0.        , 0.        , 0.        ],\n",
       "        [0.19825551, 0.2049263 ,        nan,        nan],\n",
       "        [0.29353484, 0.24355324,        nan,        nan],\n",
       "        [1.08367198, 0.05490871,        nan,        nan]])}"
      ]
     },
     "execution_count": 10,
     "metadata": {},
     "output_type": "execute_result"
    }
   ],
   "source": [
    "ler.batch_size = 5\n",
    "ler.lensed_cbc_statistics(size=10, resume=False, save_batch=False)"
   ]
  },
  {
   "cell_type": "code",
   "execution_count": 3,
   "metadata": {},
   "outputs": [
    {
     "name": "stdout",
     "output_type": "stream",
     "text": [
      "/Users/phurailatpamhemantakumar/anaconda3/envs/ler/bin/python\n"
     ]
    }
   ],
   "source": [
    "!which python"
   ]
  },
  {
   "cell_type": "code",
   "execution_count": null,
   "metadata": {},
   "outputs": [],
   "source": []
  }
 ],
 "metadata": {
  "kernelspec": {
   "display_name": "ler",
   "language": "python",
   "name": "ler"
  },
  "language_info": {
   "codemirror_mode": {
    "name": "ipython",
    "version": 3
   },
   "file_extension": ".py",
   "mimetype": "text/x-python",
   "name": "python",
   "nbconvert_exporter": "python",
   "pygments_lexer": "ipython3",
   "version": "3.10.14"
  }
 },
 "nbformat": 4,
 "nbformat_minor": 2
}
