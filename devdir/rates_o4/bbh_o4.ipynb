{
 "cells": [
  {
   "cell_type": "code",
   "execution_count": 1,
   "metadata": {},
   "outputs": [
    {
     "name": "stdout",
     "output_type": "stream",
     "text": [
      "Setting multiprocessing start method to 'fork'\n"
     ]
    }
   ],
   "source": [
    "from ler.rates import LeR\n",
    "from ler.utils import get_param_from_json\n",
    "import numpy as np\n",
    "import matplotlib.pyplot as plt\n",
    "\n",
    "# other necessary imports\n",
    "from astropy.cosmology import LambdaCDM"
   ]
  },
  {
   "cell_type": "code",
   "execution_count": 2,
   "metadata": {},
   "outputs": [],
   "source": [
    "# Complete setup for LeR\n",
    "\n",
    "ler = LeR(\n",
    "    # LeR setup arguments\n",
    "    npool=8, # number of processors to use\n",
    "    z_min=0.0, # minimum redshift\n",
    "    z_max=10.0, # maximum redshift\n",
    "    event_type='BBH', # event type\n",
    "    size=100000, # number of events to simulate\n",
    "    batch_size=50000, # batch size\n",
    "    cosmology=LambdaCDM(H0=70, Om0=0.3, Ode0=0.7), # cosmology\n",
    "    snr_finder=None, # snr calculator from 'gwsnr' package will be used\n",
    "    pdet_finder=None,  # will not be consider unless specified\n",
    "    list_of_detectors=None, # list of detectors that will be considered when calculating snr or pdet for lensed events. if None, all the detectors from 'gwsnr' will be considered\n",
    "    json_file_names=dict(\n",
    "        ler_params=\"ler_params.json\", # to store initialization parameters and important results\n",
    "        unlensed_param=\"unlensed_param.json\", # to store all unlensed events\n",
    "        unlensed_param_detectable=\"unlensed_param_detectable.json\", # to store only detectable unlensed events\n",
    "        lensed_param=\"lensed_param.json\", # to store all lensed events \n",
    "        lensed_param_detectable=\"lensed_param_detectable.json\"), # to store only detectable lensed events\n",
    "    interpolator_directory='./interpolator_pickle', # directory to store the interpolator pickle files. 'ler' uses interpolation to get values of various functions to speed up the calculations (relying on numba njit).\n",
    "    create_new_interpolator = False, # if True, will create new interpolator files\n",
    "    ler_directory='./ler_data', # directory to store all the outputs\n",
    "    verbose=False, # if True, will print all information at initialization\n",
    "\n",
    "    # CBCSourceParameterDistribution class arguments\n",
    "    source_priors= {\n",
    "        'merger_rate_density': 'merger_rate_density_bbh_popI_II_oguri2018', 'source_frame_masses': 'binary_masses_BBH_popI_II_powerlaw_gaussian', 'zs': 'sample_source_redshift', 'geocent_time': 'sampler_uniform', 'ra': 'sampler_uniform', 'dec': 'sampler_cosine', 'phase': 'sampler_uniform', 'psi': 'sampler_uniform', 'theta_jn': 'sampler_sine'\n",
    "        },\n",
    "    source_priors_params= {\n",
    "        'merger_rate_density': {\n",
    "            'R0': 2.39e-08, 'b2': 1.6, 'b3': 2.0, 'b4': 30\n",
    "            }, \n",
    "        'source_frame_masses': {\n",
    "            'mminbh': 4.98, 'mmaxbh': 112.5, 'alpha': 3.78, 'mu_g': 32.27, 'sigma_g': 3.88, 'lambda_peak': 0.03, 'delta_m': 4.8, 'beta': 0.81\n",
    "            }, \n",
    "        'zs': None, \n",
    "        'geocent_time': {\n",
    "            'min_': 1238166018, 'max_': 1269702018\n",
    "            }, \n",
    "        'ra': {\n",
    "            'min_': 0.0, 'max_': 6.283185307179586\n",
    "            }, \n",
    "        'dec': None, \n",
    "        'phase': {\n",
    "            'min_': 0.0, 'max_': 6.283185307179586\n",
    "            }, \n",
    "        'psi': {\n",
    "            'min_': 0.0, 'max_': 3.141592653589793\n",
    "            }, \n",
    "        'theta_jn': None\n",
    "        },\n",
    "    spin_zero= True, # if True, spins will be set to zero\n",
    "    spin_precession= False, # if True, spins will be precessing\n",
    "\n",
    "    # LensGalaxyParameterDistribution class arguments\n",
    "    lens_type = 'epl_shear_galaxy',\n",
    "    lens_functions =  {\n",
    "        'strong_lensing_condition': 'rjs_with_cross_section_SIE',\n",
    "        'optical_depth': 'optical_depth_SIE_hemanta',\n",
    "        'param_sampler_type': 'sample_all_routine'\n",
    "        },\n",
    "    lens_priors =  {\n",
    "        'source_redshift_sl': 'strongly_lensed_source_redshifts', \n",
    "        'lens_redshift': 'lens_redshift_SDSS_catalogue', \n",
    "        'velocity_dispersion': 'velocity_dispersion_ewoud', \n",
    "        'axis_ratio': 'axis_ratio_rayleigh', \n",
    "        'axis_rotation_angle': 'axis_rotation_angle_uniform', \n",
    "        'external_shear': 'shear_norm', \n",
    "        'density_profile_slope': 'density_profile_slope_normal', 'source_parameters': 'sample_gw_parameters'\n",
    "        },\n",
    "    lens_priors_params =  {\n",
    "        'source_redshift_sl': None, \n",
    "        'lens_redshift': None, \n",
    "        'velocity_dispersion': {\n",
    "            'vd_min':10., 'vd_max':350.\n",
    "            }, \n",
    "        'axis_ratio': {\n",
    "            'q_min': 0.2, 'q_max': 1.0\n",
    "            }, \n",
    "        'axis_rotation_angle': {\n",
    "            'phi_min': 0.0, 'phi_max': 6.283185307179586\n",
    "            }, \n",
    "        'external_shear': {\n",
    "            'scale': 0.05\n",
    "            }, \n",
    "        'density_profile_slope': {\n",
    "            'mean': 2.0, 'std': 0.2\n",
    "            }, \n",
    "        'source_parameters': None\n",
    "        },\n",
    "\n",
    "    # ImageProperties class arguments\n",
    "    n_min_images = 2,\n",
    "    n_max_images = 4,\n",
    "    geocent_time_min = 1238166018,\n",
    "    geocent_time_max = 1269702018,\n",
    "    lens_model_list = ['EPL_NUMBA', 'SHEAR'],\n",
    "\n",
    "    # gwsnr package arguments\n",
    "    mtot_min = 2.0,\n",
    "    mtot_max = 184.98599853446768,\n",
    "    ratio_min = 0.1,\n",
    "    ratio_max = 1.0,\n",
    "    # mtot_resolution = 500,\n",
    "    # ratio_resolution = 50,\n",
    "    sampling_frequency = 2048.0,\n",
    "    waveform_approximant = 'IMRPhenomXPHM',\n",
    "    minimum_frequency = 20.0,\n",
    "    snr_type = 'inner_product',\n",
    "    psds = {'L1':'aLIGO_O4_high_asd.txt','H1':'aLIGO_O4_high_asd.txt', 'V1':'AdV_asd.txt', 'K1':'KAGRA_design_asd.txt'},\n",
    "    ifos = ['L1', 'H1', 'V1'],\n",
    "    interpolator_dir = './interpolator_pickle',\n",
    "    # gwsnr_verbose = True,\n",
    "    # multiprocessing_verbose = True,\n",
    "    mtot_cut = True,\n",
    ")"
   ]
  },
  {
   "cell_type": "markdown",
   "metadata": {},
   "source": [
    "## Unlensed "
   ]
  },
  {
   "cell_type": "code",
   "execution_count": 3,
   "metadata": {},
   "outputs": [
    {
     "name": "stdout",
     "output_type": "stream",
     "text": [
      "collected number of detectable events =  0\n"
     ]
    },
    {
     "name": "stderr",
     "output_type": "stream",
     "text": [
      "100%|████████████████████████████████████████████████████████| 23138/23138 [00:54<00:00, 426.19it/s]\n",
      "  0%|                                                                     | 0/23170 [00:00<?, ?it/s]"
     ]
    },
    {
     "name": "stdout",
     "output_type": "stream",
     "text": [
      "given detectability_condition == 'step_function'\n",
      "collected number of detectable events =  253\n",
      "total number of events =  25000\n",
      "total rate (yr^-1): 1047.6517136426469\n"
     ]
    },
    {
     "name": "stderr",
     "output_type": "stream",
     "text": [
      "100%|████████████████████████████████████████████████████████| 23170/23170 [00:53<00:00, 431.78it/s]\n",
      "  0%|                                                                     | 0/23086 [00:00<?, ?it/s]"
     ]
    },
    {
     "name": "stdout",
     "output_type": "stream",
     "text": [
      "given detectability_condition == 'step_function'\n",
      "collected number of detectable events =  515\n",
      "total number of events =  50000\n",
      "total rate (yr^-1): 1066.2858350315478\n"
     ]
    },
    {
     "name": "stderr",
     "output_type": "stream",
     "text": [
      "100%|████████████████████████████████████████████████████████| 23086/23086 [00:55<00:00, 416.03it/s]\n",
      "  0%|                                                                     | 0/23067 [00:00<?, ?it/s]"
     ]
    },
    {
     "name": "stdout",
     "output_type": "stream",
     "text": [
      "given detectability_condition == 'step_function'\n",
      "collected number of detectable events =  777\n",
      "total number of events =  75000\n",
      "total rate (yr^-1): 1072.497208827848\n"
     ]
    },
    {
     "name": "stderr",
     "output_type": "stream",
     "text": [
      "100%|████████████████████████████████████████████████████████| 23067/23067 [00:55<00:00, 418.43it/s]\n",
      "  0%|                                                                     | 0/23036 [00:00<?, ?it/s]"
     ]
    },
    {
     "name": "stdout",
     "output_type": "stream",
     "text": [
      "given detectability_condition == 'step_function'\n",
      "collected number of detectable events =  1033\n",
      "total number of events =  100000\n",
      "total rate (yr^-1): 1069.391521929698\n"
     ]
    },
    {
     "name": "stderr",
     "output_type": "stream",
     "text": [
      "100%|████████████████████████████████████████████████████████| 23036/23036 [00:54<00:00, 423.68it/s]\n",
      "  0%|                                                                     | 0/23171 [00:00<?, ?it/s]"
     ]
    },
    {
     "name": "stdout",
     "output_type": "stream",
     "text": [
      "given detectability_condition == 'step_function'\n",
      "collected number of detectable events =  1318\n",
      "total number of events =  125000\n",
      "total rate (yr^-1): 1091.5454218031691\n"
     ]
    },
    {
     "name": "stderr",
     "output_type": "stream",
     "text": [
      "  4%|██▍                                                       | 976/23171 [00:02<00:54, 404.22it/s]\n"
     ]
    },
    {
     "ename": "KeyboardInterrupt",
     "evalue": "",
     "output_type": "error",
     "traceback": [
      "\u001b[0;31m---------------------------------------------------------------------------\u001b[0m",
      "\u001b[0;31mIndexError\u001b[0m                                Traceback (most recent call last)",
      "File \u001b[0;32m~/anaconda3/envs/ler/lib/python3.10/multiprocessing/pool.py:856\u001b[0m, in \u001b[0;36mIMapIterator.next\u001b[0;34m(self, timeout)\u001b[0m\n\u001b[1;32m    855\u001b[0m \u001b[38;5;28;01mtry\u001b[39;00m:\n\u001b[0;32m--> 856\u001b[0m     item \u001b[38;5;241m=\u001b[39m \u001b[38;5;28;43mself\u001b[39;49m\u001b[38;5;241;43m.\u001b[39;49m\u001b[43m_items\u001b[49m\u001b[38;5;241;43m.\u001b[39;49m\u001b[43mpopleft\u001b[49m\u001b[43m(\u001b[49m\u001b[43m)\u001b[49m\n\u001b[1;32m    857\u001b[0m \u001b[38;5;28;01mexcept\u001b[39;00m \u001b[38;5;167;01mIndexError\u001b[39;00m:\n",
      "\u001b[0;31mIndexError\u001b[0m: pop from an empty deque",
      "\nDuring handling of the above exception, another exception occurred:\n",
      "\u001b[0;31mKeyboardInterrupt\u001b[0m                         Traceback (most recent call last)",
      "Cell \u001b[0;32mIn[3], line 1\u001b[0m\n\u001b[0;32m----> 1\u001b[0m \u001b[43mler\u001b[49m\u001b[38;5;241;43m.\u001b[39;49m\u001b[43mselecting_n_unlensed_detectable_events\u001b[49m\u001b[43m(\u001b[49m\n\u001b[1;32m      2\u001b[0m \u001b[43m    \u001b[49m\u001b[43msize\u001b[49m\u001b[38;5;241;43m=\u001b[39;49m\u001b[38;5;241;43m200000\u001b[39;49m\u001b[43m,\u001b[49m\n\u001b[1;32m      3\u001b[0m \u001b[43m    \u001b[49m\u001b[43mbatch_size\u001b[49m\u001b[38;5;241;43m=\u001b[39;49m\u001b[38;5;241;43m25000\u001b[39;49m\u001b[43m,\u001b[49m\n\u001b[1;32m      4\u001b[0m \u001b[43m    \u001b[49m\u001b[43msnr_threshold\u001b[49m\u001b[38;5;241;43m=\u001b[39;49m\u001b[38;5;241;43m6.0\u001b[39;49m\u001b[43m,\u001b[49m\n\u001b[1;32m      5\u001b[0m \u001b[43m    \u001b[49m\u001b[43mresume\u001b[49m\u001b[38;5;241;43m=\u001b[39;49m\u001b[38;5;28;43;01mTrue\u001b[39;49;00m\u001b[43m,\u001b[49m\n\u001b[1;32m      6\u001b[0m \u001b[43m    \u001b[49m\u001b[43moutput_jsonfile\u001b[49m\u001b[38;5;241;43m=\u001b[39;49m\u001b[38;5;124;43m'\u001b[39;49m\u001b[38;5;124;43mn_unlensed_param_detectable_O4_spur_sub.json\u001b[39;49m\u001b[38;5;124;43m'\u001b[39;49m\u001b[43m,\u001b[49m\n\u001b[1;32m      7\u001b[0m \u001b[43m    \u001b[49m\u001b[43mmeta_data_file\u001b[49m\u001b[38;5;241;43m=\u001b[39;49m\u001b[38;5;124;43m'\u001b[39;49m\u001b[38;5;124;43mmeta_unlensed_O4_spur_sub.json\u001b[39;49m\u001b[38;5;124;43m'\u001b[39;49m\u001b[43m,\u001b[49m\n\u001b[1;32m      8\u001b[0m \u001b[43m    \u001b[49m\u001b[43mdetectability_condition\u001b[49m\u001b[38;5;241;43m=\u001b[39;49m\u001b[38;5;124;43m'\u001b[39;49m\u001b[38;5;124;43mstep_function\u001b[39;49m\u001b[38;5;124;43m'\u001b[39;49m\u001b[43m,\u001b[49m\n\u001b[1;32m      9\u001b[0m \u001b[43m    \u001b[49m\u001b[43mtrim_to_size\u001b[49m\u001b[38;5;241;43m=\u001b[39;49m\u001b[38;5;28;43;01mFalse\u001b[39;49;00m\u001b[43m,\u001b[49m\n\u001b[1;32m     10\u001b[0m \u001b[43m)\u001b[49m\n",
      "File \u001b[0;32m~/phd/mypackages/ler/ler/rates/ler.py:1914\u001b[0m, in \u001b[0;36mLeR.selecting_n_unlensed_detectable_events\u001b[0;34m(self, size, batch_size, snr_threshold, pdet_threshold, resume, output_jsonfile, meta_data_file, detectability_condition, trim_to_size, snr_recalculation, snr_threshold_recalculation)\u001b[0m\n\u001b[1;32m   1912\u001b[0m \u001b[38;5;28;01mwith\u001b[39;00m contextlib\u001b[38;5;241m.\u001b[39mredirect_stdout(\u001b[38;5;28;01mNone\u001b[39;00m):\n\u001b[1;32m   1913\u001b[0m     \u001b[38;5;28mself\u001b[39m\u001b[38;5;241m.\u001b[39mdict_buffer \u001b[38;5;241m=\u001b[39m \u001b[38;5;28;01mNone\u001b[39;00m  \u001b[38;5;66;03m# this is used to store the sampled unlensed_param in batches when running the sampling_routine\u001b[39;00m\n\u001b[0;32m-> 1914\u001b[0m     unlensed_param \u001b[38;5;241m=\u001b[39m \u001b[38;5;28;43mself\u001b[39;49m\u001b[38;5;241;43m.\u001b[39;49m\u001b[43munlensed_sampling_routine\u001b[49m\u001b[43m(\u001b[49m\n\u001b[1;32m   1915\u001b[0m \u001b[43m        \u001b[49m\u001b[43msize\u001b[49m\u001b[38;5;241;43m=\u001b[39;49m\u001b[43mbatch_size\u001b[49m\u001b[43m,\u001b[49m\u001b[43m \u001b[49m\u001b[43moutput_jsonfile\u001b[49m\u001b[38;5;241;43m=\u001b[39;49m\u001b[43mbuffer_file\u001b[49m\u001b[43m,\u001b[49m\u001b[43m \u001b[49m\u001b[43msave_batch\u001b[49m\u001b[38;5;241;43m=\u001b[39;49m\u001b[38;5;28;43;01mFalse\u001b[39;49;00m\u001b[43m,\u001b[49m\u001b[43mresume\u001b[49m\u001b[38;5;241;43m=\u001b[39;49m\u001b[38;5;28;43;01mFalse\u001b[39;49;00m\n\u001b[1;32m   1916\u001b[0m \u001b[43m    \u001b[49m\u001b[43m)\u001b[49m\n\u001b[1;32m   1918\u001b[0m total_events_in_this_iteration \u001b[38;5;241m=\u001b[39m \u001b[38;5;28mlen\u001b[39m(unlensed_param[\u001b[38;5;124m\"\u001b[39m\u001b[38;5;124mzs\u001b[39m\u001b[38;5;124m\"\u001b[39m])\n\u001b[1;32m   1919\u001b[0m \u001b[38;5;66;03m# below is use when the snr is calculated with 'ann' method of `gwsnr`\u001b[39;00m\n",
      "File \u001b[0;32m~/phd/mypackages/ler/ler/rates/ler.py:1012\u001b[0m, in \u001b[0;36mLeR.unlensed_sampling_routine\u001b[0;34m(self, size, output_jsonfile, resume, save_batch)\u001b[0m\n\u001b[1;32m   1010\u001b[0m \u001b[38;5;28;01mif\u001b[39;00m \u001b[38;5;28mself\u001b[39m\u001b[38;5;241m.\u001b[39msnr:\n\u001b[1;32m   1011\u001b[0m     \u001b[38;5;28mprint\u001b[39m(\u001b[38;5;124m\"\u001b[39m\u001b[38;5;124mcalculating snrs...\u001b[39m\u001b[38;5;124m\"\u001b[39m)\n\u001b[0;32m-> 1012\u001b[0m     snrs \u001b[38;5;241m=\u001b[39m \u001b[38;5;28;43mself\u001b[39;49m\u001b[38;5;241;43m.\u001b[39;49m\u001b[43msnr\u001b[49m\u001b[43m(\u001b[49m\u001b[43mgw_param_dict\u001b[49m\u001b[38;5;241;43m=\u001b[39;49m\u001b[43munlensed_param\u001b[49m\u001b[43m)\u001b[49m\n\u001b[1;32m   1013\u001b[0m     unlensed_param\u001b[38;5;241m.\u001b[39mupdate(snrs)\n\u001b[1;32m   1014\u001b[0m \u001b[38;5;28;01melif\u001b[39;00m \u001b[38;5;28mself\u001b[39m\u001b[38;5;241m.\u001b[39mpdet:\n",
      "File \u001b[0;32m~/phd/mypackages/gwsnr/gwsnr/gwsnr.py:710\u001b[0m, in \u001b[0;36mGWSNR.snr\u001b[0;34m(self, mass_1, mass_2, luminosity_distance, theta_jn, psi, phase, geocent_time, ra, dec, a_1, a_2, tilt_1, tilt_2, phi_12, phi_jl, gw_param_dict, output_jsonfile)\u001b[0m\n\u001b[1;32m    707\u001b[0m \u001b[38;5;28;01melif\u001b[39;00m \u001b[38;5;28mself\u001b[39m\u001b[38;5;241m.\u001b[39msnr_type \u001b[38;5;241m==\u001b[39m \u001b[38;5;124m\"\u001b[39m\u001b[38;5;124minner_product\u001b[39m\u001b[38;5;124m\"\u001b[39m:\n\u001b[1;32m    708\u001b[0m     \u001b[38;5;28mprint\u001b[39m(\u001b[38;5;124m\"\u001b[39m\u001b[38;5;124msolving SNR with inner product\u001b[39m\u001b[38;5;124m\"\u001b[39m)\n\u001b[0;32m--> 710\u001b[0m     snr_dict \u001b[38;5;241m=\u001b[39m \u001b[38;5;28;43mself\u001b[39;49m\u001b[38;5;241;43m.\u001b[39;49m\u001b[43mcompute_bilby_snr\u001b[49m\u001b[43m(\u001b[49m\n\u001b[1;32m    711\u001b[0m \u001b[43m        \u001b[49m\u001b[43mmass_1\u001b[49m\u001b[43m,\u001b[49m\n\u001b[1;32m    712\u001b[0m \u001b[43m        \u001b[49m\u001b[43mmass_2\u001b[49m\u001b[43m,\u001b[49m\n\u001b[1;32m    713\u001b[0m \u001b[43m        \u001b[49m\u001b[43mluminosity_distance\u001b[49m\u001b[38;5;241;43m=\u001b[39;49m\u001b[43mluminosity_distance\u001b[49m\u001b[43m,\u001b[49m\n\u001b[1;32m    714\u001b[0m \u001b[43m        \u001b[49m\u001b[43mtheta_jn\u001b[49m\u001b[38;5;241;43m=\u001b[39;49m\u001b[43mtheta_jn\u001b[49m\u001b[43m,\u001b[49m\n\u001b[1;32m    715\u001b[0m \u001b[43m        \u001b[49m\u001b[43mpsi\u001b[49m\u001b[38;5;241;43m=\u001b[39;49m\u001b[43mpsi\u001b[49m\u001b[43m,\u001b[49m\n\u001b[1;32m    716\u001b[0m \u001b[43m        \u001b[49m\u001b[43mphase\u001b[49m\u001b[38;5;241;43m=\u001b[39;49m\u001b[43mphase\u001b[49m\u001b[43m,\u001b[49m\n\u001b[1;32m    717\u001b[0m \u001b[43m        \u001b[49m\u001b[43mgeocent_time\u001b[49m\u001b[38;5;241;43m=\u001b[39;49m\u001b[43mgeocent_time\u001b[49m\u001b[43m,\u001b[49m\n\u001b[1;32m    718\u001b[0m \u001b[43m        \u001b[49m\u001b[43mra\u001b[49m\u001b[38;5;241;43m=\u001b[39;49m\u001b[43mra\u001b[49m\u001b[43m,\u001b[49m\n\u001b[1;32m    719\u001b[0m \u001b[43m        \u001b[49m\u001b[43mdec\u001b[49m\u001b[38;5;241;43m=\u001b[39;49m\u001b[43mdec\u001b[49m\u001b[43m,\u001b[49m\n\u001b[1;32m    720\u001b[0m \u001b[43m        \u001b[49m\u001b[43ma_1\u001b[49m\u001b[38;5;241;43m=\u001b[39;49m\u001b[43ma_1\u001b[49m\u001b[43m,\u001b[49m\n\u001b[1;32m    721\u001b[0m \u001b[43m        \u001b[49m\u001b[43ma_2\u001b[49m\u001b[38;5;241;43m=\u001b[39;49m\u001b[43ma_2\u001b[49m\u001b[43m,\u001b[49m\n\u001b[1;32m    722\u001b[0m \u001b[43m        \u001b[49m\u001b[43mtilt_1\u001b[49m\u001b[38;5;241;43m=\u001b[39;49m\u001b[43mtilt_1\u001b[49m\u001b[43m,\u001b[49m\n\u001b[1;32m    723\u001b[0m \u001b[43m        \u001b[49m\u001b[43mtilt_2\u001b[49m\u001b[38;5;241;43m=\u001b[39;49m\u001b[43mtilt_2\u001b[49m\u001b[43m,\u001b[49m\n\u001b[1;32m    724\u001b[0m \u001b[43m        \u001b[49m\u001b[43mphi_12\u001b[49m\u001b[38;5;241;43m=\u001b[39;49m\u001b[43mphi_12\u001b[49m\u001b[43m,\u001b[49m\n\u001b[1;32m    725\u001b[0m \u001b[43m        \u001b[49m\u001b[43mphi_jl\u001b[49m\u001b[38;5;241;43m=\u001b[39;49m\u001b[43mphi_jl\u001b[49m\u001b[43m,\u001b[49m\n\u001b[1;32m    726\u001b[0m \u001b[43m        \u001b[49m\u001b[43moutput_jsonfile\u001b[49m\u001b[38;5;241;43m=\u001b[39;49m\u001b[43moutput_jsonfile\u001b[49m\u001b[43m,\u001b[49m\n\u001b[1;32m    727\u001b[0m \u001b[43m    \u001b[49m\u001b[43m)\u001b[49m\n\u001b[1;32m    729\u001b[0m \u001b[38;5;28;01melif\u001b[39;00m \u001b[38;5;28mself\u001b[39m\u001b[38;5;241m.\u001b[39msnr_type \u001b[38;5;241m==\u001b[39m \u001b[38;5;124m\"\u001b[39m\u001b[38;5;124mann\u001b[39m\u001b[38;5;124m\"\u001b[39m:\n\u001b[1;32m    730\u001b[0m     snr_dict \u001b[38;5;241m=\u001b[39m \u001b[38;5;28mself\u001b[39m\u001b[38;5;241m.\u001b[39msnr_with_ann(\n\u001b[1;32m    731\u001b[0m         mass_1,\n\u001b[1;32m    732\u001b[0m         mass_2,\n\u001b[0;32m   (...)\u001b[0m\n\u001b[1;32m    740\u001b[0m         output_jsonfile\u001b[38;5;241m=\u001b[39moutput_jsonfile,\n\u001b[1;32m    741\u001b[0m     )\n",
      "File \u001b[0;32m~/phd/mypackages/gwsnr/gwsnr/gwsnr.py:1387\u001b[0m, in \u001b[0;36mGWSNR.compute_bilby_snr\u001b[0;34m(self, mass_1, mass_2, luminosity_distance, theta_jn, psi, phase, geocent_time, ra, dec, a_1, a_2, tilt_1, tilt_2, phi_12, phi_jl, gw_param_dict, output_jsonfile)\u001b[0m\n\u001b[1;32m   1383\u001b[0m \u001b[38;5;28;01mwith\u001b[39;00m Pool(processes\u001b[38;5;241m=\u001b[39mnpool) \u001b[38;5;28;01mas\u001b[39;00m pool:\n\u001b[1;32m   1384\u001b[0m     \u001b[38;5;66;03m# call the same function with different data in parallel\u001b[39;00m\n\u001b[1;32m   1385\u001b[0m     \u001b[38;5;66;03m# imap->retain order in the list, while map->doesn't\u001b[39;00m\n\u001b[1;32m   1386\u001b[0m     \u001b[38;5;28;01mif\u001b[39;00m \u001b[38;5;28mself\u001b[39m\u001b[38;5;241m.\u001b[39mmultiprocessing_verbose:\n\u001b[0;32m-> 1387\u001b[0m         \u001b[38;5;28;01mfor\u001b[39;00m result \u001b[38;5;129;01min\u001b[39;00m tqdm(\n\u001b[1;32m   1388\u001b[0m             pool\u001b[38;5;241m.\u001b[39mimap_unordered(noise_weighted_inner_prod, input_arguments),\n\u001b[1;32m   1389\u001b[0m             total\u001b[38;5;241m=\u001b[39m\u001b[38;5;28mlen\u001b[39m(input_arguments),\n\u001b[1;32m   1390\u001b[0m             ncols\u001b[38;5;241m=\u001b[39m\u001b[38;5;241m100\u001b[39m,\n\u001b[1;32m   1391\u001b[0m         ):\n\u001b[1;32m   1392\u001b[0m             \u001b[38;5;66;03m# but, np.shape(hp_inner_hp_i) = (size1, len(num_det))\u001b[39;00m\n\u001b[1;32m   1393\u001b[0m             hp_inner_hp_i, hc_inner_hc_i, iter_i \u001b[38;5;241m=\u001b[39m result\n\u001b[1;32m   1394\u001b[0m             hp_inner_hp[:, iter_i] \u001b[38;5;241m=\u001b[39m hp_inner_hp_i\n",
      "File \u001b[0;32m~/anaconda3/envs/ler/lib/python3.10/site-packages/tqdm/std.py:1181\u001b[0m, in \u001b[0;36mtqdm.__iter__\u001b[0;34m(self)\u001b[0m\n\u001b[1;32m   1178\u001b[0m time \u001b[38;5;241m=\u001b[39m \u001b[38;5;28mself\u001b[39m\u001b[38;5;241m.\u001b[39m_time\n\u001b[1;32m   1180\u001b[0m \u001b[38;5;28;01mtry\u001b[39;00m:\n\u001b[0;32m-> 1181\u001b[0m     \u001b[38;5;28;01mfor\u001b[39;00m obj \u001b[38;5;129;01min\u001b[39;00m iterable:\n\u001b[1;32m   1182\u001b[0m         \u001b[38;5;28;01myield\u001b[39;00m obj\n\u001b[1;32m   1183\u001b[0m         \u001b[38;5;66;03m# Update and possibly print the progressbar.\u001b[39;00m\n\u001b[1;32m   1184\u001b[0m         \u001b[38;5;66;03m# Note: does not call self.update(1) for speed optimisation.\u001b[39;00m\n",
      "File \u001b[0;32m~/anaconda3/envs/ler/lib/python3.10/multiprocessing/pool.py:861\u001b[0m, in \u001b[0;36mIMapIterator.next\u001b[0;34m(self, timeout)\u001b[0m\n\u001b[1;32m    859\u001b[0m     \u001b[38;5;28mself\u001b[39m\u001b[38;5;241m.\u001b[39m_pool \u001b[38;5;241m=\u001b[39m \u001b[38;5;28;01mNone\u001b[39;00m\n\u001b[1;32m    860\u001b[0m     \u001b[38;5;28;01mraise\u001b[39;00m \u001b[38;5;167;01mStopIteration\u001b[39;00m \u001b[38;5;28;01mfrom\u001b[39;00m \u001b[38;5;28;01mNone\u001b[39;00m\n\u001b[0;32m--> 861\u001b[0m \u001b[38;5;28;43mself\u001b[39;49m\u001b[38;5;241;43m.\u001b[39;49m\u001b[43m_cond\u001b[49m\u001b[38;5;241;43m.\u001b[39;49m\u001b[43mwait\u001b[49m\u001b[43m(\u001b[49m\u001b[43mtimeout\u001b[49m\u001b[43m)\u001b[49m\n\u001b[1;32m    862\u001b[0m \u001b[38;5;28;01mtry\u001b[39;00m:\n\u001b[1;32m    863\u001b[0m     item \u001b[38;5;241m=\u001b[39m \u001b[38;5;28mself\u001b[39m\u001b[38;5;241m.\u001b[39m_items\u001b[38;5;241m.\u001b[39mpopleft()\n",
      "File \u001b[0;32m~/anaconda3/envs/ler/lib/python3.10/threading.py:320\u001b[0m, in \u001b[0;36mCondition.wait\u001b[0;34m(self, timeout)\u001b[0m\n\u001b[1;32m    318\u001b[0m \u001b[38;5;28;01mtry\u001b[39;00m:    \u001b[38;5;66;03m# restore state no matter what (e.g., KeyboardInterrupt)\u001b[39;00m\n\u001b[1;32m    319\u001b[0m     \u001b[38;5;28;01mif\u001b[39;00m timeout \u001b[38;5;129;01mis\u001b[39;00m \u001b[38;5;28;01mNone\u001b[39;00m:\n\u001b[0;32m--> 320\u001b[0m         \u001b[43mwaiter\u001b[49m\u001b[38;5;241;43m.\u001b[39;49m\u001b[43macquire\u001b[49m\u001b[43m(\u001b[49m\u001b[43m)\u001b[49m\n\u001b[1;32m    321\u001b[0m         gotit \u001b[38;5;241m=\u001b[39m \u001b[38;5;28;01mTrue\u001b[39;00m\n\u001b[1;32m    322\u001b[0m     \u001b[38;5;28;01melse\u001b[39;00m:\n",
      "\u001b[0;31mKeyboardInterrupt\u001b[0m: "
     ]
    }
   ],
   "source": [
    "ler.selecting_n_unlensed_detectable_events(\n",
    "    size=200000,\n",
    "    batch_size=25000,\n",
    "    snr_threshold=6.0,\n",
    "    resume=True,\n",
    "    output_jsonfile='n_unlensed_param_detectable_O4_spur_sub.json',\n",
    "    meta_data_file='meta_unlensed_O4_spur_sub.json',\n",
    "    detectability_condition='step_function',\n",
    "    trim_to_size=False,\n",
    ");"
   ]
  },
  {
   "cell_type": "code",
   "execution_count": 4,
   "metadata": {},
   "outputs": [
    {
     "data": {
      "image/png": "[encoded data removed]",
      "text/plain": [
       "<Figure size 600x400 with 1 Axes>"
      ]
     },
     "metadata": {},
     "output_type": "display_data"
    }
   ],
   "source": [
    "# getting data from json\n",
    "meta_data= get_param_from_json(\"./ler_data/meta_unlensed_O4_spur_sub.json\")\n",
    "\n",
    "# plot the rate vs sampling size\n",
    "plt.figure(figsize=(6,4))\n",
    "plt.plot(meta_data['events_total'], meta_data['total_rate'], 'o-')\n",
    "plt.xlabel('Sampling size')\n",
    "plt.ylabel('Rate (per year)')\n",
    "plt.title('Rate vs Sampling size')\n",
    "plt.grid(alpha=0.4)\n",
    "plt.show()"
   ]
  },
  {
   "cell_type": "markdown",
   "metadata": {},
   "source": [
    "### Sub+Super"
   ]
  },
  {
   "cell_type": "code",
   "execution_count": 5,
   "metadata": {},
   "outputs": [
    {
     "name": "stdout",
     "output_type": "stream",
     "text": [
      "Unlensed GW Rate (per year), SNR>6 = 1074.9299968980656\n"
     ]
    }
   ],
   "source": [
    "# select only events after sampling size of \n",
    "idx = np.where(meta_data['events_total'] > 40000)[0]\n",
    "# take average \n",
    "gw_rate_unlensed1 = np.mean(meta_data['total_rate'][idx])\n",
    "print('Unlensed GW Rate (per year), SNR>6 =', gw_rate_unlensed1)"
   ]
  },
  {
   "cell_type": "markdown",
   "metadata": {},
   "source": [
    "### Super"
   ]
  },
  {
   "cell_type": "code",
   "execution_count": 6,
   "metadata": {},
   "outputs": [],
   "source": [
    "unlensed_param = get_param_from_json(\"./ler_data/n_unlensed_param_detectable_O4_spur_sub.json\")"
   ]
  },
  {
   "cell_type": "code",
   "execution_count": 7,
   "metadata": {},
   "outputs": [
    {
     "name": "stdout",
     "output_type": "stream",
     "text": [
      "Unlensed GW Rate (per year), SNR>8 = 446.1204160115644\n"
     ]
    }
   ],
   "source": [
    "snr = unlensed_param['snr_net']\n",
    "idx = snr>8.0\n",
    "snr8_vs_snr6 = np.sum(idx)/len(snr)\n",
    "print('Unlensed GW Rate (per year), SNR>8 =', gw_rate_unlensed1*snr8_vs_snr6) "
   ]
  },
  {
   "cell_type": "markdown",
   "metadata": {},
   "source": [
    "## Lensed events"
   ]
  },
  {
   "cell_type": "code",
   "execution_count": 12,
   "metadata": {},
   "outputs": [
    {
     "name": "stdout",
     "output_type": "stream",
     "text": [
      "collected number of detectable events =  60496\n"
     ]
    },
    {
     "name": "stderr",
     "output_type": "stream",
     "text": [
      "100%|█████████████████████████████████████████████████████| 200000/200000 [00:49<00:00, 4062.89it/s]\n",
      "100%|█████████████████████████████████████████████████████████████████| 6/6 [00:03<00:00,  1.83it/s]\n"
     ]
    },
    {
     "name": "stdout",
     "output_type": "stream",
     "text": [
      "given detectability_condition == step_function\n",
      "collected number of detectable events =  62393\n",
      "total number of events =  6600000\n",
      "total rate (yr^-1): 2.146793769760623\n"
     ]
    },
    {
     "name": "stderr",
     "output_type": "stream",
     "text": [
      "100%|█████████████████████████████████████████████████████| 200000/200000 [00:48<00:00, 4081.94it/s]\n",
      "100%|█████████████████████████████████████████████████████████████████| 8/8 [00:03<00:00,  2.22it/s]\n"
     ]
    },
    {
     "name": "stdout",
     "output_type": "stream",
     "text": [
      "given detectability_condition == step_function\n",
      "collected number of detectable events =  64339\n",
      "total number of events =  6800000\n",
      "total rate (yr^-1): 2.148640648619495\n"
     ]
    },
    {
     "name": "stderr",
     "output_type": "stream",
     "text": [
      "100%|█████████████████████████████████████████████████████| 200000/200000 [00:49<00:00, 4026.81it/s]\n",
      "100%|█████████████████████████████████████████████████████████████████| 6/6 [00:03<00:00,  1.65it/s]\n"
     ]
    },
    {
     "name": "stdout",
     "output_type": "stream",
     "text": [
      "given detectability_condition == step_function\n",
      "collected number of detectable events =  66239\n",
      "total number of events =  7000000\n",
      "total rate (yr^-1): 2.1488896845116505\n"
     ]
    },
    {
     "name": "stderr",
     "output_type": "stream",
     "text": [
      "100%|█████████████████████████████████████████████████████| 200000/200000 [00:48<00:00, 4162.05it/s]\n",
      "100%|█████████████████████████████████████████████████████████████████| 2/2 [00:03<00:00,  1.65s/it]\n"
     ]
    },
    {
     "name": "stdout",
     "output_type": "stream",
     "text": [
      "given detectability_condition == step_function\n",
      "collected number of detectable events =  68168\n",
      "total number of events =  7200000\n",
      "total rate (yr^-1): 2.1500395539396298\n"
     ]
    },
    {
     "name": "stderr",
     "output_type": "stream",
     "text": [
      "100%|█████████████████████████████████████████████████████| 200000/200000 [00:49<00:00, 4080.46it/s]\n",
      "100%|█████████████████████████████████████████████████████████████████| 8/8 [00:03<00:00,  2.49it/s]\n"
     ]
    },
    {
     "name": "stdout",
     "output_type": "stream",
     "text": [
      "given detectability_condition == step_function\n",
      "collected number of detectable events =  70020\n",
      "total number of events =  7400000\n",
      "total rate (yr^-1): 2.1487643026634924\n"
     ]
    },
    {
     "name": "stderr",
     "output_type": "stream",
     "text": [
      "100%|█████████████████████████████████████████████████████| 200000/200000 [00:48<00:00, 4096.64it/s]\n",
      "100%|█████████████████████████████████████████████████████████████████| 7/7 [00:03<00:00,  2.18it/s]\n"
     ]
    },
    {
     "name": "stdout",
     "output_type": "stream",
     "text": [
      "given detectability_condition == step_function\n",
      "collected number of detectable events =  71944\n",
      "total number of events =  7600000\n",
      "total rate (yr^-1): 2.14970755072251\n"
     ]
    },
    {
     "name": "stderr",
     "output_type": "stream",
     "text": [
      "100%|█████████████████████████████████████████████████████| 200000/200000 [00:48<00:00, 4098.58it/s]\n",
      "100%|█████████████████████████████████████████████████████████████████| 3/3 [00:03<00:00,  1.19s/it]\n"
     ]
    },
    {
     "name": "stdout",
     "output_type": "stream",
     "text": [
      "given detectability_condition == step_function\n",
      "collected number of detectable events =  73802\n",
      "total number of events =  7800000\n",
      "total rate (yr^-1): 2.1486808946203393\n"
     ]
    },
    {
     "name": "stderr",
     "output_type": "stream",
     "text": [
      " 30%|████████████████                                      | 59603/200000 [00:17<00:40, 3484.12it/s]\n"
     ]
    },
    {
     "ename": "KeyboardInterrupt",
     "evalue": "",
     "output_type": "error",
     "traceback": [
      "\u001b[0;31m---------------------------------------------------------------------------\u001b[0m",
      "\u001b[0;31mIndexError\u001b[0m                                Traceback (most recent call last)",
      "File \u001b[0;32m~/anaconda3/envs/ler/lib/python3.10/multiprocessing/pool.py:856\u001b[0m, in \u001b[0;36mIMapIterator.next\u001b[0;34m(self, timeout)\u001b[0m\n\u001b[1;32m    855\u001b[0m \u001b[38;5;28;01mtry\u001b[39;00m:\n\u001b[0;32m--> 856\u001b[0m     item \u001b[38;5;241m=\u001b[39m \u001b[38;5;28;43mself\u001b[39;49m\u001b[38;5;241;43m.\u001b[39;49m\u001b[43m_items\u001b[49m\u001b[38;5;241;43m.\u001b[39;49m\u001b[43mpopleft\u001b[49m\u001b[43m(\u001b[49m\u001b[43m)\u001b[49m\n\u001b[1;32m    857\u001b[0m \u001b[38;5;28;01mexcept\u001b[39;00m \u001b[38;5;167;01mIndexError\u001b[39;00m:\n",
      "\u001b[0;31mIndexError\u001b[0m: pop from an empty deque",
      "\nDuring handling of the above exception, another exception occurred:\n",
      "\u001b[0;31mKeyboardInterrupt\u001b[0m                         Traceback (most recent call last)",
      "Cell \u001b[0;32mIn[12], line 1\u001b[0m\n\u001b[0;32m----> 1\u001b[0m \u001b[43mler\u001b[49m\u001b[38;5;241;43m.\u001b[39;49m\u001b[43mselecting_n_lensed_detectable_events\u001b[49m\u001b[43m(\u001b[49m\n\u001b[1;32m      2\u001b[0m \u001b[43m    \u001b[49m\u001b[43msize\u001b[49m\u001b[38;5;241;43m=\u001b[39;49m\u001b[38;5;241;43m80000\u001b[39;49m\u001b[43m,\u001b[49m\n\u001b[1;32m      3\u001b[0m \u001b[43m    \u001b[49m\u001b[43mbatch_size\u001b[49m\u001b[38;5;241;43m=\u001b[39;49m\u001b[38;5;241;43m200000\u001b[39;49m\u001b[43m,\u001b[49m\n\u001b[1;32m      4\u001b[0m \u001b[43m    \u001b[49m\u001b[43msnr_threshold\u001b[49m\u001b[38;5;241;43m=\u001b[39;49m\u001b[43m[\u001b[49m\u001b[38;5;241;43m6.0\u001b[39;49m\u001b[43m,\u001b[49m\u001b[43m \u001b[49m\u001b[38;5;241;43m6.0\u001b[39;49m\u001b[43m]\u001b[49m\u001b[43m,\u001b[49m\n\u001b[1;32m      5\u001b[0m \u001b[43m    \u001b[49m\u001b[43mnum_img\u001b[49m\u001b[38;5;241;43m=\u001b[39;49m\u001b[43m[\u001b[49m\u001b[38;5;241;43m1\u001b[39;49m\u001b[43m,\u001b[49m\u001b[43m \u001b[49m\u001b[38;5;241;43m1\u001b[39;49m\u001b[43m]\u001b[49m\u001b[43m,\u001b[49m\n\u001b[1;32m      6\u001b[0m \u001b[43m    \u001b[49m\u001b[43mresume\u001b[49m\u001b[38;5;241;43m=\u001b[39;49m\u001b[38;5;28;43;01mTrue\u001b[39;49;00m\u001b[43m,\u001b[49m\n\u001b[1;32m      7\u001b[0m \u001b[43m    \u001b[49m\u001b[43mdetectability_condition\u001b[49m\u001b[38;5;241;43m=\u001b[39;49m\u001b[38;5;124;43m'\u001b[39;49m\u001b[38;5;124;43mstep_function\u001b[39;49m\u001b[38;5;124;43m'\u001b[39;49m\u001b[43m,\u001b[49m\n\u001b[1;32m      8\u001b[0m \u001b[43m    \u001b[49m\u001b[43moutput_jsonfile\u001b[49m\u001b[38;5;241;43m=\u001b[39;49m\u001b[38;5;124;43m'\u001b[39;49m\u001b[38;5;124;43mn_lensed_param_detectable_O4_spur_sub.json\u001b[39;49m\u001b[38;5;124;43m'\u001b[39;49m\u001b[43m,\u001b[49m\n\u001b[1;32m      9\u001b[0m \u001b[43m    \u001b[49m\u001b[43mmeta_data_file\u001b[49m\u001b[38;5;241;43m=\u001b[39;49m\u001b[38;5;124;43m'\u001b[39;49m\u001b[38;5;124;43mmeta_lensed_O4_spur_sub.json\u001b[39;49m\u001b[38;5;124;43m'\u001b[39;49m\u001b[43m,\u001b[49m\n\u001b[1;32m     10\u001b[0m \u001b[43m    \u001b[49m\u001b[43mtrim_to_size\u001b[49m\u001b[38;5;241;43m=\u001b[39;49m\u001b[38;5;28;43;01mFalse\u001b[39;49;00m\u001b[43m,\u001b[49m\n\u001b[1;32m     11\u001b[0m \u001b[43m    \u001b[49m\u001b[43mnan_to_num\u001b[49m\u001b[38;5;241;43m=\u001b[39;49m\u001b[38;5;28;43;01mFalse\u001b[39;49;00m\u001b[43m,\u001b[49m\n\u001b[1;32m     12\u001b[0m \u001b[43m)\u001b[49m\n",
      "File \u001b[0;32m~/phd/mypackages/ler/ler/rates/ler.py:1983\u001b[0m, in \u001b[0;36mLeR.selecting_n_lensed_detectable_events\u001b[0;34m(self, size, batch_size, snr_threshold, pdet_threshold, num_img, resume, detectability_condition, output_jsonfile, meta_data_file, trim_to_size, nan_to_num, snr_recalculation, snr_threshold_recalculation)\u001b[0m\n\u001b[1;32m   1981\u001b[0m \u001b[38;5;28;01mwith\u001b[39;00m contextlib\u001b[38;5;241m.\u001b[39mredirect_stdout(\u001b[38;5;28;01mNone\u001b[39;00m):\n\u001b[1;32m   1982\u001b[0m     \u001b[38;5;28mself\u001b[39m\u001b[38;5;241m.\u001b[39mdict_buffer \u001b[38;5;241m=\u001b[39m \u001b[38;5;28;01mNone\u001b[39;00m  \u001b[38;5;66;03m# this is used to store the sampled lensed_param in batches when running the sampling_routine\u001b[39;00m\n\u001b[0;32m-> 1983\u001b[0m     lensed_param \u001b[38;5;241m=\u001b[39m \u001b[38;5;28;43mself\u001b[39;49m\u001b[38;5;241;43m.\u001b[39;49m\u001b[43mlensed_sampling_routine\u001b[49m\u001b[43m(\u001b[49m\n\u001b[1;32m   1984\u001b[0m \u001b[43m        \u001b[49m\u001b[43msize\u001b[49m\u001b[38;5;241;43m=\u001b[39;49m\u001b[38;5;28;43mself\u001b[39;49m\u001b[38;5;241;43m.\u001b[39;49m\u001b[43mbatch_size\u001b[49m\u001b[43m,\u001b[49m\u001b[43m \u001b[49m\u001b[43moutput_jsonfile\u001b[49m\u001b[38;5;241;43m=\u001b[39;49m\u001b[43mbuffer_file\u001b[49m\u001b[43m,\u001b[49m\u001b[43m \u001b[49m\u001b[43mresume\u001b[49m\u001b[38;5;241;43m=\u001b[39;49m\u001b[38;5;28;43;01mFalse\u001b[39;49;00m\n\u001b[1;32m   1985\u001b[0m \u001b[43m    \u001b[49m\u001b[43m)\u001b[49m  \u001b[38;5;66;03m# Dimensions are (size, n_max_images)\u001b[39;00m\n\u001b[1;32m   1987\u001b[0m total_events_in_this_iteration \u001b[38;5;241m=\u001b[39m \u001b[38;5;28mlen\u001b[39m(lensed_param[\u001b[38;5;124m\"\u001b[39m\u001b[38;5;124mzs\u001b[39m\u001b[38;5;124m\"\u001b[39m])\n\u001b[1;32m   1989\u001b[0m \u001b[38;5;66;03m# Below code ensures that the snr is recalculated for the detectable events with inner product\u001b[39;00m\n\u001b[1;32m   1990\u001b[0m \u001b[38;5;66;03m# The code is use when the snr is calculated with 'ann' method of `gwsnr`\u001b[39;00m\n",
      "File \u001b[0;32m~/phd/mypackages/ler/ler/rates/ler.py:1350\u001b[0m, in \u001b[0;36mLeR.lensed_sampling_routine\u001b[0;34m(self, size, output_jsonfile, save_batch, resume)\u001b[0m\n\u001b[1;32m   1348\u001b[0m lensed_param_ \u001b[38;5;241m=\u001b[39m \u001b[38;5;28mself\u001b[39m\u001b[38;5;241m.\u001b[39msample_lens_parameters(size\u001b[38;5;241m=\u001b[39msize)\n\u001b[1;32m   1349\u001b[0m \u001b[38;5;66;03m# now get (strongly lensed) image paramters along with lens parameters\u001b[39;00m\n\u001b[0;32m-> 1350\u001b[0m lensed_param_ \u001b[38;5;241m=\u001b[39m \u001b[38;5;28;43mself\u001b[39;49m\u001b[38;5;241;43m.\u001b[39;49m\u001b[43mimage_properties\u001b[49m\u001b[43m(\u001b[49m\u001b[43mlensed_param_\u001b[49m\u001b[43m)\u001b[49m\n\u001b[1;32m   1352\u001b[0m \u001b[38;5;28;01mif\u001b[39;00m \u001b[38;5;28mlen\u001b[39m(lensed_param) \u001b[38;5;241m==\u001b[39m \u001b[38;5;241m0\u001b[39m:  \u001b[38;5;66;03m# if empty\u001b[39;00m\n\u001b[1;32m   1353\u001b[0m         lensed_param \u001b[38;5;241m=\u001b[39m lensed_param_\n",
      "File \u001b[0;32m~/phd/mypackages/ler/ler/image_properties/image_properties.py:253\u001b[0m, in \u001b[0;36mImageProperties.image_properties\u001b[0;34m(self, lens_parameters)\u001b[0m\n\u001b[1;32m    249\u001b[0m     \u001b[38;5;28;01mraise\u001b[39;00m \u001b[38;5;167;01mValueError\u001b[39;00m(\u001b[38;5;124m\"\u001b[39m\u001b[38;5;124mn_min_images should be greater than 1\u001b[39m\u001b[38;5;124m\"\u001b[39m)\n\u001b[1;32m    250\u001b[0m \u001b[38;5;28;01mwith\u001b[39;00m Pool(processes\u001b[38;5;241m=\u001b[39mnpool) \u001b[38;5;28;01mas\u001b[39;00m pool:\n\u001b[1;32m    251\u001b[0m     \u001b[38;5;66;03m# call the same function with different data in parallel\u001b[39;00m\n\u001b[1;32m    252\u001b[0m     \u001b[38;5;66;03m# imap->retain order in the list, while map->doesn't\u001b[39;00m\n\u001b[0;32m--> 253\u001b[0m     \u001b[38;5;28;01mfor\u001b[39;00m result \u001b[38;5;129;01min\u001b[39;00m tqdm(\n\u001b[1;32m    254\u001b[0m         pool\u001b[38;5;241m.\u001b[39mimap_unordered(solve_lens_equation_, input_arguments),\n\u001b[1;32m    255\u001b[0m         total\u001b[38;5;241m=\u001b[39m\u001b[38;5;28mlen\u001b[39m(input_arguments),\n\u001b[1;32m    256\u001b[0m         ncols\u001b[38;5;241m=\u001b[39m\u001b[38;5;241m100\u001b[39m,\n\u001b[1;32m    257\u001b[0m         disable\u001b[38;5;241m=\u001b[39m\u001b[38;5;28;01mFalse\u001b[39;00m,\n\u001b[1;32m    258\u001b[0m     ):\n\u001b[1;32m    259\u001b[0m         \u001b[38;5;66;03m# print(result)\u001b[39;00m\n\u001b[1;32m    260\u001b[0m         (\n\u001b[1;32m    261\u001b[0m             x_source_i,\n\u001b[1;32m    262\u001b[0m             y_source_i,\n\u001b[0;32m   (...)\u001b[0m\n\u001b[1;32m    270\u001b[0m             iter_i,\n\u001b[1;32m    271\u001b[0m         ) \u001b[38;5;241m=\u001b[39m result\n\u001b[1;32m    273\u001b[0m         n_image_i \u001b[38;5;241m=\u001b[39m \u001b[38;5;28mmin\u001b[39m(n_image_i, n_max_images)\n",
      "File \u001b[0;32m~/anaconda3/envs/ler/lib/python3.10/site-packages/tqdm/std.py:1181\u001b[0m, in \u001b[0;36mtqdm.__iter__\u001b[0;34m(self)\u001b[0m\n\u001b[1;32m   1178\u001b[0m time \u001b[38;5;241m=\u001b[39m \u001b[38;5;28mself\u001b[39m\u001b[38;5;241m.\u001b[39m_time\n\u001b[1;32m   1180\u001b[0m \u001b[38;5;28;01mtry\u001b[39;00m:\n\u001b[0;32m-> 1181\u001b[0m     \u001b[38;5;28;01mfor\u001b[39;00m obj \u001b[38;5;129;01min\u001b[39;00m iterable:\n\u001b[1;32m   1182\u001b[0m         \u001b[38;5;28;01myield\u001b[39;00m obj\n\u001b[1;32m   1183\u001b[0m         \u001b[38;5;66;03m# Update and possibly print the progressbar.\u001b[39;00m\n\u001b[1;32m   1184\u001b[0m         \u001b[38;5;66;03m# Note: does not call self.update(1) for speed optimisation.\u001b[39;00m\n",
      "File \u001b[0;32m~/anaconda3/envs/ler/lib/python3.10/multiprocessing/pool.py:861\u001b[0m, in \u001b[0;36mIMapIterator.next\u001b[0;34m(self, timeout)\u001b[0m\n\u001b[1;32m    859\u001b[0m     \u001b[38;5;28mself\u001b[39m\u001b[38;5;241m.\u001b[39m_pool \u001b[38;5;241m=\u001b[39m \u001b[38;5;28;01mNone\u001b[39;00m\n\u001b[1;32m    860\u001b[0m     \u001b[38;5;28;01mraise\u001b[39;00m \u001b[38;5;167;01mStopIteration\u001b[39;00m \u001b[38;5;28;01mfrom\u001b[39;00m \u001b[38;5;28;01mNone\u001b[39;00m\n\u001b[0;32m--> 861\u001b[0m \u001b[38;5;28;43mself\u001b[39;49m\u001b[38;5;241;43m.\u001b[39;49m\u001b[43m_cond\u001b[49m\u001b[38;5;241;43m.\u001b[39;49m\u001b[43mwait\u001b[49m\u001b[43m(\u001b[49m\u001b[43mtimeout\u001b[49m\u001b[43m)\u001b[49m\n\u001b[1;32m    862\u001b[0m \u001b[38;5;28;01mtry\u001b[39;00m:\n\u001b[1;32m    863\u001b[0m     item \u001b[38;5;241m=\u001b[39m \u001b[38;5;28mself\u001b[39m\u001b[38;5;241m.\u001b[39m_items\u001b[38;5;241m.\u001b[39mpopleft()\n",
      "File \u001b[0;32m~/anaconda3/envs/ler/lib/python3.10/threading.py:320\u001b[0m, in \u001b[0;36mCondition.wait\u001b[0;34m(self, timeout)\u001b[0m\n\u001b[1;32m    318\u001b[0m \u001b[38;5;28;01mtry\u001b[39;00m:    \u001b[38;5;66;03m# restore state no matter what (e.g., KeyboardInterrupt)\u001b[39;00m\n\u001b[1;32m    319\u001b[0m     \u001b[38;5;28;01mif\u001b[39;00m timeout \u001b[38;5;129;01mis\u001b[39;00m \u001b[38;5;28;01mNone\u001b[39;00m:\n\u001b[0;32m--> 320\u001b[0m         \u001b[43mwaiter\u001b[49m\u001b[38;5;241;43m.\u001b[39;49m\u001b[43macquire\u001b[49m\u001b[43m(\u001b[49m\u001b[43m)\u001b[49m\n\u001b[1;32m    321\u001b[0m         gotit \u001b[38;5;241m=\u001b[39m \u001b[38;5;28;01mTrue\u001b[39;00m\n\u001b[1;32m    322\u001b[0m     \u001b[38;5;28;01melse\u001b[39;00m:\n",
      "\u001b[0;31mKeyboardInterrupt\u001b[0m: "
     ]
    }
   ],
   "source": [
    "ler.selecting_n_lensed_detectable_events(\n",
    "    size=80000,\n",
    "    batch_size=200000,\n",
    "    snr_threshold=[6.0, 6.0],\n",
    "    num_img=[1, 1],\n",
    "    resume=True,\n",
    "    detectability_condition='step_function',\n",
    "    output_jsonfile='n_lensed_param_detectable_O4_spur_sub.json',\n",
    "    meta_data_file='meta_lensed_O4_spur_sub.json',\n",
    "    trim_to_size=False,\n",
    "    nan_to_num=False,\n",
    ");"
   ]
  },
  {
   "cell_type": "code",
   "execution_count": 13,
   "metadata": {},
   "outputs": [
    {
     "data": {
      "image/png": "[encoded data removed]",
      "text/plain": [
       "<Figure size 600x400 with 1 Axes>"
      ]
     },
     "metadata": {},
     "output_type": "display_data"
    }
   ],
   "source": [
    "# getting data from json\n",
    "meta_data= get_param_from_json(\"./ler_data/meta_lensed_O4_spur_sub.json\")\n",
    "\n",
    "# plot the rate vs sampling size\n",
    "plt.figure(figsize=(6,4))\n",
    "plt.plot(meta_data['events_total'], meta_data['total_rate'], 'o-')\n",
    "plt.xlabel('Sampling size')\n",
    "plt.ylabel('Rate (per year)')\n",
    "plt.title('Rate vs Sampling size')\n",
    "plt.grid(alpha=0.4)\n",
    "plt.show()"
   ]
  },
  {
   "cell_type": "markdown",
   "metadata": {},
   "source": [
    "### Sub+Super"
   ]
  },
  {
   "cell_type": "code",
   "execution_count": 14,
   "metadata": {},
   "outputs": [
    {
     "name": "stdout",
     "output_type": "stream",
     "text": [
      "Lensed GW Rate (per year), 2 or more images SNR>6 = 2.1495015032473535\n"
     ]
    }
   ],
   "source": [
    "# select only events after sampling size of \n",
    "idx = np.where(meta_data['events_total'] > 5.0e6)[0]\n",
    "# take average \n",
    "gw_rate_lensed1 = np.mean(meta_data['total_rate'][idx])\n",
    "print('Lensed GW Rate (per year), 2 or more images SNR>6 =', gw_rate_lensed1)"
   ]
  },
  {
   "cell_type": "markdown",
   "metadata": {},
   "source": [
    "### Super"
   ]
  },
  {
   "cell_type": "code",
   "execution_count": 19,
   "metadata": {},
   "outputs": [
    {
     "name": "stdout",
     "output_type": "stream",
     "text": [
      "Lensed GW Rate (per year), 2 or more images SNR>8 = 1.003452146166514\n"
     ]
    }
   ],
   "source": [
    "snr_lensed = get_param_from_json(\"./ler_data/n_lensed_param_detectable_O4_spur_sub.json\")['snr_net']\n",
    "idx = snr_lensed>8.0\n",
    "idx = np.sum(idx, axis=1)>=2\n",
    "snr8_vs_snr6 = np.sum(idx)/len(snr_lensed)\n",
    "print('Lensed GW Rate (per year), 2 or more images SNR>8 =', gw_rate_lensed1*snr8_vs_snr6)"
   ]
  },
  {
   "cell_type": "code",
   "execution_count": null,
   "metadata": {},
   "outputs": [],
   "source": []
  },
  {
   "cell_type": "code",
   "execution_count": null,
   "metadata": {},
   "outputs": [],
   "source": []
  },
  {
   "cell_type": "code",
   "execution_count": null,
   "metadata": {},
   "outputs": [],
   "source": []
  }
 ],
 "metadata": {
  "kernelspec": {
   "display_name": "ler",
   "language": "python",
   "name": "python3"
  },
  "language_info": {
   "codemirror_mode": {
    "name": "ipython",
    "version": 3
   },
   "file_extension": ".py",
   "mimetype": "text/x-python",
   "name": "python",
   "nbconvert_exporter": "python",
   "pygments_lexer": "ipython3",
   "version": "3.10.14"
  }
 },
 "nbformat": 4,
 "nbformat_minor": 2
}
