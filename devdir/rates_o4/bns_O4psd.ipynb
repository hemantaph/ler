{
 "cells": [
  {
   "cell_type": "markdown",
   "metadata": {},
   "source": [
    "### BBH vs BNS \n",
    "\n",
    "<!-- | Signal-type/Detectors | unlensed (low,median,high) | lensed (low,median,high) | Ratio unlensed/lensed |\n",
    "| ---       | ---                            | ---                          | ---                       | \n",
    "| BBH-GW O4 real (H1, L1) | 91.3024, 143.9401, 231.9811 | 0.2085, 0.321, 0.5368 | 437.8247, 447.8478, 432.1341 |\n",
    "| BNS-GW O4 real (H1, L1) | 0.8014, 3.4271, 10.6942 | 0.0014, 0.0088, 0.0269 | 535.5334, 387.6994, 396.5466 |\n",
    "\n",
    "### BNS vs GRB (independent)\n",
    "\n",
    "| Signal-type/Detectors | unlensed (low,median,high) | lensed (low,median,high) | Ratio unlensed/lensed |\n",
    "| ---       | ---                            | ---                          | ---                       | \n",
    "| BNS-GW O4 real (H1, L1) | 0.8014, 3.4271, 10.6942 | 0.0014, 0.0088, 0.0269 | 535.5334, 387.6994, 396.5466 |\n",
    "| BNS-GRB (Fermi-GBM+Swift-BAT) | 1936.4754, 9455.8927, 26452.3112 | 1.7754, 8.5941, 24.1586 | 1090.6690, 1100.2711, 1094.9432 |\n",
    "\n",
    "Here is the updated table with three decimal places and the added row for the ratio calculation: -->\n",
    "\n",
    "### BBH vs BNS \n",
    "\n",
    "| Signal-type/Detectors   | unlensed (low, median, high) | lensed (low, median, high) | Ratio unlensed/lensed  |\n",
    "|-------------------------|-----------------------------|----------------------------|------------------------|\n",
    "| BBH-GW O4 real (H1, L1) | 91.302, 143.940, 231.981     | 0.209, 0.321, 0.537        | 437.825, 447.848, 432.134 |\n",
    "| BNS-GW O4 real (H1, L1) | 0.801, 3.427, 10.694        | 0.001, 0.009, 0.027        | 535.533, 387.699, 396.547 |\n",
    "| **Ratio BBH/BNS**        | **113.985, 42.001, 21.692** | **209.000, 35.667, 19.889** | - |\n",
    "\n",
    "### BNS vs GRB (independent)\n",
    "\n",
    "| Signal-type/Detectors     | unlensed (low, median, high) | lensed (low, median, high) | Ratio unlensed/lensed |\n",
    "|---------------------------|-----------------------------|----------------------------|-----------------------|\n",
    "| BNS-GRB (Fermi-GBM+Swift)  | 1936.475, 9455.893, 26452.311| 1.775, 8.594, 24.159       | 1090.669, 1100.271, 1094.943 |\n",
    "| BNS-GW O4 real (H1, L1)    | 0.801, 3.427, 10.694        | 0.001, 0.009, 0.027        | 535.533, 387.699, 396.547 |\n",
    "| **Ratio GW/GRB**           | **1090.972, 1100.290, 1094.926**  | **1775.000, 954.889, 894.778**   | - |\n",
    "\n",
    "This includes all requested modifications with three decimal precision and the ratios calculated vertically in both tables."
   ]
  },
  {
   "cell_type": "code",
   "execution_count": 17,
   "metadata": {},
   "outputs": [
    {
     "data": {
      "text/plain": [
       "array([1775.        ,  954.88888889,  894.77777778])"
      ]
     },
     "execution_count": 17,
     "metadata": {},
     "output_type": "execute_result"
    }
   ],
   "source": [
    "np.array([1.775, 8.594, 24.159])/np.array([0.001, 0.009, 0.027])"
   ]
  },
  {
   "cell_type": "code",
   "execution_count": 1,
   "metadata": {},
   "outputs": [
    {
     "name": "stdout",
     "output_type": "stream",
     "text": [
      "Setting multiprocessing start method to 'fork'\n"
     ]
    }
   ],
   "source": [
    "import numpy as np\n",
    "import matplotlib.pyplot as plt\n",
    "from ler.rates import LeR\n",
    "from ler.utils import get_param_from_json"
   ]
  },
  {
   "cell_type": "code",
   "execution_count": 2,
   "metadata": {},
   "outputs": [
    {
     "name": "stdout",
     "output_type": "stream",
     "text": [
      "ler version: 0.4.0\n",
      "gwsnr version: 0.3.2\n"
     ]
    }
   ],
   "source": [
    "import ler\n",
    "import gwsnr\n",
    "print(f\"ler version: {ler.__version__}\")\n",
    "print(f\"gwsnr version: {gwsnr.__version__}\")"
   ]
  },
  {
   "cell_type": "markdown",
   "metadata": {},
   "source": [
    "## MEDIAN"
   ]
  },
  {
   "cell_type": "code",
   "execution_count": 3,
   "metadata": {},
   "outputs": [
    {
     "name": "stdout",
     "output_type": "stream",
     "text": [
      "z_to_luminosity_distance interpolator will be loaded from ./interpolator_pickle/z_to_luminosity_distance/z_to_luminosity_distance_1.pickle\n",
      "differential_comoving_volume interpolator will be loaded from ./interpolator_pickle/differential_comoving_volume/differential_comoving_volume_2.pickle\n",
      "merger_rate_density interpolator will be loaded from ./interpolator_pickle/merger_rate_density/merger_rate_density_2.pickle\n",
      "binary_masses_BNS_bimodal interpolator will be loaded from ./interpolator_pickle/binary_masses_BNS_bimodal/binary_masses_BNS_bimodal_0.pickle\n",
      "z_to_Dc interpolator will be loaded from ./interpolator_pickle/z_to_Dc/z_to_Dc_1.pickle\n",
      "Dc_to_z interpolator will be loaded from ./interpolator_pickle/Dc_to_z/Dc_to_z_1.pickle\n",
      "angular_diameter_distance interpolator will be loaded from ./interpolator_pickle/angular_diameter_distance/angular_diameter_distance_1.pickle\n",
      "differential_comoving_volume interpolator will be loaded from ./interpolator_pickle/differential_comoving_volume/differential_comoving_volume_3.pickle\n",
      "velocity_dispersion_ewoud interpolator will be loaded from ./interpolator_pickle/velocity_dispersion_ewoud/velocity_dispersion_ewoud_1.pickle\n",
      "optical_depth_SIE_hemanta interpolator will be loaded from ./interpolator_pickle/optical_depth_SIE_hemanta/optical_depth_SIE_hemanta_1.pickle\n",
      "luminosity_distance_to_z interpolator will be loaded from ./interpolator_pickle/luminosity_distance_to_z/luminosity_distance_to_z_1.pickle\n",
      "Interpolator will be loaded for L1 detector from ./interpolator_pickle/L1/partialSNR_dict_2.pickle\n",
      "Interpolator will be loaded for H1 detector from ./interpolator_pickle/H1/partialSNR_dict_2.pickle\n",
      "\n",
      " # LeR set up params:\n",
      "npool = 4,\n",
      "z_min = 0.0,\n",
      "z_max = 5,\n",
      "event_type = 'BNS',\n",
      "size = 100000,\n",
      "batch_size = 50000,\n",
      "cosmology = LambdaCDM(H0=70.0 km / (Mpc s), Om0=0.3, Ode0=0.7, Tcmb0=0.0 K, Neff=3.04, m_nu=None, Ob0=None),\n",
      "snr_finder = <bound method GWSNR.snr of <gwsnr.gwsnr.GWSNR object at 0x33d4a3b50>>,\n",
      "json_file_names = {'ler_params': 'ler_params.json', 'unlensed_param': 'unlensed_param.json', 'unlensed_param_detectable': 'unlensed_param_detectable.json', 'lensed_param': 'lensed_param.json', 'lensed_param_detectable': 'lensed_param_detectable.json'},\n",
      "interpolator_directory = './interpolator_pickle',\n",
      "ler_directory = './ler_data',\n",
      "\n",
      " # LeR also takes CBCSourceParameterDistribution class params as kwargs, as follows:\n",
      "source_priors = {'merger_rate_density': 'merger_rate_density_bbh_popI_II_oguri2018', 'source_frame_masses': 'binary_masses_BNS_bimodal', 'zs': 'sample_source_redshift', 'geocent_time': 'sampler_uniform', 'ra': 'sampler_uniform', 'dec': 'sampler_cosine', 'phase': 'sampler_uniform', 'psi': 'sampler_uniform', 'theta_jn': 'sampler_sine'},\n",
      "source_priors_params = {'merger_rate_density': {'R0': 1.055e-07, 'b2': 1.6, 'b3': 2.0, 'b4': 30}, 'source_frame_masses': {'w': 0.643, 'muL': 1.352, 'sigmaL': 0.08, 'muR': 1.88, 'sigmaR': 0.3, 'mmin': 1.0, 'mmax': 2.3}, 'zs': None, 'geocent_time': {'min_': 1238166018, 'max_': 1269702018}, 'ra': {'min_': 0.0, 'max_': 6.283185307179586}, 'dec': None, 'phase': {'min_': 0.0, 'max_': 6.283185307179586}, 'psi': {'min_': 0.0, 'max_': 3.141592653589793}, 'theta_jn': None},\n",
      "spin_zero = True,\n",
      "spin_precession = False,\n",
      "create_new_interpolator = False,\n",
      "\n",
      " # LeR also takes LensGalaxyParameterDistribution class params as kwargs, as follows:\n",
      "lens_type = 'epl_shear_galaxy',\n",
      "lens_functions = {'strong_lensing_condition': 'rjs_with_cross_section_SIE', 'optical_depth': 'optical_depth_SIE_hemanta', 'param_sampler_type': 'sample_all_routine'},\n",
      "lens_priors = {'source_redshift_sl': 'strongly_lensed_source_redshifts', 'lens_redshift': 'lens_redshift_SDSS_catalogue', 'velocity_dispersion': 'velocity_dispersion_ewoud', 'axis_ratio': 'axis_ratio_rayleigh', 'axis_rotation_angle': 'axis_rotation_angle_uniform', 'external_shear': 'shear_norm', 'density_profile_slope': 'density_profile_slope_normal', 'source_parameters': 'sample_gw_parameters'},\n",
      "lens_priors_params = {'source_redshift_sl': None, 'lens_redshift': None, 'velocity_dispersion': None, 'axis_ratio': {'q_min': 0.2, 'q_max': 1.0}, 'axis_rotation_angle': {'phi_min': 0.0, 'phi_max': 6.283185307179586}, 'external_shear': {'scale': 0.05}, 'density_profile_slope': {'mean': 2.0, 'std': 0.2}, 'source_parameters': None},\n",
      "\n",
      " # LeR also takes ImageProperties class params as kwargs, as follows:\n",
      "n_min_images = 2,\n",
      "n_max_images = 4,\n",
      "geocent_time_min = 1126259462.4,\n",
      "geocent_time_max = 1756979462.4,\n",
      "lens_model_list = ['EPL_NUMBA', 'SHEAR'],\n",
      "\n",
      " # LeR also takes gwsnr.GWSNR params as kwargs, as follows:\n",
      "mtot_min = 2.0,\n",
      "mtot_max = 51,\n",
      "ratio_min = 0.1,\n",
      "ratio_max = 1.0,\n",
      "mtot_resolution = 500,\n",
      "ratio_resolution = 50,\n",
      "sampling_frequency = 2048.0,\n",
      "waveform_approximant = 'IMRPhenomD',\n",
      "minimum_frequency = 20.0,\n",
      "snr_type = 'interpolation',\n",
      "psds = [PowerSpectralDensity(psd_file='o4_psd.txt', asd_file='None'), PowerSpectralDensity(psd_file='o4_psd.txt', asd_file='None')],\n",
      "ifos = None,\n",
      "interpolator_dir = './interpolator_pickle',\n",
      "gwsnr_verbose = False,\n",
      "multiprocessing_verbose = True,\n",
      "mtot_cut = True,\n",
      "\n",
      " For reference, the chosen source parameters are listed below:\n",
      "merger_rate_density = 'merger_rate_density_bbh_popI_II_oguri2018'\n",
      "merger_rate_density_params =  {'R0': 1.055e-07, 'b2': 1.6, 'b3': 2.0, 'b4': 30}\n",
      "source_frame_masses = 'binary_masses_BNS_bimodal'\n",
      "source_frame_masses_params =  {'w': 0.643, 'muL': 1.352, 'sigmaL': 0.08, 'muR': 1.88, 'sigmaR': 0.3, 'mmin': 1.0, 'mmax': 2.3}\n",
      "geocent_time = 'sampler_uniform'\n",
      "geocent_time_params =  {'min_': 1238166018, 'max_': 1269702018}\n",
      "ra = 'sampler_uniform'\n",
      "ra_params =  {'min_': 0.0, 'max_': 6.283185307179586}\n",
      "dec = 'sampler_cosine'\n",
      "dec_params =  None\n",
      "phase = 'sampler_uniform'\n",
      "phase_params =  {'min_': 0.0, 'max_': 6.283185307179586}\n",
      "psi = 'sampler_uniform'\n",
      "psi_params =  {'min_': 0.0, 'max_': 3.141592653589793}\n",
      "theta_jn = 'sampler_sine'\n",
      "theta_jn_params =  None\n",
      "\n",
      " For reference, the chosen lens related parameters and functions are listed below:\n",
      "lens_redshift = 'lens_redshift_SDSS_catalogue'\n",
      "lens_redshift_params =  None\n",
      "velocity_dispersion = 'velocity_dispersion_ewoud'\n",
      "velocity_dispersion_params =  None\n",
      "axis_ratio = 'axis_ratio_rayleigh'\n",
      "axis_ratio_params =  {'q_min': 0.2, 'q_max': 1.0}\n",
      "axis_rotation_angle = 'axis_rotation_angle_uniform'\n",
      "axis_rotation_angle_params =  {'phi_min': 0.0, 'phi_max': 6.283185307179586}\n",
      "shear = 'shear_norm'\n",
      "shear_params =  {'scale': 0.05}\n",
      "density_profile_slope = 'density_profile_slope_normal'\n",
      "density_profile_slope_params =  {'mean': 2.0, 'std': 0.2}\n",
      "Lens functions:\n",
      "strong_lensing_condition = 'rjs_with_cross_section_SIE'\n",
      "optical_depth = 'optical_depth_SIE_hemanta'\n"
     ]
    }
   ],
   "source": [
    "ler = LeR(npool=8,\n",
    "          verbose=True, \n",
    "          event_type='BNS',\n",
    "          source_priors= {'merger_rate_density': 'merger_rate_density_bbh_popI_II_oguri2018'},\n",
    "          source_priors_params= {'merger_rate_density': {'R0': 10.55e-08, 'b2': 1.6, 'b3': 2.0, 'b4': 30}},\n",
    "          mtot_max=51, \n",
    "          z_max=5,\n",
    "          psds={'L1':'o4_psd.txt', 'H1':'o4_psd.txt'},\n",
    "          snr_type=\"interpolation\",\n",
    "          )"
   ]
  },
  {
   "cell_type": "markdown",
   "metadata": {},
   "source": [
    "## Unlensed"
   ]
  },
  {
   "cell_type": "code",
   "execution_count": 4,
   "metadata": {},
   "outputs": [
    {
     "name": "stdout",
     "output_type": "stream",
     "text": [
      "collected number of detectable events =  84\n",
      "given detectability_condition == 'step_function'\n",
      "collected number of detectable events =  85\n",
      "total number of events =  10200000\n",
      "total rate (yr^-1): 3.443233938228641\n",
      "given detectability_condition == 'step_function'\n",
      "collected number of detectable events =  88\n",
      "total number of events =  10400000\n",
      "total rate (yr^-1): 3.4962067680475437\n",
      "given detectability_condition == 'step_function'\n",
      "collected number of detectable events =  89\n",
      "total number of events =  10600000\n",
      "total rate (yr^-1): 3.469220609460556\n",
      "given detectability_condition == 'step_function'\n",
      "collected number of detectable events =  92\n",
      "total number of events =  10800000\n",
      "total rate (yr^-1): 3.5197502479670555\n",
      "given detectability_condition == 'step_function'\n",
      "collected number of detectable events =  92\n",
      "total number of events =  11000000\n",
      "total rate (yr^-1): 3.4557547889131093\n",
      "given detectability_condition == 'step_function'\n",
      "collected number of detectable events =  93\n",
      "total number of events =  11200000\n",
      "total rate (yr^-1): 3.430936674163539\n",
      "given detectability_condition == 'step_function'\n",
      "collected number of detectable events =  97\n",
      "total number of events =  11400000\n",
      "total rate (yr^-1): 3.5157230737702974\n",
      "given detectability_condition == 'step_function'\n",
      "collected number of detectable events =  101\n",
      "total number of events =  11600000\n",
      "total rate (yr^-1): 3.5975858044250977\n",
      "given detectability_condition == 'step_function'\n",
      "collected number of detectable events =  104\n",
      "total number of events =  11800000\n",
      "total rate (yr^-1): 3.6416575889062246\n",
      "given detectability_condition == 'step_function'\n",
      "collected number of detectable events =  104\n",
      "total number of events =  12000000\n",
      "total rate (yr^-1): 3.5809632957577873\n",
      "given detectability_condition == 'step_function'\n",
      "collected number of detectable events =  104\n",
      "total number of events =  12200000\n",
      "total rate (yr^-1): 3.522258979433889\n",
      "given detectability_condition == 'step_function'\n",
      "collected number of detectable events =  108\n",
      "total number of events =  12400000\n",
      "total rate (yr^-1): 3.598734825761548\n",
      "given detectability_condition == 'step_function'\n",
      "collected number of detectable events =  110\n",
      "total number of events =  12600000\n",
      "total rate (yr^-1): 3.607197459096672\n",
      "given detectability_condition == 'step_function'\n",
      "collected number of detectable events =  110\n",
      "total number of events =  12800000\n",
      "total rate (yr^-1): 3.5508349987982863\n",
      "given detectability_condition == 'step_function'\n",
      "collected number of detectable events =  113\n",
      "total number of events =  13000000\n",
      "total rate (yr^-1): 3.5915578617215678\n",
      "given detectability_condition == 'step_function'\n",
      "collected number of detectable events =  118\n",
      "total number of events =  13200000\n",
      "total rate (yr^-1): 3.693650951917997\n",
      "given detectability_condition == 'step_function'\n",
      "collected number of detectable events =  121\n",
      "total number of events =  13400000\n",
      "total rate (yr^-1): 3.731026625602976\n",
      "given detectability_condition == 'step_function'\n",
      "collected number of detectable events =  123\n",
      "total number of events =  13600000\n",
      "total rate (yr^-1): 3.736921538842261\n",
      "given detectability_condition == 'step_function'\n",
      "collected number of detectable events =  126\n",
      "total number of events =  13800000\n",
      "total rate (yr^-1): 3.772586749711381\n",
      "given detectability_condition == 'step_function'\n",
      "collected number of detectable events =  128\n",
      "total number of events =  14000000\n",
      "total rate (yr^-1): 3.777719520799424\n",
      "given detectability_condition == 'step_function'\n",
      "collected number of detectable events =  134\n",
      "total number of events =  14200000\n",
      "total rate (yr^-1): 3.899098713149053\n",
      "given detectability_condition == 'step_function'\n",
      "collected number of detectable events =  138\n",
      "total number of events =  14400000\n",
      "total rate (yr^-1): 3.959719028962938\n",
      "given detectability_condition == 'step_function'\n",
      "collected number of detectable events =  140\n",
      "total number of events =  14600000\n",
      "total rate (yr^-1): 3.962077408372683\n",
      "given detectability_condition == 'step_function'\n",
      "collected number of detectable events =  143\n",
      "total number of events =  14800000\n",
      "total rate (yr^-1): 3.9922901608110464\n",
      "given detectability_condition == 'step_function'\n",
      "collected number of detectable events =  143\n",
      "total number of events =  15000000\n",
      "total rate (yr^-1): 3.939059625333566\n",
      "given detectability_condition == 'step_function'\n",
      "collected number of detectable events =  144\n",
      "total number of events =  15200000\n",
      "total rate (yr^-1): 3.914413319249403\n",
      "given detectability_condition == 'step_function'\n",
      "collected number of detectable events =  146\n",
      "total number of events =  15400000\n",
      "total rate (yr^-1): 3.917237571283494\n",
      "given detectability_condition == 'step_function'\n",
      "collected number of detectable events =  148\n",
      "total number of events =  15600000\n",
      "total rate (yr^-1): 3.9199894065987615\n",
      "given detectability_condition == 'step_function'\n",
      "collected number of detectable events =  149\n",
      "total number of events =  15800000\n",
      "total rate (yr^-1): 3.896520431362539\n",
      "given detectability_condition == 'step_function'\n",
      "collected number of detectable events =  150\n",
      "total number of events =  16000000\n",
      "total rate (yr^-1): 3.8736381805072218\n",
      "given detectability_condition == 'step_function'\n",
      "collected number of detectable events =  150\n",
      "total number of events =  16200000\n",
      "total rate (yr^-1): 3.8258154869207126\n",
      "given detectability_condition == 'step_function'\n",
      "collected number of detectable events =  151\n",
      "total number of events =  16400000\n",
      "total rate (yr^-1): 3.804353595164816\n",
      "given detectability_condition == 'step_function'\n",
      "collected number of detectable events =  151\n",
      "total number of events =  16600000\n",
      "total rate (yr^-1): 3.7585180096809028\n",
      "given detectability_condition == 'step_function'\n",
      "collected number of detectable events =  155\n",
      "total number of events =  16800000\n",
      "total rate (yr^-1): 3.8121518601817104\n",
      "given detectability_condition == 'step_function'\n",
      "collected number of detectable events =  155\n",
      "total number of events =  17000000\n",
      "total rate (yr^-1): 3.767303014767808\n",
      "given detectability_condition == 'step_function'\n",
      "collected number of detectable events =  156\n",
      "total number of events =  17200000\n",
      "total rate (yr^-1): 3.7475197281186143\n",
      "given detectability_condition == 'step_function'\n",
      "collected number of detectable events =  159\n",
      "total number of events =  17400000\n",
      "total rate (yr^-1): 3.775684111574855\n",
      "given detectability_condition == 'step_function'\n",
      "collected number of detectable events =  160\n",
      "total number of events =  17600000\n",
      "total rate (yr^-1): 3.756255205340336\n",
      "given detectability_condition == 'step_function'\n",
      "collected number of detectable events =  160\n",
      "total number of events =  17800000\n",
      "total rate (yr^-1): 3.714050090673591\n",
      "given detectability_condition == 'step_function'\n",
      "collected number of detectable events =  161\n",
      "total number of events =  18000000\n",
      "total rate (yr^-1): 3.6957377603654087\n",
      "given detectability_condition == 'step_function'\n",
      "collected number of detectable events =  163\n",
      "total number of events =  18200000\n",
      "total rate (yr^-1): 3.700530540206166\n",
      "given detectability_condition == 'step_function'\n",
      "collected number of detectable events =  164\n",
      "total number of events =  18400000\n",
      "total rate (yr^-1): 3.6827632556706345\n",
      "given detectability_condition == 'step_function'\n",
      "collected number of detectable events =  165\n",
      "total number of events =  18600000\n",
      "total rate (yr^-1): 3.6653780632756505\n",
      "given detectability_condition == 'step_function'\n",
      "collected number of detectable events =  169\n",
      "total number of events =  18800000\n",
      "total rate (yr^-1): 3.7142970354934497\n",
      "given detectability_condition == 'step_function'\n",
      "collected number of detectable events =  171\n",
      "total number of events =  19000000\n",
      "total rate (yr^-1): 3.7186926532869333\n",
      "given detectability_condition == 'step_function'\n",
      "collected number of detectable events =  175\n",
      "total number of events =  19200000\n",
      "total rate (yr^-1): 3.766037119937577\n",
      "given detectability_condition == 'step_function'\n",
      "collected number of detectable events =  178\n",
      "total number of events =  19400000\n",
      "total rate (yr^-1): 3.7911070577610197\n",
      "given detectability_condition == 'step_function'\n",
      "collected number of detectable events =  178\n",
      "total number of events =  19600000\n",
      "total rate (yr^-1): 3.7524222918654995\n",
      "given detectability_condition == 'step_function'\n",
      "collected number of detectable events =  184\n",
      "total number of events =  19800000\n",
      "total rate (yr^-1): 3.839727543236788\n",
      "given detectability_condition == 'step_function'\n",
      "collected number of detectable events =  184\n",
      "total number of events =  20000000\n",
      "total rate (yr^-1): 3.80133026780442\n",
      "given detectability_condition == 'step_function'\n",
      "collected number of detectable events =  185\n",
      "total number of events =  20200000\n",
      "total rate (yr^-1): 3.784148189538408\n",
      "given detectability_condition == 'step_function'\n",
      "collected number of detectable events =  185\n",
      "total number of events =  20400000\n",
      "total rate (yr^-1): 3.74704869748411\n",
      "given detectability_condition == 'step_function'\n",
      "collected number of detectable events =  186\n",
      "total number of events =  20600000\n",
      "total rate (yr^-1): 3.7307272573428776\n",
      "given detectability_condition == 'step_function'\n",
      "collected number of detectable events =  188\n",
      "total number of events =  20800000\n",
      "total rate (yr^-1): 3.7345845022326034\n",
      "given detectability_condition == 'step_function'\n",
      "collected number of detectable events =  189\n",
      "total number of events =  21000000\n",
      "total rate (yr^-1): 3.7186926532869333\n",
      "given detectability_condition == 'step_function'\n",
      "collected number of detectable events =  191\n",
      "total number of events =  21200000\n",
      "total rate (yr^-1): 3.7225906539717206\n",
      "given detectability_condition == 'step_function'\n",
      "collected number of detectable events =  193\n",
      "total number of events =  21400000\n",
      "total rate (yr^-1): 3.726415794830623\n",
      "given detectability_condition == 'step_function'\n",
      "collected number of detectable events =  195\n",
      "total number of events =  21600000\n",
      "total rate (yr^-1): 3.7301700997476948\n",
      "given detectability_condition == 'step_function'\n",
      "collected number of detectable events =  199\n",
      "total number of events =  21800000\n",
      "total rate (yr^-1): 3.7717626809587137\n",
      "given detectability_condition == 'step_function'\n",
      "collected number of detectable events =  199\n",
      "total number of events =  22000000\n",
      "total rate (yr^-1): 3.7374739293136345\n",
      "given detectability_condition == 'step_function'\n",
      "collected number of detectable events =  202\n",
      "total number of events =  22200000\n",
      "total rate (yr^-1): 3.759639219038841\n",
      "given detectability_condition == 'step_function'\n",
      "collected number of detectable events =  203\n",
      "total number of events =  22400000\n",
      "total rate (yr^-1): 3.7445169078236478\n",
      "given detectability_condition == 'step_function'\n",
      "collected number of detectable events =  207\n",
      "total number of events =  22600000\n",
      "total rate (yr^-1): 3.7845102223716576\n",
      "given detectability_condition == 'step_function'\n",
      "collected number of detectable events =  209\n",
      "total number of events =  22800000\n",
      "total rate (yr^-1): 3.7875573320515055\n",
      "given detectability_condition == 'step_function'\n",
      "collected number of detectable events =  211\n",
      "total number of events =  23000000\n",
      "total rate (yr^-1): 3.7905514485195306\n",
      "given detectability_condition == 'step_function'\n",
      "collected number of detectable events =  212\n",
      "total number of events =  23200000\n",
      "total rate (yr^-1): 3.7756841115748556\n",
      "given detectability_condition == 'step_function'\n",
      "collected number of detectable events =  213\n",
      "total number of events =  23400000\n",
      "total rate (yr^-1): 3.7610709171420544\n",
      "given detectability_condition == 'step_function'\n",
      "collected number of detectable events =  215\n",
      "total number of events =  23600000\n",
      "total rate (yr^-1): 3.7642133731482605\n",
      "given detectability_condition == 'step_function'\n",
      "collected number of detectable events =  217\n",
      "total number of events =  23800000\n",
      "total rate (yr^-1): 3.767303014767808\n",
      "given detectability_condition == 'step_function'\n",
      "collected number of detectable events =  218\n",
      "total number of events =  24000000\n",
      "total rate (yr^-1): 3.753124992669219\n",
      "given detectability_condition == 'step_function'\n",
      "collected number of detectable events =  218\n",
      "total number of events =  24200000\n",
      "total rate (yr^-1): 3.722107430746333\n",
      "given detectability_condition == 'step_function'\n",
      "collected number of detectable events =  221\n",
      "total number of events =  24400000\n",
      "total rate (yr^-1): 3.7424001656485073\n",
      "given detectability_condition == 'step_function'\n",
      "collected number of detectable events =  222\n",
      "total number of events =  24600000\n",
      "total rate (yr^-1): 3.7287704111549194\n",
      "given detectability_condition == 'step_function'\n",
      "collected number of detectable events =  224\n",
      "total number of events =  24800000\n",
      "total rate (yr^-1): 3.7320213007897536\n",
      "given detectability_condition == 'step_function'\n",
      "collected number of detectable events =  227\n",
      "total number of events =  25000000\n",
      "total rate (yr^-1): 3.7517476990939276\n",
      "given detectability_condition == 'step_function'\n",
      "collected number of detectable events =  228\n",
      "total number of events =  25200000\n",
      "total rate (yr^-1): 3.738368275791097\n",
      "given detectability_condition == 'step_function'\n",
      "collected number of detectable events =  229\n",
      "total number of events =  25400000\n",
      "total rate (yr^-1): 3.7251995520678376\n",
      "given detectability_condition == 'step_function'\n",
      "collected number of detectable events =  229\n",
      "total number of events =  25600000\n",
      "total rate (yr^-1): 3.6960964305673074\n",
      "given detectability_condition == 'step_function'\n",
      "collected number of detectable events =  231\n",
      "total number of events =  25800000\n",
      "total rate (yr^-1): 3.6994746033991452\n",
      "given detectability_condition == 'step_function'\n",
      "collected number of detectable events =  231\n",
      "total number of events =  26000000\n",
      "total rate (yr^-1): 3.671017106449921\n",
      "given detectability_condition == 'step_function'\n",
      "collected number of detectable events =  234\n",
      "total number of events =  26200000\n",
      "total rate (yr^-1): 3.6903056864679487\n",
      "given detectability_condition == 'step_function'\n",
      "collected number of detectable events =  236\n",
      "total number of events =  26400000\n",
      "total rate (yr^-1): 3.693650951917997\n",
      "given detectability_condition == 'step_function'\n",
      "collected number of detectable events =  237\n",
      "total number of events =  26600000\n",
      "total rate (yr^-1): 3.681412526436939\n",
      "given detectability_condition == 'step_function'\n",
      "collected number of detectable events =  240\n",
      "total number of events =  26800000\n",
      "total rate (yr^-1): 3.700191694812869\n",
      "given detectability_condition == 'step_function'\n",
      "collected number of detectable events =  244\n",
      "total number of events =  27000000\n",
      "total rate (yr^-1): 3.733995915234616\n",
      "given detectability_condition == 'step_function'\n",
      "collected number of detectable events =  245\n",
      "total number of events =  27200000\n",
      "total rate (yr^-1): 3.7217308008794876\n",
      "given detectability_condition == 'step_function'\n",
      "collected number of detectable events =  248\n",
      "total number of events =  27400000\n",
      "total rate (yr^-1): 3.7398044526162177\n",
      "given detectability_condition == 'step_function'\n",
      "collected number of detectable events =  251\n",
      "total number of events =  27600000\n",
      "total rate (yr^-1): 3.757616167371257\n",
      "given detectability_condition == 'step_function'\n",
      "collected number of detectable events =  256\n",
      "total number of events =  27800000\n",
      "total rate (yr^-1): 3.8048973590785566\n",
      "given detectability_condition == 'step_function'\n",
      "collected number of detectable events =  258\n",
      "total number of events =  28000000\n",
      "total rate (yr^-1): 3.8072329545556696\n",
      "given detectability_condition == 'step_function'\n",
      "collected number of detectable events =  259\n",
      "total number of events =  28200000\n",
      "total rate (yr^-1): 3.794883361707311\n",
      "given detectability_condition == 'step_function'\n",
      "collected number of detectable events =  261\n",
      "total number of events =  28400000\n",
      "total rate (yr^-1): 3.7972565825817273\n",
      "given detectability_condition == 'step_function'\n",
      "collected number of detectable events =  265\n",
      "total number of events =  28600000\n",
      "total rate (yr^-1): 3.828490882366112\n",
      "given detectability_condition == 'step_function'\n",
      "collected number of detectable events =  267\n",
      "total number of events =  28800000\n",
      "total rate (yr^-1): 3.830597756279364\n",
      "given detectability_condition == 'step_function'\n",
      "collected number of detectable events =  269\n",
      "total number of events =  29000000\n",
      "total rate (yr^-1): 3.832675569862778\n",
      "given detectability_condition == 'step_function'\n",
      "collected number of detectable events =  270\n",
      "total number of events =  29200000\n",
      "total rate (yr^-1): 3.820574643787945\n",
      "given detectability_condition == 'step_function'\n",
      "collected number of detectable events =  272\n",
      "total number of events =  29400000\n",
      "total rate (yr^-1): 3.8226923722375123\n",
      "given detectability_condition == 'step_function'\n",
      "collected number of detectable events =  273\n",
      "total number of events =  29600000\n",
      "total rate (yr^-1): 3.810822426228726\n",
      "given detectability_condition == 'step_function'\n",
      "collected number of detectable events =  277\n",
      "total number of events =  29800000\n",
      "total rate (yr^-1): 3.8407079230442966\n",
      "given detectability_condition == 'step_function'\n",
      "collected number of detectable events =  279\n",
      "total number of events =  30000000\n",
      "total rate (yr^-1): 3.842649075063164\n",
      "given detectability_condition == 'step_function'\n",
      "collected number of detectable events =  282\n",
      "total number of events =  30200000\n",
      "total rate (yr^-1): 3.8582462407171265\n",
      "given detectability_condition == 'step_function'\n",
      "collected number of detectable events =  283\n",
      "total number of events =  30400000\n",
      "total rate (yr^-1): 3.846454754679101\n",
      "given detectability_condition == 'step_function'\n",
      "collected number of detectable events =  285\n",
      "total number of events =  30600000\n",
      "total rate (yr^-1): 3.8483202839026\n",
      "given detectability_condition == 'step_function'\n",
      "collected number of detectable events =  290\n",
      "total number of events =  30800000\n",
      "total rate (yr^-1): 3.8904071769596342\n",
      "given detectability_condition == 'step_function'\n",
      "collected number of detectable events =  291\n",
      "total number of events =  31000000\n",
      "total rate (yr^-1): 3.8786364233207795\n",
      "given detectability_condition == 'step_function'\n",
      "collected number of detectable events =  295\n",
      "total number of events =  31200000\n",
      "total rate (yr^-1): 3.9067461991440355\n",
      "given detectability_condition == 'step_function'\n",
      "collected number of detectable events =  297\n",
      "total number of events =  31400000\n",
      "total rate (yr^-1): 3.908180177021299\n",
      "given detectability_condition == 'step_function'\n",
      "collected number of detectable events =  297\n",
      "total number of events =  31600000\n",
      "total rate (yr^-1): 3.883444859445215\n",
      "given detectability_condition == 'step_function'\n",
      "collected number of detectable events =  299\n",
      "total number of events =  31800000\n",
      "total rate (yr^-1): 3.8850073491711843\n",
      "given detectability_condition == 'step_function'\n",
      "collected number of detectable events =  300\n",
      "total number of events =  32000000\n",
      "total rate (yr^-1): 3.8736381805072218\n",
      "given detectability_condition == 'step_function'\n",
      "collected number of detectable events =  303\n",
      "total number of events =  32200000\n",
      "total rate (yr^-1): 3.888074099192342\n",
      "given detectability_condition == 'step_function'\n",
      "collected number of detectable events =  307\n",
      "total number of events =  32400000\n",
      "total rate (yr^-1): 3.915084514948863\n",
      "given detectability_condition == 'step_function'\n",
      "collected number of detectable events =  310\n",
      "total number of events =  32600000\n",
      "total rate (yr^-1): 3.929089033806916\n",
      "given detectability_condition == 'step_function'\n",
      "collected number of detectable events =  314\n",
      "total number of events =  32800000\n",
      "total rate (yr^-1): 3.95551996318461\n",
      "given detectability_condition == 'step_function'\n",
      "collected number of detectable events =  316\n",
      "total number of events =  33000000\n",
      "total rate (yr^-1): 3.956588816291821\n",
      "given detectability_condition == 'step_function'\n",
      "collected number of detectable events =  318\n",
      "total number of events =  33200000\n",
      "total rate (yr^-1): 3.957644791650752\n",
      "given detectability_condition == 'step_function'\n",
      "collected number of detectable events =  319\n",
      "total number of events =  33400000\n",
      "total rate (yr^-1): 3.9463172202213297\n",
      "given detectability_condition == 'step_function'\n",
      "collected number of detectable events =  323\n",
      "total number of events =  33600000\n",
      "total rate (yr^-1): 3.97201629302804\n",
      "given detectability_condition == 'step_function'\n",
      "collected number of detectable events =  326\n",
      "total number of events =  33800000\n",
      "total rate (yr^-1): 3.9851867356066406\n",
      "given detectability_condition == 'step_function'\n",
      "collected number of detectable events =  327\n",
      "total number of events =  34000000\n",
      "total rate (yr^-1): 3.973897051061527\n",
      "given detectability_condition == 'step_function'\n",
      "collected number of detectable events =  327\n",
      "total number of events =  34200000\n",
      "total rate (yr^-1): 3.950657887020231\n",
      "given detectability_condition == 'step_function'\n",
      "collected number of detectable events =  329\n",
      "total number of events =  34400000\n",
      "total rate (yr^-1): 3.9517115081763596\n",
      "given detectability_condition == 'step_function'\n",
      "collected number of detectable events =  331\n",
      "total number of events =  34600000\n",
      "total rate (yr^-1): 3.9527529487410877\n",
      "given detectability_condition == 'step_function'\n",
      "collected number of detectable events =  334\n",
      "total number of events =  34800000\n",
      "total rate (yr^-1): 3.965655639201263\n",
      "given detectability_condition == 'step_function'\n",
      "collected number of detectable events =  334\n",
      "total number of events =  35000000\n",
      "total rate (yr^-1): 3.9429947498343987\n",
      "given detectability_condition == 'step_function'\n",
      "collected number of detectable events =  337\n",
      "total number of events =  35200000\n",
      "total rate (yr^-1): 3.955806263124042\n",
      "given detectability_condition == 'step_function'\n",
      "collected number of detectable events =  340\n",
      "total number of events =  35400000\n",
      "total rate (yr^-1): 3.9684730135516544\n",
      "given detectability_condition == 'step_function'\n",
      "collected number of detectable events =  342\n",
      "total number of events =  35600000\n",
      "total rate (yr^-1): 3.9693910344074004\n",
      "given detectability_condition == 'step_function'\n",
      "collected number of detectable events =  344\n",
      "total number of events =  35800000\n",
      "total rate (yr^-1): 3.9702987980468802\n",
      "given detectability_condition == 'step_function'\n",
      "collected number of detectable events =  347\n",
      "total number of events =  36000000\n",
      "total rate (yr^-1): 3.9826739218844622\n",
      "given detectability_condition == 'step_function'\n",
      "collected number of detectable events =  348\n",
      "total number of events =  36200000\n",
      "total rate (yr^-1): 3.9720842337134825\n",
      "given detectability_condition == 'step_function'\n",
      "collected number of detectable events =  351\n",
      "total number of events =  36400000\n",
      "total rate (yr^-1): 3.9843135570931425\n",
      "given detectability_condition == 'step_function'\n",
      "collected number of detectable events =  352\n",
      "total number of events =  36600000\n",
      "total rate (yr^-1): 3.973830643463875\n",
      "given detectability_condition == 'step_function'\n",
      "collected number of detectable events =  353\n",
      "total number of events =  36800000\n",
      "total rate (yr^-1): 3.9634616745479687\n",
      "given detectability_condition == 'step_function'\n",
      "collected number of detectable events =  354\n",
      "total number of events =  37000000\n",
      "total rate (yr^-1): 3.9532048025933157\n",
      "given detectability_condition == 'step_function'\n",
      "collected number of detectable events =  357\n",
      "total number of events =  37200000\n",
      "total rate (yr^-1): 3.965272632089113\n",
      "given detectability_condition == 'step_function'\n",
      "collected number of detectable events =  359\n",
      "total number of events =  37400000\n",
      "total rate (yr^-1): 3.9661635844622967\n",
      "given detectability_condition == 'step_function'\n",
      "collected number of detectable events =  364\n",
      "total number of events =  37600000\n",
      "total rate (yr^-1): 4.000012192069869\n",
      "given detectability_condition == 'step_function'\n",
      "collected number of detectable events =  365\n",
      "total number of events =  37800000\n",
      "total rate (yr^-1): 3.9897790077887434\n",
      "given detectability_condition == 'step_function'\n",
      "collected number of detectable events =  365\n",
      "total number of events =  38000000\n",
      "total rate (yr^-1): 3.968780170905645\n",
      "given detectability_condition == 'step_function'\n",
      "collected number of detectable events =  368\n",
      "total number of events =  38200000\n",
      "total rate (yr^-1): 3.980450542203581\n",
      "given detectability_condition == 'step_function'\n",
      "collected number of detectable events =  370\n",
      "total number of events =  38400000\n",
      "total rate (yr^-1): 3.981239241076867\n",
      "given detectability_condition == 'step_function'\n",
      "collected number of detectable events =  370\n",
      "total number of events =  38600000\n",
      "total rate (yr^-1): 3.960611058480614\n",
      "given detectability_condition == 'step_function'\n",
      "collected number of detectable events =  374\n",
      "total number of events =  38800000\n",
      "total rate (yr^-1): 3.9827922460747796\n",
      "given detectability_condition == 'step_function'\n",
      "collected number of detectable events =  375\n",
      "total number of events =  39000000\n",
      "total rate (yr^-1): 3.9729622364176636\n",
      "given detectability_condition == 'step_function'\n",
      "collected number of detectable events =  376\n",
      "total number of events =  39200000\n",
      "total rate (yr^-1): 3.9632325329815385\n",
      "given detectability_condition == 'step_function'\n",
      "collected number of detectable events =  377\n",
      "total number of events =  39400000\n",
      "total rate (yr^-1): 3.953601608260501\n",
      "given detectability_condition == 'step_function'\n",
      "collected number of detectable events =  383\n",
      "total number of events =  39600000\n",
      "total rate (yr^-1): 3.9962381767926356\n",
      "given detectability_condition == 'step_function'\n",
      "collected number of detectable events =  384\n",
      "total number of events =  39800000\n",
      "total rate (yr^-1): 3.9865381877782866\n",
      "given detectability_condition == 'step_function'\n",
      "collected number of detectable events =  385\n",
      "total number of events =  40000000\n",
      "total rate (yr^-1): 3.976935198654081\n",
      "given detectability_condition == 'step_function'\n",
      "collected number of detectable events =  386\n",
      "total number of events =  40200000\n",
      "total rate (yr^-1): 3.9674277616604643\n",
      "given detectability_condition == 'step_function'\n",
      "collected number of detectable events =  388\n",
      "total number of events =  40400000\n",
      "total rate (yr^-1): 3.968241885245682\n",
      "given detectability_condition == 'step_function'\n",
      "collected number of detectable events =  391\n",
      "total number of events =  40600000\n",
      "total rate (yr^-1): 3.979225034031721\n",
      "given detectability_condition == 'step_function'\n",
      "collected number of detectable events =  392\n",
      "total number of events =  40800000\n",
      "total rate (yr^-1): 3.969846187604787\n",
      "given detectability_condition == 'step_function'\n",
      "collected number of detectable events =  396\n",
      "total number of events =  41000000\n",
      "total rate (yr^-1): 3.9907921157225625\n",
      "given detectability_condition == 'step_function'\n",
      "collected number of detectable events =  399\n",
      "total number of events =  41200000\n",
      "total rate (yr^-1): 4.001505848601635\n",
      "given detectability_condition == 'step_function'\n",
      "collected number of detectable events =  402\n",
      "total number of events =  41400000\n",
      "total rate (yr^-1): 4.012116067153374\n",
      "given detectability_condition == 'step_function'\n",
      "collected number of detectable events =  406\n",
      "total number of events =  41600000\n",
      "total rate (yr^-1): 4.032556669963928\n",
      "given detectability_condition == 'step_function'\n",
      "collected number of detectable events =  406\n",
      "total number of events =  41800000\n",
      "total rate (yr^-1): 4.01326214044257\n",
      "given detectability_condition == 'step_function'\n",
      "collected number of detectable events =  407\n",
      "total number of events =  42000000\n",
      "total rate (yr^-1): 4.003989179597306\n",
      "given detectability_condition == 'step_function'\n",
      "collected number of detectable events =  410\n",
      "total number of events =  42200000\n",
      "total rate (yr^-1): 4.014386487223915\n",
      "given detectability_condition == 'step_function'\n",
      "collected number of detectable events =  412\n",
      "total number of events =  42400000\n",
      "total rate (yr^-1): 4.014940705330756\n",
      "given detectability_condition == 'step_function'\n",
      "collected number of detectable events =  412\n",
      "total number of events =  42600000\n",
      "total rate (yr^-1): 3.9960912184512685\n",
      "given detectability_condition == 'step_function'\n",
      "collected number of detectable events =  415\n",
      "total number of events =  42800000\n",
      "total rate (yr^-1): 4.006379675789401\n",
      "given detectability_condition == 'step_function'\n",
      "collected number of detectable events =  417\n",
      "total number of events =  43000000\n",
      "total rate (yr^-1): 4.006963401603749\n",
      "given detectability_condition == 'step_function'\n",
      "collected number of detectable events =  417\n",
      "total number of events =  43200000\n",
      "total rate (yr^-1): 3.988412645114843\n",
      "given detectability_condition == 'step_function'\n",
      "collected number of detectable events =  419\n",
      "total number of events =  43400000\n",
      "total rate (yr^-1): 3.98907378834415\n",
      "given detectability_condition == 'step_function'\n",
      "collected number of detectable events =  422\n",
      "total number of events =  43600000\n",
      "total rate (yr^-1): 3.9992056566949175\n",
      "given detectability_condition == 'step_function'\n",
      "collected number of detectable events =  423\n",
      "total number of events =  43800000\n",
      "total rate (yr^-1): 3.9903779612896315\n",
      "given detectability_condition == 'step_function'\n",
      "collected number of detectable events =  429\n",
      "total number of events =  44000000\n",
      "total rate (yr^-1): 4.028583707727511\n",
      "given detectability_condition == 'step_function'\n",
      "collected number of detectable events =  431\n",
      "total number of events =  44200000\n",
      "total rate (yr^-1): 4.029051115049442\n",
      "given detectability_condition == 'step_function'\n",
      "collected number of detectable events =  431\n",
      "total number of events =  44400000\n",
      "total rate (yr^-1): 4.010902236152823\n",
      "given detectability_condition == 'step_function'\n",
      "collected number of detectable events =  432\n",
      "total number of events =  44600000\n",
      "total rate (yr^-1): 4.002180434030779\n",
      "given detectability_condition == 'step_function'\n",
      "collected number of detectable events =  433\n",
      "total number of events =  44800000\n",
      "total rate (yr^-1): 3.9935365051419693\n",
      "given detectability_condition == 'step_function'\n",
      "collected number of detectable events =  437\n",
      "total number of events =  45000000\n",
      "total rate (yr^-1): 4.012515282682444\n",
      "given detectability_condition == 'step_function'\n",
      "collected number of detectable events =  438\n",
      "total number of events =  45200000\n",
      "total rate (yr^-1): 4.003902119320739\n",
      "given detectability_condition == 'step_function'\n",
      "collected number of detectable events =  442\n",
      "total number of events =  45400000\n",
      "total rate (yr^-1): 4.022668019463594\n",
      "given detectability_condition == 'step_function'\n",
      "collected number of detectable events =  442\n",
      "total number of events =  45600000\n",
      "total rate (yr^-1): 4.005024738676473\n",
      "given detectability_condition == 'step_function'\n",
      "collected number of detectable events =  445\n",
      "total number of events =  45800000\n",
      "total rate (yr^-1): 4.014600268589726\n",
      "given detectability_condition == 'step_function'\n",
      "collected number of detectable events =  445\n",
      "total number of events =  46000000\n",
      "total rate (yr^-1): 3.997145484813249\n",
      "given detectability_condition == 'step_function'\n",
      "collected number of detectable events =  448\n",
      "total number of events =  46200000\n",
      "total rate (yr^-1): 4.006672219029692\n",
      "given detectability_condition == 'step_function'\n",
      "collected number of detectable events =  450\n",
      "total number of events =  46400000\n",
      "total rate (yr^-1): 4.00721191086954\n",
      "given detectability_condition == 'step_function'\n",
      "collected number of detectable events =  453\n",
      "total number of events =  46600000\n",
      "total rate (yr^-1): 4.016613666998047\n",
      "given detectability_condition == 'step_function'\n",
      "collected number of detectable events =  453\n",
      "total number of events =  46800000\n",
      "total rate (yr^-1): 3.9994486513271146\n",
      "given detectability_condition == 'step_function'\n",
      "collected number of detectable events =  458\n",
      "total number of events =  47000000\n",
      "total rate (yr^-1): 4.026385898830769\n",
      "given detectability_condition == 'step_function'\n",
      "collected number of detectable events =  459\n",
      "total number of events =  47200000\n",
      "total rate (yr^-1): 4.01807892622105\n",
      "given detectability_condition == 'step_function'\n",
      "collected number of detectable events =  465\n",
      "total number of events =  47400000\n",
      "total rate (yr^-1): 4.053427294370427\n",
      "given detectability_condition == 'step_function'\n",
      "collected number of detectable events =  467\n",
      "total number of events =  47600000\n",
      "total rate (yr^-1): 4.05375693063725\n",
      "given detectability_condition == 'step_function'\n",
      "collected number of detectable events =  467\n",
      "total number of events =  47800000\n",
      "total rate (yr^-1): 4.036795604567637\n",
      "given detectability_condition == 'step_function'\n",
      "collected number of detectable events =  471\n",
      "total number of events =  48000000\n",
      "total rate (yr^-1): 4.054407962264226\n",
      "given detectability_condition == 'step_function'\n",
      "collected number of detectable events =  472\n",
      "total number of events =  48200000\n",
      "total rate (yr^-1): 4.046157059362454\n",
      "given detectability_condition == 'step_function'\n",
      "collected number of detectable events =  475\n",
      "total number of events =  48400000\n",
      "total rate (yr^-1): 4.055048233037863\n",
      "given detectability_condition == 'step_function'\n",
      "collected number of detectable events =  477\n",
      "total number of events =  48600000\n",
      "total rate (yr^-1): 4.055364416135956\n",
      "given detectability_condition == 'step_function'\n",
      "collected number of detectable events =  479\n",
      "total number of events =  48800000\n",
      "total rate (yr^-1): 4.05567800756931\n",
      "given detectability_condition == 'step_function'\n",
      "collected number of detectable events =  483\n",
      "total number of events =  49000000\n",
      "total rate (yr^-1): 4.072853858361879\n",
      "given detectability_condition == 'step_function'\n",
      "collected number of detectable events =  485\n",
      "total number of events =  49200000\n",
      "total rate (yr^-1): 4.073093804977783\n",
      "given detectability_condition == 'step_function'\n",
      "collected number of detectable events =  485\n",
      "total number of events =  49400000\n",
      "total rate (yr^-1): 4.056603546658035\n",
      "given detectability_condition == 'step_function'\n",
      "collected number of detectable events =  487\n",
      "total number of events =  49600000\n",
      "total rate (yr^-1): 4.056907083671005\n",
      "given detectability_condition == 'step_function'\n",
      "collected number of detectable events =  489\n",
      "total number of events =  49800000\n",
      "total rate (yr^-1): 4.0572081826356765\n",
      "given detectability_condition == 'step_function'\n",
      "collected number of detectable events =  494\n",
      "total number of events =  50000000\n",
      "total rate (yr^-1): 4.082298157163877\n",
      "given detectability_condition == 'step_function'\n",
      "collected number of detectable events =  496\n",
      "total number of events =  50200000\n",
      "total rate (yr^-1): 4.082495697278262\n",
      "given detectability_condition == 'step_function'\n",
      "collected number of detectable events =  500\n",
      "total number of events =  50400000\n",
      "total rate (yr^-1): 4.099088021700764\n",
      "stored detectable unlensed params in ./ler_data/n_unlensed_detectable_bns_O4psd.json\n",
      "stored meta data in ./ler_data/n_unlensed_detectable_bns_meta_O4psd.json\n",
      "\n",
      " trmming final result to size=500\n",
      "collected number of detectable events =  500\n",
      "total number of events =  50400000.0\n",
      "total unlensed event rate (yr^-1): 4.099088021700764\n"
     ]
    }
   ],
   "source": [
    "# snr_cut=8.0\n",
    "ler.selecting_n_unlensed_detectable_events(size=500, batch_size=200000,snr_threshold=10.0, output_jsonfile='n_unlensed_detectable_bns_O4psd.json', meta_data_file='n_unlensed_detectable_bns_meta_O4psd.json', resume=True);"
   ]
  },
  {
   "cell_type": "code",
   "execution_count": 15,
   "metadata": {},
   "outputs": [
    {
     "name": "stdout",
     "output_type": "stream",
     "text": [
      "median: 35.65 deg\n",
      "average: 38.86 deg\n"
     ]
    },
    {
     "data": {
      "image/png": "[encoded data removed]",
      "text/plain": [
       "<Figure size 400x400 with 1 Axes>"
      ]
     },
     "metadata": {},
     "output_type": "display_data"
    }
   ],
   "source": [
    "# inclination angle\n",
    "unlensed_param = get_param_from_json('./ler_data/n_unlensed_detectable_bns_O4psd.json')\n",
    "iota = np.array(unlensed_param['theta_jn'])\n",
    "# convert to degrees\n",
    "iota = np.degrees(iota)\n",
    "iota[iota>90] = 180 - iota[iota>90]\n",
    "# print median\n",
    "print(f\"median: {np.median(iota):.2f} deg\")\n",
    "# print average\n",
    "print(f\"average: {np.mean(iota):.2f} deg\")\n",
    "\n",
    "#plotting\n",
    "plt.figure(figsize=(4,4))\n",
    "plt.hist(iota, bins=25, histtype='step', color='k', lw=2, label='O4 PSD')\n",
    "plt.xlabel(r'$\\iota$')\n",
    "plt.ylabel('pdf')\n",
    "plt.legend()\n",
    "plt.grid(alpha=0.4)\n",
    "plt.show()\n"
   ]
  },
  {
   "cell_type": "code",
   "execution_count": 16,
   "metadata": {},
   "outputs": [
    {
     "data": {
      "image/png": "[encoded data removed]",
      "text/plain": [
       "<Figure size 600x400 with 1 Axes>"
      ]
     },
     "metadata": {},
     "output_type": "display_data"
    }
   ],
   "source": [
    "# let's see how rate varies with sampling size\n",
    "meta_data = get_param_from_json('ler_data/n_unlensed_detectable_bns_meta_O4psd.json')\n",
    "# plot the rate vs sampling size\n",
    "plt.figure(figsize=(6,4))\n",
    "plt.plot(meta_data['events_total'], meta_data['total_rate'], 'o-')\n",
    "plt.xlabel('Sampling size')\n",
    "plt.ylabel('Rate (per year)')\n",
    "plt.title('Rate vs Sampling size')\n",
    "plt.grid(alpha=0.4)\n",
    "plt.show()"
   ]
  },
  {
   "cell_type": "code",
   "execution_count": 11,
   "metadata": {},
   "outputs": [
    {
     "name": "stdout",
     "output_type": "stream",
     "text": [
      "Rate (per year) = 3.427172340206434\n"
     ]
    }
   ],
   "source": [
    "# select only events after sampling size of \n",
    "idx = np.where(meta_data['events_total'] > 0.8e7)[0]\n",
    "# take average \n",
    "rate_unlensed_median = np.mean(meta_data['total_rate'][idx])\n",
    "print('Rate (per year) =', rate_unlensed_median)"
   ]
  },
  {
   "cell_type": "markdown",
   "metadata": {},
   "source": [
    "## Lensed"
   ]
  },
  {
   "cell_type": "code",
   "execution_count": 4,
   "metadata": {},
   "outputs": [
    {
     "name": "stdout",
     "output_type": "stream",
     "text": [
      "collected number of detectable events =  0\n"
     ]
    },
    {
     "name": "stderr",
     "output_type": "stream",
     "text": [
      "100%|█████████████████████████████████████████████████████| 200000/200000 [00:44<00:00, 4508.23it/s]\n",
      "100%|█████████████████████████████████████████████████████████████████| 5/5 [00:00<00:00, 39.02it/s]\n"
     ]
    },
    {
     "name": "stdout",
     "output_type": "stream",
     "text": [
      "given detectability_condition == step_function\n",
      "collected number of detectable events =  5\n",
      "total number of events =  200000\n",
      "total rate (yr^-1): 0.019527688981046575\n"
     ]
    },
    {
     "name": "stderr",
     "output_type": "stream",
     "text": [
      "100%|█████████████████████████████████████████████████████| 200000/200000 [00:44<00:00, 4503.98it/s]\n",
      "100%|█████████████████████████████████████████████████████████████████| 5/5 [00:00<00:00, 54.38it/s]\n"
     ]
    },
    {
     "name": "stdout",
     "output_type": "stream",
     "text": [
      "given detectability_condition == step_function\n",
      "collected number of detectable events =  6\n",
      "total number of events =  400000\n",
      "total rate (yr^-1): 0.011716613388627945\n"
     ]
    },
    {
     "name": "stderr",
     "output_type": "stream",
     "text": [
      "100%|█████████████████████████████████████████████████████| 200000/200000 [00:44<00:00, 4529.29it/s]\n",
      "100%|█████████████████████████████████████████████████████████████████| 5/5 [00:00<00:00, 53.30it/s]\n"
     ]
    },
    {
     "name": "stdout",
     "output_type": "stream",
     "text": [
      "given detectability_condition == step_function\n",
      "collected number of detectable events =  7\n",
      "total number of events =  600000\n",
      "total rate (yr^-1): 0.009112921524488402\n"
     ]
    },
    {
     "name": "stderr",
     "output_type": "stream",
     "text": [
      "100%|█████████████████████████████████████████████████████| 200000/200000 [00:44<00:00, 4532.49it/s]\n",
      "100%|█████████████████████████████████████████████████████████████████| 2/2 [00:00<00:00, 22.36it/s]\n"
     ]
    },
    {
     "name": "stdout",
     "output_type": "stream",
     "text": [
      "given detectability_condition == step_function\n",
      "collected number of detectable events =  9\n",
      "total number of events =  800000\n",
      "total rate (yr^-1): 0.008787460041470959\n"
     ]
    },
    {
     "name": "stderr",
     "output_type": "stream",
     "text": [
      "100%|█████████████████████████████████████████████████████| 200000/200000 [00:45<00:00, 4364.77it/s]\n",
      "100%|█████████████████████████████████████████████████████████████████| 8/8 [00:00<00:00, 84.76it/s]\n"
     ]
    },
    {
     "name": "stdout",
     "output_type": "stream",
     "text": [
      "given detectability_condition == step_function\n",
      "collected number of detectable events =  10\n",
      "total number of events =  1000000\n",
      "total rate (yr^-1): 0.00781107559241863\n"
     ]
    },
    {
     "name": "stderr",
     "output_type": "stream",
     "text": [
      "100%|█████████████████████████████████████████████████████| 200000/200000 [00:44<00:00, 4464.99it/s]\n",
      "100%|█████████████████████████████████████████████████████████████████| 6/6 [00:00<00:00, 54.58it/s]\n"
     ]
    },
    {
     "name": "stdout",
     "output_type": "stream",
     "text": [
      "given detectability_condition == step_function\n",
      "collected number of detectable events =  15\n",
      "total number of events =  1200000\n",
      "total rate (yr^-1): 0.009763844490523286\n"
     ]
    },
    {
     "name": "stderr",
     "output_type": "stream",
     "text": [
      "100%|█████████████████████████████████████████████████████| 200000/200000 [00:45<00:00, 4418.61it/s]\n",
      "100%|█████████████████████████████████████████████████████████████████| 3/3 [00:00<00:00, 34.23it/s]\n"
     ]
    },
    {
     "name": "stdout",
     "output_type": "stream",
     "text": [
      "given detectability_condition == step_function\n",
      "collected number of detectable events =  17\n",
      "total number of events =  1400000\n",
      "total rate (yr^-1): 0.009484877505079765\n"
     ]
    },
    {
     "name": "stderr",
     "output_type": "stream",
     "text": [
      "100%|█████████████████████████████████████████████████████| 200000/200000 [00:45<00:00, 4416.19it/s]\n",
      "100%|█████████████████████████████████████████████████████████████████| 4/4 [00:00<00:00, 45.18it/s]\n"
     ]
    },
    {
     "name": "stdout",
     "output_type": "stream",
     "text": [
      "given detectability_condition == step_function\n",
      "collected number of detectable events =  17\n",
      "total number of events =  1600000\n",
      "total rate (yr^-1): 0.008299267816944796\n"
     ]
    },
    {
     "name": "stderr",
     "output_type": "stream",
     "text": [
      " 13%|███████▎                                              | 26891/200000 [00:06<00:39, 4359.84it/s]\n"
     ]
    },
    {
     "ename": "KeyboardInterrupt",
     "evalue": "",
     "output_type": "error",
     "traceback": [
      "\u001b[0;31m---------------------------------------------------------------------------\u001b[0m",
      "\u001b[0;31mIndexError\u001b[0m                                Traceback (most recent call last)",
      "File \u001b[0;32m~/anaconda3/envs/ler/lib/python3.10/multiprocessing/pool.py:856\u001b[0m, in \u001b[0;36mIMapIterator.next\u001b[0;34m(self, timeout)\u001b[0m\n\u001b[1;32m    855\u001b[0m \u001b[38;5;28;01mtry\u001b[39;00m:\n\u001b[0;32m--> 856\u001b[0m     item \u001b[38;5;241m=\u001b[39m \u001b[38;5;28;43mself\u001b[39;49m\u001b[38;5;241;43m.\u001b[39;49m\u001b[43m_items\u001b[49m\u001b[38;5;241;43m.\u001b[39;49m\u001b[43mpopleft\u001b[49m\u001b[43m(\u001b[49m\u001b[43m)\u001b[49m\n\u001b[1;32m    857\u001b[0m \u001b[38;5;28;01mexcept\u001b[39;00m \u001b[38;5;167;01mIndexError\u001b[39;00m:\n",
      "\u001b[0;31mIndexError\u001b[0m: pop from an empty deque",
      "\nDuring handling of the above exception, another exception occurred:\n",
      "\u001b[0;31mKeyboardInterrupt\u001b[0m                         Traceback (most recent call last)",
      "Cell \u001b[0;32mIn[4], line 3\u001b[0m\n\u001b[1;32m      1\u001b[0m \u001b[38;5;66;03m# snr_cut=8.0\u001b[39;00m\n\u001b[1;32m      2\u001b[0m \u001b[38;5;66;03m# time will take long time sample\u001b[39;00m\n\u001b[0;32m----> 3\u001b[0m \u001b[43mler\u001b[49m\u001b[38;5;241;43m.\u001b[39;49m\u001b[43mselecting_n_lensed_detectable_events\u001b[49m\u001b[43m(\u001b[49m\u001b[43msize\u001b[49m\u001b[38;5;241;43m=\u001b[39;49m\u001b[38;5;241;43m1000\u001b[39;49m\u001b[43m,\u001b[49m\u001b[43m \u001b[49m\u001b[43mbatch_size\u001b[49m\u001b[38;5;241;43m=\u001b[39;49m\u001b[38;5;241;43m200000\u001b[39;49m\u001b[43m,\u001b[49m\u001b[43msnr_threshold\u001b[49m\u001b[38;5;241;43m=\u001b[39;49m\u001b[38;5;241;43m8.0\u001b[39;49m\u001b[43m,\u001b[49m\u001b[43m \u001b[49m\u001b[43mnum_img\u001b[49m\u001b[38;5;241;43m=\u001b[39;49m\u001b[38;5;241;43m2\u001b[39;49m\u001b[43m,\u001b[49m\u001b[43m \u001b[49m\u001b[43moutput_jsonfile\u001b[49m\u001b[38;5;241;43m=\u001b[39;49m\u001b[38;5;124;43m'\u001b[39;49m\u001b[38;5;124;43mn_lensed_detectable_bns_O4psd_median.json\u001b[39;49m\u001b[38;5;124;43m'\u001b[39;49m\u001b[43m,\u001b[49m\u001b[43m \u001b[49m\u001b[43mmeta_data_file\u001b[49m\u001b[38;5;241;43m=\u001b[39;49m\u001b[38;5;124;43m'\u001b[39;49m\u001b[38;5;124;43mn_lensed_detectable_bns_meta_O4psd_median.json\u001b[39;49m\u001b[38;5;124;43m'\u001b[39;49m\u001b[43m,\u001b[49m\u001b[43m \u001b[49m\u001b[43mresume\u001b[49m\u001b[38;5;241;43m=\u001b[39;49m\u001b[38;5;28;43;01mTrue\u001b[39;49;00m\u001b[43m)\u001b[49m\n",
      "File \u001b[0;32m~/phd/mypackages/ler/ler/rates/ler.py:2004\u001b[0m, in \u001b[0;36mLeR.selecting_n_lensed_detectable_events\u001b[0;34m(self, size, batch_size, snr_threshold, pdet_threshold, num_img, combine_image_snr, snr_cut_for_combine_image_snr, resume, detectability_condition, output_jsonfile, meta_data_file, trim_to_size, nan_to_num, snr_recalculation, snr_threshold_recalculation)\u001b[0m\n\u001b[1;32m   2002\u001b[0m \u001b[38;5;28;01mwith\u001b[39;00m contextlib\u001b[38;5;241m.\u001b[39mredirect_stdout(\u001b[38;5;28;01mNone\u001b[39;00m):\n\u001b[1;32m   2003\u001b[0m     \u001b[38;5;28mself\u001b[39m\u001b[38;5;241m.\u001b[39mdict_buffer \u001b[38;5;241m=\u001b[39m \u001b[38;5;28;01mNone\u001b[39;00m  \u001b[38;5;66;03m# this is used to store the sampled lensed_param in batches when running the sampling_routine\u001b[39;00m\n\u001b[0;32m-> 2004\u001b[0m     lensed_param \u001b[38;5;241m=\u001b[39m \u001b[38;5;28;43mself\u001b[39;49m\u001b[38;5;241;43m.\u001b[39;49m\u001b[43mlensed_sampling_routine\u001b[49m\u001b[43m(\u001b[49m\n\u001b[1;32m   2005\u001b[0m \u001b[43m        \u001b[49m\u001b[43msize\u001b[49m\u001b[38;5;241;43m=\u001b[39;49m\u001b[38;5;28;43mself\u001b[39;49m\u001b[38;5;241;43m.\u001b[39;49m\u001b[43mbatch_size\u001b[49m\u001b[43m,\u001b[49m\u001b[43m \u001b[49m\u001b[43moutput_jsonfile\u001b[49m\u001b[38;5;241;43m=\u001b[39;49m\u001b[43mbuffer_file\u001b[49m\u001b[43m,\u001b[49m\u001b[43m \u001b[49m\u001b[43mresume\u001b[49m\u001b[38;5;241;43m=\u001b[39;49m\u001b[38;5;28;43;01mFalse\u001b[39;49;00m\n\u001b[1;32m   2006\u001b[0m \u001b[43m    \u001b[49m\u001b[43m)\u001b[49m  \u001b[38;5;66;03m# Dimensions are (size, n_max_images)\u001b[39;00m\n\u001b[1;32m   2008\u001b[0m total_events_in_this_iteration \u001b[38;5;241m=\u001b[39m \u001b[38;5;28mlen\u001b[39m(lensed_param[\u001b[38;5;124m\"\u001b[39m\u001b[38;5;124mzs\u001b[39m\u001b[38;5;124m\"\u001b[39m])\n\u001b[1;32m   2010\u001b[0m \u001b[38;5;66;03m# Below code ensures that the snr is recalculated for the detectable events with inner product\u001b[39;00m\n\u001b[1;32m   2011\u001b[0m \u001b[38;5;66;03m# The code is use when the snr is calculated with 'ann' method of `gwsnr`\u001b[39;00m\n",
      "File \u001b[0;32m~/phd/mypackages/ler/ler/rates/ler.py:1356\u001b[0m, in \u001b[0;36mLeR.lensed_sampling_routine\u001b[0;34m(self, size, output_jsonfile, save_batch, resume)\u001b[0m\n\u001b[1;32m   1354\u001b[0m lensed_param_ \u001b[38;5;241m=\u001b[39m \u001b[38;5;28mself\u001b[39m\u001b[38;5;241m.\u001b[39msample_lens_parameters(size\u001b[38;5;241m=\u001b[39msize)\n\u001b[1;32m   1355\u001b[0m \u001b[38;5;66;03m# now get (strongly lensed) image paramters along with lens parameters\u001b[39;00m\n\u001b[0;32m-> 1356\u001b[0m lensed_param_ \u001b[38;5;241m=\u001b[39m \u001b[38;5;28;43mself\u001b[39;49m\u001b[38;5;241;43m.\u001b[39;49m\u001b[43mimage_properties\u001b[49m\u001b[43m(\u001b[49m\u001b[43mlensed_param_\u001b[49m\u001b[43m)\u001b[49m\n\u001b[1;32m   1358\u001b[0m \u001b[38;5;28;01mif\u001b[39;00m \u001b[38;5;28mlen\u001b[39m(lensed_param) \u001b[38;5;241m==\u001b[39m \u001b[38;5;241m0\u001b[39m:  \u001b[38;5;66;03m# if empty\u001b[39;00m\n\u001b[1;32m   1359\u001b[0m         lensed_param \u001b[38;5;241m=\u001b[39m lensed_param_\n",
      "File \u001b[0;32m~/phd/mypackages/ler/ler/image_properties/image_properties.py:253\u001b[0m, in \u001b[0;36mImageProperties.image_properties\u001b[0;34m(self, lens_parameters)\u001b[0m\n\u001b[1;32m    249\u001b[0m     \u001b[38;5;28;01mraise\u001b[39;00m \u001b[38;5;167;01mValueError\u001b[39;00m(\u001b[38;5;124m\"\u001b[39m\u001b[38;5;124mn_min_images should be greater than 1\u001b[39m\u001b[38;5;124m\"\u001b[39m)\n\u001b[1;32m    250\u001b[0m \u001b[38;5;28;01mwith\u001b[39;00m Pool(processes\u001b[38;5;241m=\u001b[39mnpool) \u001b[38;5;28;01mas\u001b[39;00m pool:\n\u001b[1;32m    251\u001b[0m     \u001b[38;5;66;03m# call the same function with different data in parallel\u001b[39;00m\n\u001b[1;32m    252\u001b[0m     \u001b[38;5;66;03m# imap->retain order in the list, while map->doesn't\u001b[39;00m\n\u001b[0;32m--> 253\u001b[0m     \u001b[38;5;28;01mfor\u001b[39;00m result \u001b[38;5;129;01min\u001b[39;00m tqdm(\n\u001b[1;32m    254\u001b[0m         pool\u001b[38;5;241m.\u001b[39mimap_unordered(solve_lens_equation_, input_arguments),\n\u001b[1;32m    255\u001b[0m         total\u001b[38;5;241m=\u001b[39m\u001b[38;5;28mlen\u001b[39m(input_arguments),\n\u001b[1;32m    256\u001b[0m         ncols\u001b[38;5;241m=\u001b[39m\u001b[38;5;241m100\u001b[39m,\n\u001b[1;32m    257\u001b[0m         disable\u001b[38;5;241m=\u001b[39m\u001b[38;5;28;01mFalse\u001b[39;00m,\n\u001b[1;32m    258\u001b[0m     ):\n\u001b[1;32m    259\u001b[0m         \u001b[38;5;66;03m# print(result)\u001b[39;00m\n\u001b[1;32m    260\u001b[0m         (\n\u001b[1;32m    261\u001b[0m             x_source_i,\n\u001b[1;32m    262\u001b[0m             y_source_i,\n\u001b[0;32m   (...)\u001b[0m\n\u001b[1;32m    270\u001b[0m             iter_i,\n\u001b[1;32m    271\u001b[0m         ) \u001b[38;5;241m=\u001b[39m result\n\u001b[1;32m    273\u001b[0m         n_image_i \u001b[38;5;241m=\u001b[39m \u001b[38;5;28mmin\u001b[39m(n_image_i, n_max_images)\n",
      "File \u001b[0;32m~/anaconda3/envs/ler/lib/python3.10/site-packages/tqdm/std.py:1181\u001b[0m, in \u001b[0;36mtqdm.__iter__\u001b[0;34m(self)\u001b[0m\n\u001b[1;32m   1178\u001b[0m time \u001b[38;5;241m=\u001b[39m \u001b[38;5;28mself\u001b[39m\u001b[38;5;241m.\u001b[39m_time\n\u001b[1;32m   1180\u001b[0m \u001b[38;5;28;01mtry\u001b[39;00m:\n\u001b[0;32m-> 1181\u001b[0m     \u001b[38;5;28;01mfor\u001b[39;00m obj \u001b[38;5;129;01min\u001b[39;00m iterable:\n\u001b[1;32m   1182\u001b[0m         \u001b[38;5;28;01myield\u001b[39;00m obj\n\u001b[1;32m   1183\u001b[0m         \u001b[38;5;66;03m# Update and possibly print the progressbar.\u001b[39;00m\n\u001b[1;32m   1184\u001b[0m         \u001b[38;5;66;03m# Note: does not call self.update(1) for speed optimisation.\u001b[39;00m\n",
      "File \u001b[0;32m~/anaconda3/envs/ler/lib/python3.10/multiprocessing/pool.py:861\u001b[0m, in \u001b[0;36mIMapIterator.next\u001b[0;34m(self, timeout)\u001b[0m\n\u001b[1;32m    859\u001b[0m     \u001b[38;5;28mself\u001b[39m\u001b[38;5;241m.\u001b[39m_pool \u001b[38;5;241m=\u001b[39m \u001b[38;5;28;01mNone\u001b[39;00m\n\u001b[1;32m    860\u001b[0m     \u001b[38;5;28;01mraise\u001b[39;00m \u001b[38;5;167;01mStopIteration\u001b[39;00m \u001b[38;5;28;01mfrom\u001b[39;00m \u001b[38;5;28;01mNone\u001b[39;00m\n\u001b[0;32m--> 861\u001b[0m \u001b[38;5;28;43mself\u001b[39;49m\u001b[38;5;241;43m.\u001b[39;49m\u001b[43m_cond\u001b[49m\u001b[38;5;241;43m.\u001b[39;49m\u001b[43mwait\u001b[49m\u001b[43m(\u001b[49m\u001b[43mtimeout\u001b[49m\u001b[43m)\u001b[49m\n\u001b[1;32m    862\u001b[0m \u001b[38;5;28;01mtry\u001b[39;00m:\n\u001b[1;32m    863\u001b[0m     item \u001b[38;5;241m=\u001b[39m \u001b[38;5;28mself\u001b[39m\u001b[38;5;241m.\u001b[39m_items\u001b[38;5;241m.\u001b[39mpopleft()\n",
      "File \u001b[0;32m~/anaconda3/envs/ler/lib/python3.10/threading.py:320\u001b[0m, in \u001b[0;36mCondition.wait\u001b[0;34m(self, timeout)\u001b[0m\n\u001b[1;32m    318\u001b[0m \u001b[38;5;28;01mtry\u001b[39;00m:    \u001b[38;5;66;03m# restore state no matter what (e.g., KeyboardInterrupt)\u001b[39;00m\n\u001b[1;32m    319\u001b[0m     \u001b[38;5;28;01mif\u001b[39;00m timeout \u001b[38;5;129;01mis\u001b[39;00m \u001b[38;5;28;01mNone\u001b[39;00m:\n\u001b[0;32m--> 320\u001b[0m         \u001b[43mwaiter\u001b[49m\u001b[38;5;241;43m.\u001b[39;49m\u001b[43macquire\u001b[49m\u001b[43m(\u001b[49m\u001b[43m)\u001b[49m\n\u001b[1;32m    321\u001b[0m         gotit \u001b[38;5;241m=\u001b[39m \u001b[38;5;28;01mTrue\u001b[39;00m\n\u001b[1;32m    322\u001b[0m     \u001b[38;5;28;01melse\u001b[39;00m:\n",
      "\u001b[0;31mKeyboardInterrupt\u001b[0m: "
     ]
    }
   ],
   "source": [
    "# snr_cut=8.0\n",
    "# time will take long time sample\n",
    "ler.selecting_n_lensed_detectable_events(size=1000, batch_size=200000,snr_threshold=10.0, num_img=2, output_jsonfile='n_lensed_detectable_bns_O4psd_median.json', meta_data_file='n_lensed_detectable_bns_meta_O4psd_median.json', resume=True);"
   ]
  },
  {
   "cell_type": "code",
   "execution_count": 5,
   "metadata": {},
   "outputs": [
    {
     "data": {
      "image/png": "[encoded data removed]",
      "text/plain": [
       "<Figure size 600x400 with 1 Axes>"
      ]
     },
     "metadata": {},
     "output_type": "display_data"
    }
   ],
   "source": [
    "# let's see how rate varies with sampling size\n",
    "meta_data = get_param_from_json('ler_data/n_lensed_detectable_bns_meta_O4psd_median.json')\n",
    "# plot the rate vs sampling size\n",
    "plt.figure(figsize=(6,4))\n",
    "plt.plot(meta_data['events_total'], meta_data['total_rate'], 'o-')\n",
    "plt.xlabel('Sampling size')\n",
    "plt.ylabel('Rate (per year)')\n",
    "plt.title('Rate vs Sampling size')\n",
    "plt.grid(alpha=0.4)\n",
    "plt.show()"
   ]
  },
  {
   "cell_type": "code",
   "execution_count": 6,
   "metadata": {},
   "outputs": [
    {
     "name": "stdout",
     "output_type": "stream",
     "text": [
      "Rate (per year) = 0.008839766351241618\n"
     ]
    }
   ],
   "source": [
    "# select only events after sampling size of \n",
    "idx = np.where(meta_data['events_total'] > 0.8e6)[0]\n",
    "# take average \n",
    "rate_lensed_median = np.mean(meta_data['total_rate'][idx])\n",
    "print('Rate (per year) =', rate_lensed_median)"
   ]
  },
  {
   "cell_type": "code",
   "execution_count": 12,
   "metadata": {},
   "outputs": [
    {
     "data": {
      "text/plain": [
       "(387.69942598370363, 3.427172340206434, 0.008839766351241618)"
      ]
     },
     "execution_count": 12,
     "metadata": {},
     "output_type": "execute_result"
    }
   ],
   "source": [
    "rate_unlensed_median/rate_lensed_median, rate_unlensed_median, rate_lensed_median"
   ]
  },
  {
   "cell_type": "markdown",
   "metadata": {},
   "source": [
    "## LOW"
   ]
  },
  {
   "cell_type": "code",
   "execution_count": 28,
   "metadata": {},
   "outputs": [],
   "source": [
    "ler = LeR(npool=8,\n",
    "          verbose=False, \n",
    "          event_type='BNS',\n",
    "          source_priors= {'merger_rate_density': 'merger_rate_density_bbh_popI_II_oguri2018'},\n",
    "          source_priors_params= {'merger_rate_density': {'R0': (10.55-8.39)*1e-08, 'b2': 1.6, 'b3': 2.0, 'b4': 30}},\n",
    "          mtot_max=51, \n",
    "          z_max=5,\n",
    "          psds={'L1':'o4_psd.txt', 'H1':'o4_psd.txt'},\n",
    "          snr_type=\"interpolation\",\n",
    "          )"
   ]
  },
  {
   "cell_type": "code",
   "execution_count": 29,
   "metadata": {},
   "outputs": [
    {
     "name": "stdout",
     "output_type": "stream",
     "text": [
      "removing ./ler_data/n_unlensed_detectable_bns_O4psd_low.json and ./ler_data/n_unlensed_detectable_bns_meta_O4psd_low.json if they exist\n",
      "collected number of detectable events =  0\n",
      "given detectability_condition == 'step_function'\n",
      "collected number of detectable events =  1\n",
      "total number of events =  200000\n",
      "total rate (yr^-1): 0.42297925914164175\n",
      "given detectability_condition == 'step_function'\n",
      "collected number of detectable events =  2\n",
      "total number of events =  400000\n",
      "total rate (yr^-1): 0.42297925914164175\n",
      "given detectability_condition == 'step_function'\n",
      "collected number of detectable events =  7\n",
      "total number of events =  600000\n",
      "total rate (yr^-1): 0.9869516046638308\n",
      "given detectability_condition == 'step_function'\n",
      "collected number of detectable events =  11\n",
      "total number of events =  800000\n",
      "total rate (yr^-1): 1.1631929626395148\n",
      "given detectability_condition == 'step_function'\n",
      "collected number of detectable events =  11\n",
      "total number of events =  1000000\n",
      "total rate (yr^-1): 0.9305543701116118\n",
      "given detectability_condition == 'step_function'\n",
      "collected number of detectable events =  15\n",
      "total number of events =  1200000\n",
      "total rate (yr^-1): 1.0574481478541045\n",
      "given detectability_condition == 'step_function'\n",
      "collected number of detectable events =  16\n",
      "total number of events =  1400000\n",
      "total rate (yr^-1): 0.9668097351808954\n",
      "given detectability_condition == 'step_function'\n",
      "collected number of detectable events =  16\n",
      "total number of events =  1600000\n",
      "total rate (yr^-1): 0.8459585182832835\n",
      "given detectability_condition == 'step_function'\n",
      "collected number of detectable events =  18\n",
      "total number of events =  1800000\n",
      "total rate (yr^-1): 0.8459585182832835\n",
      "given detectability_condition == 'step_function'\n",
      "collected number of detectable events =  19\n",
      "total number of events =  2000000\n",
      "total rate (yr^-1): 0.8036605923691192\n",
      "given detectability_condition == 'step_function'\n",
      "collected number of detectable events =  21\n",
      "total number of events =  2200000\n",
      "total rate (yr^-1): 0.807505858361316\n",
      "given detectability_condition == 'step_function'\n",
      "collected number of detectable events =  24\n",
      "total number of events =  2400000\n",
      "total rate (yr^-1): 0.8459585182832835\n",
      "given detectability_condition == 'step_function'\n",
      "collected number of detectable events =  24\n",
      "total number of events =  2600000\n",
      "total rate (yr^-1): 0.7808847861076463\n",
      "given detectability_condition == 'step_function'\n",
      "collected number of detectable events =  27\n",
      "total number of events =  2800000\n",
      "total rate (yr^-1): 0.8157457140588805\n",
      "given detectability_condition == 'step_function'\n",
      "collected number of detectable events =  31\n",
      "total number of events =  3000000\n",
      "total rate (yr^-1): 0.8741571355593929\n",
      "given detectability_condition == 'step_function'\n",
      "collected number of detectable events =  32\n",
      "total number of events =  3200000\n",
      "total rate (yr^-1): 0.8459585182832835\n",
      "given detectability_condition == 'step_function'\n",
      "collected number of detectable events =  34\n",
      "total number of events =  3400000\n",
      "total rate (yr^-1): 0.8459585182832835\n",
      "given detectability_condition == 'step_function'\n",
      "collected number of detectable events =  37\n",
      "total number of events =  3600000\n",
      "total rate (yr^-1): 0.8694573660133746\n",
      "given detectability_condition == 'step_function'\n",
      "collected number of detectable events =  38\n",
      "total number of events =  3800000\n",
      "total rate (yr^-1): 0.8459585182832835\n",
      "given detectability_condition == 'step_function'\n",
      "collected number of detectable events =  39\n",
      "total number of events =  4000000\n",
      "total rate (yr^-1): 0.8248095553262014\n",
      "given detectability_condition == 'step_function'\n",
      "collected number of detectable events =  42\n",
      "total number of events =  4200000\n",
      "total rate (yr^-1): 0.8459585182832835\n",
      "given detectability_condition == 'step_function'\n",
      "collected number of detectable events =  44\n",
      "total number of events =  4400000\n",
      "total rate (yr^-1): 0.8459585182832834\n",
      "given detectability_condition == 'step_function'\n",
      "collected number of detectable events =  44\n",
      "total number of events =  4600000\n",
      "total rate (yr^-1): 0.809177713140532\n",
      "given detectability_condition == 'step_function'\n",
      "collected number of detectable events =  46\n",
      "total number of events =  4800000\n",
      "total rate (yr^-1): 0.8107102466881466\n",
      "given detectability_condition == 'step_function'\n",
      "collected number of detectable events =  48\n",
      "total number of events =  5000000\n",
      "total rate (yr^-1): 0.8121201775519522\n",
      "given detectability_condition == 'step_function'\n",
      "collected number of detectable events =  48\n",
      "total number of events =  5200000\n",
      "total rate (yr^-1): 0.7808847861076463\n",
      "given detectability_condition == 'step_function'\n",
      "collected number of detectable events =  49\n",
      "total number of events =  5400000\n",
      "total rate (yr^-1): 0.7676290258496462\n",
      "given detectability_condition == 'step_function'\n",
      "collected number of detectable events =  51\n",
      "total number of events =  5600000\n",
      "total rate (yr^-1): 0.770426507722276\n",
      "given detectability_condition == 'step_function'\n",
      "collected number of detectable events =  51\n",
      "total number of events =  5800000\n",
      "total rate (yr^-1): 0.743860076421508\n",
      "given detectability_condition == 'step_function'\n",
      "collected number of detectable events =  51\n",
      "total number of events =  6000000\n",
      "total rate (yr^-1): 0.719064740540791\n",
      "given detectability_condition == 'step_function'\n",
      "collected number of detectable events =  53\n",
      "total number of events =  6200000\n",
      "total rate (yr^-1): 0.7231580882099037\n",
      "given detectability_condition == 'step_function'\n",
      "collected number of detectable events =  54\n",
      "total number of events =  6400000\n",
      "total rate (yr^-1): 0.7137774998015205\n",
      "given detectability_condition == 'step_function'\n",
      "collected number of detectable events =  57\n",
      "total number of events =  6600000\n",
      "total rate (yr^-1): 0.7306005385173812\n",
      "given detectability_condition == 'step_function'\n",
      "collected number of detectable events =  57\n",
      "total number of events =  6800000\n",
      "total rate (yr^-1): 0.709112287384517\n",
      "given detectability_condition == 'step_function'\n",
      "collected number of detectable events =  60\n",
      "total number of events =  7000000\n",
      "total rate (yr^-1): 0.7251073013856716\n",
      "given detectability_condition == 'step_function'\n",
      "collected number of detectable events =  61\n",
      "total number of events =  7200000\n",
      "total rate (yr^-1): 0.7167148557677818\n",
      "given detectability_condition == 'step_function'\n",
      "collected number of detectable events =  66\n",
      "total number of events =  7400000\n",
      "total rate (yr^-1): 0.7545035433337394\n",
      "given detectability_condition == 'step_function'\n",
      "collected number of detectable events =  68\n",
      "total number of events =  7600000\n",
      "total rate (yr^-1): 0.7569102532008326\n",
      "given detectability_condition == 'step_function'\n",
      "collected number of detectable events =  70\n",
      "total number of events =  7800000\n",
      "total rate (yr^-1): 0.7591935420491005\n",
      "given detectability_condition == 'step_function'\n",
      "collected number of detectable events =  72\n",
      "total number of events =  8000000\n",
      "total rate (yr^-1): 0.7613626664549551\n",
      "given detectability_condition == 'step_function'\n",
      "collected number of detectable events =  72\n",
      "total number of events =  8200000\n",
      "total rate (yr^-1): 0.7427928453219075\n",
      "given detectability_condition == 'step_function'\n",
      "collected number of detectable events =  72\n",
      "total number of events =  8400000\n",
      "total rate (yr^-1): 0.7251073013856716\n",
      "given detectability_condition == 'step_function'\n",
      "collected number of detectable events =  73\n",
      "total number of events =  8600000\n",
      "total rate (yr^-1): 0.7180810678451127\n",
      "given detectability_condition == 'step_function'\n",
      "collected number of detectable events =  75\n",
      "total number of events =  8800000\n",
      "total rate (yr^-1): 0.7209873735368894\n",
      "given detectability_condition == 'step_function'\n",
      "collected number of detectable events =  77\n",
      "total number of events =  9000000\n",
      "total rate (yr^-1): 0.7237645100868092\n",
      "given detectability_condition == 'step_function'\n",
      "collected number of detectable events =  79\n",
      "total number of events =  9200000\n",
      "total rate (yr^-1): 0.7264209015693412\n",
      "given detectability_condition == 'step_function'\n",
      "collected number of detectable events =  79\n",
      "total number of events =  9400000\n",
      "total rate (yr^-1): 0.7109651377061638\n",
      "given detectability_condition == 'step_function'\n",
      "collected number of detectable events =  80\n",
      "total number of events =  9600000\n",
      "total rate (yr^-1): 0.7049654319027362\n",
      "given detectability_condition == 'step_function'\n",
      "collected number of detectable events =  82\n",
      "total number of events =  9800000\n",
      "total rate (yr^-1): 0.7078428418288698\n",
      "given detectability_condition == 'step_function'\n",
      "collected number of detectable events =  83\n",
      "total number of events =  10000000\n",
      "total rate (yr^-1): 0.7021455701751252\n",
      "given detectability_condition == 'step_function'\n",
      "collected number of detectable events =  86\n",
      "total number of events =  10200000\n",
      "total rate (yr^-1): 0.7132591428662978\n",
      "given detectability_condition == 'step_function'\n",
      "collected number of detectable events =  90\n",
      "total number of events =  10400000\n",
      "total rate (yr^-1): 0.7320794869759184\n",
      "given detectability_condition == 'step_function'\n",
      "collected number of detectable events =  93\n",
      "total number of events =  10600000\n",
      "total rate (yr^-1): 0.7422088886825033\n",
      "given detectability_condition == 'step_function'\n",
      "collected number of detectable events =  95\n",
      "total number of events =  10800000\n",
      "total rate (yr^-1): 0.7441301781195548\n",
      "given detectability_condition == 'step_function'\n",
      "collected number of detectable events =  97\n",
      "total number of events =  11000000\n",
      "total rate (yr^-1): 0.7459816024861682\n",
      "given detectability_condition == 'step_function'\n",
      "collected number of detectable events =  99\n",
      "total number of events =  11200000\n",
      "total rate (yr^-1): 0.7477669045539739\n",
      "given detectability_condition == 'step_function'\n",
      "collected number of detectable events =  100\n",
      "total number of events =  11400000\n",
      "total rate (yr^-1): 0.7420688756870908\n",
      "given detectability_condition == 'step_function'\n",
      "collected number of detectable events =  102\n",
      "total number of events =  11600000\n",
      "total rate (yr^-1): 0.743860076421508\n",
      "given detectability_condition == 'step_function'\n",
      "collected number of detectable events =  104\n",
      "total number of events =  11800000\n",
      "total rate (yr^-1): 0.7455905584869618\n",
      "given detectability_condition == 'step_function'\n",
      "collected number of detectable events =  105\n",
      "total number of events =  12000000\n",
      "total rate (yr^-1): 0.740213703497873\n",
      "given detectability_condition == 'step_function'\n",
      "collected number of detectable events =  109\n",
      "total number of events =  12200000\n",
      "total rate (yr^-1): 0.7558153974826057\n",
      "given detectability_condition == 'step_function'\n",
      "collected number of detectable events =  113\n",
      "total number of events =  12400000\n",
      "total rate (yr^-1): 0.7709138110162179\n",
      "given detectability_condition == 'step_function'\n",
      "collected number of detectable events =  115\n",
      "total number of events =  12600000\n",
      "total rate (yr^-1): 0.7721049968458539\n",
      "given detectability_condition == 'step_function'\n",
      "collected number of detectable events =  120\n",
      "total number of events =  12800000\n",
      "total rate (yr^-1): 0.7930861108905782\n",
      "given detectability_condition == 'step_function'\n",
      "collected number of detectable events =  124\n",
      "total number of events =  13000000\n",
      "total rate (yr^-1): 0.8069142789779011\n",
      "given detectability_condition == 'step_function'\n",
      "collected number of detectable events =  126\n",
      "total number of events =  13200000\n",
      "total rate (yr^-1): 0.807505858361316\n",
      "given detectability_condition == 'step_function'\n",
      "collected number of detectable events =  126\n",
      "total number of events =  13400000\n",
      "total rate (yr^-1): 0.7954535321171173\n",
      "given detectability_condition == 'step_function'\n",
      "collected number of detectable events =  128\n",
      "total number of events =  13600000\n",
      "total rate (yr^-1): 0.7961962525019138\n",
      "given detectability_condition == 'step_function'\n",
      "collected number of detectable events =  130\n",
      "total number of events =  13800000\n",
      "total rate (yr^-1): 0.7969174447596149\n",
      "given detectability_condition == 'step_function'\n",
      "collected number of detectable events =  131\n",
      "total number of events =  14000000\n",
      "total rate (yr^-1): 0.7915754706793582\n",
      "given detectability_condition == 'step_function'\n",
      "collected number of detectable events =  133\n",
      "total number of events =  14200000\n",
      "total rate (yr^-1): 0.7923414290963149\n",
      "given detectability_condition == 'step_function'\n",
      "collected number of detectable events =  136\n",
      "total number of events =  14400000\n",
      "total rate (yr^-1): 0.7989608228231011\n",
      "given detectability_condition == 'step_function'\n",
      "collected number of detectable events =  139\n",
      "total number of events =  14600000\n",
      "total rate (yr^-1): 0.8053988632970988\n",
      "given detectability_condition == 'step_function'\n",
      "collected number of detectable events =  141\n",
      "total number of events =  14800000\n",
      "total rate (yr^-1): 0.8059469667428579\n",
      "given detectability_condition == 'step_function'\n",
      "collected number of detectable events =  143\n",
      "total number of events =  15000000\n",
      "total rate (yr^-1): 0.8064804540967303\n",
      "given detectability_condition == 'step_function'\n",
      "collected number of detectable events =  145\n",
      "total number of events =  15200000\n",
      "total rate (yr^-1): 0.8069999023097113\n",
      "given detectability_condition == 'step_function'\n",
      "collected number of detectable events =  147\n",
      "total number of events =  15400000\n",
      "total rate (yr^-1): 0.807505858361316\n",
      "given detectability_condition == 'step_function'\n",
      "collected number of detectable events =  149\n",
      "total number of events =  15600000\n",
      "total rate (yr^-1): 0.8079988411808285\n",
      "given detectability_condition == 'step_function'\n",
      "collected number of detectable events =  149\n",
      "total number of events =  15800000\n",
      "total rate (yr^-1): 0.7977710077481598\n",
      "given detectability_condition == 'step_function'\n",
      "collected number of detectable events =  152\n",
      "total number of events =  16000000\n",
      "total rate (yr^-1): 0.8036605923691192\n",
      "given detectability_condition == 'step_function'\n",
      "collected number of detectable events =  154\n",
      "total number of events =  16200000\n",
      "total rate (yr^-1): 0.8041827889853436\n",
      "given detectability_condition == 'step_function'\n",
      "collected number of detectable events =  157\n",
      "total number of events =  16400000\n",
      "total rate (yr^-1): 0.8098505327468019\n",
      "given detectability_condition == 'step_function'\n",
      "collected number of detectable events =  158\n",
      "total number of events =  16600000\n",
      "total rate (yr^-1): 0.8051894330648119\n",
      "given detectability_condition == 'step_function'\n",
      "collected number of detectable events =  160\n",
      "total number of events =  16800000\n",
      "total rate (yr^-1): 0.8056747793174128\n",
      "given detectability_condition == 'step_function'\n",
      "collected number of detectable events =  162\n",
      "total number of events =  17000000\n",
      "total rate (yr^-1): 0.8061487056581877\n",
      "given detectability_condition == 'step_function'\n",
      "collected number of detectable events =  163\n",
      "total number of events =  17200000\n",
      "total rate (yr^-1): 0.8016932469777629\n",
      "given detectability_condition == 'step_function'\n",
      "collected number of detectable events =  164\n",
      "total number of events =  17400000\n",
      "total rate (yr^-1): 0.7973402126348189\n",
      "given detectability_condition == 'step_function'\n",
      "collected number of detectable events =  166\n",
      "total number of events =  17600000\n",
      "total rate (yr^-1): 0.7978926933808241\n",
      "given detectability_condition == 'step_function'\n",
      "collected number of detectable events =  168\n",
      "total number of events =  17800000\n",
      "total rate (yr^-1): 0.7984327588291664\n",
      "given detectability_condition == 'step_function'\n",
      "collected number of detectable events =  170\n",
      "total number of events =  18000000\n",
      "total rate (yr^-1): 0.798960822823101\n",
      "given detectability_condition == 'step_function'\n",
      "collected number of detectable events =  172\n",
      "total number of events =  18200000\n",
      "total rate (yr^-1): 0.7994772810149712\n",
      "given detectability_condition == 'step_function'\n",
      "collected number of detectable events =  172\n",
      "total number of events =  18400000\n",
      "total rate (yr^-1): 0.7907873105691563\n",
      "given detectability_condition == 'step_function'\n",
      "collected number of detectable events =  175\n",
      "total number of events =  18600000\n",
      "total rate (yr^-1): 0.7959287134385732\n",
      "given detectability_condition == 'step_function'\n",
      "collected number of detectable events =  176\n",
      "total number of events =  18800000\n",
      "total rate (yr^-1): 0.7919611660524356\n"
     ]
    },
    {
     "ename": "SystemError",
     "evalue": "CPUDispatcher(<function get_interpolated_snr at 0x33defaef0>) returned a result with an exception set",
     "output_type": "error",
     "traceback": [
      "\u001b[0;31m---------------------------------------------------------------------------\u001b[0m",
      "\u001b[0;31mKeyboardInterrupt\u001b[0m                         Traceback (most recent call last)",
      "File \u001b[0;32m~/anaconda3/envs/ler/lib/python3.10/site-packages/numba/core/serialize.py:30\u001b[0m, in \u001b[0;36m_numba_unpickle\u001b[0;34m(address, bytedata, hashed)\u001b[0m\n\u001b[1;32m     27\u001b[0m _unpickled_memo \u001b[38;5;241m=\u001b[39m {}\n\u001b[0;32m---> 30\u001b[0m \u001b[38;5;28;01mdef\u001b[39;00m \u001b[38;5;21m_numba_unpickle\u001b[39m(address, bytedata, hashed):\n\u001b[1;32m     31\u001b[0m \u001b[38;5;250m    \u001b[39m\u001b[38;5;124;03m\"\"\"Used by `numba_unpickle` from _helperlib.c\u001b[39;00m\n\u001b[1;32m     32\u001b[0m \n\u001b[1;32m     33\u001b[0m \u001b[38;5;124;03m    Parameters\u001b[39;00m\n\u001b[0;32m   (...)\u001b[0m\n\u001b[1;32m     42\u001b[0m \u001b[38;5;124;03m        unpickled object\u001b[39;00m\n\u001b[1;32m     43\u001b[0m \u001b[38;5;124;03m    \"\"\"\u001b[39;00m\n",
      "\u001b[0;31mKeyboardInterrupt\u001b[0m: ",
      "\nThe above exception was the direct cause of the following exception:\n",
      "\u001b[0;31mSystemError\u001b[0m                               Traceback (most recent call last)",
      "\u001b[0;31mSystemError\u001b[0m: _PyEval_EvalFrameDefault returned a result with an exception set",
      "\nThe above exception was the direct cause of the following exception:\n",
      "\u001b[0;31mSystemError\u001b[0m                               Traceback (most recent call last)",
      "\u001b[0;31mSystemError\u001b[0m: _PyEval_EvalFrameDefault returned a result with an exception set",
      "\nThe above exception was the direct cause of the following exception:\n",
      "\u001b[0;31mSystemError\u001b[0m                               Traceback (most recent call last)",
      "\u001b[0;31mSystemError\u001b[0m: _PyEval_EvalFrameDefault returned a result with an exception set",
      "\nThe above exception was the direct cause of the following exception:\n",
      "\u001b[0;31mSystemError\u001b[0m                               Traceback (most recent call last)",
      "Cell \u001b[0;32mIn[29], line 2\u001b[0m\n\u001b[1;32m      1\u001b[0m \u001b[38;5;66;03m# snr_cut=8.0\u001b[39;00m\n\u001b[0;32m----> 2\u001b[0m \u001b[43mler\u001b[49m\u001b[38;5;241;43m.\u001b[39;49m\u001b[43mselecting_n_unlensed_detectable_events\u001b[49m\u001b[43m(\u001b[49m\u001b[43msize\u001b[49m\u001b[38;5;241;43m=\u001b[39;49m\u001b[38;5;241;43m500\u001b[39;49m\u001b[43m,\u001b[49m\u001b[43m \u001b[49m\u001b[43mbatch_size\u001b[49m\u001b[38;5;241;43m=\u001b[39;49m\u001b[38;5;241;43m200000\u001b[39;49m\u001b[43m,\u001b[49m\u001b[43msnr_threshold\u001b[49m\u001b[38;5;241;43m=\u001b[39;49m\u001b[38;5;241;43m8.0\u001b[39;49m\u001b[43m,\u001b[49m\u001b[43m \u001b[49m\u001b[43moutput_jsonfile\u001b[49m\u001b[38;5;241;43m=\u001b[39;49m\u001b[38;5;124;43m'\u001b[39;49m\u001b[38;5;124;43mn_unlensed_detectable_bns_O4psd_low.json\u001b[39;49m\u001b[38;5;124;43m'\u001b[39;49m\u001b[43m,\u001b[49m\u001b[43m \u001b[49m\u001b[43mmeta_data_file\u001b[49m\u001b[38;5;241;43m=\u001b[39;49m\u001b[38;5;124;43m'\u001b[39;49m\u001b[38;5;124;43mn_unlensed_detectable_bns_meta_O4psd_low.json\u001b[39;49m\u001b[38;5;124;43m'\u001b[39;49m\u001b[43m,\u001b[49m\u001b[43m \u001b[49m\u001b[43mresume\u001b[49m\u001b[38;5;241;43m=\u001b[39;49m\u001b[38;5;28;43;01mFalse\u001b[39;49;00m\u001b[43m)\u001b[49m\n",
      "File \u001b[0;32m~/phd/mypackages/ler/ler/rates/ler.py:1872\u001b[0m, in \u001b[0;36mLeR.selecting_n_unlensed_detectable_events\u001b[0;34m(self, size, batch_size, snr_threshold, pdet_threshold, resume, output_jsonfile, meta_data_file, detectability_condition, trim_to_size, snr_recalculation, snr_threshold_recalculation)\u001b[0m\n\u001b[1;32m   1870\u001b[0m \u001b[38;5;28;01mwith\u001b[39;00m contextlib\u001b[38;5;241m.\u001b[39mredirect_stdout(\u001b[38;5;28;01mNone\u001b[39;00m):\n\u001b[1;32m   1871\u001b[0m     \u001b[38;5;28mself\u001b[39m\u001b[38;5;241m.\u001b[39mdict_buffer \u001b[38;5;241m=\u001b[39m \u001b[38;5;28;01mNone\u001b[39;00m  \u001b[38;5;66;03m# this is used to store the sampled unlensed_param in batches when running the sampling_routine\u001b[39;00m\n\u001b[0;32m-> 1872\u001b[0m     unlensed_param \u001b[38;5;241m=\u001b[39m \u001b[38;5;28;43mself\u001b[39;49m\u001b[38;5;241;43m.\u001b[39;49m\u001b[43munlensed_sampling_routine\u001b[49m\u001b[43m(\u001b[49m\n\u001b[1;32m   1873\u001b[0m \u001b[43m        \u001b[49m\u001b[43msize\u001b[49m\u001b[38;5;241;43m=\u001b[39;49m\u001b[43mbatch_size\u001b[49m\u001b[43m,\u001b[49m\u001b[43m \u001b[49m\u001b[43moutput_jsonfile\u001b[49m\u001b[38;5;241;43m=\u001b[39;49m\u001b[43mbuffer_file\u001b[49m\u001b[43m,\u001b[49m\u001b[43m \u001b[49m\u001b[43msave_batch\u001b[49m\u001b[38;5;241;43m=\u001b[39;49m\u001b[38;5;28;43;01mFalse\u001b[39;49;00m\u001b[43m,\u001b[49m\u001b[43mresume\u001b[49m\u001b[38;5;241;43m=\u001b[39;49m\u001b[38;5;28;43;01mFalse\u001b[39;49;00m\n\u001b[1;32m   1874\u001b[0m \u001b[43m    \u001b[49m\u001b[43m)\u001b[49m\n\u001b[1;32m   1876\u001b[0m total_events_in_this_iteration \u001b[38;5;241m=\u001b[39m \u001b[38;5;28mlen\u001b[39m(unlensed_param[\u001b[38;5;124m\"\u001b[39m\u001b[38;5;124mzs\u001b[39m\u001b[38;5;124m\"\u001b[39m])\n\u001b[1;32m   1877\u001b[0m \u001b[38;5;66;03m# below is use when the snr is calculated with 'ann' method of `gwsnr`\u001b[39;00m\n",
      "File \u001b[0;32m~/phd/mypackages/ler/ler/rates/ler.py:970\u001b[0m, in \u001b[0;36mLeR.unlensed_sampling_routine\u001b[0;34m(self, size, output_jsonfile, resume, save_batch)\u001b[0m\n\u001b[1;32m    968\u001b[0m \u001b[38;5;28;01mif\u001b[39;00m \u001b[38;5;28mself\u001b[39m\u001b[38;5;241m.\u001b[39msnr:\n\u001b[1;32m    969\u001b[0m     \u001b[38;5;28mprint\u001b[39m(\u001b[38;5;124m\"\u001b[39m\u001b[38;5;124mcalculating snrs...\u001b[39m\u001b[38;5;124m\"\u001b[39m)\n\u001b[0;32m--> 970\u001b[0m     snrs \u001b[38;5;241m=\u001b[39m \u001b[38;5;28;43mself\u001b[39;49m\u001b[38;5;241;43m.\u001b[39;49m\u001b[43msnr\u001b[49m\u001b[43m(\u001b[49m\u001b[43mgw_param_dict\u001b[49m\u001b[38;5;241;43m=\u001b[39;49m\u001b[43munlensed_param\u001b[49m\u001b[43m)\u001b[49m\n\u001b[1;32m    971\u001b[0m     unlensed_param\u001b[38;5;241m.\u001b[39mupdate(snrs)\n\u001b[1;32m    972\u001b[0m \u001b[38;5;28;01melif\u001b[39;00m \u001b[38;5;28mself\u001b[39m\u001b[38;5;241m.\u001b[39mpdet:\n",
      "File \u001b[0;32m~/phd/mypackages/gwsnr/gwsnr/gwsnr.py:694\u001b[0m, in \u001b[0;36mGWSNR.snr\u001b[0;34m(self, mass_1, mass_2, luminosity_distance, theta_jn, psi, phase, geocent_time, ra, dec, a_1, a_2, tilt_1, tilt_2, phi_12, phi_jl, gw_param_dict, output_jsonfile)\u001b[0m\n\u001b[1;32m    691\u001b[0m     phi_jl \u001b[38;5;241m=\u001b[39m gw_param_dict\u001b[38;5;241m.\u001b[39mget(\u001b[38;5;124m\"\u001b[39m\u001b[38;5;124mphi_jl\u001b[39m\u001b[38;5;124m\"\u001b[39m, np\u001b[38;5;241m.\u001b[39mzeros(size))\n\u001b[1;32m    693\u001b[0m \u001b[38;5;28;01mif\u001b[39;00m \u001b[38;5;28mself\u001b[39m\u001b[38;5;241m.\u001b[39msnr_type \u001b[38;5;241m==\u001b[39m \u001b[38;5;124m\"\u001b[39m\u001b[38;5;124minterpolation\u001b[39m\u001b[38;5;124m\"\u001b[39m:\n\u001b[0;32m--> 694\u001b[0m     snr_dict \u001b[38;5;241m=\u001b[39m \u001b[38;5;28;43mself\u001b[39;49m\u001b[38;5;241;43m.\u001b[39;49m\u001b[43msnr_with_interpolation\u001b[49m\u001b[43m(\u001b[49m\n\u001b[1;32m    695\u001b[0m \u001b[43m        \u001b[49m\u001b[43mmass_1\u001b[49m\u001b[43m,\u001b[49m\n\u001b[1;32m    696\u001b[0m \u001b[43m        \u001b[49m\u001b[43mmass_2\u001b[49m\u001b[43m,\u001b[49m\n\u001b[1;32m    697\u001b[0m \u001b[43m        \u001b[49m\u001b[43mluminosity_distance\u001b[49m\u001b[38;5;241;43m=\u001b[39;49m\u001b[43mluminosity_distance\u001b[49m\u001b[43m,\u001b[49m\n\u001b[1;32m    698\u001b[0m \u001b[43m        \u001b[49m\u001b[43mtheta_jn\u001b[49m\u001b[38;5;241;43m=\u001b[39;49m\u001b[43mtheta_jn\u001b[49m\u001b[43m,\u001b[49m\n\u001b[1;32m    699\u001b[0m \u001b[43m        \u001b[49m\u001b[43mpsi\u001b[49m\u001b[38;5;241;43m=\u001b[39;49m\u001b[43mpsi\u001b[49m\u001b[43m,\u001b[49m\n\u001b[1;32m    700\u001b[0m \u001b[43m        \u001b[49m\u001b[43mphase\u001b[49m\u001b[38;5;241;43m=\u001b[39;49m\u001b[43mphase\u001b[49m\u001b[43m,\u001b[49m\n\u001b[1;32m    701\u001b[0m \u001b[43m        \u001b[49m\u001b[43mgeocent_time\u001b[49m\u001b[38;5;241;43m=\u001b[39;49m\u001b[43mgeocent_time\u001b[49m\u001b[43m,\u001b[49m\n\u001b[1;32m    702\u001b[0m \u001b[43m        \u001b[49m\u001b[43mra\u001b[49m\u001b[38;5;241;43m=\u001b[39;49m\u001b[43mra\u001b[49m\u001b[43m,\u001b[49m\n\u001b[1;32m    703\u001b[0m \u001b[43m        \u001b[49m\u001b[43mdec\u001b[49m\u001b[38;5;241;43m=\u001b[39;49m\u001b[43mdec\u001b[49m\u001b[43m,\u001b[49m\n\u001b[1;32m    704\u001b[0m \u001b[43m        \u001b[49m\u001b[43moutput_jsonfile\u001b[49m\u001b[38;5;241;43m=\u001b[39;49m\u001b[43moutput_jsonfile\u001b[49m\u001b[43m,\u001b[49m\n\u001b[1;32m    705\u001b[0m \u001b[43m    \u001b[49m\u001b[43m)\u001b[49m\n\u001b[1;32m    707\u001b[0m \u001b[38;5;28;01melif\u001b[39;00m \u001b[38;5;28mself\u001b[39m\u001b[38;5;241m.\u001b[39msnr_type \u001b[38;5;241m==\u001b[39m \u001b[38;5;124m\"\u001b[39m\u001b[38;5;124minner_product\u001b[39m\u001b[38;5;124m\"\u001b[39m:\n\u001b[1;32m    708\u001b[0m     \u001b[38;5;28mprint\u001b[39m(\u001b[38;5;124m\"\u001b[39m\u001b[38;5;124msolving SNR with inner product\u001b[39m\u001b[38;5;124m\"\u001b[39m)\n",
      "File \u001b[0;32m~/phd/mypackages/gwsnr/gwsnr/gwsnr.py:1061\u001b[0m, in \u001b[0;36mGWSNR.snr_with_interpolation\u001b[0;34m(self, mass_1, mass_2, luminosity_distance, theta_jn, psi, phase, geocent_time, ra, dec, output_jsonfile)\u001b[0m\n\u001b[1;32m   1054\u001b[0m size_ \u001b[38;5;241m=\u001b[39m \u001b[38;5;28mlen\u001b[39m(idx_tracker)\n\u001b[1;32m   1055\u001b[0m \u001b[38;5;66;03m# if size_ == 0:\u001b[39;00m\n\u001b[1;32m   1056\u001b[0m \u001b[38;5;66;03m#     raise ValueError(\u001b[39;00m\n\u001b[1;32m   1057\u001b[0m \u001b[38;5;66;03m#         \"mass_1 and mass_2 must be within the range of mtot_min and mtot_max\"\u001b[39;00m\n\u001b[1;32m   1058\u001b[0m \u001b[38;5;66;03m#     )\u001b[39;00m\n\u001b[1;32m   1059\u001b[0m \n\u001b[1;32m   1060\u001b[0m \u001b[38;5;66;03m# Get interpolated SNR\u001b[39;00m\n\u001b[0;32m-> 1061\u001b[0m snr, snr_effective, _, _ \u001b[38;5;241m=\u001b[39m \u001b[43mget_interpolated_snr\u001b[49m\u001b[43m(\u001b[49m\n\u001b[1;32m   1062\u001b[0m \u001b[43m    \u001b[49m\u001b[43mmass_1\u001b[49m\u001b[43m[\u001b[49m\u001b[43midx2\u001b[49m\u001b[43m]\u001b[49m\u001b[43m,\u001b[49m\n\u001b[1;32m   1063\u001b[0m \u001b[43m    \u001b[49m\u001b[43mmass_2\u001b[49m\u001b[43m[\u001b[49m\u001b[43midx2\u001b[49m\u001b[43m]\u001b[49m\u001b[43m,\u001b[49m\n\u001b[1;32m   1064\u001b[0m \u001b[43m    \u001b[49m\u001b[43mluminosity_distance\u001b[49m\u001b[43m[\u001b[49m\u001b[43midx2\u001b[49m\u001b[43m]\u001b[49m\u001b[43m,\u001b[49m\n\u001b[1;32m   1065\u001b[0m \u001b[43m    \u001b[49m\u001b[43mtheta_jn\u001b[49m\u001b[43m[\u001b[49m\u001b[43midx2\u001b[49m\u001b[43m]\u001b[49m\u001b[43m,\u001b[49m\n\u001b[1;32m   1066\u001b[0m \u001b[43m    \u001b[49m\u001b[43mpsi\u001b[49m\u001b[43m[\u001b[49m\u001b[43midx2\u001b[49m\u001b[43m]\u001b[49m\u001b[43m,\u001b[49m\n\u001b[1;32m   1067\u001b[0m \u001b[43m    \u001b[49m\u001b[43mgeocent_time\u001b[49m\u001b[43m[\u001b[49m\u001b[43midx2\u001b[49m\u001b[43m]\u001b[49m\u001b[43m,\u001b[49m\n\u001b[1;32m   1068\u001b[0m \u001b[43m    \u001b[49m\u001b[43mra\u001b[49m\u001b[43m[\u001b[49m\u001b[43midx2\u001b[49m\u001b[43m]\u001b[49m\u001b[43m,\u001b[49m\n\u001b[1;32m   1069\u001b[0m \u001b[43m    \u001b[49m\u001b[43mdec\u001b[49m\u001b[43m[\u001b[49m\u001b[43midx2\u001b[49m\u001b[43m]\u001b[49m\u001b[43m,\u001b[49m\n\u001b[1;32m   1070\u001b[0m \u001b[43m    \u001b[49m\u001b[43mdetector_tensor\u001b[49m\u001b[43m,\u001b[49m\n\u001b[1;32m   1071\u001b[0m \u001b[43m    \u001b[49m\u001b[43msnr_partialscaled\u001b[49m\u001b[43m,\u001b[49m\n\u001b[1;32m   1072\u001b[0m \u001b[43m    \u001b[49m\u001b[38;5;28;43mself\u001b[39;49m\u001b[38;5;241;43m.\u001b[39;49m\u001b[43mratio_arr\u001b[49m\u001b[43m,\u001b[49m\n\u001b[1;32m   1073\u001b[0m \u001b[43m    \u001b[49m\u001b[38;5;28;43mself\u001b[39;49m\u001b[38;5;241;43m.\u001b[39;49m\u001b[43mmtot_arr\u001b[49m\u001b[43m,\u001b[49m\n\u001b[1;32m   1074\u001b[0m \u001b[43m\u001b[49m\u001b[43m)\u001b[49m\n\u001b[1;32m   1076\u001b[0m \u001b[38;5;66;03m# Create optimal_snr dictionary using dictionary comprehension\u001b[39;00m\n\u001b[1;32m   1077\u001b[0m optimal_snr \u001b[38;5;241m=\u001b[39m {det: np\u001b[38;5;241m.\u001b[39mzeros(size) \u001b[38;5;28;01mfor\u001b[39;00m det \u001b[38;5;129;01min\u001b[39;00m detectors}\n",
      "\u001b[0;31mSystemError\u001b[0m: CPUDispatcher(<function get_interpolated_snr at 0x33defaef0>) returned a result with an exception set"
     ]
    }
   ],
   "source": [
    "# snr_cut=8.0\n",
    "ler.selecting_n_unlensed_detectable_events(size=500, batch_size=200000,snr_threshold=10.0, output_jsonfile='n_unlensed_detectable_bns_O4psd_low.json', meta_data_file='n_unlensed_detectable_bns_meta_O4psd_low.json', resume=False);"
   ]
  },
  {
   "cell_type": "code",
   "execution_count": 31,
   "metadata": {},
   "outputs": [
    {
     "data": {
      "image/png": "[encoded data removed]",
      "text/plain": [
       "<Figure size 600x400 with 1 Axes>"
      ]
     },
     "metadata": {},
     "output_type": "display_data"
    }
   ],
   "source": [
    "# let's see how rate varies with sampling size\n",
    "meta_data = get_param_from_json('ler_data/n_unlensed_detectable_bns_meta_O4psd_low.json')\n",
    "# plot the rate vs sampling size\n",
    "plt.figure(figsize=(6,4))\n",
    "plt.plot(meta_data['events_total'], meta_data['total_rate'], 'o-')\n",
    "plt.xlabel('Sampling size')\n",
    "plt.ylabel('Rate (per year)')\n",
    "plt.title('Rate vs Sampling size')\n",
    "plt.grid(alpha=0.4)\n",
    "plt.show()"
   ]
  },
  {
   "cell_type": "code",
   "execution_count": 32,
   "metadata": {},
   "outputs": [
    {
     "name": "stdout",
     "output_type": "stream",
     "text": [
      "Rate (per year) = 0.8014450867085529\n"
     ]
    }
   ],
   "source": [
    "# select only events after sampling size of \n",
    "idx = np.where(meta_data['events_total'] > 1.5e7)[0]\n",
    "# take average \n",
    "rate_unlensed = np.mean(meta_data['total_rate'][idx])\n",
    "print('Rate (per year) =', rate_unlensed)"
   ]
  },
  {
   "cell_type": "code",
   "execution_count": 25,
   "metadata": {},
   "outputs": [
    {
     "name": "stdout",
     "output_type": "stream",
     "text": [
      "collected number of detectable events =  9\n"
     ]
    },
    {
     "name": "stderr",
     "output_type": "stream",
     "text": [
      "100%|█████████████████████████████████████████████████████| 200000/200000 [00:45<00:00, 4417.10it/s]\n",
      "100%|█████████████████████████████████████████████████████████████████| 4/4 [00:00<00:00, 46.06it/s]\n"
     ]
    },
    {
     "name": "stdout",
     "output_type": "stream",
     "text": [
      "given detectability_condition == step_function\n",
      "collected number of detectable events =  11\n",
      "total number of events =  1000000\n",
      "total rate (yr^-1): 0.001759157877496366\n"
     ]
    },
    {
     "name": "stderr",
     "output_type": "stream",
     "text": [
      "100%|█████████████████████████████████████████████████████| 200000/200000 [00:45<00:00, 4438.24it/s]\n",
      "100%|█████████████████████████████████████████████████████████████████| 8/8 [00:00<00:00, 91.92it/s]\n"
     ]
    },
    {
     "name": "stdout",
     "output_type": "stream",
     "text": [
      "given detectability_condition == step_function\n",
      "collected number of detectable events =  14\n",
      "total number of events =  1200000\n",
      "total rate (yr^-1): 0.00186577350643554\n"
     ]
    },
    {
     "name": "stderr",
     "output_type": "stream",
     "text": [
      "100%|█████████████████████████████████████████████████████| 200000/200000 [00:45<00:00, 4432.09it/s]\n",
      "100%|██████████████████████████████████████████████████████████████| 11/11 [00:00<00:00, 125.49it/s]\n"
     ]
    },
    {
     "name": "stdout",
     "output_type": "stream",
     "text": [
      "given detectability_condition == step_function\n",
      "collected number of detectable events =  14\n",
      "total number of events =  1400000\n",
      "total rate (yr^-1): 0.0015992344340876056\n"
     ]
    },
    {
     "name": "stderr",
     "output_type": "stream",
     "text": [
      "100%|█████████████████████████████████████████████████████| 200000/200000 [00:45<00:00, 4417.44it/s]\n",
      "100%|█████████████████████████████████████████████████████████████████| 3/3 [00:00<00:00, 33.63it/s]\n"
     ]
    },
    {
     "name": "stdout",
     "output_type": "stream",
     "text": [
      "given detectability_condition == step_function\n",
      "collected number of detectable events =  17\n",
      "total number of events =  1600000\n",
      "total rate (yr^-1): 0.0016991865862180811\n"
     ]
    },
    {
     "name": "stderr",
     "output_type": "stream",
     "text": [
      "100%|█████████████████████████████████████████████████████| 200000/200000 [00:44<00:00, 4524.79it/s]\n",
      "100%|█████████████████████████████████████████████████████████████████| 3/3 [00:00<00:00, 32.68it/s]\n"
     ]
    },
    {
     "name": "stdout",
     "output_type": "stream",
     "text": [
      "given detectability_condition == step_function\n",
      "collected number of detectable events =  17\n",
      "total number of events =  1800000\n",
      "total rate (yr^-1): 0.0015103880766382943\n"
     ]
    },
    {
     "name": "stderr",
     "output_type": "stream",
     "text": [
      "100%|█████████████████████████████████████████████████████| 200000/200000 [00:44<00:00, 4530.07it/s]\n",
      "100%|█████████████████████████████████████████████████████████████████| 4/4 [00:00<00:00, 43.74it/s]\n"
     ]
    },
    {
     "name": "stdout",
     "output_type": "stream",
     "text": [
      "given detectability_condition == step_function\n",
      "collected number of detectable events =  17\n",
      "total number of events =  2000000\n",
      "total rate (yr^-1): 0.0013593492689744648\n"
     ]
    },
    {
     "name": "stderr",
     "output_type": "stream",
     "text": [
      "100%|█████████████████████████████████████████████████████| 200000/200000 [00:44<00:00, 4535.78it/s]\n",
      "100%|█████████████████████████████████████████████████████████████████| 6/6 [00:00<00:00, 70.56it/s]\n"
     ]
    },
    {
     "name": "stdout",
     "output_type": "stream",
     "text": [
      "given detectability_condition == step_function\n",
      "collected number of detectable events =  19\n",
      "total number of events =  2200000\n",
      "total rate (yr^-1): 0.0013811570112574776\n"
     ]
    },
    {
     "name": "stderr",
     "output_type": "stream",
     "text": [
      "100%|█████████████████████████████████████████████████████| 200000/200000 [00:44<00:00, 4528.91it/s]\n",
      "100%|██████████████████████████████████████████████████████████████| 10/10 [00:00<00:00, 114.96it/s]\n"
     ]
    },
    {
     "name": "stdout",
     "output_type": "stream",
     "text": [
      "given detectability_condition == step_function\n",
      "collected number of detectable events =  23\n",
      "total number of events =  2400000\n",
      "total rate (yr^-1): 0.001532599666000622\n"
     ]
    },
    {
     "name": "stderr",
     "output_type": "stream",
     "text": [
      "100%|█████████████████████████████████████████████████████| 200000/200000 [00:44<00:00, 4534.84it/s]\n",
      "100%|█████████████████████████████████████████████████████████████████| 7/7 [00:00<00:00, 76.01it/s]\n"
     ]
    },
    {
     "ename": "SystemError",
     "evalue": "CPUDispatcher(<function get_interpolated_snr at 0x339ffae60>) returned a result with an exception set",
     "output_type": "error",
     "traceback": [
      "\u001b[0;31m---------------------------------------------------------------------------\u001b[0m",
      "\u001b[0;31mKeyboardInterrupt\u001b[0m                         Traceback (most recent call last)",
      "File \u001b[0;32m~/anaconda3/envs/ler/lib/python3.10/site-packages/numba/core/serialize.py:30\u001b[0m, in \u001b[0;36m_numba_unpickle\u001b[0;34m(address, bytedata, hashed)\u001b[0m\n\u001b[1;32m     27\u001b[0m _unpickled_memo \u001b[38;5;241m=\u001b[39m {}\n\u001b[0;32m---> 30\u001b[0m \u001b[38;5;28;01mdef\u001b[39;00m \u001b[38;5;21m_numba_unpickle\u001b[39m(address, bytedata, hashed):\n\u001b[1;32m     31\u001b[0m \u001b[38;5;250m    \u001b[39m\u001b[38;5;124;03m\"\"\"Used by `numba_unpickle` from _helperlib.c\u001b[39;00m\n\u001b[1;32m     32\u001b[0m \n\u001b[1;32m     33\u001b[0m \u001b[38;5;124;03m    Parameters\u001b[39;00m\n\u001b[0;32m   (...)\u001b[0m\n\u001b[1;32m     42\u001b[0m \u001b[38;5;124;03m        unpickled object\u001b[39;00m\n\u001b[1;32m     43\u001b[0m \u001b[38;5;124;03m    \"\"\"\u001b[39;00m\n",
      "\u001b[0;31mKeyboardInterrupt\u001b[0m: ",
      "\nThe above exception was the direct cause of the following exception:\n",
      "\u001b[0;31mSystemError\u001b[0m                               Traceback (most recent call last)",
      "\u001b[0;31mSystemError\u001b[0m: _PyEval_EvalFrameDefault returned a result with an exception set",
      "\nThe above exception was the direct cause of the following exception:\n",
      "\u001b[0;31mSystemError\u001b[0m                               Traceback (most recent call last)",
      "\u001b[0;31mSystemError\u001b[0m: _PyEval_EvalFrameDefault returned a result with an exception set",
      "\nThe above exception was the direct cause of the following exception:\n",
      "\u001b[0;31mSystemError\u001b[0m                               Traceback (most recent call last)",
      "\u001b[0;31mSystemError\u001b[0m: _PyEval_EvalFrameDefault returned a result with an exception set",
      "\nThe above exception was the direct cause of the following exception:\n",
      "\u001b[0;31mSystemError\u001b[0m                               Traceback (most recent call last)",
      "Cell \u001b[0;32mIn[25], line 3\u001b[0m\n\u001b[1;32m      1\u001b[0m \u001b[38;5;66;03m# snr_cut=8.0\u001b[39;00m\n\u001b[1;32m      2\u001b[0m \u001b[38;5;66;03m# time will take long time sample\u001b[39;00m\n\u001b[0;32m----> 3\u001b[0m \u001b[43mler\u001b[49m\u001b[38;5;241;43m.\u001b[39;49m\u001b[43mselecting_n_lensed_detectable_events\u001b[49m\u001b[43m(\u001b[49m\u001b[43msize\u001b[49m\u001b[38;5;241;43m=\u001b[39;49m\u001b[38;5;241;43m1000\u001b[39;49m\u001b[43m,\u001b[49m\u001b[43m \u001b[49m\u001b[43mbatch_size\u001b[49m\u001b[38;5;241;43m=\u001b[39;49m\u001b[38;5;241;43m200000\u001b[39;49m\u001b[43m,\u001b[49m\u001b[43msnr_threshold\u001b[49m\u001b[38;5;241;43m=\u001b[39;49m\u001b[38;5;241;43m8.0\u001b[39;49m\u001b[43m,\u001b[49m\u001b[43m \u001b[49m\u001b[43mnum_img\u001b[49m\u001b[38;5;241;43m=\u001b[39;49m\u001b[38;5;241;43m2\u001b[39;49m\u001b[43m,\u001b[49m\u001b[43m \u001b[49m\u001b[43moutput_jsonfile\u001b[49m\u001b[38;5;241;43m=\u001b[39;49m\u001b[38;5;124;43m'\u001b[39;49m\u001b[38;5;124;43mn_lensed_detectable_bns_O4psd_low.json\u001b[39;49m\u001b[38;5;124;43m'\u001b[39;49m\u001b[43m,\u001b[49m\u001b[43m \u001b[49m\u001b[43mmeta_data_file\u001b[49m\u001b[38;5;241;43m=\u001b[39;49m\u001b[38;5;124;43m'\u001b[39;49m\u001b[38;5;124;43mn_lensed_detectable_bns_meta_O4psd_low.json\u001b[39;49m\u001b[38;5;124;43m'\u001b[39;49m\u001b[43m,\u001b[49m\u001b[43m \u001b[49m\u001b[43mresume\u001b[49m\u001b[38;5;241;43m=\u001b[39;49m\u001b[38;5;28;43;01mTrue\u001b[39;49;00m\u001b[43m)\u001b[49m\n",
      "File \u001b[0;32m~/phd/mypackages/ler/ler/rates/ler.py:2004\u001b[0m, in \u001b[0;36mLeR.selecting_n_lensed_detectable_events\u001b[0;34m(self, size, batch_size, snr_threshold, pdet_threshold, num_img, combine_image_snr, snr_cut_for_combine_image_snr, resume, detectability_condition, output_jsonfile, meta_data_file, trim_to_size, nan_to_num, snr_recalculation, snr_threshold_recalculation)\u001b[0m\n\u001b[1;32m   2002\u001b[0m \u001b[38;5;28;01mwith\u001b[39;00m contextlib\u001b[38;5;241m.\u001b[39mredirect_stdout(\u001b[38;5;28;01mNone\u001b[39;00m):\n\u001b[1;32m   2003\u001b[0m     \u001b[38;5;28mself\u001b[39m\u001b[38;5;241m.\u001b[39mdict_buffer \u001b[38;5;241m=\u001b[39m \u001b[38;5;28;01mNone\u001b[39;00m  \u001b[38;5;66;03m# this is used to store the sampled lensed_param in batches when running the sampling_routine\u001b[39;00m\n\u001b[0;32m-> 2004\u001b[0m     lensed_param \u001b[38;5;241m=\u001b[39m \u001b[38;5;28;43mself\u001b[39;49m\u001b[38;5;241;43m.\u001b[39;49m\u001b[43mlensed_sampling_routine\u001b[49m\u001b[43m(\u001b[49m\n\u001b[1;32m   2005\u001b[0m \u001b[43m        \u001b[49m\u001b[43msize\u001b[49m\u001b[38;5;241;43m=\u001b[39;49m\u001b[38;5;28;43mself\u001b[39;49m\u001b[38;5;241;43m.\u001b[39;49m\u001b[43mbatch_size\u001b[49m\u001b[43m,\u001b[49m\u001b[43m \u001b[49m\u001b[43moutput_jsonfile\u001b[49m\u001b[38;5;241;43m=\u001b[39;49m\u001b[43mbuffer_file\u001b[49m\u001b[43m,\u001b[49m\u001b[43m \u001b[49m\u001b[43mresume\u001b[49m\u001b[38;5;241;43m=\u001b[39;49m\u001b[38;5;28;43;01mFalse\u001b[39;49;00m\n\u001b[1;32m   2006\u001b[0m \u001b[43m    \u001b[49m\u001b[43m)\u001b[49m  \u001b[38;5;66;03m# Dimensions are (size, n_max_images)\u001b[39;00m\n\u001b[1;32m   2008\u001b[0m total_events_in_this_iteration \u001b[38;5;241m=\u001b[39m \u001b[38;5;28mlen\u001b[39m(lensed_param[\u001b[38;5;124m\"\u001b[39m\u001b[38;5;124mzs\u001b[39m\u001b[38;5;124m\"\u001b[39m])\n\u001b[1;32m   2010\u001b[0m \u001b[38;5;66;03m# Below code ensures that the snr is recalculated for the detectable events with inner product\u001b[39;00m\n\u001b[1;32m   2011\u001b[0m \u001b[38;5;66;03m# The code is use when the snr is calculated with 'ann' method of `gwsnr`\u001b[39;00m\n",
      "File \u001b[0;32m~/phd/mypackages/ler/ler/rates/ler.py:1379\u001b[0m, in \u001b[0;36mLeR.lensed_sampling_routine\u001b[0;34m(self, size, output_jsonfile, save_batch, resume)\u001b[0m\n\u001b[1;32m   1377\u001b[0m \u001b[38;5;28;01mif\u001b[39;00m \u001b[38;5;28mself\u001b[39m\u001b[38;5;241m.\u001b[39msnr:\n\u001b[1;32m   1378\u001b[0m     \u001b[38;5;28mprint\u001b[39m(\u001b[38;5;124m\"\u001b[39m\u001b[38;5;124mcalculating snrs...\u001b[39m\u001b[38;5;124m\"\u001b[39m)\n\u001b[0;32m-> 1379\u001b[0m     snrs, lensed_param \u001b[38;5;241m=\u001b[39m \u001b[38;5;28;43mself\u001b[39;49m\u001b[38;5;241;43m.\u001b[39;49m\u001b[43mget_lensed_snrs\u001b[49m\u001b[43m(\u001b[49m\n\u001b[1;32m   1380\u001b[0m \u001b[43m        \u001b[49m\u001b[43mlensed_param\u001b[49m\u001b[38;5;241;43m=\u001b[39;49m\u001b[43mlensed_param\u001b[49m\u001b[43m,\u001b[49m\n\u001b[1;32m   1381\u001b[0m \u001b[43m        \u001b[49m\u001b[43mlist_of_detectors\u001b[49m\u001b[38;5;241;43m=\u001b[39;49m\u001b[38;5;28;43mself\u001b[39;49m\u001b[38;5;241;43m.\u001b[39;49m\u001b[43mlist_of_detectors\u001b[49m\u001b[43m,\u001b[49m\n\u001b[1;32m   1382\u001b[0m \u001b[43m        \u001b[49m\u001b[43msnr_calculator\u001b[49m\u001b[38;5;241;43m=\u001b[39;49m\u001b[38;5;28;43mself\u001b[39;49m\u001b[38;5;241;43m.\u001b[39;49m\u001b[43msnr\u001b[49m\u001b[43m,\u001b[49m\n\u001b[1;32m   1383\u001b[0m \u001b[43m    \u001b[49m\u001b[43m)\u001b[49m\n\u001b[1;32m   1384\u001b[0m     lensed_param\u001b[38;5;241m.\u001b[39mupdate(snrs)\n\u001b[1;32m   1386\u001b[0m \u001b[38;5;28;01melif\u001b[39;00m \u001b[38;5;28mself\u001b[39m\u001b[38;5;241m.\u001b[39mpdet:\n",
      "File \u001b[0;32m~/phd/mypackages/ler/ler/image_properties/image_properties.py:473\u001b[0m, in \u001b[0;36mImageProperties.get_lensed_snrs\u001b[0;34m(self, lensed_param, list_of_detectors, snr_calculator, pdet_calculator)\u001b[0m\n\u001b[1;32m    470\u001b[0m \u001b[38;5;28;01mif\u001b[39;00m \u001b[38;5;28mlen\u001b[39m(effective_luminosity_distance) \u001b[38;5;241m!=\u001b[39m \u001b[38;5;241m0\u001b[39m:\n\u001b[1;32m    471\u001b[0m     \u001b[38;5;66;03m# Returns a dictionary\u001b[39;00m\n\u001b[1;32m    472\u001b[0m     \u001b[38;5;28;01mif\u001b[39;00m snr_calculator:\n\u001b[0;32m--> 473\u001b[0m         optimal_snr \u001b[38;5;241m=\u001b[39m \u001b[43msnr_calculator\u001b[49m\u001b[43m(\u001b[49m\n\u001b[1;32m    474\u001b[0m \u001b[43m            \u001b[49m\u001b[43mgw_param_dict\u001b[49m\u001b[38;5;241;43m=\u001b[39;49m\u001b[43m \u001b[49m\u001b[38;5;28;43mdict\u001b[39;49m\u001b[43m(\u001b[49m\n\u001b[1;32m    475\u001b[0m \u001b[43m                \u001b[49m\u001b[43mmass_1\u001b[49m\u001b[38;5;241;43m=\u001b[39;49m\u001b[43mmass_1\u001b[49m\u001b[43m[\u001b[49m\u001b[43midx\u001b[49m\u001b[43m]\u001b[49m\u001b[43m,\u001b[49m\n\u001b[1;32m    476\u001b[0m \u001b[43m                \u001b[49m\u001b[43mmass_2\u001b[49m\u001b[38;5;241;43m=\u001b[39;49m\u001b[43mmass_2\u001b[49m\u001b[43m[\u001b[49m\u001b[43midx\u001b[49m\u001b[43m]\u001b[49m\u001b[43m,\u001b[49m\n\u001b[1;32m    477\u001b[0m \u001b[43m                \u001b[49m\u001b[43mluminosity_distance\u001b[49m\u001b[38;5;241;43m=\u001b[39;49m\u001b[43meffective_luminosity_distance\u001b[49m\u001b[43m[\u001b[49m\u001b[43midx\u001b[49m\u001b[43m]\u001b[49m\u001b[43m,\u001b[49m\n\u001b[1;32m    478\u001b[0m \u001b[43m                \u001b[49m\u001b[43mtheta_jn\u001b[49m\u001b[38;5;241;43m=\u001b[39;49m\u001b[43mtheta_jn\u001b[49m\u001b[43m[\u001b[49m\u001b[43midx\u001b[49m\u001b[43m]\u001b[49m\u001b[43m,\u001b[49m\n\u001b[1;32m    479\u001b[0m \u001b[43m                \u001b[49m\u001b[43mpsi\u001b[49m\u001b[38;5;241;43m=\u001b[39;49m\u001b[43mpsi\u001b[49m\u001b[43m[\u001b[49m\u001b[43midx\u001b[49m\u001b[43m]\u001b[49m\u001b[43m,\u001b[49m\n\u001b[1;32m    480\u001b[0m \u001b[43m                \u001b[49m\u001b[43mphase\u001b[49m\u001b[38;5;241;43m=\u001b[39;49m\u001b[43mphase\u001b[49m\u001b[43m[\u001b[49m\u001b[43midx\u001b[49m\u001b[43m]\u001b[49m\u001b[43m,\u001b[49m\n\u001b[1;32m    481\u001b[0m \u001b[43m                \u001b[49m\u001b[43mgeocent_time\u001b[49m\u001b[38;5;241;43m=\u001b[39;49m\u001b[43meffective_geocent_time\u001b[49m\u001b[43m[\u001b[49m\u001b[43midx\u001b[49m\u001b[43m]\u001b[49m\u001b[43m,\u001b[49m\n\u001b[1;32m    482\u001b[0m \u001b[43m                \u001b[49m\u001b[43mra\u001b[49m\u001b[38;5;241;43m=\u001b[39;49m\u001b[43mra\u001b[49m\u001b[43m[\u001b[49m\u001b[43midx\u001b[49m\u001b[43m]\u001b[49m\u001b[43m,\u001b[49m\n\u001b[1;32m    483\u001b[0m \u001b[43m                \u001b[49m\u001b[43mdec\u001b[49m\u001b[38;5;241;43m=\u001b[39;49m\u001b[43mdec\u001b[49m\u001b[43m[\u001b[49m\u001b[43midx\u001b[49m\u001b[43m]\u001b[49m\u001b[43m,\u001b[49m\n\u001b[1;32m    484\u001b[0m \u001b[43m                \u001b[49m\u001b[43ma_1\u001b[49m\u001b[38;5;241;43m=\u001b[39;49m\u001b[43ma_1\u001b[49m\u001b[43m[\u001b[49m\u001b[43midx\u001b[49m\u001b[43m]\u001b[49m\u001b[43m,\u001b[49m\n\u001b[1;32m    485\u001b[0m \u001b[43m                \u001b[49m\u001b[43ma_2\u001b[49m\u001b[38;5;241;43m=\u001b[39;49m\u001b[43ma_2\u001b[49m\u001b[43m[\u001b[49m\u001b[43midx\u001b[49m\u001b[43m]\u001b[49m\u001b[43m,\u001b[49m\n\u001b[1;32m    486\u001b[0m \u001b[43m                \u001b[49m\u001b[43mtilt_1\u001b[49m\u001b[38;5;241;43m=\u001b[39;49m\u001b[43mtilt_1\u001b[49m\u001b[43m[\u001b[49m\u001b[43midx\u001b[49m\u001b[43m]\u001b[49m\u001b[43m,\u001b[49m\n\u001b[1;32m    487\u001b[0m \u001b[43m                \u001b[49m\u001b[43mtilt_2\u001b[49m\u001b[38;5;241;43m=\u001b[39;49m\u001b[43mtilt_2\u001b[49m\u001b[43m[\u001b[49m\u001b[43midx\u001b[49m\u001b[43m]\u001b[49m\u001b[43m,\u001b[49m\n\u001b[1;32m    488\u001b[0m \u001b[43m                \u001b[49m\u001b[43mphi_12\u001b[49m\u001b[38;5;241;43m=\u001b[39;49m\u001b[43mphi_12\u001b[49m\u001b[43m[\u001b[49m\u001b[43midx\u001b[49m\u001b[43m]\u001b[49m\u001b[43m,\u001b[49m\n\u001b[1;32m    489\u001b[0m \u001b[43m                \u001b[49m\u001b[43mphi_jl\u001b[49m\u001b[38;5;241;43m=\u001b[39;49m\u001b[43mphi_jl\u001b[49m\u001b[43m[\u001b[49m\u001b[43midx\u001b[49m\u001b[43m]\u001b[49m\u001b[43m,\u001b[49m\n\u001b[1;32m    490\u001b[0m \u001b[43m            \u001b[49m\u001b[43m)\u001b[49m\u001b[43m,\u001b[49m\n\u001b[1;32m    491\u001b[0m \u001b[43m            \u001b[49m\u001b[43moutput_jsonfile\u001b[49m\u001b[38;5;241;43m=\u001b[39;49m\u001b[38;5;28;43;01mFalse\u001b[39;49;00m\u001b[43m,\u001b[49m\n\u001b[1;32m    492\u001b[0m \u001b[43m        \u001b[49m\u001b[43m)\u001b[49m\n\u001b[1;32m    493\u001b[0m         result_dict[\u001b[38;5;124m\"\u001b[39m\u001b[38;5;124moptimal_snr_net\u001b[39m\u001b[38;5;124m\"\u001b[39m][idx, i] \u001b[38;5;241m=\u001b[39m optimal_snr[\u001b[38;5;124m\"\u001b[39m\u001b[38;5;124moptimal_snr_net\u001b[39m\u001b[38;5;124m\"\u001b[39m]\n\u001b[1;32m    495\u001b[0m         \u001b[38;5;28;01mif\u001b[39;00m list_of_detectors:\n",
      "File \u001b[0;32m~/phd/mypackages/gwsnr/gwsnr/gwsnr.py:694\u001b[0m, in \u001b[0;36mGWSNR.snr\u001b[0;34m(self, mass_1, mass_2, luminosity_distance, theta_jn, psi, phase, geocent_time, ra, dec, a_1, a_2, tilt_1, tilt_2, phi_12, phi_jl, gw_param_dict, output_jsonfile)\u001b[0m\n\u001b[1;32m    691\u001b[0m     phi_jl \u001b[38;5;241m=\u001b[39m gw_param_dict\u001b[38;5;241m.\u001b[39mget(\u001b[38;5;124m\"\u001b[39m\u001b[38;5;124mphi_jl\u001b[39m\u001b[38;5;124m\"\u001b[39m, np\u001b[38;5;241m.\u001b[39mzeros(size))\n\u001b[1;32m    693\u001b[0m \u001b[38;5;28;01mif\u001b[39;00m \u001b[38;5;28mself\u001b[39m\u001b[38;5;241m.\u001b[39msnr_type \u001b[38;5;241m==\u001b[39m \u001b[38;5;124m\"\u001b[39m\u001b[38;5;124minterpolation\u001b[39m\u001b[38;5;124m\"\u001b[39m:\n\u001b[0;32m--> 694\u001b[0m     snr_dict \u001b[38;5;241m=\u001b[39m \u001b[38;5;28;43mself\u001b[39;49m\u001b[38;5;241;43m.\u001b[39;49m\u001b[43msnr_with_interpolation\u001b[49m\u001b[43m(\u001b[49m\n\u001b[1;32m    695\u001b[0m \u001b[43m        \u001b[49m\u001b[43mmass_1\u001b[49m\u001b[43m,\u001b[49m\n\u001b[1;32m    696\u001b[0m \u001b[43m        \u001b[49m\u001b[43mmass_2\u001b[49m\u001b[43m,\u001b[49m\n\u001b[1;32m    697\u001b[0m \u001b[43m        \u001b[49m\u001b[43mluminosity_distance\u001b[49m\u001b[38;5;241;43m=\u001b[39;49m\u001b[43mluminosity_distance\u001b[49m\u001b[43m,\u001b[49m\n\u001b[1;32m    698\u001b[0m \u001b[43m        \u001b[49m\u001b[43mtheta_jn\u001b[49m\u001b[38;5;241;43m=\u001b[39;49m\u001b[43mtheta_jn\u001b[49m\u001b[43m,\u001b[49m\n\u001b[1;32m    699\u001b[0m \u001b[43m        \u001b[49m\u001b[43mpsi\u001b[49m\u001b[38;5;241;43m=\u001b[39;49m\u001b[43mpsi\u001b[49m\u001b[43m,\u001b[49m\n\u001b[1;32m    700\u001b[0m \u001b[43m        \u001b[49m\u001b[43mphase\u001b[49m\u001b[38;5;241;43m=\u001b[39;49m\u001b[43mphase\u001b[49m\u001b[43m,\u001b[49m\n\u001b[1;32m    701\u001b[0m \u001b[43m        \u001b[49m\u001b[43mgeocent_time\u001b[49m\u001b[38;5;241;43m=\u001b[39;49m\u001b[43mgeocent_time\u001b[49m\u001b[43m,\u001b[49m\n\u001b[1;32m    702\u001b[0m \u001b[43m        \u001b[49m\u001b[43mra\u001b[49m\u001b[38;5;241;43m=\u001b[39;49m\u001b[43mra\u001b[49m\u001b[43m,\u001b[49m\n\u001b[1;32m    703\u001b[0m \u001b[43m        \u001b[49m\u001b[43mdec\u001b[49m\u001b[38;5;241;43m=\u001b[39;49m\u001b[43mdec\u001b[49m\u001b[43m,\u001b[49m\n\u001b[1;32m    704\u001b[0m \u001b[43m        \u001b[49m\u001b[43moutput_jsonfile\u001b[49m\u001b[38;5;241;43m=\u001b[39;49m\u001b[43moutput_jsonfile\u001b[49m\u001b[43m,\u001b[49m\n\u001b[1;32m    705\u001b[0m \u001b[43m    \u001b[49m\u001b[43m)\u001b[49m\n\u001b[1;32m    707\u001b[0m \u001b[38;5;28;01melif\u001b[39;00m \u001b[38;5;28mself\u001b[39m\u001b[38;5;241m.\u001b[39msnr_type \u001b[38;5;241m==\u001b[39m \u001b[38;5;124m\"\u001b[39m\u001b[38;5;124minner_product\u001b[39m\u001b[38;5;124m\"\u001b[39m:\n\u001b[1;32m    708\u001b[0m     \u001b[38;5;28mprint\u001b[39m(\u001b[38;5;124m\"\u001b[39m\u001b[38;5;124msolving SNR with inner product\u001b[39m\u001b[38;5;124m\"\u001b[39m)\n",
      "File \u001b[0;32m~/phd/mypackages/gwsnr/gwsnr/gwsnr.py:1061\u001b[0m, in \u001b[0;36mGWSNR.snr_with_interpolation\u001b[0;34m(self, mass_1, mass_2, luminosity_distance, theta_jn, psi, phase, geocent_time, ra, dec, output_jsonfile)\u001b[0m\n\u001b[1;32m   1054\u001b[0m size_ \u001b[38;5;241m=\u001b[39m \u001b[38;5;28mlen\u001b[39m(idx_tracker)\n\u001b[1;32m   1055\u001b[0m \u001b[38;5;66;03m# if size_ == 0:\u001b[39;00m\n\u001b[1;32m   1056\u001b[0m \u001b[38;5;66;03m#     raise ValueError(\u001b[39;00m\n\u001b[1;32m   1057\u001b[0m \u001b[38;5;66;03m#         \"mass_1 and mass_2 must be within the range of mtot_min and mtot_max\"\u001b[39;00m\n\u001b[1;32m   1058\u001b[0m \u001b[38;5;66;03m#     )\u001b[39;00m\n\u001b[1;32m   1059\u001b[0m \n\u001b[1;32m   1060\u001b[0m \u001b[38;5;66;03m# Get interpolated SNR\u001b[39;00m\n\u001b[0;32m-> 1061\u001b[0m snr, snr_effective, _, _ \u001b[38;5;241m=\u001b[39m \u001b[43mget_interpolated_snr\u001b[49m\u001b[43m(\u001b[49m\n\u001b[1;32m   1062\u001b[0m \u001b[43m    \u001b[49m\u001b[43mmass_1\u001b[49m\u001b[43m[\u001b[49m\u001b[43midx2\u001b[49m\u001b[43m]\u001b[49m\u001b[43m,\u001b[49m\n\u001b[1;32m   1063\u001b[0m \u001b[43m    \u001b[49m\u001b[43mmass_2\u001b[49m\u001b[43m[\u001b[49m\u001b[43midx2\u001b[49m\u001b[43m]\u001b[49m\u001b[43m,\u001b[49m\n\u001b[1;32m   1064\u001b[0m \u001b[43m    \u001b[49m\u001b[43mluminosity_distance\u001b[49m\u001b[43m[\u001b[49m\u001b[43midx2\u001b[49m\u001b[43m]\u001b[49m\u001b[43m,\u001b[49m\n\u001b[1;32m   1065\u001b[0m \u001b[43m    \u001b[49m\u001b[43mtheta_jn\u001b[49m\u001b[43m[\u001b[49m\u001b[43midx2\u001b[49m\u001b[43m]\u001b[49m\u001b[43m,\u001b[49m\n\u001b[1;32m   1066\u001b[0m \u001b[43m    \u001b[49m\u001b[43mpsi\u001b[49m\u001b[43m[\u001b[49m\u001b[43midx2\u001b[49m\u001b[43m]\u001b[49m\u001b[43m,\u001b[49m\n\u001b[1;32m   1067\u001b[0m \u001b[43m    \u001b[49m\u001b[43mgeocent_time\u001b[49m\u001b[43m[\u001b[49m\u001b[43midx2\u001b[49m\u001b[43m]\u001b[49m\u001b[43m,\u001b[49m\n\u001b[1;32m   1068\u001b[0m \u001b[43m    \u001b[49m\u001b[43mra\u001b[49m\u001b[43m[\u001b[49m\u001b[43midx2\u001b[49m\u001b[43m]\u001b[49m\u001b[43m,\u001b[49m\n\u001b[1;32m   1069\u001b[0m \u001b[43m    \u001b[49m\u001b[43mdec\u001b[49m\u001b[43m[\u001b[49m\u001b[43midx2\u001b[49m\u001b[43m]\u001b[49m\u001b[43m,\u001b[49m\n\u001b[1;32m   1070\u001b[0m \u001b[43m    \u001b[49m\u001b[43mdetector_tensor\u001b[49m\u001b[43m,\u001b[49m\n\u001b[1;32m   1071\u001b[0m \u001b[43m    \u001b[49m\u001b[43msnr_partialscaled\u001b[49m\u001b[43m,\u001b[49m\n\u001b[1;32m   1072\u001b[0m \u001b[43m    \u001b[49m\u001b[38;5;28;43mself\u001b[39;49m\u001b[38;5;241;43m.\u001b[39;49m\u001b[43mratio_arr\u001b[49m\u001b[43m,\u001b[49m\n\u001b[1;32m   1073\u001b[0m \u001b[43m    \u001b[49m\u001b[38;5;28;43mself\u001b[39;49m\u001b[38;5;241;43m.\u001b[39;49m\u001b[43mmtot_arr\u001b[49m\u001b[43m,\u001b[49m\n\u001b[1;32m   1074\u001b[0m \u001b[43m\u001b[49m\u001b[43m)\u001b[49m\n\u001b[1;32m   1076\u001b[0m \u001b[38;5;66;03m# Create optimal_snr dictionary using dictionary comprehension\u001b[39;00m\n\u001b[1;32m   1077\u001b[0m optimal_snr \u001b[38;5;241m=\u001b[39m {det: np\u001b[38;5;241m.\u001b[39mzeros(size) \u001b[38;5;28;01mfor\u001b[39;00m det \u001b[38;5;129;01min\u001b[39;00m detectors}\n",
      "\u001b[0;31mSystemError\u001b[0m: CPUDispatcher(<function get_interpolated_snr at 0x339ffae60>) returned a result with an exception set"
     ]
    }
   ],
   "source": [
    "# snr_cut=8.0\n",
    "# time will take long time sample\n",
    "ler.selecting_n_lensed_detectable_events(size=1000, batch_size=200000,snr_threshold=10.0, num_img=2, output_jsonfile='n_lensed_detectable_bns_O4psd_low.json', meta_data_file='n_lensed_detectable_bns_meta_O4psd_low.json', resume=True)"
   ]
  },
  {
   "cell_type": "code",
   "execution_count": 33,
   "metadata": {},
   "outputs": [
    {
     "data": {
      "image/png": "[encoded data removed]",
      "text/plain": [
       "<Figure size 600x400 with 1 Axes>"
      ]
     },
     "metadata": {},
     "output_type": "display_data"
    }
   ],
   "source": [
    "# let's see how rate varies with sampling size\n",
    "meta_data = get_param_from_json('ler_data/n_lensed_detectable_bns_meta_O4psd_low.json')\n",
    "# plot the rate vs sampling size\n",
    "plt.figure(figsize=(6,4))\n",
    "plt.plot(meta_data['events_total'], meta_data['total_rate'], 'o-')\n",
    "plt.xlabel('Sampling size')\n",
    "plt.ylabel('Rate (per year)')\n",
    "plt.title('Rate vs Sampling size')\n",
    "plt.grid(alpha=0.4)\n",
    "plt.show()"
   ]
  },
  {
   "cell_type": "code",
   "execution_count": 34,
   "metadata": {},
   "outputs": [
    {
     "name": "stdout",
     "output_type": "stream",
     "text": [
      "Rate (per year) = 0.001496536121817788\n"
     ]
    }
   ],
   "source": [
    "# select only events after sampling size of \n",
    "idx = np.where(meta_data['events_total'] > 1.5e6)[0]\n",
    "# take average \n",
    "rate_lensed = np.mean(meta_data['total_rate'][idx])\n",
    "print('Rate (per year) =', rate_lensed)"
   ]
  },
  {
   "cell_type": "code",
   "execution_count": 35,
   "metadata": {},
   "outputs": [
    {
     "data": {
      "text/plain": [
       "(535.533406126587, 0.8014450867085529, 0.001496536121817788)"
      ]
     },
     "execution_count": 35,
     "metadata": {},
     "output_type": "execute_result"
    }
   ],
   "source": [
    "rate_unlensed/rate_lensed, rate_unlensed, rate_lensed"
   ]
  },
  {
   "cell_type": "markdown",
   "metadata": {},
   "source": [
    "## HIGH"
   ]
  },
  {
   "cell_type": "code",
   "execution_count": 14,
   "metadata": {},
   "outputs": [],
   "source": [
    "ler = LeR(npool=8,\n",
    "          verbose=False, \n",
    "          event_type='BNS',\n",
    "          source_priors= {'merger_rate_density': 'merger_rate_density_bbh_popI_II_oguri2018'},\n",
    "          source_priors_params= {'merger_rate_density': {'R0': (10.55+19.02)*1e-08, 'b2': 1.6, 'b3': 2.0, 'b4': 30}},\n",
    "          mtot_max=51, \n",
    "          z_max=5,\n",
    "          psds={'L1':'o4_psd.txt', 'H1':'o4_psd.txt'},\n",
    "          snr_type=\"interpolation\",\n",
    "          )"
   ]
  },
  {
   "cell_type": "code",
   "execution_count": 16,
   "metadata": {},
   "outputs": [
    {
     "name": "stdout",
     "output_type": "stream",
     "text": [
      "removing ./ler_data/n_unlensed_detectable_bns_O4psd_high.json and ./ler_data/n_unlensed_detectable_bns_meta_O4psd_high.json if they exist\n",
      "collected number of detectable events =  0\n",
      "given detectability_condition == 'step_function'\n",
      "collected number of detectable events =  2\n",
      "total number of events =  200000\n",
      "total rate (yr^-1): 11.581015456313281\n",
      "given detectability_condition == 'step_function'\n",
      "collected number of detectable events =  7\n",
      "total number of events =  400000\n",
      "total rate (yr^-1): 20.266777048548242\n",
      "given detectability_condition == 'step_function'\n",
      "collected number of detectable events =  10\n",
      "total number of events =  600000\n",
      "total rate (yr^-1): 19.301692427188804\n",
      "given detectability_condition == 'step_function'\n",
      "collected number of detectable events =  13\n",
      "total number of events =  800000\n",
      "total rate (yr^-1): 18.819150116509082\n",
      "given detectability_condition == 'step_function'\n",
      "collected number of detectable events =  13\n",
      "total number of events =  1000000\n",
      "total rate (yr^-1): 15.055320093207266\n",
      "given detectability_condition == 'step_function'\n",
      "collected number of detectable events =  15\n",
      "total number of events =  1200000\n",
      "total rate (yr^-1): 14.476269320391603\n",
      "given detectability_condition == 'step_function'\n",
      "collected number of detectable events =  16\n",
      "total number of events =  1400000\n",
      "total rate (yr^-1): 13.235446235786608\n",
      "given detectability_condition == 'step_function'\n",
      "collected number of detectable events =  18\n",
      "total number of events =  1600000\n",
      "total rate (yr^-1): 13.028642388352441\n",
      "given detectability_condition == 'step_function'\n",
      "collected number of detectable events =  20\n",
      "total number of events =  1800000\n",
      "total rate (yr^-1): 12.867794951459203\n",
      "given detectability_condition == 'step_function'\n",
      "collected number of detectable events =  20\n",
      "total number of events =  2000000\n",
      "total rate (yr^-1): 11.581015456313283\n",
      "given detectability_condition == 'step_function'\n",
      "collected number of detectable events =  24\n",
      "total number of events =  2200000\n",
      "total rate (yr^-1): 12.633835043250853\n",
      "given detectability_condition == 'step_function'\n",
      "collected number of detectable events =  25\n",
      "total number of events =  2400000\n",
      "total rate (yr^-1): 12.063557766993\n",
      "given detectability_condition == 'step_function'\n",
      "collected number of detectable events =  27\n",
      "total number of events =  2600000\n",
      "total rate (yr^-1): 12.026439127709946\n",
      "given detectability_condition == 'step_function'\n",
      "collected number of detectable events =  28\n",
      "total number of events =  2800000\n",
      "total rate (yr^-1): 11.581015456313281\n",
      "given detectability_condition == 'step_function'\n",
      "collected number of detectable events =  31\n",
      "total number of events =  3000000\n",
      "total rate (yr^-1): 11.967049304857058\n",
      "given detectability_condition == 'step_function'\n",
      "collected number of detectable events =  32\n",
      "total number of events =  3200000\n",
      "total rate (yr^-1): 11.581015456313281\n",
      "given detectability_condition == 'step_function'\n",
      "collected number of detectable events =  34\n",
      "total number of events =  3400000\n",
      "total rate (yr^-1): 11.581015456313281\n",
      "given detectability_condition == 'step_function'\n",
      "collected number of detectable events =  36\n",
      "total number of events =  3600000\n",
      "total rate (yr^-1): 11.581015456313281\n",
      "given detectability_condition == 'step_function'\n",
      "collected number of detectable events =  39\n",
      "total number of events =  3800000\n",
      "total rate (yr^-1): 11.885779020953104\n",
      "given detectability_condition == 'step_function'\n",
      "collected number of detectable events =  42\n",
      "total number of events =  4000000\n",
      "total rate (yr^-1): 12.160066229128946\n",
      "given detectability_condition == 'step_function'\n",
      "collected number of detectable events =  42\n",
      "total number of events =  4200000\n",
      "total rate (yr^-1): 11.581015456313281\n",
      "given detectability_condition == 'step_function'\n",
      "collected number of detectable events =  45\n",
      "total number of events =  4400000\n",
      "total rate (yr^-1): 11.844220353047673\n",
      "given detectability_condition == 'step_function'\n",
      "collected number of detectable events =  46\n",
      "total number of events =  4600000\n",
      "total rate (yr^-1): 11.581015456313281\n",
      "given detectability_condition == 'step_function'\n",
      "collected number of detectable events =  46\n",
      "total number of events =  4800000\n",
      "total rate (yr^-1): 11.098473145633562\n",
      "given detectability_condition == 'step_function'\n",
      "collected number of detectable events =  48\n",
      "total number of events =  5000000\n",
      "total rate (yr^-1): 11.11777483806075\n",
      "given detectability_condition == 'step_function'\n",
      "collected number of detectable events =  50\n",
      "total number of events =  5200000\n",
      "total rate (yr^-1): 11.135591784916617\n",
      "given detectability_condition == 'step_function'\n",
      "collected number of detectable events =  52\n",
      "total number of events =  5400000\n",
      "total rate (yr^-1): 11.152088957931308\n",
      "given detectability_condition == 'step_function'\n",
      "collected number of detectable events =  55\n",
      "total number of events =  5600000\n",
      "total rate (yr^-1): 11.374211608879115\n",
      "given detectability_condition == 'step_function'\n",
      "collected number of detectable events =  56\n",
      "total number of events =  5800000\n",
      "total rate (yr^-1): 11.181670095750754\n",
      "given detectability_condition == 'step_function'\n",
      "collected number of detectable events =  59\n",
      "total number of events =  6000000\n",
      "total rate (yr^-1): 11.387998532041394\n",
      "given detectability_condition == 'step_function'\n",
      "collected number of detectable events =  64\n",
      "total number of events =  6200000\n",
      "total rate (yr^-1): 11.954596600065322\n",
      "given detectability_condition == 'step_function'\n",
      "collected number of detectable events =  65\n",
      "total number of events =  6400000\n",
      "total rate (yr^-1): 11.761968822818178\n",
      "given detectability_condition == 'step_function'\n",
      "collected number of detectable events =  66\n",
      "total number of events =  6600000\n",
      "total rate (yr^-1): 11.581015456313281\n",
      "given detectability_condition == 'step_function'\n",
      "collected number of detectable events =  66\n",
      "total number of events =  6800000\n",
      "total rate (yr^-1): 11.240397354657008\n",
      "given detectability_condition == 'step_function'\n",
      "collected number of detectable events =  68\n",
      "total number of events =  7000000\n",
      "total rate (yr^-1): 11.250129300418616\n",
      "given detectability_condition == 'step_function'\n",
      "collected number of detectable events =  69\n",
      "total number of events =  7200000\n",
      "total rate (yr^-1): 11.09847314563356\n",
      "given detectability_condition == 'step_function'\n",
      "collected number of detectable events =  69\n",
      "total number of events =  7400000\n",
      "total rate (yr^-1): 10.798514411967789\n",
      "given detectability_condition == 'step_function'\n",
      "collected number of detectable events =  70\n",
      "total number of events =  7600000\n",
      "total rate (yr^-1): 10.666724762393812\n",
      "given detectability_condition == 'step_function'\n",
      "collected number of detectable events =  73\n",
      "total number of events =  7800000\n",
      "total rate (yr^-1): 10.838642670652172\n",
      "given detectability_condition == 'step_function'\n",
      "collected number of detectable events =  75\n",
      "total number of events =  8000000\n",
      "total rate (yr^-1): 10.857201990293703\n",
      "given detectability_condition == 'step_function'\n",
      "collected number of detectable events =  77\n",
      "total number of events =  8200000\n",
      "total rate (yr^-1): 10.874855977269789\n",
      "given detectability_condition == 'step_function'\n",
      "collected number of detectable events =  79\n",
      "total number of events =  8400000\n",
      "total rate (yr^-1): 10.891669298199396\n",
      "given detectability_condition == 'step_function'\n",
      "collected number of detectable events =  79\n",
      "total number of events =  8600000\n",
      "total rate (yr^-1): 10.638374663357549\n",
      "given detectability_condition == 'step_function'\n",
      "collected number of detectable events =  79\n",
      "total number of events =  8800000\n",
      "total rate (yr^-1): 10.396593421008514\n",
      "given detectability_condition == 'step_function'\n",
      "collected number of detectable events =  83\n",
      "total number of events =  9000000\n",
      "total rate (yr^-1): 10.680269809711136\n",
      "given detectability_condition == 'step_function'\n",
      "collected number of detectable events =  86\n",
      "total number of events =  9200000\n",
      "total rate (yr^-1): 10.825731839597198\n",
      "given detectability_condition == 'step_function'\n",
      "collected number of detectable events =  88\n",
      "total number of events =  9400000\n",
      "total rate (yr^-1): 10.841801703782647\n",
      "given detectability_condition == 'step_function'\n",
      "collected number of detectable events =  89\n",
      "total number of events =  9600000\n",
      "total rate (yr^-1): 10.736566412623771\n",
      "given detectability_condition == 'step_function'\n",
      "collected number of detectable events =  89\n",
      "total number of events =  9800000\n",
      "total rate (yr^-1): 10.517452812366143\n",
      "given detectability_condition == 'step_function'\n",
      "collected number of detectable events =  91\n",
      "total number of events =  10000000\n",
      "total rate (yr^-1): 10.538724065245086\n"
     ]
    },
    {
     "ename": "SystemError",
     "evalue": "CPUDispatcher(<function get_interpolated_snr at 0x33defaef0>) returned a result with an exception set",
     "output_type": "error",
     "traceback": [
      "\u001b[0;31m---------------------------------------------------------------------------\u001b[0m",
      "\u001b[0;31mKeyboardInterrupt\u001b[0m                         Traceback (most recent call last)",
      "File \u001b[0;32m~/anaconda3/envs/ler/lib/python3.10/site-packages/numba/core/serialize.py:30\u001b[0m, in \u001b[0;36m_numba_unpickle\u001b[0;34m(address, bytedata, hashed)\u001b[0m\n\u001b[1;32m     27\u001b[0m _unpickled_memo \u001b[38;5;241m=\u001b[39m {}\n\u001b[0;32m---> 30\u001b[0m \u001b[38;5;28;01mdef\u001b[39;00m \u001b[38;5;21m_numba_unpickle\u001b[39m(address, bytedata, hashed):\n\u001b[1;32m     31\u001b[0m \u001b[38;5;250m    \u001b[39m\u001b[38;5;124;03m\"\"\"Used by `numba_unpickle` from _helperlib.c\u001b[39;00m\n\u001b[1;32m     32\u001b[0m \n\u001b[1;32m     33\u001b[0m \u001b[38;5;124;03m    Parameters\u001b[39;00m\n\u001b[0;32m   (...)\u001b[0m\n\u001b[1;32m     42\u001b[0m \u001b[38;5;124;03m        unpickled object\u001b[39;00m\n\u001b[1;32m     43\u001b[0m \u001b[38;5;124;03m    \"\"\"\u001b[39;00m\n",
      "\u001b[0;31mKeyboardInterrupt\u001b[0m: ",
      "\nThe above exception was the direct cause of the following exception:\n",
      "\u001b[0;31mSystemError\u001b[0m                               Traceback (most recent call last)",
      "\u001b[0;31mSystemError\u001b[0m: _PyEval_EvalFrameDefault returned a result with an exception set",
      "\nThe above exception was the direct cause of the following exception:\n",
      "\u001b[0;31mSystemError\u001b[0m                               Traceback (most recent call last)",
      "\u001b[0;31mSystemError\u001b[0m: _PyEval_EvalFrameDefault returned a result with an exception set",
      "\nThe above exception was the direct cause of the following exception:\n",
      "\u001b[0;31mSystemError\u001b[0m                               Traceback (most recent call last)",
      "\u001b[0;31mSystemError\u001b[0m: _PyEval_EvalFrameDefault returned a result with an exception set",
      "\nThe above exception was the direct cause of the following exception:\n",
      "\u001b[0;31mSystemError\u001b[0m                               Traceback (most recent call last)",
      "Cell \u001b[0;32mIn[16], line 2\u001b[0m\n\u001b[1;32m      1\u001b[0m \u001b[38;5;66;03m# snr_cut=8.0\u001b[39;00m\n\u001b[0;32m----> 2\u001b[0m \u001b[43mler\u001b[49m\u001b[38;5;241;43m.\u001b[39;49m\u001b[43mselecting_n_unlensed_detectable_events\u001b[49m\u001b[43m(\u001b[49m\u001b[43msize\u001b[49m\u001b[38;5;241;43m=\u001b[39;49m\u001b[38;5;241;43m500\u001b[39;49m\u001b[43m,\u001b[49m\u001b[43m \u001b[49m\u001b[43mbatch_size\u001b[49m\u001b[38;5;241;43m=\u001b[39;49m\u001b[38;5;241;43m200000\u001b[39;49m\u001b[43m,\u001b[49m\u001b[43msnr_threshold\u001b[49m\u001b[38;5;241;43m=\u001b[39;49m\u001b[38;5;241;43m8.0\u001b[39;49m\u001b[43m,\u001b[49m\u001b[43m \u001b[49m\u001b[43moutput_jsonfile\u001b[49m\u001b[38;5;241;43m=\u001b[39;49m\u001b[38;5;124;43m'\u001b[39;49m\u001b[38;5;124;43mn_unlensed_detectable_bns_O4psd_high.json\u001b[39;49m\u001b[38;5;124;43m'\u001b[39;49m\u001b[43m,\u001b[49m\u001b[43m \u001b[49m\u001b[43mmeta_data_file\u001b[49m\u001b[38;5;241;43m=\u001b[39;49m\u001b[38;5;124;43m'\u001b[39;49m\u001b[38;5;124;43mn_unlensed_detectable_bns_meta_O4psd_high.json\u001b[39;49m\u001b[38;5;124;43m'\u001b[39;49m\u001b[43m,\u001b[49m\u001b[43m \u001b[49m\u001b[43mresume\u001b[49m\u001b[38;5;241;43m=\u001b[39;49m\u001b[38;5;28;43;01mFalse\u001b[39;49;00m\u001b[43m)\u001b[49m\n",
      "File \u001b[0;32m~/phd/mypackages/ler/ler/rates/ler.py:1872\u001b[0m, in \u001b[0;36mLeR.selecting_n_unlensed_detectable_events\u001b[0;34m(self, size, batch_size, snr_threshold, pdet_threshold, resume, output_jsonfile, meta_data_file, detectability_condition, trim_to_size, snr_recalculation, snr_threshold_recalculation)\u001b[0m\n\u001b[1;32m   1870\u001b[0m \u001b[38;5;28;01mwith\u001b[39;00m contextlib\u001b[38;5;241m.\u001b[39mredirect_stdout(\u001b[38;5;28;01mNone\u001b[39;00m):\n\u001b[1;32m   1871\u001b[0m     \u001b[38;5;28mself\u001b[39m\u001b[38;5;241m.\u001b[39mdict_buffer \u001b[38;5;241m=\u001b[39m \u001b[38;5;28;01mNone\u001b[39;00m  \u001b[38;5;66;03m# this is used to store the sampled unlensed_param in batches when running the sampling_routine\u001b[39;00m\n\u001b[0;32m-> 1872\u001b[0m     unlensed_param \u001b[38;5;241m=\u001b[39m \u001b[38;5;28;43mself\u001b[39;49m\u001b[38;5;241;43m.\u001b[39;49m\u001b[43munlensed_sampling_routine\u001b[49m\u001b[43m(\u001b[49m\n\u001b[1;32m   1873\u001b[0m \u001b[43m        \u001b[49m\u001b[43msize\u001b[49m\u001b[38;5;241;43m=\u001b[39;49m\u001b[43mbatch_size\u001b[49m\u001b[43m,\u001b[49m\u001b[43m \u001b[49m\u001b[43moutput_jsonfile\u001b[49m\u001b[38;5;241;43m=\u001b[39;49m\u001b[43mbuffer_file\u001b[49m\u001b[43m,\u001b[49m\u001b[43m \u001b[49m\u001b[43msave_batch\u001b[49m\u001b[38;5;241;43m=\u001b[39;49m\u001b[38;5;28;43;01mFalse\u001b[39;49;00m\u001b[43m,\u001b[49m\u001b[43mresume\u001b[49m\u001b[38;5;241;43m=\u001b[39;49m\u001b[38;5;28;43;01mFalse\u001b[39;49;00m\n\u001b[1;32m   1874\u001b[0m \u001b[43m    \u001b[49m\u001b[43m)\u001b[49m\n\u001b[1;32m   1876\u001b[0m total_events_in_this_iteration \u001b[38;5;241m=\u001b[39m \u001b[38;5;28mlen\u001b[39m(unlensed_param[\u001b[38;5;124m\"\u001b[39m\u001b[38;5;124mzs\u001b[39m\u001b[38;5;124m\"\u001b[39m])\n\u001b[1;32m   1877\u001b[0m \u001b[38;5;66;03m# below is use when the snr is calculated with 'ann' method of `gwsnr`\u001b[39;00m\n",
      "File \u001b[0;32m~/phd/mypackages/ler/ler/rates/ler.py:970\u001b[0m, in \u001b[0;36mLeR.unlensed_sampling_routine\u001b[0;34m(self, size, output_jsonfile, resume, save_batch)\u001b[0m\n\u001b[1;32m    968\u001b[0m \u001b[38;5;28;01mif\u001b[39;00m \u001b[38;5;28mself\u001b[39m\u001b[38;5;241m.\u001b[39msnr:\n\u001b[1;32m    969\u001b[0m     \u001b[38;5;28mprint\u001b[39m(\u001b[38;5;124m\"\u001b[39m\u001b[38;5;124mcalculating snrs...\u001b[39m\u001b[38;5;124m\"\u001b[39m)\n\u001b[0;32m--> 970\u001b[0m     snrs \u001b[38;5;241m=\u001b[39m \u001b[38;5;28;43mself\u001b[39;49m\u001b[38;5;241;43m.\u001b[39;49m\u001b[43msnr\u001b[49m\u001b[43m(\u001b[49m\u001b[43mgw_param_dict\u001b[49m\u001b[38;5;241;43m=\u001b[39;49m\u001b[43munlensed_param\u001b[49m\u001b[43m)\u001b[49m\n\u001b[1;32m    971\u001b[0m     unlensed_param\u001b[38;5;241m.\u001b[39mupdate(snrs)\n\u001b[1;32m    972\u001b[0m \u001b[38;5;28;01melif\u001b[39;00m \u001b[38;5;28mself\u001b[39m\u001b[38;5;241m.\u001b[39mpdet:\n",
      "File \u001b[0;32m~/phd/mypackages/gwsnr/gwsnr/gwsnr.py:694\u001b[0m, in \u001b[0;36mGWSNR.snr\u001b[0;34m(self, mass_1, mass_2, luminosity_distance, theta_jn, psi, phase, geocent_time, ra, dec, a_1, a_2, tilt_1, tilt_2, phi_12, phi_jl, gw_param_dict, output_jsonfile)\u001b[0m\n\u001b[1;32m    691\u001b[0m     phi_jl \u001b[38;5;241m=\u001b[39m gw_param_dict\u001b[38;5;241m.\u001b[39mget(\u001b[38;5;124m\"\u001b[39m\u001b[38;5;124mphi_jl\u001b[39m\u001b[38;5;124m\"\u001b[39m, np\u001b[38;5;241m.\u001b[39mzeros(size))\n\u001b[1;32m    693\u001b[0m \u001b[38;5;28;01mif\u001b[39;00m \u001b[38;5;28mself\u001b[39m\u001b[38;5;241m.\u001b[39msnr_type \u001b[38;5;241m==\u001b[39m \u001b[38;5;124m\"\u001b[39m\u001b[38;5;124minterpolation\u001b[39m\u001b[38;5;124m\"\u001b[39m:\n\u001b[0;32m--> 694\u001b[0m     snr_dict \u001b[38;5;241m=\u001b[39m \u001b[38;5;28;43mself\u001b[39;49m\u001b[38;5;241;43m.\u001b[39;49m\u001b[43msnr_with_interpolation\u001b[49m\u001b[43m(\u001b[49m\n\u001b[1;32m    695\u001b[0m \u001b[43m        \u001b[49m\u001b[43mmass_1\u001b[49m\u001b[43m,\u001b[49m\n\u001b[1;32m    696\u001b[0m \u001b[43m        \u001b[49m\u001b[43mmass_2\u001b[49m\u001b[43m,\u001b[49m\n\u001b[1;32m    697\u001b[0m \u001b[43m        \u001b[49m\u001b[43mluminosity_distance\u001b[49m\u001b[38;5;241;43m=\u001b[39;49m\u001b[43mluminosity_distance\u001b[49m\u001b[43m,\u001b[49m\n\u001b[1;32m    698\u001b[0m \u001b[43m        \u001b[49m\u001b[43mtheta_jn\u001b[49m\u001b[38;5;241;43m=\u001b[39;49m\u001b[43mtheta_jn\u001b[49m\u001b[43m,\u001b[49m\n\u001b[1;32m    699\u001b[0m \u001b[43m        \u001b[49m\u001b[43mpsi\u001b[49m\u001b[38;5;241;43m=\u001b[39;49m\u001b[43mpsi\u001b[49m\u001b[43m,\u001b[49m\n\u001b[1;32m    700\u001b[0m \u001b[43m        \u001b[49m\u001b[43mphase\u001b[49m\u001b[38;5;241;43m=\u001b[39;49m\u001b[43mphase\u001b[49m\u001b[43m,\u001b[49m\n\u001b[1;32m    701\u001b[0m \u001b[43m        \u001b[49m\u001b[43mgeocent_time\u001b[49m\u001b[38;5;241;43m=\u001b[39;49m\u001b[43mgeocent_time\u001b[49m\u001b[43m,\u001b[49m\n\u001b[1;32m    702\u001b[0m \u001b[43m        \u001b[49m\u001b[43mra\u001b[49m\u001b[38;5;241;43m=\u001b[39;49m\u001b[43mra\u001b[49m\u001b[43m,\u001b[49m\n\u001b[1;32m    703\u001b[0m \u001b[43m        \u001b[49m\u001b[43mdec\u001b[49m\u001b[38;5;241;43m=\u001b[39;49m\u001b[43mdec\u001b[49m\u001b[43m,\u001b[49m\n\u001b[1;32m    704\u001b[0m \u001b[43m        \u001b[49m\u001b[43moutput_jsonfile\u001b[49m\u001b[38;5;241;43m=\u001b[39;49m\u001b[43moutput_jsonfile\u001b[49m\u001b[43m,\u001b[49m\n\u001b[1;32m    705\u001b[0m \u001b[43m    \u001b[49m\u001b[43m)\u001b[49m\n\u001b[1;32m    707\u001b[0m \u001b[38;5;28;01melif\u001b[39;00m \u001b[38;5;28mself\u001b[39m\u001b[38;5;241m.\u001b[39msnr_type \u001b[38;5;241m==\u001b[39m \u001b[38;5;124m\"\u001b[39m\u001b[38;5;124minner_product\u001b[39m\u001b[38;5;124m\"\u001b[39m:\n\u001b[1;32m    708\u001b[0m     \u001b[38;5;28mprint\u001b[39m(\u001b[38;5;124m\"\u001b[39m\u001b[38;5;124msolving SNR with inner product\u001b[39m\u001b[38;5;124m\"\u001b[39m)\n",
      "File \u001b[0;32m~/phd/mypackages/gwsnr/gwsnr/gwsnr.py:1061\u001b[0m, in \u001b[0;36mGWSNR.snr_with_interpolation\u001b[0;34m(self, mass_1, mass_2, luminosity_distance, theta_jn, psi, phase, geocent_time, ra, dec, output_jsonfile)\u001b[0m\n\u001b[1;32m   1054\u001b[0m size_ \u001b[38;5;241m=\u001b[39m \u001b[38;5;28mlen\u001b[39m(idx_tracker)\n\u001b[1;32m   1055\u001b[0m \u001b[38;5;66;03m# if size_ == 0:\u001b[39;00m\n\u001b[1;32m   1056\u001b[0m \u001b[38;5;66;03m#     raise ValueError(\u001b[39;00m\n\u001b[1;32m   1057\u001b[0m \u001b[38;5;66;03m#         \"mass_1 and mass_2 must be within the range of mtot_min and mtot_max\"\u001b[39;00m\n\u001b[1;32m   1058\u001b[0m \u001b[38;5;66;03m#     )\u001b[39;00m\n\u001b[1;32m   1059\u001b[0m \n\u001b[1;32m   1060\u001b[0m \u001b[38;5;66;03m# Get interpolated SNR\u001b[39;00m\n\u001b[0;32m-> 1061\u001b[0m snr, snr_effective, _, _ \u001b[38;5;241m=\u001b[39m \u001b[43mget_interpolated_snr\u001b[49m\u001b[43m(\u001b[49m\n\u001b[1;32m   1062\u001b[0m \u001b[43m    \u001b[49m\u001b[43mmass_1\u001b[49m\u001b[43m[\u001b[49m\u001b[43midx2\u001b[49m\u001b[43m]\u001b[49m\u001b[43m,\u001b[49m\n\u001b[1;32m   1063\u001b[0m \u001b[43m    \u001b[49m\u001b[43mmass_2\u001b[49m\u001b[43m[\u001b[49m\u001b[43midx2\u001b[49m\u001b[43m]\u001b[49m\u001b[43m,\u001b[49m\n\u001b[1;32m   1064\u001b[0m \u001b[43m    \u001b[49m\u001b[43mluminosity_distance\u001b[49m\u001b[43m[\u001b[49m\u001b[43midx2\u001b[49m\u001b[43m]\u001b[49m\u001b[43m,\u001b[49m\n\u001b[1;32m   1065\u001b[0m \u001b[43m    \u001b[49m\u001b[43mtheta_jn\u001b[49m\u001b[43m[\u001b[49m\u001b[43midx2\u001b[49m\u001b[43m]\u001b[49m\u001b[43m,\u001b[49m\n\u001b[1;32m   1066\u001b[0m \u001b[43m    \u001b[49m\u001b[43mpsi\u001b[49m\u001b[43m[\u001b[49m\u001b[43midx2\u001b[49m\u001b[43m]\u001b[49m\u001b[43m,\u001b[49m\n\u001b[1;32m   1067\u001b[0m \u001b[43m    \u001b[49m\u001b[43mgeocent_time\u001b[49m\u001b[43m[\u001b[49m\u001b[43midx2\u001b[49m\u001b[43m]\u001b[49m\u001b[43m,\u001b[49m\n\u001b[1;32m   1068\u001b[0m \u001b[43m    \u001b[49m\u001b[43mra\u001b[49m\u001b[43m[\u001b[49m\u001b[43midx2\u001b[49m\u001b[43m]\u001b[49m\u001b[43m,\u001b[49m\n\u001b[1;32m   1069\u001b[0m \u001b[43m    \u001b[49m\u001b[43mdec\u001b[49m\u001b[43m[\u001b[49m\u001b[43midx2\u001b[49m\u001b[43m]\u001b[49m\u001b[43m,\u001b[49m\n\u001b[1;32m   1070\u001b[0m \u001b[43m    \u001b[49m\u001b[43mdetector_tensor\u001b[49m\u001b[43m,\u001b[49m\n\u001b[1;32m   1071\u001b[0m \u001b[43m    \u001b[49m\u001b[43msnr_partialscaled\u001b[49m\u001b[43m,\u001b[49m\n\u001b[1;32m   1072\u001b[0m \u001b[43m    \u001b[49m\u001b[38;5;28;43mself\u001b[39;49m\u001b[38;5;241;43m.\u001b[39;49m\u001b[43mratio_arr\u001b[49m\u001b[43m,\u001b[49m\n\u001b[1;32m   1073\u001b[0m \u001b[43m    \u001b[49m\u001b[38;5;28;43mself\u001b[39;49m\u001b[38;5;241;43m.\u001b[39;49m\u001b[43mmtot_arr\u001b[49m\u001b[43m,\u001b[49m\n\u001b[1;32m   1074\u001b[0m \u001b[43m\u001b[49m\u001b[43m)\u001b[49m\n\u001b[1;32m   1076\u001b[0m \u001b[38;5;66;03m# Create optimal_snr dictionary using dictionary comprehension\u001b[39;00m\n\u001b[1;32m   1077\u001b[0m optimal_snr \u001b[38;5;241m=\u001b[39m {det: np\u001b[38;5;241m.\u001b[39mzeros(size) \u001b[38;5;28;01mfor\u001b[39;00m det \u001b[38;5;129;01min\u001b[39;00m detectors}\n",
      "\u001b[0;31mSystemError\u001b[0m: CPUDispatcher(<function get_interpolated_snr at 0x33defaef0>) returned a result with an exception set"
     ]
    }
   ],
   "source": [
    "# snr_cut=8.0\n",
    "ler.selecting_n_unlensed_detectable_events(size=500, batch_size=200000,snr_threshold=10.0, output_jsonfile='n_unlensed_detectable_bns_O4psd_high.json', meta_data_file='n_unlensed_detectable_bns_meta_O4psd_high.json', resume=False);"
   ]
  },
  {
   "cell_type": "code",
   "execution_count": 17,
   "metadata": {},
   "outputs": [
    {
     "data": {
      "image/png": "[encoded data removed]",
      "text/plain": [
       "<Figure size 600x400 with 1 Axes>"
      ]
     },
     "metadata": {},
     "output_type": "display_data"
    }
   ],
   "source": [
    "# let's see how rate varies with sampling size\n",
    "meta_data = get_param_from_json('ler_data/n_unlensed_detectable_bns_meta_O4psd_high.json')\n",
    "# plot the rate vs sampling size\n",
    "plt.figure(figsize=(6,4))\n",
    "plt.plot(meta_data['events_total'], meta_data['total_rate'], 'o-')\n",
    "plt.xlabel('Sampling size')\n",
    "plt.ylabel('Rate (per year)')\n",
    "plt.title('Rate vs Sampling size')\n",
    "plt.grid(alpha=0.4)\n",
    "plt.show()"
   ]
  },
  {
   "cell_type": "code",
   "execution_count": 18,
   "metadata": {},
   "outputs": [
    {
     "name": "stdout",
     "output_type": "stream",
     "text": [
      "Rate (per year) = 10.694204000316123\n"
     ]
    }
   ],
   "source": [
    "# select only events after sampling size of \n",
    "idx = np.where(meta_data['events_total'] > 0.8e7)[0]\n",
    "# take average \n",
    "rate_unlensed = np.mean(meta_data['total_rate'][idx])\n",
    "print('Rate (per year) =', rate_unlensed)"
   ]
  },
  {
   "cell_type": "code",
   "execution_count": 19,
   "metadata": {},
   "outputs": [
    {
     "name": "stdout",
     "output_type": "stream",
     "text": [
      "collected number of detectable events =  0\n"
     ]
    },
    {
     "name": "stderr",
     "output_type": "stream",
     "text": [
      "100%|█████████████████████████████████████████████████████| 200000/200000 [00:45<00:00, 4429.52it/s]\n",
      "100%|█████████████████████████████████████████████████████████████████| 7/7 [00:00<00:00, 76.70it/s]\n"
     ]
    },
    {
     "name": "stdout",
     "output_type": "stream",
     "text": [
      "given detectability_condition == step_function\n",
      "collected number of detectable events =  3\n",
      "total number of events =  200000\n",
      "total rate (yr^-1): 0.03283983487220175\n"
     ]
    },
    {
     "name": "stderr",
     "output_type": "stream",
     "text": [
      "100%|█████████████████████████████████████████████████████| 200000/200000 [00:44<00:00, 4445.44it/s]\n",
      "100%|█████████████████████████████████████████████████████████████████| 7/7 [00:00<00:00, 80.69it/s]\n"
     ]
    },
    {
     "name": "stdout",
     "output_type": "stream",
     "text": [
      "given detectability_condition == step_function\n",
      "collected number of detectable events =  5\n",
      "total number of events =  400000\n",
      "total rate (yr^-1): 0.027366529060168118\n"
     ]
    },
    {
     "name": "stderr",
     "output_type": "stream",
     "text": [
      "100%|█████████████████████████████████████████████████████| 200000/200000 [00:44<00:00, 4506.42it/s]\n",
      "100%|█████████████████████████████████████████████████████████████████| 1/1 [00:00<00:00, 11.63it/s]\n"
     ]
    },
    {
     "name": "stdout",
     "output_type": "stream",
     "text": [
      "given detectability_condition == step_function\n",
      "collected number of detectable events =  5\n",
      "total number of events =  600000\n",
      "total rate (yr^-1): 0.018244352706778745\n"
     ]
    },
    {
     "name": "stderr",
     "output_type": "stream",
     "text": [
      "100%|█████████████████████████████████████████████████████| 200000/200000 [00:44<00:00, 4485.42it/s]\n",
      "100%|█████████████████████████████████████████████████████████████████| 9/9 [00:00<00:00, 99.29it/s]\n"
     ]
    },
    {
     "name": "stdout",
     "output_type": "stream",
     "text": [
      "given detectability_condition == step_function\n",
      "collected number of detectable events =  7\n",
      "total number of events =  800000\n",
      "total rate (yr^-1): 0.019156570342117683\n"
     ]
    },
    {
     "name": "stderr",
     "output_type": "stream",
     "text": [
      "100%|█████████████████████████████████████████████████████| 200000/200000 [00:44<00:00, 4504.39it/s]\n",
      "100%|█████████████████████████████████████████████████████████████████| 4/4 [00:00<00:00, 35.41it/s]\n"
     ]
    },
    {
     "name": "stdout",
     "output_type": "stream",
     "text": [
      "given detectability_condition == step_function\n",
      "collected number of detectable events =  11\n",
      "total number of events =  1000000\n",
      "total rate (yr^-1): 0.024082545572947943\n"
     ]
    },
    {
     "name": "stderr",
     "output_type": "stream",
     "text": [
      "100%|█████████████████████████████████████████████████████| 200000/200000 [00:45<00:00, 4442.26it/s]\n",
      "100%|█████████████████████████████████████████████████████████████████| 6/6 [00:00<00:00, 65.25it/s]\n"
     ]
    },
    {
     "name": "stdout",
     "output_type": "stream",
     "text": [
      "given detectability_condition == step_function\n",
      "collected number of detectable events =  14\n",
      "total number of events =  1200000\n",
      "total rate (yr^-1): 0.025542093789490246\n"
     ]
    },
    {
     "name": "stderr",
     "output_type": "stream",
     "text": [
      "100%|█████████████████████████████████████████████████████| 200000/200000 [00:45<00:00, 4428.69it/s]\n",
      "100%|█████████████████████████████████████████████████████████████████| 3/3 [00:00<00:00, 33.43it/s]\n"
     ]
    },
    {
     "name": "stdout",
     "output_type": "stream",
     "text": [
      "given detectability_condition == step_function\n",
      "collected number of detectable events =  18\n",
      "total number of events =  1400000\n",
      "total rate (yr^-1): 0.028148429890458636\n"
     ]
    },
    {
     "name": "stderr",
     "output_type": "stream",
     "text": [
      "100%|█████████████████████████████████████████████████████| 200000/200000 [00:44<00:00, 4512.53it/s]\n",
      "100%|█████████████████████████████████████████████████████████████████| 5/5 [00:00<00:00, 61.90it/s]\n"
     ]
    },
    {
     "name": "stdout",
     "output_type": "stream",
     "text": [
      "given detectability_condition == step_function\n",
      "collected number of detectable events =  19\n",
      "total number of events =  1600000\n",
      "total rate (yr^-1): 0.025998202607159716\n"
     ]
    },
    {
     "name": "stderr",
     "output_type": "stream",
     "text": [
      "100%|█████████████████████████████████████████████████████| 200000/200000 [00:44<00:00, 4479.40it/s]\n",
      "100%|█████████████████████████████████████████████████████████████████| 5/5 [00:00<00:00, 55.32it/s]\n"
     ]
    },
    {
     "name": "stdout",
     "output_type": "stream",
     "text": [
      "given detectability_condition == step_function\n",
      "collected number of detectable events =  22\n",
      "total number of events =  1800000\n",
      "total rate (yr^-1): 0.026758383969942158\n"
     ]
    },
    {
     "name": "stderr",
     "output_type": "stream",
     "text": [
      "  1%|▌                                                      | 2170/200000 [00:00<00:52, 3801.80it/s]\n"
     ]
    },
    {
     "ename": "KeyboardInterrupt",
     "evalue": "",
     "output_type": "error",
     "traceback": [
      "\u001b[0;31m---------------------------------------------------------------------------\u001b[0m",
      "\u001b[0;31mIndexError\u001b[0m                                Traceback (most recent call last)",
      "File \u001b[0;32m~/anaconda3/envs/ler/lib/python3.10/multiprocessing/pool.py:856\u001b[0m, in \u001b[0;36mIMapIterator.next\u001b[0;34m(self, timeout)\u001b[0m\n\u001b[1;32m    855\u001b[0m \u001b[38;5;28;01mtry\u001b[39;00m:\n\u001b[0;32m--> 856\u001b[0m     item \u001b[38;5;241m=\u001b[39m \u001b[38;5;28;43mself\u001b[39;49m\u001b[38;5;241;43m.\u001b[39;49m\u001b[43m_items\u001b[49m\u001b[38;5;241;43m.\u001b[39;49m\u001b[43mpopleft\u001b[49m\u001b[43m(\u001b[49m\u001b[43m)\u001b[49m\n\u001b[1;32m    857\u001b[0m \u001b[38;5;28;01mexcept\u001b[39;00m \u001b[38;5;167;01mIndexError\u001b[39;00m:\n",
      "\u001b[0;31mIndexError\u001b[0m: pop from an empty deque",
      "\nDuring handling of the above exception, another exception occurred:\n",
      "\u001b[0;31mKeyboardInterrupt\u001b[0m                         Traceback (most recent call last)",
      "Cell \u001b[0;32mIn[19], line 3\u001b[0m\n\u001b[1;32m      1\u001b[0m \u001b[38;5;66;03m# snr_cut=8.0\u001b[39;00m\n\u001b[1;32m      2\u001b[0m \u001b[38;5;66;03m# time will take long time sample\u001b[39;00m\n\u001b[0;32m----> 3\u001b[0m \u001b[43mler\u001b[49m\u001b[38;5;241;43m.\u001b[39;49m\u001b[43mselecting_n_lensed_detectable_events\u001b[49m\u001b[43m(\u001b[49m\u001b[43msize\u001b[49m\u001b[38;5;241;43m=\u001b[39;49m\u001b[38;5;241;43m1000\u001b[39;49m\u001b[43m,\u001b[49m\u001b[43m \u001b[49m\u001b[43mbatch_size\u001b[49m\u001b[38;5;241;43m=\u001b[39;49m\u001b[38;5;241;43m200000\u001b[39;49m\u001b[43m,\u001b[49m\u001b[43msnr_threshold\u001b[49m\u001b[38;5;241;43m=\u001b[39;49m\u001b[38;5;241;43m8.0\u001b[39;49m\u001b[43m,\u001b[49m\u001b[43m \u001b[49m\u001b[43mnum_img\u001b[49m\u001b[38;5;241;43m=\u001b[39;49m\u001b[38;5;241;43m2\u001b[39;49m\u001b[43m,\u001b[49m\u001b[43m \u001b[49m\u001b[43moutput_jsonfile\u001b[49m\u001b[38;5;241;43m=\u001b[39;49m\u001b[38;5;124;43m'\u001b[39;49m\u001b[38;5;124;43mn_lensed_detectable_bns_O4psd_high.json\u001b[39;49m\u001b[38;5;124;43m'\u001b[39;49m\u001b[43m,\u001b[49m\u001b[43m \u001b[49m\u001b[43mmeta_data_file\u001b[49m\u001b[38;5;241;43m=\u001b[39;49m\u001b[38;5;124;43m'\u001b[39;49m\u001b[38;5;124;43mn_lensed_detectable_bns_meta_O4psd_high.json\u001b[39;49m\u001b[38;5;124;43m'\u001b[39;49m\u001b[43m,\u001b[49m\u001b[43m \u001b[49m\u001b[43mresume\u001b[49m\u001b[38;5;241;43m=\u001b[39;49m\u001b[38;5;28;43;01mTrue\u001b[39;49;00m\u001b[43m)\u001b[49m\n",
      "File \u001b[0;32m~/phd/mypackages/ler/ler/rates/ler.py:2004\u001b[0m, in \u001b[0;36mLeR.selecting_n_lensed_detectable_events\u001b[0;34m(self, size, batch_size, snr_threshold, pdet_threshold, num_img, combine_image_snr, snr_cut_for_combine_image_snr, resume, detectability_condition, output_jsonfile, meta_data_file, trim_to_size, nan_to_num, snr_recalculation, snr_threshold_recalculation)\u001b[0m\n\u001b[1;32m   2002\u001b[0m \u001b[38;5;28;01mwith\u001b[39;00m contextlib\u001b[38;5;241m.\u001b[39mredirect_stdout(\u001b[38;5;28;01mNone\u001b[39;00m):\n\u001b[1;32m   2003\u001b[0m     \u001b[38;5;28mself\u001b[39m\u001b[38;5;241m.\u001b[39mdict_buffer \u001b[38;5;241m=\u001b[39m \u001b[38;5;28;01mNone\u001b[39;00m  \u001b[38;5;66;03m# this is used to store the sampled lensed_param in batches when running the sampling_routine\u001b[39;00m\n\u001b[0;32m-> 2004\u001b[0m     lensed_param \u001b[38;5;241m=\u001b[39m \u001b[38;5;28;43mself\u001b[39;49m\u001b[38;5;241;43m.\u001b[39;49m\u001b[43mlensed_sampling_routine\u001b[49m\u001b[43m(\u001b[49m\n\u001b[1;32m   2005\u001b[0m \u001b[43m        \u001b[49m\u001b[43msize\u001b[49m\u001b[38;5;241;43m=\u001b[39;49m\u001b[38;5;28;43mself\u001b[39;49m\u001b[38;5;241;43m.\u001b[39;49m\u001b[43mbatch_size\u001b[49m\u001b[43m,\u001b[49m\u001b[43m \u001b[49m\u001b[43moutput_jsonfile\u001b[49m\u001b[38;5;241;43m=\u001b[39;49m\u001b[43mbuffer_file\u001b[49m\u001b[43m,\u001b[49m\u001b[43m \u001b[49m\u001b[43mresume\u001b[49m\u001b[38;5;241;43m=\u001b[39;49m\u001b[38;5;28;43;01mFalse\u001b[39;49;00m\n\u001b[1;32m   2006\u001b[0m \u001b[43m    \u001b[49m\u001b[43m)\u001b[49m  \u001b[38;5;66;03m# Dimensions are (size, n_max_images)\u001b[39;00m\n\u001b[1;32m   2008\u001b[0m total_events_in_this_iteration \u001b[38;5;241m=\u001b[39m \u001b[38;5;28mlen\u001b[39m(lensed_param[\u001b[38;5;124m\"\u001b[39m\u001b[38;5;124mzs\u001b[39m\u001b[38;5;124m\"\u001b[39m])\n\u001b[1;32m   2010\u001b[0m \u001b[38;5;66;03m# Below code ensures that the snr is recalculated for the detectable events with inner product\u001b[39;00m\n\u001b[1;32m   2011\u001b[0m \u001b[38;5;66;03m# The code is use when the snr is calculated with 'ann' method of `gwsnr`\u001b[39;00m\n",
      "File \u001b[0;32m~/phd/mypackages/ler/ler/rates/ler.py:1356\u001b[0m, in \u001b[0;36mLeR.lensed_sampling_routine\u001b[0;34m(self, size, output_jsonfile, save_batch, resume)\u001b[0m\n\u001b[1;32m   1354\u001b[0m lensed_param_ \u001b[38;5;241m=\u001b[39m \u001b[38;5;28mself\u001b[39m\u001b[38;5;241m.\u001b[39msample_lens_parameters(size\u001b[38;5;241m=\u001b[39msize)\n\u001b[1;32m   1355\u001b[0m \u001b[38;5;66;03m# now get (strongly lensed) image paramters along with lens parameters\u001b[39;00m\n\u001b[0;32m-> 1356\u001b[0m lensed_param_ \u001b[38;5;241m=\u001b[39m \u001b[38;5;28;43mself\u001b[39;49m\u001b[38;5;241;43m.\u001b[39;49m\u001b[43mimage_properties\u001b[49m\u001b[43m(\u001b[49m\u001b[43mlensed_param_\u001b[49m\u001b[43m)\u001b[49m\n\u001b[1;32m   1358\u001b[0m \u001b[38;5;28;01mif\u001b[39;00m \u001b[38;5;28mlen\u001b[39m(lensed_param) \u001b[38;5;241m==\u001b[39m \u001b[38;5;241m0\u001b[39m:  \u001b[38;5;66;03m# if empty\u001b[39;00m\n\u001b[1;32m   1359\u001b[0m         lensed_param \u001b[38;5;241m=\u001b[39m lensed_param_\n",
      "File \u001b[0;32m~/phd/mypackages/ler/ler/image_properties/image_properties.py:253\u001b[0m, in \u001b[0;36mImageProperties.image_properties\u001b[0;34m(self, lens_parameters)\u001b[0m\n\u001b[1;32m    249\u001b[0m     \u001b[38;5;28;01mraise\u001b[39;00m \u001b[38;5;167;01mValueError\u001b[39;00m(\u001b[38;5;124m\"\u001b[39m\u001b[38;5;124mn_min_images should be greater than 1\u001b[39m\u001b[38;5;124m\"\u001b[39m)\n\u001b[1;32m    250\u001b[0m \u001b[38;5;28;01mwith\u001b[39;00m Pool(processes\u001b[38;5;241m=\u001b[39mnpool) \u001b[38;5;28;01mas\u001b[39;00m pool:\n\u001b[1;32m    251\u001b[0m     \u001b[38;5;66;03m# call the same function with different data in parallel\u001b[39;00m\n\u001b[1;32m    252\u001b[0m     \u001b[38;5;66;03m# imap->retain order in the list, while map->doesn't\u001b[39;00m\n\u001b[0;32m--> 253\u001b[0m     \u001b[38;5;28;01mfor\u001b[39;00m result \u001b[38;5;129;01min\u001b[39;00m tqdm(\n\u001b[1;32m    254\u001b[0m         pool\u001b[38;5;241m.\u001b[39mimap_unordered(solve_lens_equation_, input_arguments),\n\u001b[1;32m    255\u001b[0m         total\u001b[38;5;241m=\u001b[39m\u001b[38;5;28mlen\u001b[39m(input_arguments),\n\u001b[1;32m    256\u001b[0m         ncols\u001b[38;5;241m=\u001b[39m\u001b[38;5;241m100\u001b[39m,\n\u001b[1;32m    257\u001b[0m         disable\u001b[38;5;241m=\u001b[39m\u001b[38;5;28;01mFalse\u001b[39;00m,\n\u001b[1;32m    258\u001b[0m     ):\n\u001b[1;32m    259\u001b[0m         \u001b[38;5;66;03m# print(result)\u001b[39;00m\n\u001b[1;32m    260\u001b[0m         (\n\u001b[1;32m    261\u001b[0m             x_source_i,\n\u001b[1;32m    262\u001b[0m             y_source_i,\n\u001b[0;32m   (...)\u001b[0m\n\u001b[1;32m    270\u001b[0m             iter_i,\n\u001b[1;32m    271\u001b[0m         ) \u001b[38;5;241m=\u001b[39m result\n\u001b[1;32m    273\u001b[0m         n_image_i \u001b[38;5;241m=\u001b[39m \u001b[38;5;28mmin\u001b[39m(n_image_i, n_max_images)\n",
      "File \u001b[0;32m~/anaconda3/envs/ler/lib/python3.10/site-packages/tqdm/std.py:1181\u001b[0m, in \u001b[0;36mtqdm.__iter__\u001b[0;34m(self)\u001b[0m\n\u001b[1;32m   1178\u001b[0m time \u001b[38;5;241m=\u001b[39m \u001b[38;5;28mself\u001b[39m\u001b[38;5;241m.\u001b[39m_time\n\u001b[1;32m   1180\u001b[0m \u001b[38;5;28;01mtry\u001b[39;00m:\n\u001b[0;32m-> 1181\u001b[0m     \u001b[38;5;28;01mfor\u001b[39;00m obj \u001b[38;5;129;01min\u001b[39;00m iterable:\n\u001b[1;32m   1182\u001b[0m         \u001b[38;5;28;01myield\u001b[39;00m obj\n\u001b[1;32m   1183\u001b[0m         \u001b[38;5;66;03m# Update and possibly print the progressbar.\u001b[39;00m\n\u001b[1;32m   1184\u001b[0m         \u001b[38;5;66;03m# Note: does not call self.update(1) for speed optimisation.\u001b[39;00m\n",
      "File \u001b[0;32m~/anaconda3/envs/ler/lib/python3.10/multiprocessing/pool.py:861\u001b[0m, in \u001b[0;36mIMapIterator.next\u001b[0;34m(self, timeout)\u001b[0m\n\u001b[1;32m    859\u001b[0m     \u001b[38;5;28mself\u001b[39m\u001b[38;5;241m.\u001b[39m_pool \u001b[38;5;241m=\u001b[39m \u001b[38;5;28;01mNone\u001b[39;00m\n\u001b[1;32m    860\u001b[0m     \u001b[38;5;28;01mraise\u001b[39;00m \u001b[38;5;167;01mStopIteration\u001b[39;00m \u001b[38;5;28;01mfrom\u001b[39;00m \u001b[38;5;28;01mNone\u001b[39;00m\n\u001b[0;32m--> 861\u001b[0m \u001b[38;5;28;43mself\u001b[39;49m\u001b[38;5;241;43m.\u001b[39;49m\u001b[43m_cond\u001b[49m\u001b[38;5;241;43m.\u001b[39;49m\u001b[43mwait\u001b[49m\u001b[43m(\u001b[49m\u001b[43mtimeout\u001b[49m\u001b[43m)\u001b[49m\n\u001b[1;32m    862\u001b[0m \u001b[38;5;28;01mtry\u001b[39;00m:\n\u001b[1;32m    863\u001b[0m     item \u001b[38;5;241m=\u001b[39m \u001b[38;5;28mself\u001b[39m\u001b[38;5;241m.\u001b[39m_items\u001b[38;5;241m.\u001b[39mpopleft()\n",
      "File \u001b[0;32m~/anaconda3/envs/ler/lib/python3.10/threading.py:320\u001b[0m, in \u001b[0;36mCondition.wait\u001b[0;34m(self, timeout)\u001b[0m\n\u001b[1;32m    318\u001b[0m \u001b[38;5;28;01mtry\u001b[39;00m:    \u001b[38;5;66;03m# restore state no matter what (e.g., KeyboardInterrupt)\u001b[39;00m\n\u001b[1;32m    319\u001b[0m     \u001b[38;5;28;01mif\u001b[39;00m timeout \u001b[38;5;129;01mis\u001b[39;00m \u001b[38;5;28;01mNone\u001b[39;00m:\n\u001b[0;32m--> 320\u001b[0m         \u001b[43mwaiter\u001b[49m\u001b[38;5;241;43m.\u001b[39;49m\u001b[43macquire\u001b[49m\u001b[43m(\u001b[49m\u001b[43m)\u001b[49m\n\u001b[1;32m    321\u001b[0m         gotit \u001b[38;5;241m=\u001b[39m \u001b[38;5;28;01mTrue\u001b[39;00m\n\u001b[1;32m    322\u001b[0m     \u001b[38;5;28;01melse\u001b[39;00m:\n",
      "\u001b[0;31mKeyboardInterrupt\u001b[0m: "
     ]
    }
   ],
   "source": [
    "# snr_cut=8.0\n",
    "# time will take long time sample\n",
    "ler.selecting_n_lensed_detectable_events(size=1000, batch_size=200000,snr_threshold=10.0, num_img=2, output_jsonfile='n_lensed_detectable_bns_O4psd_high.json', meta_data_file='n_lensed_detectable_bns_meta_O4psd_high.json', resume=True)"
   ]
  },
  {
   "cell_type": "code",
   "execution_count": 20,
   "metadata": {},
   "outputs": [
    {
     "data": {
      "image/png": "[encoded data removed]",
      "text/plain": [
       "<Figure size 600x400 with 1 Axes>"
      ]
     },
     "metadata": {},
     "output_type": "display_data"
    }
   ],
   "source": [
    "# let's see how rate varies with sampling size\n",
    "meta_data = get_param_from_json('ler_data/n_lensed_detectable_bns_meta_O4psd_high.json')\n",
    "# plot the rate vs sampling size\n",
    "plt.figure(figsize=(6,4))\n",
    "plt.plot(meta_data['events_total'], meta_data['total_rate'], 'o-')\n",
    "plt.xlabel('Sampling size')\n",
    "plt.ylabel('Rate (per year)')\n",
    "plt.title('Rate vs Sampling size')\n",
    "plt.grid(alpha=0.4)\n",
    "plt.show()"
   ]
  },
  {
   "cell_type": "code",
   "execution_count": 21,
   "metadata": {},
   "outputs": [
    {
     "name": "stdout",
     "output_type": "stream",
     "text": [
      "Rate (per year) = 0.02696833882252017\n"
     ]
    }
   ],
   "source": [
    "# select only events after sampling size of \n",
    "idx = np.where(meta_data['events_total'] > 1.2e6)[0]\n",
    "# take average \n",
    "rate_lensed = np.mean(meta_data['total_rate'][idx])\n",
    "print('Rate (per year) =', rate_lensed)"
   ]
  },
  {
   "cell_type": "code",
   "execution_count": 23,
   "metadata": {},
   "outputs": [
    {
     "data": {
      "text/plain": [
       "(396.5466345812084, 10.694204000316123, 0.02696833882252017)"
      ]
     },
     "execution_count": 23,
     "metadata": {},
     "output_type": "execute_result"
    }
   ],
   "source": [
    "rate_unlensed/rate_lensed, rate_unlensed, rate_lensed"
   ]
  },
  {
   "cell_type": "code",
   "execution_count": 24,
   "metadata": {},
   "outputs": [
    {
     "data": {
      "text/plain": [
       "7.267000000000001"
      ]
     },
     "execution_count": 24,
     "metadata": {},
     "output_type": "execute_result"
    }
   ],
   "source": [
    "10.694-3.427"
   ]
  },
  {
   "cell_type": "code",
   "execution_count": null,
   "metadata": {},
   "outputs": [],
   "source": []
  }
 ],
 "metadata": {
  "kernelspec": {
   "display_name": "ler",
   "language": "python",
   "name": "python3"
  },
  "language_info": {
   "codemirror_mode": {
    "name": "ipython",
    "version": 3
   },
   "file_extension": ".py",
   "mimetype": "text/x-python",
   "name": "python",
   "nbconvert_exporter": "python",
   "pygments_lexer": "ipython3",
   "version": "3.10.14"
  }
 },
 "nbformat": 4,
 "nbformat_minor": 2
}
