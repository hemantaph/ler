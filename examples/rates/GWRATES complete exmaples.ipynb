{
 "cells": [
  {
   "cell_type": "markdown",
   "metadata": {},
   "source": [
    "# GWRATES complete exmaples\n",
    "\n",
    "* Please refer to the [documentation](https://ler.readthedocs.io/en/latest/) for more details."
   ]
  },
  {
   "cell_type": "markdown",
   "metadata": {},
   "source": [
    "## Short BBH (Binary Black Hole) example with three detectors\n",
    "* This part of the notebook is a short example to simulate a binary black hole mergers and calculate its rate ($yr^{-1}$).\n",
    "* All generated data is saved in the `ler_data` folder.\n",
    "* All interpolation data is saved in the `interpolator_pickle` folder."
   ]
  },
  {
   "cell_type": "code",
   "execution_count": 1,
   "metadata": {},
   "outputs": [],
   "source": [
    "# call the GWRATES class\n",
    "from ler.rates import GWRATES"
   ]
  },
  {
   "cell_type": "markdown",
   "metadata": {},
   "source": [
    "* class initialization\n",
    "* if you want the models and its parameters to print.\n",
    "\n",
    "    ```ler = GWRATES()```\n",
    "    \n",
    "* set 'npool' according to your machine's available CPU cores. Default is 4.\n",
    "* to check no. of cores, \n",
    "\n",
    "    ```import multiprocessing as mp```\n",
    "    \n",
    "    ```print(mp.cpu_count())```"
   ]
  },
  {
   "cell_type": "code",
   "execution_count": 3,
   "metadata": {},
   "outputs": [
    {
     "name": "stdout",
     "output_type": "stream",
     "text": [
      "\n",
      "Initializing GWRATES class...\n",
      "\n",
      "\n",
      "Initializing CBCSourceRedshiftDistribution...\n",
      "\n",
      "luminosity_distance interpolator will be loaded from ./interpolator_pickle/luminosity_distance/luminosity_distance_0.pickle\n",
      "differential_comoving_volume interpolator will be loaded from ./interpolator_pickle/differential_comoving_volume/differential_comoving_volume_0.pickle\n",
      "using ler available merger rate density model: merger_rate_density_bbh_popI_II_oguri2018\n",
      "merger_rate_density_bbh_popI_II_oguri2018 interpolator will be loaded from ./interpolator_pickle/merger_rate_density/merger_rate_density_bbh_popI_II_oguri2018_2.pickle\n",
      "merger_rate_density_detector_frame interpolator will be loaded from ./interpolator_pickle/merger_rate_density/merger_rate_density_detector_frame_3.pickle\n",
      "using user provided custom source redshift class/object\n",
      "\n",
      "Initializing CBCSourceParameterDistribution...\n",
      "\n",
      "using ler available zs function : source_redshift\n",
      "using ler available source_frame_masses function : binary_masses_BBH_popI_II_powerlaw_gaussian\n",
      "using ler available geocent_time function : sampler_uniform\n",
      "using ler available dec function : sampler_cosine\n",
      "using ler available phase function : sampler_uniform\n",
      "using ler available psi function : sampler_uniform\n",
      "using ler available theta_jn function : sampler_sine\n",
      "using ler available a_1 function : sampler_uniform\n",
      "using ler available a_2 function : sampler_uniform\n",
      "using ler available tilt_1 function : sampler_sine\n",
      "using ler available tilt_2 function : sampler_sine\n",
      "using ler available phi_12 function : sampler_uniform\n",
      "using ler available phi_jl function : sampler_uniform\n",
      "\n",
      "Initializing GWSNR class...\n",
      "\n",
      "psds not given. Choosing bilby's default psds\n",
      "Intel processor has trouble allocating memory when the data is huge. So, by default for IMRPhenomXPHM, duration_max = 64.0. Otherwise, set to some max value like duration_max = 600.0 (10 mins)\n",
      "Interpolator will be generated for L1 detector at ./interpolator_pickle/L1/partialSNR_dict_3.pickle\n",
      "Interpolator will be generated for H1 detector at ./interpolator_pickle/H1/partialSNR_dict_3.pickle\n",
      "Interpolator will be generated for V1 detector at ./interpolator_pickle/V1/partialSNR_dict_3.pickle\n",
      "Please be patient while the interpolator is generated\n",
      "Generating interpolator for ['L1', 'H1', 'V1'] detectors\n"
     ]
    },
    {
     "name": "stderr",
     "output_type": "stream",
     "text": [
      "100%|███████████████████████████████████████████████████| 3996800/3996800 [57:00<00:00, 1168.54it/s]\n"
     ]
    },
    {
     "name": "stdout",
     "output_type": "stream",
     "text": [
      "\n",
      "Saving Partial-SNR for L1 detector with shape (50, 200, 20, 20)\n",
      "\n",
      "Saving Partial-SNR for H1 detector with shape (50, 200, 20, 20)\n",
      "\n",
      "Saving Partial-SNR for V1 detector with shape (50, 200, 20, 20)\n",
      "\n",
      "Chosen GWSNR initialization parameters:\n",
      "\n",
      "npool:  4\n",
      "snr type:  interpolation_aligned_spins_jax\n",
      "waveform approximant:  IMRPhenomXPHM\n",
      "sampling frequency:  2048.0\n",
      "minimum frequency (fmin):  20.0\n",
      "mtot=mass1+mass2\n",
      "min(mtot):  2.0\n",
      "max(mtot) (with the given fmin=20.0): 184.98599853446768\n",
      "detectors:  ['L1', 'H1', 'V1']\n",
      "psds:  [PowerSpectralDensity(psd_file='None', asd_file='/Users/phurailatpamhemantakumar/anaconda3/envs/ler/lib/python3.10/site-packages/bilby/gw/detector/noise_curves/aLIGO_O4_high_asd.txt'), PowerSpectralDensity(psd_file='None', asd_file='/Users/phurailatpamhemantakumar/anaconda3/envs/ler/lib/python3.10/site-packages/bilby/gw/detector/noise_curves/aLIGO_O4_high_asd.txt'), PowerSpectralDensity(psd_file='None', asd_file='/Users/phurailatpamhemantakumar/anaconda3/envs/ler/lib/python3.10/site-packages/bilby/gw/detector/noise_curves/AdV_asd.txt')]\n",
      "\n",
      "\n",
      "solving SNR with interpolation\n",
      "\n",
      " # GWRATES set up params:\n",
      "npool = 4,\n",
      "z_min = 0.0,\n",
      "z_max = 10.0,\n",
      "event_type = 'BBH',\n",
      "size = 100000,\n",
      "batch_size = 50000,\n",
      "cosmology = LambdaCDM(H0=70.0 km / (Mpc s), Om0=0.3, Ode0=0.7, Tcmb0=0.0 K, Neff=3.04, m_nu=None, Ob0=None),\n",
      "snr_finder = <bound method GWSNR.snr of <gwsnr.core.gwsnr.GWSNR object at 0x391346020>>,\n",
      "json_file_names = {'gwrates_params': 'gwrates_params.json', 'gw_param': 'gw_param.json', 'gw_param_detectable': 'gw_param_detectable.json'},\n",
      "interpolator_directory = './interpolator_pickle',\n",
      "ler_directory = './ler_data',\n",
      "\n",
      " # GWRATES also takes CBCSourceParameterDistribution params as kwargs, as follows:\n",
      "source_priors = {'merger_rate_density': 'merger_rate_density_bbh_popI_II_oguri2018', 'zs': 'source_redshift', 'source_frame_masses': 'binary_masses_BBH_popI_II_powerlaw_gaussian', 'geocent_time': 'sampler_uniform', 'ra': 'sampler_uniform', 'dec': 'sampler_cosine', 'phase': 'sampler_uniform', 'psi': 'sampler_uniform', 'theta_jn': 'sampler_sine', 'a_1': 'sampler_uniform', 'a_2': 'sampler_uniform', 'tilt_1': 'sampler_sine', 'tilt_2': 'sampler_sine', 'phi_12': 'sampler_uniform', 'phi_jl': 'sampler_uniform'},\n",
      "source_priors_params = {'merger_rate_density': {'R0': 2.39e-08, 'b2': 1.6, 'b3': 2.1, 'b4': 30}, 'zs': None, 'source_frame_masses': {'mminbh': 4.98, 'mmaxbh': 112.5, 'alpha': 3.78, 'mu_g': 32.27, 'sigma_g': 3.88, 'lambda_peak': 0.03, 'delta_m': 4.8, 'beta': 0.81}, 'geocent_time': {'xmin': 1238166018, 'xmax': 1269723618.0, 'min_': 1238166018, 'max_': 1269702018}, 'ra': {'xmin': 0.0, 'xmax': 6.283185307179586, 'min_': 0.0, 'max_': 6.283185307179586}, 'dec': None, 'phase': {'xmin': 0.0, 'xmax': 6.283185307179586, 'min_': 0.0, 'max_': 6.283185307179586}, 'psi': {'xmin': 0.0, 'xmax': 3.141592653589793, 'min_': 0.0, 'max_': 3.141592653589793}, 'theta_jn': None, 'a_1': {'xmin': 0.0, 'xmax': 0.8, 'min_': 0.0, 'max_': 0.8}, 'a_2': {'xmin': 0.0, 'xmax': 0.8, 'min_': 0.0, 'max_': 0.8}, 'tilt_1': None, 'tilt_2': None, 'phi_12': {'xmin': 0.0, 'xmax': 6.283185307179586, 'min_': 0, 'max_': 6.283185307179586}, 'phi_jl': {'xmin': 0.0, 'xmax': 6.283185307179586, 'min_': 0, 'max_': 6.283185307179586}},\n",
      "spin_zero = False,\n",
      "spin_precession = True,\n",
      "create_new_interpolator = False,\n",
      "\n",
      " # LeR also takes gwsnr.GWSNR params as kwargs, as follows:\n",
      "mtot_min = 2.0,\n",
      "mtot_max = 184.98599853446768,\n",
      "ratio_min = 0.1,\n",
      "ratio_max = 1.0,\n",
      "mtot_resolution = 200,\n",
      "ratio_resolution = 50,\n",
      "sampling_frequency = 2048.0,\n",
      "waveform_approximant = 'IMRPhenomXPHM',\n",
      "minimum_frequency = 20.0,\n",
      "snr_type = 'interpolation_aligned_spins_jax',\n",
      "psds = [PowerSpectralDensity(psd_file='None', asd_file='/Users/phurailatpamhemantakumar/anaconda3/envs/ler/lib/python3.10/site-packages/bilby/gw/detector/noise_curves/aLIGO_O4_high_asd.txt'), PowerSpectralDensity(psd_file='None', asd_file='/Users/phurailatpamhemantakumar/anaconda3/envs/ler/lib/python3.10/site-packages/bilby/gw/detector/noise_curves/aLIGO_O4_high_asd.txt'), PowerSpectralDensity(psd_file='None', asd_file='/Users/phurailatpamhemantakumar/anaconda3/envs/ler/lib/python3.10/site-packages/bilby/gw/detector/noise_curves/AdV_asd.txt')],\n",
      "ifos = None,\n",
      "interpolator_dir = './interpolator_pickle',\n",
      "create_new_interpolator = False,\n",
      "gwsnr_verbose = True,\n",
      "multiprocessing_verbose = True,\n",
      "mtot_cut = True,\n",
      "\n",
      " For reference, the chosen source parameters are listed below:\n",
      "merger_rate_density = 'merger_rate_density_bbh_popI_II_oguri2018'\n",
      "merger_rate_density_params =  {'R0': 2.39e-08, 'b2': 1.6, 'b3': 2.1, 'b4': 30}\n",
      "source_frame_masses = 'binary_masses_BBH_popI_II_powerlaw_gaussian'\n",
      "source_frame_masses_params =  {'mminbh': 4.98, 'mmaxbh': 112.5, 'alpha': 3.78, 'mu_g': 32.27, 'sigma_g': 3.88, 'lambda_peak': 0.03, 'delta_m': 4.8, 'beta': 0.81}\n",
      "geocent_time = 'sampler_uniform'\n",
      "geocent_time_params =  {'xmin': 1238166018, 'xmax': 1269723618.0, 'min_': 1238166018, 'max_': 1269702018}\n",
      "ra = 'sampler_uniform'\n",
      "ra_params =  {'xmin': 0.0, 'xmax': 6.283185307179586, 'min_': 0.0, 'max_': 6.283185307179586}\n",
      "dec = 'sampler_cosine'\n",
      "dec_params =  None\n",
      "phase = 'sampler_uniform'\n",
      "phase_params =  {'xmin': 0.0, 'xmax': 6.283185307179586, 'min_': 0.0, 'max_': 6.283185307179586}\n",
      "psi = 'sampler_uniform'\n",
      "psi_params =  {'xmin': 0.0, 'xmax': 3.141592653589793, 'min_': 0.0, 'max_': 3.141592653589793}\n",
      "theta_jn = 'sampler_sine'\n",
      "theta_jn_params =  None\n",
      "a_1 = 'sampler_uniform'\n",
      "a_1_params =  {'xmin': 0.0, 'xmax': 0.8, 'min_': 0.0, 'max_': 0.8}\n",
      "a_2 = 'sampler_uniform'\n",
      "a_2_params =  {'xmin': 0.0, 'xmax': 0.8, 'min_': 0.0, 'max_': 0.8}\n",
      "tilt_1 = 'sampler_sine'\n",
      "tilt_1_params =  None\n",
      "tilt_2 = 'sampler_sine'\n",
      "tilt_2_params =  None\n",
      "phi_12 = 'sampler_uniform'\n",
      "phi_12_params =  {'xmin': 0.0, 'xmax': 6.283185307179586, 'min_': 0, 'max_': 6.283185307179586}\n",
      "phi_jl = 'sampler_uniform'\n",
      "phi_jl_params =  {'xmin': 0.0, 'xmax': 6.283185307179586, 'min_': 0, 'max_': 6.283185307179586}\n"
     ]
    }
   ],
   "source": [
    "# GWRATES initialization with default arguments\n",
    "ler = GWRATES(npool=8, waveform_approximant='IMRPhenomXPHM', snr_type='interpolation_aligned_spins_jax', spin_zero=False, spin_precession=True)  # for testing: waveform_approximant='IMRPhenomXPHM', snr_type='inner_product'"
   ]
  },
  {
   "cell_type": "code",
   "execution_count": 6,
   "metadata": {},
   "outputs": [
    {
     "name": "stdout",
     "output_type": "stream",
     "text": [
      "Simulated GW params will be stored in ./ler_data/gw_param.json\n",
      "chosen batch size = 50000 with total size = 10\n",
      "There will be 1 batche(s)\n",
      "Batch no. 1\n",
      "sampling gw source params...\n",
      "calculating snrs...\n",
      "solving SNR with interpolation\n",
      "gw parameters already sampled.\n"
     ]
    },
    {
     "data": {
      "text/plain": [
       "{'zs': array([5.25335637, 2.6289837 , 2.66499964, 3.13957086,\n",
       "        0.98233592, 1.5392795 , 5.57271648, 1.92172304,\n",
       "        1.7835467 , 3.54963782]),\n",
       " 'geocent_time': array([1.24297629e+09, 1.26864871e+09, 1.25818533e+09,\n",
       "        1.26785768e+09, 1.25461775e+09, 1.26264066e+09,\n",
       "        1.23977969e+09, 1.26511843e+09, 1.26616666e+09,\n",
       "        1.24614830e+09]),\n",
       " 'ra': array([0.67939595, 5.08440543, 2.85684954, 5.33489544,\n",
       "        0.40855684, 4.62928981, 1.17481997, 5.43108266,\n",
       "        5.23345818, 6.15902408]),\n",
       " 'dec': array([ 0.8616668 , -0.39474146, -0.99508649,  0.23936204,\n",
       "         1.18482107, -0.53645155, -0.82412545,  0.99654592,\n",
       "         0.2765832 , -0.86022427]),\n",
       " 'phase': array([3.71803867, 6.21474507, 2.07215926, 4.39852391,\n",
       "        1.41566878, 3.86047871, 2.89892752, 4.31028184,\n",
       "        6.20766506, 2.87961675]),\n",
       " 'psi': array([1.51947022, 1.9342848 , 1.77756189, 3.05083375,\n",
       "        0.30977783, 1.18391385, 2.15359035, 1.71182953,\n",
       "        1.73698192, 0.2719669 ]),\n",
       " 'theta_jn': array([2.20780671, 0.3638939 , 2.39446052, 1.83127471,\n",
       "        2.37741933, 1.21102376, 0.49350131, 1.60853694,\n",
       "        1.37152443, 0.62437168]),\n",
       " 'a_1': array([ 0.36194826,  0.09075837,  0.0061117 , -0.51604095,\n",
       "         0.59022791, -0.18467713,  0.01579807, -0.7308266 ,\n",
       "        -0.23298763, -0.05129368]),\n",
       " 'a_2': array([ 0.12836385, -0.18594246,  0.05130142, -0.19251629,\n",
       "         0.15046924,  0.03608868,  0.04718437, -0.18106637,\n",
       "        -0.37168612, -0.47467358]),\n",
       " 'tilt_1': array([0.99301932, 0.9250637 , 1.56259705, 2.59041975,\n",
       "        0.59906891, 1.91078986, 1.52604311, 2.76033417,\n",
       "        2.08750352, 1.699816  ]),\n",
       " 'tilt_2': array([1.22660437, 1.87842301, 1.42241759, 2.20503717,\n",
       "        1.04609263, 1.49403634, 1.27150954, 1.93978859,\n",
       "        2.59080525, 2.23386398]),\n",
       " 'phi_12': array([3.75945797, 3.12594208, 3.06629548, 2.60023992,\n",
       "        2.44410851, 1.73975962, 1.78109313, 3.36721622,\n",
       "        3.67060728, 3.75058847]),\n",
       " 'phi_jl': array([0.07045634, 5.12570518, 5.17473983, 5.37788413,\n",
       "        2.56909062, 5.60215   , 5.70639937, 4.58500297,\n",
       "        0.70508561, 1.07125735]),\n",
       " 'luminosity_distance': array([49435.16191432, 21678.51531471, 22038.41887007,\n",
       "        26850.86096637,  6463.68518759, 11263.21850105,\n",
       "        52966.39433747, 14797.87948544, 13502.86801133,\n",
       "        31101.2192381 ]),\n",
       " 'mass_1_source': array([ 8.66626689, 10.18903549,  9.48125444, 10.76878804,\n",
       "        12.13946267,  6.5792001 , 14.98453083,  7.60905462,\n",
       "         8.07316429, 31.79036038]),\n",
       " 'mass_2_source': array([ 7.55005314,  9.81918046,  8.72309027, 10.57683066,\n",
       "         9.9546264 ,  6.44575316, 14.45254854,  7.48743032,\n",
       "         7.68463827, 19.50668047]),\n",
       " 'mass_1': array([ 54.19325529,  36.9758437 ,  34.74879406,  44.57816117,\n",
       "         24.06449287,  16.70642793,  98.48907273,  22.23155024,\n",
       "         22.47202981, 144.63462582]),\n",
       " 'mass_2': array([47.21317289, 35.63364582, 31.97012267, 43.78353998,\n",
       "        19.73341347, 16.36756886, 94.99250401, 21.87619771,\n",
       "        21.39054949, 88.74833117]),\n",
       " 'L1': array([0.02682546, 0.75129217, 0.70378745, 0.27909061,\n",
       "        1.82713735, 0.46710509, 0.        , 0.53679138,\n",
       "        0.54170603, 0.        ]),\n",
       " 'H1': array([0.08478653, 0.53818864, 1.05964661, 0.25581798,\n",
       "        2.14750075, 0.33531055, 0.        , 0.36085781,\n",
       "        0.40719679, 0.        ]),\n",
       " 'V1': array([0.50961989, 0.42289534, 0.56540245, 0.3110317 ,\n",
       "        2.55453634, 0.84948695, 0.        , 0.42929289,\n",
       "        0.20138875, 0.        ]),\n",
       " 'snr_net': array([0.51732081, 1.01633036, 1.392066  , 0.48997465,\n",
       "        3.80471373, 1.02579165, 0.        , 0.77630901,\n",
       "        0.70697385, 0.        ])}"
      ]
     },
     "execution_count": 6,
     "metadata": {},
     "output_type": "execute_result"
    }
   ],
   "source": [
    "ler.gw_cbc_statistics(10)"
   ]
  },
  {
   "cell_type": "code",
   "execution_count": 5,
   "metadata": {},
   "outputs": [
    {
     "data": {
      "image/png": "[encoded data removed]",
      "text/plain": [
       "<Figure size 400x400 with 1 Axes>"
      ]
     },
     "metadata": {},
     "output_type": "display_data"
    }
   ],
   "source": [
    "import numpy as np\n",
    "import matplotlib.pyplot as plt\n",
    "\n",
    "plt.figure(figsize=[4,4])\n",
    "plt.hist(ler.phi_jl(1000), bins=30, density=True, alpha=0.5, color='b', histtype='step', label='L1')\n",
    "plt.legend()\n",
    "plt.show()"
   ]
  },
  {
   "cell_type": "code",
   "execution_count": 16,
   "metadata": {},
   "outputs": [
    {
     "data": {
      "text/plain": [
       "{'merger_rate_density': {'R0': 2.39e-08, 'b2': 1.6, 'b3': 2.1, 'b4': 30},\n",
       " 'zs': None,\n",
       " 'source_frame_masses': {'mminbh': 4.98,\n",
       "  'mmaxbh': 112.5,\n",
       "  'alpha': 3.78,\n",
       "  'mu_g': 32.27,\n",
       "  'sigma_g': 3.88,\n",
       "  'lambda_peak': 0.03,\n",
       "  'delta_m': 4.8,\n",
       "  'beta': 0.81},\n",
       " 'geocent_time': {'xmin': 1238166018,\n",
       "  'xmax': 1269723618.0,\n",
       "  'min_': 1238166018,\n",
       "  'max_': 1269702018},\n",
       " 'ra': {'xmin': 0.0,\n",
       "  'xmax': 6.283185307179586,\n",
       "  'min_': 0.0,\n",
       "  'max_': 6.283185307179586},\n",
       " 'dec': None,\n",
       " 'phase': {'xmin': 0.0,\n",
       "  'xmax': 6.283185307179586,\n",
       "  'min_': 0.0,\n",
       "  'max_': 6.283185307179586},\n",
       " 'psi': {'xmin': 0.0,\n",
       "  'xmax': 3.141592653589793,\n",
       "  'min_': 0.0,\n",
       "  'max_': 3.141592653589793},\n",
       " 'theta_jn': None,\n",
       " 'a_1': {'xmin': -0.8, 'xmax': 0.8, 'min_': 0.0, 'max_': 0.8},\n",
       " 'a_2': {'xmin': 0.0, 'xmax': 1.0, 'min_': 0.0, 'max_': 0.8},\n",
       " 'tilt_1': None,\n",
       " 'tilt_2': None,\n",
       " 'phi_12': {'xmin': 0.0,\n",
       "  'xmax': 6.283185307179586,\n",
       "  'min_': 0,\n",
       "  'max_': 6.283185307179586},\n",
       " 'phi_jl': {'xmin': 0.0,\n",
       "  'xmax': 6.283185307179586,\n",
       "  'min_': 0,\n",
       "  'max_': 6.283185307179586}}"
      ]
     },
     "execution_count": 16,
     "metadata": {},
     "output_type": "execute_result"
    }
   ],
   "source": [
    "ler.gw_param_samplers_params"
   ]
  },
  {
   "cell_type": "code",
   "execution_count": null,
   "metadata": {},
   "outputs": [],
   "source": []
  },
  {
   "cell_type": "markdown",
   "metadata": {},
   "source": [
    "## Simulation of the GW CBC population\n",
    "\n",
    "* this will generate a json file with the simulated population parameters\n",
    "* by default 100,000 events will be sampled with batches of 50,000. \n",
    "* results will be saved in the same directory as json file.\n",
    "* resume=True will resume the simulation from the last saved batch.\n",
    "* if you need to save the file at the end of each batch sampling, set save_batch=True."
   ]
  },
  {
   "cell_type": "code",
   "execution_count": 6,
   "metadata": {},
   "outputs": [
    {
     "name": "stdout",
     "output_type": "stream",
     "text": [
      "Simulated GW params will be stored in ./ler_data/gw_param.json\n",
      "chosen batch size = 50000 with total size = 100000\n",
      "There will be 2 batche(s)\n",
      "Batch no. 1\n",
      "sampling gw source params...\n",
      "calculating snrs...\n",
      "solving SNR with inner product\n"
     ]
    },
    {
     "name": "stderr",
     "output_type": "stream",
     "text": [
      "100%|████████████████████████████████████████████████████████| 46952/46952 [00:56<00:00, 834.72it/s]\n"
     ]
    },
    {
     "name": "stdout",
     "output_type": "stream",
     "text": [
      "Batch no. 2\n",
      "sampling gw source params...\n",
      "calculating snrs...\n",
      "solving SNR with inner product\n"
     ]
    },
    {
     "name": "stderr",
     "output_type": "stream",
     "text": [
      "100%|████████████████████████████████████████████████████████| 46849/46849 [00:55<00:00, 845.31it/s]\n"
     ]
    },
    {
     "name": "stdout",
     "output_type": "stream",
     "text": [
      "saving all gw parameters in ./ler_data/gw_param.json \n"
     ]
    }
   ],
   "source": [
    "# ler.batch_size = 100000 # for faster computation\n",
    "param = ler.gw_cbc_statistics(size=100000, resume=False)"
   ]
  },
  {
   "cell_type": "markdown",
   "metadata": {},
   "source": [
    "* generate detectable events\n",
    "* note: here no input param is provided, so it will track the json file generated above\n",
    "* final rate is the rate of detectable events"
   ]
  },
  {
   "cell_type": "code",
   "execution_count": 7,
   "metadata": {},
   "outputs": [
    {
     "name": "stdout",
     "output_type": "stream",
     "text": [
      "Getting GW parameters from json file ./ler_data/gw_param.json...\n",
      "given detectability_condition == 'step_function'\n",
      "total GW event rate (yr^-1): 462.93700827520803\n",
      "number of simulated GW detectable events: 563\n",
      "number of simulated all GW events: 100000\n",
      "storing detectable params in ./ler_data/gw_param_detectable.json\n"
     ]
    }
   ],
   "source": [
    "rate, param_detectable = ler.gw_rate()"
   ]
  },
  {
   "cell_type": "markdown",
   "metadata": {},
   "source": [
    "* look for available parameters\n",
    "* **Note:** This is for spin-less systems."
   ]
  },
  {
   "cell_type": "code",
   "execution_count": 7,
   "metadata": {},
   "outputs": [
    {
     "data": {
      "text/plain": [
       "dict_keys(['zs', 'geocent_time', 'ra', 'dec', 'phase', 'psi', 'theta_jn', 'luminosity_distance', 'mass_1_source', 'mass_2_source', 'mass_1', 'mass_2', 'L1', 'H1', 'V1', 'snr_net'])"
      ]
     },
     "execution_count": 7,
     "metadata": {},
     "output_type": "execute_result"
    }
   ],
   "source": [
    "param_detectable.keys()"
   ]
  },
  {
   "cell_type": "markdown",
   "metadata": {},
   "source": [
    "* all gwrates initialization parameters, simulated parameters's json file names and rate results are strored as json file in the `ler_data` directory by default.\n",
    "* Now, let's see all the LeR class initialization parameters. This is either get from the json file '.ler_data/gwrates_params.json' or from the ler object."
   ]
  },
  {
   "cell_type": "code",
   "execution_count": 8,
   "metadata": {},
   "outputs": [
    {
     "name": "stdout",
     "output_type": "stream",
     "text": [
      "ler directory: ./ler_data\n",
      "ler json file names: {'gwrates_params': 'gwrates_params.json', 'gw_param': 'gw_param.json', 'gw_param_detectable': 'gw_param_detectable.json'}\n"
     ]
    }
   ],
   "source": [
    "# what are the saved files?\n",
    "#ler.json_file_names, ler.ler_directory\n",
    "print(f\"ler directory: {ler.ler_directory}\")\n",
    "print(f\"ler json file names: {ler.json_file_names}\")"
   ]
  },
  {
   "cell_type": "code",
   "execution_count": 9,
   "metadata": {},
   "outputs": [
    {
     "name": "stdout",
     "output_type": "stream",
     "text": [
      "param_detectable keys: dict_keys(['zs', 'geocent_time', 'ra', 'dec', 'phase', 'psi', 'theta_jn', 'luminosity_distance', 'mass_1_source', 'mass_2_source', 'mass_1', 'mass_2', 'L1', 'H1', 'V1', 'snr_net'])\n"
     ]
    }
   ],
   "source": [
    "# the generated parameters are not store in the ler instance, but in the json files\n",
    "# you can quickly access the generated parameters from the json files as shown below\n",
    "param_detectable = ler.gw_param_detectable\n",
    "# param = ler.gw_param\n",
    "\n",
    "# print keys of the generated parameters\n",
    "print(f\"param_detectable keys: {param_detectable.keys()}\")"
   ]
  },
  {
   "cell_type": "markdown",
   "metadata": {},
   "source": [
    "* here is another way to access the generated parameters from the json files"
   ]
  },
  {
   "cell_type": "code",
   "execution_count": 10,
   "metadata": {},
   "outputs": [
    {
     "name": "stdout",
     "output_type": "stream",
     "text": [
      "param_detectable keys: dict_keys(['zs', 'geocent_time', 'ra', 'dec', 'phase', 'psi', 'theta_jn', 'luminosity_distance', 'mass_1_source', 'mass_2_source', 'mass_1', 'mass_2', 'L1', 'H1', 'V1', 'snr_net'])\n"
     ]
    }
   ],
   "source": [
    "from ler.utils import get_param_from_json\n",
    "\n",
    "param_detectable = get_param_from_json(ler.ler_directory+'/'+ler.json_file_names['gw_param_detectable'])\n",
    "# param = get_param_from_json(ler.ler_directory+'/'+ler.json_file_names['gw_param'])\n",
    "\n",
    "# print keys of the generated parameters\n",
    "print(f\"param_detectable keys: {param_detectable.keys()}\")"
   ]
  },
  {
   "cell_type": "markdown",
   "metadata": {},
   "source": [
    "* Note: all GWRATES initialization parameters and some important results are saved in a json file."
   ]
  },
  {
   "cell_type": "code",
   "execution_count": 11,
   "metadata": {},
   "outputs": [
    {
     "name": "stdout",
     "output_type": "stream",
     "text": [
      "dict_keys(['npool', 'z_min', 'z_max', 'size', 'batch_size', 'cosmology', 'snr_finder', 'json_file_names', 'interpolator_directory', 'gw_param_sampler_dict', 'snr_calculator_dict', 'detectable_gw_rate_per_year', 'detectability_condition'])\n",
      "detectable_gw_rate_per_year:  452.39505816387026\n"
     ]
    }
   ],
   "source": [
    "from ler.utils import load_json\n",
    "# gwrates_params = load_json(ler.ler_directory+\"/\"+ler.json_file_names[\"gwrates_params\"])\n",
    "gwrates_params = load_json('ler_data/gwrates_params.json')\n",
    "print(gwrates_params.keys())\n",
    "print(\"detectable_gw_rate_per_year: \", gwrates_params['detectable_gw_rate_per_year'])"
   ]
  },
  {
   "cell_type": "markdown",
   "metadata": {},
   "source": [
    "## Plot the generated parameters\n",
    "\n",
    "* plotting the redshift distribution of event parameters"
   ]
  },
  {
   "cell_type": "code",
   "execution_count": 12,
   "metadata": {},
   "outputs": [
    {
     "name": "stdout",
     "output_type": "stream",
     "text": [
      "getting gw_params from json file ler_data/gw_param_detectable.json...\n",
      "getting gw_params from json file ler_data/gw_param.json...\n"
     ]
    },
    {
     "data": {
      "image/png": "[encoded data removed]",
      "text/plain": [
       "<Figure size 600x400 with 1 Axes>"
      ]
     },
     "metadata": {},
     "output_type": "display_data"
    }
   ],
   "source": [
    "import matplotlib.pyplot as plt\n",
    "from ler.utils import plots as lerplt\n",
    "\n",
    "\n",
    "# input param_dict can be either a dictionary or a json file name that contains the parameters\n",
    "plt.figure(figsize=(6, 4))\n",
    "lerplt.param_plot(\n",
    "    param_name='zs',\n",
    "    param_dict='ler_data/gw_param_detectable.json',\n",
    "    plot_label='zs (detectable)',\n",
    ")\n",
    "lerplt.param_plot(\n",
    "    param_name='zs',\n",
    "    param_dict='ler_data/gw_param.json',\n",
    "    plot_label='zs (all)',\n",
    ")\n",
    "plt.xlim(0.001,10)\n",
    "plt.xlabel('zs')\n",
    "plt.ylabel('pdf')\n",
    "plt.grid(alpha=0.4)\n",
    "plt.show()"
   ]
  },
  {
   "cell_type": "markdown",
   "metadata": {},
   "source": [
    "## Custom functions\n",
    "* `ler` allows internal model functions to be change with custom functions.\n",
    "* It also allows to change the default parameters of the existing model functions.\n",
    "\n",
    "First let's look at what are the input parameters available for ler.GWRATES. The input paramters can divided into three categories\n",
    "\n",
    "1. GWRATES set up params\n",
    "2. CBCSourceParameterDistribution set up params (as kwargs)\n",
    "3. GWSNR set up params (as kwargs)\n",
    "\n",
    "Complete GWRATES initialization is shown below,"
   ]
  },
  {
   "cell_type": "code",
   "execution_count": 13,
   "metadata": {},
   "outputs": [],
   "source": [
    "# # below is the example of GWRATES initialization with all the arguments.\n",
    "# # Uncomment the below code if you need to change the default arguments.\n",
    "# from ler.rates import GWRATES\n",
    "# import numpy as np\n",
    "# import matplotlib.pyplot as plt\n",
    "# from astropy.cosmology import LambdaCDM\n",
    "\n",
    "# ler = GWRATES(\n",
    "#     # GWRATES setup arguments\n",
    "#     npool=4, # number of processors to use\n",
    "#     z_min=0.0, # minimum redshift\n",
    "#     z_max=10.0, # maximum redshift\n",
    "#     event_type='BBH', # event type\n",
    "#     size=100000, # number of events to simulate\n",
    "#     batch_size=50000, # batch size\n",
    "#     cosmology=LambdaCDM(H0=70, Om0=0.3, Ode0=0.7), # cosmology\n",
    "#     snr_finder=None, # snr calculator from 'gwsnr' package will be used\n",
    "#     pdet_finder=None,  # will not be consider unless specified\n",
    "#     list_of_detectors=None, # list of detectors that will be considered when calculating snr or pdet for lensed events. if None, all the detectors from 'gwsnr' will be considered\n",
    "#     json_file_names=dict(\n",
    "#         ler_params=\"ler_params.json\", # to store initialization parameters and important results\n",
    "#         unlensed_param=\"unlensed_param.json\", # to store all unlensed events\n",
    "#         unlensed_param_detectable=\"unlensed_param_detectable.json\", # to store only detectable unlensed events\n",
    "#         lensed_param=\"lensed_param.json\", # to store all lensed events \n",
    "#         lensed_param_detectable=\"lensed_param_detectable.json\"), # to store only detectable lensed events\n",
    "#     interpolator_directory='./interpolator_pickle', # directory to store the interpolator pickle files. 'ler' uses interpolation to get values of various functions to speed up the calculations (relying on numba njit).\n",
    "#     ler_directory='./ler_data', # directory to store all the outputs\n",
    "#     verbose=False, # if True, will print all information at initialization\n",
    "\n",
    "#     # CBCSourceParameterDistribution class arguments\n",
    "#     source_priors= {'merger_rate_density': 'merger_rate_density_bbh_popI_II_oguri2018', 'source_frame_masses': 'binary_masses_BBH_popI_II_powerlaw_gaussian', 'zs': 'sample_source_redshift', 'geocent_time': 'sampler_uniform', 'ra': 'sampler_uniform', 'dec': 'sampler_cosine', 'phase': 'sampler_uniform', 'psi': 'sampler_uniform', 'theta_jn': 'sampler_sine'},\n",
    "#     source_priors_params= {'merger_rate_density': {'R0': 2.39e-08, 'b2': 1.6, 'b3': 2.0, 'b4': 30}, 'source_frame_masses': {'mminbh': 4.98, 'mmaxbh': 112.5, 'alpha': 3.78, 'mu_g': 32.27, 'sigma_g': 3.88, 'lambda_peak': 0.03, 'delta_m': 4.8, 'beta': 0.81}, 'zs': None, 'geocent_time': {'min_': 1238166018, 'max_': 1269702018}, 'ra': {'min_': 0.0, 'max_': 6.283185307179586}, 'dec': None, 'phase': {'min_': 0.0, 'max_': 6.283185307179586}, 'psi': {'min_': 0.0, 'max_': 3.141592653589793}, 'theta_jn': None},\n",
    "#     spin_zero= True, # if True, spins will be set to zero\n",
    "#     spin_precession= False, # if True, spins will be precessing\n",
    "\n",
    "#     # gwsnr package arguments\n",
    "#     mtot_min = 2.0,\n",
    "#     mtot_max = 184.98599853446768,\n",
    "#     ratio_min = 0.1,\n",
    "#     ratio_max = 1.0,\n",
    "#     mtot_resolution = 500,\n",
    "#     ratio_resolution = 50,\n",
    "#     sampling_frequency = 2048.0,\n",
    "#     waveform_approximant = 'IMRPhenomD',\n",
    "#     minimum_frequency = 20.0,\n",
    "#     snr_type = 'interpolation',\n",
    "#     psds = {'L1':'aLIGO_O4_high_asd.txt','H1':'aLIGO_O4_high_asd.txt', 'V1':'AdV_asd.txt', 'K1':'KAGRA_design_asd.txt'},\n",
    "#     ifos = ['L1', 'H1', 'V1'],\n",
    "#     interpolator_dir = './interpolator_pickle',\n",
    "#     gwsnr_verbose = False,\n",
    "#     multiprocessing_verbose = True,\n",
    "#     mtot_cut = True,\n",
    "\n",
    "#     # common arguments, to generate interpolator\n",
    "#     create_new_interpolator = dict(\n",
    "#         redshift_distribution=dict(create_new=False, resolution=1000),\n",
    "#         z_to_luminosity_distance=dict(create_new=False, resolution=1000),\n",
    "#         differential_comoving_volume=dict(create_new=False, resolution=1000),\n",
    "#         Dl_to_z=dict(create_new=False, resolution=1000),\n",
    "#     )\n",
    "# )"
   ]
  },
  {
   "cell_type": "markdown",
   "metadata": {},
   "source": [
    "As an example, I will change,\n",
    "\n",
    "* merger_rate_density_params's default value of **local merger rate density** ($R_0$) to $38.8\\times 10^{-9} Mpc^{-3} yr^{-1}$ (upper limit of GWTC-3). But, I am still using the default merger_rate_density function, which is 'merger_rate_density_bbh_popI_II_oguri2018'. Note that the accepted $R_0$ value in GWTC-3 is $23.9_{-8.6}^{+14.9}\\times 10^{-9} \\; Mpc^{-3} yr^{-1}$.\n",
    "\n",
    "* **source_frame_masses** to a custom function. This is similar to the internal default function, i.e. PowerLaw+Peak model. I am using `gwcosmo`'s powerlaw_gaussian prior for this example.\n",
    "\n",
    "* `gwsnr` parameters: By default, it uses 'IMRPhenomD' **waveform model** with no spin. It uses interpolation method to find the 'snr' and it is super fast. But for the example below, I am using 'IMRPhenomXPHM` with precessing spins. This is without interpolation but through inner product method. It will be slower.\n",
    "\n",
    "**Note:** All custom functions sampler should have 'size' as the only input."
   ]
  },
  {
   "cell_type": "code",
   "execution_count": 14,
   "metadata": {},
   "outputs": [],
   "source": [
    "from gwcosmo import priors as p\n",
    "\n",
    "# define your custom function of mass_1_source and mass_2_source calculation\n",
    "# it should have 'size' as the only argument\n",
    "def powerlaw_peak(size):\n",
    "    \"\"\"\n",
    "    Function to sample mass1 and mass2 from a powerlaw with a gaussian peak\n",
    "\n",
    "    Parameters\n",
    "    ----------\n",
    "    size : `int`\n",
    "        Number of samples to draw\n",
    "\n",
    "    Returns\n",
    "    -------\n",
    "    mass_1_source : `numpy.ndarray`\n",
    "        Array of mass1 samples\n",
    "    mass_2_source : `numpy.ndarray`\n",
    "        Array of mass2 samples\n",
    "    \"\"\"\n",
    "\n",
    "    # below is the gwcosmo default values\n",
    "    mminbh=4.98  # Minimum mass of the black hole (Msun)\n",
    "    mmaxbh=86.22  # Maximum mass of the black hole (Msun) \n",
    "    alpha=2.63  # Spectral index for the powerlaw of the primary mass distribution\n",
    "    mu_g=33.07  # Mean of the Gaussian component in the primary mass distribution\n",
    "    sigma_g=5.69  # Width of the Gaussian component in the primary mass distribution\n",
    "    lambda_peak=0.10  # Fraction of the model in the Gaussian component\n",
    "    delta_m=4.82  # Range of mass tapering on the lower end of the mass distribution\n",
    "    beta=1.26  # Spectral index for the powerlaw of the mass ratio distribution\n",
    "\n",
    "    model = p.BBH_powerlaw_gaussian(\n",
    "        mminbh=mminbh,\n",
    "        mmaxbh=mmaxbh,\n",
    "        alpha=alpha,\n",
    "        mu_g=mu_g,\n",
    "        sigma_g=sigma_g,\n",
    "        lambda_peak=lambda_peak,\n",
    "        delta_m=delta_m,\n",
    "        beta=beta,\n",
    "    )\n",
    "    # sample mass1 and mass2\n",
    "    mass_1_source, mass_2_source = model.sample(Nsample=size)\n",
    "\n",
    "    return (mass_1_source, mass_2_source)"
   ]
  },
  {
   "cell_type": "markdown",
   "metadata": {},
   "source": [
    "* Initialize the class with the custom function\n",
    "* changing gwrates input params"
   ]
  },
  {
   "cell_type": "code",
   "execution_count": 15,
   "metadata": {},
   "outputs": [],
   "source": [
    "from ler.rates import GWRATES\n",
    "import numpy as np\n",
    "\n",
    "ler = GWRATES(npool=4, verbose=False,\n",
    "    source_priors=dict(\n",
    "        merger_rate_density='merger_rate_density_bbh_popI_II_oguri2018',\n",
    "        source_frame_masses=powerlaw_peak,\n",
    "    ),\n",
    "   source_priors_params=dict(\n",
    "        merger_rate_density=dict(\n",
    "            R0=38.8e-09,\n",
    "            b2=1.6,\n",
    "            b3=2.0,\n",
    "            b4=30\n",
    "        ),\n",
    "        source_frame_masses=dict(\n",
    "            mminbh=4.98,\n",
    "            mmaxbh=86.22,\n",
    "            alpha=2.63,\n",
    "            mu_g=33.07,\n",
    "            sigma_g=5.69,\n",
    "            lambda_peak=0.10,\n",
    "            delta_m=4.82,\n",
    "            beta=1.26\n",
    "        ),\n",
    "   ),\n",
    "   waveform_approximant = 'IMRPhenomXPHM',\n",
    "   snr_type='inner_product',\n",
    "   spin_zero=False,\n",
    "   spin_precession=True,\n",
    ")"
   ]
  },
  {
   "cell_type": "markdown",
   "metadata": {},
   "source": [
    "* since I am using inner product to calculate snr, it will take longer time to simulate the events.\n",
    "\n",
    "* You can increase the speed by allocating more CPU cores to the code. For example, if you have 8 logical cores, set npool>4"
   ]
  },
  {
   "cell_type": "code",
   "execution_count": 16,
   "metadata": {},
   "outputs": [
    {
     "name": "stdout",
     "output_type": "stream",
     "text": [
      "Simulated GW params will be stored in ./ler_data/new_gw_params.json\n",
      "chosen batch size = 50000 with total size = 100000\n",
      "There will be 2 batche(s)\n",
      "Batch no. 1\n",
      "sampling gw source params...\n",
      "calculating snrs...\n",
      "solving SNR with inner product\n"
     ]
    },
    {
     "name": "stderr",
     "output_type": "stream",
     "text": [
      "100%|████████████████████████████████████████████████████████| 40687/40687 [00:56<00:00, 721.25it/s]\n"
     ]
    },
    {
     "name": "stdout",
     "output_type": "stream",
     "text": [
      "Batch no. 2\n",
      "sampling gw source params...\n",
      "calculating snrs...\n",
      "solving SNR with inner product\n"
     ]
    },
    {
     "name": "stderr",
     "output_type": "stream",
     "text": [
      "100%|████████████████████████████████████████████████████████| 40735/40735 [00:55<00:00, 740.46it/s]\n"
     ]
    },
    {
     "name": "stdout",
     "output_type": "stream",
     "text": [
      "saving all gw_params in ./ler_data/new_gw_params.json...\n"
     ]
    }
   ],
   "source": [
    "ler.batch_size = 50000 # you can also set the batch size at GWRATES initialization\n",
    "ler.gw_cbc_statistics(size=100000, resume=False, output_jsonfile = 'new_gw_params.json');"
   ]
  },
  {
   "cell_type": "markdown",
   "metadata": {},
   "source": [
    "* generate detectable events\n",
    "* and get the rate of detectable events\n",
    "* You have two choice to input the generated parameters, either as json file name or as a dict"
   ]
  },
  {
   "cell_type": "code",
   "execution_count": 17,
   "metadata": {},
   "outputs": [
    {
     "name": "stdout",
     "output_type": "stream",
     "text": [
      "Getting GW parameters from json file ./ler_data/new_gw_params.json...\n",
      "given detectability_condition == 'step_function'\n",
      "total GW event rate (yr^-1): 1554.5760498550699\n",
      "number of simulated GW detectable events: 925\n",
      "number of simulated all GW events: 100000\n",
      "storing detectable params in ./ler_data/new_gw_params_detectable.json\n"
     ]
    }
   ],
   "source": [
    "# ler.gw_rate(); # this is short hand for the following\n",
    "rate, param_detectable = ler.gw_rate(\n",
    "    gw_param='new_gw_params.json',\n",
    "    snr_threshold=8.0,\n",
    "    output_jsonfile='new_gw_params_detectable.json',\n",
    ")"
   ]
  },
  {
   "cell_type": "markdown",
   "metadata": {},
   "source": [
    "### How to look for available model functions?"
   ]
  },
  {
   "cell_type": "markdown",
   "metadata": {},
   "source": [
    "* All available names are stored as a dict in `ler` instance\n",
    "\n",
    "* the keys of this dict shows the parameter type\n",
    "\n",
    "* the values are also dict, where the keys are the model function names and the values are their input parameters"
   ]
  },
  {
   "cell_type": "code",
   "execution_count": 18,
   "metadata": {},
   "outputs": [
    {
     "data": {
      "text/plain": [
       "{'binary_masses_BBH_popI_II_powerlaw_gaussian': {'mminbh': 4.98,\n",
       "  'mmaxbh': 112.5,\n",
       "  'alpha': 3.78,\n",
       "  'mu_g': 32.27,\n",
       "  'sigma_g': 3.88,\n",
       "  'lambda_peak': 0.03,\n",
       "  'delta_m': 4.8,\n",
       "  'beta': 0.81},\n",
       " 'binary_masses_BBH_popIII_lognormal': {'Mc': 30.0, 'sigma': 0.3, 'beta': 1.1},\n",
       " 'binary_masses_BBH_primordial_lognormal': {'Mc': 30.0,\n",
       "  'sigma': 0.3,\n",
       "  'beta': 1.1},\n",
       " 'binary_masses_BNS_gwcosmo': {'mminns': 1.0, 'mmaxns': 3.0, 'alphans': 0.0},\n",
       " 'binary_masses_BNS_bimodal': {'w': 0.643,\n",
       "  'muL': 1.352,\n",
       "  'sigmaL': 0.08,\n",
       "  'muR': 1.88,\n",
       "  'sigmaR': 0.3,\n",
       "  'mmin': 1.0,\n",
       "  'mmax': 2.3}}"
      ]
     },
     "execution_count": 18,
     "metadata": {},
     "output_type": "execute_result"
    }
   ],
   "source": [
    "# let's look at one of the dict key\n",
    "ler.available_gw_prior_list_and_its_params['source_frame_masses']"
   ]
  },
  {
   "cell_type": "markdown",
   "metadata": {},
   "source": [
    "* for looking at the choosen models and its input parameters"
   ]
  },
  {
   "cell_type": "code",
   "execution_count": 19,
   "metadata": {},
   "outputs": [
    {
     "name": "stdout",
     "output_type": "stream",
     "text": [
      "{'merger_rate_density': 'merger_rate_density_bbh_popI_II_oguri2018', 'source_frame_masses': <function powerlaw_peak at 0x32cfdacb0>, 'zs': 'sample_source_redshift', 'geocent_time': 'sampler_uniform', 'ra': 'sampler_uniform', 'dec': 'sampler_cosine', 'phase': 'sampler_uniform', 'psi': 'sampler_uniform', 'theta_jn': 'sampler_sine', 'a_1': 'sampler_uniform', 'a_2': 'sampler_uniform', 'tilt_1': 'sampler_sine', 'tilt_2': 'sampler_sine', 'phi_12': 'sampler_uniform', 'phi_jl': 'sampler_uniform'}\n",
      "{'merger_rate_density': {'R0': 3.88e-08, 'b2': 1.6, 'b3': 2.0, 'b4': 30}, 'source_frame_masses': {'mminbh': 4.98, 'mmaxbh': 86.22, 'alpha': 2.63, 'mu_g': 33.07, 'sigma_g': 5.69, 'lambda_peak': 0.1, 'delta_m': 4.82, 'beta': 1.26}, 'zs': None, 'geocent_time': {'min_': 1238166018, 'max_': 1269702018}, 'ra': {'min_': 0.0, 'max_': 6.283185307179586}, 'dec': None, 'phase': {'min_': 0.0, 'max_': 6.283185307179586}, 'psi': {'min_': 0.0, 'max_': 3.141592653589793}, 'theta_jn': None, 'a_1': {'min_': 0.0, 'max_': 0.8}, 'a_2': {'min_': 0.0, 'max_': 0.8}, 'tilt_1': None, 'tilt_2': None, 'phi_12': {'min_': 0, 'max_': 6.283185307179586}, 'phi_jl': {'min_': 0, 'max_': 6.283185307179586}}\n"
     ]
    }
   ],
   "source": [
    "print(ler.gw_param_samplers)\n",
    "print(ler.gw_param_samplers_params)"
   ]
  },
  {
   "cell_type": "markdown",
   "metadata": {},
   "source": [
    "## Using internal model functions\n",
    "\n",
    "### Mass distribution of BBH (mass-1, larger mass only)\n",
    "\n",
    "* compare the default mass distribution with the custom mass distribution"
   ]
  },
  {
   "cell_type": "code",
   "execution_count": 20,
   "metadata": {},
   "outputs": [],
   "source": [
    "# calling the default mass distribution model\n",
    "mass_1_source, mass_2_source = ler.binary_masses_BBH_popI_II_powerlaw_gaussian(size=10000)\n",
    "default_model_dict = dict(mass_1_source=mass_1_source)\n",
    "\n",
    "# calling the custom mass distribution model\n",
    "mass_1_source, mass_2_source = powerlaw_peak(size=10000)\n",
    "custom_model_dict = dict(mass_1_source=mass_1_source)"
   ]
  },
  {
   "cell_type": "markdown",
   "metadata": {},
   "source": [
    "* let's do a comparision plot between you custom model and the default model"
   ]
  },
  {
   "cell_type": "code",
   "execution_count": 21,
   "metadata": {},
   "outputs": [
    {
     "data": {
      "image/png": "[encoded data removed]",
      "text/plain": [
       "<Figure size 600x400 with 1 Axes>"
      ]
     },
     "metadata": {},
     "output_type": "display_data"
    }
   ],
   "source": [
    "import matplotlib.pyplot as plt\n",
    "from ler.utils import plots as lerplt\n",
    "\n",
    "# let's do a comparision plot between you custom model and the default model\n",
    "plt.figure(figsize=(6, 4))\n",
    "lerplt.param_plot(\n",
    "    param_name=\"mass_1_source\", \n",
    "    param_dict=custom_model_dict, # or the json file name\n",
    "    plot_label='custom model',\n",
    ");\n",
    "lerplt.param_plot(\n",
    "    param_name=\"mass_1_source\", \n",
    "    param_dict=default_model_dict,\n",
    "    plot_label='default model',\n",
    ");\n",
    "plt.xlabel(r'source $m_1$ ($M_{\\odot}$)')\n",
    "plt.ylabel(r'$p(source mass_1)$')\n",
    "plt.xlim(0,60)\n",
    "plt.grid(alpha=0.4)\n",
    "plt.show()"
   ]
  },
  {
   "cell_type": "markdown",
   "metadata": {},
   "source": []
  },
  {
   "cell_type": "markdown",
   "metadata": {},
   "source": [
    "## Generating particular number of detectable events\n",
    "\n",
    "* this is particularly useful when you want only the detectable events to be saved in the json file\n",
    "\n",
    "* detectable event rates will be calculated at each batches. Subsequent batch will consider the previous batch's detectable events. So, the rates will become more accurate as the iterations increases and will converge to a stable value at higher samples. \n",
    "\n",
    "* you can resume the rate calculation from the last saved batch."
   ]
  },
  {
   "cell_type": "code",
   "execution_count": null,
   "metadata": {},
   "outputs": [],
   "source": [
    "from ler.rates import GWRATES\n",
    "ler = GWRATES(\n",
    "    npool=6,\n",
    "    verbose=False,\n",
    ")"
   ]
  },
  {
   "cell_type": "markdown",
   "metadata": {},
   "source": [
    "* sampling till desired number of detectable events are found"
   ]
  },
  {
   "cell_type": "code",
   "execution_count": 23,
   "metadata": {},
   "outputs": [
    {
     "name": "stdout",
     "output_type": "stream",
     "text": [
      "collected number of detectable events =  0\n",
      "given detectability_condition == 'step_function'\n",
      "collected number of detectable events =  386\n",
      "total number of events =  100000\n",
      "total rate (yr^-1): 399.5983808953179\n",
      "given detectability_condition == 'step_function'\n",
      "collected number of detectable events =  788\n",
      "total number of events =  200000\n",
      "total rate (yr^-1): 407.8802126237183\n",
      "given detectability_condition == 'step_function'\n",
      "collected number of detectable events =  1201\n",
      "total number of events =  300000\n",
      "total rate (yr^-1): 414.43666274203525\n",
      "given detectability_condition == 'step_function'\n",
      "collected number of detectable events =  1670\n",
      "total number of events =  400000\n",
      "total rate (yr^-1): 432.2080933258944\n",
      "given detectability_condition == 'step_function'\n",
      "collected number of detectable events =  2086\n",
      "total number of events =  500000\n",
      "total rate (yr^-1): 431.89752463607937\n",
      "given detectability_condition == 'step_function'\n",
      "collected number of detectable events =  2506\n",
      "total number of events =  600000\n",
      "total rate (yr^-1): 432.38063148690276\n",
      "given detectability_condition == 'step_function'\n",
      "collected number of detectable events =  2921\n",
      "total number of events =  700000\n",
      "total rate (yr^-1): 431.98625854745507\n",
      "given detectability_condition == 'step_function'\n",
      "collected number of detectable events =  3352\n",
      "total number of events =  800000\n",
      "total rate (yr^-1): 433.7609367749695\n",
      "given detectability_condition == 'step_function'\n",
      "collected number of detectable events =  3790\n",
      "total number of events =  900000\n",
      "total rate (yr^-1): 435.9464201477418\n",
      "given detectability_condition == 'step_function'\n",
      "collected number of detectable events =  4189\n",
      "total number of events =  1000000\n",
      "total rate (yr^-1): 433.6574138783644\n",
      "given detectability_condition == 'step_function'\n",
      "collected number of detectable events =  4627\n",
      "total number of events =  1100000\n",
      "total rate (yr^-1): 435.4549478103241\n",
      "given detectability_condition == 'step_function'\n",
      "collected number of detectable events =  5065\n",
      "total number of events =  1200000\n",
      "total rate (yr^-1): 436.95289275362376\n",
      "stored detectable gw params in ./ler_data/gw_params_n_detectable.json\n",
      "stored meta data in ./ler_data/meta_gw.json\n",
      "\n",
      " trmming final result to size=5000\n",
      "collected number of detectable events =  5000\n",
      "total number of events =  1184600.0\n",
      "total GW event rate (yr^-1): 436.95296557911803\n"
     ]
    }
   ],
   "source": [
    "n_size_param = ler.selecting_n_gw_detectable_events(\n",
    "    size=5000, \n",
    "    snr_threshold=8.0,\n",
    "    batch_size=100000,\n",
    "    resume=False,\n",
    "    output_jsonfile='gw_params_n_detectable.json',\n",
    "    meta_data_file=\"meta_gw.json\",\n",
    "    )"
   ]
  },
  {
   "cell_type": "code",
   "execution_count": 24,
   "metadata": {},
   "outputs": [
    {
     "data": {
      "text/plain": [
       "dict_keys(['gwrates_params', 'gw_param', 'gw_param_detectable', 'n_gw_detectable_events'])"
      ]
     },
     "execution_count": 24,
     "metadata": {},
     "output_type": "execute_result"
    }
   ],
   "source": [
    "ler.json_file_names.keys()"
   ]
  },
  {
   "cell_type": "markdown",
   "metadata": {},
   "source": [
    "**Important Note**: At each iteration, rate is calculated using the cummulatively increasing number of events. It become stable at around 2 million events. This is the number of events that is required to get a stable rate.\n",
    "\n",
    "* Now get the sampled (detectable) events."
   ]
  },
  {
   "cell_type": "code",
   "execution_count": 25,
   "metadata": {},
   "outputs": [
    {
     "name": "stdout",
     "output_type": "stream",
     "text": [
      "dict_keys(['zs', 'geocent_time', 'ra', 'dec', 'phase', 'psi', 'theta_jn', 'luminosity_distance', 'mass_1_source', 'mass_2_source', 'mass_1', 'mass_2', 'L1', 'H1', 'V1', 'snr_net'])\n",
      "size of each parameters=5000\n"
     ]
    }
   ],
   "source": [
    "print(n_size_param.keys())\n",
    "print(f\"size of each parameters={len(n_size_param['zs'])}\")"
   ]
  },
  {
   "cell_type": "markdown",
   "metadata": {},
   "source": [
    "* let's see the meta file"
   ]
  },
  {
   "cell_type": "code",
   "execution_count": 26,
   "metadata": {},
   "outputs": [
    {
     "name": "stdout",
     "output_type": "stream",
     "text": [
      "dict_keys(['events_total', 'detectable_events', 'total_rate'])\n"
     ]
    }
   ],
   "source": [
    "from ler.utils import load_json\n",
    "\n",
    "meta_data = load_json('ler_data/meta_gw.json')\n",
    "print(meta_data.keys())"
   ]
  },
  {
   "cell_type": "code",
   "execution_count": 27,
   "metadata": {},
   "outputs": [
    {
     "data": {
      "image/png": "[encoded data removed]",
      "text/plain": [
       "<Figure size 400x400 with 1 Axes>"
      ]
     },
     "metadata": {},
     "output_type": "display_data"
    }
   ],
   "source": [
    "import matplotlib.pyplot as plt\n",
    "\n",
    "# plot the rate vs sampling size\n",
    "plt.figure(figsize=(4,4))\n",
    "plt.plot(meta_data['events_total'], meta_data['total_rate'], 'o-')\n",
    "plt.xlabel('Sampling size')\n",
    "plt.ylabel('Rate (per year)')\n",
    "plt.title('Rate vs Sampling size')\n",
    "plt.grid(alpha=0.4)\n",
    "plt.show()"
   ]
  },
  {
   "cell_type": "markdown",
   "metadata": {},
   "source": [
    "* the rate will converge to a stable value at higher samples."
   ]
  },
  {
   "cell_type": "markdown",
   "metadata": {},
   "source": [
    "## Using custom detection criteria\n",
    "\n",
    "* I leverage the ANN (Artificial Neural Network) based SNR calculator from gwsnr. It can predict SNR>8 with 99.9% accuracy for the astrophysical parameters. But to make it 100% accurate, I will recalculate SNR some of the events using inner product method. GWRATES can do this automatically. \n",
    "\n",
    "* I will test two cases using: \n",
    "  * pdet (probability of detection) with ANN\n",
    "  * SNR with ANN."
   ]
  },
  {
   "cell_type": "code",
   "execution_count": 28,
   "metadata": {},
   "outputs": [],
   "source": [
    "from ler.rates import LeR\n",
    "from gwsnr import GWSNR\n",
    "import numpy as np"
   ]
  },
  {
   "cell_type": "markdown",
   "metadata": {},
   "source": [
    "* pdet only calculation"
   ]
  },
  {
   "cell_type": "code",
   "execution_count": 29,
   "metadata": {},
   "outputs": [
    {
     "name": "stdout",
     "output_type": "stream",
     "text": [
      "psds not given. Choosing bilby's default psds\n",
      "Intel processor has trouble allocating memory when the data is huge. So, by default for IMRPhenomXPHM, duration_max = 64.0. Otherwise, set to some max value like duration_max = 600.0 (10 mins)\n",
      "Interpolator will be generated for L1 detector at ./interpolator_pickle/L1/partialSNR_dict_1.pickle\n",
      "Interpolator will be generated for H1 detector at ./interpolator_pickle/H1/partialSNR_dict_1.pickle\n",
      "Interpolator will be generated for V1 detector at ./interpolator_pickle/V1/partialSNR_dict_1.pickle\n",
      "Please be patient while the interpolator is generated\n",
      "Generating interpolator for ['L1', 'H1', 'V1'] detectors\n"
     ]
    },
    {
     "name": "stderr",
     "output_type": "stream",
     "text": [
      "interpolation for each mass_ratios: 100%|███████████████████████████| 50/50 [03:17<00:00,  3.96s/it]"
     ]
    },
    {
     "name": "stdout",
     "output_type": "stream",
     "text": [
      "\n",
      "Chosen GWSNR initialization parameters:\n",
      "\n",
      "npool:  4\n",
      "snr type:  ann\n",
      "waveform approximant:  IMRPhenomXPHM\n",
      "sampling frequency:  2048.0\n",
      "minimum frequency (fmin):  20.0\n",
      "mtot=mass1+mass2\n",
      "min(mtot):  2.0\n",
      "max(mtot) (with the given fmin=20.0): 184.98599853446768\n",
      "detectors:  ['L1', 'H1', 'V1']\n",
      "psds:  [PowerSpectralDensity(psd_file='None', asd_file='/Users/phurailatpamhemantakumar/anaconda3/envs/ler/lib/python3.10/site-packages/bilby/gw/detector/noise_curves/aLIGO_O4_high_asd.txt'), PowerSpectralDensity(psd_file='None', asd_file='/Users/phurailatpamhemantakumar/anaconda3/envs/ler/lib/python3.10/site-packages/bilby/gw/detector/noise_curves/aLIGO_O4_high_asd.txt'), PowerSpectralDensity(psd_file='None', asd_file='/Users/phurailatpamhemantakumar/anaconda3/envs/ler/lib/python3.10/site-packages/bilby/gw/detector/noise_curves/AdV_asd.txt')]\n"
     ]
    },
    {
     "name": "stderr",
     "output_type": "stream",
     "text": [
      "\n"
     ]
    }
   ],
   "source": [
    "snr_ = GWSNR(gwsnr_verbose=True, pdet=True, snr_type='ann', waveform_approximant='IMRPhenomXPHM')"
   ]
  },
  {
   "cell_type": "markdown",
   "metadata": {},
   "source": [
    "* Pdet calculator test"
   ]
  },
  {
   "cell_type": "code",
   "execution_count": 30,
   "metadata": {},
   "outputs": [
    {
     "name": "stderr",
     "output_type": "stream",
     "text": [
      "100%|█████████████████████████████████████████████████████████████████| 3/3 [00:03<00:00,  1.05s/it]"
     ]
    },
    {
     "name": "stdout",
     "output_type": "stream",
     "text": [
      "pdet: {'L1': array([0, 0, 1, 0]), 'H1': array([0, 0, 0, 0]), 'V1': array([0, 0, 0, 0]), 'pdet_net': array([1, 0, 1, 0])}\n",
      "inner_product_snr: {'L1': array([ 7.4441411 ,  5.85368923, 10.64502665,  0.        ]), 'H1': array([4.73471203, 3.72313373, 6.77057769, 0.        ]), 'V1': array([2.23257635, 1.73563896, 3.21070702, 0.        ]), 'snr_net': array([ 9.10039185,  7.15121283, 13.01790898,  0.        ])}\n"
     ]
    },
    {
     "name": "stderr",
     "output_type": "stream",
     "text": [
      "\n"
     ]
    }
   ],
   "source": [
    "# initialization pdet calculator\n",
    "pdet_calculator = snr_.snr\n",
    "mass_1 = np.array([5, 10.,50.,200.])\n",
    "ratio = np.array([1, 0.8,0.5,0.2])\n",
    "luminosity_distance = np.array([1000, 2000, 3000, 4000])\n",
    "# test\n",
    "pdet = pdet_calculator(\n",
    "    gw_param_dict=dict(\n",
    "        mass_1=mass_1,\n",
    "        mass_2=mass_1*ratio,\n",
    "        luminosity_distance=luminosity_distance,\n",
    "    )\n",
    ")\n",
    "inner_product_snr = snr_.compute_bilby_snr(\n",
    "    mass_1=mass_1,\n",
    "    mass_2=mass_1*ratio,\n",
    "    luminosity_distance=luminosity_distance,\n",
    ")\n",
    "\n",
    "print(f\"pdet: {pdet}\")\n",
    "print(f\"inner_product_snr: {inner_product_snr}\")"
   ]
  },
  {
   "cell_type": "markdown",
   "metadata": {},
   "source": [
    "* Below is an example of general case of initialising with any type of pdet calculator.\n",
    "\n",
    "* Refer to the [documentation](https://ler.readthedocs.io/en/latest/examples/rates/grb%20detection%20rate.html) example for extra details, where I have used pdet for GRB (gamma-ray-burst) detection."
   ]
  },
  {
   "cell_type": "code",
   "execution_count": 31,
   "metadata": {},
   "outputs": [],
   "source": [
    "from ler.rates import GWRATES\n",
    "\n",
    "ler = GWRATES(verbose=False, pdet_finder=pdet_calculator, spin_zero=False,\n",
    "    spin_precession=True)"
   ]
  },
  {
   "cell_type": "code",
   "execution_count": 32,
   "metadata": {},
   "outputs": [
    {
     "name": "stdout",
     "output_type": "stream",
     "text": [
      "Simulated GW params will be stored in ./ler_data/gw_param.json\n",
      "chosen batch size = 50000 with total size = 100000\n",
      "There will be 2 batche(s)\n",
      "Batch no. 1\n",
      "sampling gw source params...\n",
      "calculating pdet...\n",
      "Batch no. 2\n",
      "sampling gw source params...\n",
      "calculating pdet...\n",
      "saving all gw_params in ./ler_data/gw_param.json...\n"
     ]
    }
   ],
   "source": [
    "param = ler.gw_cbc_statistics();"
   ]
  },
  {
   "cell_type": "code",
   "execution_count": 33,
   "metadata": {},
   "outputs": [
    {
     "name": "stdout",
     "output_type": "stream",
     "text": [
      "Getting GW parameters from json file ./ler_data/gw_param.json...\n",
      "given detectability_condition == 'pdet'\n",
      "total GW event rate (yr^-1): 477.24055334907143\n",
      "number of simulated GW detectable events: 461\n",
      "number of simulated all GW events: 100000\n",
      "storing detectable params in ./ler_data/gw_param_detectable.json\n"
     ]
    }
   ],
   "source": [
    "_, param_detectable = ler.gw_rate(detectability_condition='pdet')"
   ]
  },
  {
   "cell_type": "markdown",
   "metadata": {},
   "source": [
    "### SNR (with ANN) + SNR recalculation (inner product)"
   ]
  },
  {
   "cell_type": "code",
   "execution_count": 34,
   "metadata": {},
   "outputs": [],
   "source": [
    "from ler.rates import GWRATES\n",
    "\n",
    "# ler initialization with gwsnr arguments\n",
    "ler = GWRATES(npool=6, verbose=False, snr_type='ann', waveform_approximant='IMRPhenomXPHM', spin_zero=False,\n",
    "    spin_precession=True)"
   ]
  },
  {
   "cell_type": "code",
   "execution_count": 35,
   "metadata": {},
   "outputs": [
    {
     "name": "stdout",
     "output_type": "stream",
     "text": [
      "collected number of detectable events =  0\n"
     ]
    },
    {
     "name": "stderr",
     "output_type": "stream",
     "text": [
      "100%|██████████████████████████████████████████████████████████| 1674/1674 [00:06<00:00, 257.10it/s]\n"
     ]
    },
    {
     "name": "stdout",
     "output_type": "stream",
     "text": [
      "given detectability_condition == 'step_function'\n",
      "collected number of detectable events =  212\n",
      "total number of events =  50000\n",
      "total rate (yr^-1): 438.9370816052197\n"
     ]
    },
    {
     "name": "stderr",
     "output_type": "stream",
     "text": [
      "100%|██████████████████████████████████████████████████████████| 1544/1544 [00:05<00:00, 281.79it/s]\n"
     ]
    },
    {
     "name": "stdout",
     "output_type": "stream",
     "text": [
      "given detectability_condition == 'step_function'\n",
      "collected number of detectable events =  444\n",
      "total number of events =  100000\n",
      "total rate (yr^-1): 459.64166092622065\n"
     ]
    },
    {
     "name": "stderr",
     "output_type": "stream",
     "text": [
      "100%|██████████████████████████████████████████████████████████| 1609/1609 [00:05<00:00, 292.65it/s]"
     ]
    },
    {
     "name": "stdout",
     "output_type": "stream",
     "text": [
      "given detectability_condition == 'step_function'\n",
      "collected number of detectable events =  655\n",
      "total number of events =  150000\n",
      "total rate (yr^-1): 452.04998184185365\n",
      "stored detectable gw params in ./ler_data/gw_params_n_detectable_ann.json\n",
      "stored meta data in ./ler_data/meta_gw_ann.json\n"
     ]
    },
    {
     "name": "stderr",
     "output_type": "stream",
     "text": [
      "\n"
     ]
    }
   ],
   "source": [
    "param = ler.selecting_n_gw_detectable_events(\n",
    "    size=500, \n",
    "    snr_threshold=8.0,\n",
    "    batch_size=50000,\n",
    "    resume=True,\n",
    "    trim_to_size=False,\n",
    "    output_jsonfile='gw_params_n_detectable_ann.json',\n",
    "    meta_data_file=\"meta_gw_ann.json\",\n",
    "    snr_recalculation=True,\n",
    "    snr_threshold_recalculation=[4,20], # it will recalculate SNR for events with (SNR_ANN > 4) and (SNR_ANN < 20)\n",
    "    )"
   ]
  },
  {
   "cell_type": "code",
   "execution_count": 36,
   "metadata": {},
   "outputs": [],
   "source": [
    "# # Uncomment the following to check the accuracy of the above method.\n",
    "# # with the `inner product`\n",
    "\n",
    "# from ler.rates import GWRATES\n",
    "# # class initialization\n",
    "# ler = GWRATES(npool=6, verbose=False, snr_type='inner_product', waveform_approximant='IMRPhenomXPHM')\n",
    "# # event sampling\n",
    "# # \n",
    "# param = ler.selecting_n_gw_detectable_events(\n",
    "#     size=500, \n",
    "#     snr_threshold=8.0,\n",
    "#     batch_size=50000,\n",
    "#     resume=True,\n",
    "#     trim_to_size=False,\n",
    "#     output_jsonfile='gw_params_n_detectable_inner_product.json',\n",
    "#     meta_data_file=\"meta_gw_inner_product.json\",\n",
    "#     snr_recalculation=True,\n",
    "#     snr_threshold_recalculation=[4,20], # it will recalculate SNR for events with (SNR_ANN > 4) and (SNR_ANN < 20)\n",
    "#     )"
   ]
  },
  {
   "cell_type": "markdown",
   "metadata": {},
   "source": [
    "* close enough\n",
    "* For more matching results, you can increase the number of events to 1,000,000 or more."
   ]
  },
  {
   "cell_type": "markdown",
   "metadata": {},
   "source": [
    "## BNS (Binary Neutron Star) example"
   ]
  },
  {
   "cell_type": "markdown",
   "metadata": {},
   "source": [
    "* All you need is to change is `event_type` in class initialization to 'BNS'.\n",
    "* But in this example, I will also change the detector network to ['CE', 'ET']. These are future 3rd generation detectors. Since, they are more sensitive, I will change the redshift range to 0-20 (z_max=20).\n",
    "* The default mass distribution model has a mass-cutoff of 2.3 Msun. So, the maximum possible redshifted total mass is (2.3+2.3)*(1+z_max)=96.6. This allows, gwsnr to have a good interpolation for the snr values.\n",
    "* Difference in the models for BNS and BBH are:\n",
    "    * mass distribution model: bimodal distribution. Refer to [Will M. Farr et al. 2020](https://arxiv.org/pdf/2005.00032.pdf) Eqn. 6\n",
    "    * merger rate density model parameter: local merger rate density value from [GWTC-3 catalog, Section IV A](https://journals.aps.org/prx/pdf/10.1103/PhysRevX.13.011048)."
   ]
  },
  {
   "cell_type": "code",
   "execution_count": 37,
   "metadata": {},
   "outputs": [
    {
     "name": "stdout",
     "output_type": "stream",
     "text": [
      "z_to_luminosity_distance interpolator will be generated at ./interpolator_pickle/z_to_luminosity_distance/z_to_luminosity_distance_1.pickle\n",
      "differential_comoving_volume interpolator will be generated at ./interpolator_pickle/differential_comoving_volume/differential_comoving_volume_1.pickle\n",
      "merger_rate_density interpolator will be generated at ./interpolator_pickle/merger_rate_density/merger_rate_density_2.pickle\n",
      "binary_masses_BNS_bimodal interpolator will be generated at ./interpolator_pickle/binary_masses_BNS_bimodal/binary_masses_BNS_bimodal_0.pickle\n",
      "Interpolator will be generated for CE detector at ./interpolator_pickle/CE/partialSNR_dict_0.pickle\n",
      "Interpolator will be generated for ET1 detector at ./interpolator_pickle/ET1/partialSNR_dict_0.pickle\n",
      "Interpolator will be generated for ET2 detector at ./interpolator_pickle/ET2/partialSNR_dict_0.pickle\n",
      "Interpolator will be generated for ET3 detector at ./interpolator_pickle/ET3/partialSNR_dict_0.pickle\n",
      "Please be patient while the interpolator is generated\n",
      "Generating interpolator for ['CE', 'ET1', 'ET2', 'ET3'] detectors\n"
     ]
    },
    {
     "name": "stderr",
     "output_type": "stream",
     "text": [
      "interpolation for each mass_ratios: 100%|███████████████████████████| 50/50 [03:04<00:00,  3.69s/it]"
     ]
    },
    {
     "name": "stdout",
     "output_type": "stream",
     "text": [
      "\n",
      " GWRATES set up params:\n",
      "npool = 4,\n",
      "z_min = 0,\n",
      "z_max = 20,\n",
      "event_type = 'BNS',\n",
      "size = 100000,\n",
      "batch_size = 50000,\n",
      "cosmology = LambdaCDM(H0=70.0 km / (Mpc s), Om0=0.3, Ode0=0.7, Tcmb0=0.0 K, Neff=3.04, m_nu=None, Ob0=None),\n",
      "snr_finder = <bound method GWSNR.snr of <gwsnr.gwsnr.GWSNR object at 0x32d1999f0>>,\n",
      "json_file_names = {'gwrates_params': 'gwrates_params.json', 'gw_param': 'gw_param.json', 'gw_param_detectable': 'gw_param_detectable.json'},\n",
      "interpolator_directory = ./interpolator_pickle,\n",
      "ler_directory = ./ler_data,\n",
      "\n",
      " GWRATES also takes CBCSourceParameterDistribution params as kwargs, as follows:\n",
      "source_priors = {'merger_rate_density': 'merger_rate_density_bbh_popI_II_oguri2018', 'source_frame_masses': 'binary_masses_BNS_bimodal', 'zs': 'sample_source_redshift', 'geocent_time': 'sampler_uniform', 'ra': 'sampler_uniform', 'dec': 'sampler_cosine', 'phase': 'sampler_uniform', 'psi': 'sampler_uniform', 'theta_jn': 'sampler_sine'},\n",
      "source_priors_params = {'merger_rate_density': {'R0': 1.0550000000000001e-07, 'b2': 1.6, 'b3': 2.0, 'b4': 30}, 'source_frame_masses': {'w': 0.643, 'muL': 1.352, 'sigmaL': 0.08, 'muR': 1.88, 'sigmaR': 0.3, 'mmin': 1.0, 'mmax': 2.3}, 'zs': None, 'geocent_time': {'min_': 1238166018, 'max_': 1269702018}, 'ra': {'min_': 0.0, 'max_': 6.283185307179586}, 'dec': None, 'phase': {'min_': 0.0, 'max_': 6.283185307179586}, 'psi': {'min_': 0.0, 'max_': 3.141592653589793}, 'theta_jn': None},\n",
      "spin_zero = True,\n",
      "spin_precession = False,\n",
      "create_new_interpolator = False,\n",
      "\n",
      " LeR also takes gwsnr.GWSNR params as kwargs, as follows:\n",
      "mtot_min = 2.0,\n",
      "mtot_max = 96.6,\n",
      "ratio_min = 0.1,\n",
      "ratio_max = 1.0,\n",
      "mtot_resolution = 500,\n",
      "ratio_resolution = 50,\n",
      "sampling_frequency = 2048.0,\n",
      "waveform_approximant = 'IMRPhenomD',\n",
      "minimum_frequency = 20.0,\n",
      "snr_type = 'interpolation',\n",
      "psds = [PowerSpectralDensity(psd_file='/Users/phurailatpamhemantakumar/anaconda3/envs/ler/lib/python3.10/site-packages/bilby/gw/detector/noise_curves/CE_psd.txt', asd_file='None'), PowerSpectralDensity(psd_file='/Users/phurailatpamhemantakumar/anaconda3/envs/ler/lib/python3.10/site-packages/bilby/gw/detector/noise_curves/ET_D_psd.txt', asd_file='None'), PowerSpectralDensity(psd_file='/Users/phurailatpamhemantakumar/anaconda3/envs/ler/lib/python3.10/site-packages/bilby/gw/detector/noise_curves/ET_D_psd.txt', asd_file='None'), PowerSpectralDensity(psd_file='/Users/phurailatpamhemantakumar/anaconda3/envs/ler/lib/python3.10/site-packages/bilby/gw/detector/noise_curves/ET_D_psd.txt', asd_file='None')],\n",
      "ifos = ['CE', 'ET'],\n",
      "interpolator_dir = './interpolator_pickle',\n",
      "create_new_interpolator = False,\n",
      "gwsnr_verbose = False,\n",
      "multiprocessing_verbose = True,\n",
      "mtot_cut = True,\n",
      "\n",
      " For reference, the chosen source parameters are listed below:\n",
      "merger_rate_density = 'merger_rate_density_bbh_popI_II_oguri2018'\n",
      "merger_rate_density_params =  {'R0': 1.0550000000000001e-07, 'b2': 1.6, 'b3': 2.0, 'b4': 30}\n",
      "source_frame_masses = 'binary_masses_BNS_bimodal'\n",
      "source_frame_masses_params =  {'w': 0.643, 'muL': 1.352, 'sigmaL': 0.08, 'muR': 1.88, 'sigmaR': 0.3, 'mmin': 1.0, 'mmax': 2.3}\n",
      "geocent_time = 'sampler_uniform'\n",
      "geocent_time_params =  {'min_': 1238166018, 'max_': 1269702018}\n",
      "ra = 'sampler_uniform'\n",
      "ra_params =  {'min_': 0.0, 'max_': 6.283185307179586}\n",
      "dec = 'sampler_cosine'\n",
      "dec_params =  None\n",
      "phase = 'sampler_uniform'\n",
      "phase_params =  {'min_': 0.0, 'max_': 6.283185307179586}\n",
      "psi = 'sampler_uniform'\n",
      "psi_params =  {'min_': 0.0, 'max_': 3.141592653589793}\n",
      "theta_jn = 'sampler_sine'\n",
      "theta_jn_params =  None\n"
     ]
    },
    {
     "name": "stderr",
     "output_type": "stream",
     "text": [
      "\n"
     ]
    }
   ],
   "source": [
    "from ler.rates import GWRATES\n",
    "\n",
    "# z_max = 20. So maximum redshifted total mass is 2.3*(1+z_max) * 2 = 96.6\n",
    "ler = GWRATES(event_type='BNS', ifos=['CE', 'ET'], z_min=0, z_max=20, mtot_max=96.6, verbose=True)"
   ]
  },
  {
   "cell_type": "code",
   "execution_count": 38,
   "metadata": {},
   "outputs": [
    {
     "name": "stdout",
     "output_type": "stream",
     "text": [
      "Simulated GW params will be stored in ./ler_data/gw_param.json\n",
      "chosen batch size = 100000 with total size = 500000\n",
      "There will be 5 batche(s)\n",
      "Batch no. 1\n",
      "sampling gw source params...\n",
      "calculating snrs...\n",
      "Batch no. 2\n",
      "sampling gw source params...\n",
      "calculating snrs...\n",
      "Batch no. 3\n",
      "sampling gw source params...\n",
      "calculating snrs...\n",
      "Batch no. 4\n",
      "sampling gw source params...\n",
      "calculating snrs...\n",
      "Batch no. 5\n",
      "sampling gw source params...\n",
      "calculating snrs...\n",
      "saving all gw_params in ./ler_data/gw_param.json...\n"
     ]
    }
   ],
   "source": [
    "ler.batch_size = 100000\n",
    "param = ler.gw_cbc_statistics(size=500000, resume=False, save_batch=False)"
   ]
  },
  {
   "cell_type": "code",
   "execution_count": 39,
   "metadata": {},
   "outputs": [
    {
     "name": "stdout",
     "output_type": "stream",
     "text": [
      "Getting GW parameters from json file ./ler_data/gw_param.json...\n",
      "given detectability_condition == 'step_function'\n",
      "total GW event rate (yr^-1): 165597.07771035784\n",
      "number of simulated GW detectable events: 180277\n",
      "number of simulated all GW events: 500000\n",
      "storing detectable params in ./ler_data/gw_param_detectable.json\n"
     ]
    }
   ],
   "source": [
    "ler.gw_rate();"
   ]
  },
  {
   "cell_type": "markdown",
   "metadata": {},
   "source": [
    "* Let's plot the redshift and mass distribution"
   ]
  },
  {
   "cell_type": "code",
   "execution_count": 40,
   "metadata": {},
   "outputs": [],
   "source": [
    "import matplotlib.pyplot as plt\n",
    "# ler.utils has a function for plotting histograms and KDEs\n",
    "from ler.utils import plots as lerplt\n",
    "\n",
    "params = ler.gw_param\n",
    "params_detectable = ler.gw_param_detectable"
   ]
  },
  {
   "cell_type": "code",
   "execution_count": 41,
   "metadata": {},
   "outputs": [
    {
     "data": {
      "image/png": "[encoded data removed]",
      "text/plain": [
       "<Figure size 600x400 with 1 Axes>"
      ]
     },
     "metadata": {},
     "output_type": "display_data"
    }
   ],
   "source": [
    "# sample source redshifts (source frame)\n",
    "zs = params['zs']\n",
    "zs_detectable = params_detectable['zs']\n",
    "\n",
    "plt.figure(figsize=(6, 4))\n",
    "lerplt.param_plot(\n",
    "    param_name=\"zs\", \n",
    "    param_dict=params, # or the json file name\n",
    "    plot_label='all',\n",
    "    histogram=False,\n",
    ");\n",
    "lerplt.param_plot(\n",
    "    param_name=\"zs\", \n",
    "    param_dict=params_detectable,\n",
    "    plot_label='detectable',\n",
    "    histogram=False,\n",
    ");\n",
    "plt.xlabel(r'source redshift ($z_s$)')\n",
    "plt.ylabel(r'$p(z_s)$')\n",
    "plt.xlim(0,15)\n",
    "plt.grid(alpha=0.4)\n",
    "plt.show()\n"
   ]
  },
  {
   "cell_type": "markdown",
   "metadata": {},
   "source": [
    "* From this result, it should be known that you could set z_max lower (as well as mtot_max).\n",
    "\n",
    "* now, let's see source mass_distribution (source frame)."
   ]
  },
  {
   "cell_type": "code",
   "execution_count": 42,
   "metadata": {},
   "outputs": [
    {
     "data": {
      "image/png": "[encoded data removed]",
      "text/plain": [
       "<Figure size 600x400 with 1 Axes>"
      ]
     },
     "metadata": {},
     "output_type": "display_data"
    }
   ],
   "source": [
    "plt.figure(figsize=(6, 4))\n",
    "lerplt.param_plot(\n",
    "    param_name=\"mass_1_source\", \n",
    "    param_dict=params, # or the json file name\n",
    "    plot_label=r\"$m_1^{src}$\",\n",
    "    histogram=False,\n",
    ");\n",
    "lerplt.param_plot(\n",
    "    param_name=\"mass_2_source\", \n",
    "    param_dict=params,\n",
    "    plot_label=r\"$m_2^{src}$\",\n",
    "    histogram=False,\n",
    ");\n",
    "plt.xlabel(r'source redshift ($m^{src} M_{\\odot}$)')\n",
    "plt.ylabel(r'p($m_1^{src}$)')\n",
    "plt.xlim(1,2.5)\n",
    "plt.grid(alpha=0.4)\n",
    "plt.show()"
   ]
  },
  {
   "cell_type": "code",
   "execution_count": 7,
   "metadata": {},
   "outputs": [
    {
     "name": "stdout",
     "output_type": "stream",
     "text": [
      "\n",
      "Initializing GWRATES class...\n",
      "\n",
      "\n",
      "Initializing CBCSourceRedshiftDistribution...\n",
      "\n",
      "luminosity_distance interpolator will be loaded from ./interpolator_pickle/luminosity_distance/luminosity_distance_0.pickle\n",
      "differential_comoving_volume interpolator will be loaded from ./interpolator_pickle/differential_comoving_volume/differential_comoving_volume_0.pickle\n",
      "using ler available merger rate density model: merger_rate_density_bbh_popI_II_oguri2018\n",
      "merger_rate_density_bbh_popI_II_oguri2018 interpolator will be loaded from ./interpolator_pickle/merger_rate_density/merger_rate_density_bbh_popI_II_oguri2018_2.pickle\n",
      "merger_rate_density_detector_frame interpolator will be loaded from ./interpolator_pickle/merger_rate_density/merger_rate_density_detector_frame_3.pickle\n",
      "using user provided custom source redshift class/object\n",
      "\n",
      "Initializing CBCSourceParameterDistribution...\n",
      "\n",
      "using ler available zs function : source_redshift\n",
      "using ler available source_frame_masses function : binary_masses_BBH_popI_II_powerlaw_gaussian\n",
      "using ler available geocent_time function : sampler_uniform\n",
      "using ler available dec function : sampler_cosine\n",
      "using ler available phase function : sampler_uniform\n",
      "using ler available psi function : sampler_uniform\n",
      "using ler available theta_jn function : sampler_sine\n",
      "\n",
      "Initializing GWSNR class...\n",
      "\n",
      "psds not given. Choosing bilby's default psds\n",
      "\n",
      "Chosen GWSNR initialization parameters:\n",
      "\n",
      "npool:  4\n",
      "snr type:  inner_product\n",
      "waveform approximant:  IMRPhenomD\n",
      "sampling frequency:  2048.0\n",
      "minimum frequency (fmin):  20.0\n",
      "mtot=mass1+mass2\n",
      "min(mtot):  2.0\n",
      "max(mtot) (with the given fmin=20.0): 184.98599853446768\n",
      "detectors:  ['L1', 'H1', 'V1']\n",
      "psds:  [PowerSpectralDensity(psd_file='None', asd_file='/Users/phurailatpamhemantakumar/anaconda3/envs/ler/lib/python3.10/site-packages/bilby/gw/detector/noise_curves/aLIGO_O4_high_asd.txt'), PowerSpectralDensity(psd_file='None', asd_file='/Users/phurailatpamhemantakumar/anaconda3/envs/ler/lib/python3.10/site-packages/bilby/gw/detector/noise_curves/aLIGO_O4_high_asd.txt'), PowerSpectralDensity(psd_file='None', asd_file='/Users/phurailatpamhemantakumar/anaconda3/envs/ler/lib/python3.10/site-packages/bilby/gw/detector/noise_curves/AdV_asd.txt')]\n",
      "\n",
      "\n",
      "\n",
      " # GWRATES set up params:\n",
      "npool = 4,\n",
      "z_min = 0.0,\n",
      "z_max = 10.0,\n",
      "event_type = 'BBH',\n",
      "size = 100000,\n",
      "batch_size = 50000,\n",
      "cosmology = LambdaCDM(H0=70.0 km / (Mpc s), Om0=0.3, Ode0=0.7, Tcmb0=0.0 K, Neff=3.04, m_nu=None, Ob0=None),\n",
      "snr_finder = <bound method GWSNR.snr of <gwsnr.core.gwsnr.GWSNR object at 0x6043fde70>>,\n",
      "json_file_names = {'gwrates_params': 'gwrates_params.json', 'gw_param': 'gw_param.json', 'gw_param_detectable': 'gw_param_detectable.json'},\n",
      "interpolator_directory = './interpolator_pickle',\n",
      "ler_directory = './ler_data',\n",
      "\n",
      " # GWRATES also takes CBCSourceParameterDistribution params as kwargs, as follows:\n",
      "source_priors = {'merger_rate_density': 'merger_rate_density_bbh_popI_II_oguri2018', 'zs': 'source_redshift', 'source_frame_masses': 'binary_masses_BBH_popI_II_powerlaw_gaussian', 'geocent_time': 'sampler_uniform', 'ra': 'sampler_uniform', 'dec': 'sampler_cosine', 'phase': 'sampler_uniform', 'psi': 'sampler_uniform', 'theta_jn': 'sampler_sine'},\n",
      "source_priors_params = {'merger_rate_density': {'R0': 2.39e-08, 'b2': 1.6, 'b3': 2.1, 'b4': 30}, 'zs': None, 'source_frame_masses': {'mminbh': 4.98, 'mmaxbh': 112.5, 'alpha': 3.78, 'mu_g': 32.27, 'sigma_g': 3.88, 'lambda_peak': 0.03, 'delta_m': 4.8, 'beta': 0.81}, 'geocent_time': {'xmin': 1238166018, 'xmax': 1269723618.0, 'min_': 1238166018, 'max_': 1269702018}, 'ra': {'xmin': 0.0, 'xmax': 6.283185307179586, 'min_': 0.0, 'max_': 6.283185307179586}, 'dec': None, 'phase': {'xmin': 0.0, 'xmax': 6.283185307179586, 'min_': 0.0, 'max_': 6.283185307179586}, 'psi': {'xmin': 0.0, 'xmax': 3.141592653589793, 'min_': 0.0, 'max_': 3.141592653589793}, 'theta_jn': None},\n",
      "spin_zero = True,\n",
      "spin_precession = False,\n",
      "create_new_interpolator = False,\n",
      "\n",
      " # LeR also takes gwsnr.GWSNR params as kwargs, as follows:\n",
      "mtot_min = 2.0,\n",
      "mtot_max = 184.98599853446768,\n",
      "ratio_min = 0.1,\n",
      "ratio_max = 1.0,\n",
      "mtot_resolution = 200,\n",
      "ratio_resolution = 50,\n",
      "sampling_frequency = 2048.0,\n",
      "waveform_approximant = 'IMRPhenomD',\n",
      "minimum_frequency = 20.0,\n",
      "snr_type = 'inner_product',\n",
      "psds = [PowerSpectralDensity(psd_file='None', asd_file='/Users/phurailatpamhemantakumar/anaconda3/envs/ler/lib/python3.10/site-packages/bilby/gw/detector/noise_curves/aLIGO_O4_high_asd.txt'), PowerSpectralDensity(psd_file='None', asd_file='/Users/phurailatpamhemantakumar/anaconda3/envs/ler/lib/python3.10/site-packages/bilby/gw/detector/noise_curves/aLIGO_O4_high_asd.txt'), PowerSpectralDensity(psd_file='None', asd_file='/Users/phurailatpamhemantakumar/anaconda3/envs/ler/lib/python3.10/site-packages/bilby/gw/detector/noise_curves/AdV_asd.txt')],\n",
      "ifos = None,\n",
      "interpolator_dir = './interpolator_pickle',\n",
      "create_new_interpolator = False,\n",
      "gwsnr_verbose = True,\n",
      "multiprocessing_verbose = True,\n",
      "mtot_cut = True,\n",
      "\n",
      " For reference, the chosen source parameters are listed below:\n",
      "merger_rate_density = 'merger_rate_density_bbh_popI_II_oguri2018'\n",
      "merger_rate_density_params =  {'R0': 2.39e-08, 'b2': 1.6, 'b3': 2.1, 'b4': 30}\n",
      "source_frame_masses = 'binary_masses_BBH_popI_II_powerlaw_gaussian'\n",
      "source_frame_masses_params =  {'mminbh': 4.98, 'mmaxbh': 112.5, 'alpha': 3.78, 'mu_g': 32.27, 'sigma_g': 3.88, 'lambda_peak': 0.03, 'delta_m': 4.8, 'beta': 0.81}\n",
      "geocent_time = 'sampler_uniform'\n",
      "geocent_time_params =  {'xmin': 1238166018, 'xmax': 1269723618.0, 'min_': 1238166018, 'max_': 1269702018}\n",
      "ra = 'sampler_uniform'\n",
      "ra_params =  {'xmin': 0.0, 'xmax': 6.283185307179586, 'min_': 0.0, 'max_': 6.283185307179586}\n",
      "dec = 'sampler_cosine'\n",
      "dec_params =  None\n",
      "phase = 'sampler_uniform'\n",
      "phase_params =  {'xmin': 0.0, 'xmax': 6.283185307179586, 'min_': 0.0, 'max_': 6.283185307179586}\n",
      "psi = 'sampler_uniform'\n",
      "psi_params =  {'xmin': 0.0, 'xmax': 3.141592653589793, 'min_': 0.0, 'max_': 3.141592653589793}\n",
      "theta_jn = 'sampler_sine'\n",
      "theta_jn_params =  None\n"
     ]
    }
   ],
   "source": [
    "from ler.rates import GWRATES\n",
    "\n",
    "ler = GWRATES(\n",
    "    npool=2,\n",
    "    snr_type='inner_product',  # or 'interpolation'\n",
    ")"
   ]
  },
  {
   "cell_type": "code",
   "execution_count": 11,
   "metadata": {},
   "outputs": [
    {
     "data": {
      "text/plain": [
       "(4.98, 112.5)"
      ]
     },
     "execution_count": 11,
     "metadata": {},
     "output_type": "execute_result"
    }
   ],
   "source": [
    "ler.gw_param_samplers_params['source_frame_masses']['mminbh'], ler.gw_param_samplers_params['source_frame_masses']['mmaxbh']"
   ]
  },
  {
   "cell_type": "code",
   "execution_count": null,
   "metadata": {},
   "outputs": [],
   "source": []
  }
 ],
 "metadata": {
  "kernelspec": {
   "display_name": "ler",
   "language": "python",
   "name": "ler"
  },
  "language_info": {
   "codemirror_mode": {
    "name": "ipython",
    "version": 3
   },
   "file_extension": ".py",
   "mimetype": "text/x-python",
   "name": "python",
   "nbconvert_exporter": "python",
   "pygments_lexer": "ipython3",
   "version": "3.10.18"
  }
 },
 "nbformat": 4,
 "nbformat_minor": 2
}
