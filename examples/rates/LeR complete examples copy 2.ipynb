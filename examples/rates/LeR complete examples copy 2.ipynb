{
 "cells": [
  {
   "cell_type": "code",
   "execution_count": 5,
   "metadata": {},
   "outputs": [
    {
     "name": "stdout",
     "output_type": "stream",
     "text": [
      "Requirement already satisfied: scipy==1.9.0 in /Users/phurailatpamhemantakumar/anaconda3/envs/ler/lib/python3.10/site-packages (1.9.0)\n",
      "Requirement already satisfied: gwcosmo in /Users/phurailatpamhemantakumar/anaconda3/envs/ler/lib/python3.10/site-packages (2.1.1)\n",
      "Requirement already satisfied: numba==0.60.0 in /Users/phurailatpamhemantakumar/anaconda3/envs/ler/lib/python3.10/site-packages (0.60.0)\n",
      "Requirement already satisfied: numpy<1.25.0,>=1.18.5 in /Users/phurailatpamhemantakumar/anaconda3/envs/ler/lib/python3.10/site-packages (from scipy==1.9.0) (1.23.5)\n",
      "Requirement already satisfied: llvmlite<0.44,>=0.43.0dev0 in /Users/phurailatpamhemantakumar/anaconda3/envs/ler/lib/python3.10/site-packages (from numba==0.60.0) (0.43.0)\n",
      "Requirement already satisfied: astropy in /Users/phurailatpamhemantakumar/anaconda3/envs/ler/lib/python3.10/site-packages (from gwcosmo) (6.1.7)\n",
      "Requirement already satisfied: bilby in /Users/phurailatpamhemantakumar/anaconda3/envs/ler/lib/python3.10/site-packages (from gwcosmo) (2.5.2)\n",
      "Requirement already satisfied: h5py in /Users/phurailatpamhemantakumar/.local/lib/python3.10/site-packages (from gwcosmo) (3.11.0)\n",
      "Requirement already satisfied: healpy in /Users/phurailatpamhemantakumar/anaconda3/envs/ler/lib/python3.10/site-packages (from gwcosmo) (1.18.1)\n",
      "Requirement already satisfied: lalsuite in /Users/phurailatpamhemantakumar/anaconda3/envs/ler/lib/python3.10/site-packages (from gwcosmo) (7.26.1)\n",
      "Requirement already satisfied: ligo-gracedb in /Users/phurailatpamhemantakumar/anaconda3/envs/ler/lib/python3.10/site-packages (from gwcosmo) (2.14.2)\n",
      "Requirement already satisfied: ligo-segments in /Users/phurailatpamhemantakumar/anaconda3/envs/ler/lib/python3.10/site-packages (from gwcosmo) (1.4.0)\n",
      "Requirement already satisfied: ligo.skymap<=1.0.7 in /Users/phurailatpamhemantakumar/anaconda3/envs/ler/lib/python3.10/site-packages (from gwcosmo) (1.0.7)\n",
      "Requirement already satisfied: lscsoft-glue in /Users/phurailatpamhemantakumar/anaconda3/envs/ler/lib/python3.10/site-packages (from gwcosmo) (4.1.0)\n",
      "Requirement already satisfied: matplotlib>=2.0 in /Users/phurailatpamhemantakumar/anaconda3/envs/ler/lib/python3.10/site-packages (from gwcosmo) (3.10.3)\n",
      "Requirement already satisfied: pandas in /Users/phurailatpamhemantakumar/anaconda3/envs/ler/lib/python3.10/site-packages (from gwcosmo) (2.3.0)\n",
      "Requirement already satisfied: progressbar in /Users/phurailatpamhemantakumar/anaconda3/envs/ler/lib/python3.10/site-packages (from gwcosmo) (2.5)\n",
      "Requirement already satisfied: seaborn in /Users/phurailatpamhemantakumar/anaconda3/envs/ler/lib/python3.10/site-packages (from gwcosmo) (0.13.2)\n",
      "Requirement already satisfied: tqdm in /Users/phurailatpamhemantakumar/anaconda3/envs/ler/lib/python3.10/site-packages (from gwcosmo) (4.67.1)\n",
      "Requirement already satisfied: astroplan>=0.7 in /Users/phurailatpamhemantakumar/anaconda3/envs/ler/lib/python3.10/site-packages (from ligo.skymap<=1.0.7->gwcosmo) (0.10.1)\n",
      "Requirement already satisfied: astropy-healpix>=0.3 in /Users/phurailatpamhemantakumar/anaconda3/envs/ler/lib/python3.10/site-packages (from ligo.skymap<=1.0.7->gwcosmo) (1.0.3)\n",
      "Requirement already satisfied: networkx in /Users/phurailatpamhemantakumar/anaconda3/envs/ler/lib/python3.10/site-packages (from ligo.skymap<=1.0.7->gwcosmo) (3.4.2)\n",
      "Requirement already satisfied: pillow>=2.5.0 in /Users/phurailatpamhemantakumar/anaconda3/envs/ler/lib/python3.10/site-packages (from ligo.skymap<=1.0.7->gwcosmo) (11.2.1)\n",
      "Requirement already satisfied: ptemcee in /Users/phurailatpamhemantakumar/anaconda3/envs/ler/lib/python3.10/site-packages (from ligo.skymap<=1.0.7->gwcosmo) (1.0.0)\n",
      "Requirement already satisfied: python-ligo-lw>=1.8.0 in /Users/phurailatpamhemantakumar/anaconda3/envs/ler/lib/python3.10/site-packages (from ligo.skymap<=1.0.7->gwcosmo) (1.8.3)\n",
      "Requirement already satisfied: pytz in /Users/phurailatpamhemantakumar/anaconda3/envs/ler/lib/python3.10/site-packages (from ligo.skymap<=1.0.7->gwcosmo) (2025.2)\n",
      "Requirement already satisfied: reproject>=0.3.2 in /Users/phurailatpamhemantakumar/anaconda3/envs/ler/lib/python3.10/site-packages (from ligo.skymap<=1.0.7->gwcosmo) (0.14.1)\n",
      "Requirement already satisfied: six in /Users/phurailatpamhemantakumar/.local/lib/python3.10/site-packages (from astroplan>=0.7->ligo.skymap<=1.0.7->gwcosmo) (1.16.0)\n",
      "Requirement already satisfied: pyerfa>=2.0.1.1 in /Users/phurailatpamhemantakumar/anaconda3/envs/ler/lib/python3.10/site-packages (from astropy->gwcosmo) (2.0.1.5)\n",
      "Requirement already satisfied: astropy-iers-data>=0.2024.10.28.0.34.7 in /Users/phurailatpamhemantakumar/anaconda3/envs/ler/lib/python3.10/site-packages (from astropy->gwcosmo) (0.2025.6.9.14.9.37)\n",
      "Requirement already satisfied: PyYAML>=3.13 in /Users/phurailatpamhemantakumar/anaconda3/envs/ler/lib/python3.10/site-packages (from astropy->gwcosmo) (6.0.2)\n",
      "Requirement already satisfied: packaging>=19.0 in /Users/phurailatpamhemantakumar/anaconda3/envs/ler/lib/python3.10/site-packages (from astropy->gwcosmo) (25.0)\n",
      "Requirement already satisfied: igwn-ligolw in /Users/phurailatpamhemantakumar/anaconda3/envs/ler/lib/python3.10/site-packages (from lalsuite->gwcosmo) (2.1.0)\n",
      "Requirement already satisfied: igwn-segments in /Users/phurailatpamhemantakumar/anaconda3/envs/ler/lib/python3.10/site-packages (from lalsuite->gwcosmo) (2.1.0)\n",
      "Requirement already satisfied: python-dateutil in /Users/phurailatpamhemantakumar/anaconda3/envs/ler/lib/python3.10/site-packages (from lalsuite->gwcosmo) (2.9.0.post0)\n",
      "Requirement already satisfied: cryptography>=1.7.2 in /Users/phurailatpamhemantakumar/anaconda3/envs/ler/lib/python3.10/site-packages (from ligo-gracedb->gwcosmo) (45.0.4)\n",
      "Requirement already satisfied: requests>=2.6.0 in /Users/phurailatpamhemantakumar/anaconda3/envs/ler/lib/python3.10/site-packages (from ligo-gracedb->gwcosmo) (2.32.4)\n",
      "Requirement already satisfied: igwn-auth-utils>=1.0.0 in /Users/phurailatpamhemantakumar/anaconda3/envs/ler/lib/python3.10/site-packages (from ligo-gracedb->gwcosmo) (1.4.0)\n",
      "Requirement already satisfied: cffi>=1.14 in /Users/phurailatpamhemantakumar/anaconda3/envs/ler/lib/python3.10/site-packages (from cryptography>=1.7.2->ligo-gracedb->gwcosmo) (1.17.1)\n",
      "Requirement already satisfied: pycparser in /Users/phurailatpamhemantakumar/anaconda3/envs/ler/lib/python3.10/site-packages (from cffi>=1.14->cryptography>=1.7.2->ligo-gracedb->gwcosmo) (2.22)\n",
      "Requirement already satisfied: safe-netrc>=1.0 in /Users/phurailatpamhemantakumar/anaconda3/envs/ler/lib/python3.10/site-packages (from igwn-auth-utils>=1.0.0->ligo-gracedb->gwcosmo) (1.0.1)\n",
      "Requirement already satisfied: scitokens>=1.8 in /Users/phurailatpamhemantakumar/anaconda3/envs/ler/lib/python3.10/site-packages (from igwn-auth-utils>=1.0.0->ligo-gracedb->gwcosmo) (1.8.1)\n",
      "Requirement already satisfied: contourpy>=1.0.1 in /Users/phurailatpamhemantakumar/anaconda3/envs/ler/lib/python3.10/site-packages (from matplotlib>=2.0->gwcosmo) (1.3.2)\n",
      "Requirement already satisfied: cycler>=0.10 in /Users/phurailatpamhemantakumar/anaconda3/envs/ler/lib/python3.10/site-packages (from matplotlib>=2.0->gwcosmo) (0.12.1)\n",
      "Requirement already satisfied: fonttools>=4.22.0 in /Users/phurailatpamhemantakumar/anaconda3/envs/ler/lib/python3.10/site-packages (from matplotlib>=2.0->gwcosmo) (4.58.3)\n",
      "Requirement already satisfied: kiwisolver>=1.3.1 in /Users/phurailatpamhemantakumar/anaconda3/envs/ler/lib/python3.10/site-packages (from matplotlib>=2.0->gwcosmo) (1.4.8)\n",
      "Requirement already satisfied: pyparsing>=2.3.1 in /Users/phurailatpamhemantakumar/anaconda3/envs/ler/lib/python3.10/site-packages (from matplotlib>=2.0->gwcosmo) (3.2.3)\n",
      "Requirement already satisfied: dask>=2021.8 in /Users/phurailatpamhemantakumar/anaconda3/envs/ler/lib/python3.10/site-packages (from dask[array]>=2021.8->reproject>=0.3.2->ligo.skymap<=1.0.7->gwcosmo) (2024.8.1)\n",
      "Requirement already satisfied: cloudpickle in /Users/phurailatpamhemantakumar/anaconda3/envs/ler/lib/python3.10/site-packages (from reproject>=0.3.2->ligo.skymap<=1.0.7->gwcosmo) (3.1.1)\n",
      "Requirement already satisfied: zarr in /Users/phurailatpamhemantakumar/anaconda3/envs/ler/lib/python3.10/site-packages (from reproject>=0.3.2->ligo.skymap<=1.0.7->gwcosmo) (2.18.2)\n",
      "Requirement already satisfied: fsspec in /Users/phurailatpamhemantakumar/anaconda3/envs/ler/lib/python3.10/site-packages (from reproject>=0.3.2->ligo.skymap<=1.0.7->gwcosmo) (2025.5.1)\n",
      "Requirement already satisfied: click>=8.1 in /Users/phurailatpamhemantakumar/anaconda3/envs/ler/lib/python3.10/site-packages (from dask>=2021.8->dask[array]>=2021.8->reproject>=0.3.2->ligo.skymap<=1.0.7->gwcosmo) (8.2.1)\n",
      "Requirement already satisfied: partd>=1.4.0 in /Users/phurailatpamhemantakumar/anaconda3/envs/ler/lib/python3.10/site-packages (from dask>=2021.8->dask[array]>=2021.8->reproject>=0.3.2->ligo.skymap<=1.0.7->gwcosmo) (1.4.2)\n",
      "Requirement already satisfied: toolz>=0.10.0 in /Users/phurailatpamhemantakumar/anaconda3/envs/ler/lib/python3.10/site-packages (from dask>=2021.8->dask[array]>=2021.8->reproject>=0.3.2->ligo.skymap<=1.0.7->gwcosmo) (1.0.0)\n",
      "Requirement already satisfied: importlib-metadata>=4.13.0 in /Users/phurailatpamhemantakumar/anaconda3/envs/ler/lib/python3.10/site-packages (from dask>=2021.8->dask[array]>=2021.8->reproject>=0.3.2->ligo.skymap<=1.0.7->gwcosmo) (8.7.0)\n",
      "Requirement already satisfied: zipp>=3.20 in /Users/phurailatpamhemantakumar/anaconda3/envs/ler/lib/python3.10/site-packages (from importlib-metadata>=4.13.0->dask>=2021.8->dask[array]>=2021.8->reproject>=0.3.2->ligo.skymap<=1.0.7->gwcosmo) (3.23.0)\n",
      "Requirement already satisfied: locket in /Users/phurailatpamhemantakumar/anaconda3/envs/ler/lib/python3.10/site-packages (from partd>=1.4.0->dask>=2021.8->dask[array]>=2021.8->reproject>=0.3.2->ligo.skymap<=1.0.7->gwcosmo) (1.0.0)\n",
      "Requirement already satisfied: charset_normalizer<4,>=2 in /Users/phurailatpamhemantakumar/.local/lib/python3.10/site-packages (from requests>=2.6.0->ligo-gracedb->gwcosmo) (3.3.2)\n",
      "Requirement already satisfied: idna<4,>=2.5 in /Users/phurailatpamhemantakumar/.local/lib/python3.10/site-packages (from requests>=2.6.0->ligo-gracedb->gwcosmo) (3.7)\n",
      "Requirement already satisfied: urllib3<3,>=1.21.1 in /Users/phurailatpamhemantakumar/.local/lib/python3.10/site-packages (from requests>=2.6.0->ligo-gracedb->gwcosmo) (2.2.1)\n",
      "Requirement already satisfied: certifi>=2017.4.17 in /Users/phurailatpamhemantakumar/.local/lib/python3.10/site-packages (from requests>=2.6.0->ligo-gracedb->gwcosmo) (2024.2.2)\n",
      "Requirement already satisfied: PyJWT>=1.6.1 in /Users/phurailatpamhemantakumar/anaconda3/envs/ler/lib/python3.10/site-packages (from scitokens>=1.8->igwn-auth-utils>=1.0.0->ligo-gracedb->gwcosmo) (2.10.1)\n",
      "Requirement already satisfied: bilby.cython>=0.3.0 in /Users/phurailatpamhemantakumar/anaconda3/envs/ler/lib/python3.10/site-packages (from bilby->gwcosmo) (0.5.3)\n",
      "Requirement already satisfied: dynesty<2.2,>=2.0.1 in /Users/phurailatpamhemantakumar/anaconda3/envs/ler/lib/python3.10/site-packages (from bilby->gwcosmo) (2.1.5)\n",
      "Requirement already satisfied: emcee in /Users/phurailatpamhemantakumar/anaconda3/envs/ler/lib/python3.10/site-packages (from bilby->gwcosmo) (3.1.6)\n",
      "Requirement already satisfied: corner in /Users/phurailatpamhemantakumar/anaconda3/envs/ler/lib/python3.10/site-packages (from bilby->gwcosmo) (2.2.3)\n",
      "Requirement already satisfied: dill in /Users/phurailatpamhemantakumar/anaconda3/envs/ler/lib/python3.10/site-packages (from bilby->gwcosmo) (0.4.0)\n",
      "Requirement already satisfied: attrs in /Users/phurailatpamhemantakumar/anaconda3/envs/ler/lib/python3.10/site-packages (from bilby->gwcosmo) (25.3.0)\n",
      "Requirement already satisfied: tzdata>=2022.7 in /Users/phurailatpamhemantakumar/anaconda3/envs/ler/lib/python3.10/site-packages (from pandas->gwcosmo) (2025.2)\n",
      "Requirement already satisfied: asciitree in /Users/phurailatpamhemantakumar/anaconda3/envs/ler/lib/python3.10/site-packages (from zarr->reproject>=0.3.2->ligo.skymap<=1.0.7->gwcosmo) (0.3.3)\n",
      "Requirement already satisfied: numcodecs>=0.10.0 in /Users/phurailatpamhemantakumar/anaconda3/envs/ler/lib/python3.10/site-packages (from zarr->reproject>=0.3.2->ligo.skymap<=1.0.7->gwcosmo) (0.13.1)\n",
      "Requirement already satisfied: fasteners in /Users/phurailatpamhemantakumar/anaconda3/envs/ler/lib/python3.10/site-packages (from zarr->reproject>=0.3.2->ligo.skymap<=1.0.7->gwcosmo) (0.19)\n"
     ]
    }
   ],
   "source": [
    "!pip install scipy==1.9.0 gwcosmo numba==0.60.0"
   ]
  },
  {
   "cell_type": "code",
   "execution_count": 6,
   "metadata": {},
   "outputs": [],
   "source": [
    "from gwcosmo import priors as p\n",
    "\n",
    "identifier_dict = dict(\n",
    "    mminbh=26,\n",
    "    mmaxbh=125,\n",
    "    alpha_1=6.75,\n",
    "    alpha_2=0.0,\n",
    "    b=0.5,\n",
    "    delta_m=5,\n",
    "    mminns=1.0,\n",
    "    mmaxns=3.0,\n",
    "    alphans=0.0,\n",
    ")\n",
    "\n",
    "model = p.NSBH_broken_powerlaw(\n",
    "    mminbh=identifier_dict[\"mminbh\"],\n",
    "    mmaxbh=identifier_dict[\"mmaxbh\"],\n",
    "    alpha_1=identifier_dict[\"alpha_1\"],\n",
    "    alpha_2=identifier_dict[\"alpha_2\"],\n",
    "    b=identifier_dict[\"b\"],\n",
    "    delta_m=identifier_dict[\"delta_m\"],\n",
    "    mminns=identifier_dict[\"mminns\"],\n",
    "    mmaxns=identifier_dict[\"mmaxns\"],\n",
    "    alphans=identifier_dict[\"alphans\"],\n",
    ")\n",
    "mass_1_, mass_2_ = model.sample(Nsample=20000)"
   ]
  },
  {
   "cell_type": "code",
   "execution_count": 9,
   "metadata": {},
   "outputs": [
    {
     "data": {
      "image/png": "[encoded data removed]",
      "text/plain": [
       "<Figure size 1000x600 with 1 Axes>"
      ]
     },
     "metadata": {},
     "output_type": "display_data"
    }
   ],
   "source": [
    "import matplotlib.pyplot as plt\n",
    "plt.figure(figsize=(10, 6))\n",
    "plt.hist(mass_2_, bins=100, density=True, alpha=0.5, label='Mass 1', histtype='step')\n",
    "plt.hist(mass_2_new, bins=100, density=True, alpha=0.5, label='Mass 1 try', histtype='step')\n",
    "#plt.hist(mass_2_, bins=100, density=True, alpha=0.5, label='Mass 2')\n",
    "plt.xlabel('Mass (solar masses)')\n",
    "plt.ylabel('Density')\n",
    "plt.title('Mass Distribution of NSBH Broken Powerlaw Model')\n",
    "plt.legend()\n",
    "plt.grid()\n",
    "plt.show()"
   ]
  },
  {
   "cell_type": "code",
   "execution_count": 69,
   "metadata": {},
   "outputs": [
    {
     "data": {
      "text/plain": [
       "75.5"
      ]
     },
     "execution_count": 69,
     "metadata": {},
     "output_type": "execute_result"
    }
   ],
   "source": [
    "#mminbh=26., mmaxbh=125., b=0.5\n",
    "26. + 0.5 * (125. - 26.)  # mean of the broken powerlaw distribution"
   ]
  },
  {
   "cell_type": "code",
   "execution_count": 1,
   "metadata": {},
   "outputs": [],
   "source": [
    "from ler.gw_source_population import sample_broken_powerlaw_nsbh_masses\n",
    "import numpy as np"
   ]
  },
  {
   "cell_type": "code",
   "execution_count": 2,
   "metadata": {},
   "outputs": [],
   "source": [
    "identifier_dict = dict(\n",
    "    mminbh=26,\n",
    "    mmaxbh=125,\n",
    "    alpha_1=6.75,\n",
    "    alpha_2=0.0,\n",
    "    b=0.5,\n",
    "    delta_m=5,\n",
    "    mminns=1.0,\n",
    "    mmaxns=3.0,\n",
    "    alphans=0.0,\n",
    ")\n",
    "\n",
    "mass_1_new, mass_2_new = sample_broken_powerlaw_nsbh_masses(\n",
    "    size=20000,\n",
    "    mminbh=identifier_dict[\"mminbh\"],\n",
    "    mmaxbh=identifier_dict[\"mmaxbh\"],\n",
    "    alpha_1=identifier_dict[\"alpha_1\"],\n",
    "    alpha_2=identifier_dict[\"alpha_2\"],\n",
    "    b=identifier_dict[\"b\"],\n",
    "    delta_m=identifier_dict[\"delta_m\"],\n",
    "    mminns=identifier_dict[\"mminns\"],\n",
    "    mmaxns=identifier_dict[\"mmaxns\"],\n",
    "    alphans=identifier_dict[\"alphans\"],\n",
    ")"
   ]
  },
  {
   "cell_type": "code",
   "execution_count": 4,
   "metadata": {},
   "outputs": [
    {
     "data": {
      "text/plain": [
       "array([33.26366776, 29.84945348, 54.33066679, ..., 28.93148332,\n",
       "       28.27156589, 41.71570049])"
      ]
     },
     "execution_count": 4,
     "metadata": {},
     "output_type": "execute_result"
    }
   ],
   "source": [
    "mass_1_new"
   ]
  },
  {
   "cell_type": "code",
   "execution_count": null,
   "metadata": {},
   "outputs": [],
   "source": []
  },
  {
   "cell_type": "code",
   "execution_count": null,
   "metadata": {},
   "outputs": [],
   "source": []
  },
  {
   "cell_type": "code",
   "execution_count": null,
   "metadata": {},
   "outputs": [],
   "source": [
    "import numpy as np\n",
    "from numba import njit\n",
    "from scipy.integrate import quad # cumulative_trapezoid\n",
    "\n",
    "@njit\n",
    "def cumulative_trapezoid(y, x=None, dx=1.0, initial=0.0):\n",
    "    \"\"\"\n",
    "    Compute the cumulative integral of a function using the trapezoidal rule.\n",
    "    \"\"\"\n",
    "    if x is None:\n",
    "        x = np.arange(len(y)) * dx\n",
    "\n",
    "    # Calculate the cumulative integral using trapezoidal rule\n",
    "    cumsum = np.zeros_like(y)\n",
    "    cumsum[0] = initial\n",
    "    for i in range(1, len(y)):\n",
    "        cumsum[i] = cumsum[i - 1] + (y[i - 1] + y[i]) * (x[i] - x[i - 1]) / 2.0\n",
    "\n",
    "    return cumsum\n",
    "\n",
    "@njit\n",
    "def smoothing_S(m, mmin, delta_m, threshold=709.0):\n",
    "    s = np.zeros_like(m)\n",
    "\n",
    "    # Region where smoothing is not needed: m >= mmin + delta_m\n",
    "    idx_2 = m >= mmin + delta_m\n",
    "    s[idx_2] = 1.0\n",
    "\n",
    "    # Region where smoothing is applied: mmin <= m < mmin + delta_m\n",
    "    idx_1 = (m >= mmin) & (m < mmin + delta_m)\n",
    "    mprime = m[idx_1] - mmin\n",
    "    exponent = delta_m / mprime + delta_m / (mprime - delta_m)\n",
    "\n",
    "    # Safe exponentiation only where the exponent is below threshold\n",
    "    safe_idx = exponent <= threshold\n",
    "    s_vals = np.zeros_like(mprime)\n",
    "    s_vals[safe_idx] = 1.0 / (np.exp(exponent[safe_idx]) + 1.0)\n",
    "\n",
    "    # Assign back to main array\n",
    "    s[idx_1] = s_vals\n",
    "\n",
    "    return s\n",
    "\n",
    "@njit\n",
    "def powerlaw_with_smoothing(m, mmin, alpha, delta_m):\n",
    "    \"\"\"\n",
    "    Power law with smoothing applied.\n",
    "    \"\"\"\n",
    "    s = smoothing_S(m, mmin, delta_m)\n",
    "    return m ** (-alpha) * s\n",
    "\n",
    "@njit\n",
    "def inverse_transform_sampler(size, cdf, x):\n",
    "    \"\"\"\n",
    "    Function to sample from the inverse transform method.\n",
    "    \"\"\"\n",
    "\n",
    "    u = np.random.uniform(0, 1, size)\n",
    "    idx = np.searchsorted(cdf, u)\n",
    "    x1, x0, y1, y0 = cdf[idx], cdf[idx-1], x[idx], x[idx-1]\n",
    "    samples = y0 + (y1 - y0) * (u - x0) / (x1 - x0)\n",
    "    return samples\n",
    "\n",
    "@njit\n",
    "def broken_powerlaw_cdf(size=1000, mminbh=26,mmaxbh=125,alpha_1=6.75,alpha_2=0.0,b=0.5,delta_m=5,mminns=1.0,mmaxns=3.0,alphans=0.0):\n",
    "\n",
    "    # find normalization\n",
    "    m_try = np.linspace(mminbh, mmaxbh, size)\n",
    "    pdf_unnormalized = broken_powerlaw_unormalized(m_try, mminbh=26., mmaxbh=125., alpha_1=6.75, alpha_2=0., b=0.5, delta_m=5.)\n",
    "    # Normalize the PDF\n",
    "    cdf_values = cumulative_trapezoid(pdf_unnormalized, m_try, initial=0)\n",
    "    normalization = cdf_values[size-1]\n",
    "    # Normalize the CDF\n",
    "    cdf_values /= normalization\n",
    "\n",
    "    return cdf_values\n",
    "\n",
    "@njit\n",
    "def sample_broken_powerlaw(size=1000, mminbh=26., mmaxbh=125., alpha_1=6.75, alpha_2=0., b=0.5, delta_m=5., normalization_size=1000):\n",
    "    \"\"\"\n",
    "    Generates samples from the broken powerlaw distribution.\n",
    "    \"\"\"\n",
    "    # Generate the CDF\n",
    "    #if cdf_values is None:\n",
    "    cdf_values = broken_powerlaw_cdf(size=normalization_size, mminbh=mminbh, mmaxbh=mmaxbh, alpha_1=alpha_1, alpha_2=alpha_2, b=b, delta_m=delta_m)\n",
    "\n",
    "    x = np.linspace(mminbh, mmaxbh, normalization_size)\n",
    "    idx = np.argwhere(cdf_values > 0)[0][0]\n",
    "    cdf_values = cdf_values[idx:]\n",
    "    x = x[idx:]\n",
    "    samples = inverse_transform_sampler(size, cdf_values, x)\n",
    "\n",
    "    return samples\n",
    "\n",
    "@njit\n",
    "def broken_powerlaw_pdf(m, mminbh=26., mmaxbh=125., alpha_1=6.75, alpha_2=0., b=0.5, delta_m=5., normalization_size=1000):\n",
    "    \"\"\"\n",
    "    Generates samples using a Numba-jitted loop for high performance.\n",
    "    \"\"\"\n",
    "    # find normalization\n",
    "    m_try = np.linspace(mminbh, mmaxbh, normalization_size)\n",
    "    pdf_unnormalized = broken_powerlaw_unormalized(m_try, mminbh=26., mmaxbh=125., alpha_1=6.75, alpha_2=0., b=0.5, delta_m=5.)\n",
    "    # Normalize the PDF\n",
    "    normalization = np.trapz(pdf_unnormalized, m_try)\n",
    "\n",
    "    # Generate the PDF for the input mass array\n",
    "    pdf_unnormalized = broken_powerlaw_unormalized(m, mminbh=mminbh, mmaxbh=mmaxbh, alpha_1=alpha_1, alpha_2=alpha_2, b=b, delta_m=delta_m)\n",
    "    # Normalize the PDF\n",
    "    pdf = pdf_unnormalized / normalization\n",
    "\n",
    "    return pdf\n",
    "\n",
    "@njit\n",
    "def broken_powerlaw_unormalized(m, mminbh=26., mmaxbh=125., alpha_1=6.75, alpha_2=0., b=0.5, delta_m=5.):\n",
    "    \"\"\"\n",
    "    Probability density function for the broken powerlaw model.\n",
    "    \"\"\"\n",
    "    mbreak = mminbh + b * (mmaxbh - mminbh)\n",
    "    idx_1 = (m > mminbh) & (m < mbreak)\n",
    "    idx_2 = (m >= mbreak) & (m < mmaxbh)\n",
    "\n",
    "    pdf_unnormalized = np.zeros_like(m)\n",
    "    pdf_unnormalized[idx_1] = powerlaw_with_smoothing(m[idx_1], mminbh, alpha_1, delta_m) # m[idx_1] ** (-alpha_1) * smoothing_S(m[idx_1], mminbh, delta_m)\n",
    "    norm_1 = pdf_unnormalized[idx_1][np.sum(idx_1)-1]\n",
    "    pdf_unnormalized[idx_2] = powerlaw_with_smoothing(m[idx_2], mminbh, alpha_2, delta_m)\n",
    "     # (m[idx_2] ** (-alpha_2)* smoothing_S(m[idx_2], mminbh, delta_m))\n",
    "    norm_2 = pdf_unnormalized[idx_2][0]\n",
    "    pdf_unnormalized[idx_2] = pdf_unnormalized[idx_2] * (norm_1 / norm_2)\n",
    "    \n",
    "    return pdf_unnormalized\n",
    "\n",
    "# # --- Parameters ---\n",
    "# identifier_dict = dict(\n",
    "#     mminbh=26,\n",
    "#     mmaxbh=125,\n",
    "#     alpha_1=6.75,\n",
    "#     alpha_2=0.0,\n",
    "#     b=0.5,\n",
    "#     delta_m=5,\n",
    "#     mminns=1.0,\n",
    "#     mmaxns=3.0,\n",
    "#     alphans=0.0,\n",
    "# )\n",
    "# m1 = np.linspace(identifier_dict[\"mminbh\"], identifier_dict[\"mmaxbh\"], 1000)\n",
    "# pdf = broken_powerlaw_pdf(\n",
    "#     m=m1,\n",
    "#     mminbh=identifier_dict[\"mminbh\"],\n",
    "#     mmaxbh=identifier_dict[\"mmaxbh\"],\n",
    "#     alpha_1=identifier_dict[\"alpha_1\"],\n",
    "#     alpha_2=identifier_dict[\"alpha_2\"],\n",
    "#     b=identifier_dict[\"b\"],\n",
    "#     delta_m=identifier_dict[\"delta_m\"],\n",
    "#     normalization_size=1000\n",
    "# )"
   ]
  },
  {
   "cell_type": "code",
   "execution_count": 30,
   "metadata": {},
   "outputs": [
    {
     "name": "stdout",
     "output_type": "stream",
     "text": [
      "2.43 ms ± 36 µs per loop (mean ± std. dev. of 7 runs, 100 loops each)\n"
     ]
    }
   ],
   "source": [
    "# with parallel=True; time=2.41 ms\n",
    "# without parallel=True; time=577 mu s\n",
    "%timeit m1_sample = sample_broken_powerlaw(10000)"
   ]
  },
  {
   "cell_type": "code",
   "execution_count": null,
   "metadata": {},
   "outputs": [],
   "source": []
  },
  {
   "cell_type": "code",
   "execution_count": 6,
   "metadata": {},
   "outputs": [
    {
     "data": {
      "text/plain": [
       "0"
      ]
     },
     "execution_count": 6,
     "metadata": {},
     "output_type": "execute_result"
    }
   ],
   "source": [
    "test = np.array([1,1,0,0,0], dtype=bool)\n",
    "test2 = np.array([1,0,0,0,0])\n",
    "test2[test][np.sum(test)-1]"
   ]
  },
  {
   "cell_type": "code",
   "execution_count": 12,
   "metadata": {},
   "outputs": [
    {
     "data": {
      "image/png": "[encoded data removed]",
      "text/plain": [
       "<Figure size 1000x600 with 1 Axes>"
      ]
     },
     "metadata": {},
     "output_type": "display_data"
    }
   ],
   "source": [
    "import matplotlib.pyplot as plt\n",
    "\n",
    "plt.figure(figsize=(10, 6))\n",
    "plt.plot(m1, pdf, label='Broken Powerlaw PDF', color='blue')\n",
    "plt.hist(m1_sample, bins=100, density=True, alpha=0.5, label='Sampled Mass 1', color='orange')\n",
    "plt.xlabel('Mass (solar masses)')\n",
    "plt.ylabel('Probability Density')\n",
    "plt.title('Broken Powerlaw PDF for NSBH Model')\n",
    "plt.legend()\n",
    "plt.grid()\n",
    "plt.show()"
   ]
  },
  {
   "cell_type": "code",
   "execution_count": null,
   "metadata": {},
   "outputs": [],
   "source": []
  },
  {
   "cell_type": "code",
   "execution_count": null,
   "metadata": {},
   "outputs": [],
   "source": [
    "import numpy as np\n",
    "from numba import njit\n",
    "\n",
    "@njit\n",
    "def cumulative_trapezoid(y, x, initial=0.0):\n",
    "    \"\"\"\n",
    "    Cumulative integral using trapezoidal rule, fully Numba-optimized.\n",
    "    Assumes x is a strictly increasing array of same length as y.\n",
    "    \"\"\"\n",
    "    n = len(y)\n",
    "    cumsum = np.empty(n, dtype=np.float64)\n",
    "    cumsum[0] = initial\n",
    "    for i in range(1, n):\n",
    "        dx = x[i] - x[i-1]\n",
    "        cumsum[i] = cumsum[i-1] + 0.5 * (y[i] + y[i-1]) * dx\n",
    "    return cumsum\n",
    "\n",
    "@njit\n",
    "def smoothing_S(m, mmin, delta_m, threshold=709.0):\n",
    "    \"\"\"\n",
    "    Vectorized smoothing window for low-mass cutoff.\n",
    "    \"\"\"\n",
    "    s = np.zeros_like(m)\n",
    "    for i in range(len(m)):\n",
    "        if m[i] >= mmin + delta_m:\n",
    "            s[i] = 1.0\n",
    "        elif m[i] > mmin:\n",
    "            mprime = m[i] - mmin\n",
    "            exponent = delta_m / mprime + delta_m / (mprime - delta_m)\n",
    "            if exponent <= threshold:\n",
    "                s[i] = 1.0 / (np.exp(exponent) + 1.0)\n",
    "    return s\n",
    "\n",
    "@njit\n",
    "def powerlaw_with_smoothing(m, mmin, alpha, delta_m):\n",
    "    \"\"\"\n",
    "    Power law with smoothing (elementwise).\n",
    "    \"\"\"\n",
    "    return m ** (-alpha) * smoothing_S(m, mmin, delta_m)\n",
    "\n",
    "@njit\n",
    "def broken_powerlaw_unormalized(m, mminbh, mmaxbh, alpha_1, alpha_2, b, delta_m):\n",
    "    \"\"\"\n",
    "    Unnormalized broken power law PDF (Numba, optimized).\n",
    "    \"\"\"\n",
    "    mbreak = mminbh + b * (mmaxbh - mminbh)\n",
    "    pdf = np.zeros_like(m)\n",
    "    for i in range(len(m)):\n",
    "        if m[i] > mminbh and m[i] < mbreak:\n",
    "            pdf[i] = powerlaw_with_smoothing(np.array([m[i]]), mminbh, alpha_1, delta_m)[0]\n",
    "        elif m[i] > mbreak and m[i] < mmaxbh:\n",
    "            pdf[i] = powerlaw_with_smoothing(np.array([m[i]]), mminbh, alpha_2, delta_m)[0]\n",
    "    # Optional: force continuity at mbreak, or normalize branches separately if needed.\n",
    "    return pdf\n",
    "\n",
    "@njit\n",
    "def broken_powerlaw_pdf(m, mminbh=26., mmaxbh=125., alpha_1=6.75, alpha_2=0., b=0.5, delta_m=5., normalization_size=1000):\n",
    "    \"\"\"\n",
    "    Normalized PDF for broken power law (Numba, optimized).\n",
    "    \"\"\"\n",
    "    m_grid = np.linspace(mminbh, mmaxbh, normalization_size)\n",
    "    pdf_grid = broken_powerlaw_unormalized(m_grid, mminbh, mmaxbh, alpha_1, alpha_2, b, delta_m)\n",
    "    normalization = np.trapz(pdf_grid, m_grid)\n",
    "    pdf = broken_powerlaw_unormalized(m, mminbh, mmaxbh, alpha_1, alpha_2, b, delta_m)\n",
    "    return pdf / normalization\n",
    "\n",
    "@njit\n",
    "def broken_powerlaw_cdf(m_grid, mminbh, mmaxbh, alpha_1, alpha_2, b, delta_m):\n",
    "    \"\"\"\n",
    "    CDF (Numba, optimized), evaluated on a grid.\n",
    "    \"\"\"\n",
    "    pdf_grid = broken_powerlaw_unormalized(m_grid, mminbh, mmaxbh, alpha_1, alpha_2, b, delta_m)\n",
    "    cdf_grid = cumulative_trapezoid(pdf_grid, m_grid, initial=0.0)\n",
    "    normalization = cdf_grid[-1]\n",
    "    return cdf_grid / normalization\n",
    "\n",
    "@njit\n",
    "def inverse_transform_sampler(size, cdf, x):\n",
    "    \"\"\"\n",
    "    Inverse CDF sampler (Numba, optimized).\n",
    "    \"\"\"\n",
    "    samples = np.empty(size)\n",
    "    for i in range(size):\n",
    "        u = np.random.rand()\n",
    "        idx = np.searchsorted(cdf, u)\n",
    "        if idx == 0:\n",
    "            samples[i] = x[0]\n",
    "        elif idx >= len(x):\n",
    "            samples[i] = x[-1]\n",
    "        else:\n",
    "            x1, x0, y1, y0 = cdf[idx], cdf[idx-1], x[idx], x[idx-1]\n",
    "            # Linear interpolation\n",
    "            samples[i] = y0 + (y1 - y0) * (u - x0) / (x1 - x0)\n",
    "    return samples\n",
    "\n",
    "@njit\n",
    "def sample_broken_powerlaw(size=1000, mminbh=26., mmaxbh=125., alpha_1=6.75, alpha_2=0., b=0.5, delta_m=5., normalization_size=1000):\n",
    "    \"\"\"\n",
    "    Public sampler (not Numba due to array allocations).\n",
    "    \"\"\"\n",
    "    m_grid = np.linspace(mminbh, mmaxbh, normalization_size)\n",
    "    cdf_grid = broken_powerlaw_cdf(m_grid, mminbh, mmaxbh, alpha_1, alpha_2, b, delta_m)\n",
    "    # Only use the region where cdf strictly increases:\n",
    "    good = cdf_grid > 0\n",
    "    m_grid = m_grid[good]\n",
    "    cdf_grid = cdf_grid[good]\n",
    "    return inverse_transform_sampler(size, cdf_grid, m_grid)\n",
    "\n"
   ]
  },
  {
   "cell_type": "code",
   "execution_count": 139,
   "metadata": {},
   "outputs": [],
   "source": [
    "m1_sample = sample_broken_powerlaw(10000)"
   ]
  },
  {
   "cell_type": "code",
   "execution_count": null,
   "metadata": {},
   "outputs": [],
   "source": []
  },
  {
   "cell_type": "code",
   "execution_count": null,
   "metadata": {},
   "outputs": [
    {
     "data": {
      "image/png": "[encoded data removed]",
      "text/plain": [
       "<Figure size 640x480 with 1 Axes>"
      ]
     },
     "metadata": {},
     "output_type": "display_data"
    }
   ],
   "source": [
    "import numpy as np\n",
    "\n",
    "def smoothing_S(m, mmin, delta_m, threshold=709.0):\n",
    "    \"\"\"\n",
    "    Smoothing function for the low-mass cutoff, vectorized for array input.\n",
    "    S(m) transitions smoothly from 0 to 1 between mmin and mmin + delta_m.\n",
    "\n",
    "    Parameters:\n",
    "    -----------\n",
    "    m : float or np.ndarray\n",
    "        Mass value(s) at which to compute the smoothing function.\n",
    "    mmin : float\n",
    "        Minimum mass.\n",
    "    delta_m : float\n",
    "        Smoothing scale.\n",
    "    threshold : float, optional\n",
    "        Maximum allowed exponent to prevent overflow (default 709.0).\n",
    "\n",
    "    Returns:\n",
    "    --------\n",
    "    s : float or np.ndarray\n",
    "        Value(s) of the smoothing function at m.\n",
    "    \"\"\"\n",
    "    m = np.atleast_1d(m)\n",
    "    s = np.zeros_like(m, dtype=float)\n",
    "\n",
    "    # Region where smoothing is not needed: m >= mmin + delta_m\n",
    "    idx_smooth = m >= mmin + delta_m\n",
    "    s[idx_smooth] = 1.0\n",
    "\n",
    "    # Region where smoothing is applied: mmin < m < mmin + delta_m\n",
    "    idx_window = (m > mmin) & (m < mmin + delta_m)\n",
    "    mprime = m[idx_window] - mmin\n",
    "    exponent = delta_m / mprime + delta_m / (mprime - delta_m)\n",
    "\n",
    "    # Safe exponentiation only where exponent is below threshold\n",
    "    safe = exponent <= threshold\n",
    "    s_vals = np.zeros_like(mprime)\n",
    "    s_vals[safe] = 1.0 / (np.exp(exponent[safe]) + 1.0)\n",
    "    # Values where exponent > threshold remain 0 (safe default)\n",
    "    s[idx_window] = s_vals\n",
    "\n",
    "    # For scalar input, return scalar\n",
    "    return s if s.shape != () else s.item()\n",
    "\n",
    "def broken_powerlaw_unormalized(\n",
    "    m, mminbh=26., mmaxbh=125., alpha_1=6.75, alpha_2=0., b=0.5, delta_m=5.):\n",
    "    \"\"\"\n",
    "    Unnormalized probability density function for the broken power law.\n",
    "\n",
    "    Parameters:\n",
    "    -----------\n",
    "    m : float or np.ndarray\n",
    "        Mass value(s) to evaluate the PDF at.\n",
    "    mminbh, mmaxbh : float\n",
    "        Minimum and maximum mass for the BH component.\n",
    "    alpha_1, alpha_2 : float\n",
    "        Power-law indices below and above the break.\n",
    "    b : float\n",
    "        Fractional location of the break between min and max mass.\n",
    "    delta_m : float\n",
    "        Smoothing scale for the low-mass cutoff.\n",
    "\n",
    "    Returns:\n",
    "    --------\n",
    "    pdf_unnormalized : float or np.ndarray\n",
    "        Unnormalized PDF value(s) at m.\n",
    "    \"\"\"\n",
    "    m = np.atleast_1d(m)\n",
    "    mbreak = mminbh + b * (mmaxbh - mminbh)\n",
    "    pdf_unnormalized = np.zeros_like(m, dtype=float)\n",
    "\n",
    "    # Below break: mmin < m < mbreak\n",
    "    idx1 = (m > mminbh) & (m < mbreak)\n",
    "    pdf_unnormalized[idx1] = (\n",
    "        m[idx1] ** (-alpha_1) * smoothing_S(m[idx1], mminbh, delta_m)\n",
    "    )\n",
    "    # Above break: mbreak < m < mmax\n",
    "    idx2 = (m > mbreak) & (m < mmaxbh)\n",
    "    pdf_unnormalized[idx2] = (\n",
    "        m[idx2] ** (-alpha_2) * smoothing_S(m[idx2], mminbh, delta_m)\n",
    "    )\n",
    "    # Outside: remains zero\n",
    "\n",
    "    return pdf_unnormalized if pdf_unnormalized.shape != () else pdf_unnormalized.item()\n",
    "\n",
    "def broken_powerlaw_pdf(\n",
    "    m, mminbh=26., mmaxbh=125., alpha_1=6.75, alpha_2=0., b=0.5, delta_m=5., size=10000\n",
    "):\n",
    "    \"\"\"\n",
    "    Normalized PDF for the broken power law.\n",
    "\n",
    "    Parameters:\n",
    "    -----------\n",
    "    m : float or np.ndarray\n",
    "        Mass value(s) to evaluate the PDF at.\n",
    "    Other parameters: as above.\n",
    "    size : int\n",
    "        Number of grid points for normalization.\n",
    "\n",
    "    Returns:\n",
    "    --------\n",
    "    pdf : float or np.ndarray\n",
    "        Normalized PDF value(s) at m.\n",
    "    \"\"\"\n",
    "    m = np.atleast_1d(m)\n",
    "    # Compute normalization over allowed mass range\n",
    "    m_grid = np.linspace(mminbh, mmaxbh, size)\n",
    "    pdf_unnorm = broken_powerlaw_unormalized(m_grid, mminbh, mmaxbh, alpha_1, alpha_2, b, delta_m)\n",
    "    normalization = np.trapz(pdf_unnorm, m_grid)\n",
    "\n",
    "    pdf_unnorm = broken_powerlaw_unormalized(m, mminbh, mmaxbh, alpha_1, alpha_2, b, delta_m)\n",
    "    pdf = pdf_unnorm / normalization\n",
    "    return pdf if pdf.shape != () else pdf.item()\n",
    "\n",
    "# ---- Optional: Sampling function ----\n",
    "def sample_broken_powerlaw(\n",
    "    N, mminbh=26., mmaxbh=125., alpha_1=6.75, alpha_2=0., b=0.5, delta_m=5., size=10000\n",
    "):\n",
    "    \"\"\"\n",
    "    Draw N samples from the normalized broken power law PDF (inverse transform sampling).\n",
    "    \"\"\"\n",
    "    m_grid = np.linspace(mminbh, mmaxbh, size)\n",
    "    pdf = broken_powerlaw_pdf(m_grid, mminbh, mmaxbh, alpha_1, alpha_2, b, delta_m, size)\n",
    "    cdf = np.cumsum(pdf)\n",
    "    cdf = cdf / cdf[-1]\n",
    "    u = np.random.rand(N)\n",
    "    samples = np.interp(u, cdf, m_grid)\n",
    "    return samples\n",
    "\n",
    "# ---- Example usage ----\n",
    "if __name__ == '__main__':\n",
    "    # Example: plot the normalized PDF\n",
    "    import matplotlib.pyplot as plt\n",
    "    m = np.linspace(20, 130, 1000)\n",
    "    pdf = broken_powerlaw_pdf(m)\n",
    "    plt.plot(m, pdf)\n",
    "    plt.xlabel('$m_1$ [M$_\\\\odot$]')\n",
    "    plt.ylabel('PDF')\n",
    "    plt.title('Broken Power Law PDF for $m_1$')\n",
    "    plt.show()\n"
   ]
  },
  {
   "cell_type": "code",
   "execution_count": null,
   "metadata": {},
   "outputs": [],
   "source": []
  },
  {
   "cell_type": "code",
   "execution_count": null,
   "metadata": {},
   "outputs": [],
   "source": []
  },
  {
   "cell_type": "code",
   "execution_count": null,
   "metadata": {},
   "outputs": [],
   "source": []
  },
  {
   "cell_type": "code",
   "execution_count": 8,
   "metadata": {},
   "outputs": [
    {
     "data": {
      "image/png": "[encoded data removed]",
      "text/plain": [
       "<Figure size 1000x400 with 2 Axes>"
      ]
     },
     "metadata": {},
     "output_type": "display_data"
    }
   ],
   "source": [
    "# Plotting\n",
    "plt.figure(figsize=(10, 4))\n",
    "\n",
    "plt.subplot(1, 2, 1)\n",
    "plt.hist(m1_samps, bins=50, density=True, alpha=0.7, color='C1')\n",
    "m1_grid = np.linspace(mminbh - delta_m, mmaxbh + delta_m, 1000)\n",
    "plt.plot(m1_grid, p_m1(m1_grid)/np.trapz(p_m1(m1_grid), m1_grid), 'k--', label='Target PDF')\n",
    "plt.xlabel('$m_1$ (BH mass)')\n",
    "plt.ylabel('PDF')\n",
    "plt.title('Black Hole Mass Distribution')\n",
    "plt.legend()\n",
    "\n",
    "plt.subplot(1, 2, 2)\n",
    "plt.hist(m2_samps, bins=50, density=True, alpha=0.7, color='C2')\n",
    "m2_grid = np.linspace(mminns - delta_m, mmaxns + delta_m, 1000)\n",
    "plt.plot(m2_grid, p_m2(m2_grid)/np.trapz(p_m2(m2_grid), m2_grid), 'k--', label='Target PDF')\n",
    "plt.xlabel('$m_2$ (NS mass)')\n",
    "plt.ylabel('PDF')\n",
    "plt.title('Neutron Star Mass Distribution')\n",
    "plt.legend()\n",
    "\n",
    "plt.tight_layout()\n",
    "plt.show()\n"
   ]
  },
  {
   "cell_type": "code",
   "execution_count": 84,
   "metadata": {},
   "outputs": [
    {
     "data": {
      "image/png": "[encoded data removed]",
      "text/plain": [
       "<Figure size 640x480 with 1 Axes>"
      ]
     },
     "metadata": {},
     "output_type": "display_data"
    }
   ],
   "source": [
    "import matplotlib.pyplot as plt\n",
    "\n",
    "# plt.hist(mass_1_, bins=60, density=True, alpha=0.7, color='C0', histtype='step', label=r'$m_1 gwcosmo$')\n",
    "# plt.hist(m1_sample, bins=60, density=True, alpha=0.7, color='C1', histtype='step', label=r'$m_1 mine$')\n",
    "plt.hist(mass_2_, bins=50, density=True, alpha=0.7, color='C2', histtype='step', label=r'$m_2$ gwcosmo')\n",
    "plt.hist(m2_sample, bins=60, density=True, alpha=0.7, color='C3', histtype='step', label=r'$m_1$ mine')\n",
    "\n",
    "plt.xlabel('Primary Mass ($m_1$) [$M_\\\\odot$]')\n",
    "plt.ylabel('Density')\n",
    "plt.xlim(0,60)\n",
    "plt.title('Distribution of Primary Mass ($m_1$)')\n",
    "plt.legend()\n",
    "# plt.grid(True)\n",
    "plt.tight_layout()\n",
    "plt.show()"
   ]
  },
  {
   "cell_type": "code",
   "execution_count": 83,
   "metadata": {},
   "outputs": [],
   "source": [
    "import numpy as np\n",
    "from numba import njit\n",
    "\n",
    "@njit\n",
    "def smoothing_S_numba(m, mmin, delta_m):\n",
    "    \"\"\"\n",
    "    A Numba-jitted smoothing function for the low-mass cutoff.\n",
    "    \"\"\"\n",
    "    if m < mmin:\n",
    "        return 0.0\n",
    "    elif m < mmin + delta_m:\n",
    "        mprime = m - mmin\n",
    "        # This calculation is safe from division by zero due to the checks above\n",
    "        exponent = delta_m / mprime + delta_m / (mprime - delta_m)\n",
    "        \n",
    "        # Prevent overflow warning, as learned from the previous step\n",
    "        if exponent > 709.0:\n",
    "            return 0.0\n",
    "            \n",
    "        f = np.exp(exponent)\n",
    "        return 1.0 / (f + 1.0)\n",
    "    else:\n",
    "        return 1.0\n",
    "\n",
    "@njit\n",
    "def generate_samples_numba(N_samples, mminbh, mmaxbh, alpha, mu_g, sigma_g, lambda_peak, delta_m, beta):\n",
    "    \"\"\"\n",
    "    Generates samples using a Numba-jitted loop for high performance.\n",
    "    \"\"\"\n",
    "    # Pre-allocate NumPy arrays to store the results. This is much faster\n",
    "    # than appending to a list in a loop.\n",
    "    m1_sample = np.empty(N_samples, dtype=np.float64)\n",
    "    m2_sample = np.empty(N_samples, dtype=np.float64)\n",
    "    \n",
    "    accepted_count = 0\n",
    "    \n",
    "    # Pre-calculate powers outside the loop\n",
    "    pow_alpha = 1.0 - alpha\n",
    "    mmin_pow_alpha = mminbh**pow_alpha\n",
    "    mmax_pow_alpha = mmaxbh**pow_alpha\n",
    "    pow_beta = beta + 1.0\n",
    "    \n",
    "    # Use a 'while' loop to ensure we collect exactly N_samples,\n",
    "    # accounting for samples rejected by the smoothing function.\n",
    "    while accepted_count < N_samples:\n",
    "        # 1. Sample m1\n",
    "        # ----------------\n",
    "        if np.random.rand() < lambda_peak:\n",
    "            # Sample from Gaussian component\n",
    "            m1_ = np.random.normal(mu_g, sigma_g) \n",
    "        else:\n",
    "            # Sample from Power-law component\n",
    "            # FIX: The original code was missing this random number draw\n",
    "            u_pl = np.random.rand() \n",
    "            m1_ = (u_pl * (mmax_pow_alpha - mmin_pow_alpha) + mmin_pow_alpha)**(1.0 / pow_alpha)\n",
    "\n",
    "        # 2. Apply smoothing rejection sampling for m1 and m2\n",
    "        # ----------------------------------------------------\n",
    "        # Draw a single random number for the joint smoothing check\n",
    "        u_smooth = np.random.rand()\n",
    "        \n",
    "        s1 = smoothing_S_numba(m1_, mminbh, delta_m)\n",
    "        if u_smooth > s1:\n",
    "            continue  # Reject m1 and restart the loop\n",
    "\n",
    "        # If m1 is accepted, sample m2\n",
    "        qmin = mminbh / m1_\n",
    "        \n",
    "        # Rejection sampling loop for m2\n",
    "        while True:\n",
    "            u_q = np.random.rand()\n",
    "            # Inverse transform sampling for mass ratio q\n",
    "            q = (u_q * (1.0**pow_beta - qmin**pow_beta) + qmin**pow_beta)**(1.0 / pow_beta)\n",
    "            m2_ = m1_ * q\n",
    "            \n",
    "            s_m2 = smoothing_S_numba(m2_, mminbh, delta_m)\n",
    "            \n",
    "            # The acceptance of m2 depends on the same random number 'u_smooth'.\n",
    "            # This logic is preserved from the original code.\n",
    "            u_smooth = np.random.rand()\n",
    "            if u_smooth <= s_m2:\n",
    "                break  # m2 is accepted, break the inner loop\n",
    "        \n",
    "        # 3. Store the accepted sample\n",
    "        # -----------------------------\n",
    "        m1_sample[accepted_count] = m1_\n",
    "        m2_sample[accepted_count] = m2_\n",
    "        accepted_count += 1\n",
    "            \n",
    "    return m1_sample, m2_sample\n",
    "\n",
    "# --- Parameters ---\n",
    "params = dict(\n",
    "    mminbh=4.98,\n",
    "    mmaxbh=112.5,\n",
    "    alpha=3.78,\n",
    "    mu_g=32.27,\n",
    "    sigma_g=3.88,\n",
    "    lambda_peak=0.03,\n",
    "    delta_m=4.8,\n",
    "    beta=0.81,\n",
    ")\n",
    "\n",
    "N_samples = 20000\n",
    "\n",
    "m1_sample, m2_sample = generate_samples_numba(\n",
    "    N_samples,\n",
    "    params['mminbh'],\n",
    "    params['mmaxbh'],\n",
    "    params['alpha'],\n",
    "    params['mu_g'],\n",
    "    params['sigma_g'],\n",
    "    params['lambda_peak'],\n",
    "    params['delta_m'],\n",
    "    params['beta']\n",
    ")\n"
   ]
  },
  {
   "cell_type": "code",
   "execution_count": null,
   "metadata": {},
   "outputs": [],
   "source": []
  },
  {
   "cell_type": "code",
   "execution_count": null,
   "metadata": {},
   "outputs": [],
   "source": []
  },
  {
   "cell_type": "code",
   "execution_count": 56,
   "metadata": {},
   "outputs": [],
   "source": [
    "import numpy as np\n",
    "from numba import njit\n",
    "\n",
    "@njit\n",
    "def smoothing_S_numba(m, mmin, delta_m):\n",
    "    \"\"\"\n",
    "    A Numba-jitted smoothing function for the low-mass cutoff.\n",
    "    \"\"\"\n",
    "    if m < mmin:\n",
    "        return 0.0\n",
    "    elif m < mmin + delta_m:\n",
    "        mprime = m - mmin\n",
    "        # This calculation is safe from division by zero due to the checks above\n",
    "        exponent = delta_m / mprime + delta_m / (mprime - delta_m)\n",
    "        \n",
    "        # Prevent overflow warning, as learned from the previous step\n",
    "        if exponent > 709.0:\n",
    "            return 0.0\n",
    "            \n",
    "        f = np.exp(exponent)\n",
    "        return 1.0 / (f + 1.0)\n",
    "    else:\n",
    "        return 1.0\n",
    "\n",
    "@njit\n",
    "def generate_samples_numba(N_samples, mminbh, mmaxbh, alpha, mu_g, sigma_g, lambda_peak, delta_m, beta):\n",
    "    \"\"\"\n",
    "    Generates samples using a Numba-jitted loop for high performance.\n",
    "    \"\"\"\n",
    "    # Pre-allocate NumPy arrays to store the results. This is much faster\n",
    "    # than appending to a list in a loop.\n",
    "    m1_sample = np.empty(N_samples, dtype=np.float64)\n",
    "    m2_sample = np.empty(N_samples, dtype=np.float64)\n",
    "    \n",
    "    accepted_count = 0\n",
    "    \n",
    "    # Pre-calculate powers outside the loop\n",
    "    pow_alpha = 1.0 - alpha\n",
    "    mmin_pow_alpha = mminbh**pow_alpha\n",
    "    mmax_pow_alpha = mmaxbh**pow_alpha\n",
    "    pow_beta = beta + 1.0\n",
    "    \n",
    "    # Use a 'while' loop to ensure we collect exactly N_samples,\n",
    "    # accounting for samples rejected by the smoothing function.\n",
    "    while accepted_count < N_samples:\n",
    "        # 1. Sample m1\n",
    "        # ----------------\n",
    "        if np.random.rand() < lambda_peak:\n",
    "            # Sample from Gaussian component\n",
    "            m1_ = np.random.normal(mu_g, sigma_g) \n",
    "        else:\n",
    "            # Sample from Power-law component\n",
    "            # FIX: The original code was missing this random number draw\n",
    "            u_pl = np.random.rand() \n",
    "            m1_ = (u_pl * (mmax_pow_alpha - mmin_pow_alpha) + mmin_pow_alpha)**(1.0 / pow_alpha)\n",
    "\n",
    "        # 2. Apply smoothing rejection sampling for m1 and m2\n",
    "        # ----------------------------------------------------\n",
    "        # Draw a single random number for the joint smoothing check\n",
    "        u_smooth = np.random.rand()\n",
    "        \n",
    "        s1 = smoothing_S_numba(m1_, mminbh, delta_m)\n",
    "        if u_smooth > s1:\n",
    "            continue  # Reject m1 and restart the loop\n",
    "\n",
    "        # If m1 is accepted, sample m2\n",
    "        qmin = mminbh / m1_\n",
    "        \n",
    "        # Rejection sampling loop for m2\n",
    "        while True:\n",
    "            u_q = np.random.rand()\n",
    "            # Inverse transform sampling for mass ratio q\n",
    "            q = (u_q * (1.0**pow_beta - qmin**pow_beta) + qmin**pow_beta)**(1.0 / pow_beta)\n",
    "            m2_ = m1_ * q\n",
    "            \n",
    "            s_m2 = smoothing_S_numba(m2_, mminbh, delta_m)\n",
    "            \n",
    "            # The acceptance of m2 depends on the same random number 'u_smooth'.\n",
    "            # This logic is preserved from the original code.\n",
    "            if u_smooth <= s_m2:\n",
    "                break  # m2 is accepted, break the inner loop\n",
    "        \n",
    "        # 3. Store the accepted sample\n",
    "        # -----------------------------\n",
    "        m1_sample[accepted_count] = m1_\n",
    "        m2_sample[accepted_count] = m2_\n",
    "        accepted_count += 1\n",
    "            \n",
    "    return m1_sample, m2_sample\n",
    "\n",
    "# --- Parameters ---\n",
    "params = dict(\n",
    "    mminbh=4.98,\n",
    "    mmaxbh=112.5,\n",
    "    alpha=3.78,\n",
    "    mu_g=32.27,\n",
    "    sigma_g=3.88,\n",
    "    lambda_peak=0.03,\n",
    "    delta_m=4.8,\n",
    "    beta=0.81,\n",
    ")\n",
    "\n",
    "N_samples = 20000\n",
    "\n",
    "m1_sample, m2_sample = generate_samples_numba(\n",
    "    N_samples,\n",
    "    params['mminbh'],\n",
    "    params['mmaxbh'],\n",
    "    params['alpha'],\n",
    "    params['mu_g'],\n",
    "    params['sigma_g'],\n",
    "    params['lambda_peak'],\n",
    "    params['delta_m'],\n",
    "    params['beta']\n",
    ")\n"
   ]
  },
  {
   "cell_type": "code",
   "execution_count": 57,
   "metadata": {},
   "outputs": [
    {
     "name": "stdout",
     "output_type": "stream",
     "text": [
      "22.6 ms ± 6.15 ms per loop (mean ± std. dev. of 7 runs, 10 loops each)\n"
     ]
    }
   ],
   "source": [
    "N_samples = 50000\n",
    "\n",
    "%timeit m1_sample, m2_sample = generate_samples_numba(N_samples,params['mminbh'],params['mmaxbh'],params['alpha'],params['mu_g'],params['sigma_g'],params['lambda_peak'],params['delta_m'],params['beta'])"
   ]
  },
  {
   "cell_type": "code",
   "execution_count": 50,
   "metadata": {},
   "outputs": [
    {
     "name": "stdout",
     "output_type": "stream",
     "text": [
      "11 ms ± 23.8 μs per loop (mean ± std. dev. of 7 runs, 100 loops each)\n"
     ]
    }
   ],
   "source": [
    "%timeit  mass_1_, mass_2_ = model.sample(Nsample=50000)"
   ]
  },
  {
   "cell_type": "code",
   "execution_count": null,
   "metadata": {},
   "outputs": [],
   "source": []
  },
  {
   "cell_type": "code",
   "execution_count": 1,
   "metadata": {},
   "outputs": [
    {
     "name": "stdout",
     "output_type": "stream",
     "text": [
      "Setting multiprocessing start method to 'fork'\n"
     ]
    },
    {
     "ename": "ImportError",
     "evalue": "cannot import name 'cumtrapz' from 'scipy.integrate' (/Users/phurailatpamhemantakumar/anaconda3/envs/gwsnr/lib/python3.10/site-packages/scipy/integrate/__init__.py)",
     "output_type": "error",
     "traceback": [
      "\u001b[0;31m---------------------------------------------------------------------------\u001b[0m",
      "\u001b[0;31mImportError\u001b[0m                               Traceback (most recent call last)",
      "Cell \u001b[0;32mIn[1], line 2\u001b[0m\n\u001b[1;32m      1\u001b[0m \u001b[38;5;66;03m# call the LeR class\u001b[39;00m\n\u001b[0;32m----> 2\u001b[0m \u001b[38;5;28;01mfrom\u001b[39;00m \u001b[38;5;21;01mler\u001b[39;00m\u001b[38;5;21;01m.\u001b[39;00m\u001b[38;5;21;01mrates\u001b[39;00m \u001b[38;5;28;01mimport\u001b[39;00m LeR\n",
      "File \u001b[0;32m~/phd/mypackages/ler/ler/__init__.py:60\u001b[0m\n\u001b[1;32m     57\u001b[0m \u001b[38;5;28;01mimport\u001b[39;00m \u001b[38;5;21;01mos\u001b[39;00m\n\u001b[1;32m     58\u001b[0m \u001b[38;5;18m__file__\u001b[39m \u001b[38;5;241m=\u001b[39m os\u001b[38;5;241m.\u001b[39mpath\u001b[38;5;241m.\u001b[39mabspath(\u001b[38;5;18m__file__\u001b[39m)\n\u001b[0;32m---> 60\u001b[0m \u001b[38;5;28;01mfrom\u001b[39;00m \u001b[38;5;21;01m.\u001b[39;00m \u001b[38;5;28;01mimport\u001b[39;00m rates, gw_source_population, lens_galaxy_population, image_properties, utils\n\u001b[1;32m     62\u001b[0m \u001b[38;5;28;01mfrom\u001b[39;00m \u001b[38;5;21;01m.\u001b[39;00m\u001b[38;5;21;01mrates\u001b[39;00m \u001b[38;5;28;01mimport\u001b[39;00m ler, gwrates\n\u001b[1;32m     63\u001b[0m \u001b[38;5;28;01mfrom\u001b[39;00m \u001b[38;5;21;01m.\u001b[39;00m\u001b[38;5;21;01mgw_source_population\u001b[39;00m \u001b[38;5;28;01mimport\u001b[39;00m cbc_source_parameter_distribution, cbc_source_redshift_distribution\n",
      "File \u001b[0;32m~/phd/mypackages/ler/ler/rates/__init__.py:1\u001b[0m\n\u001b[0;32m----> 1\u001b[0m \u001b[38;5;28;01mfrom\u001b[39;00m \u001b[38;5;21;01m.\u001b[39;00m\u001b[38;5;21;01mler\u001b[39;00m \u001b[38;5;28;01mimport\u001b[39;00m \u001b[38;5;241m*\u001b[39m\n\u001b[1;32m      2\u001b[0m \u001b[38;5;28;01mfrom\u001b[39;00m \u001b[38;5;21;01m.\u001b[39;00m\u001b[38;5;21;01mgwrates\u001b[39;00m \u001b[38;5;28;01mimport\u001b[39;00m \u001b[38;5;241m*\u001b[39m\n",
      "File \u001b[0;32m~/phd/mypackages/ler/ler/rates/ler.py:15\u001b[0m\n\u001b[1;32m     13\u001b[0m \u001b[38;5;28;01mfrom\u001b[39;00m \u001b[38;5;21;01mscipy\u001b[39;00m\u001b[38;5;21;01m.\u001b[39;00m\u001b[38;5;21;01mstats\u001b[39;00m \u001b[38;5;28;01mimport\u001b[39;00m norm\n\u001b[1;32m     14\u001b[0m \u001b[38;5;28;01mfrom\u001b[39;00m \u001b[38;5;21;01mastropy\u001b[39;00m\u001b[38;5;21;01m.\u001b[39;00m\u001b[38;5;21;01mcosmology\u001b[39;00m \u001b[38;5;28;01mimport\u001b[39;00m LambdaCDM\n\u001b[0;32m---> 15\u001b[0m \u001b[38;5;28;01mfrom\u001b[39;00m \u001b[38;5;21;01m.\u001b[39;00m\u001b[38;5;21;01m.\u001b[39;00m\u001b[38;5;21;01mlens_galaxy_population\u001b[39;00m \u001b[38;5;28;01mimport\u001b[39;00m LensGalaxyParameterDistribution\n\u001b[1;32m     16\u001b[0m \u001b[38;5;28;01mfrom\u001b[39;00m \u001b[38;5;21;01m.\u001b[39;00m\u001b[38;5;21;01m.\u001b[39;00m\u001b[38;5;21;01mutils\u001b[39;00m \u001b[38;5;28;01mimport\u001b[39;00m load_json, append_json, get_param_from_json, batch_handler\n\u001b[1;32m     19\u001b[0m \u001b[38;5;66;03m# # multiprocessing guard code\u001b[39;00m\n\u001b[1;32m     20\u001b[0m \u001b[38;5;66;03m# def main():\u001b[39;00m\n\u001b[1;32m     21\u001b[0m \u001b[38;5;66;03m#     obj = LeR()\u001b[39;00m\n\u001b[1;32m     22\u001b[0m \n\u001b[1;32m     23\u001b[0m \u001b[38;5;66;03m# if __name__ == '__main__':\u001b[39;00m\n",
      "File \u001b[0;32m~/phd/mypackages/ler/ler/lens_galaxy_population/__init__.py:1\u001b[0m\n\u001b[0;32m----> 1\u001b[0m \u001b[38;5;28;01mfrom\u001b[39;00m \u001b[38;5;21;01m.\u001b[39;00m\u001b[38;5;21;01mlens_galaxy_parameter_distribution\u001b[39;00m \u001b[38;5;28;01mimport\u001b[39;00m \u001b[38;5;241m*\u001b[39m\n\u001b[1;32m      2\u001b[0m \u001b[38;5;28;01mfrom\u001b[39;00m \u001b[38;5;21;01m.\u001b[39;00m\u001b[38;5;21;01moptical_depth\u001b[39;00m \u001b[38;5;28;01mimport\u001b[39;00m \u001b[38;5;241m*\u001b[39m\n\u001b[1;32m      3\u001b[0m \u001b[38;5;28;01mfrom\u001b[39;00m \u001b[38;5;21;01m.\u001b[39;00m\u001b[38;5;21;01mmp\u001b[39;00m \u001b[38;5;28;01mimport\u001b[39;00m \u001b[38;5;241m*\u001b[39m\n",
      "File \u001b[0;32m~/phd/mypackages/ler/ler/lens_galaxy_population/lens_galaxy_parameter_distribution.py:17\u001b[0m\n\u001b[1;32m     14\u001b[0m \u001b[38;5;28;01mfrom\u001b[39;00m \u001b[38;5;21;01mtqdm\u001b[39;00m \u001b[38;5;28;01mimport\u001b[39;00m tqdm\n\u001b[1;32m     16\u001b[0m \u001b[38;5;66;03m# the following .py file will be called if they are not given in the class initialization\u001b[39;00m\n\u001b[0;32m---> 17\u001b[0m \u001b[38;5;28;01mfrom\u001b[39;00m \u001b[38;5;21;01m.\u001b[39;00m\u001b[38;5;21;01m.\u001b[39;00m\u001b[38;5;21;01mgw_source_population\u001b[39;00m \u001b[38;5;28;01mimport\u001b[39;00m CBCSourceParameterDistribution\n\u001b[1;32m     18\u001b[0m \u001b[38;5;28;01mfrom\u001b[39;00m \u001b[38;5;21;01m.\u001b[39;00m\u001b[38;5;21;01moptical_depth\u001b[39;00m \u001b[38;5;28;01mimport\u001b[39;00m OpticalDepth\n\u001b[1;32m     19\u001b[0m \u001b[38;5;28;01mfrom\u001b[39;00m \u001b[38;5;21;01m.\u001b[39;00m\u001b[38;5;21;01m.\u001b[39;00m\u001b[38;5;21;01mimage_properties\u001b[39;00m \u001b[38;5;28;01mimport\u001b[39;00m ImageProperties\n",
      "File \u001b[0;32m~/phd/mypackages/ler/ler/gw_source_population/__init__.py:2\u001b[0m\n\u001b[1;32m      1\u001b[0m \u001b[38;5;28;01mfrom\u001b[39;00m \u001b[38;5;21;01m.\u001b[39;00m\u001b[38;5;21;01mcbc_source_redshift_distribution\u001b[39;00m \u001b[38;5;28;01mimport\u001b[39;00m \u001b[38;5;241m*\u001b[39m\n\u001b[0;32m----> 2\u001b[0m \u001b[38;5;28;01mfrom\u001b[39;00m \u001b[38;5;21;01m.\u001b[39;00m\u001b[38;5;21;01mcbc_source_parameter_distribution\u001b[39;00m \u001b[38;5;28;01mimport\u001b[39;00m \u001b[38;5;241m*\u001b[39m\n\u001b[1;32m      3\u001b[0m \u001b[38;5;28;01mfrom\u001b[39;00m \u001b[38;5;21;01m.\u001b[39;00m\u001b[38;5;21;01mjit_functions\u001b[39;00m \u001b[38;5;28;01mimport\u001b[39;00m \u001b[38;5;241m*\u001b[39m\n\u001b[1;32m      4\u001b[0m \u001b[38;5;28;01mfrom\u001b[39;00m \u001b[38;5;21;01m.\u001b[39;00m\u001b[38;5;21;01msfr_with_time_delay\u001b[39;00m \u001b[38;5;28;01mimport\u001b[39;00m \u001b[38;5;241m*\u001b[39m\n",
      "File \u001b[0;32m~/phd/mypackages/ler/ler/gw_source_population/cbc_source_parameter_distribution.py:19\u001b[0m\n\u001b[1;32m     16\u001b[0m \u001b[38;5;28;01mfrom\u001b[39;00m \u001b[38;5;21;01mscipy\u001b[39;00m\u001b[38;5;21;01m.\u001b[39;00m\u001b[38;5;21;01mintegrate\u001b[39;00m \u001b[38;5;28;01mimport\u001b[39;00m quad\n\u001b[1;32m     18\u001b[0m \u001b[38;5;66;03m# for generating mass distribution\u001b[39;00m\n\u001b[0;32m---> 19\u001b[0m \u001b[38;5;28;01mfrom\u001b[39;00m \u001b[38;5;21;01mgwcosmo\u001b[39;00m \u001b[38;5;28;01mimport\u001b[39;00m priors \u001b[38;5;28;01mas\u001b[39;00m p\n\u001b[1;32m     21\u001b[0m \u001b[38;5;66;03m# for multiprocessing\u001b[39;00m\n\u001b[1;32m     22\u001b[0m \u001b[38;5;66;03m# Import helper routines\u001b[39;00m\n\u001b[1;32m     23\u001b[0m \u001b[38;5;28;01mfrom\u001b[39;00m \u001b[38;5;21;01m.\u001b[39;00m\u001b[38;5;21;01m.\u001b[39;00m\u001b[38;5;21;01mutils\u001b[39;00m \u001b[38;5;28;01mimport\u001b[39;00m FunctionConditioning\n",
      "File \u001b[0;32m~/anaconda3/envs/gwsnr/lib/python3.10/site-packages/gwcosmo/__init__.py:4\u001b[0m\n\u001b[1;32m      2\u001b[0m \u001b[38;5;28;01mfrom\u001b[39;00m \u001b[38;5;21;01m__future__\u001b[39;00m \u001b[38;5;28;01mimport\u001b[39;00m absolute_import\n\u001b[1;32m      3\u001b[0m \u001b[38;5;28;01mfrom\u001b[39;00m \u001b[38;5;21;01m.\u001b[39;00m\u001b[38;5;21;01mutilities\u001b[39;00m \u001b[38;5;28;01mimport\u001b[39;00m cosmology, luminosity_function, posterior_utilities, redshift_utilities, cache\n\u001b[0;32m----> 4\u001b[0m \u001b[38;5;28;01mfrom\u001b[39;00m \u001b[38;5;21;01m.\u001b[39;00m\u001b[38;5;21;01mlikelihood\u001b[39;00m \u001b[38;5;28;01mimport\u001b[39;00m posterior_samples, skymap\n\u001b[1;32m      5\u001b[0m \u001b[38;5;28;01mfrom\u001b[39;00m \u001b[38;5;21;01m.\u001b[39;00m\u001b[38;5;21;01mprior\u001b[39;00m \u001b[38;5;28;01mimport\u001b[39;00m catalog, priors\n\u001b[1;32m      6\u001b[0m \u001b[38;5;28;01mfrom\u001b[39;00m \u001b[38;5;21;01m.\u001b[39;00m\u001b[38;5;21;01mplotting\u001b[39;00m \u001b[38;5;28;01mimport\u001b[39;00m plot\n",
      "File \u001b[0;32m~/anaconda3/envs/gwsnr/lib/python3.10/site-packages/gwcosmo/likelihood/__init__.py:1\u001b[0m\n\u001b[0;32m----> 1\u001b[0m \u001b[38;5;28;01mfrom\u001b[39;00m \u001b[38;5;21;01m.\u001b[39;00m \u001b[38;5;28;01mimport\u001b[39;00m posterior_samples\n\u001b[1;32m      2\u001b[0m \u001b[38;5;28;01mfrom\u001b[39;00m \u001b[38;5;21;01m.\u001b[39;00m \u001b[38;5;28;01mimport\u001b[39;00m skymap\n\u001b[1;32m      3\u001b[0m \u001b[38;5;28;01mfrom\u001b[39;00m \u001b[38;5;21;01m.\u001b[39;00m \u001b[38;5;28;01mimport\u001b[39;00m dark_siren_likelihood\n",
      "File \u001b[0;32m~/anaconda3/envs/gwsnr/lib/python3.10/site-packages/gwcosmo/likelihood/posterior_samples.py:10\u001b[0m\n\u001b[1;32m      8\u001b[0m \u001b[38;5;28;01mimport\u001b[39;00m \u001b[38;5;21;01mh5py\u001b[39;00m\n\u001b[1;32m      9\u001b[0m \u001b[38;5;28;01mfrom\u001b[39;00m \u001b[38;5;21;01m.\u001b[39;00m\u001b[38;5;21;01mskymap\u001b[39;00m \u001b[38;5;28;01mimport\u001b[39;00m ra_dec_from_ipix\n\u001b[0;32m---> 10\u001b[0m \u001b[38;5;28;01mfrom\u001b[39;00m \u001b[38;5;21;01m.\u001b[39;00m\u001b[38;5;21;01m.\u001b[39;00m\u001b[38;5;21;01mprior\u001b[39;00m\u001b[38;5;21;01m.\u001b[39;00m\u001b[38;5;21;01mpriors\u001b[39;00m \u001b[38;5;28;01mimport\u001b[39;00m distance_distribution\n\u001b[1;32m     11\u001b[0m \u001b[38;5;28;01mimport\u001b[39;00m \u001b[38;5;21;01mjson\u001b[39;00m\n\u001b[1;32m     12\u001b[0m \u001b[38;5;28;01mimport\u001b[39;00m \u001b[38;5;21;01mhealpy\u001b[39;00m \u001b[38;5;28;01mas\u001b[39;00m \u001b[38;5;21;01mhp\u001b[39;00m\n",
      "File \u001b[0;32m~/anaconda3/envs/gwsnr/lib/python3.10/site-packages/gwcosmo/prior/__init__.py:1\u001b[0m\n\u001b[0;32m----> 1\u001b[0m \u001b[38;5;28;01mfrom\u001b[39;00m \u001b[38;5;21;01m.\u001b[39;00m \u001b[38;5;28;01mimport\u001b[39;00m catalog, priors, custom_math_priors, LOS_redshift_prior\n",
      "File \u001b[0;32m~/anaconda3/envs/gwsnr/lib/python3.10/site-packages/gwcosmo/prior/priors.py:11\u001b[0m\n\u001b[1;32m      7\u001b[0m \u001b[38;5;28;01mimport\u001b[39;00m \u001b[38;5;21;01mnumpy\u001b[39;00m \u001b[38;5;28;01mas\u001b[39;00m \u001b[38;5;21;01mnp\u001b[39;00m\n\u001b[1;32m      9\u001b[0m \u001b[38;5;28;01mfrom\u001b[39;00m \u001b[38;5;21;01mscipy\u001b[39;00m\u001b[38;5;21;01m.\u001b[39;00m\u001b[38;5;21;01minterpolate\u001b[39;00m \u001b[38;5;28;01mimport\u001b[39;00m interp1d\n\u001b[0;32m---> 11\u001b[0m \u001b[38;5;28;01mfrom\u001b[39;00m \u001b[38;5;21;01m.\u001b[39;00m \u001b[38;5;28;01mimport\u001b[39;00m custom_math_priors \u001b[38;5;28;01mas\u001b[39;00m _cmp\n\u001b[1;32m     13\u001b[0m \u001b[38;5;28;01mdef\u001b[39;00m \u001b[38;5;21mpH0\u001b[39m(H0, prior\u001b[38;5;241m=\u001b[39m\u001b[38;5;124m'\u001b[39m\u001b[38;5;124mlog\u001b[39m\u001b[38;5;124m'\u001b[39m):\n\u001b[1;32m     14\u001b[0m \u001b[38;5;250m    \u001b[39m\u001b[38;5;124;03m\"\"\"\u001b[39;00m\n\u001b[1;32m     15\u001b[0m \u001b[38;5;124;03m    Returns p(H0)\u001b[39;00m\n\u001b[1;32m     16\u001b[0m \u001b[38;5;124;03m    The prior probability of H0\u001b[39;00m\n\u001b[0;32m   (...)\u001b[0m\n\u001b[1;32m     30\u001b[0m \u001b[38;5;124;03m        p(H0)\u001b[39;00m\n\u001b[1;32m     31\u001b[0m \u001b[38;5;124;03m    \"\"\"\u001b[39;00m\n",
      "File \u001b[0;32m~/anaconda3/envs/gwsnr/lib/python3.10/site-packages/gwcosmo/prior/custom_math_priors.py:11\u001b[0m\n\u001b[1;32m      9\u001b[0m \u001b[38;5;28;01mfrom\u001b[39;00m \u001b[38;5;21;01mscipy\u001b[39;00m\u001b[38;5;21;01m.\u001b[39;00m\u001b[38;5;21;01mspecial\u001b[39;00m \u001b[38;5;28;01mimport\u001b[39;00m erf \u001b[38;5;28;01mas\u001b[39;00m _erf\n\u001b[1;32m     10\u001b[0m \u001b[38;5;28;01mfrom\u001b[39;00m \u001b[38;5;21;01mscipy\u001b[39;00m\u001b[38;5;21;01m.\u001b[39;00m\u001b[38;5;21;01mspecial\u001b[39;00m \u001b[38;5;28;01mimport\u001b[39;00m logsumexp \u001b[38;5;28;01mas\u001b[39;00m _logsumexp\n\u001b[0;32m---> 11\u001b[0m \u001b[38;5;28;01mfrom\u001b[39;00m \u001b[38;5;21;01mscipy\u001b[39;00m\u001b[38;5;21;01m.\u001b[39;00m\u001b[38;5;21;01mintegrate\u001b[39;00m \u001b[38;5;28;01mimport\u001b[39;00m cumtrapz \u001b[38;5;28;01mas\u001b[39;00m _cumtrapz\n\u001b[1;32m     13\u001b[0m \u001b[38;5;28;01mdef\u001b[39;00m \u001b[38;5;21m_S_factor\u001b[39m(mass, mmin,delta_m):\n\u001b[1;32m     14\u001b[0m \u001b[38;5;250m    \u001b[39m\u001b[38;5;124;03m'''\u001b[39;00m\n\u001b[1;32m     15\u001b[0m \u001b[38;5;124;03m    This function return the value of the window function defined as Eqs B6 and B7 of https://arxiv.org/pdf/2010.14533.pdf\u001b[39;00m\n\u001b[1;32m     16\u001b[0m \n\u001b[0;32m   (...)\u001b[0m\n\u001b[1;32m     28\u001b[0m \u001b[38;5;124;03m    Values of the window function\u001b[39;00m\n\u001b[1;32m     29\u001b[0m \u001b[38;5;124;03m    '''\u001b[39;00m\n",
      "\u001b[0;31mImportError\u001b[0m: cannot import name 'cumtrapz' from 'scipy.integrate' (/Users/phurailatpamhemantakumar/anaconda3/envs/gwsnr/lib/python3.10/site-packages/scipy/integrate/__init__.py)"
     ]
    }
   ],
   "source": [
    "# call the LeR class\n",
    "from ler.rates import LeR"
   ]
  },
  {
   "cell_type": "markdown",
   "metadata": {},
   "source": [
    "* You can check for more details on `LeR` class from either the [documentation](https://ler.readthedocs.io/en/latest/) or by calling `help(LeR)` or `LeR?` (in the Jupyter Notebook).\n",
    "\n",
    "* Depending on the number of CPU cores used and microprocessor architecture, `LeR` class initialization will take some time to generate interpolation data for the models. Please be patient. e.g. it takes 1m 56s for 4 cores in M2 pro Aplle intel chip 16GB RAM.\n",
    "\n",
    "* The generated interpolation data is saved and will be call automatically when the same model is used again. If user wants to regenerate the interpolation data, please set `create_new_interpolator=True` in the `LeR` class initialization. Or you can simply delete the `interpolator_pickle` directory or specific path in the `interpolator_pickle` directory.\n",
    "  \n",
    "* if you don't want the models and its parameters to print. Default is True.\n",
    "\n",
    "    ```ler = LeR(verbose=False)```\n",
    "    \n",
    "* set 'npool' according to your machine's available CPU cores. Default is 4.\n",
    "* to check no. of cores, \n",
    "\n",
    "    ```\n",
    "    import multiprocessing as mp\n",
    "    print(mp.cpu_count())\n",
    "    ```"
   ]
  },
  {
   "cell_type": "code",
   "execution_count": 2,
   "metadata": {},
   "outputs": [
    {
     "name": "stdout",
     "output_type": "stream",
     "text": [
      "\n",
      "Initializing LeR class...\n",
      "\n",
      "\n",
      "Initializing LensGalaxyParameterDistribution class...\n",
      "\n",
      "\n",
      "Initializing OpticalDepth class\n",
      "\n",
      "using lens_redshift_epl_shear2_mp\n",
      "comoving_distance interpolator will be loaded from ./interpolator_pickle/comoving_distance/comoving_distance_0.pickle\n",
      "angular_diameter_distance interpolator will be loaded from ./interpolator_pickle/angular_diameter_distance/angular_diameter_distance_0.pickle\n",
      "differential_comoving_volume interpolator will be loaded from ./interpolator_pickle/differential_comoving_volume/differential_comoving_volume_0.pickle\n",
      "Interpolated cross section function loaded from ./interpolator_pickle/cross_section_function/cross_section_function_0.pickle\n",
      "using ler available velocity dispersion function : velocity_dispersion_ewoud\n",
      "velocity_dispersion_ewoud interpolator will be loaded from ./interpolator_pickle/velocity_dispersion/velocity_dispersion_ewoud_0.pickle\n",
      "using ler available axis_ratio function : axis_ratio_rayleigh\n",
      "axis_ratio_rayleigh interpolator will be loaded from ./interpolator_pickle/axis_ratio/axis_ratio_rayleigh_0.pickle\n",
      "using ler available axis_rotation_angle function : axis_rotation_angle_uniform\n",
      "using ler available density_profile_slope function : density_profile_slope_normal\n",
      "using ler available external_shear function : external_shear_normal\n",
      "using user provided custom lens_redshift class/object\n",
      "using ler available density_profile_slope_sl function : density_profile_slope_normal\n",
      "using ler available external_shear_sl function : external_shear_normal\n",
      "using ler available optical depth function : optical_depth_numerical\n",
      "optical_depth_numerical interpolator will be loaded from ./interpolator_pickle/optical_depth/optical_depth_numerical_0.pickle\n",
      "\n",
      "Initializing CBCSourceRedshiftDistribution...\n",
      "\n",
      "luminosity_distance interpolator will be loaded from ./interpolator_pickle/luminosity_distance/luminosity_distance_0.pickle\n",
      "differential_comoving_volume interpolator will be loaded from ./interpolator_pickle/differential_comoving_volume/differential_comoving_volume_0.pickle\n",
      "using ler available merger rate density model: merger_rate_density_bbh_popI_II_oguri2018\n",
      "merger_rate_density_bbh_popI_II_oguri2018 interpolator will be loaded from ./interpolator_pickle/merger_rate_density/merger_rate_density_bbh_popI_II_oguri2018_2.pickle\n",
      "merger_rate_density_detector_frame interpolator will be loaded from ./interpolator_pickle/merger_rate_density/merger_rate_density_detector_frame_3.pickle\n",
      "using user provided custom source redshift class/object\n",
      "\n",
      "Initializing CBCSourceParameterDistribution...\n",
      "\n",
      "using ler available zs function : source_redshift\n",
      "using ler available source_frame_masses function : binary_masses_BBH_popI_II_powerlaw_gaussian\n",
      "using ler available geocent_time function : sampler_uniform\n",
      "using ler available dec function : sampler_cosine\n",
      "using ler available phase function : sampler_uniform\n",
      "using ler available psi function : sampler_uniform\n",
      "using ler available theta_jn function : sampler_sine\n",
      "luminosity_distance_to_z interpolator will be loaded from ./interpolator_pickle/luminosity_distance_to_z/luminosity_distance_to_z_0.pickle\n",
      "\n",
      "Initializing GWSNR class...\n",
      "\n",
      "psds not given. Choosing bilby's default psds\n",
      "Interpolator will be loaded for L1 detector from ./interpolator_pickle/L1/partialSNR_dict_1.pickle\n",
      "Interpolator will be loaded for H1 detector from ./interpolator_pickle/H1/partialSNR_dict_1.pickle\n",
      "Interpolator will be loaded for V1 detector from ./interpolator_pickle/V1/partialSNR_dict_1.pickle\n",
      "\n",
      "\n",
      "\n",
      " # LeR set up params:\n",
      "npool = 4,\n",
      "z_min = 0.0,\n",
      "z_max = 10.0,\n",
      "event_type = 'BBH',\n",
      "size = 100000,\n",
      "batch_size = 50000,\n",
      "cosmology = LambdaCDM(H0=70.0 km / (Mpc s), Om0=0.3, Ode0=0.7, Tcmb0=0.0 K, Neff=3.04, m_nu=None, Ob0=None),\n",
      "snr_finder = <bound method GWSNR.snr of <gwsnr.gwsnr.GWSNR object at 0x105abee30>>,\n",
      "json_file_names = {'ler_params': 'ler_params.json', 'unlensed_param': 'unlensed_param.json', 'unlensed_param_detectable': 'unlensed_param_detectable.json', 'lensed_param': 'lensed_param.json', 'lensed_param_detectable': 'lensed_param_detectable.json'},\n",
      "interpolator_directory = './interpolator_pickle',\n",
      "ler_directory = './ler_data',\n",
      "\n",
      " # LeR also takes CBCSourceParameterDistribution class params as kwargs, as follows:\n",
      "source_priors = {'merger_rate_density': 'merger_rate_density_bbh_popI_II_oguri2018', 'zs': 'source_redshift', 'source_frame_masses': 'binary_masses_BBH_popI_II_powerlaw_gaussian', 'geocent_time': 'sampler_uniform', 'ra': 'sampler_uniform', 'dec': 'sampler_cosine', 'phase': 'sampler_uniform', 'psi': 'sampler_uniform', 'theta_jn': 'sampler_sine'},\n",
      "source_priors_params = {'merger_rate_density': {'R0': 2.39e-08, 'b2': 1.6, 'b3': 2.1, 'b4': 30}, 'zs': None, 'source_frame_masses': {'mminbh': 4.98, 'mmaxbh': 112.5, 'alpha': 3.78, 'mu_g': 32.27, 'sigma_g': 3.88, 'lambda_peak': 0.03, 'delta_m': 4.8, 'beta': 0.81}, 'geocent_time': {'xmin': 1238166018, 'xmax': 1269723618.0, 'min_': 1238166018, 'max_': 1269702018}, 'ra': {'xmin': 0.0, 'xmax': 6.283185307179586, 'min_': 0.0, 'max_': 6.283185307179586}, 'dec': None, 'phase': {'xmin': 0.0, 'xmax': 6.283185307179586, 'min_': 0.0, 'max_': 6.283185307179586}, 'psi': {'xmin': 0.0, 'xmax': 3.141592653589793, 'min_': 0.0, 'max_': 3.141592653589793}, 'theta_jn': None},\n",
      "spin_zero = True,\n",
      "spin_precession = False,\n",
      "create_new_interpolator = False,\n",
      "\n",
      " # LeR also takes LensGalaxyParameterDistribution class params as kwargs, as follows:\n",
      "lens_type = 'epl_shear_galaxy',\n",
      "lens_functions = {'param_sampler_type': 'sample_all_routine_sie_sl', 'strong_lensing_condition': 'rjs_with_cross_section_sie_feixu', 'optical_depth': 'optical_depth_numerical', 'cross_section': 'interpolated_cross_section_function'},\n",
      "lens_param_samplers = {'source_redshift_sl': 'strongly_lensed_source_redshifts', 'lens_redshift': 'lens_redshift_SDSS_catalogue_hemanta', 'velocity_dispersion': 'velocity_dispersion_ewoud', 'axis_ratio': 'axis_ratio_rayleigh', 'axis_rotation_angle': 'axis_rotation_angle_uniform', 'external_shear': 'external_shear_normal', 'density_profile_slope': 'density_profile_slope_normal', 'external_shear_sl': 'external_shear_normal', 'density_profile_slope_sl': 'density_profile_slope_normal'},\n",
      "lens_param_samplers_params = {'source_redshift_sl': None, 'lens_redshift': None, 'velocity_dispersion': {'sigma_min': 100.0, 'sigma_max': 400.0, 'alpha': 0.94, 'beta': 1.85, 'phistar': 0.02099, 'sigmastar': 113.78, 'name': 'velocity_dispersion_ewoud'}, 'axis_ratio': {'q_min': 0.2, 'q_max': 1.0, 'name': 'axis_ratio_rayleigh'}, 'axis_rotation_angle': {'phi_min': 0.0, 'phi_max': 6.283185307179586, 'name': 'axis_rotation_angle_uniform'}, 'external_shear': {'mean': 0.0, 'std': 0.05, 'name': 'external_shear_normal'}, 'density_profile_slope': {'mean': 1.99, 'std': 0.149, 'name': 'density_profile_slope_normal'}, 'external_shear_sl': {'mean': 0.0, 'std': 0.05, 'name': 'external_shear_sl'}, 'density_profile_slope_sl': {'mean': 2.078, 'std': 0.16, 'name': 'density_profile_slope_sl'}},\n",
      "\n",
      " # LeR also takes ImageProperties class params as kwargs, as follows:\n",
      "n_min_images = 2,\n",
      "n_max_images = 4,\n",
      "geocent_time_min = 1126259462.4,\n",
      "geocent_time_max = 1756979462.4,\n",
      "lens_model_list = ['EPL_NUMBA', 'SHEAR'],\n",
      "\n",
      " # LeR also takes gwsnr.GWSNR params as kwargs, as follows:\n",
      "mtot_min = 2.0,\n",
      "mtot_max = 184.98599853446768,\n",
      "ratio_min = 0.1,\n",
      "ratio_max = 1.0,\n",
      "mtot_resolution = 500,\n",
      "ratio_resolution = 50,\n",
      "sampling_frequency = 2048.0,\n",
      "waveform_approximant = 'IMRPhenomD',\n",
      "minimum_frequency = 20.0,\n",
      "snr_type = 'interpolation',\n",
      "psds = [PowerSpectralDensity(psd_file='None', asd_file='/Users/phurailatpamhemantakumar/anaconda3/envs/ler/lib/python3.10/site-packages/bilby/gw/detector/noise_curves/aLIGO_O4_high_asd.txt'), PowerSpectralDensity(psd_file='None', asd_file='/Users/phurailatpamhemantakumar/anaconda3/envs/ler/lib/python3.10/site-packages/bilby/gw/detector/noise_curves/aLIGO_O4_high_asd.txt'), PowerSpectralDensity(psd_file='None', asd_file='/Users/phurailatpamhemantakumar/anaconda3/envs/ler/lib/python3.10/site-packages/bilby/gw/detector/noise_curves/AdV_asd.txt')],\n",
      "ifos = None,\n",
      "interpolator_dir = './interpolator_pickle',\n",
      "gwsnr_verbose = False,\n",
      "multiprocessing_verbose = True,\n",
      "mtot_cut = True,\n",
      "\n",
      " For reference, the chosen source parameters are listed below:\n",
      "merger_rate_density = 'merger_rate_density_bbh_popI_II_oguri2018'\n",
      "merger_rate_density_params =  {'R0': 2.39e-08, 'b2': 1.6, 'b3': 2.1, 'b4': 30}\n",
      "source_frame_masses = 'binary_masses_BBH_popI_II_powerlaw_gaussian'\n",
      "source_frame_masses_params =  {'mminbh': 4.98, 'mmaxbh': 112.5, 'alpha': 3.78, 'mu_g': 32.27, 'sigma_g': 3.88, 'lambda_peak': 0.03, 'delta_m': 4.8, 'beta': 0.81}\n",
      "geocent_time = 'sampler_uniform'\n",
      "geocent_time_params =  {'xmin': 1238166018, 'xmax': 1269723618.0, 'min_': 1238166018, 'max_': 1269702018}\n",
      "ra = 'sampler_uniform'\n",
      "ra_params =  {'xmin': 0.0, 'xmax': 6.283185307179586, 'min_': 0.0, 'max_': 6.283185307179586}\n",
      "dec = 'sampler_cosine'\n",
      "dec_params =  None\n",
      "phase = 'sampler_uniform'\n",
      "phase_params =  {'xmin': 0.0, 'xmax': 6.283185307179586, 'min_': 0.0, 'max_': 6.283185307179586}\n",
      "psi = 'sampler_uniform'\n",
      "psi_params =  {'xmin': 0.0, 'xmax': 3.141592653589793, 'min_': 0.0, 'max_': 3.141592653589793}\n",
      "theta_jn = 'sampler_sine'\n",
      "theta_jn_params =  None\n",
      "\n",
      " For reference, the chosen lens related parameters and functions are listed below:\n",
      "lens_redshift = 'lens_redshift_SDSS_catalogue_hemanta'\n",
      "lens_redshift_params =  None\n",
      "velocity_dispersion = 'velocity_dispersion_ewoud'\n",
      "velocity_dispersion_params =  {'sigma_min': 100.0, 'sigma_max': 400.0, 'alpha': 0.94, 'beta': 1.85, 'phistar': 0.02099, 'sigmastar': 113.78, 'name': 'velocity_dispersion_ewoud'}\n",
      "axis_ratio = 'axis_ratio_rayleigh'\n",
      "axis_ratio_params =  {'q_min': 0.2, 'q_max': 1.0, 'name': 'axis_ratio_rayleigh'}\n",
      "axis_rotation_angle = 'axis_rotation_angle_uniform'\n",
      "axis_rotation_angle_params =  {'phi_min': 0.0, 'phi_max': 6.283185307179586, 'name': 'axis_rotation_angle_uniform'}\n",
      "shear = 'external_shear_normal'\n",
      "shear_params =  {'mean': 0.0, 'std': 0.05, 'name': 'external_shear_normal'}\n",
      "density_profile_slope = 'density_profile_slope_normal'\n",
      "density_profile_slope_params =  {'mean': 1.99, 'std': 0.149, 'name': 'density_profile_slope_normal'}\n",
      "Lens functions:\n",
      "strong_lensing_condition = 'rjs_with_cross_section_sie_feixu'\n",
      "optical_depth = 'optical_depth_numerical'\n",
      "optical_depth_params = 'None'\n",
      "param_sampler_type = 'sample_all_routine_sie_sl'\n"
     ]
    }
   ],
   "source": [
    "# LeR initialization with default arguments\n",
    "ler = LeR()"
   ]
  },
  {
   "cell_type": "markdown",
   "metadata": {},
   "source": [
    "### Simulation of the GW CBC population (unlensed). <a class=\"anchor\" id=\"bullet-one-one\"></a>\n",
    "\n",
    "* this will generate a json file with the simulated population parameters.\n",
    "  \n",
    "* by default 100,000 events will be sampled with batches of 50,000. For more realistic results, keep batch_size=50000 and size>=1000000.\n",
    "  \n",
    "* results will be saved in the same directory as json file.\n",
    "  \n",
    "* `resume=True` will resume the simulation from the last saved batch.\n",
    "  \n",
    "* if you dont't need to save the file at the end of each batch sampling, set `save_batch=False` (default)."
   ]
  },
  {
   "cell_type": "code",
   "execution_count": 3,
   "metadata": {},
   "outputs": [
    {
     "name": "stdout",
     "output_type": "stream",
     "text": [
      "unlensed params will be store in ./ler_data/unlensed_param.json\n",
      "chosen batch size = 50000 with total size = 100000\n",
      "There will be 2 batche(s)\n",
      "Batch no. 1\n",
      "sampling gw source params...\n",
      "calculating snrs...\n",
      "INFO:jax._src.xla_bridge:Unable to initialize backend 'rocm': module 'jaxlib.xla_extension' has no attribute 'GpuAllocatorConfig'\n",
      "INFO:jax._src.xla_bridge:Unable to initialize backend 'tpu': INTERNAL: Failed to open libtpu.so: dlopen(libtpu.so, 0x0001): tried: 'libtpu.so' (no such file), '/System/Volumes/Preboot/Cryptexes/OSlibtpu.so' (no such file), '/Users/phurailatpamhemantakumar/anaconda3/envs/ler/bin/../lib/libtpu.so' (no such file), '/usr/lib/libtpu.so' (no such file, not in dyld cache), 'libtpu.so' (no such file), '/usr/local/lib/libtpu.so' (no such file), '/usr/lib/libtpu.so' (no such file, not in dyld cache)\n",
      "Batch no. 2\n",
      "sampling gw source params...\n",
      "calculating snrs...\n",
      "saving all unlensed parameters in ./ler_data/unlensed_param.json \n"
     ]
    }
   ],
   "source": [
    "# ler.batch_size = 100000 # for faster computation\n",
    "unlensed_param = ler.unlensed_cbc_statistics(size=100000, resume=False, save_batch=False)"
   ]
  },
  {
   "cell_type": "markdown",
   "metadata": {},
   "source": [
    "### Calculation of unlensed rates. <a class=\"anchor\" id=\"bullet-one-two\"></a> "
   ]
  },
  {
   "cell_type": "code",
   "execution_count": 9,
   "metadata": {},
   "outputs": [
    {
     "name": "stdout",
     "output_type": "stream",
     "text": [
      "Getting unlensed_param from json file ./ler_data/unlensed_param.json...\n",
      "given detectability_condition == 'step_function'\n",
      "total unlensed rate (yr^-1): 432.7257078089194\n",
      "number of simulated unlensed detectable events: 418\n",
      "number of simulated all unlensed events: 100000\n",
      "storing detectable params in ./ler_data/unlensed_param_detectable.json\n"
     ]
    }
   ],
   "source": [
    "rate_unlensed, unlensed_param_detectable = ler.unlensed_rate()"
   ]
  },
  {
   "cell_type": "code",
   "execution_count": 10,
   "metadata": {},
   "outputs": [
    {
     "name": "stdout",
     "output_type": "stream",
     "text": [
      "dict_keys(['zs', 'geocent_time', 'ra', 'dec', 'phase', 'psi', 'theta_jn', 'luminosity_distance', 'mass_1_source', 'mass_2_source', 'mass_1', 'mass_2', 'L1', 'H1', 'V1', 'snr_net'])\n"
     ]
    }
   ],
   "source": [
    "# look for parameters names included in the generated data\n",
    "print(unlensed_param_detectable.keys())"
   ]
  },
  {
   "cell_type": "markdown",
   "metadata": {},
   "source": [
    "### Simulation of the GW CBC population (lensed). <a class=\"anchor\" id=\"bullet-one-three\"></a> \n",
    "\n",
    "* this will generate a json file with the simulated source parameters, lensed parameters and image parameters.\n",
    "  \n",
    "* if the program hangs dues to memory issues,\n",
    "  * try reducing the batch size.\n",
    "  * and you can resume from the last saved batch. But you need to set save_batch=True.\n",
    "  * `save_batch=False` (default) will make the code run faster but you will not have the results saved in the end of each batch."
   ]
  },
  {
   "cell_type": "code",
   "execution_count": 11,
   "metadata": {},
   "outputs": [
    {
     "name": "stdout",
     "output_type": "stream",
     "text": [
      "lensed params will be store in ./ler_data/lensed_param.json\n",
      "chosen batch size = 50000 with total size = 100000\n",
      "There will be 2 batche(s)\n",
      "Batch no. 1\n",
      "sampling lensed params...\n",
      "solving lens equations...\n"
     ]
    },
    {
     "name": "stderr",
     "output_type": "stream",
     "text": [
      "100%|███████████████████████████████████████████████████████| 50000/50000 [00:11<00:00, 4376.58it/s]\n"
     ]
    },
    {
     "name": "stdout",
     "output_type": "stream",
     "text": [
      "calculating snrs...\n",
      "Batch no. 2\n",
      "sampling lensed params...\n",
      "solving lens equations...\n"
     ]
    },
    {
     "name": "stderr",
     "output_type": "stream",
     "text": [
      "100%|███████████████████████████████████████████████████████| 50000/50000 [00:11<00:00, 4262.07it/s]\n"
     ]
    },
    {
     "name": "stdout",
     "output_type": "stream",
     "text": [
      "Invalid sample found. Resampling 1 lensed events...\n",
      "solving lens equations...\n"
     ]
    },
    {
     "name": "stderr",
     "output_type": "stream",
     "text": [
      "100%|█████████████████████████████████████████████████████████████████| 1/1 [00:00<00:00, 11.91it/s]"
     ]
    },
    {
     "name": "stdout",
     "output_type": "stream",
     "text": [
      "calculating snrs...\n"
     ]
    },
    {
     "name": "stderr",
     "output_type": "stream",
     "text": [
      "\n"
     ]
    },
    {
     "name": "stdout",
     "output_type": "stream",
     "text": [
      "saving all lensed parameters in ./ler_data/lensed_param.json \n"
     ]
    }
   ],
   "source": [
    "# ler.batch_size = 50000\n",
    "lensed_param = ler.lensed_cbc_statistics(size=100000, resume=False, save_batch=False)"
   ]
  },
  {
   "cell_type": "markdown",
   "metadata": {},
   "source": [
    "### Calculation of lensed rates. <a class=\"anchor\" id=\"bullet-one-four\"></a> "
   ]
  },
  {
   "cell_type": "code",
   "execution_count": 12,
   "metadata": {},
   "outputs": [
    {
     "name": "stdout",
     "output_type": "stream",
     "text": [
      "Getting lensed_param from json file ./ler_data/lensed_param.json...\n",
      "given detectability_condition == step_function\n",
      "total lensed rate (yr^-1): 1.1690813631723105\n",
      "number of simulated lensed detectable events: 515\n",
      "number of simulated all lensed events: 100000\n",
      "storing detectable params in ./ler_data/lensed_param_detectable.json\n"
     ]
    }
   ],
   "source": [
    "ler.lensed_rate();"
   ]
  },
  {
   "cell_type": "markdown",
   "metadata": {},
   "source": [
    "### Comparison of the rates. <a class=\"anchor\" id=\"bullet-one-five\"></a> \n",
    "\n",
    "* `ler.rate_ratio` function by default assumes data generated and stored in previous steps. Otherwise you have to provide the data or the file path."
   ]
  },
  {
   "cell_type": "code",
   "execution_count": 13,
   "metadata": {},
   "outputs": [
    {
     "name": "stdout",
     "output_type": "stream",
     "text": [
      "unlensed_rate: 432.7257078089194\n",
      "lensed_rate: 1.1690813631723105\n",
      "ratio: 370.1416526175006\n"
     ]
    }
   ],
   "source": [
    "ler.rate_ratio();"
   ]
  },
  {
   "cell_type": "markdown",
   "metadata": {},
   "source": [
    "* if you want to calculate the rates, and compare it at the same time, run the following command.\n",
    "\n",
    "    ```rate_ratio, unlensed_param_detectable, lensed_param_detectable =ler.rate_comparison_with_rate_calculation()```"
   ]
  },
  {
   "cell_type": "markdown",
   "metadata": {},
   "source": [
    "* Note: The above example is for spin-less systems. IMRPhenomD (spin-less) is the default waveform approximant. To see LeR configuration, run\n",
    "\n",
    "    ```ler.print_all_params()```"
   ]
  },
  {
   "cell_type": "markdown",
   "metadata": {},
   "source": [
    "### Getting generated parameters. <a class=\"anchor\" id=\"bullet-one-six\"></a> \n",
    "\n",
    "* what are the saved files?\n",
    "\n",
    "* all saved files are in the `ler_data` directory by default."
   ]
  },
  {
   "cell_type": "code",
   "execution_count": 18,
   "metadata": {},
   "outputs": [
    {
     "name": "stdout",
     "output_type": "stream",
     "text": [
      "ler directory: ./ler_data\n",
      "ler json file names: {'ler_params': 'ler_params.json', 'unlensed_param': 'unlensed_param.json', 'unlensed_param_detectable': 'unlensed_param_detectable.json', 'lensed_param': 'lensed_param.json', 'lensed_param_detectable': 'lensed_param_detectable.json'}\n"
     ]
    }
   ],
   "source": [
    "#ler.json_file_names, ler.ler_directory\n",
    "print(f\"ler directory: {ler.ler_directory}\")\n",
    "print(f\"ler json file names: {ler.json_file_names}\")"
   ]
  },
  {
   "cell_type": "markdown",
   "metadata": {},
   "source": [
    "* you can use ler attributes or call the relevant json file"
   ]
  },
  {
   "cell_type": "code",
   "execution_count": 14,
   "metadata": {},
   "outputs": [
    {
     "name": "stdout",
     "output_type": "stream",
     "text": [
      "unlensed_param_detectable keys: dict_keys(['zs', 'geocent_time', 'ra', 'dec', 'phase', 'psi', 'theta_jn', 'luminosity_distance', 'mass_1_source', 'mass_2_source', 'mass_1', 'mass_2', 'L1', 'H1', 'V1', 'snr_net'])\n",
      "lensed_param_detectable keys: dict_keys(['zl', 'zs', 'sigma', 'q', 'theta_E', 'phi', 'e1', 'e2', 'gamma1', 'gamma2', 'gamma', 'geocent_time', 'ra', 'dec', 'phase', 'psi', 'theta_jn', 'luminosity_distance', 'mass_1_source', 'mass_2_source', 'mass_1', 'mass_2', 'x0_image_positions', 'x1_image_positions', 'magnifications', 'time_delays', 'image_type', 'n_images', 'effective_luminosity_distance', 'effective_geocent_time', 'snr_net', 'L1', 'H1', 'V1'])\n"
     ]
    }
   ],
   "source": [
    "# the generated parameters are not store in the ler instance, but in the json files\n",
    "# you can access the generated parameters from the json files as shown below\n",
    "unlensed_param_detectable = ler.unlensed_param_detectable\n",
    "lensed_param_detectable = ler.lensed_param_detectable\n",
    "# unlensed_param = ler.unlensed_param\n",
    "# lensed_param = ler.lensed_param\n",
    "\n",
    "# print keys of the generated parameters\n",
    "print(f\"unlensed_param_detectable keys: {unlensed_param_detectable.keys()}\")\n",
    "print(f\"lensed_param_detectable keys: {lensed_param_detectable.keys()}\")"
   ]
  },
  {
   "cell_type": "markdown",
   "metadata": {},
   "source": [
    "* here is another way to access the generated parameters from the json files\n",
    "\n",
    "* `get_param_from_json` and `load_json` functions from `ler.utils` sub-module will be use in the following examples. `get_param_from_json` will automatically assume the dictionary value is a list and will be converted to a numpy array, while `load_json` will return the json file's dictionary as it is.\n",
    "\n",
    "* `get_param_from_json` will recognize numpy specific data types (e.g. nan and inf) and convert them to numpy arrays.\n",
    "\n",
    "* to save data as dictionary, use `save_json` or `append_json` function from `ler.utils` sub-module.\n",
    "\n",
    "* all function usage of `ler.utils` sub-module can be found in the [ler.git](https://github.com/hemantaph/ler/blob/main/examples/utils/utils_functions.ipynb) example."
   ]
  },
  {
   "cell_type": "code",
   "execution_count": 16,
   "metadata": {},
   "outputs": [
    {
     "name": "stdout",
     "output_type": "stream",
     "text": [
      "unlensed_param_detectable keys: dict_keys(['zs', 'geocent_time', 'ra', 'dec', 'phase', 'psi', 'theta_jn', 'luminosity_distance', 'mass_1_source', 'mass_2_source', 'mass_1', 'mass_2', 'L1', 'H1', 'V1', 'snr_net'])\n",
      "lensed_param_detectable keys: dict_keys(['zl', 'zs', 'sigma', 'q', 'theta_E', 'phi', 'e1', 'e2', 'gamma1', 'gamma2', 'gamma', 'geocent_time', 'ra', 'dec', 'phase', 'psi', 'theta_jn', 'luminosity_distance', 'mass_1_source', 'mass_2_source', 'mass_1', 'mass_2', 'x0_image_positions', 'x1_image_positions', 'magnifications', 'time_delays', 'image_type', 'n_images', 'effective_luminosity_distance', 'effective_geocent_time', 'snr_net', 'L1', 'H1', 'V1'])\n"
     ]
    }
   ],
   "source": [
    "from ler.utils import get_param_from_json\n",
    "\n",
    "unlensed_param_detectable = get_param_from_json(ler.ler_directory+'/'+ler.json_file_names['unlensed_param_detectable'])\n",
    "lensed_param_detectable = get_param_from_json(ler.ler_directory+'/'+ler.json_file_names['lensed_param_detectable'])\n",
    "# unlensed_param = get_param_from_json(ler.ler_directory+'/'+ler.json_file_names['unlensed_param'])\n",
    "# lensed_param = get_param_from_json(ler.ler_directory+'/'+ler.json_file_names['lensed_param'])\n",
    "\n",
    "# print keys of the generated parameters\n",
    "print(f\"unlensed_param_detectable keys: {unlensed_param_detectable.keys()}\")\n",
    "print(f\"lensed_param_detectable keys: {lensed_param_detectable.keys()}\")"
   ]
  },
  {
   "cell_type": "markdown",
   "metadata": {},
   "source": [
    "* Note: all LeR initialization parameters and some important results are saved in a json file."
   ]
  },
  {
   "cell_type": "code",
   "execution_count": 21,
   "metadata": {},
   "outputs": [
    {
     "name": "stdout",
     "output_type": "stream",
     "text": [
      "dict_keys(['npool', 'z_min', 'z_max', 'size', 'batch_size', 'cosmology', 'snr_finder', 'json_file_names', 'interpolator_directory', 'gw_param_sampler_dict', 'snr_calculator_dict', 'detectable_unlensed_rate_per_year', 'detectability_condition', 'detectable_lensed_rate_per_year', 'rate_ratio'])\n",
      "detectable_unlensed_rate_per_year:  420.30296021631887\n",
      "detectable_lensed_rate_per_year;  1.094440169697147\n",
      "rate_ratio:  384.0346616047772\n"
     ]
    }
   ],
   "source": [
    "from ler.utils import load_json\n",
    "# ler_params = load_json(ler.ler_directory+\"/\"+ler.json_file_names[\"ler_params\"])\n",
    "ler_params = load_json('ler_data/ler_params.json')\n",
    "print(ler_params.keys())\n",
    "print(\"detectable_unlensed_rate_per_year: \", ler_params['detectable_unlensed_rate_per_year'])\n",
    "print(\"detectable_lensed_rate_per_year; \",ler_params['detectable_lensed_rate_per_year'])\n",
    "print(\"rate_ratio: \",ler_params['rate_ratio'])"
   ]
  },
  {
   "cell_type": "markdown",
   "metadata": {},
   "source": [
    "### Plot the generated parameters <a class=\"anchor\" id=\"bullet-one-seven\"></a> \n",
    "\n",
    "* Below I plot the generated redshift distributions of the lensed and unlensed populations and comapre them."
   ]
  },
  {
   "cell_type": "code",
   "execution_count": 22,
   "metadata": {},
   "outputs": [
    {
     "name": "stdout",
     "output_type": "stream",
     "text": [
      "getting gw_params from json file ler_data/unlensed_param_detectable.json...\n",
      "getting gw_params from json file ler_data/unlensed_param.json...\n",
      "getting gw_params from json file ler_data/lensed_param_detectable.json...\n",
      "getting gw_params from json file ler_data/lensed_param.json...\n"
     ]
    },
    {
     "data": {
      "image/png": "[encoded data removed]",
      "text/plain": [
       "<Figure size 600x400 with 1 Axes>"
      ]
     },
     "metadata": {},
     "output_type": "display_data"
    }
   ],
   "source": [
    "# quick plot\n",
    "import matplotlib.pyplot as plt\n",
    "from ler.utils import plots as lerplt\n",
    "\n",
    "# plotting the distribution of event parameters\n",
    "# comparision of redshift distribution for lensed and unlensed events\n",
    "# param_dict can be either a dictionary or a json file name that contains the parameters\n",
    "plt.figure(figsize=(6, 4))\n",
    "# for unlensed case\n",
    "lerplt.param_plot(\n",
    "    param_name='zs',\n",
    "    param_dict='ler_data/unlensed_param_detectable.json',\n",
    "    plot_label='zs (bbh-detectable)',\n",
    "    histogram=False,\n",
    "    kde=True,\n",
    "    kde_bandwidth=0.5,\n",
    ")\n",
    "lerplt.param_plot(\n",
    "    param_name='zs',\n",
    "    param_dict='ler_data/unlensed_param.json',\n",
    "    plot_label='zs (bbh-all)',\n",
    "    histogram=False,\n",
    "    kde=True,\n",
    ")\n",
    "# for lensed case\n",
    "lerplt.param_plot(\n",
    "    param_name='zs',\n",
    "    param_dict='ler_data/lensed_param_detectable.json',\n",
    "    plot_label='zs (bbh-lensed-detectable)',\n",
    "    histogram=False,\n",
    "    kde=True,\n",
    "    kde_bandwidth=0.5,\n",
    ")\n",
    "lerplt.param_plot(\n",
    "    param_name='zs',\n",
    "    param_dict='ler_data/lensed_param.json',\n",
    "    plot_label='zs (bbh-lensed-all)',\n",
    "    histogram=False,\n",
    "    kde=True,\n",
    ")\n",
    "plt.xlim(0.001,8)\n",
    "plt.grid(alpha=0.4)\n",
    "plt.xlabel('Source redshift (zs)')\n",
    "plt.ylabel('Probability Density')\n",
    "plt.show()"
   ]
  },
  {
   "cell_type": "markdown",
   "metadata": {},
   "source": [
    "## Using custom functions and parameters. <a class=\"anchor\" id=\"bullet-two\"></a>\n",
    "\n",
    "\n",
    "* `ler` allows internal model functions to be change with custom functions.\n",
    "\n",
    "* It also allows to change the default parameters of the existing model functions.\n",
    "\n",
    "First let's look at what are the input parameters available for `LeR` class. The input paramters can divided into five categories\n",
    "\n",
    "1. ler.LeR set up params\n",
    "\n",
    "2. ler.CBCSourceParameterDistribution set up params (as kwargs)\n",
    "\n",
    "3. ler.LensGalaxyParameterDistribution set up params (as kwargs)\n",
    "\n",
    "4. ler.ImageProperties set up params (as kwargs)\n",
    "\n",
    "5. gwsnr.GWSNR set up params (as kwargs)\n",
    "\n",
    "Complete LeR initialization is shown below,"
   ]
  },
  {
   "cell_type": "code",
   "execution_count": 3,
   "metadata": {},
   "outputs": [],
   "source": [
    "# # below is the example of LeR initialization with all the arguments.\n",
    "from ler.rates import LeR\n",
    "import numpy as np\n",
    "import matplotlib.pyplot as plt\n",
    "from astropy.cosmology import LambdaCDM\n",
    "\n",
    "# # Uncomment the below code if you need to change the default arguments.\n",
    "# ler = LeR(\n",
    "#     # LeR setup arguments\n",
    "#     npool=4, # number of processors to use\n",
    "#     z_min=0.0, # minimum redshift\n",
    "#     z_max=10.0, # maximum redshift\n",
    "#     event_type='BBH', # event type\n",
    "#     size=100000, # number of events to simulate\n",
    "#     batch_size=50000, # batch size\n",
    "#     cosmology=LambdaCDM(H0=70, Om0=0.3, Ode0=0.7), # cosmology\n",
    "#     snr_finder=None, # snr calculator from 'gwsnr' package will be used\n",
    "#     pdet_finder=None,  # will not be consider unless specified\n",
    "#     list_of_detectors=None, # list of detectors that will be considered when calculating snr or pdet for lensed events. if None, all the detectors from 'gwsnr' will be considered\n",
    "#     json_file_names=dict(\n",
    "#         ler_params=\"ler_params.json\", # to store initialization parameters and important results\n",
    "#         unlensed_param=\"unlensed_param.json\", # to store all unlensed events\n",
    "#         unlensed_param_detectable=\"unlensed_param_detectable.json\", # to store only detectable unlensed events\n",
    "#         lensed_param=\"lensed_param.json\", # to store all lensed events \n",
    "#         lensed_param_detectable=\"lensed_param_detectable.json\"), # to store only detectable lensed events\n",
    "#     interpolator_directory='./interpolator_pickle', # directory to store the interpolator pickle files. 'ler' uses interpolation to get values of various functions to speed up the calculations (relying on numba njit).\n",
    "#     ler_directory='./ler_data', # directory to store all the outputs\n",
    "#     verbose=False, # if True, will print all information at initialization\n",
    "\n",
    "#     # CBCSourceParameterDistribution class arguments\n",
    "#     source_priors= {'merger_rate_density': 'merger_rate_density_bbh_popI_II_oguri2018', 'source_frame_masses': 'binary_masses_BBH_popI_II_powerlaw_gaussian', 'zs': 'sample_source_redshift', 'geocent_time': 'sampler_uniform', 'ra': 'sampler_uniform', 'dec': 'sampler_cosine', 'phase': 'sampler_uniform', 'psi': 'sampler_uniform', 'theta_jn': 'sampler_sine'},\n",
    "#     source_priors_params= {'merger_rate_density': {'R0': 2.39e-08, 'b2': 1.6, 'b3': 2.0, 'b4': 30}, 'source_frame_masses': {'mminbh': 4.98, 'mmaxbh': 112.5, 'alpha': 3.78, 'mu_g': 32.27, 'sigma_g': 3.88, 'lambda_peak': 0.03, 'delta_m': 4.8, 'beta': 0.81}, 'zs': None, 'geocent_time': {'min_': 1238166018, 'max_': 1269702018}, 'ra': {'min_': 0.0, 'max_': 6.283185307179586}, 'dec': None, 'phase': {'min_': 0.0, 'max_': 6.283185307179586}, 'psi': {'min_': 0.0, 'max_': 3.141592653589793}, 'theta_jn': None},\n",
    "#     spin_zero= True, # if True, spins will be set to zero\n",
    "#     spin_precession= False, # if True, spins will be precessing\n",
    "\n",
    "#     # LensGalaxyParameterDistribution class arguments\n",
    "#     lens_type = 'epl_shear_galaxy',\n",
    "#     lens_functions =  {'strong_lensing_condition': 'rjs_with_cross_section_SIE', 'optical_depth': 'optical_depth_SIE_hemanta', 'param_sampler_type': 'sample_all_routine'},\n",
    "#     lens_priors =  {'source_redshift_sl': 'strongly_lensed_source_redshifts', 'lens_redshift': 'lens_redshift_SDSS_catalogue', 'velocity_dispersion': 'velocity_dispersion_ewoud', 'axis_ratio': 'axis_ratio_rayleigh', 'axis_rotation_angle': 'axis_rotation_angle_uniform', 'external_shear': 'shear_norm', 'density_profile_slope': 'density_profile_slope_normal', 'source_parameters': 'sample_gw_parameters'},\n",
    "#     lens_priors_params =  {'source_redshift_sl': None, 'lens_redshift': None, 'velocity_dispersion': None, 'axis_ratio': {'q_min': 0.2, 'q_max': 1.0}, 'axis_rotation_angle': {'phi_min': 0.0, 'phi_max': 6.283185307179586}, 'external_shear': {'scale': 0.05}, 'density_profile_slope': {'mean': 2.0, 'std': 0.2}, 'source_parameters': None},\n",
    "\n",
    "#     # ImageProperties class arguments\n",
    "#     n_min_images = 2,\n",
    "#     n_max_images = 4,\n",
    "#     geocent_time_min = 1126259462.4,\n",
    "#     geocent_time_max = 1756979462.4,\n",
    "#     lens_model_list = ['EPL_NUMBA', 'SHEAR'],\n",
    "\n",
    "#     # gwsnr package arguments\n",
    "#     mtot_min = 2.0,\n",
    "#     mtot_max = 184.98599853446768,\n",
    "#     ratio_min = 0.1,\n",
    "#     ratio_max = 1.0,\n",
    "#     mtot_resolution = 500,\n",
    "#     ratio_resolution = 50,\n",
    "#     sampling_frequency = 2048.0,\n",
    "#     waveform_approximant = 'IMRPhenomD',\n",
    "#     minimum_frequency = 20.0,\n",
    "#     snr_type = 'interpolation',\n",
    "#     psds = {'L1':'aLIGO_O4_high_asd.txt','H1':'aLIGO_O4_high_asd.txt', 'V1':'AdV_asd.txt', 'K1':'KAGRA_design_asd.txt'},\n",
    "#     ifos = ['L1', 'H1', 'V1'],\n",
    "#     interpolator_dir = './interpolator_pickle',\n",
    "#     gwsnr_verbose = False,\n",
    "#     multiprocessing_verbose = True,\n",
    "#     mtot_cut = True,\n",
    "\n",
    "#     # common arguments, to generate interpolator\n",
    "#     create_new_interpolator = dict(\n",
    "#         redshift_distribution=dict(create_new=False, resolution=1000),\n",
    "#         z_to_luminosity_distance=dict(create_new=False, resolution=1000),\n",
    "#         velocity_dispersion=dict(create_new=False, resolution=1000),\n",
    "#         axis_ratio=dict(create_new=False, resolution=1000),\n",
    "#         optical_depth=dict(create_new=False, resolution=200),\n",
    "#         z_to_Dc=dict(create_new=False, resolution=1000),\n",
    "#         Dc_to_z=dict(create_new=False, resolution=1000),\n",
    "#         angular_diameter_distance=dict(create_new=False, resolution=1000),\n",
    "#         differential_comoving_volume=dict(create_new=False, resolution=1000),\n",
    "#         Dl_to_z=dict(create_new=False, resolution=1000),\n",
    "#     )\n",
    "# )"
   ]
  },
  {
   "cell_type": "markdown",
   "metadata": {},
   "source": [
    "### Defining custom functions and parameters. <a class=\"anchor\" id=\"bullet-two-one\"></a>\n",
    "\n",
    "As an example, I will change,\n",
    "\n",
    "  * **merger_rate_density_params**'s default value of **local merger rate density** ($R_0$) to $38.8\\times 10^{-9} Mpc^{-3} yr^{-1}$ (upper limit of GWTC-3). But, I am still using the default merger_rate_density function, which is `'merger_rate_density_bbh_popI_II_oguri2018'`. Note that the accepted $R_0$ value in [GWTC-3](https://journals.aps.org/prx/pdf/10.1103/PhysRevX.13.011048) is $23.9_{-8.6}^{+14.9}\\times 10^{-9} \\; Mpc^{-3} yr^{-1}$.\n",
    "\n",
    "  * **source_frame_masses** to a custom function. This is similar to the internal default function, i.e. `PowerLaw+Peak model`. I am using `gwcosmo`'s `powerlaw_gaussian` prior for this example.\n",
    "\n",
    "  * **optical depth** for strong lensing condition and **velocity dispersion** of the lensing galaxy to SIS model and gamma function respectively. The default optical depth is that of the SIE model and default velocity dispersion has additional redshift dependence. Note the minimum and maximum values of the velocity dispersion. Default is $[10, 350] \\; km/s$.\n",
    "  \n",
    "  * `gwsnr` parameters: By default, it uses **IMRPhenomD** **waveform model** with no spin. It uses interpolation method to find the 'snr' and it is super fast. But for the example below, I am using **IMRPhenomXPHM** with precessing spins. This is without interpolation but through inner product method, like that of `bilby` but with njit functions and multiprocessing. It will be slower as compare to interpolation method but faster than that of bilby.\n",
    "\n",
    "**Note:** All custom functions sampler should have 'size' as the only input."
   ]
  },
  {
   "cell_type": "code",
   "execution_count": 23,
   "metadata": {},
   "outputs": [],
   "source": [
    "from gwcosmo import priors as p\n",
    "\n",
    "# define your custom function of mass_1_source and mass_2_source calculation\n",
    "# it should have 'size' as the only argument\n",
    "def powerlaw_peak(size):\n",
    "    \"\"\"\n",
    "    Function to sample mass1 and mass2 from a powerlaw with a gaussian peak\n",
    "\n",
    "    Parameters\n",
    "    ----------\n",
    "    size : `int`\n",
    "        Number of samples to draw\n",
    "\n",
    "    Returns\n",
    "    -------\n",
    "    mass_1_source : `numpy.ndarray`\n",
    "        Array of mass1 samples\n",
    "    mass_2_source : `numpy.ndarray`\n",
    "        Array of mass2 samples\n",
    "    \"\"\"\n",
    "\n",
    "\n",
    "    # below is the gwcosmo default values\n",
    "    mminbh=4.98  # Minimum mass of the black hole (Msun)\n",
    "    mmaxbh=86.22  # Maximum mass of the black hole (Msun) \n",
    "    alpha=2.63  # Spectral index for the powerlaw of the primary mass distribution\n",
    "    mu_g=33.07  # Mean of the Gaussian component in the primary mass distribution\n",
    "    sigma_g=5.69  # Width of the Gaussian component in the primary mass distribution\n",
    "    lambda_peak=0.10  # Fraction of the model in the Gaussian component\n",
    "    delta_m=4.82  # Range of mass tapering on the lower end of the mass distribution\n",
    "    beta=1.26  # Spectral index for the powerlaw of the mass ratio distribution\n",
    "\n",
    "    model = p.BBH_powerlaw_gaussian(\n",
    "        mminbh=mminbh,\n",
    "        mmaxbh=mmaxbh,\n",
    "        alpha=alpha,\n",
    "        mu_g=mu_g,\n",
    "        sigma_g=sigma_g,\n",
    "        lambda_peak=lambda_peak,\n",
    "        delta_m=delta_m,\n",
    "        beta=beta,\n",
    "    )\n",
    "    # sample mass1 and mass2\n",
    "    mass_1_source, mass_2_source = model.sample(Nsample=size)\n",
    "\n",
    "    return (mass_1_source, mass_2_source)"
   ]
  },
  {
   "cell_type": "markdown",
   "metadata": {},
   "source": [
    "### LeR initialization with custom functions and parameters <a class=\"anchor\" id=\"bullet-two-two\"></a>\n",
    "\n",
    "* Initialize the class with the custom function\n",
    "\n",
    "* changing ler input params"
   ]
  },
  {
   "cell_type": "code",
   "execution_count": 24,
   "metadata": {},
   "outputs": [],
   "source": [
    "from ler.rates import LeR\n",
    "import numpy as np\n",
    "\n",
    "ler = LeR(npool=4, verbose=False,\n",
    "    # for source parameters  \n",
    "    source_priors=dict(\n",
    "        merger_rate_density='merger_rate_density_bbh_popI_II_oguri2018',\n",
    "        source_frame_masses=powerlaw_peak,\n",
    "    ),\n",
    "    source_priors_params=dict(\n",
    "        merger_rate_density=dict(\n",
    "            R0=38.8e-09,\n",
    "            b2=1.6,\n",
    "            b3=2.0,\n",
    "            b4=30\n",
    "        ),\n",
    "        source_frame_masses=None,\n",
    "    ),\n",
    "    # for lens parameters\n",
    "    lens_functions=dict(\n",
    "        strong_lensing_condition=\"rjs_with_cross_section_SIS\",\n",
    "        optical_depth=\"optical_depth_SIS_haris\",\n",
    "    ),\n",
    "    lens_priors=dict(\n",
    "        velocity_dispersion=\"velocity_dispersion_gengamma\",\n",
    "    ),\n",
    "    lens_priors_params=dict(\n",
    "        velocity_dispersion=dict(a=2.32 / 2.67, c=2.67)\n",
    "    ),\n",
    "    # for snr generation\n",
    "    waveform_approximant = 'IMRPhenomXPHM',\n",
    "    snr_type='inner_product',\n",
    "    spin_zero=False,\n",
    "    spin_precession=True,\n",
    ")"
   ]
  },
  {
   "cell_type": "markdown",
   "metadata": {},
   "source": [
    "* since I am using inner product to calculate snr, it will take longer time to simulate the events.\n",
    "\n",
    "* You can increase the speed by allocating more CPU cores to the code. For example, if you have 8 logical cores, set npool>4"
   ]
  },
  {
   "cell_type": "markdown",
   "metadata": {},
   "source": [
    "### Sampling (Unlensed). <a class=\"anchor\" id=\"bullet-two-three\"></a>"
   ]
  },
  {
   "cell_type": "code",
   "execution_count": 25,
   "metadata": {},
   "outputs": [
    {
     "name": "stdout",
     "output_type": "stream",
     "text": [
      "unlensed params will be store in ./ler_data/new_unlensed_params.json\n",
      "chosen batch size = 25000 with total size = 50000\n",
      "There will be 2 batche(s)\n",
      "Batch no. 1\n",
      "sampling gw source params...\n",
      "calculating snrs...\n",
      "solving SNR with inner product\n"
     ]
    },
    {
     "name": "stderr",
     "output_type": "stream",
     "text": [
      "100%|████████████████████████████████████████████████████████| 20250/20250 [00:51<00:00, 396.70it/s]"
     ]
    },
    {
     "name": "stdout",
     "output_type": "stream",
     "text": [
      "Batch no. 2\n",
      "sampling gw source params...\n",
      "calculating snrs...\n",
      "solving SNR with inner product\n"
     ]
    },
    {
     "name": "stderr",
     "output_type": "stream",
     "text": [
      "\n",
      "100%|████████████████████████████████████████████████████████| 20344/20344 [00:51<00:00, 391.53it/s]\n"
     ]
    },
    {
     "name": "stdout",
     "output_type": "stream",
     "text": [
      "saving all unlensed parameters in ./ler_data/new_unlensed_params.json \n"
     ]
    }
   ],
   "source": [
    "ler.batch_size = 25000\n",
    "# increase size for accurate rate calculation\n",
    "# for Apple silicon M2 pro 16GB RAM, npool=4, time taken is 1m 44.8s\n",
    "ler.unlensed_cbc_statistics(size=50000, resume=False, output_jsonfile = 'new_unlensed_params.json');"
   ]
  },
  {
   "cell_type": "markdown",
   "metadata": {},
   "source": [
    "### Sampling (Lensed). <a class=\"anchor\" id=\"bullet-two-four\"></a>"
   ]
  },
  {
   "cell_type": "code",
   "execution_count": 26,
   "metadata": {},
   "outputs": [
    {
     "name": "stdout",
     "output_type": "stream",
     "text": [
      "lensed params will be store in ./ler_data/new_lensed_params.json\n",
      "chosen batch size = 25000 with total size = 50000\n",
      "There will be 2 batche(s)\n",
      "Batch no. 1\n",
      "sampling lensed params...\n",
      "solving lens equations...\n"
     ]
    },
    {
     "name": "stderr",
     "output_type": "stream",
     "text": [
      "100%|███████████████████████████████████████████████████████| 25000/25000 [00:06<00:00, 3965.92it/s]\n"
     ]
    },
    {
     "name": "stdout",
     "output_type": "stream",
     "text": [
      "Invalid sample found. Resampling 1 lensed events...\n",
      "solving lens equations...\n"
     ]
    },
    {
     "name": "stderr",
     "output_type": "stream",
     "text": [
      "100%|█████████████████████████████████████████████████████████████████| 1/1 [00:00<00:00, 11.49it/s]"
     ]
    },
    {
     "name": "stdout",
     "output_type": "stream",
     "text": [
      "calculating snrs...\n",
      "solving SNR with inner product\n"
     ]
    },
    {
     "name": "stderr",
     "output_type": "stream",
     "text": [
      "\n",
      "100%|████████████████████████████████████████████████████████| 18026/18026 [00:46<00:00, 391.77it/s]\n"
     ]
    },
    {
     "name": "stdout",
     "output_type": "stream",
     "text": [
      "solving SNR with inner product\n"
     ]
    },
    {
     "name": "stderr",
     "output_type": "stream",
     "text": [
      "100%|████████████████████████████████████████████████████████| 18026/18026 [00:43<00:00, 410.05it/s]\n"
     ]
    },
    {
     "name": "stdout",
     "output_type": "stream",
     "text": [
      "solving SNR with inner product\n"
     ]
    },
    {
     "name": "stderr",
     "output_type": "stream",
     "text": [
      "100%|██████████████████████████████████████████████████████████| 2600/2600 [00:06<00:00, 410.74it/s]"
     ]
    },
    {
     "name": "stdout",
     "output_type": "stream",
     "text": [
      "solving SNR with inner product\n"
     ]
    },
    {
     "name": "stderr",
     "output_type": "stream",
     "text": [
      "\n",
      "100%|██████████████████████████████████████████████████████████| 2201/2201 [00:05<00:00, 405.64it/s]\n"
     ]
    },
    {
     "name": "stdout",
     "output_type": "stream",
     "text": [
      "Batch no. 2\n",
      "sampling lensed params...\n",
      "solving lens equations...\n"
     ]
    },
    {
     "name": "stderr",
     "output_type": "stream",
     "text": [
      "100%|███████████████████████████████████████████████████████| 25000/25000 [00:05<00:00, 4262.94it/s]\n"
     ]
    },
    {
     "name": "stdout",
     "output_type": "stream",
     "text": [
      "Invalid sample found. Resampling 2 lensed events...\n",
      "solving lens equations...\n"
     ]
    },
    {
     "name": "stderr",
     "output_type": "stream",
     "text": [
      "100%|█████████████████████████████████████████████████████████████████| 2/2 [00:00<00:00, 24.85it/s]"
     ]
    },
    {
     "name": "stdout",
     "output_type": "stream",
     "text": [
      "calculating snrs...\n",
      "solving SNR with inner product\n"
     ]
    },
    {
     "name": "stderr",
     "output_type": "stream",
     "text": [
      "\n",
      "100%|████████████████████████████████████████████████████████| 18070/18070 [00:43<00:00, 412.07it/s]\n"
     ]
    },
    {
     "name": "stdout",
     "output_type": "stream",
     "text": [
      "solving SNR with inner product\n"
     ]
    },
    {
     "name": "stderr",
     "output_type": "stream",
     "text": [
      "100%|████████████████████████████████████████████████████████| 18070/18070 [00:44<00:00, 409.45it/s]\n"
     ]
    },
    {
     "name": "stdout",
     "output_type": "stream",
     "text": [
      "solving SNR with inner product\n"
     ]
    },
    {
     "name": "stderr",
     "output_type": "stream",
     "text": [
      "100%|██████████████████████████████████████████████████████████| 2566/2566 [00:06<00:00, 414.08it/s]"
     ]
    },
    {
     "name": "stdout",
     "output_type": "stream",
     "text": [
      "solving SNR with inner product\n"
     ]
    },
    {
     "name": "stderr",
     "output_type": "stream",
     "text": [
      "\n",
      "100%|██████████████████████████████████████████████████████████| 2184/2184 [00:05<00:00, 413.02it/s]\n"
     ]
    },
    {
     "name": "stdout",
     "output_type": "stream",
     "text": [
      "saving all lensed parameters in ./ler_data/new_lensed_params.json \n"
     ]
    }
   ],
   "source": [
    "# increase the size if you need accurate rate calculation\n",
    "# for Apple silicon M2 pro 16GB RAM, npool=4, time taken is \n",
    "ler.lensed_cbc_statistics(size=50000, resume=False, output_jsonfile = 'new_lensed_params.json');"
   ]
  },
  {
   "cell_type": "markdown",
   "metadata": {},
   "source": [
    "* generate detectable events and compute the rate ratio\n",
    "\n",
    "* note: here no input params are provided, so it will track the json files generated above\n",
    "\n",
    "* For individual rate computation, use\n",
    "    ```ler.unlensed_rate();```\n",
    "    ```ler.lensed_rate();```"
   ]
  },
  {
   "cell_type": "markdown",
   "metadata": {},
   "source": [
    "### Rate calculation and comparison. <a class=\"anchor\" id=\"bullet-two-five\"></a>"
   ]
  },
  {
   "cell_type": "code",
   "execution_count": 28,
   "metadata": {},
   "outputs": [
    {
     "name": "stdout",
     "output_type": "stream",
     "text": [
      "Getting unlensed_param from json file ./ler_data/new_unlensed_params.json...\n",
      "given detectability_condition == 'step_function'\n",
      "total unlensed rate (yr^-1): 1522.6442174796687\n",
      "number of simulated unlensed detectable events: 453\n",
      "number of simulated all unlensed events: 50000\n",
      "storing detectable params in ./ler_data/new_unlensed_params_detectable.json\n",
      "Getting lensed_param from json file ./ler_data/new_lensed_params.json...\n",
      "given detectability_condition == step_function\n",
      "total lensed rate (yr^-1): 1.1059902347300807\n",
      "number of simulated lensed detectable events: 337\n",
      "number of simulated all lensed events: 50000\n",
      "storing detectable params in ./ler_data/new_lensed_params_detectable.json\n",
      "unlensed_rate: 1522.6442174796687\n",
      "lensed_rate: 1.1059902347300807\n",
      "ratio: 1376.7248296286027\n"
     ]
    }
   ],
   "source": [
    "# you might not need to provide the json file names\n",
    "# at the end of each sampling, the json file names will be updated in the ler_params.json file. The default json file names are call from the ler_params.json file.\n",
    "rate_ratio, unlensed_param_detectable, lensed_param_detectable =ler.rate_comparison_with_rate_calculation(\n",
    "    unlensed_param='new_unlensed_params.json',\n",
    "    snr_threshold_unlensed=8.0,\n",
    "    lensed_param='new_lensed_params.json',\n",
    "    output_jsonfile_unlensed='new_unlensed_params_detectable.json',\n",
    "    output_jsonfile_lensed='new_lensed_params_detectable.json',\n",
    "    snr_threshold_lensed=[8.0,8.0],\n",
    "    num_img=[1,1],\n",
    ")"
   ]
  },
  {
   "cell_type": "markdown",
   "metadata": {},
   "source": [
    "**Important Note:**\n",
    "* input parameters, snr_threshold_lensed=[8.0,8.0], num_img=[1,1], means that two of the images should have snr>8.0. You can also set: snr_threshold_lensed=8, num_img=2\n",
    "\n",
    "* Similarly, if snr_threshold_lensed=[8.0,6.0], num_img=[2,2], it means that two of the images should have snr>8.0 and other two images should have snr>6.0. But in this case, even though the simulated lensed (detectable) events are correct, the rate calculation will not be right as the strong lensing condition was set for 2 image case."
   ]
  },
  {
   "cell_type": "markdown",
   "metadata": {},
   "source": [
    "## Uning available model functions <a class=\"anchor\" id=\"bullet-three\"></a>\n",
    "\n",
    "How to look for available model functions?\n",
    "\n",
    "* All available names are stored as a dict in `ler` instance\n",
    "\n",
    "* the keys of this dict shows the parameter type\n",
    "\n",
    "* the values are also dict, where the keys are the model function names and the values are their input parameters"
   ]
  },
  {
   "cell_type": "code",
   "execution_count": 29,
   "metadata": {},
   "outputs": [
    {
     "name": "stdout",
     "output_type": "stream",
     "text": [
      "{'binary_masses_BBH_popI_II_powerlaw_gaussian': {'mminbh': 4.98, 'mmaxbh': 112.5, 'alpha': 3.78, 'mu_g': 32.27, 'sigma_g': 3.88, 'lambda_peak': 0.03, 'delta_m': 4.8, 'beta': 0.81}, 'binary_masses_BBH_popIII_lognormal': {'Mc': 30.0, 'sigma': 0.3, 'beta': 1.1}, 'binary_masses_BBH_primordial_lognormal': {'Mc': 30.0, 'sigma': 0.3, 'beta': 1.1}, 'binary_masses_BNS_gwcosmo': {'mminns': 1.0, 'mmaxns': 3.0, 'alphans': 0.0}, 'binary_masses_BNS_bimodal': {'w': 0.643, 'muL': 1.352, 'sigmaL': 0.08, 'muR': 1.88, 'sigmaR': 0.3, 'mmin': 1.0, 'mmax': 2.3}}\n",
      "{'velocity_dispersion_haris': {'a': 0.8689138576779026, 'c': 2.67}, 'velocity_dispersion_gengamma': {'a': 0.8689138576779026, 'c': 2.67}, 'velocity_dispersion_bernardi': None, 'velocity_dispersion_ewoud': None}\n"
     ]
    }
   ],
   "source": [
    "# for unlensed case\n",
    "print(ler.available_gw_prior_list_and_its_params['source_frame_masses'])\n",
    "# for lensed case\n",
    "print(ler.available_lens_prior_list_and_its_params['velocity_dispersion'])"
   ]
  },
  {
   "cell_type": "markdown",
   "metadata": {},
   "source": [
    "* for looking at the choosen models and its input parameters"
   ]
  },
  {
   "cell_type": "code",
   "execution_count": 30,
   "metadata": {},
   "outputs": [
    {
     "name": "stdout",
     "output_type": "stream",
     "text": [
      "{'merger_rate_density': 'merger_rate_density_bbh_popI_II_oguri2018', 'source_frame_masses': <function powerlaw_peak at 0x32f3ffd90>, 'zs': 'sample_source_redshift', 'geocent_time': 'sampler_uniform', 'ra': 'sampler_uniform', 'dec': 'sampler_cosine', 'phase': 'sampler_uniform', 'psi': 'sampler_uniform', 'theta_jn': 'sampler_sine', 'a_1': 'sampler_uniform', 'a_2': 'sampler_uniform', 'tilt_1': 'sampler_sine', 'tilt_2': 'sampler_sine', 'phi_12': 'sampler_uniform', 'phi_jl': 'sampler_uniform'}\n",
      "{'merger_rate_density': {'R0': 3.88e-08, 'b2': 1.6, 'b3': 2.0, 'b4': 30}, 'source_frame_masses': None, 'zs': None, 'geocent_time': {'min_': 1238166018, 'max_': 1269702018}, 'ra': {'min_': 0.0, 'max_': 6.283185307179586}, 'dec': None, 'phase': {'min_': 0.0, 'max_': 6.283185307179586}, 'psi': {'min_': 0.0, 'max_': 3.141592653589793}, 'theta_jn': None, 'a_1': {'min_': 0.0, 'max_': 0.8}, 'a_2': {'min_': 0.0, 'max_': 0.8}, 'tilt_1': None, 'tilt_2': None, 'phi_12': {'min_': 0, 'max_': 6.283185307179586}, 'phi_jl': {'min_': 0, 'max_': 6.283185307179586}}\n",
      "{'source_redshift_sl': 'strongly_lensed_source_redshifts', 'lens_redshift': 'lens_redshift_SDSS_catalogue', 'velocity_dispersion': 'velocity_dispersion_gengamma', 'axis_ratio': 'axis_ratio_rayleigh', 'axis_rotation_angle': 'axis_rotation_angle_uniform', 'external_shear': 'shear_norm', 'density_profile_slope': 'density_profile_slope_normal', 'source_parameters': 'sample_gw_parameters'}\n",
      "{'source_redshift_sl': None, 'lens_redshift': None, 'velocity_dispersion': {'a': 0.8689138576779026, 'c': 2.67}, 'axis_ratio': {'q_min': 0.2, 'q_max': 1.0}, 'axis_rotation_angle': {'phi_min': 0.0, 'phi_max': 6.283185307179586}, 'external_shear': {'scale': 0.05}, 'density_profile_slope': {'mean': 2.0, 'std': 0.2}, 'source_parameters': None}\n"
     ]
    }
   ],
   "source": [
    "# for unlensed case\n",
    "print(ler.gw_param_samplers)\n",
    "print(ler.gw_param_samplers_params)\n",
    "# for lensed case\n",
    "print(ler.lens_param_samplers)\n",
    "print(ler.lens_param_samplers_params)"
   ]
  },
  {
   "cell_type": "markdown",
   "metadata": {},
   "source": [
    "### Comparison of mass distribution model (BBH, mass-1, larger mass only). <a class=\"anchor\" id=\"bullet-three-one\"></a>\n",
    "\n",
    "* compare the default mass distribution with the custom mass distribution function defined on the previous example [link](###bullet-two-one). "
   ]
  },
  {
   "cell_type": "code",
   "execution_count": 31,
   "metadata": {},
   "outputs": [],
   "source": [
    "# calling the default mass distribution model\n",
    "mass_1_source, mass_2_source = ler.binary_masses_BBH_popI_II_powerlaw_gaussian(size=10000)\n",
    "default_model_dict = dict(mass_1_source=mass_1_source)\n",
    "\n",
    "# calling the custom mass distribution model\n",
    "mass_1_source, mass_2_source = powerlaw_peak(size=10000)\n",
    "custom_model_dict = dict(mass_1_source=mass_1_source)"
   ]
  },
  {
   "cell_type": "code",
   "execution_count": 32,
   "metadata": {},
   "outputs": [
    {
     "data": {
      "image/png": "[encoded data removed]",
      "text/plain": [
       "<Figure size 600x400 with 1 Axes>"
      ]
     },
     "metadata": {},
     "output_type": "display_data"
    }
   ],
   "source": [
    "import matplotlib.pyplot as plt\n",
    "from ler.utils import plots as lerplt\n",
    "\n",
    "# let's do a comparision plot between you custom model and the default model\n",
    "plt.figure(figsize=(6, 4))\n",
    "lerplt.param_plot(\n",
    "    param_name=\"mass_1_source\", \n",
    "    param_dict=custom_model_dict, # or the json file name\n",
    "    plot_label='custom model',\n",
    ");\n",
    "lerplt.param_plot(\n",
    "    param_name=\"mass_1_source\", \n",
    "    param_dict=default_model_dict,\n",
    "    plot_label='default model',\n",
    ");\n",
    "plt.xlabel(r'source $m_1$ ($M_{\\odot}$)')\n",
    "plt.ylabel(r'$p(source mass_1)$')\n",
    "plt.xlim(0,60)\n",
    "plt.grid(alpha=0.4)\n",
    "plt.show()"
   ]
  },
  {
   "cell_type": "markdown",
   "metadata": {},
   "source": [
    "### Comparison of Axis-ratio model of the lensing galaxy. <a class=\"anchor\" id=\"bullet-three-two\"></a>\n",
    "\n",
    "* compare the default axis-ratio distribution (gengamma, from SDSS galaxy catalogue, Haris et al. 2018) with axis-ratio distribution from Padilla and Strauss 2008 "
   ]
  },
  {
   "cell_type": "code",
   "execution_count": 28,
   "metadata": {},
   "outputs": [
    {
     "name": "stdout",
     "output_type": "stream",
     "text": [
      "axis_ratio_spline_coeff interpolator will be generated at ./interpolator_pickle/axis_ratio/axis_ratio_spline_coeff_0.pickle\n",
      "axis_ratio interpolator will be generated at ./interpolator_pickle/axis_ratio/axis_ratio_1.pickle\n"
     ]
    }
   ],
   "source": [
    "size = 10000\n",
    "padilla_strauss = ler.axis_ratio_padilla_strauss(size=size)\n",
    "\n",
    "# axis_ratio_rayleigh depends on the velocity dispersion\n",
    "sigma = ler.velocity_dispersion_gengamma(size=size)\n",
    "rayleigh = ler.axis_ratio_rayleigh(sigma=sigma)\n",
    "\n",
    "# make a dict\n",
    "axis_ratio_dict = dict(\n",
    "    padilla_strauss=padilla_strauss,\n",
    "    rayleigh=rayleigh,\n",
    ")"
   ]
  },
  {
   "cell_type": "code",
   "execution_count": 29,
   "metadata": {},
   "outputs": [
    {
     "data": {
      "image/png": "[encoded data removed]",
      "text/plain": [
       "<Figure size 600x400 with 1 Axes>"
      ]
     },
     "metadata": {},
     "output_type": "display_data"
    }
   ],
   "source": [
    "# plot the distribution of axis-ratio\n",
    "plt.figure(figsize=(6, 4))\n",
    "lerplt.param_plot(\n",
    "    param_name=\"padilla_strauss\",\n",
    "    param_dict=axis_ratio_dict,\n",
    "    plot_label='padilla_strauss',\n",
    ")\n",
    "lerplt.param_plot(\n",
    "    param_name=\"rayleigh\",\n",
    "    param_dict=axis_ratio_dict,\n",
    "    plot_label='rayleigh',\n",
    ")\n",
    "plt.xlabel(r'axis ratio')\n",
    "plt.ylabel(r'$p(axis ratio)$')\n",
    "plt.grid(alpha=0.4)\n",
    "plt.show()"
   ]
  },
  {
   "cell_type": "markdown",
   "metadata": {},
   "source": [
    "## Generating particular number of detectable events. <a class=\"anchor\" id=\"bullet-four\"></a>\n",
    "\n",
    "* this is particularly useful when you want only the detectable events to be saved in the json file\n",
    "\n",
    "* detectable event rates will be calculated at each batches. Subsequent batch will consider the previous batch's detectable events. So, the rates will become more accurate as the batch number increases and will converge to a stable value at higher samples. \n",
    "\n",
    "* you can resume the rate calculation from the last saved batch."
   ]
  },
  {
   "cell_type": "code",
   "execution_count": 33,
   "metadata": {},
   "outputs": [],
   "source": [
    "from ler.rates import LeR\n",
    "\n",
    "# class initialization\n",
    "ler = LeR(npool=8, verbose=False)"
   ]
  },
  {
   "cell_type": "markdown",
   "metadata": {},
   "source": [
    "### Unlensed case. <a class=\"anchor\" id=\"bullet-four-one\"></a>\n",
    "\n",
    "* SNR>8"
   ]
  },
  {
   "cell_type": "code",
   "execution_count": 34,
   "metadata": {},
   "outputs": [
    {
     "name": "stdout",
     "output_type": "stream",
     "text": [
      "removing ./ler_data/unlensed_params_n_detectable.json and ./ler_data/meta_unlensed.json if they exist\n",
      "collected number of detectable events =  0\n",
      "given detectability_condition == 'step_function'\n",
      "collected number of detectable events =  422\n",
      "total number of events =  100000\n",
      "total rate (yr^-1): 436.86662367311965\n",
      "given detectability_condition == 'step_function'\n",
      "collected number of detectable events =  841\n",
      "total number of events =  200000\n",
      "total rate (yr^-1): 435.31378022404454\n",
      "given detectability_condition == 'step_function'\n",
      "collected number of detectable events =  1255\n",
      "total number of events =  300000\n",
      "total rate (yr^-1): 433.0707841309361\n",
      "given detectability_condition == 'step_function'\n",
      "collected number of detectable events =  1705\n",
      "total number of events =  400000\n",
      "total rate (yr^-1): 441.2663467788323\n",
      "given detectability_condition == 'step_function'\n",
      "collected number of detectable events =  2094\n",
      "total number of events =  500000\n",
      "total rate (yr^-1): 433.5538909817594\n",
      "given detectability_condition == 'step_function'\n",
      "collected number of detectable events =  2503\n",
      "total number of events =  600000\n",
      "total rate (yr^-1): 431.8630170038777\n",
      "given detectability_condition == 'step_function'\n",
      "collected number of detectable events =  2916\n",
      "total number of events =  700000\n",
      "total rate (yr^-1): 431.24680928599076\n",
      "given detectability_condition == 'step_function'\n",
      "collected number of detectable events =  3325\n",
      "total number of events =  800000\n",
      "total rate (yr^-1): 430.2670390145505\n",
      "given detectability_condition == 'step_function'\n",
      "collected number of detectable events =  3740\n",
      "total number of events =  900000\n",
      "total rate (yr^-1): 430.1951481141304\n",
      "given detectability_condition == 'step_function'\n",
      "collected number of detectable events =  4138\n",
      "total number of events =  1000000\n",
      "total rate (yr^-1): 428.3777461515092\n",
      "given detectability_condition == 'step_function'\n",
      "collected number of detectable events =  4561\n",
      "total number of events =  1100000\n",
      "total rate (yr^-1): 429.2435740140238\n",
      "given detectability_condition == 'step_function'\n",
      "collected number of detectable events =  4979\n",
      "total number of events =  1200000\n",
      "total rate (yr^-1): 429.53375183026515\n",
      "given detectability_condition == 'step_function'\n",
      "collected number of detectable events =  5385\n",
      "total number of events =  1300000\n",
      "total rate (yr^-1): 428.8236909368846\n",
      "stored detectable unlensed params in ./ler_data/unlensed_params_n_detectable.json\n",
      "stored meta data in ./ler_data/meta_unlensed.json\n",
      "\n",
      " trmming final result to size=5000\n",
      "collected number of detectable events =  5000\n",
      "total number of events =  1207057.0\n",
      "total unlensed event rate (yr^-1): 428.8235626196801\n"
     ]
    }
   ],
   "source": [
    "n_size_unlensed_param = ler.selecting_n_unlensed_detectable_events(\n",
    "    size=5000, \n",
    "    snr_threshold=8.0,\n",
    "    batch_size=100000,\n",
    "    resume=False,\n",
    "    output_jsonfile='unlensed_params_n_detectable.json',\n",
    "    meta_data_file=\"meta_unlensed.json\",\n",
    "    )"
   ]
  },
  {
   "cell_type": "markdown",
   "metadata": {},
   "source": [
    "**Important Note**: At each iteration, rate is calculated using the cummulatively increasing number of events. It will become stable at around 2 million events. This is the number of events that is required to get a stable rate. Below, I am showing visualization of how rate changes with increasing number of events."
   ]
  },
  {
   "cell_type": "code",
   "execution_count": 35,
   "metadata": {},
   "outputs": [
    {
     "data": {
      "image/png": "[encoded data removed]",
      "text/plain": [
       "<Figure size 400x400 with 1 Axes>"
      ]
     },
     "metadata": {},
     "output_type": "display_data"
    }
   ],
   "source": [
    "from ler.utils import get_param_from_json\n",
    "# getting data from json\n",
    "meta_data= get_param_from_json(\"./ler_data/meta_unlensed.json\")\n",
    "\n",
    "# plot the rate vs sampling size\n",
    "plt.figure(figsize=(4,4))\n",
    "plt.plot(meta_data['events_total'], meta_data['total_rate'], 'o-')\n",
    "plt.xlabel('Sampling size')\n",
    "plt.ylabel('Rate (per year)')\n",
    "plt.title('Rate vs Sampling size')\n",
    "plt.grid(alpha=0.4)\n",
    "plt.show()"
   ]
  },
  {
   "cell_type": "markdown",
   "metadata": {},
   "source": [
    "### Lensed case. <a class=\"anchor\" id=\"bullet-four-two\"></a>\n",
    "\n",
    "* 2 images, snr>8 (super-threshold)\n",
    "* 1 image, snr>6 (sub+super-threshold)"
   ]
  },
  {
   "cell_type": "code",
   "execution_count": 36,
   "metadata": {},
   "outputs": [
    {
     "name": "stdout",
     "output_type": "stream",
     "text": [
      "removing ./ler_data/lensed_params_n_detectable.json and ./ler_data/meta_lensed.json if they exist\n",
      "collected number of detectable events =  0\n"
     ]
    },
    {
     "name": "stderr",
     "output_type": "stream",
     "text": [
      "100%|███████████████████████████████████████████████████████| 50000/50000 [00:11<00:00, 4299.84it/s]\n",
      "100%|█████████████████████████████████████████████████████████████████| 1/1 [00:00<00:00, 12.57it/s]\n"
     ]
    },
    {
     "name": "stdout",
     "output_type": "stream",
     "text": [
      "given detectability_condition == step_function\n",
      "collected number of detectable events =  112\n",
      "total number of events =  50000\n",
      "total rate (yr^-1): 0.508493641457471\n"
     ]
    },
    {
     "name": "stderr",
     "output_type": "stream",
     "text": [
      "100%|███████████████████████████████████████████████████████| 50000/50000 [00:11<00:00, 4296.83it/s]\n",
      "100%|█████████████████████████████████████████████████████████████████| 1/1 [00:00<00:00, 11.66it/s]\n"
     ]
    },
    {
     "name": "stdout",
     "output_type": "stream",
     "text": [
      "given detectability_condition == step_function\n",
      "collected number of detectable events =  212\n",
      "total number of events =  100000\n",
      "total rate (yr^-1): 0.48125291066510645\n"
     ]
    },
    {
     "name": "stderr",
     "output_type": "stream",
     "text": [
      "100%|███████████████████████████████████████████████████████| 50000/50000 [00:12<00:00, 4094.12it/s]\n",
      "100%|█████████████████████████████████████████████████████████████████| 3/3 [00:00<00:00, 38.02it/s]\n"
     ]
    },
    {
     "name": "stdout",
     "output_type": "stream",
     "text": [
      "given detectability_condition == step_function\n",
      "collected number of detectable events =  317\n",
      "total number of events =  150000\n",
      "total rate (yr^-1): 0.4797395367321973\n"
     ]
    },
    {
     "name": "stderr",
     "output_type": "stream",
     "text": [
      "100%|███████████████████████████████████████████████████████| 50000/50000 [00:11<00:00, 4289.40it/s]\n"
     ]
    },
    {
     "name": "stdout",
     "output_type": "stream",
     "text": [
      "given detectability_condition == step_function\n",
      "collected number of detectable events =  433\n",
      "total number of events =  200000\n",
      "total rate (yr^-1): 0.4914681847122432\n"
     ]
    },
    {
     "name": "stderr",
     "output_type": "stream",
     "text": [
      "100%|███████████████████████████████████████████████████████| 50000/50000 [00:11<00:00, 4318.64it/s]\n",
      "100%|█████████████████████████████████████████████████████████████████| 1/1 [00:00<00:00, 12.09it/s]\n"
     ]
    },
    {
     "name": "stdout",
     "output_type": "stream",
     "text": [
      "given detectability_condition == step_function\n",
      "collected number of detectable events =  531\n",
      "total number of events =  250000\n",
      "total rate (yr^-1): 0.48216093502485197\n",
      "storing detectable lensed params in ./ler_data/lensed_params_n_detectable.json\n",
      "storing meta data in ./ler_data/meta_lensed.json\n",
      "\n",
      " trmming final result to size=500\n",
      "collected number of detectable events =  500\n",
      "total number of events =  235405.0\n",
      "total lensed event rate (yr^-1): 0.4821607228741339\n"
     ]
    }
   ],
   "source": [
    "n_size_lensed_param = ler.selecting_n_lensed_detectable_events(\n",
    "    size=500,\n",
    "    snr_threshold=[8.0,6.0],\n",
    "    num_img=[2,1],\n",
    "    batch_size=50000,\n",
    "    resume=False,\n",
    "    output_jsonfile='lensed_params_n_detectable.json',\n",
    "    meta_data_file=\"meta_lensed.json\",\n",
    "    )"
   ]
  },
  {
   "cell_type": "code",
   "execution_count": 37,
   "metadata": {},
   "outputs": [
    {
     "name": "stdout",
     "output_type": "stream",
     "text": [
      "dict_keys(['zl', 'zs', 'sigma', 'q', 'theta_E', 'phi', 'e1', 'e2', 'gamma1', 'gamma2', 'gamma', 'geocent_time', 'ra', 'dec', 'phase', 'psi', 'theta_jn', 'luminosity_distance', 'mass_1_source', 'mass_2_source', 'mass_1', 'mass_2', 'x0_image_positions', 'x1_image_positions', 'magnifications', 'time_delays', 'image_type', 'n_images', 'effective_luminosity_distance', 'effective_geocent_time', 'snr_net', 'L1', 'H1', 'V1'])\n",
      "size of each parameters=500\n"
     ]
    }
   ],
   "source": [
    "print(n_size_lensed_param.keys())\n",
    "print(f\"size of each parameters={len(n_size_lensed_param['zl'])}\")"
   ]
  },
  {
   "cell_type": "markdown",
   "metadata": {},
   "source": [
    "## Using custom detection criteria. <a class=\"anchor\" id=\"bullet-five\"></a>\n",
    "\n",
    "* I leverage the ANN (Artificial Neural Network) based SNR calculator from gwsnr. It can predict SNR>8 with 99.9% accuracy for the astrophysical parameters. But to make it 100% accurate, I will recalculate SNR some of the events using inner product method. LeR can do this automatically. \n",
    "\n",
    "* I will test two cases using: \n",
    "  * pdet (probability of detection) with ANN\n",
    "  * SNR with ANN.\n",
    "\n",
    "* **Note:** Check out [GRB rate calculation example](https://ler.readthedocs.io/en/latest/examples/rates/grb%20detection%20rate.html) for more details on how to use custom detection criteria."
   ]
  },
  {
   "cell_type": "code",
   "execution_count": 38,
   "metadata": {},
   "outputs": [],
   "source": [
    "from ler.rates import LeR\n",
    "from gwsnr import GWSNR\n",
    "import numpy as np"
   ]
  },
  {
   "cell_type": "markdown",
   "metadata": {},
   "source": [
    "### Defining custom detection criteria (using `gwsnr` package). <a class=\"anchor\" id=\"bullet-five-one\"></a>\n",
    "\n",
    "* pdet only calculation"
   ]
  },
  {
   "cell_type": "code",
   "execution_count": 39,
   "metadata": {},
   "outputs": [
    {
     "name": "stdout",
     "output_type": "stream",
     "text": [
      "psds not given. Choosing bilby's default psds\n",
      "Intel processor has trouble allocating memory when the data is huge. So, by default for IMRPhenomXPHM, duration_max = 64.0. Otherwise, set to some max value like duration_max = 600.0 (10 mins)\n",
      "Interpolator will be loaded for L1 detector from ./interpolator_pickle/L1/partialSNR_dict_1.pickle\n",
      "Interpolator will be loaded for H1 detector from ./interpolator_pickle/H1/partialSNR_dict_1.pickle\n",
      "Interpolator will be loaded for V1 detector from ./interpolator_pickle/V1/partialSNR_dict_1.pickle\n",
      "\n",
      "Chosen GWSNR initialization parameters:\n",
      "\n",
      "npool:  4\n",
      "snr type:  ann\n",
      "waveform approximant:  IMRPhenomXPHM\n",
      "sampling frequency:  2048.0\n",
      "minimum frequency (fmin):  20.0\n",
      "mtot=mass1+mass2\n",
      "min(mtot):  2.0\n",
      "max(mtot) (with the given fmin=20.0): 184.98599853446768\n",
      "detectors:  ['L1', 'H1', 'V1']\n",
      "psds:  [PowerSpectralDensity(psd_file='None', asd_file='/Users/phurailatpamhemantakumar/anaconda3/envs/ler/lib/python3.10/site-packages/bilby/gw/detector/noise_curves/aLIGO_O4_high_asd.txt'), PowerSpectralDensity(psd_file='None', asd_file='/Users/phurailatpamhemantakumar/anaconda3/envs/ler/lib/python3.10/site-packages/bilby/gw/detector/noise_curves/aLIGO_O4_high_asd.txt'), PowerSpectralDensity(psd_file='None', asd_file='/Users/phurailatpamhemantakumar/anaconda3/envs/ler/lib/python3.10/site-packages/bilby/gw/detector/noise_curves/AdV_asd.txt')]\n"
     ]
    }
   ],
   "source": [
    "snr_ = GWSNR(gwsnr_verbose=True, pdet=True, snr_type='ann', waveform_approximant='IMRPhenomXPHM')"
   ]
  },
  {
   "cell_type": "markdown",
   "metadata": {},
   "source": [
    "### Testing the custom detection criteria. <a class=\"anchor\" id=\"bullet-five-two\"></a>\n",
    "\n",
    "* Pdet calculator test"
   ]
  },
  {
   "cell_type": "code",
   "execution_count": 40,
   "metadata": {},
   "outputs": [
    {
     "name": "stderr",
     "output_type": "stream",
     "text": [
      "100%|█████████████████████████████████████████████████████████████████| 3/3 [00:00<00:00, 16.74it/s]"
     ]
    },
    {
     "name": "stdout",
     "output_type": "stream",
     "text": [
      "pdet: {'L1': array([0, 0, 1, 0]), 'H1': array([0, 0, 0, 0]), 'V1': array([0, 0, 0, 0]), 'pdet_net': array([1, 0, 1, 0])}\n",
      "inner_product_snr: {'L1': array([ 7.4441411 ,  5.85368864, 10.6450267 ,  0.        ]), 'H1': array([4.73471203, 3.72313335, 6.77057773, 0.        ]), 'V1': array([2.23257635, 1.73563894, 3.21070705, 0.        ]), 'snr_net': array([ 9.10039185,  7.15121214, 13.01790904,  0.        ])}\n"
     ]
    },
    {
     "name": "stderr",
     "output_type": "stream",
     "text": [
      "\n"
     ]
    }
   ],
   "source": [
    "# initialization pdet calculator\n",
    "pdet_calculator = snr_.snr\n",
    "mass_1 = np.array([5, 10.,50.,200.])\n",
    "ratio = np.array([1, 0.8,0.5,0.2])\n",
    "luminosity_distance = np.array([1000, 2000, 3000, 4000])\n",
    "# test\n",
    "pdet = pdet_calculator(\n",
    "    gw_param_dict=dict(\n",
    "        mass_1=mass_1,\n",
    "        mass_2=mass_1*ratio,\n",
    "        luminosity_distance=luminosity_distance,\n",
    "    )\n",
    ")\n",
    "inner_product_snr = snr_.compute_bilby_snr(\n",
    "    mass_1=mass_1,\n",
    "    mass_2=mass_1*ratio,\n",
    "    luminosity_distance=luminosity_distance,\n",
    ")\n",
    "\n",
    "print(f\"pdet: {pdet}\")\n",
    "print(f\"inner_product_snr: {inner_product_snr}\")"
   ]
  },
  {
   "cell_type": "markdown",
   "metadata": {},
   "source": [
    "### Using custom detection criteria with LeR. <a class=\"anchor\" id=\"bullet-five-three\"></a>\n",
    "\n",
    "* Below is an example of general case of initialising with any type of pdet calculator.\n",
    "\n",
    "* Refer to the [documentation](https://ler.readthedocs.io/en/latest/examples/rates/grb%20detection%20rate.html) example for extra details, where I have used pdet for GRB (gamma-ray-burst) detection."
   ]
  },
  {
   "cell_type": "code",
   "execution_count": 41,
   "metadata": {},
   "outputs": [],
   "source": [
    "from ler.rates import LeR\n",
    "\n",
    "ler = LeR(verbose=False, pdet_finder=pdet_calculator, spin_zero=False,\n",
    "    spin_precession=True)"
   ]
  },
  {
   "cell_type": "code",
   "execution_count": 42,
   "metadata": {},
   "outputs": [
    {
     "name": "stdout",
     "output_type": "stream",
     "text": [
      "unlensed params will be store in ./ler_data/unlensed_param.json\n",
      "chosen batch size = 50000 with total size = 100000\n",
      "There will be 2 batche(s)\n",
      "Batch no. 1\n",
      "sampling gw source params...\n",
      "calculating pdet...\n",
      "Batch no. 2\n",
      "sampling gw source params...\n",
      "calculating pdet...\n",
      "saving all unlensed parameters in ./ler_data/unlensed_param.json \n"
     ]
    }
   ],
   "source": [
    "unlensed_param = ler.unlensed_cbc_statistics();"
   ]
  },
  {
   "cell_type": "markdown",
   "metadata": {},
   "source": [
    "* now calculate rate using the custom 'pdet' calculator"
   ]
  },
  {
   "cell_type": "code",
   "execution_count": 43,
   "metadata": {},
   "outputs": [
    {
     "name": "stdout",
     "output_type": "stream",
     "text": [
      "Getting unlensed_param from json file ./ler_data/unlensed_param.json...\n",
      "given detectability_condition == 'pdet'\n",
      "total unlensed rate (yr^-1): 502.08604853427255\n",
      "number of simulated unlensed detectable events: 485\n",
      "number of simulated all unlensed events: 100000\n",
      "storing detectable params in ./ler_data/unlensed_param_detectable.json\n"
     ]
    }
   ],
   "source": [
    "_, unlensed_param_detectable = ler.unlensed_rate(detectability_condition='pdet')"
   ]
  },
  {
   "cell_type": "code",
   "execution_count": 44,
   "metadata": {},
   "outputs": [],
   "source": [
    "# # for lensed case\n",
    "# lensed_param = ler.lensed_cbc_statistics()\n",
    "# _, lensed_param_detectable = ler.lensed_rate(detectability_condition='pdet')"
   ]
  },
  {
   "cell_type": "markdown",
   "metadata": {},
   "source": [
    "### Analysis: SNR (with ANN) + SNR recalculation (inner product). <a class=\"anchor\" id=\"bullet-five-four\"></a>"
   ]
  },
  {
   "cell_type": "code",
   "execution_count": 45,
   "metadata": {},
   "outputs": [],
   "source": [
    "from ler.rates import LeR\n",
    "\n",
    "# ler initialization with gwsnr arguments\n",
    "ler = LeR(npool=6, \n",
    "    verbose=False, \n",
    "    snr_type='ann', \n",
    "    waveform_approximant='IMRPhenomXPHM', \n",
    "    spin_zero=False,\n",
    "    spin_precession=True\n",
    ")"
   ]
  },
  {
   "cell_type": "code",
   "execution_count": 46,
   "metadata": {},
   "outputs": [
    {
     "name": "stdout",
     "output_type": "stream",
     "text": [
      "removing ./ler_data/unlensed_params_n_detectable_ann.json and ./ler_data/meta_unlensed_ann.json if they exist\n",
      "collected number of detectable events =  0\n"
     ]
    },
    {
     "name": "stderr",
     "output_type": "stream",
     "text": [
      "100%|██████████████████████████████████████████████████████████| 1598/1598 [00:04<00:00, 351.02it/s]\n"
     ]
    },
    {
     "name": "stdout",
     "output_type": "stream",
     "text": [
      "given detectability_condition == 'step_function'\n",
      "collected number of detectable events =  204\n",
      "total number of events =  50000\n",
      "total rate (yr^-1): 422.373418148419\n"
     ]
    },
    {
     "name": "stderr",
     "output_type": "stream",
     "text": [
      "100%|██████████████████████████████████████████████████████████| 1557/1557 [00:04<00:00, 344.99it/s]\n"
     ]
    },
    {
     "name": "stdout",
     "output_type": "stream",
     "text": [
      "given detectability_condition == 'step_function'\n",
      "collected number of detectable events =  425\n",
      "total number of events =  100000\n",
      "total rate (yr^-1): 439.97231057126976\n"
     ]
    },
    {
     "name": "stderr",
     "output_type": "stream",
     "text": [
      "100%|██████████████████████████████████████████████████████████| 1503/1503 [00:04<00:00, 345.51it/s]"
     ]
    },
    {
     "name": "stdout",
     "output_type": "stream",
     "text": [
      "given detectability_condition == 'step_function'\n",
      "collected number of detectable events =  604\n",
      "total number of events =  150000\n",
      "total rate (yr^-1): 416.85219699615203\n",
      "stored detectable unlensed params in ./ler_data/unlensed_params_n_detectable_ann.json\n",
      "stored meta data in ./ler_data/meta_unlensed_ann.json\n"
     ]
    },
    {
     "name": "stderr",
     "output_type": "stream",
     "text": [
      "\n"
     ]
    }
   ],
   "source": [
    "unlensed_param = ler.selecting_n_unlensed_detectable_events(\n",
    "    size=500, \n",
    "    snr_threshold=8.0,\n",
    "    batch_size=50000,\n",
    "    resume=False,\n",
    "    trim_to_size=False,\n",
    "    output_jsonfile='unlensed_params_n_detectable_ann.json',\n",
    "    meta_data_file=\"meta_unlensed_ann.json\",\n",
    "    snr_recalculation=True,\n",
    "    snr_threshold_recalculation=[4,20], # it will recalculate SNR for events with (SNR_ANN > 4) and (SNR_ANN < 20)\n",
    "    )"
   ]
  },
  {
   "cell_type": "code",
   "execution_count": 47,
   "metadata": {},
   "outputs": [],
   "source": [
    "# # Uncomment the below code if you need to compare with the rate calculation using inner product snr\n",
    "\n",
    "from ler.rates import LeR\n",
    "\n",
    "# # ler initialization with gwsnr arguments\n",
    "# ler = LeR(npool=6, verbose=False, snr_type='inner_product', waveform_approximant='IMRPhenomXPHM', spin_zero=False,\n",
    "#     spin_precession=True)\n",
    "\n",
    "# unlensed_param = ler.selecting_n_unlensed_detectable_events(\n",
    "#     size=1000, \n",
    "#     snr_threshold=8.0,\n",
    "#     batch_size=50000,\n",
    "#     resume=False,\n",
    "#     output_jsonfile='unlensed_params_n_detectable.json',\n",
    "#     meta_data_file=\"meta_unlensed.json\",\n",
    "#     )"
   ]
  },
  {
   "cell_type": "code",
   "execution_count": 48,
   "metadata": {},
   "outputs": [
    {
     "name": "stdout",
     "output_type": "stream",
     "text": [
      "removing ./ler_data/lensed_params_n_detectable_ann.json and ./ler_data/meta_lensed_ann.json if they exist\n",
      "collected number of detectable events =  0\n"
     ]
    },
    {
     "name": "stderr",
     "output_type": "stream",
     "text": [
      "100%|███████████████████████████████████████████████████████| 50000/50000 [00:11<00:00, 4310.16it/s]\n"
     ]
    },
    {
     "name": "stdout",
     "output_type": "stream",
     "text": [
      "calculating snrs...\n"
     ]
    },
    {
     "name": "stderr",
     "output_type": "stream",
     "text": [
      "100%|██████████████████████████████████████████████████████████| 1538/1538 [00:04<00:00, 382.74it/s]\n",
      "100%|██████████████████████████████████████████████████████████| 1538/1538 [00:03<00:00, 389.81it/s]\n",
      "100%|██████████████████████████████████████████████████████████| 1084/1084 [00:02<00:00, 363.55it/s]\n",
      "100%|████████████████████████████████████████████████████████████| 964/964 [00:02<00:00, 377.48it/s]\n"
     ]
    },
    {
     "name": "stdout",
     "output_type": "stream",
     "text": [
      "given detectability_condition == step_function\n",
      "collected number of detectable events =  220\n",
      "total number of events =  50000\n",
      "total rate (yr^-1): 0.9988267957200324\n"
     ]
    },
    {
     "name": "stderr",
     "output_type": "stream",
     "text": [
      "100%|███████████████████████████████████████████████████████| 50000/50000 [00:11<00:00, 4299.16it/s]\n"
     ]
    },
    {
     "name": "stdout",
     "output_type": "stream",
     "text": [
      "calculating snrs...\n"
     ]
    },
    {
     "name": "stderr",
     "output_type": "stream",
     "text": [
      "100%|██████████████████████████████████████████████████████████| 1436/1436 [00:03<00:00, 387.69it/s]\n",
      "100%|██████████████████████████████████████████████████████████| 1436/1436 [00:03<00:00, 389.49it/s]\n",
      "100%|██████████████████████████████████████████████████████████| 1011/1011 [00:02<00:00, 375.16it/s]\n",
      "100%|████████████████████████████████████████████████████████████| 884/884 [00:02<00:00, 375.81it/s]\n"
     ]
    },
    {
     "name": "stdout",
     "output_type": "stream",
     "text": [
      "given detectability_condition == step_function\n",
      "collected number of detectable events =  430\n",
      "total number of events =  100000\n",
      "total rate (yr^-1): 0.9761261867263953\n"
     ]
    },
    {
     "name": "stderr",
     "output_type": "stream",
     "text": [
      "100%|███████████████████████████████████████████████████████| 50000/50000 [00:11<00:00, 4311.48it/s]\n",
      "100%|█████████████████████████████████████████████████████████████████| 1/1 [00:00<00:00, 11.26it/s]\n"
     ]
    },
    {
     "name": "stdout",
     "output_type": "stream",
     "text": [
      "calculating snrs...\n"
     ]
    },
    {
     "name": "stderr",
     "output_type": "stream",
     "text": [
      "100%|██████████████████████████████████████████████████████████| 1525/1525 [00:03<00:00, 381.67it/s]\n",
      "100%|██████████████████████████████████████████████████████████| 1525/1525 [00:03<00:00, 390.52it/s]\n",
      "100%|██████████████████████████████████████████████████████████| 1066/1066 [00:02<00:00, 375.39it/s]\n",
      "100%|████████████████████████████████████████████████████████████| 919/919 [00:02<00:00, 379.79it/s]\n"
     ]
    },
    {
     "name": "stdout",
     "output_type": "stream",
     "text": [
      "given detectability_condition == step_function\n",
      "collected number of detectable events =  662\n",
      "total number of events =  150000\n",
      "total rate (yr^-1): 1.0018535435858507\n",
      "storing detectable lensed params in ./ler_data/lensed_params_n_detectable_ann.json\n",
      "storing meta data in ./ler_data/meta_lensed_ann.json\n",
      "\n",
      " trmming final result to size=500\n",
      "collected number of detectable events =  500\n",
      "total number of events =  113293.0\n",
      "total lensed event rate (yr^-1): 1.001853997759663\n"
     ]
    }
   ],
   "source": [
    "lensed_param = ler.selecting_n_lensed_detectable_events(\n",
    "    size=500,\n",
    "    snr_threshold=[8.0,8.0],\n",
    "    num_img=[1,1],\n",
    "    batch_size=50000,\n",
    "    resume=False,\n",
    "    output_jsonfile='lensed_params_n_detectable_ann.json',\n",
    "    meta_data_file=\"meta_lensed_ann.json\",\n",
    "    snr_recalculation=True,\n",
    "    snr_threshold_recalculation=[[4,4], [20,20]], # it will recalculate SNR for events with (SNR_ANN > 4) and (SNR_ANN < 20)\n",
    ")"
   ]
  },
  {
   "cell_type": "code",
   "execution_count": 49,
   "metadata": {},
   "outputs": [
    {
     "name": "stdout",
     "output_type": "stream",
     "text": [
      "unlensed_rate: 416.85219699615203\n",
      "lensed_rate: 1.001853997759663\n",
      "ratio: 416.0807841544908\n"
     ]
    }
   ],
   "source": [
    "ler.rate_ratio();"
   ]
  },
  {
   "cell_type": "code",
   "execution_count": null,
   "metadata": {},
   "outputs": [],
   "source": []
  }
 ],
 "metadata": {
  "kernelspec": {
   "display_name": "ler",
   "language": "python",
   "name": "ler"
  },
  "language_info": {
   "codemirror_mode": {
    "name": "ipython",
    "version": 3
   },
   "file_extension": ".py",
   "mimetype": "text/x-python",
   "name": "python",
   "nbconvert_exporter": "python",
   "pygments_lexer": "ipython3",
   "version": "3.10.18"
  }
 },
 "nbformat": 4,
 "nbformat_minor": 2
}
