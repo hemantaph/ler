{
 "cells": [
  {
   "cell_type": "markdown",
   "metadata": {},
   "source": [
    "# LeR rate calculation with ANN SNR\n",
    "\n",
    "* When inner product SNR from `gwsnr` package is the most accurate, but it is time consuming.\n",
    "\n",
    "* Instead, we would use the ANN SNR in `gwsnr` and test it's accuracy. "
   ]
  },
  {
   "cell_type": "code",
   "execution_count": 1,
   "metadata": {},
   "outputs": [],
   "source": [
    "# call the LeR class\n",
    "import numpy as np\n",
    "import matplotlib.pyplot as plt\n",
    "from ler.rates import LeR"
   ]
  },
  {
   "cell_type": "code",
   "execution_count": 2,
   "metadata": {},
   "outputs": [],
   "source": [
    "# gwsnr ann model depends on the partial scaling method, and this will be generated if not already present.\n",
    "ler = LeR(npool=4,\n",
    "          verbose=False,\n",
    "          snr_type='ann',\n",
    "          waveform_approximant='IMRPhenomXPHM',\n",
    "          ifos = ['L1', 'H1'],\n",
    "            )"
   ]
  },
  {
   "cell_type": "markdown",
   "metadata": {},
   "source": [
    "## Here are some clarification to make regarding the capability of the ANN SNR in `gwsnr` package:\n",
    "\n",
    "* ANN SNR was trained with more data near SNR threshold of 8, for net optimal SNR\n",
    "\n",
    "* ANN is more accurate in predicting whether the SNR is above or below 8, rather than the exact value of SNR"
   ]
  },
  {
   "cell_type": "code",
   "execution_count": 3,
   "metadata": {},
   "outputs": [
    {
     "name": "stderr",
     "output_type": "stream",
     "text": [
      "100%|█████████████████████████████████████████████████████████████████| 4/4 [00:03<00:00,  1.03it/s]\n"
     ]
    }
   ],
   "source": [
    "mass_1 = np.array([5, 10.,50.,100.])\n",
    "ratio = np.array([1, 0.8,0.5,0.2])\n",
    "luminosity_distance = 1200.\n",
    "ann_snr = ler.snr(mass_1=mass_1, mass_2=mass_1*ratio, luminosity_distance=luminosity_distance)[\"optimal_snr_net\"]\n",
    "bilby_snr = ler.snr_bilby(mass_1=mass_1, mass_2=mass_1*ratio, luminosity_distance=luminosity_distance)[\"optimal_snr_net\"]"
   ]
  },
  {
   "cell_type": "code",
   "execution_count": 4,
   "metadata": {},
   "outputs": [
    {
     "name": "stdout",
     "output_type": "stream",
     "text": [
      "SNR comparison: bilby vs ann\n",
      "[[ 7.35190521  6.56832296]\n",
      " [11.56231852 10.52764327]\n",
      " [31.53939166 31.53002685]\n",
      " [27.15509832 32.32490191]]\n"
     ]
    }
   ],
   "source": [
    "print(\"SNR comparison: bilby vs ann\")\n",
    "print(np.concatenate((bilby_snr.reshape(len(bilby_snr),1), ann_snr.reshape(len(ann_snr),1)),1))"
   ]
  },
  {
   "cell_type": "code",
   "execution_count": 5,
   "metadata": {},
   "outputs": [
    {
     "name": "stdout",
     "output_type": "stream",
     "text": [
      "Pdet comparison: bilby vs ann\n",
      "[[0 0]\n",
      " [1 1]\n",
      " [1 1]\n",
      " [1 1]]\n"
     ]
    }
   ],
   "source": [
    "# calculate pdet instead of absolute optimal snr\n",
    "ann_snr = np.array(ann_snr>8, dtype=int)\n",
    "bilby_snr = np.array(bilby_snr>8, dtype=int)\n",
    "print(\"Pdet comparison: bilby vs ann\")\n",
    "print(np.concatenate((bilby_snr.reshape(len(bilby_snr),1), ann_snr.reshape(len(ann_snr),1)),1))"
   ]
  },
  {
   "cell_type": "markdown",
   "metadata": {},
   "source": [
    "## Let's check the acccuracy of in rate calculation"
   ]
  },
  {
   "cell_type": "markdown",
   "metadata": {},
   "source": [
    "### With ANN"
   ]
  },
  {
   "cell_type": "code",
   "execution_count": 3,
   "metadata": {},
   "outputs": [
    {
     "name": "stdout",
     "output_type": "stream",
     "text": [
      "collected number of detectable events =  0\n",
      "collected number of detectable events =  37\n",
      "total number of events =  10000\n",
      "total unlensed rate (yr^-1): 383.0347173164801\n",
      "collected number of detectable events =  69\n",
      "total number of events =  20000\n",
      "total unlensed rate (yr^-1): 357.1539931734747\n",
      "collected number of detectable events =  104\n",
      "total number of events =  30000\n",
      "total unlensed rate (yr^-1): 358.8793747830084\n",
      "collected number of detectable events =  135\n",
      "total number of events =  40000\n",
      "total unlensed rate (yr^-1): 349.3897759305731\n",
      "collected number of detectable events =  163\n",
      "total number of events =  50000\n",
      "total unlensed rate (yr^-1): 337.48464282479057\n",
      "collected number of detectable events =  190\n",
      "total number of events =  60000\n",
      "total unlensed rate (yr^-1): 327.82250581140187\n",
      "collected number of detectable events =  221\n",
      "total number of events =  70000\n",
      "total unlensed rate (yr^-1): 326.83657346309695\n",
      "collected number of detectable events =  256\n",
      "total number of events =  80000\n",
      "total unlensed rate (yr^-1): 331.2732690304693\n",
      "collected number of detectable events =  286\n",
      "total number of events =  90000\n",
      "total unlensed rate (yr^-1): 328.9727602177577\n",
      "collected number of detectable events =  312\n",
      "total number of events =  100000\n",
      "total unlensed rate (yr^-1): 322.9914373047075\n",
      "collected number of detectable events =  346\n",
      "total number of events =  110000\n",
      "total unlensed rate (yr^-1): 325.62656558108625\n",
      "collected number of detectable events =  377\n",
      "total number of events =  120000\n",
      "total unlensed rate (yr^-1): 325.2344333971014\n",
      "collected number of detectable events =  409\n",
      "total number of events =  130000\n",
      "total unlensed rate (yr^-1): 325.6989592150527\n",
      "collected number of detectable events =  451\n",
      "total number of events =  140000\n",
      "total unlensed rate (yr^-1): 333.49161681415546\n",
      "collected number of detectable events =  479\n",
      "total number of events =  150000\n",
      "total unlensed rate (yr^-1): 330.58311638665583\n",
      "collected number of detectable events =  507\n",
      "total number of events =  160000\n",
      "total unlensed rate (yr^-1): 328.0381785125936\n",
      "storing detectable unlensed params in ./ler_data/n_unlensed_detectable_events_ann.json\n"
     ]
    }
   ],
   "source": [
    "ler.selecting_n_unlensed_detectable_events(\n",
    "    size = 500,\n",
    "    batch_size=10000,\n",
    "    snr_threshold=8,\n",
    "    resume=False,\n",
    "    output_jsonfile='n_unlensed_detectable_events_ann.json',\n",
    "    meta_data_file='meta_unlensed_ann.json',\n",
    "    trim_to_size=False,\n",
    ");"
   ]
  },
  {
   "cell_type": "markdown",
   "metadata": {},
   "source": [
    "### With inner product"
   ]
  },
  {
   "cell_type": "code",
   "execution_count": 4,
   "metadata": {},
   "outputs": [],
   "source": [
    "ler = LeR(npool=4,\n",
    "          verbose=False,\n",
    "          snr_type='inner_product',\n",
    "          waveform_approximant='IMRPhenomXPHM',\n",
    "          ifos = ['L1', 'H1'],\n",
    "            )"
   ]
  },
  {
   "cell_type": "code",
   "execution_count": 5,
   "metadata": {},
   "outputs": [
    {
     "name": "stdout",
     "output_type": "stream",
     "text": [
      "collected number of detectable events =  0\n"
     ]
    },
    {
     "name": "stderr",
     "output_type": "stream",
     "text": [
      "100%|██████████████████████████████████████████████████████████| 9238/9238 [00:16<00:00, 563.05it/s]\n",
      "  0%|                                                                      | 0/9284 [00:00<?, ?it/s]"
     ]
    },
    {
     "name": "stdout",
     "output_type": "stream",
     "text": [
      "collected number of detectable events =  39\n",
      "total number of events =  10000\n",
      "total unlensed rate (yr^-1): 403.73929663088444\n"
     ]
    },
    {
     "name": "stderr",
     "output_type": "stream",
     "text": [
      "100%|██████████████████████████████████████████████████████████| 9284/9284 [00:15<00:00, 580.61it/s]\n",
      "  0%|                                                                      | 0/9236 [00:00<?, ?it/s]"
     ]
    },
    {
     "name": "stdout",
     "output_type": "stream",
     "text": [
      "collected number of detectable events =  76\n",
      "total number of events =  20000\n",
      "total unlensed rate (yr^-1): 393.3870069736823\n"
     ]
    },
    {
     "name": "stderr",
     "output_type": "stream",
     "text": [
      "100%|██████████████████████████████████████████████████████████| 9236/9236 [00:15<00:00, 577.70it/s]\n",
      "  0%|                                                                      | 0/9207 [00:00<?, ?it/s]"
     ]
    },
    {
     "name": "stdout",
     "output_type": "stream",
     "text": [
      "collected number of detectable events =  113\n",
      "total number of events =  30000\n",
      "total unlensed rate (yr^-1): 389.9362437546149\n"
     ]
    },
    {
     "name": "stderr",
     "output_type": "stream",
     "text": [
      "100%|██████████████████████████████████████████████████████████| 9207/9207 [00:15<00:00, 582.79it/s]\n",
      "  0%|                                                                      | 0/9294 [00:00<?, ?it/s]"
     ]
    },
    {
     "name": "stdout",
     "output_type": "stream",
     "text": [
      "collected number of detectable events =  135\n",
      "total number of events =  40000\n",
      "total unlensed rate (yr^-1): 349.3897759305731\n"
     ]
    },
    {
     "name": "stderr",
     "output_type": "stream",
     "text": [
      "100%|██████████████████████████████████████████████████████████| 9294/9294 [00:15<00:00, 593.94it/s]\n",
      "  0%|                                                                      | 0/9226 [00:00<?, ?it/s]"
     ]
    },
    {
     "name": "stdout",
     "output_type": "stream",
     "text": [
      "collected number of detectable events =  162\n",
      "total number of events =  50000\n",
      "total unlensed rate (yr^-1): 335.4141848933502\n"
     ]
    },
    {
     "name": "stderr",
     "output_type": "stream",
     "text": [
      "100%|██████████████████████████████████████████████████████████| 9226/9226 [00:16<00:00, 566.87it/s]\n",
      "  0%|                                                                      | 0/9299 [00:00<?, ?it/s]"
     ]
    },
    {
     "name": "stdout",
     "output_type": "stream",
     "text": [
      "collected number of detectable events =  197\n",
      "total number of events =  60000\n",
      "total unlensed rate (yr^-1): 339.90017707813774\n"
     ]
    },
    {
     "name": "stderr",
     "output_type": "stream",
     "text": [
      "100%|██████████████████████████████████████████████████████████| 9299/9299 [00:15<00:00, 586.58it/s]\n",
      "  0%|                                                                      | 0/9264 [00:00<?, ?it/s]"
     ]
    },
    {
     "name": "stdout",
     "output_type": "stream",
     "text": [
      "collected number of detectable events =  223\n",
      "total number of events =  70000\n",
      "total unlensed rate (yr^-1): 329.79437050801187\n"
     ]
    },
    {
     "name": "stderr",
     "output_type": "stream",
     "text": [
      "100%|██████████████████████████████████████████████████████████| 9264/9264 [00:15<00:00, 585.60it/s]\n",
      "  0%|                                                                      | 0/9270 [00:00<?, ?it/s]"
     ]
    },
    {
     "name": "stdout",
     "output_type": "stream",
     "text": [
      "collected number of detectable events =  247\n",
      "total number of events =  80000\n",
      "total unlensed rate (yr^-1): 319.62694316611686\n"
     ]
    },
    {
     "name": "stderr",
     "output_type": "stream",
     "text": [
      "100%|██████████████████████████████████████████████████████████| 9270/9270 [00:18<00:00, 512.98it/s]\n",
      "  0%|                                                                      | 0/9252 [00:00<?, ?it/s]"
     ]
    },
    {
     "name": "stdout",
     "output_type": "stream",
     "text": [
      "collected number of detectable events =  286\n",
      "total number of events =  90000\n",
      "total unlensed rate (yr^-1): 328.9727602177577\n"
     ]
    },
    {
     "name": "stderr",
     "output_type": "stream",
     "text": [
      "100%|██████████████████████████████████████████████████████████| 9252/9252 [00:18<00:00, 500.13it/s]\n",
      "  0%|                                                                      | 0/9256 [00:00<?, ?it/s]"
     ]
    },
    {
     "name": "stdout",
     "output_type": "stream",
     "text": [
      "collected number of detectable events =  316\n",
      "total number of events =  100000\n",
      "total unlensed rate (yr^-1): 327.1323531675884\n"
     ]
    },
    {
     "name": "stderr",
     "output_type": "stream",
     "text": [
      "100%|██████████████████████████████████████████████████████████| 9256/9256 [00:15<00:00, 591.71it/s]\n",
      "  0%|                                                                      | 0/9280 [00:00<?, ?it/s]"
     ]
    },
    {
     "name": "stdout",
     "output_type": "stream",
     "text": [
      "collected number of detectable events =  348\n",
      "total number of events =  110000\n",
      "total unlensed rate (yr^-1): 327.508800064214\n"
     ]
    },
    {
     "name": "stderr",
     "output_type": "stream",
     "text": [
      "100%|██████████████████████████████████████████████████████████| 9280/9280 [00:16<00:00, 574.97it/s]\n",
      "  0%|                                                                      | 0/9255 [00:00<?, ?it/s]"
     ]
    },
    {
     "name": "stdout",
     "output_type": "stream",
     "text": [
      "collected number of detectable events =  377\n",
      "total number of events =  120000\n",
      "total unlensed rate (yr^-1): 325.2344333971014\n"
     ]
    },
    {
     "name": "stderr",
     "output_type": "stream",
     "text": [
      "100%|██████████████████████████████████████████████████████████| 9255/9255 [00:17<00:00, 538.44it/s]\n",
      "  0%|                                                                      | 0/9248 [00:00<?, ?it/s]"
     ]
    },
    {
     "name": "stdout",
     "output_type": "stream",
     "text": [
      "collected number of detectable events =  400\n",
      "total number of events =  130000\n",
      "total unlensed rate (yr^-1): 318.5319894523743\n"
     ]
    },
    {
     "name": "stderr",
     "output_type": "stream",
     "text": [
      "100%|██████████████████████████████████████████████████████████| 9248/9248 [00:16<00:00, 568.85it/s]\n",
      "  0%|                                                                      | 0/9270 [00:00<?, ?it/s]"
     ]
    },
    {
     "name": "stdout",
     "output_type": "stream",
     "text": [
      "collected number of detectable events =  441\n",
      "total number of events =  140000\n",
      "total unlensed rate (yr^-1): 326.0971242018682\n"
     ]
    },
    {
     "name": "stderr",
     "output_type": "stream",
     "text": [
      "100%|██████████████████████████████████████████████████████████| 9270/9270 [00:15<00:00, 582.71it/s]\n",
      "  0%|                                                                      | 0/9283 [00:00<?, ?it/s]"
     ]
    },
    {
     "name": "stdout",
     "output_type": "stream",
     "text": [
      "collected number of detectable events =  474\n",
      "total number of events =  150000\n",
      "total unlensed rate (yr^-1): 327.1323531675884\n"
     ]
    },
    {
     "name": "stderr",
     "output_type": "stream",
     "text": [
      "100%|██████████████████████████████████████████████████████████| 9283/9283 [00:16<00:00, 557.35it/s]\n"
     ]
    },
    {
     "name": "stdout",
     "output_type": "stream",
     "text": [
      "collected number of detectable events =  510\n",
      "total number of events =  160000\n",
      "total unlensed rate (yr^-1): 329.979232823319\n",
      "storing detectable unlensed params in ./ler_data/n_unlensed_detectable_events_ann.json\n"
     ]
    }
   ],
   "source": [
    "ler.selecting_n_unlensed_detectable_events(\n",
    "    size = 500,\n",
    "    batch_size=10000,\n",
    "    snr_threshold=8,\n",
    "    resume=False,\n",
    "    output_jsonfile='n_unlensed_detectable_events_inner_product.json',\n",
    "    meta_data_file='meta_unlensed_inner_product.json',\n",
    "    trim_to_size=False,\n",
    ");"
   ]
  },
  {
   "cell_type": "markdown",
   "metadata": {},
   "source": [
    "* as you can see, the difference is not significant\n",
    "\n",
    "* if you want more accuracy follow the method below"
   ]
  },
  {
   "cell_type": "markdown",
   "metadata": {},
   "source": [
    "## ANN method with SNR recalculation with inner product method\n",
    "\n",
    "* this is a sweet spot between accuracy and time consumption"
   ]
  },
  {
   "cell_type": "code",
   "execution_count": 2,
   "metadata": {},
   "outputs": [],
   "source": [
    "ler = LeR(npool=4,\n",
    "          verbose=False,\n",
    "          snr_type='ann',\n",
    "          waveform_approximant='IMRPhenomXPHM',\n",
    "          ifos = ['L1', 'H1'],\n",
    "            )"
   ]
  },
  {
   "cell_type": "code",
   "execution_count": 4,
   "metadata": {},
   "outputs": [
    {
     "name": "stdout",
     "output_type": "stream",
     "text": [
      "collected number of detectable events =  0\n"
     ]
    },
    {
     "name": "stderr",
     "output_type": "stream",
     "text": [
      "100%|████████████████████████████████████████████████████████████| 993/993 [00:04<00:00, 208.42it/s]\n"
     ]
    },
    {
     "name": "stdout",
     "output_type": "stream",
     "text": [
      "collected number of detectable events =  335\n",
      "total number of events =  100000\n",
      "total unlensed rate (yr^-1): 346.80170351627254\n"
     ]
    },
    {
     "name": "stderr",
     "output_type": "stream",
     "text": [
      "100%|████████████████████████████████████████████████████████████| 966/966 [00:04<00:00, 230.42it/s]\n"
     ]
    },
    {
     "name": "stdout",
     "output_type": "stream",
     "text": [
      "collected number of detectable events =  629\n",
      "total number of events =  200000\n",
      "total unlensed rate (yr^-1): 325.5795097190081\n"
     ]
    },
    {
     "name": "stderr",
     "output_type": "stream",
     "text": [
      "100%|██████████████████████████████████████████████████████████| 1019/1019 [00:04<00:00, 247.52it/s]\n"
     ]
    },
    {
     "name": "stdout",
     "output_type": "stream",
     "text": [
      "collected number of detectable events =  968\n",
      "total number of events =  300000\n",
      "total unlensed rate (yr^-1): 334.0338796057232\n"
     ]
    },
    {
     "name": "stderr",
     "output_type": "stream",
     "text": [
      "100%|████████████████████████████████████████████████████████████| 963/963 [00:04<00:00, 228.57it/s]"
     ]
    },
    {
     "name": "stdout",
     "output_type": "stream",
     "text": [
      "collected number of detectable events =  1270\n",
      "total number of events =  400000\n",
      "total unlensed rate (yr^-1): 328.68519661616875\n",
      "storing detectable unlensed params in ./ler_data/n_unlensed_detectable_events_snr_recalculation.json\n"
     ]
    },
    {
     "name": "stderr",
     "output_type": "stream",
     "text": [
      "\n"
     ]
    }
   ],
   "source": [
    "ler.selecting_n_unlensed_detectable_events(\n",
    "    size = 1000,\n",
    "    batch_size=100000,\n",
    "    snr_threshold=8,\n",
    "    resume=False,\n",
    "    output_jsonfile='n_unlensed_detectable_events_snr_recalculation.json',\n",
    "    meta_data_file='meta_unlensed_snr_recalculation.json',\n",
    "    trim_to_size=False,\n",
    "    snr_recalculation=True,\n",
    "    snr_threshold_recalculation=5.5, # this allows error margin of 2.5\n",
    ");"
   ]
  },
  {
   "cell_type": "markdown",
   "metadata": {},
   "source": [
    "## Let's check the error distribution"
   ]
  },
  {
   "cell_type": "code",
   "execution_count": 9,
   "metadata": {},
   "outputs": [],
   "source": [
    "ler = LeR(npool=6,\n",
    "          verbose=False,\n",
    "          snr_type='inner_product',\n",
    "          waveform_approximant='IMRPhenomXPHM',\n",
    "          ifos = ['L1', 'H1'],\n",
    "            )"
   ]
  },
  {
   "cell_type": "code",
   "execution_count": 10,
   "metadata": {},
   "outputs": [
    {
     "name": "stdout",
     "output_type": "stream",
     "text": [
      "unlensed params will be store in ./ler_data/unlensed_events_inner_product.json\n",
      "chosen batch size = 50000 with total size = 100000\n",
      "There will be 2 batche(s)\n",
      "Batch no. 1\n",
      "sampling gw source params...\n",
      "calculating snrs...\n",
      "solving SNR with inner product\n"
     ]
    },
    {
     "name": "stderr",
     "output_type": "stream",
     "text": [
      "100%|████████████████████████████████████████████████████████| 46357/46357 [00:55<00:00, 834.72it/s]\n"
     ]
    },
    {
     "name": "stdout",
     "output_type": "stream",
     "text": [
      "Batch no. 2\n",
      "sampling gw source params...\n",
      "calculating snrs...\n",
      "solving SNR with inner product\n"
     ]
    },
    {
     "name": "stderr",
     "output_type": "stream",
     "text": [
      "100%|████████████████████████████████████████████████████████| 46300/46300 [00:56<00:00, 824.94it/s]\n"
     ]
    },
    {
     "name": "stdout",
     "output_type": "stream",
     "text": [
      "saving all unlensed_params in ./ler_data/unlensed_events_inner_product.json...\n"
     ]
    }
   ],
   "source": [
    "ler.batch_size = 50000\n",
    "unlensed_params = ler.unlensed_cbc_statistics(size=100000, resume=False, output_jsonfile='unlensed_events_inner_product.json')"
   ]
  },
  {
   "cell_type": "code",
   "execution_count": 13,
   "metadata": {},
   "outputs": [],
   "source": [
    "snr_bilby = unlensed_params['snr_net']"
   ]
  },
  {
   "cell_type": "code",
   "execution_count": 12,
   "metadata": {},
   "outputs": [
    {
     "name": "stdout",
     "output_type": "stream",
     "text": [
      "You have chosen default ANN model. This model only works for gwsnr default parameters.\n",
      "ANN model will be save and loaded from 'ann_data' directory. To create new model, follow instructions from the 'gwsnr' documentation.\n",
      "Please be patient while the interpolator is generated for partialscaledSNR.\n",
      "Interpolator will be loaded for L1 detector from ./interpolator_pickle/L1/partialSNR_dict_3.pickle\n",
      "Interpolator will be loaded for H1 detector from ./interpolator_pickle/H1/partialSNR_dict_3.pickle\n"
     ]
    }
   ],
   "source": [
    "# ANN SNR\n",
    "from gwsnr import GWSNR\n",
    "\n",
    "gwsnr = GWSNR(npool=4, snr_type='ann', waveform_approximant='IMRPhenomXPHM', ifos = ['L1', 'H1'], gwsnr_verbose=False)\n"
   ]
  },
  {
   "cell_type": "code",
   "execution_count": 18,
   "metadata": {},
   "outputs": [],
   "source": [
    "snr_ann = gwsnr.snr(gw_param_dict=unlensed_params)['snr_net']"
   ]
  },
  {
   "cell_type": "code",
   "execution_count": 22,
   "metadata": {},
   "outputs": [
    {
     "name": "stdout",
     "output_type": "stream",
     "text": [
      "SNR comparison: bilby vs ann\n",
      "[[ 5.05952346  5.14264559]\n",
      " [13.86281513 14.49294977]\n",
      " [ 5.4418947   5.72462964]\n",
      " [ 4.44422282  4.28036745]\n",
      " [ 5.52824481  5.97038763]\n",
      " [ 6.11943654  6.52183339]\n",
      " [ 4.4913023   4.97508735]\n",
      " [ 5.4596828   5.5986648 ]\n",
      " [ 4.42452877  4.3250612 ]\n",
      " [11.61087067 11.74350777]]\n"
     ]
    }
   ],
   "source": [
    "print(\"SNR comparison: bilby vs ann\")\n",
    "idx = snr_bilby>4\n",
    "snr_ann_ = snr_ann[idx]\n",
    "snr_bilby_ = snr_bilby[idx]\n",
    "print(np.concatenate((snr_bilby_.reshape(len(snr_bilby_),1), snr_ann_.reshape(len(snr_ann_),1)),1)[0:10])"
   ]
  },
  {
   "cell_type": "code",
   "execution_count": 26,
   "metadata": {},
   "outputs": [
    {
     "data": {
      "image/png": "[encoded data removed]",
      "text/plain": [
       "<Figure size 400x400 with 1 Axes>"
      ]
     },
     "metadata": {},
     "output_type": "display_data"
    }
   ],
   "source": [
    "# looking correlation between error and snr\n",
    "import matplotlib.pyplot as plt\n",
    "y_pred_ = snr_ann\n",
    "y_test = snr_bilby\n",
    "idx = (y_pred_>4) & (y_pred_<12)\n",
    "plt.figure(figsize=(4,4))\n",
    "plt.scatter(y_pred_[idx], y_test[idx]-y_pred_[idx], alpha=0.1)\n",
    "plt.xlabel(\"Predicted SNR\")\n",
    "#plt.xscale(\"log\")\n",
    "plt.ylabel(\"Error\")\n",
    "plt.grid(alpha=0.4)\n",
    "plt.ylim(-3,3)\n",
    "#plt.savefig(\"error_vs_snr.png\")\n",
    "plt.show()"
   ]
  },
  {
   "cell_type": "markdown",
   "metadata": {},
   "source": [
    "* This is reason why I consider the error margin of 2.5 for the snr recalculation."
   ]
  },
  {
   "cell_type": "markdown",
   "metadata": {},
   "source": [
    "## Comparision of rates"
   ]
  },
  {
   "cell_type": "markdown",
   "metadata": {},
   "source": [
    "### Inner product snr"
   ]
  },
  {
   "cell_type": "code",
   "execution_count": 29,
   "metadata": {},
   "outputs": [
    {
     "name": "stdout",
     "output_type": "stream",
     "text": [
      "getting unlensed_params from json file ./ler_data/unlensed_events_inner_product.json...\n",
      "given detectability_condition == 'step_function'\n",
      "total unlensed rate (yr^-1) (with step function): 337.48464282479057\n",
      "number of simulated unlensed detectable events: 326\n",
      "number of all simulated unlensed events: 100000\n",
      "storing detectable unlensed params in ./ler_data/unlensed_param_detectable.json\n"
     ]
    }
   ],
   "source": [
    "# ./ler_data/unlensed_events_inner_product.json\n",
    "ler.unlensed_rate(\n",
    "    unlensed_param='unlensed_events_inner_product.json',\n",
    "    snr_threshold=8,\n",
    ");"
   ]
  },
  {
   "cell_type": "markdown",
   "metadata": {},
   "source": [
    "### ANN snr"
   ]
  },
  {
   "cell_type": "code",
   "execution_count": 36,
   "metadata": {},
   "outputs": [],
   "source": [
    "from ler.utils import get_param_from_json\n",
    "\n",
    "unlensed_params_ann = get_param_from_json('./ler_data/unlensed_events_inner_product.json')"
   ]
  },
  {
   "cell_type": "code",
   "execution_count": 37,
   "metadata": {},
   "outputs": [],
   "source": [
    "# replace the optimal snr with the ann snr\n",
    "unlensed_params_ann['snr_net'] = gwsnr.snr(gw_param_dict=unlensed_params_ann)['snr_net']"
   ]
  },
  {
   "cell_type": "code",
   "execution_count": 39,
   "metadata": {},
   "outputs": [
    {
     "name": "stdout",
     "output_type": "stream",
     "text": [
      "using provided unlensed_param dict...\n",
      "given detectability_condition == 'step_function'\n",
      "total unlensed rate (yr^-1) (with step function): 342.66078765339165\n",
      "number of simulated unlensed detectable events: 331\n",
      "number of all simulated unlensed events: 100000\n",
      "storing detectable unlensed params in ./ler_data/unlensed_param_detectable.json\n"
     ]
    }
   ],
   "source": [
    "ler.unlensed_rate(\n",
    "    unlensed_param=unlensed_params_ann,\n",
    "    snr_threshold=8,\n",
    ");"
   ]
  },
  {
   "cell_type": "markdown",
   "metadata": {},
   "source": [
    "* there is a samll difference between the two methods, but the difference is samll. If increase the number of simulations, the difference will be smaller."
   ]
  },
  {
   "cell_type": "markdown",
   "metadata": {},
   "source": [
    "### With SNR recalculation"
   ]
  },
  {
   "cell_type": "code",
   "execution_count": 41,
   "metadata": {},
   "outputs": [
    {
     "name": "stdout",
     "output_type": "stream",
     "text": [
      "using provided unlensed_param dict...\n"
     ]
    },
    {
     "name": "stderr",
     "output_type": "stream",
     "text": [
      "100%|████████████████████████████████████████████████████████████| 929/929 [00:04<00:00, 191.19it/s]"
     ]
    },
    {
     "name": "stdout",
     "output_type": "stream",
     "text": [
      "given detectability_condition == 'step_function'\n",
      "total unlensed rate (yr^-1) (with step function): 337.48464282479057\n",
      "number of simulated unlensed detectable events: 326\n",
      "number of all simulated unlensed events: 100000\n",
      "storing detectable unlensed params in ./ler_data/unlensed_param_detectable.json\n"
     ]
    },
    {
     "name": "stderr",
     "output_type": "stream",
     "text": [
      "\n"
     ]
    }
   ],
   "source": [
    "ler.unlensed_rate(\n",
    "    unlensed_param=unlensed_params_ann,\n",
    "    snr_threshold=8,\n",
    "    snr_recalculation=True,\n",
    "    snr_threshold_recalculation=5.5,\n",
    ");"
   ]
  },
  {
   "cell_type": "markdown",
   "metadata": {},
   "source": [
    "* As you can see, there is no difference as compared to the inner product method."
   ]
  },
  {
   "cell_type": "markdown",
   "metadata": {},
   "source": [
    "## Time consumption test in lensed rate calculation"
   ]
  },
  {
   "cell_type": "code",
   "execution_count": 1,
   "metadata": {},
   "outputs": [],
   "source": [
    "from ler.rates import LeR\n",
    "import numpy as np\n",
    "import matplotlib.pyplot as plt\n",
    "import time"
   ]
  },
  {
   "cell_type": "code",
   "execution_count": 2,
   "metadata": {},
   "outputs": [],
   "source": [
    "ler = LeR(npool=6,\n",
    "            verbose=False,\n",
    "            snr_type='inner_product',\n",
    "            waveform_approximant='IMRPhenomXPHM',\n",
    "            ifos = ['L1', 'H1', 'V1'],\n",
    "                )"
   ]
  },
  {
   "cell_type": "markdown",
   "metadata": {},
   "source": [
    "### Inner product snr"
   ]
  },
  {
   "cell_type": "code",
   "execution_count": 7,
   "metadata": {},
   "outputs": [
    {
     "name": "stdout",
     "output_type": "stream",
     "text": [
      "collected number of detectable events =  0\n"
     ]
    },
    {
     "name": "stderr",
     "output_type": "stream",
     "text": [
      "100%|███████████████████████████████████████████████████████| 25000/25000 [00:09<00:00, 2601.10it/s]\n",
      "100%|████████████████████████████████████████████████████████| 22049/22049 [00:25<00:00, 878.83it/s]\n",
      "100%|████████████████████████████████████████████████████████| 21940/21940 [00:24<00:00, 881.23it/s]\n",
      "100%|██████████████████████████████████████████████████████████| 2617/2617 [00:06<00:00, 428.90it/s]\n",
      "100%|██████████████████████████████████████████████████████████| 2307/2307 [00:05<00:00, 460.80it/s]\n"
     ]
    },
    {
     "name": "stdout",
     "output_type": "stream",
     "text": [
      "collected number of events =  108\n",
      "total number of events =  25000\n",
      "total lensed rate (yr^-1): 1.0734600721427827\n"
     ]
    },
    {
     "name": "stderr",
     "output_type": "stream",
     "text": [
      "100%|███████████████████████████████████████████████████████| 25000/25000 [00:08<00:00, 2826.33it/s]\n",
      "100%|████████████████████████████████████████████████████████| 21986/21986 [00:24<00:00, 889.13it/s]\n",
      "100%|████████████████████████████████████████████████████████| 21886/21886 [00:24<00:00, 889.97it/s]\n",
      "100%|██████████████████████████████████████████████████████████| 2737/2737 [00:06<00:00, 447.77it/s]\n",
      "100%|██████████████████████████████████████████████████████████| 2389/2389 [00:05<00:00, 466.32it/s]\n"
     ]
    },
    {
     "name": "stdout",
     "output_type": "stream",
     "text": [
      "collected number of events =  222\n",
      "total number of events =  50000\n",
      "total lensed rate (yr^-1): 1.1032784074800823\n"
     ]
    },
    {
     "name": "stderr",
     "output_type": "stream",
     "text": [
      "100%|███████████████████████████████████████████████████████| 25000/25000 [00:09<00:00, 2688.37it/s]\n",
      "100%|████████████████████████████████████████████████████████| 22030/22030 [00:24<00:00, 883.38it/s]\n",
      "100%|████████████████████████████████████████████████████████| 21923/21923 [00:25<00:00, 854.82it/s]\n",
      "100%|██████████████████████████████████████████████████████████| 2658/2658 [00:06<00:00, 426.91it/s]\n",
      "100%|██████████████████████████████████████████████████████████| 2371/2371 [00:05<00:00, 472.36it/s]\n"
     ]
    },
    {
     "name": "stdout",
     "output_type": "stream",
     "text": [
      "collected number of events =  340\n",
      "total number of events =  75000\n",
      "total lensed rate (yr^-1): 1.1264704460757595\n"
     ]
    },
    {
     "name": "stderr",
     "output_type": "stream",
     "text": [
      "100%|███████████████████████████████████████████████████████| 25000/25000 [00:08<00:00, 2837.01it/s]\n",
      "100%|████████████████████████████████████████████████████████| 22061/22061 [00:24<00:00, 885.87it/s]\n",
      "100%|████████████████████████████████████████████████████████| 21963/21963 [00:24<00:00, 893.53it/s]\n",
      "100%|██████████████████████████████████████████████████████████| 2739/2739 [00:06<00:00, 444.80it/s]\n",
      "100%|██████████████████████████████████████████████████████████| 2406/2406 [00:05<00:00, 474.48it/s]\n"
     ]
    },
    {
     "name": "stdout",
     "output_type": "stream",
     "text": [
      "collected number of events =  468\n",
      "total number of events =  100000\n",
      "total lensed rate (yr^-1): 1.1629150781546813\n"
     ]
    },
    {
     "name": "stderr",
     "output_type": "stream",
     "text": [
      "100%|███████████████████████████████████████████████████████| 25000/25000 [00:09<00:00, 2715.59it/s]\n",
      "100%|████████████████████████████████████████████████████████| 22026/22026 [00:24<00:00, 884.16it/s]\n",
      "100%|████████████████████████████████████████████████████████| 21931/21931 [00:24<00:00, 893.25it/s]\n",
      "100%|██████████████████████████████████████████████████████████| 2674/2674 [00:06<00:00, 437.31it/s]\n",
      "100%|██████████████████████████████████████████████████████████| 2381/2381 [00:05<00:00, 475.83it/s]\n"
     ]
    },
    {
     "name": "stdout",
     "output_type": "stream",
     "text": [
      "collected number of events =  575\n",
      "total number of events =  125000\n",
      "total lensed rate (yr^-1): 1.143036187929815\n",
      "storing detectable lensed params in ./ler_data/n_lensed_detectable_events_inner_product.json\n",
      "\n",
      "Elapsed time:  366.90850710868835\n"
     ]
    }
   ],
   "source": [
    "# calculate the rate with time\n",
    "start = time.time()\n",
    "ler.selecting_n_lensed_detectable_events(\n",
    "    size = 500,\n",
    "    batch_size=25000,\n",
    "    snr_threshold=[8.0,8.0],\n",
    "    num_img=[1,1],\n",
    "    resume=False,\n",
    "    output_jsonfile='n_lensed_detectable_events_inner_product.json',\n",
    "    meta_data_file='meta_lensed_inner_product.json',\n",
    "    trim_to_size=False,\n",
    "    #snr_recalculation=True,\n",
    "    #snr_threshold_recalculation=[6.0,6.0],\n",
    ");\n",
    "end = time.time()\n",
    "print(f\"\\nElapsed time: {end-start} s\")"
   ]
  },
  {
   "cell_type": "markdown",
   "metadata": {},
   "source": [
    "### ANN SNR"
   ]
  },
  {
   "cell_type": "code",
   "execution_count": 2,
   "metadata": {},
   "outputs": [
    {
     "name": "stdout",
     "output_type": "stream",
     "text": [
      "collected number of detectable events =  0\n"
     ]
    },
    {
     "name": "stderr",
     "output_type": "stream",
     "text": [
      "100%|███████████████████████████████████████████████████████| 25000/25000 [00:11<00:00, 2130.07it/s]\n",
      "100%|█████████████████████████████████████████████████████████████████| 2/2 [00:03<00:00,  1.66s/it]\n"
     ]
    },
    {
     "name": "stdout",
     "output_type": "stream",
     "text": [
      "collected number of events =  132\n",
      "total number of events =  25000\n",
      "total lensed rate (yr^-1): 1.3120067548411791\n"
     ]
    },
    {
     "name": "stderr",
     "output_type": "stream",
     "text": [
      "100%|███████████████████████████████████████████████████████| 25000/25000 [00:09<00:00, 2565.61it/s]\n"
     ]
    },
    {
     "name": "stdout",
     "output_type": "stream",
     "text": [
      "collected number of events =  268\n",
      "total number of events =  50000\n",
      "total lensed rate (yr^-1): 1.3318856450660455\n"
     ]
    },
    {
     "name": "stderr",
     "output_type": "stream",
     "text": [
      "100%|███████████████████████████████████████████████████████| 25000/25000 [00:09<00:00, 2776.54it/s]\n"
     ]
    },
    {
     "name": "stdout",
     "output_type": "stream",
     "text": [
      "collected number of events =  394\n",
      "total number of events =  75000\n",
      "total lensed rate (yr^-1): 1.305380458099557\n"
     ]
    },
    {
     "name": "stderr",
     "output_type": "stream",
     "text": [
      "100%|███████████████████████████████████████████████████████| 25000/25000 [00:08<00:00, 3015.70it/s]\n"
     ]
    },
    {
     "name": "stdout",
     "output_type": "stream",
     "text": [
      "collected number of events =  523\n",
      "total number of events =  100000\n",
      "total lensed rate (yr^-1): 1.2995824484506375\n",
      "storing detectable lensed params in ./ler_data/n_lensed_detectable_events_ann.json\n",
      "\n",
      "Elapsed time: 69.95586466789246 s\n"
     ]
    }
   ],
   "source": [
    "ler = LeR(npool=6,\n",
    "            verbose=False,\n",
    "            snr_type='ann',\n",
    "            waveform_approximant='IMRPhenomXPHM',\n",
    "            ifos = ['L1', 'H1', 'V1'],\n",
    "                )\n",
    "\n",
    "# calculate the rate with time\n",
    "start = time.time()\n",
    "ler.selecting_n_lensed_detectable_events(\n",
    "    size = 500,\n",
    "    batch_size=25000,\n",
    "    snr_threshold=[8.0,8.0],\n",
    "    num_img=[1,1],\n",
    "    resume=False,\n",
    "    output_jsonfile='n_lensed_detectable_events_ann.json',\n",
    "    meta_data_file='meta_unlensed_ann.json',\n",
    "    trim_to_size=False,\n",
    "    #snr_recalculation=True,\n",
    "    #snr_threshold_recalculation=[5.5,5.5],\n",
    ");\n",
    "end = time.time()\n",
    "print(f\"\\nElapsed time: {end-start} s\")"
   ]
  },
  {
   "cell_type": "markdown",
   "metadata": {},
   "source": [
    "### ANN with SNR recalculation"
   ]
  },
  {
   "cell_type": "code",
   "execution_count": 3,
   "metadata": {},
   "outputs": [],
   "source": [
    "ler = LeR(npool=6,\n",
    "            verbose=False,\n",
    "            snr_type='ann',\n",
    "            waveform_approximant='IMRPhenomXPHM',\n",
    "            ifos = ['L1', 'H1', 'V1'],\n",
    "                )"
   ]
  },
  {
   "cell_type": "code",
   "execution_count": 4,
   "metadata": {},
   "outputs": [
    {
     "name": "stdout",
     "output_type": "stream",
     "text": [
      "collected number of detectable events =  0\n"
     ]
    },
    {
     "name": "stderr",
     "output_type": "stream",
     "text": [
      "100%|███████████████████████████████████████████████████████| 25000/25000 [00:09<00:00, 2747.10it/s]\n",
      "100%|█████████████████████████████████████████████████████████████████| 1/1 [00:02<00:00,  2.71s/it]\n"
     ]
    },
    {
     "name": "stdout",
     "output_type": "stream",
     "text": [
      "calculating snrs...\n"
     ]
    },
    {
     "name": "stderr",
     "output_type": "stream",
     "text": [
      "100%|█████████████████████████████████████████████████████████████| 353/353 [00:03<00:00, 94.72it/s]\n",
      "100%|████████████████████████████████████████████████████████████| 353/353 [00:03<00:00, 100.42it/s]\n",
      "100%|█████████████████████████████████████████████████████████████| 266/266 [00:03<00:00, 86.28it/s]\n",
      "100%|█████████████████████████████████████████████████████████████| 233/233 [00:02<00:00, 79.14it/s]\n"
     ]
    },
    {
     "name": "stdout",
     "output_type": "stream",
     "text": [
      "collected number of events =  108\n",
      "total number of events =  353\n",
      "total lensed rate (yr^-1): 76.02408442937555\n"
     ]
    },
    {
     "name": "stderr",
     "output_type": "stream",
     "text": [
      "100%|███████████████████████████████████████████████████████| 25000/25000 [00:08<00:00, 2889.26it/s]\n"
     ]
    },
    {
     "name": "stdout",
     "output_type": "stream",
     "text": [
      "calculating snrs...\n"
     ]
    },
    {
     "name": "stderr",
     "output_type": "stream",
     "text": [
      "100%|█████████████████████████████████████████████████████████████| 363/363 [00:03<00:00, 96.27it/s]\n",
      "100%|████████████████████████████████████████████████████████████| 363/363 [00:03<00:00, 110.16it/s]\n",
      "100%|█████████████████████████████████████████████████████████████| 267/267 [00:02<00:00, 90.19it/s]\n",
      "100%|█████████████████████████████████████████████████████████████| 231/231 [00:02<00:00, 80.57it/s]\n"
     ]
    },
    {
     "name": "stdout",
     "output_type": "stream",
     "text": [
      "collected number of events =  221\n",
      "total number of events =  716\n",
      "total lensed rate (yr^-1): 76.69753386339843\n"
     ]
    },
    {
     "name": "stderr",
     "output_type": "stream",
     "text": [
      "100%|███████████████████████████████████████████████████████| 25000/25000 [00:08<00:00, 2844.83it/s]\n"
     ]
    },
    {
     "name": "stdout",
     "output_type": "stream",
     "text": [
      "calculating snrs...\n"
     ]
    },
    {
     "name": "stderr",
     "output_type": "stream",
     "text": [
      "100%|█████████████████████████████████████████████████████████████| 321/321 [00:03<00:00, 87.10it/s]\n",
      "100%|█████████████████████████████████████████████████████████████| 321/321 [00:03<00:00, 96.88it/s]\n",
      "100%|█████████████████████████████████████████████████████████████| 242/242 [00:03<00:00, 74.27it/s]\n",
      "100%|█████████████████████████████████████████████████████████████| 211/211 [00:02<00:00, 72.39it/s]\n"
     ]
    },
    {
     "name": "stdout",
     "output_type": "stream",
     "text": [
      "collected number of events =  333\n",
      "total number of events =  1037\n",
      "total lensed rate (yr^-1): 79.79352030955272\n"
     ]
    },
    {
     "name": "stderr",
     "output_type": "stream",
     "text": [
      "100%|███████████████████████████████████████████████████████| 25000/25000 [00:09<00:00, 2773.58it/s]\n",
      "100%|█████████████████████████████████████████████████████████████████| 1/1 [00:02<00:00,  2.73s/it]\n"
     ]
    },
    {
     "name": "stdout",
     "output_type": "stream",
     "text": [
      "calculating snrs...\n"
     ]
    },
    {
     "name": "stderr",
     "output_type": "stream",
     "text": [
      "100%|█████████████████████████████████████████████████████████████| 366/366 [00:03<00:00, 98.47it/s]\n",
      "100%|████████████████████████████████████████████████████████████| 366/366 [00:03<00:00, 108.44it/s]\n",
      "100%|█████████████████████████████████████████████████████████████| 271/271 [00:03<00:00, 79.94it/s]\n",
      "100%|█████████████████████████████████████████████████████████████| 234/234 [00:02<00:00, 78.22it/s]\n"
     ]
    },
    {
     "name": "stdout",
     "output_type": "stream",
     "text": [
      "collected number of events =  448\n",
      "total number of events =  1403\n",
      "total lensed rate (yr^-1): 79.34553475356489\n"
     ]
    },
    {
     "name": "stderr",
     "output_type": "stream",
     "text": [
      "100%|███████████████████████████████████████████████████████| 25000/25000 [00:08<00:00, 2894.87it/s]\n",
      "100%|█████████████████████████████████████████████████████████████████| 1/1 [00:02<00:00,  2.64s/it]\n"
     ]
    },
    {
     "name": "stdout",
     "output_type": "stream",
     "text": [
      "calculating snrs...\n"
     ]
    },
    {
     "name": "stderr",
     "output_type": "stream",
     "text": [
      "100%|█████████████████████████████████████████████████████████████| 358/358 [00:03<00:00, 97.51it/s]\n",
      "100%|████████████████████████████████████████████████████████████| 358/358 [00:03<00:00, 108.12it/s]\n",
      "100%|█████████████████████████████████████████████████████████████| 273/273 [00:03<00:00, 78.81it/s]\n",
      "100%|█████████████████████████████████████████████████████████████| 237/237 [00:03<00:00, 68.05it/s]\n"
     ]
    },
    {
     "name": "stdout",
     "output_type": "stream",
     "text": [
      "collected number of events =  547\n",
      "total number of events =  1761\n",
      "total lensed rate (yr^-1): 77.18450420926953\n",
      "storing detectable lensed params in ./ler_data/n_lensed_detectable_events_ann.json\n",
      "\n",
      "Elapsed time: 153.31893301010132 s\n"
     ]
    }
   ],
   "source": [
    "# calculate the rate with time\n",
    "start = time.time()\n",
    "ler.selecting_n_lensed_detectable_events(\n",
    "    size = 500,\n",
    "    batch_size=25000,\n",
    "    snr_threshold=[8.0,8.0],\n",
    "    num_img=[1,1],\n",
    "    resume=False,\n",
    "    output_jsonfile='n_lensed_detectable_events_snr_recalculation.json',\n",
    "    meta_data_file='meta_unlensed_snr_recalculation.json',\n",
    "    trim_to_size=False,\n",
    "    snr_recalculation=True,\n",
    "    snr_threshold_recalculation=[5.5,5.5],\n",
    ");\n",
    "end = time.time()\n",
    "print(f\"\\nElapsed time: {end-start} s\")"
   ]
  },
  {
   "cell_type": "code",
   "execution_count": null,
   "metadata": {},
   "outputs": [],
   "source": []
  }
 ],
 "metadata": {
  "kernelspec": {
   "display_name": "ler",
   "language": "python",
   "name": "ler"
  },
  "language_info": {
   "codemirror_mode": {
    "name": "ipython",
    "version": 3
   },
   "file_extension": ".py",
   "mimetype": "text/x-python",
   "name": "python",
   "nbconvert_exporter": "python",
   "pygments_lexer": "ipython3",
   "version": "3.10.18"
  }
 },
 "nbformat": 4,
 "nbformat_minor": 2
}
