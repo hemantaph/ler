{
 "cells": [
  {
   "cell_type": "code",
   "execution_count": 1,
   "id": "2ae836b8",
   "metadata": {},
   "outputs": [
    {
     "name": "stdout",
     "output_type": "stream",
     "text": [
      "\n",
      "Initializing LeR class...\n",
      "\n"
     ]
    }
   ],
   "source": [
    "from ler.rates import LeR\n",
    "import numpy as np  \n",
    "import matplotlib.pyplot as plt\n",
    "\n",
    "ler = LeR(verbose=False)"
   ]
  },
  {
   "cell_type": "code",
   "execution_count": 2,
   "id": "10a675ba",
   "metadata": {},
   "outputs": [
    {
     "name": "stdout",
     "output_type": "stream",
     "text": [
      "unlensed params will be stored in ./ler_data/unlensed_param.json\n",
      "resuming from ./ler_data/unlensed_param.json\n",
      "unlensed parameters already sampled.\n"
     ]
    }
   ],
   "source": [
    "unlensed_params = ler.unlensed_cbc_statistics(resume=True)"
   ]
  },
  {
   "cell_type": "code",
   "execution_count": 3,
   "id": "c009c3ab",
   "metadata": {},
   "outputs": [
    {
     "name": "stdout",
     "output_type": "stream",
     "text": [
      "lensed params will be store in ./ler_data/lensed_param.json\n",
      "resuming from ./ler_data/lensed_param.json\n",
      "Batch no. 1\n",
      "sampling lensed params...\n",
      "sampling lens parameters with sample_all_routine_sie_sl...\n"
     ]
    },
    {
     "name": "stderr",
     "output_type": "stream",
     "text": [
      "100%|████████████████████████████████████████████████████████| 50000/50000 [01:26<00:00, 577.68it/s]\n"
     ]
    },
    {
     "name": "stdout",
     "output_type": "stream",
     "text": [
      "solving lens equations...\n"
     ]
    },
    {
     "name": "stderr",
     "output_type": "stream",
     "text": [
      "100%|███████████████████████████████████████████████████████| 50000/50000 [00:11<00:00, 4346.24it/s]\n"
     ]
    },
    {
     "name": "stdout",
     "output_type": "stream",
     "text": [
      "calculating snrs...\n"
     ]
    },
    {
     "name": "stderr",
     "output_type": "stream",
     "text": [
      "OMP: Info #276: omp_set_nested routine deprecated, please use omp_set_max_active_levels instead.\n"
     ]
    },
    {
     "name": "stdout",
     "output_type": "stream",
     "text": [
      "Batch no. 2\n",
      "sampling lensed params...\n",
      "sampling lens parameters with sample_all_routine_sie_sl...\n"
     ]
    },
    {
     "name": "stderr",
     "output_type": "stream",
     "text": [
      "100%|████████████████████████████████████████████████████████| 50000/50000 [01:27<00:00, 568.74it/s]\n"
     ]
    },
    {
     "name": "stdout",
     "output_type": "stream",
     "text": [
      "solving lens equations...\n"
     ]
    },
    {
     "name": "stderr",
     "output_type": "stream",
     "text": [
      "100%|███████████████████████████████████████████████████████| 50000/50000 [00:11<00:00, 4312.96it/s]\n"
     ]
    },
    {
     "name": "stdout",
     "output_type": "stream",
     "text": [
      "calculating snrs...\n",
      "saving all lensed parameters in ./ler_data/lensed_param.json \n"
     ]
    }
   ],
   "source": [
    "lensed_params = ler.lensed_cbc_statistics(resume=True)"
   ]
  },
  {
   "cell_type": "code",
   "execution_count": 4,
   "id": "bdf27fa9",
   "metadata": {},
   "outputs": [
    {
     "name": "stdout",
     "output_type": "stream",
     "text": [
      "Getting unlensed_param from json file ./ler_data/unlensed_param.json...\n",
      "total unlensed rate (yr^-1): 463.759276495945\n",
      "number of simulated unlensed detectable events: 564\n",
      "number of simulated all unlensed events: 100000\n",
      "storing detectable params in ./ler_data/unlensed_param_detectable.json\n",
      "Getting lensed_param from json file ./ler_data/lensed_param.json...\n",
      "total lensed rate (yr^-1): 0.25846892485844014\n",
      "number of simulated lensed detectable events: 258\n",
      "number of simulated all lensed events: 100000\n",
      "storing detectable params in ./ler_data/lensed_param_detectable.json\n",
      "unlensed_rate: 463.759276495945\n",
      "lensed_rate: 0.25846892485844014\n",
      "ratio: 1794.255447729121\n"
     ]
    }
   ],
   "source": [
    "rates = ler.rate_comparison_with_rate_calculation()"
   ]
  },
  {
   "cell_type": "code",
   "execution_count": null,
   "id": "077da073",
   "metadata": {},
   "outputs": [],
   "source": []
  }
 ],
 "metadata": {
  "kernelspec": {
   "display_name": "ler",
   "language": "python",
   "name": "ler"
  },
  "language_info": {
   "codemirror_mode": {
    "name": "ipython",
    "version": 3
   },
   "file_extension": ".py",
   "mimetype": "text/x-python",
   "name": "python",
   "nbconvert_exporter": "python",
   "pygments_lexer": "ipython3",
   "version": "3.10.18"
  }
 },
 "nbformat": 4,
 "nbformat_minor": 5
}
