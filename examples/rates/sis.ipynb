{
 "cells": [
  {
   "cell_type": "code",
   "execution_count": 7,
   "id": "80a9fc4e",
   "metadata": {},
   "outputs": [
    {
     "name": "stdout",
     "output_type": "stream",
     "text": [
      "\n",
      "Initializing LeR class...\n",
      "\n",
      "\n",
      "Initializing LensGalaxyParameterDistribution class...\n",
      "\n",
      "\n",
      "Initializing OpticalDepth class\n",
      "\n",
      "using lens_redshift_sis1_mp\n",
      "comoving_distance interpolator will be loaded from ./interpolator_pickle/comoving_distance/comoving_distance_0.pickle\n",
      "angular_diameter_distance interpolator will be loaded from ./interpolator_pickle/angular_diameter_distance/angular_diameter_distance_0.pickle\n",
      "differential_comoving_volume interpolator will be loaded from ./interpolator_pickle/differential_comoving_volume/differential_comoving_volume_0.pickle\n",
      "using ler available velocity dispersion function : velocity_dispersion_choi\n",
      "velocity_dispersion_bernardi interpolator will be loaded from ./interpolator_pickle/velocity_dispersion/velocity_dispersion_bernardi_1.pickle\n",
      "using user provided custom axis_ratio function\n",
      "using ler available axis_rotation_angle function : axis_rotation_angle_uniform\n",
      "using ler available density_profile_slope function : density_profile_slope_normal\n",
      "using ler available external_shear function : external_shear_normal\n",
      "using ler available lens_redshift function : lens_redshift_SDSS_catalogue_sis\n",
      "lens_redshift_SDSS_catalogue_sis interpolator will be loaded from ./interpolator_pickle/lens_redshift/lens_redshift_SDSS_catalogue_sis_4.pickle\n",
      "using ler available density_profile_slope_sl function : density_profile_slope_normal\n",
      "using ler available external_shear_sl function : external_shear_normal\n",
      "using ler available optical depth function : optical_depth_sis_haris\n",
      "optical_depth_sis_haris interpolator will be loaded from ./interpolator_pickle/optical_depth/optical_depth_sis_haris_1.pickle\n",
      "\n",
      "Initializing CBCSourceRedshiftDistribution...\n",
      "\n",
      "luminosity_distance interpolator will be loaded from ./interpolator_pickle/luminosity_distance/luminosity_distance_0.pickle\n",
      "differential_comoving_volume interpolator will be loaded from ./interpolator_pickle/differential_comoving_volume/differential_comoving_volume_0.pickle\n",
      "using ler available merger rate density model: merger_rate_density_bbh_popI_II_oguri2018\n",
      "merger_rate_density_bbh_popI_II_oguri2018 interpolator will be loaded from ./interpolator_pickle/merger_rate_density/merger_rate_density_bbh_popI_II_oguri2018_2.pickle\n",
      "merger_rate_density_detector_frame interpolator will be loaded from ./interpolator_pickle/merger_rate_density/merger_rate_density_detector_frame_3.pickle\n",
      "\n",
      "Initializing CBCSourceParameterDistribution...\n",
      "\n",
      "using ler available zs function : source_redshift\n",
      "using ler available source_frame_masses function : binary_masses_BBH_popI_II_powerlaw_gaussian\n",
      "using ler available geocent_time function : sampler_uniform\n",
      "using ler available dec function : sampler_cosine\n",
      "using ler available phase function : sampler_uniform\n",
      "using ler available psi function : sampler_uniform\n",
      "using ler available theta_jn function : sampler_sine\n",
      "luminosity_distance_to_z interpolator will be loaded from ./interpolator_pickle/luminosity_distance_to_z/luminosity_distance_to_z_0.pickle\n",
      "\n",
      "Initializing GWSNR class...\n",
      "\n",
      "psds not given. Choosing bilby's default psds\n",
      "Interpolator will be generated for L1 detector at ./interpolator_pickle/L1/partialSNR_dict_34.pickle\n",
      "Interpolator will be generated for H1 detector at ./interpolator_pickle/H1/partialSNR_dict_34.pickle\n",
      "Interpolator will be generated for V1 detector at ./interpolator_pickle/V1/partialSNR_dict_34.pickle\n",
      "Please be patient while the interpolator is generated\n",
      "Generating interpolator for ['L1', 'H1', 'V1'] detectors\n"
     ]
    },
    {
     "name": "stderr",
     "output_type": "stream",
     "text": [
      "100%|█████████████████████████████████████████████████████████| 4000/4000 [00:01<00:00, 2399.40it/s]"
     ]
    },
    {
     "name": "stdout",
     "output_type": "stream",
     "text": [
      "\n",
      "Saving Partial-SNR for L1 detector with shape (20, 200)\n",
      "\n",
      "Saving Partial-SNR for H1 detector with shape (20, 200)\n",
      "\n",
      "Saving Partial-SNR for V1 detector with shape (20, 200)\n",
      "\n",
      "Chosen GWSNR initialization parameters:\n",
      "\n",
      "npool:  4\n",
      "snr type:  interpolation\n",
      "waveform approximant:  IMRPhenomD\n",
      "sampling frequency:  2048.0\n",
      "minimum frequency (fmin):  20.0\n",
      "mtot=mass1+mass2\n",
      "min(mtot):  9.96\n",
      "max(mtot) (with the given fmin=20.0): 235.0\n",
      "detectors:  ['L1', 'H1', 'V1']\n",
      "psds:  [[array([  10.21659,   10.23975,   10.26296, ..., 4972.81   ,\n",
      "       4984.081  , 4995.378  ]), array([4.43925574e-41, 4.22777986e-41, 4.02102594e-41, ...,\n",
      "       6.51153524e-46, 6.43165104e-46, 6.55252996e-46]), <scipy.interpolate._interpolate.interp1d object at 0x333563060>], [array([  10.21659,   10.23975,   10.26296, ..., 4972.81   ,\n",
      "       4984.081  , 4995.378  ]), array([4.43925574e-41, 4.22777986e-41, 4.02102594e-41, ...,\n",
      "       6.51153524e-46, 6.43165104e-46, 6.55252996e-46]), <scipy.interpolate._interpolate.interp1d object at 0x333562480>], [array([   10.      ,    10.02306 ,    10.046173, ...,\n",
      "        9954.0389  ,  9976.993   , 10000.      ]), array([1.22674387e-42, 1.20400299e-42, 1.18169466e-42, ...,\n",
      "       1.51304203e-43, 1.52010157e-43, 1.52719372e-43]), <scipy.interpolate._interpolate.interp1d object at 0x333552750>]]\n",
      "min(ratio):  0.1\n",
      "max(ratio):  1.0\n",
      "mtot resolution:  200\n",
      "ratio resolution:  20\n",
      "interpolator directory:  ./interpolator_pickle\n",
      "\n",
      "\n",
      "\n",
      " # LeR set up params:\n",
      "npool = 4,\n",
      "z_min = 0.0,\n",
      "z_max = 10.0,\n",
      "event_type = 'BBH',\n",
      "size = 100000,\n",
      "batch_size = 50000,\n",
      "cosmology = LambdaCDM(H0=70.0 km / (Mpc s), Om0=0.3, Ode0=0.7, Tcmb0=0.0 K, Neff=3.04, m_nu=None, Ob0=None),\n",
      "snr_finder = <bound method GWSNR.snr of <gwsnr.core.gwsnr.GWSNR object at 0x333702d40>>,\n",
      "json_file_names = {'ler_params': 'ler_params.json', 'unlensed_param': 'unlensed_param.json', 'unlensed_param_detectable': 'unlensed_param_detectable.json', 'lensed_param': 'lensed_param.json', 'lensed_param_detectable': 'lensed_param_detectable.json'},\n",
      "interpolator_directory = './interpolator_pickle',\n",
      "ler_directory = './ler_data',\n",
      "\n",
      " # LeR also takes CBCSourceParameterDistribution class params as kwargs, as follows:\n",
      "source_priors = {'merger_rate_density': 'merger_rate_density_bbh_popI_II_oguri2018', 'zs': 'source_redshift', 'source_frame_masses': 'binary_masses_BBH_popI_II_powerlaw_gaussian', 'geocent_time': 'sampler_uniform', 'ra': 'sampler_uniform', 'dec': 'sampler_cosine', 'phase': 'sampler_uniform', 'psi': 'sampler_uniform', 'theta_jn': 'sampler_sine'},\n",
      "source_priors_params = {'merger_rate_density': {'R0': 2.39e-08, 'b2': 1.6, 'b3': 2.1, 'b4': 30}, 'zs': None, 'source_frame_masses': {'mminbh': 4.98, 'mmaxbh': 112.5, 'alpha': 3.78, 'mu_g': 32.27, 'sigma_g': 3.88, 'lambda_peak': 0.03, 'delta_m': 4.8, 'beta': 0.81}, 'geocent_time': {'xmin': 1238166018, 'xmax': 1269702018}, 'ra': {'xmin': 0.0, 'xmax': 6.283185307179586}, 'dec': None, 'phase': {'xmin': 0.0, 'xmax': 6.283185307179586}, 'psi': {'xmin': 0.0, 'xmax': 3.141592653589793}, 'theta_jn': None},\n",
      "spin_zero = True,\n",
      "spin_precession = False,\n",
      "create_new_interpolator = False,\n",
      "\n",
      " # LeR also takes LensGalaxyParameterDistribution class params as kwargs, as follows:\n",
      "lens_type = 'sis_galaxy',\n",
      "lens_functions = {'strong_lensing_condition': 'rjs_with_cross_section_sis', 'optical_depth': 'optical_depth_sis_haris', 'param_sampler_type': 'sample_all_routine_sis_sl', 'cross_section': 'cross_section_sis'},\n",
      "lens_param_samplers = {'source_redshift_sl': 'strongly_lensed_source_redshifts', 'lens_redshift': 'lens_redshift_SDSS_catalogue_sis', 'velocity_dispersion': 'velocity_dispersion_choi', 'axis_ratio': <function <lambda> at 0x3336075b0>, 'axis_rotation_angle': 'axis_rotation_angle_uniform', 'external_shear': 'external_shear_normal', 'density_profile_slope': 'density_profile_slope_normal', 'external_shear_sl': 'external_shear_normal', 'density_profile_slope_sl': 'density_profile_slope_normal'},\n",
      "lens_param_samplers_params = {'source_redshift_sl': None, 'lens_redshift': None, 'velocity_dispersion': {'sigma_min': 10.0, 'sigma_max': 420.0, 'alpha': 2.32, 'beta': 2.67, 'phistar': 0.0027439999999999995, 'sigmastar': 161.0}, 'axis_ratio': None, 'axis_rotation_angle': {'phi_min': 0.0, 'phi_max': 0.0}, 'external_shear': {'mean': 0.0, 'std': 0.0}, 'density_profile_slope': {'mean': 2.0, 'std': 0.0}, 'external_shear_sl': {'mean': 0.0, 'std': 0.0}, 'density_profile_slope_sl': {'mean': 2.0, 'std': 0.0}},\n",
      "\n",
      " # LeR also takes ImageProperties class params as kwargs, as follows:\n",
      "n_min_images = 2,\n",
      "n_max_images = 2,\n",
      "time_window = 630720000,\n",
      "lens_model_list = ['EPL_NUMBA', 'SHEAR'],\n",
      "\n",
      " # LeR also takes gwsnr.GWSNR params as kwargs, as follows:\n",
      "mtot_min = 9.96,\n",
      "mtot_max = 235.0,\n",
      "ratio_min = 0.1,\n",
      "ratio_max = 1.0,\n",
      "mtot_resolution = 200,\n",
      "ratio_resolution = 20,\n",
      "sampling_frequency = 2048.0,\n",
      "waveform_approximant = 'IMRPhenomD',\n",
      "minimum_frequency = 20.0,\n",
      "snr_type = 'interpolation',\n",
      "psds = [[array([  10.21659,   10.23975,   10.26296, ..., 4972.81   ,\n",
      "       4984.081  , 4995.378  ]), array([4.43925574e-41, 4.22777986e-41, 4.02102594e-41, ...,\n",
      "       6.51153524e-46, 6.43165104e-46, 6.55252996e-46]), <scipy.interpolate._interpolate.interp1d object at 0x333563060>], [array([  10.21659,   10.23975,   10.26296, ..., 4972.81   ,\n",
      "       4984.081  , 4995.378  ]), array([4.43925574e-41, 4.22777986e-41, 4.02102594e-41, ...,\n",
      "       6.51153524e-46, 6.43165104e-46, 6.55252996e-46]), <scipy.interpolate._interpolate.interp1d object at 0x333562480>], [array([   10.      ,    10.02306 ,    10.046173, ...,\n",
      "        9954.0389  ,  9976.993   , 10000.      ]), array([1.22674387e-42, 1.20400299e-42, 1.18169466e-42, ...,\n",
      "       1.51304203e-43, 1.52010157e-43, 1.52719372e-43]), <scipy.interpolate._interpolate.interp1d object at 0x333552750>]],\n",
      "ifos = None,\n",
      "interpolator_dir = './interpolator_pickle',\n",
      "gwsnr_verbose = True,\n",
      "multiprocessing_verbose = True,\n",
      "mtot_cut = False,\n",
      "\n",
      " For reference, the chosen source parameters are listed below:\n",
      "merger_rate_density = 'merger_rate_density_bbh_popI_II_oguri2018'\n",
      "merger_rate_density_params =  {'R0': 2.39e-08, 'b2': 1.6, 'b3': 2.1, 'b4': 30}\n",
      "source_frame_masses = 'binary_masses_BBH_popI_II_powerlaw_gaussian'\n",
      "source_frame_masses_params =  {'mminbh': 4.98, 'mmaxbh': 112.5, 'alpha': 3.78, 'mu_g': 32.27, 'sigma_g': 3.88, 'lambda_peak': 0.03, 'delta_m': 4.8, 'beta': 0.81}\n",
      "geocent_time = 'sampler_uniform'\n",
      "geocent_time_params =  {'xmin': 1238166018, 'xmax': 1269702018}\n",
      "ra = 'sampler_uniform'\n",
      "ra_params =  {'xmin': 0.0, 'xmax': 6.283185307179586}\n",
      "dec = 'sampler_cosine'\n",
      "dec_params =  None\n",
      "phase = 'sampler_uniform'\n",
      "phase_params =  {'xmin': 0.0, 'xmax': 6.283185307179586}\n",
      "psi = 'sampler_uniform'\n",
      "psi_params =  {'xmin': 0.0, 'xmax': 3.141592653589793}\n",
      "theta_jn = 'sampler_sine'\n",
      "theta_jn_params =  None\n",
      "\n",
      " For reference, the chosen lens related parameters and functions are listed below:\n",
      "lens_redshift = 'lens_redshift_SDSS_catalogue_sis'\n",
      "lens_redshift_params =  None\n",
      "velocity_dispersion = 'velocity_dispersion_choi'\n",
      "velocity_dispersion_params =  {'sigma_min': 10.0, 'sigma_max': 420.0, 'alpha': 2.32, 'beta': 2.67, 'phistar': 0.0027439999999999995, 'sigmastar': 161.0}\n",
      "axis_ratio = '<function <lambda> at 0x3336075b0>'\n",
      "axis_ratio_params =  None\n",
      "axis_rotation_angle = 'axis_rotation_angle_uniform'\n",
      "axis_rotation_angle_params =  {'phi_min': 0.0, 'phi_max': 0.0}\n",
      "shear = 'external_shear_normal'\n",
      "shear_params =  {'mean': 0.0, 'std': 0.0}\n",
      "density_profile_slope = 'density_profile_slope_normal'\n",
      "density_profile_slope_params =  {'mean': 2.0, 'std': 0.0}\n",
      "Lens functions:\n",
      "strong_lensing_condition = 'rjs_with_cross_section_sis'\n",
      "optical_depth = 'optical_depth_sis_haris'\n",
      "optical_depth_params = '{'interpolated_cross_section': True}'\n",
      "param_sampler_type = 'sample_all_routine_sis_sl'\n"
     ]
    },
    {
     "name": "stderr",
     "output_type": "stream",
     "text": [
      "\n"
     ]
    }
   ],
   "source": [
    "# # below is the example of LeR initialization with all the arguments.\n",
    "from ler.rates import LeR\n",
    "import numpy as np\n",
    "import matplotlib.pyplot as plt\n",
    "from astropy.cosmology import LambdaCDM\n",
    "\n",
    "# Uncomment the below code if you need to change the default arguments.\n",
    "ler = LeR(\n",
    "    lens_type=\"sis_galaxy\",\n",
    "    lens_param_samplers={'axis_ratio': lambda size: 0.99*np.ones(size)}, \n",
    "    lens_param_samplers_params={'axis_ratio': None},\n",
    "    n_max_images=2,\n",
    "    )"
   ]
  },
  {
   "cell_type": "code",
   "execution_count": 8,
   "id": "c0c43da3",
   "metadata": {},
   "outputs": [
    {
     "name": "stdout",
     "output_type": "stream",
     "text": [
      "unlensed params will be stored in ./ler_data/unlensed_param.json\n",
      "Batch no. 1\n",
      "sampling gw source params...\n",
      "calculating snrs...\n",
      "Batch no. 2\n",
      "sampling gw source params...\n",
      "calculating snrs...\n",
      "saving all unlensed parameters in ./ler_data/unlensed_param.json \n"
     ]
    }
   ],
   "source": [
    "ler.batch_size=50000\n",
    "unlensed_param = ler.unlensed_cbc_statistics(100000, resume=False)"
   ]
  },
  {
   "cell_type": "code",
   "execution_count": null,
   "id": "87542ebe",
   "metadata": {},
   "outputs": [],
   "source": []
  },
  {
   "cell_type": "code",
   "execution_count": 9,
   "id": "c4d9124a",
   "metadata": {},
   "outputs": [
    {
     "name": "stdout",
     "output_type": "stream",
     "text": [
      "lensed params will be store in ./ler_data/lensed_param.json\n",
      "Batch no. 1\n",
      "sampling lensed params...\n",
      "sampling lens parameters with sample_all_routine_sis_sl...\n"
     ]
    },
    {
     "name": "stderr",
     "output_type": "stream",
     "text": [
      "100%|███████████████████████████████████████████████████████| 50000/50000 [00:13<00:00, 3780.01it/s]\n"
     ]
    },
    {
     "name": "stdout",
     "output_type": "stream",
     "text": [
      "solving lens equations...\n"
     ]
    },
    {
     "name": "stderr",
     "output_type": "stream",
     "text": [
      "100%|███████████████████████████████████████████████████████| 50000/50000 [00:11<00:00, 4430.86it/s]\n"
     ]
    },
    {
     "name": "stdout",
     "output_type": "stream",
     "text": [
      "calculating snrs...\n",
      "Batch no. 2\n",
      "sampling lensed params...\n",
      "sampling lens parameters with sample_all_routine_sis_sl...\n"
     ]
    },
    {
     "name": "stderr",
     "output_type": "stream",
     "text": [
      "100%|███████████████████████████████████████████████████████| 50000/50000 [00:12<00:00, 3879.92it/s]\n"
     ]
    },
    {
     "name": "stdout",
     "output_type": "stream",
     "text": [
      "solving lens equations...\n"
     ]
    },
    {
     "name": "stderr",
     "output_type": "stream",
     "text": [
      "100%|███████████████████████████████████████████████████████| 50000/50000 [00:10<00:00, 4554.03it/s]\n"
     ]
    },
    {
     "name": "stdout",
     "output_type": "stream",
     "text": [
      "calculating snrs...\n",
      "saving all lensed parameters in ./ler_data/lensed_param.json \n"
     ]
    }
   ],
   "source": [
    "lensed_param = ler.lensed_cbc_statistics(100000)"
   ]
  },
  {
   "cell_type": "code",
   "execution_count": 10,
   "id": "8147b9a8",
   "metadata": {},
   "outputs": [
    {
     "name": "stdout",
     "output_type": "stream",
     "text": [
      "Getting unlensed_param from json file ./ler_data/unlensed_param.json...\n",
      "total unlensed rate (yr^-1): 465.4038129374205\n",
      "number of simulated unlensed detectable events: 566\n",
      "number of simulated all unlensed events: 100000\n",
      "storing detectable params in ./ler_data/unlensed_param_detectable.json\n"
     ]
    }
   ],
   "source": [
    "unlensed_param_detectable = ler.unlensed_rate()"
   ]
  },
  {
   "cell_type": "code",
   "execution_count": 11,
   "id": "6e696443",
   "metadata": {},
   "outputs": [
    {
     "name": "stdout",
     "output_type": "stream",
     "text": [
      "Getting lensed_param from json file ./ler_data/lensed_param.json...\n",
      "total lensed rate (yr^-1): 0.1285662513132411\n",
      "number of simulated lensed detectable events: 181\n",
      "number of simulated all lensed events: 100000\n",
      "storing detectable params in ./ler_data/lensed_param_detectable.json\n"
     ]
    }
   ],
   "source": [
    "lensed_param_detectable = ler.lensed_rate()"
   ]
  },
  {
   "cell_type": "code",
   "execution_count": 12,
   "id": "d6665e34",
   "metadata": {},
   "outputs": [
    {
     "name": "stdout",
     "output_type": "stream",
     "text": [
      "unlensed_rate: 465.4038129374205\n",
      "lensed_rate: 0.1285662513132411\n",
      "ratio: 3619.9532006537424\n"
     ]
    },
    {
     "data": {
      "text/plain": [
       "3619.9532006537424"
      ]
     },
     "execution_count": 12,
     "metadata": {},
     "output_type": "execute_result"
    }
   ],
   "source": [
    "ler.rate_ratio()"
   ]
  },
  {
   "cell_type": "code",
   "execution_count": 21,
   "id": "3d8cb705",
   "metadata": {},
   "outputs": [],
   "source": [
    "from ler.lens_galaxy_population import OpticalDepth, LensGalaxyParameterDistribution\n",
    "import numpy as np"
   ]
  },
  {
   "cell_type": "code",
   "execution_count": 22,
   "id": "0ad277b7",
   "metadata": {},
   "outputs": [
    {
     "name": "stdout",
     "output_type": "stream",
     "text": [
      "\n",
      "Initializing LensGalaxyParameterDistribution class...\n",
      "\n",
      "\n",
      "Initializing OpticalDepth class\n",
      "\n",
      "using lens_redshift_sis1_mp\n",
      "comoving_distance interpolator will be loaded from ./interpolator_pickle/comoving_distance/comoving_distance_0.pickle\n",
      "angular_diameter_distance interpolator will be loaded from ./interpolator_pickle/angular_diameter_distance/angular_diameter_distance_0.pickle\n",
      "differential_comoving_volume interpolator will be loaded from ./interpolator_pickle/differential_comoving_volume/differential_comoving_volume_0.pickle\n",
      "using ler available velocity dispersion function : velocity_dispersion_choi\n",
      "velocity_dispersion_bernardi interpolator will be loaded from ./interpolator_pickle/velocity_dispersion/velocity_dispersion_bernardi_1.pickle\n",
      "using user provided custom axis_ratio function\n",
      "using ler available axis_rotation_angle function : axis_rotation_angle_uniform\n",
      "using ler available density_profile_slope function : density_profile_slope_normal\n",
      "using ler available external_shear function : external_shear_normal\n",
      "using ler available lens_redshift function : lens_redshift_SDSS_catalogue_sis\n",
      "lens_redshift_SDSS_catalogue_sis interpolator will be loaded from ./interpolator_pickle/lens_redshift/lens_redshift_SDSS_catalogue_sis_4.pickle\n",
      "using ler available density_profile_slope_sl function : density_profile_slope_normal\n",
      "using ler available external_shear_sl function : external_shear_normal\n",
      "using ler available optical depth function : optical_depth_sis_haris\n",
      "optical_depth_sis_haris interpolator will be loaded from ./interpolator_pickle/optical_depth/optical_depth_sis_haris_1.pickle\n",
      "\n",
      "Initializing CBCSourceRedshiftDistribution...\n",
      "\n",
      "luminosity_distance interpolator will be loaded from ./interpolator_pickle/luminosity_distance/luminosity_distance_0.pickle\n",
      "differential_comoving_volume interpolator will be loaded from ./interpolator_pickle/differential_comoving_volume/differential_comoving_volume_0.pickle\n",
      "using ler available merger rate density model: merger_rate_density_bbh_popI_II_oguri2018\n",
      "merger_rate_density_bbh_popI_II_oguri2018 interpolator will be loaded from ./interpolator_pickle/merger_rate_density/merger_rate_density_bbh_popI_II_oguri2018_2.pickle\n",
      "merger_rate_density_detector_frame interpolator will be loaded from ./interpolator_pickle/merger_rate_density/merger_rate_density_detector_frame_3.pickle\n",
      "\n",
      "Initializing CBCSourceParameterDistribution...\n",
      "\n",
      "using ler available zs function : source_redshift\n",
      "using ler available source_frame_masses function : binary_masses_BBH_popI_II_powerlaw_gaussian\n",
      "using ler available geocent_time function : sampler_uniform\n",
      "using ler available dec function : sampler_cosine\n",
      "using ler available phase function : sampler_uniform\n",
      "using ler available psi function : sampler_uniform\n",
      "using ler available theta_jn function : sampler_sine\n",
      "luminosity_distance_to_z interpolator will be loaded from ./interpolator_pickle/luminosity_distance_to_z/luminosity_distance_to_z_0.pickle\n"
     ]
    }
   ],
   "source": [
    "\n",
    "ler = LensGalaxyParameterDistribution(lens_type=\"sis_galaxy\", lens_param_samplers={'axis_ratio': lambda size: 0.99*np.ones(size)}, lens_param_samplers_params={'axis_ratio': None}, n_max_images=4)"
   ]
  },
  {
   "cell_type": "code",
   "execution_count": 23,
   "id": "f3922488",
   "metadata": {},
   "outputs": [
    {
     "name": "stdout",
     "output_type": "stream",
     "text": [
      "sampling lens parameters with sample_all_routine_sis_sl...\n"
     ]
    },
    {
     "name": "stderr",
     "output_type": "stream",
     "text": [
      "100%|███████████████████████████████████████████████████████████████| 10/10 [00:00<00:00, 46.07it/s]\n"
     ]
    }
   ],
   "source": [
    "lensed_param = ler.sample_lens_parameters(10)"
   ]
  },
  {
   "cell_type": "code",
   "execution_count": 24,
   "id": "05786322",
   "metadata": {},
   "outputs": [
    {
     "data": {
      "text/plain": [
       "{'zl': array([1.62238784, 1.43798735, 2.32989292, 1.04846481,\n",
       "        1.85349739, 0.98760683, 1.85463834, 0.49615148,\n",
       "        0.62891598, 0.77642866]),\n",
       " 'zs': array([5.4570974 , 2.84999411, 8.69888506, 4.17637746,\n",
       "        5.06425694, 7.67306725, 3.41436979, 5.98060854,\n",
       "        1.99189022, 3.9975148 ]),\n",
       " 'sigma': array([177.10720067, 213.11114321, 228.8493424 , 154.63508559,\n",
       "        139.9452115 , 177.1566786 ,  86.3019457 , 132.323081  ,\n",
       "        285.38226604, 303.6142691 ]),\n",
       " 'theta_E': array([1.87479964e-06, 2.00507522e-06, 2.81516602e-06,\n",
       "        1.77473217e-06, 9.98721614e-07, 2.76427801e-06,\n",
       "        2.72995432e-07, 1.89069735e-06, 6.33109053e-06,\n",
       "        7.99352434e-06]),\n",
       " 'q': array([0.99, 0.99, 0.99, 0.99, 0.99, 0.99, 0.99, 0.99, 0.99,\n",
       "        0.99]),\n",
       " 'phi': array([0., 0., 0., 0., 0., 0., 0., 0., 0., 0.]),\n",
       " 'e1': array([0.00502513, 0.00502513, 0.00502513, 0.00502513,\n",
       "        0.00502513, 0.00502513, 0.00502513, 0.00502513,\n",
       "        0.00502513, 0.00502513]),\n",
       " 'e2': array([0., 0., 0., 0., 0., 0., 0., 0., 0., 0.]),\n",
       " 'gamma': array([2., 2., 2., 2., 2., 2., 2., 2., 2., 2.]),\n",
       " 'gamma1': array([0., 0., 0., 0., 0., 0., 0., 0., 0., 0.]),\n",
       " 'gamma2': array([0., 0., 0., 0., 0., 0., 0., 0., 0., 0.]),\n",
       " 'geocent_time': array([1.26681618e+09, 1.26431945e+09, 1.23980303e+09,\n",
       "        1.24341038e+09, 1.26305839e+09, 1.24235144e+09,\n",
       "        1.26480060e+09, 1.24308338e+09, 1.25238191e+09,\n",
       "        1.23868260e+09]),\n",
       " 'ra': array([1.65654786, 2.07795102, 1.5013488 , 0.86489351,\n",
       "        2.36446019, 4.22238088, 4.67095499, 5.99179626,\n",
       "        3.24072526, 0.67573699]),\n",
       " 'dec': array([ 0.3501296 ,  0.83887254,  0.21300877,  0.3963322 ,\n",
       "        -0.55145745, -0.55407588,  1.15427757, -0.7753033 ,\n",
       "         0.69055565, -0.24481731]),\n",
       " 'phase': array([3.1588587 , 0.87477397, 0.14351718, 6.28101588,\n",
       "        4.84259103, 5.5328118 , 4.28752744, 4.60489644,\n",
       "        0.41515059, 2.41149022]),\n",
       " 'psi': array([0.85262447, 0.01508684, 2.67010493, 1.82397518,\n",
       "        1.72962389, 1.99661116, 1.41152272, 1.02620565,\n",
       "        1.8692225 , 1.63989877]),\n",
       " 'theta_jn': array([0.60307909, 2.4076998 , 0.71444296, 1.75420831,\n",
       "        2.0487325 , 1.5789003 , 0.34120096, 2.17622057,\n",
       "        0.73159281, 3.09668657]),\n",
       " 'luminosity_distance': array([51685.08215347, 23899.39895996, 88592.08901962,\n",
       "        37733.19080723, 47356.42533676, 76722.21085138,\n",
       "        29690.66102691, 57511.44566882, 15462.48354006,\n",
       "        35825.40305323]),\n",
       " 'mass_1_source': array([ 8.94808408,  9.91396011, 13.64747553,  6.95015997,\n",
       "        12.27919433,  9.35143367, 10.52956821,  8.69045119,\n",
       "        12.36416167,  7.70303233]),\n",
       " 'mass_2_source': array([ 8.65425149,  7.66841382, 12.40972773,  6.22294624,\n",
       "         9.92262294,  7.89992595,  8.40958217,  8.30051314,\n",
       "        10.12058016,  7.70108199]),\n",
       " 'mass_1': array([ 57.77865047,  38.16868803, 132.36529653,  35.9766514 ,\n",
       "         74.46418941,  81.10561309,  46.48140783,  60.66463782,\n",
       "         36.99221441,  38.49601809]),\n",
       " 'mass_2': array([ 55.88134482,  29.52334806, 120.36052289,  32.21231861,\n",
       "         60.17333501,  68.51658902,  37.12300547,  57.94263293,\n",
       "         30.27966483,  38.48627124])}"
      ]
     },
     "execution_count": 24,
     "metadata": {},
     "output_type": "execute_result"
    }
   ],
   "source": [
    "lensed_param"
   ]
  },
  {
   "cell_type": "code",
   "execution_count": 25,
   "id": "6f2728e0",
   "metadata": {},
   "outputs": [
    {
     "name": "stdout",
     "output_type": "stream",
     "text": [
      "solving lens equations...\n"
     ]
    },
    {
     "name": "stderr",
     "output_type": "stream",
     "text": [
      "100%|██████████████████████████████████████████████████████████████| 10/10 [00:00<00:00, 111.22it/s]\n"
     ]
    },
    {
     "data": {
      "text/plain": [
       "{'zl': array([1.62238784, 1.43798735, 2.32989292, 1.04846481,\n",
       "        1.85349739, 0.98760683, 1.85463834, 0.49615148,\n",
       "        0.62891598, 0.77642866]),\n",
       " 'zs': array([5.4570974 , 2.84999411, 8.69888506, 4.17637746,\n",
       "        5.06425694, 7.67306725, 3.41436979, 5.98060854,\n",
       "        1.99189022, 3.9975148 ]),\n",
       " 'sigma': array([177.10720067, 213.11114321, 228.8493424 , 154.63508559,\n",
       "        139.9452115 , 177.1566786 ,  86.3019457 , 132.323081  ,\n",
       "        285.38226604, 303.6142691 ]),\n",
       " 'theta_E': array([1.87479964e-06, 2.00507522e-06, 2.81516602e-06,\n",
       "        1.77473217e-06, 9.98721614e-07, 2.76427801e-06,\n",
       "        2.72995432e-07, 1.89069735e-06, 6.33109053e-06,\n",
       "        7.99352434e-06]),\n",
       " 'q': array([0.99, 0.99, 0.99, 0.99, 0.99, 0.99, 0.99, 0.99, 0.99,\n",
       "        0.99]),\n",
       " 'phi': array([0., 0., 0., 0., 0., 0., 0., 0., 0., 0.]),\n",
       " 'e1': array([0.00502513, 0.00502513, 0.00502513, 0.00502513,\n",
       "        0.00502513, 0.00502513, 0.00502513, 0.00502513,\n",
       "        0.00502513, 0.00502513]),\n",
       " 'e2': array([0., 0., 0., 0., 0., 0., 0., 0., 0., 0.]),\n",
       " 'gamma': array([2., 2., 2., 2., 2., 2., 2., 2., 2., 2.]),\n",
       " 'gamma1': array([0., 0., 0., 0., 0., 0., 0., 0., 0., 0.]),\n",
       " 'gamma2': array([0., 0., 0., 0., 0., 0., 0., 0., 0., 0.]),\n",
       " 'geocent_time': array([1.26681618e+09, 1.26431945e+09, 1.23980303e+09,\n",
       "        1.24341038e+09, 1.26305839e+09, 1.24235144e+09,\n",
       "        1.26480060e+09, 1.24308338e+09, 1.25238191e+09,\n",
       "        1.23868260e+09]),\n",
       " 'ra': array([1.65654786, 2.07795102, 1.5013488 , 0.86489351,\n",
       "        2.36446019, 4.22238088, 4.67095499, 5.99179626,\n",
       "        3.24072526, 0.67573699]),\n",
       " 'dec': array([ 0.3501296 ,  0.83887254,  0.21300877,  0.3963322 ,\n",
       "        -0.55145745, -0.55407588,  1.15427757, -0.7753033 ,\n",
       "         0.69055565, -0.24481731]),\n",
       " 'phase': array([3.1588587 , 0.87477397, 0.14351718, 6.28101588,\n",
       "        4.84259103, 5.5328118 , 4.28752744, 4.60489644,\n",
       "        0.41515059, 2.41149022]),\n",
       " 'psi': array([0.85262447, 0.01508684, 2.67010493, 1.82397518,\n",
       "        1.72962389, 1.99661116, 1.41152272, 1.02620565,\n",
       "        1.8692225 , 1.63989877]),\n",
       " 'theta_jn': array([0.60307909, 2.4076998 , 0.71444296, 1.75420831,\n",
       "        2.0487325 , 1.5789003 , 0.34120096, 2.17622057,\n",
       "        0.73159281, 3.09668657]),\n",
       " 'luminosity_distance': array([51685.08215347, 23899.39895996, 88592.08901962,\n",
       "        37733.19080723, 47356.42533676, 76722.21085138,\n",
       "        29690.66102691, 57511.44566882, 15462.48354006,\n",
       "        35825.40305323]),\n",
       " 'mass_1_source': array([ 8.94808408,  9.91396011, 13.64747553,  6.95015997,\n",
       "        12.27919433,  9.35143367, 10.52956821,  8.69045119,\n",
       "        12.36416167,  7.70303233]),\n",
       " 'mass_2_source': array([ 8.65425149,  7.66841382, 12.40972773,  6.22294624,\n",
       "         9.92262294,  7.89992595,  8.40958217,  8.30051314,\n",
       "        10.12058016,  7.70108199]),\n",
       " 'mass_1': array([ 57.77865047,  38.16868803, 132.36529653,  35.9766514 ,\n",
       "         74.46418941,  81.10561309,  46.48140783,  60.66463782,\n",
       "         36.99221441,  38.49601809]),\n",
       " 'mass_2': array([ 55.88134482,  29.52334806, 120.36052289,  32.21231861,\n",
       "         60.17333501,  68.51658902,  37.12300547,  57.94263293,\n",
       "         30.27966483,  38.48627124]),\n",
       " 'x0_image_positions': array([[-1.26329439,  0.38989101,         nan,         nan],\n",
       "        [-1.26329439,  0.38989101,         nan,         nan],\n",
       "        [-1.26329439,  0.38989101,         nan,         nan],\n",
       "        [-1.26329439,  0.38989101,         nan,         nan],\n",
       "        [-1.42208858,  0.34844572,         nan,         nan],\n",
       "        [-1.42208858,  0.34844572,         nan,         nan],\n",
       "        [-1.42208858,  0.34844572,         nan,         nan],\n",
       "        [-1.42208858,  0.34844572,         nan,         nan],\n",
       "        [-1.83819037,  0.15413706,         nan,         nan],\n",
       "        [-1.83819037,  0.15413706,         nan,         nan]]),\n",
       " 'x1_image_positions': array([[ 0.86346799, -0.25984195,         nan,         nan],\n",
       "        [ 0.86346799, -0.25984195,         nan,         nan],\n",
       "        [ 0.86346799, -0.25984195,         nan,         nan],\n",
       "        [ 0.86346799, -0.25984195,         nan,         nan],\n",
       "        [ 0.74694522, -0.17901836,         nan,         nan],\n",
       "        [ 0.74694522, -0.17901836,         nan,         nan],\n",
       "        [ 0.74694522, -0.17901836,         nan,         nan],\n",
       "        [ 0.74694522, -0.17901836,         nan,         nan],\n",
       "        [-0.12148956,  0.01002624,         nan,         nan],\n",
       "        [-0.12148956,  0.01002624,         nan,         nan]]),\n",
       " 'magnifications': array([[ 2.89596357, -0.87845648,         nan,         nan],\n",
       "        [ 2.89596357, -0.87845648,         nan,         nan],\n",
       "        [ 2.89596357, -0.87845648,         nan,         nan],\n",
       "        [ 2.89596357, -0.87845648,         nan,         nan],\n",
       "        [ 2.66175737, -0.64096934,         nan,         nan],\n",
       "        [ 2.66175737, -0.64096934,         nan,         nan],\n",
       "        [ 2.66175737, -0.64096934,         nan,         nan],\n",
       "        [ 2.66175737, -0.64096934,         nan,         nan],\n",
       "        [ 2.20041172, -0.18160728,         nan,         nan],\n",
       "        [ 2.20041172, -0.18160728,         nan,         nan]]),\n",
       " 'time_delays': array([[       0.        ,  4241655.42350433,\n",
       "                       nan,               nan],\n",
       "        [       0.        ,  6094690.67797856,\n",
       "                       nan,               nan],\n",
       "        [       0.        , 13029629.30282959,\n",
       "                       nan,               nan],\n",
       "        [       0.        ,  2287432.74092605,\n",
       "                       nan,               nan],\n",
       "        [       0.        ,  1746245.98822763,\n",
       "                       nan,               nan],\n",
       "        [       0.        ,  5117052.4646746 ,\n",
       "                       nan,               nan],\n",
       "        [       0.        ,   181688.61301524,\n",
       "                       nan,               nan],\n",
       "        [       0.        ,  1120636.33877874,\n",
       "                       nan,               nan],\n",
       "        [       0.        , 29659910.75545549,\n",
       "                       nan,               nan],\n",
       "        [       0.        , 50245564.26090903,\n",
       "                       nan,               nan]]),\n",
       " 'image_type': array([[ 1.,  2., nan, nan],\n",
       "        [ 1.,  2., nan, nan],\n",
       "        [ 1.,  2., nan, nan],\n",
       "        [ 1.,  2., nan, nan],\n",
       "        [ 1.,  2., nan, nan],\n",
       "        [ 1.,  2., nan, nan],\n",
       "        [ 1.,  2., nan, nan],\n",
       "        [ 1.,  2., nan, nan],\n",
       "        [ 1.,  2., nan, nan],\n",
       "        [ 1.,  2., nan, nan]]),\n",
       " 'n_images': array([2, 2, 2, 2, 2, 2, 2, 2, 2, 2]),\n",
       " 'x_source': array([-0.43998567, -0.43998567, -0.43998567, -0.43998567,\n",
       "        -0.53891165, -0.53891165, -0.53891165, -0.53891165,\n",
       "        -0.84206084, -0.84206084]),\n",
       " 'y_source': array([ 0.29694745,  0.29694745,  0.29694745,  0.29694745,\n",
       "         0.27993983,  0.27993983,  0.27993983,  0.27993983,\n",
       "        -0.05521024, -0.05521024])}"
      ]
     },
     "execution_count": 25,
     "metadata": {},
     "output_type": "execute_result"
    }
   ],
   "source": [
    "ler.image_properties(lensed_param)"
   ]
  },
  {
   "cell_type": "code",
   "execution_count": 26,
   "id": "a7a0986a",
   "metadata": {},
   "outputs": [
    {
     "name": "stdout",
     "output_type": "stream",
     "text": [
      "\n",
      "Initializing GWSNR class...\n",
      "\n",
      "psds not given. Choosing bilby's default psds\n",
      "Interpolator will be generated for L1 detector at ./interpolator_pickle/L1/partialSNR_dict_24.pickle\n",
      "Interpolator will be generated for H1 detector at ./interpolator_pickle/H1/partialSNR_dict_24.pickle\n",
      "Interpolator will be generated for V1 detector at ./interpolator_pickle/V1/partialSNR_dict_24.pickle\n",
      "Please be patient while the interpolator is generated\n",
      "Generating interpolator for ['L1', 'H1', 'V1'] detectors\n"
     ]
    },
    {
     "name": "stderr",
     "output_type": "stream",
     "text": [
      "100%|█████████████████████████████████████████████████████████| 4000/4000 [00:01<00:00, 2558.71it/s]"
     ]
    },
    {
     "name": "stdout",
     "output_type": "stream",
     "text": [
      "\n",
      "Saving Partial-SNR for L1 detector with shape (20, 200)\n",
      "\n",
      "Saving Partial-SNR for H1 detector with shape (20, 200)\n",
      "\n",
      "Saving Partial-SNR for V1 detector with shape (20, 200)\n",
      "\n",
      "\n"
     ]
    },
    {
     "name": "stderr",
     "output_type": "stream",
     "text": [
      "\n"
     ]
    }
   ],
   "source": [
    "from gwsnr import GWSNR\n",
    "\n",
    "gwsnr = GWSNR(gwsnr_verbose=False)"
   ]
  },
  {
   "cell_type": "code",
   "execution_count": 27,
   "id": "e348a259",
   "metadata": {},
   "outputs": [
    {
     "name": "stdout",
     "output_type": "stream",
     "text": [
      "geocent_time_max: 1869402597.3910902\n",
      "geocent_time_min: 1238682597.3910902\n",
      "Number of events within the time window: 10 out of 10\n",
      "Effective Luminosity Distance: [30371.66938964 14043.98742499 52059.3085303  22173.12904351\n",
      " 29026.50053491 47025.87407054 18198.50172497 35250.88721538\n",
      " 10423.82893194 24151.22201276]\n",
      "Effective Geocentric Time: [1.26681618e+09 1.26431945e+09 1.23980303e+09 1.24341038e+09\n",
      " 1.26305839e+09 1.24235144e+09 1.26480060e+09 1.24308338e+09\n",
      " 1.25238191e+09 1.23868260e+09]\n",
      "Effective Phase: [3.1588587  0.87477397 0.14351718 6.28101588 4.84259103\n",
      " 5.5328118  4.28752744 4.60489644 0.41515059 2.41149022]\n",
      "mass_1: [ 57.77865047  38.16868803 132.36529653  35.9766514\n",
      "  74.46418941  81.10561309  46.48140783  60.66463782\n",
      "  36.99221441  38.49601809]\n",
      "mass_2: [ 55.88134482  29.52334806 120.36052289  32.21231861\n",
      "  60.17333501  68.51658902  37.12300547  57.94263293\n",
      "  30.27966483  38.48627124]\n",
      "geocent_time_max: 1869402597.3910902\n",
      "geocent_time_min: 1238682597.3910902\n",
      "Number of events within the time window: 10 out of 10\n",
      "Effective Luminosity Distance: [55144.86610794 25499.21758456 94522.41698491 40259.03932418\n",
      " 59150.75381037 95830.21888975 37085.25228375 71834.92714756\n",
      " 36283.78825032 84066.7888181 ]\n",
      "Effective Geocentric Time: [1.27105784e+09 1.27041414e+09 1.25283266e+09 1.24569781e+09\n",
      " 1.26480463e+09 1.24746849e+09 1.26498229e+09 1.24420401e+09\n",
      " 1.28204182e+09 1.28892816e+09]\n",
      "Effective Phase: [ 1.58806237 -0.69602235 -1.42727914  4.71021956  3.27179471\n",
      "  3.96201547  2.71673111  3.03410011 -1.15564573  0.84069389]\n",
      "mass_1: [ 57.77865047  38.16868803 132.36529653  35.9766514\n",
      "  74.46418941  81.10561309  46.48140783  60.66463782\n",
      "  36.99221441  38.49601809]\n",
      "mass_2: [ 55.88134482  29.52334806 120.36052289  32.21231861\n",
      "  60.17333501  68.51658902  37.12300547  57.94263293\n",
      "  30.27966483  38.48627124]\n",
      "geocent_time_max: 1869402597.3910902\n",
      "geocent_time_min: 1238682597.3910902\n",
      "Number of events within the time window: 0 out of 10\n",
      "Effective Luminosity Distance: [nan nan nan nan nan nan nan nan nan nan]\n",
      "Effective Geocentric Time: [nan nan nan nan nan nan nan nan nan nan]\n",
      "Effective Phase: [nan nan nan nan nan nan nan nan nan nan]\n",
      "mass_1: [ 57.77865047  38.16868803 132.36529653  35.9766514\n",
      "  74.46418941  81.10561309  46.48140783  60.66463782\n",
      "  36.99221441  38.49601809]\n",
      "mass_2: [ 55.88134482  29.52334806 120.36052289  32.21231861\n",
      "  60.17333501  68.51658902  37.12300547  57.94263293\n",
      "  30.27966483  38.48627124]\n"
     ]
    },
    {
     "ename": "ValueError",
     "evalue": "Parameter 'mass_1' contains invalid values: []",
     "output_type": "error",
     "traceback": [
      "\u001b[0;31m---------------------------------------------------------------------------\u001b[0m",
      "\u001b[0;31mValueError\u001b[0m                                Traceback (most recent call last)",
      "Cell \u001b[0;32mIn[27], line 1\u001b[0m\n\u001b[0;32m----> 1\u001b[0m \u001b[43mler\u001b[49m\u001b[38;5;241;43m.\u001b[39;49m\u001b[43mget_lensed_snrs\u001b[49m\u001b[43m(\u001b[49m\u001b[43mlensed_param\u001b[49m\u001b[43m,\u001b[49m\u001b[43m \u001b[49m\u001b[43mlist_of_detectors\u001b[49m\u001b[38;5;241;43m=\u001b[39;49m\u001b[43m[\u001b[49m\u001b[38;5;124;43m'\u001b[39;49m\u001b[38;5;124;43mL1\u001b[39;49m\u001b[38;5;124;43m'\u001b[39;49m\u001b[43m,\u001b[49m\u001b[43m \u001b[49m\u001b[38;5;124;43m'\u001b[39;49m\u001b[38;5;124;43mH1\u001b[39;49m\u001b[38;5;124;43m'\u001b[39;49m\u001b[43m,\u001b[49m\u001b[43m \u001b[49m\u001b[38;5;124;43m'\u001b[39;49m\u001b[38;5;124;43mV1\u001b[39;49m\u001b[38;5;124;43m'\u001b[39;49m\u001b[43m]\u001b[49m\u001b[43m,\u001b[49m\u001b[43m \u001b[49m\u001b[43msnr_calculator\u001b[49m\u001b[38;5;241;43m=\u001b[39;49m\u001b[43mgwsnr\u001b[49m\u001b[38;5;241;43m.\u001b[39;49m\u001b[43msnr\u001b[49m\u001b[43m)\u001b[49m\n",
      "File \u001b[0;32m~/phd/mypackages/ler/ler/image_properties/image_properties.py:508\u001b[0m, in \u001b[0;36mImageProperties.get_lensed_snrs\u001b[0;34m(self, lensed_param, list_of_detectors, snr_calculator, pdet_calculator)\u001b[0m\n\u001b[1;32m    505\u001b[0m \u001b[38;5;28;01mif\u001b[39;00m \u001b[38;5;28mlen\u001b[39m(effective_luminosity_distance) \u001b[38;5;241m!=\u001b[39m \u001b[38;5;241m0\u001b[39m:\n\u001b[1;32m    506\u001b[0m     \u001b[38;5;66;03m# Returns a dictionary\u001b[39;00m\n\u001b[1;32m    507\u001b[0m     \u001b[38;5;28;01mif\u001b[39;00m snr_calculator:\n\u001b[0;32m--> 508\u001b[0m         optimal_snr \u001b[38;5;241m=\u001b[39m \u001b[43msnr_calculator\u001b[49m\u001b[43m(\u001b[49m\n\u001b[1;32m    509\u001b[0m \u001b[43m            \u001b[49m\u001b[43mgw_param_dict\u001b[49m\u001b[38;5;241;43m=\u001b[39;49m\u001b[43m \u001b[49m\u001b[38;5;28;43mdict\u001b[39;49m\u001b[43m(\u001b[49m\n\u001b[1;32m    510\u001b[0m \u001b[43m                \u001b[49m\u001b[43mmass_1\u001b[49m\u001b[38;5;241;43m=\u001b[39;49m\u001b[43mmass_1\u001b[49m\u001b[43m[\u001b[49m\u001b[43midx\u001b[49m\u001b[43m]\u001b[49m\u001b[43m,\u001b[49m\n\u001b[1;32m    511\u001b[0m \u001b[43m                \u001b[49m\u001b[43mmass_2\u001b[49m\u001b[38;5;241;43m=\u001b[39;49m\u001b[43mmass_2\u001b[49m\u001b[43m[\u001b[49m\u001b[43midx\u001b[49m\u001b[43m]\u001b[49m\u001b[43m,\u001b[49m\n\u001b[1;32m    512\u001b[0m \u001b[43m                \u001b[49m\u001b[43mluminosity_distance\u001b[49m\u001b[38;5;241;43m=\u001b[39;49m\u001b[43meffective_luminosity_distance\u001b[49m\u001b[43m[\u001b[49m\u001b[43midx\u001b[49m\u001b[43m]\u001b[49m\u001b[43m,\u001b[49m\n\u001b[1;32m    513\u001b[0m \u001b[43m                \u001b[49m\u001b[43mtheta_jn\u001b[49m\u001b[38;5;241;43m=\u001b[39;49m\u001b[43mtheta_jn\u001b[49m\u001b[43m[\u001b[49m\u001b[43midx\u001b[49m\u001b[43m]\u001b[49m\u001b[43m,\u001b[49m\n\u001b[1;32m    514\u001b[0m \u001b[43m                \u001b[49m\u001b[43mpsi\u001b[49m\u001b[38;5;241;43m=\u001b[39;49m\u001b[43mpsi\u001b[49m\u001b[43m[\u001b[49m\u001b[43midx\u001b[49m\u001b[43m]\u001b[49m\u001b[43m,\u001b[49m\n\u001b[1;32m    515\u001b[0m \u001b[43m                \u001b[49m\u001b[43mphase\u001b[49m\u001b[38;5;241;43m=\u001b[39;49m\u001b[43m \u001b[49m\u001b[43meffective_phase\u001b[49m\u001b[43m[\u001b[49m\u001b[43midx\u001b[49m\u001b[43m]\u001b[49m\u001b[43m,\u001b[49m\n\u001b[1;32m    516\u001b[0m \u001b[43m                \u001b[49m\u001b[43mgeocent_time\u001b[49m\u001b[38;5;241;43m=\u001b[39;49m\u001b[43meffective_geocent_time\u001b[49m\u001b[43m[\u001b[49m\u001b[43midx\u001b[49m\u001b[43m]\u001b[49m\u001b[43m,\u001b[49m\n\u001b[1;32m    517\u001b[0m \u001b[43m                \u001b[49m\u001b[43mra\u001b[49m\u001b[38;5;241;43m=\u001b[39;49m\u001b[43mra\u001b[49m\u001b[43m[\u001b[49m\u001b[43midx\u001b[49m\u001b[43m]\u001b[49m\u001b[43m,\u001b[49m\n\u001b[1;32m    518\u001b[0m \u001b[43m                \u001b[49m\u001b[43mdec\u001b[49m\u001b[38;5;241;43m=\u001b[39;49m\u001b[43mdec\u001b[49m\u001b[43m[\u001b[49m\u001b[43midx\u001b[49m\u001b[43m]\u001b[49m\u001b[43m,\u001b[49m\n\u001b[1;32m    519\u001b[0m \u001b[43m                \u001b[49m\u001b[43ma_1\u001b[49m\u001b[38;5;241;43m=\u001b[39;49m\u001b[43ma_1\u001b[49m\u001b[43m[\u001b[49m\u001b[43midx\u001b[49m\u001b[43m]\u001b[49m\u001b[43m,\u001b[49m\n\u001b[1;32m    520\u001b[0m \u001b[43m                \u001b[49m\u001b[43ma_2\u001b[49m\u001b[38;5;241;43m=\u001b[39;49m\u001b[43ma_2\u001b[49m\u001b[43m[\u001b[49m\u001b[43midx\u001b[49m\u001b[43m]\u001b[49m\u001b[43m,\u001b[49m\n\u001b[1;32m    521\u001b[0m \u001b[43m                \u001b[49m\u001b[43mtilt_1\u001b[49m\u001b[38;5;241;43m=\u001b[39;49m\u001b[43mtilt_1\u001b[49m\u001b[43m[\u001b[49m\u001b[43midx\u001b[49m\u001b[43m]\u001b[49m\u001b[43m,\u001b[49m\n\u001b[1;32m    522\u001b[0m \u001b[43m                \u001b[49m\u001b[43mtilt_2\u001b[49m\u001b[38;5;241;43m=\u001b[39;49m\u001b[43mtilt_2\u001b[49m\u001b[43m[\u001b[49m\u001b[43midx\u001b[49m\u001b[43m]\u001b[49m\u001b[43m,\u001b[49m\n\u001b[1;32m    523\u001b[0m \u001b[43m                \u001b[49m\u001b[43mphi_12\u001b[49m\u001b[38;5;241;43m=\u001b[39;49m\u001b[43mphi_12\u001b[49m\u001b[43m[\u001b[49m\u001b[43midx\u001b[49m\u001b[43m]\u001b[49m\u001b[43m,\u001b[49m\n\u001b[1;32m    524\u001b[0m \u001b[43m                \u001b[49m\u001b[43mphi_jl\u001b[49m\u001b[38;5;241;43m=\u001b[39;49m\u001b[43mphi_jl\u001b[49m\u001b[43m[\u001b[49m\u001b[43midx\u001b[49m\u001b[43m]\u001b[49m\u001b[43m,\u001b[49m\n\u001b[1;32m    525\u001b[0m \u001b[43m            \u001b[49m\u001b[43m)\u001b[49m\u001b[43m,\u001b[49m\n\u001b[1;32m    526\u001b[0m \u001b[43m            \u001b[49m\u001b[43moutput_jsonfile\u001b[49m\u001b[38;5;241;43m=\u001b[39;49m\u001b[38;5;28;43;01mFalse\u001b[39;49;00m\u001b[43m,\u001b[49m\n\u001b[1;32m    527\u001b[0m \u001b[43m        \u001b[49m\u001b[43m)\u001b[49m\n\u001b[1;32m    528\u001b[0m         result_dict[\u001b[38;5;124m\"\u001b[39m\u001b[38;5;124moptimal_snr_net\u001b[39m\u001b[38;5;124m\"\u001b[39m][idx, i] \u001b[38;5;241m=\u001b[39m optimal_snr[\u001b[38;5;124m\"\u001b[39m\u001b[38;5;124moptimal_snr_net\u001b[39m\u001b[38;5;124m\"\u001b[39m]\n\u001b[1;32m    530\u001b[0m         \u001b[38;5;28;01mif\u001b[39;00m list_of_detectors:\n",
      "File \u001b[0;32m~/phd/mypackages/gwsnr/gwsnr/core/gwsnr.py:1317\u001b[0m, in \u001b[0;36mGWSNR.snr\u001b[0;34m(self, mass_1, mass_2, luminosity_distance, theta_jn, psi, phase, geocent_time, ra, dec, a_1, a_2, tilt_1, tilt_2, phi_12, phi_jl, lambda_1, lambda_2, eccentricity, gw_param_dict, output_jsonfile)\u001b[0m\n\u001b[1;32m   1314\u001b[0m         gw_param_dict[\u001b[38;5;124m\"\u001b[39m\u001b[38;5;124ma_1\u001b[39m\u001b[38;5;124m\"\u001b[39m] \u001b[38;5;241m=\u001b[39m a_1\n\u001b[1;32m   1315\u001b[0m         gw_param_dict[\u001b[38;5;124m\"\u001b[39m\u001b[38;5;124ma_2\u001b[39m\u001b[38;5;124m\"\u001b[39m] \u001b[38;5;241m=\u001b[39m a_2\n\u001b[0;32m-> 1317\u001b[0m snr_dict \u001b[38;5;241m=\u001b[39m \u001b[38;5;28;43mself\u001b[39;49m\u001b[38;5;241;43m.\u001b[39;49m\u001b[43msnr_with_interpolation\u001b[49m\u001b[43m(\u001b[49m\n\u001b[1;32m   1318\u001b[0m \u001b[43m    \u001b[49m\u001b[43mgw_param_dict\u001b[49m\u001b[38;5;241;43m=\u001b[39;49m\u001b[43mgw_param_dict\u001b[49m\u001b[43m,\u001b[49m\n\u001b[1;32m   1319\u001b[0m \u001b[43m    \u001b[49m\u001b[43moutput_jsonfile\u001b[49m\u001b[38;5;241;43m=\u001b[39;49m\u001b[43moutput_jsonfile\u001b[49m\u001b[43m,\u001b[49m\n\u001b[1;32m   1320\u001b[0m \u001b[43m\u001b[49m\u001b[43m)\u001b[49m\n\u001b[1;32m   1321\u001b[0m gw_param_dict[\u001b[38;5;124m'\u001b[39m\u001b[38;5;124ma_1\u001b[39m\u001b[38;5;124m'\u001b[39m] \u001b[38;5;241m=\u001b[39m a_1_old\n\u001b[1;32m   1322\u001b[0m gw_param_dict[\u001b[38;5;124m'\u001b[39m\u001b[38;5;124ma_2\u001b[39m\u001b[38;5;124m'\u001b[39m] \u001b[38;5;241m=\u001b[39m a_2_old\n",
      "File \u001b[0;32m~/phd/mypackages/gwsnr/gwsnr/core/gwsnr.py:1756\u001b[0m, in \u001b[0;36mGWSNR.snr_with_interpolation\u001b[0;34m(self, mass_1, mass_2, luminosity_distance, theta_jn, psi, phase, geocent_time, ra, dec, a_1, a_2, output_jsonfile, gw_param_dict)\u001b[0m\n\u001b[1;32m   1754\u001b[0m \u001b[38;5;66;03m# getting the parameters from the dictionary\u001b[39;00m\n\u001b[1;32m   1755\u001b[0m \u001b[38;5;28;01mif\u001b[39;00m gw_param_dict \u001b[38;5;129;01mis\u001b[39;00m \u001b[38;5;129;01mnot\u001b[39;00m \u001b[38;5;28;01mFalse\u001b[39;00m:\n\u001b[0;32m-> 1756\u001b[0m     mass_1, mass_2, luminosity_distance, theta_jn, psi, phase, geocent_time, ra, dec, a_1, a_2, _, _, _, _, _, _, _ \u001b[38;5;241m=\u001b[39m \u001b[43mget_gw_parameters\u001b[49m\u001b[43m(\u001b[49m\u001b[43mgw_param_dict\u001b[49m\u001b[43m)\u001b[49m\n\u001b[1;32m   1757\u001b[0m \u001b[38;5;28;01melse\u001b[39;00m:\n\u001b[1;32m   1758\u001b[0m     mass_1, mass_2, luminosity_distance, theta_jn, psi, phase, geocent_time, ra, dec, a_1, a_2, _, _, _, _, _, _, _ \u001b[38;5;241m=\u001b[39m get_gw_parameters(\u001b[38;5;28mdict\u001b[39m(mass_1\u001b[38;5;241m=\u001b[39mmass_1, mass_2\u001b[38;5;241m=\u001b[39mmass_2, luminosity_distance\u001b[38;5;241m=\u001b[39mluminosity_distance, theta_jn\u001b[38;5;241m=\u001b[39mtheta_jn, psi\u001b[38;5;241m=\u001b[39mpsi, phase\u001b[38;5;241m=\u001b[39mphase, geocent_time\u001b[38;5;241m=\u001b[39mgeocent_time, ra\u001b[38;5;241m=\u001b[39mra, dec\u001b[38;5;241m=\u001b[39mdec, a_1\u001b[38;5;241m=\u001b[39ma_1, a_2\u001b[38;5;241m=\u001b[39ma_2))\n",
      "File \u001b[0;32m~/phd/mypackages/gwsnr/gwsnr/utils/utils.py:756\u001b[0m, in \u001b[0;36mget_gw_parameters\u001b[0;34m(gw_param_dict)\u001b[0m\n\u001b[1;32m    754\u001b[0m \u001b[38;5;28;01mif\u001b[39;00m \u001b[38;5;28misinstance\u001b[39m(value, (\u001b[38;5;28mlist\u001b[39m, np\u001b[38;5;241m.\u001b[39mndarray)):\n\u001b[1;32m    755\u001b[0m     \u001b[38;5;28;01mif\u001b[39;00m \u001b[38;5;28mlen\u001b[39m(value) \u001b[38;5;241m==\u001b[39m \u001b[38;5;241m0\u001b[39m \u001b[38;5;129;01mor\u001b[39;00m np\u001b[38;5;241m.\u001b[39many(np\u001b[38;5;241m.\u001b[39misnan(value)) \u001b[38;5;129;01mor\u001b[39;00m np\u001b[38;5;241m.\u001b[39many(np\u001b[38;5;241m.\u001b[39misinf(value)):\n\u001b[0;32m--> 756\u001b[0m         \u001b[38;5;28;01mraise\u001b[39;00m \u001b[38;5;167;01mValueError\u001b[39;00m(\u001b[38;5;124mf\u001b[39m\u001b[38;5;124m\"\u001b[39m\u001b[38;5;124mParameter \u001b[39m\u001b[38;5;124m'\u001b[39m\u001b[38;5;132;01m{\u001b[39;00mkey\u001b[38;5;132;01m}\u001b[39;00m\u001b[38;5;124m'\u001b[39m\u001b[38;5;124m contains invalid values: \u001b[39m\u001b[38;5;132;01m{\u001b[39;00mvalue\u001b[38;5;132;01m}\u001b[39;00m\u001b[38;5;124m\"\u001b[39m)\n\u001b[1;32m    757\u001b[0m \u001b[38;5;28;01melif\u001b[39;00m value \u001b[38;5;129;01mis\u001b[39;00m \u001b[38;5;28;01mNone\u001b[39;00m \u001b[38;5;129;01mor\u001b[39;00m np\u001b[38;5;241m.\u001b[39misnan(value) \u001b[38;5;129;01mor\u001b[39;00m np\u001b[38;5;241m.\u001b[39misinf(value):\n\u001b[1;32m    758\u001b[0m     \u001b[38;5;28;01mraise\u001b[39;00m \u001b[38;5;167;01mValueError\u001b[39;00m(\u001b[38;5;124mf\u001b[39m\u001b[38;5;124m\"\u001b[39m\u001b[38;5;124mParameter \u001b[39m\u001b[38;5;124m'\u001b[39m\u001b[38;5;132;01m{\u001b[39;00mkey\u001b[38;5;132;01m}\u001b[39;00m\u001b[38;5;124m'\u001b[39m\u001b[38;5;124m contains invalid value: \u001b[39m\u001b[38;5;132;01m{\u001b[39;00mvalue\u001b[38;5;132;01m}\u001b[39;00m\u001b[38;5;124m\"\u001b[39m)\n",
      "\u001b[0;31mValueError\u001b[0m: Parameter 'mass_1' contains invalid values: []"
     ]
    }
   ],
   "source": [
    "ler.get_lensed_snrs(lensed_param, list_of_detectors=['L1', 'H1', 'V1'], snr_calculator=gwsnr.snr)"
   ]
  },
  {
   "cell_type": "code",
   "execution_count": 30,
   "id": "f5e2af0c",
   "metadata": {},
   "outputs": [],
   "source": [
    "list_of_detectors=['L1', 'H1', 'V1']\n",
    "snr_calculator=gwsnr.snr\n",
    "# needed to calculate effective luminosity distance and effective time delay\n",
    "n_max_images = ler.n_max_images\n",
    "magnifications = lensed_param[\"magnifications\"]\n",
    "time_delays = lensed_param[\"time_delays\"]\n",
    "imgage_type = lensed_param[\"image_type\"]\n",
    "size = len(magnifications)\n",
    "\n",
    "# image type to morse phase\n",
    "imgage_type[imgage_type==1.] = 0.\n",
    "imgage_type[imgage_type==2.] = np.pi/2\n",
    "\n",
    "# Get the binary parameters\n",
    "number_of_lensed_events = len(magnifications)\n",
    "mass_1, mass_2, theta_jn, psi, ra, dec, phase, a_1, a_2, tilt_1, tilt_2, phi_12, phi_jl  = (\n",
    "    lensed_param[\"mass_1\"],\n",
    "    lensed_param[\"mass_2\"],\n",
    "    lensed_param[\"theta_jn\"],\n",
    "    lensed_param[\"psi\"],\n",
    "    lensed_param[\"ra\"],\n",
    "    lensed_param[\"dec\"],\n",
    "    lensed_param[\"phase\"],\n",
    "    np.zeros(size),\n",
    "    np.zeros(size),\n",
    "    np.zeros(size),\n",
    "    np.zeros(size),\n",
    "    np.zeros(size),\n",
    "    np.zeros(size),\n",
    ")\n",
    "if not ler.spin_zero:\n",
    "    a_1, a_2 = (lensed_param[\"a_1\"], lensed_param[\"a_2\"])\n",
    "    if ler.spin_precession:\n",
    "        tilt_1, tilt_2, phi_12, phi_jl = (\n",
    "            lensed_param[\"tilt_1\"],\n",
    "            lensed_param[\"tilt_2\"],\n",
    "            lensed_param[\"phi_12\"],\n",
    "            lensed_param[\"phi_jl\"],\n",
    "        )\n",
    "\n",
    "# setting up snr dictionary\n",
    "result_dict = dict()\n",
    "if snr_calculator:\n",
    "    result_dict[\"optimal_snr_net\"] = (\n",
    "        np.ones((number_of_lensed_events, n_max_images)) * np.nan\n",
    "    )\n",
    "# setting up pdet dictionary\n",
    "elif pdet_calculator:\n",
    "    result_dict[\"pdet_net\"] = (\n",
    "        np.ones((number_of_lensed_events, n_max_images)) * np.nan\n",
    "    )\n",
    "else:\n",
    "    raise ValueError(\"snr_calculator or pdet_calculator not given\")\n",
    "\n",
    "# if detector list are provided for snr or pdet calculation\n",
    "if list_of_detectors:\n",
    "    for detector in list_of_detectors:\n",
    "        result_dict[detector] = (\n",
    "            np.ones((number_of_lensed_events, n_max_images)) * np.nan\n",
    "        )\n",
    "\n",
    "# for updating the lensed_param\n",
    "if \"luminosity_distance\" in lensed_param:\n",
    "    luminosity_distance = lensed_param[\"luminosity_distance\"]\n",
    "    lensed_param[\"effective_luminosity_distance\"] = np.ones((number_of_lensed_events, n_max_images)) * np.nan\n",
    "    dl_eff_present = False\n",
    "elif \"effective_luminosity_distance\" in lensed_param:\n",
    "    dl_eff = lensed_param[\"effective_luminosity_distance\"]\n",
    "    dl_eff_present = True\n",
    "else:\n",
    "    raise ValueError(\"luminosity_distance or effective_luminosity_distance not given\")\n",
    "\n",
    "if \"geocent_time\" in lensed_param:\n",
    "    geocent_time = lensed_param[\"geocent_time\"]\n",
    "    lensed_param[\"effective_geocent_time\"] = np.ones((number_of_lensed_events, n_max_images)) * np.nan\n",
    "    time_eff_present = False\n",
    "elif \"effective_geocent_time\" in lensed_param:\n",
    "    time_eff = lensed_param[\"effective_geocent_time\"]\n",
    "    time_eff_present = True\n",
    "else:\n",
    "    raise ValueError(\"geocent_time or effective_geocent_time not given\")\n",
    "\n",
    "if \"phase\" in lensed_param:\n",
    "    phase = lensed_param[\"phase\"]\n",
    "    lensed_param[\"effective_phase\"] = np.ones((number_of_lensed_events, n_max_images)) * np.nan\n",
    "    phase_eff_present = False\n",
    "elif \"effective_phase\" in lensed_param:\n",
    "    phase_eff = lensed_param[\"effective_phase\"]\n",
    "    phase_eff_present = True\n",
    "else:\n",
    "    raise ValueError(\"phase or effective_phase not given\")\n",
    "\n",
    "\n",
    "# Get the optimal signal to noise ratios for each image\n",
    "# iterate over the image type (column)\n",
    "geocent_time_min = np.min(geocent_time)\n",
    "geocent_time_max = geocent_time_min + ler.time_window\n",
    "for i in range(n_max_images):\n",
    "    \n",
    "    # get the effective time for each image type\n",
    "    if not time_eff_present:\n",
    "        effective_geocent_time = geocent_time + time_delays[:, i]\n",
    "    else:\n",
    "        effective_geocent_time = time_eff[:, i]\n",
    "    # choose only the events that are within the time range and also not nan\n",
    "    idx = (effective_geocent_time <= geocent_time_max) & (effective_geocent_time >= geocent_time_min)\n",
    "    # get the effective luminosity distance for each image type\n",
    "    if not dl_eff_present:\n",
    "        effective_luminosity_distance = luminosity_distance / np.sqrt(\n",
    "            np.abs(magnifications[:, i])\n",
    "        )\n",
    "    else:\n",
    "        effective_luminosity_distance = dl_eff[:, i]\n",
    "    # get the effective phase for each image type\n",
    "    if not phase_eff_present:\n",
    "        effective_phase = phase - imgage_type[:, i]  # morse phase correction\n",
    "    else:\n",
    "        effective_phase = phase_eff[:, i]\n",
    "    \n",
    "    # check for nan values\n",
    "    idx = idx & ~np.isnan(effective_luminosity_distance) & ~np.isnan(effective_geocent_time) & ~np.isnan(effective_phase)\n",
    "    # print(f\"geocent_time_max: {geocent_time_max}\")\n",
    "    # print(f\"geocent_time_min: {geocent_time_min}\")\n",
    "    # print(f\"Number of events within the time window: {np.sum(idx)} out of {size}\")\n",
    "\n",
    "    # Each image has their own effective luminosity distance and effective geocent time\n",
    "    if sum(idx) != 0:\n",
    "        # Returns a dictionary\n",
    "        if snr_calculator:\n",
    "            optimal_snr = snr_calculator(\n",
    "                gw_param_dict= dict(\n",
    "                    mass_1=mass_1[idx],\n",
    "                    mass_2=mass_2[idx],\n",
    "                    luminosity_distance=effective_luminosity_distance[idx],\n",
    "                    theta_jn=theta_jn[idx],\n",
    "                    psi=psi[idx],\n",
    "                    phase= effective_phase[idx],\n",
    "                    geocent_time=effective_geocent_time[idx],\n",
    "                    ra=ra[idx],\n",
    "                    dec=dec[idx],\n",
    "                    a_1=a_1[idx],\n",
    "                    a_2=a_2[idx],\n",
    "                    tilt_1=tilt_1[idx],\n",
    "                    tilt_2=tilt_2[idx],\n",
    "                    phi_12=phi_12[idx],\n",
    "                    phi_jl=phi_jl[idx],\n",
    "                ),\n",
    "                output_jsonfile=False,\n",
    "            )\n",
    "            result_dict[\"optimal_snr_net\"][idx, i] = optimal_snr[\"optimal_snr_net\"]\n",
    "\n",
    "            if list_of_detectors:\n",
    "                for detector in list_of_detectors:\n",
    "                    if detector in optimal_snr:\n",
    "                        result_dict[detector][idx, i] = optimal_snr[detector]"
   ]
  },
  {
   "cell_type": "code",
   "execution_count": 31,
   "id": "aa25df36",
   "metadata": {},
   "outputs": [
    {
     "data": {
      "text/plain": [
       "{'snr_net': array([[1.85420091, 0.48826473,        nan,        nan],\n",
       "        [2.71829603, 1.36471967,        nan,        nan],\n",
       "        [1.41875981, 0.73506137,        nan,        nan],\n",
       "        [0.59938885, 0.39514348,        nan,        nan],\n",
       "        [1.65229911, 0.55335216,        nan,        nan],\n",
       "        [0.42415838, 0.16419361,        nan,        nan],\n",
       "        [2.53023731, 1.12514366,        nan,        nan],\n",
       "        [0.77421359, 0.3739429 ,        nan,        nan],\n",
       "        [2.05937389, 0.56494301,        nan,        nan],\n",
       "        [1.12115674, 0.41745429,        nan,        nan]]),\n",
       " 'L1': array([[1.15157895, 0.38513766,        nan,        nan],\n",
       "        [1.75339661, 0.8118047 ,        nan,        nan],\n",
       "        [0.78228244, 0.58425865,        nan,        nan],\n",
       "        [0.36971236, 0.18332635,        nan,        nan],\n",
       "        [1.22711807, 0.28764913,        nan,        nan],\n",
       "        [0.11765402, 0.07528949,        nan,        nan],\n",
       "        [1.371274  , 0.6094798 ,        nan,        nan],\n",
       "        [0.44413321, 0.20918098,        nan,        nan],\n",
       "        [1.23805681, 0.18709988,        nan,        nan],\n",
       "        [0.28906673, 0.35033192,        nan,        nan]]),\n",
       " 'H1': array([[1.37954261, 0.23729539,        nan,        nan],\n",
       "        [2.05985233, 0.74550622,        nan,        nan],\n",
       "        [0.78056417, 0.29120481,        nan,        nan],\n",
       "        [0.18492153, 0.34034831,        nan,        nan],\n",
       "        [0.91560284, 0.43945274,        nan,        nan],\n",
       "        [0.28582402, 0.13694816,        nan,        nan],\n",
       "        [1.88695613, 0.77133178,        nan,        nan],\n",
       "        [0.41864306, 0.19510212,        nan,        nan],\n",
       "        [1.40063534, 0.08447115,        nan,        nan],\n",
       "        [0.68980703, 0.22440643,        nan,        nan]]),\n",
       " 'V1': array([[0.4569345 , 0.18374526,        nan,        nan],\n",
       "        [0.267847  , 0.80476914,        nan,        nan],\n",
       "        [0.88973768, 0.33787099,        nan,        nan],\n",
       "        [0.43403202, 0.08180981,        nan,        nan],\n",
       "        [0.62124473, 0.17417771,        nan,        nan],\n",
       "        [0.29046944, 0.05036104,        nan,        nan],\n",
       "        [0.98035963, 0.54729326,        nan,        nan],\n",
       "        [0.4763301 , 0.24085634,        nan,        nan],\n",
       "        [0.8639773 , 0.52632582,        nan,        nan],\n",
       "        [0.83522399, 0.03431295,        nan,        nan]])}"
      ]
     },
     "execution_count": 31,
     "metadata": {},
     "output_type": "execute_result"
    }
   ],
   "source": [
    "result_dict"
   ]
  },
  {
   "cell_type": "code",
   "execution_count": null,
   "id": "a48c7ff0",
   "metadata": {},
   "outputs": [],
   "source": []
  }
 ],
 "metadata": {
  "kernelspec": {
   "display_name": "ler",
   "language": "python",
   "name": "ler"
  },
  "language_info": {
   "codemirror_mode": {
    "name": "ipython",
    "version": 3
   },
   "file_extension": ".py",
   "mimetype": "text/x-python",
   "name": "python",
   "nbconvert_exporter": "python",
   "pygments_lexer": "ipython3",
   "version": "3.10.18"
  }
 },
 "nbformat": 4,
 "nbformat_minor": 5
}
